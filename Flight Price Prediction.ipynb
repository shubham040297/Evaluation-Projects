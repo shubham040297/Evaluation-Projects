{
  "cells": [
    {
      "cell_type": "code",
      "execution_count": null,
      "id": "7a9c077f",
      "metadata": {
        "id": "7a9c077f"
      },
      "outputs": [],
      "source": [
        "import pandas as pd\n",
        "import numpy as np\n",
        "import seaborn as sns\n",
        "import matplotlib.pyplot as plt\n",
        "from sklearn.preprocessing import LabelEncoder, StandardScaler\n",
        "from scipy.stats import zscore\n",
        "from sklearn.model_selection import train_test_split, cross_val_score, GridSearchCV\n",
        "from sklearn.linear_model import LinearRegression, Ridge\n",
        "from sklearn.metrics import r2_score, mean_squared_error, mean_absolute_error\n",
        "from sklearn.neighbors import KNeighborsRegressor\n",
        "from sklearn.svm import SVR\n",
        "from sklearn.tree import DecisionTreeRegressor\n",
        "from sklearn.ensemble import RandomForestRegressor\n",
        "import joblib\n",
        "\n",
        "import warnings\n",
        "warnings.filterwarnings('ignore')"
      ]
    },
    {
      "cell_type": "markdown",
      "id": "778510c9",
      "metadata": {
        "id": "778510c9"
      },
      "source": [
        "# Data Collection"
      ]
    },
    {
      "cell_type": "code",
      "execution_count": null,
      "id": "d38bbfef",
      "metadata": {
        "id": "d38bbfef"
      },
      "outputs": [],
      "source": [
        "train = pd.read_excel(r'C:\\Users\\Shubham\\Desktop\\Projects\\Evaluation\\(7)_Flight\\Flight_Ticket_Participant_Datasets\\Data_Train1.xlsx')"
      ]
    },
    {
      "cell_type": "code",
      "execution_count": null,
      "id": "b3eabc11",
      "metadata": {
        "id": "b3eabc11"
      },
      "outputs": [],
      "source": [
        "test = pd.read_excel(r'C:\\Users\\Shubham\\Desktop\\Projects\\Evaluation\\(7)_Flight\\Flight_Ticket_Participant_Datasets\\Test_set1.xlsx')"
      ]
    },
    {
      "cell_type": "markdown",
      "id": "82d12a8e",
      "metadata": {
        "id": "82d12a8e"
      },
      "source": [
        "# Data Understanding"
      ]
    },
    {
      "cell_type": "code",
      "execution_count": null,
      "id": "723bc85f",
      "metadata": {
        "id": "723bc85f",
        "outputId": "af13bbf3-e076-4893-d5df-73ef67c0df69"
      },
      "outputs": [
        {
          "data": {
            "text/html": [
              "<div>\n",
              "<style scoped>\n",
              "    .dataframe tbody tr th:only-of-type {\n",
              "        vertical-align: middle;\n",
              "    }\n",
              "\n",
              "    .dataframe tbody tr th {\n",
              "        vertical-align: top;\n",
              "    }\n",
              "\n",
              "    .dataframe thead th {\n",
              "        text-align: right;\n",
              "    }\n",
              "</style>\n",
              "<table border=\"1\" class=\"dataframe\">\n",
              "  <thead>\n",
              "    <tr style=\"text-align: right;\">\n",
              "      <th></th>\n",
              "      <th>Airline</th>\n",
              "      <th>Date_of_Journey</th>\n",
              "      <th>Source</th>\n",
              "      <th>Destination</th>\n",
              "      <th>Route</th>\n",
              "      <th>Dep_Time</th>\n",
              "      <th>Arrival_Time</th>\n",
              "      <th>Duration</th>\n",
              "      <th>Total_Stops</th>\n",
              "      <th>Additional_Info</th>\n",
              "      <th>Price</th>\n",
              "    </tr>\n",
              "  </thead>\n",
              "  <tbody>\n",
              "    <tr>\n",
              "      <th>0</th>\n",
              "      <td>IndiGo</td>\n",
              "      <td>24/03/2019</td>\n",
              "      <td>Banglore</td>\n",
              "      <td>New Delhi</td>\n",
              "      <td>BLR → DEL</td>\n",
              "      <td>22:20</td>\n",
              "      <td>01:10 22 Mar</td>\n",
              "      <td>2h 50m</td>\n",
              "      <td>non-stop</td>\n",
              "      <td>No info</td>\n",
              "      <td>3897</td>\n",
              "    </tr>\n",
              "    <tr>\n",
              "      <th>1</th>\n",
              "      <td>Air India</td>\n",
              "      <td>1/05/2019</td>\n",
              "      <td>Kolkata</td>\n",
              "      <td>Banglore</td>\n",
              "      <td>CCU → IXR → BBI → BLR</td>\n",
              "      <td>05:50</td>\n",
              "      <td>13:15</td>\n",
              "      <td>7h 25m</td>\n",
              "      <td>2 stops</td>\n",
              "      <td>No info</td>\n",
              "      <td>7662</td>\n",
              "    </tr>\n",
              "    <tr>\n",
              "      <th>2</th>\n",
              "      <td>Jet Airways</td>\n",
              "      <td>9/06/2019</td>\n",
              "      <td>Delhi</td>\n",
              "      <td>Cochin</td>\n",
              "      <td>DEL → LKO → BOM → COK</td>\n",
              "      <td>09:25</td>\n",
              "      <td>04:25 10 Jun</td>\n",
              "      <td>19h</td>\n",
              "      <td>2 stops</td>\n",
              "      <td>No info</td>\n",
              "      <td>13882</td>\n",
              "    </tr>\n",
              "    <tr>\n",
              "      <th>3</th>\n",
              "      <td>IndiGo</td>\n",
              "      <td>12/05/2019</td>\n",
              "      <td>Kolkata</td>\n",
              "      <td>Banglore</td>\n",
              "      <td>CCU → NAG → BLR</td>\n",
              "      <td>18:05</td>\n",
              "      <td>23:30</td>\n",
              "      <td>5h 25m</td>\n",
              "      <td>1 stop</td>\n",
              "      <td>No info</td>\n",
              "      <td>6218</td>\n",
              "    </tr>\n",
              "    <tr>\n",
              "      <th>4</th>\n",
              "      <td>IndiGo</td>\n",
              "      <td>01/03/2019</td>\n",
              "      <td>Banglore</td>\n",
              "      <td>New Delhi</td>\n",
              "      <td>BLR → NAG → DEL</td>\n",
              "      <td>16:50</td>\n",
              "      <td>21:35</td>\n",
              "      <td>4h 45m</td>\n",
              "      <td>1 stop</td>\n",
              "      <td>No info</td>\n",
              "      <td>13302</td>\n",
              "    </tr>\n",
              "  </tbody>\n",
              "</table>\n",
              "</div>"
            ],
            "text/plain": [
              "       Airline Date_of_Journey    Source Destination                  Route  \\\n",
              "0       IndiGo      24/03/2019  Banglore   New Delhi              BLR → DEL   \n",
              "1    Air India       1/05/2019   Kolkata    Banglore  CCU → IXR → BBI → BLR   \n",
              "2  Jet Airways       9/06/2019     Delhi      Cochin  DEL → LKO → BOM → COK   \n",
              "3       IndiGo      12/05/2019   Kolkata    Banglore        CCU → NAG → BLR   \n",
              "4       IndiGo      01/03/2019  Banglore   New Delhi        BLR → NAG → DEL   \n",
              "\n",
              "  Dep_Time  Arrival_Time Duration Total_Stops Additional_Info  Price  \n",
              "0    22:20  01:10 22 Mar   2h 50m    non-stop         No info   3897  \n",
              "1    05:50         13:15   7h 25m     2 stops         No info   7662  \n",
              "2    09:25  04:25 10 Jun      19h     2 stops         No info  13882  \n",
              "3    18:05         23:30   5h 25m      1 stop         No info   6218  \n",
              "4    16:50         21:35   4h 45m      1 stop         No info  13302  "
            ]
          },
          "execution_count": 4,
          "metadata": {},
          "output_type": "execute_result"
        }
      ],
      "source": [
        "pd.set_option(\"display.max_columns\", None)\n",
        "train.head() #Looking into the top 5 rows of the train dataset"
      ]
    },
    {
      "cell_type": "code",
      "execution_count": null,
      "id": "4ebbb226",
      "metadata": {
        "id": "4ebbb226",
        "outputId": "6e7efa4a-2346-4ced-c1a8-16a5733b2bf6"
      },
      "outputs": [
        {
          "data": {
            "text/html": [
              "<div>\n",
              "<style scoped>\n",
              "    .dataframe tbody tr th:only-of-type {\n",
              "        vertical-align: middle;\n",
              "    }\n",
              "\n",
              "    .dataframe tbody tr th {\n",
              "        vertical-align: top;\n",
              "    }\n",
              "\n",
              "    .dataframe thead th {\n",
              "        text-align: right;\n",
              "    }\n",
              "</style>\n",
              "<table border=\"1\" class=\"dataframe\">\n",
              "  <thead>\n",
              "    <tr style=\"text-align: right;\">\n",
              "      <th></th>\n",
              "      <th>Airline</th>\n",
              "      <th>Date_of_Journey</th>\n",
              "      <th>Source</th>\n",
              "      <th>Destination</th>\n",
              "      <th>Route</th>\n",
              "      <th>Dep_Time</th>\n",
              "      <th>Arrival_Time</th>\n",
              "      <th>Duration</th>\n",
              "      <th>Total_Stops</th>\n",
              "      <th>Additional_Info</th>\n",
              "    </tr>\n",
              "  </thead>\n",
              "  <tbody>\n",
              "    <tr>\n",
              "      <th>0</th>\n",
              "      <td>Jet Airways</td>\n",
              "      <td>6/06/2019</td>\n",
              "      <td>Delhi</td>\n",
              "      <td>Cochin</td>\n",
              "      <td>DEL → BOM → COK</td>\n",
              "      <td>17:30</td>\n",
              "      <td>04:25 07 Jun</td>\n",
              "      <td>10h 55m</td>\n",
              "      <td>1 stop</td>\n",
              "      <td>No info</td>\n",
              "    </tr>\n",
              "    <tr>\n",
              "      <th>1</th>\n",
              "      <td>IndiGo</td>\n",
              "      <td>12/05/2019</td>\n",
              "      <td>Kolkata</td>\n",
              "      <td>Banglore</td>\n",
              "      <td>CCU → MAA → BLR</td>\n",
              "      <td>06:20</td>\n",
              "      <td>10:20</td>\n",
              "      <td>4h</td>\n",
              "      <td>1 stop</td>\n",
              "      <td>No info</td>\n",
              "    </tr>\n",
              "    <tr>\n",
              "      <th>2</th>\n",
              "      <td>Jet Airways</td>\n",
              "      <td>21/05/2019</td>\n",
              "      <td>Delhi</td>\n",
              "      <td>Cochin</td>\n",
              "      <td>DEL → BOM → COK</td>\n",
              "      <td>19:15</td>\n",
              "      <td>19:00 22 May</td>\n",
              "      <td>23h 45m</td>\n",
              "      <td>1 stop</td>\n",
              "      <td>In-flight meal not included</td>\n",
              "    </tr>\n",
              "    <tr>\n",
              "      <th>3</th>\n",
              "      <td>Multiple carriers</td>\n",
              "      <td>21/05/2019</td>\n",
              "      <td>Delhi</td>\n",
              "      <td>Cochin</td>\n",
              "      <td>DEL → BOM → COK</td>\n",
              "      <td>08:00</td>\n",
              "      <td>21:00</td>\n",
              "      <td>13h</td>\n",
              "      <td>1 stop</td>\n",
              "      <td>No info</td>\n",
              "    </tr>\n",
              "    <tr>\n",
              "      <th>4</th>\n",
              "      <td>Air Asia</td>\n",
              "      <td>24/06/2019</td>\n",
              "      <td>Banglore</td>\n",
              "      <td>Delhi</td>\n",
              "      <td>BLR → DEL</td>\n",
              "      <td>23:55</td>\n",
              "      <td>02:45 25 Jun</td>\n",
              "      <td>2h 50m</td>\n",
              "      <td>non-stop</td>\n",
              "      <td>No info</td>\n",
              "    </tr>\n",
              "  </tbody>\n",
              "</table>\n",
              "</div>"
            ],
            "text/plain": [
              "             Airline Date_of_Journey    Source Destination            Route  \\\n",
              "0        Jet Airways       6/06/2019     Delhi      Cochin  DEL → BOM → COK   \n",
              "1             IndiGo      12/05/2019   Kolkata    Banglore  CCU → MAA → BLR   \n",
              "2        Jet Airways      21/05/2019     Delhi      Cochin  DEL → BOM → COK   \n",
              "3  Multiple carriers      21/05/2019     Delhi      Cochin  DEL → BOM → COK   \n",
              "4           Air Asia      24/06/2019  Banglore       Delhi        BLR → DEL   \n",
              "\n",
              "  Dep_Time  Arrival_Time Duration Total_Stops              Additional_Info  \n",
              "0    17:30  04:25 07 Jun  10h 55m      1 stop                      No info  \n",
              "1    06:20         10:20       4h      1 stop                      No info  \n",
              "2    19:15  19:00 22 May  23h 45m      1 stop  In-flight meal not included  \n",
              "3    08:00         21:00      13h      1 stop                      No info  \n",
              "4    23:55  02:45 25 Jun   2h 50m    non-stop                      No info  "
            ]
          },
          "execution_count": 5,
          "metadata": {},
          "output_type": "execute_result"
        }
      ],
      "source": [
        "test.head() #Looking into the top 5 rows of test the dataset"
      ]
    },
    {
      "cell_type": "markdown",
      "id": "bfe2fd32",
      "metadata": {
        "id": "bfe2fd32"
      },
      "source": [
        "The only column missing in the test dataframe is the price column, i.e, the target variable."
      ]
    },
    {
      "cell_type": "code",
      "execution_count": null,
      "id": "4484c283",
      "metadata": {
        "id": "4484c283",
        "outputId": "ae69ff1a-3582-44e5-ad17-bc0aa9c42865"
      },
      "outputs": [
        {
          "data": {
            "text/plain": [
              "Index(['Airline', 'Date_of_Journey', 'Source', 'Destination', 'Route',\n",
              "       'Dep_Time', 'Arrival_Time', 'Duration', 'Total_Stops',\n",
              "       'Additional_Info', 'Price'],\n",
              "      dtype='object')"
            ]
          },
          "execution_count": 6,
          "metadata": {},
          "output_type": "execute_result"
        }
      ],
      "source": [
        "train.columns #Calling all the column names of the dataset"
      ]
    },
    {
      "cell_type": "code",
      "execution_count": null,
      "id": "1fa131ae",
      "metadata": {
        "id": "1fa131ae",
        "outputId": "2af907e3-3055-48f2-fc84-436fa6bd12dd"
      },
      "outputs": [
        {
          "name": "stdout",
          "output_type": "stream",
          "text": [
            "<class 'pandas.core.frame.DataFrame'>\n",
            "RangeIndex: 10683 entries, 0 to 10682\n",
            "Data columns (total 11 columns):\n",
            " #   Column           Non-Null Count  Dtype \n",
            "---  ------           --------------  ----- \n",
            " 0   Airline          10683 non-null  object\n",
            " 1   Date_of_Journey  10683 non-null  object\n",
            " 2   Source           10683 non-null  object\n",
            " 3   Destination      10683 non-null  object\n",
            " 4   Route            10682 non-null  object\n",
            " 5   Dep_Time         10683 non-null  object\n",
            " 6   Arrival_Time     10683 non-null  object\n",
            " 7   Duration         10683 non-null  object\n",
            " 8   Total_Stops      10682 non-null  object\n",
            " 9   Additional_Info  10683 non-null  object\n",
            " 10  Price            10683 non-null  int64 \n",
            "dtypes: int64(1), object(10)\n",
            "memory usage: 918.2+ KB\n"
          ]
        }
      ],
      "source": [
        "train.info() #Basic info of the dataset"
      ]
    },
    {
      "cell_type": "markdown",
      "id": "4ba6b001",
      "metadata": {
        "id": "4ba6b001"
      },
      "source": [
        "We see most of the data is object type and only the dependant variable to be numerical data."
      ]
    },
    {
      "cell_type": "code",
      "execution_count": null,
      "id": "d50f49a5",
      "metadata": {
        "id": "d50f49a5",
        "outputId": "6bdb629a-2d43-4573-ec25-2943319189ae"
      },
      "outputs": [
        {
          "data": {
            "text/plain": [
              "(10683, 11)"
            ]
          },
          "execution_count": 8,
          "metadata": {},
          "output_type": "execute_result"
        }
      ],
      "source": [
        "train.shape #Looking into the shape of the dataset"
      ]
    },
    {
      "cell_type": "code",
      "execution_count": null,
      "id": "62a4928f",
      "metadata": {
        "id": "62a4928f",
        "outputId": "d42e545d-d9de-409e-c230-42571040abec"
      },
      "outputs": [
        {
          "data": {
            "text/plain": [
              "Airline            0\n",
              "Date_of_Journey    0\n",
              "Source             0\n",
              "Destination        0\n",
              "Route              1\n",
              "Dep_Time           0\n",
              "Arrival_Time       0\n",
              "Duration           0\n",
              "Total_Stops        1\n",
              "Additional_Info    0\n",
              "Price              0\n",
              "dtype: int64"
            ]
          },
          "execution_count": 9,
          "metadata": {},
          "output_type": "execute_result"
        }
      ],
      "source": [
        "train.isnull().sum() #Checking for null values again"
      ]
    },
    {
      "cell_type": "markdown",
      "id": "e24543d1",
      "metadata": {
        "id": "e24543d1"
      },
      "source": [
        "We see there is only 2 null values, one in route and total_stops each. Since we have more than 10000 rows of data, we shall drop the rows with null values."
      ]
    },
    {
      "cell_type": "code",
      "execution_count": null,
      "id": "7cd09ebe",
      "metadata": {
        "id": "7cd09ebe"
      },
      "outputs": [],
      "source": [
        "train.dropna(inplace=True) #Dropping the rows with null values"
      ]
    },
    {
      "cell_type": "code",
      "execution_count": null,
      "id": "87f488ef",
      "metadata": {
        "id": "87f488ef",
        "outputId": "212ebe70-e9da-4b9d-f566-c301f322f60b"
      },
      "outputs": [
        {
          "data": {
            "text/plain": [
              "(10682, 11)"
            ]
          },
          "execution_count": 11,
          "metadata": {},
          "output_type": "execute_result"
        }
      ],
      "source": [
        "train.shape #Checking the shape of the dataset"
      ]
    },
    {
      "cell_type": "code",
      "execution_count": null,
      "id": "d8a9bff8",
      "metadata": {
        "id": "d8a9bff8",
        "outputId": "0af0f494-5861-4f02-e4b6-f0270a059c84"
      },
      "outputs": [
        {
          "data": {
            "text/plain": [
              "<AxesSubplot:>"
            ]
          },
          "execution_count": 12,
          "metadata": {},
          "output_type": "execute_result"
        },
        {
          "data": {
            "image/png": "[encoded data removed]",
            "text/plain": [
              "<Figure size 432x288 with 2 Axes>"
            ]
          },
          "metadata": {
            "needs_background": "light"
          },
          "output_type": "display_data"
        }
      ],
      "source": [
        "sns.heatmap(train.isnull()) #Visualization of null values"
      ]
    },
    {
      "cell_type": "markdown",
      "id": "06934e8c",
      "metadata": {
        "id": "06934e8c"
      },
      "source": [
        "This shows that there are no null values present"
      ]
    },
    {
      "cell_type": "markdown",
      "id": "3b82f383",
      "metadata": {
        "id": "3b82f383"
      },
      "source": [
        "# Exploratory Data Analysis"
      ]
    },
    {
      "cell_type": "markdown",
      "id": "4d45b081",
      "metadata": {
        "id": "4d45b081"
      },
      "source": [
        "Let us now look into all the columns one at a time, beginning with the target column price"
      ]
    },
    {
      "cell_type": "code",
      "execution_count": null,
      "id": "c4a25d54",
      "metadata": {
        "id": "c4a25d54",
        "outputId": "a1092d64-1da1-4a0c-a380-0a214a795922"
      },
      "outputs": [
        {
          "data": {
            "text/plain": [
              "<AxesSubplot:xlabel='Price', ylabel='Density'>"
            ]
          },
          "execution_count": 13,
          "metadata": {},
          "output_type": "execute_result"
        },
        {
          "data": {
            "image/png": "[encoded data removed]",
            "text/plain": [
              "<Figure size 432x288 with 1 Axes>"
            ]
          },
          "metadata": {
            "needs_background": "light"
          },
          "output_type": "display_data"
        }
      ],
      "source": [
        "#Density plot for the Price\n",
        "sns.distplot(train['Price'])"
      ]
    },
    {
      "cell_type": "code",
      "execution_count": null,
      "id": "0d4bffd1",
      "metadata": {
        "id": "0d4bffd1",
        "outputId": "b1b1acd0-e26c-4ce5-fe91-01228dc832ac"
      },
      "outputs": [
        {
          "data": {
            "text/plain": [
              "<AxesSubplot:xlabel='Price'>"
            ]
          },
          "execution_count": 14,
          "metadata": {},
          "output_type": "execute_result"
        },
        {
          "data": {
            "image/png": "[encoded data removed]",
            "text/plain": [
              "<Figure size 432x288 with 1 Axes>"
            ]
          },
          "metadata": {
            "needs_background": "light"
          },
          "output_type": "display_data"
        }
      ],
      "source": [
        "#Box plot for the Price\n",
        "sns.boxplot(train['Price'])"
      ]
    },
    {
      "cell_type": "markdown",
      "id": "a9650e43",
      "metadata": {
        "id": "a9650e43"
      },
      "source": [
        "Next column we look for is 'Airline'"
      ]
    },
    {
      "cell_type": "code",
      "execution_count": null,
      "id": "05fb178b",
      "metadata": {
        "id": "05fb178b",
        "outputId": "38f800a3-10a3-46b2-a900-4a5b23055069"
      },
      "outputs": [
        {
          "data": {
            "text/plain": [
              "array(['IndiGo', 'Air India', 'Jet Airways', 'SpiceJet',\n",
              "       'Multiple carriers', 'GoAir', 'Vistara', 'Air Asia',\n",
              "       'Vistara Premium economy', 'Jet Airways Business',\n",
              "       'Multiple carriers Premium economy', 'Trujet'], dtype=object)"
            ]
          },
          "execution_count": 15,
          "metadata": {},
          "output_type": "execute_result"
        }
      ],
      "source": [
        "#Checking for unique values\n",
        "train['Airline'].unique()"
      ]
    },
    {
      "cell_type": "code",
      "execution_count": null,
      "id": "a8c94465",
      "metadata": {
        "id": "a8c94465",
        "outputId": "5bf6a06d-29f5-4112-d768-dbc706b5e2cb"
      },
      "outputs": [
        {
          "data": {
            "image/png": "[encoded data removed]",
            "text/plain": [
              "<Figure size 432x288 with 1 Axes>"
            ]
          },
          "metadata": {
            "needs_background": "light"
          },
          "output_type": "display_data"
        }
      ],
      "source": [
        "#Count plot for the Airline\n",
        "sns.countplot(train['Airline'])\n",
        "plt.xticks(rotation=90)\n",
        "plt.show()"
      ]
    },
    {
      "cell_type": "markdown",
      "id": "56cbd1bd",
      "metadata": {
        "id": "56cbd1bd"
      },
      "source": [
        "We see that Jet Airways is the maximum booked flight carrier. Let us convert this data into numerical using encoder"
      ]
    },
    {
      "cell_type": "code",
      "execution_count": null,
      "id": "ccb76a42",
      "metadata": {
        "id": "ccb76a42"
      },
      "outputs": [],
      "source": [
        "#Encoding for both train and test data\n",
        "le = LabelEncoder()\n",
        "le.fit(train['Airline'])\n",
        "train['Airline'] = le.transform(train['Airline'])\n",
        "test['Airline'] = le.transform(test['Airline'])"
      ]
    },
    {
      "cell_type": "markdown",
      "id": "74f94f1d",
      "metadata": {
        "id": "74f94f1d"
      },
      "source": [
        "Next column is the date of journey which is a date and so we shall split it into days, months and year"
      ]
    },
    {
      "cell_type": "code",
      "execution_count": null,
      "id": "60727c7d",
      "metadata": {
        "id": "60727c7d"
      },
      "outputs": [],
      "source": [
        "#Creating column for date\n",
        "train['Day'] = pd.to_datetime(train['Date_of_Journey']).dt.day\n",
        "test['Day'] = pd.to_datetime(test['Date_of_Journey']).dt.day"
      ]
    },
    {
      "cell_type": "code",
      "execution_count": null,
      "id": "9042b870",
      "metadata": {
        "id": "9042b870"
      },
      "outputs": [],
      "source": [
        "#Creating column for month\n",
        "train['Month'] = pd.to_datetime(train['Date_of_Journey']).dt.month\n",
        "test['Month'] = pd.to_datetime(test['Date_of_Journey']).dt.month"
      ]
    },
    {
      "cell_type": "markdown",
      "id": "aa4388ef",
      "metadata": {
        "id": "aa4388ef"
      },
      "source": [
        "And since all the data is from 2019 year, we dont need the year column and we can drop the date of journey column itself"
      ]
    },
    {
      "cell_type": "code",
      "execution_count": null,
      "id": "3018764d",
      "metadata": {
        "id": "3018764d"
      },
      "outputs": [],
      "source": [
        "train.drop(columns='Date_of_Journey', inplace=True)\n",
        "test.drop(columns='Date_of_Journey', inplace=True)"
      ]
    },
    {
      "cell_type": "markdown",
      "id": "cf268d68",
      "metadata": {
        "id": "cf268d68"
      },
      "source": [
        "The next column we see is the source"
      ]
    },
    {
      "cell_type": "code",
      "execution_count": null,
      "id": "726a527b",
      "metadata": {
        "id": "726a527b",
        "outputId": "afc2dd61-4fe0-452b-b165-aea5285290d9"
      },
      "outputs": [
        {
          "data": {
            "text/plain": [
              "array(['Banglore', 'Kolkata', 'Delhi', 'Chennai', 'Mumbai'], dtype=object)"
            ]
          },
          "execution_count": 21,
          "metadata": {},
          "output_type": "execute_result"
        }
      ],
      "source": [
        "#Checking for unique values\n",
        "train['Source'].unique()"
      ]
    },
    {
      "cell_type": "code",
      "execution_count": null,
      "id": "c92bd23d",
      "metadata": {
        "id": "c92bd23d",
        "outputId": "1177edf2-c4f5-44ba-c3f6-b23e38e2e2c8"
      },
      "outputs": [
        {
          "data": {
            "image/png": "[encoded data removed]",
            "text/plain": [
              "<Figure size 432x288 with 1 Axes>"
            ]
          },
          "metadata": {
            "needs_background": "light"
          },
          "output_type": "display_data"
        }
      ],
      "source": [
        "#Count plot for the Source\n",
        "sns.countplot(train['Source'])\n",
        "plt.xticks(rotation=90)\n",
        "plt.show()"
      ]
    },
    {
      "cell_type": "code",
      "execution_count": null,
      "id": "8daa946b",
      "metadata": {
        "id": "8daa946b"
      },
      "outputs": [],
      "source": [
        "#Encoding for both train and test data\n",
        "le = LabelEncoder()\n",
        "le.fit(train['Source'])\n",
        "train['Source'] = le.transform(train['Source'])\n",
        "test['Source'] = le.transform(test['Source'])"
      ]
    },
    {
      "cell_type": "markdown",
      "id": "d154a500",
      "metadata": {
        "id": "d154a500"
      },
      "source": [
        "The next column we see is the Destination"
      ]
    },
    {
      "cell_type": "code",
      "execution_count": null,
      "id": "c680a5a8",
      "metadata": {
        "id": "c680a5a8",
        "outputId": "33760796-b307-44e8-b795-3de6ff52a42d"
      },
      "outputs": [
        {
          "data": {
            "text/plain": [
              "array(['New Delhi', 'Banglore', 'Cochin', 'Kolkata', 'Delhi', 'Hyderabad'],\n",
              "      dtype=object)"
            ]
          },
          "execution_count": 24,
          "metadata": {},
          "output_type": "execute_result"
        }
      ],
      "source": [
        "#Checking for unique values\n",
        "train['Destination'].unique()"
      ]
    },
    {
      "cell_type": "markdown",
      "id": "3bb1f6bf",
      "metadata": {
        "id": "3bb1f6bf"
      },
      "source": [
        "From the code for the cities, we can make out that New Delhi and Delhi are the same. Hence, we shall convert one to form a combined variable."
      ]
    },
    {
      "cell_type": "code",
      "execution_count": null,
      "id": "483755a9",
      "metadata": {
        "id": "483755a9"
      },
      "outputs": [],
      "source": [
        "#Replacing the data names\n",
        "train['Destination'].replace({'New Delhi':'Delhi'},inplace=True)\n",
        "test['Destination'].replace({'New Delhi':'Delhi'},inplace=True)"
      ]
    },
    {
      "cell_type": "code",
      "execution_count": null,
      "id": "a6c8e757",
      "metadata": {
        "id": "a6c8e757",
        "outputId": "32621624-cf2e-4a9f-a8f3-cd7f817d1550"
      },
      "outputs": [
        {
          "data": {
            "image/png": "[encoded data removed]",
            "text/plain": [
              "<Figure size 432x288 with 1 Axes>"
            ]
          },
          "metadata": {
            "needs_background": "light"
          },
          "output_type": "display_data"
        }
      ],
      "source": [
        "#Count plot for the Destination\n",
        "sns.countplot(train['Destination'])\n",
        "plt.xticks(rotation=90)\n",
        "plt.show()"
      ]
    },
    {
      "cell_type": "markdown",
      "id": "14826c93",
      "metadata": {
        "id": "14826c93"
      },
      "source": [
        "We shall encode this data to form a numerical value"
      ]
    },
    {
      "cell_type": "code",
      "execution_count": null,
      "id": "f8d2212a",
      "metadata": {
        "id": "f8d2212a"
      },
      "outputs": [],
      "source": [
        "#Encoding for both train and test data\n",
        "le = LabelEncoder()\n",
        "le.fit(train['Destination'])\n",
        "train['Destination'] = le.transform(train['Destination'])\n",
        "test['Destination'] = le.transform(test['Destination'])"
      ]
    },
    {
      "cell_type": "markdown",
      "id": "53030f98",
      "metadata": {
        "id": "53030f98"
      },
      "source": [
        "The next column we have is the Route, however we see that the only information we receive with the ccolumn is the number of stops the flight takes. This information we already have in teh dataset through the column Total_Stops and hence we shall drop this column"
      ]
    },
    {
      "cell_type": "code",
      "execution_count": null,
      "id": "3d1d7aab",
      "metadata": {
        "id": "3d1d7aab"
      },
      "outputs": [],
      "source": [
        "#Dropping the column\n",
        "train.drop(columns='Route', inplace=True)\n",
        "test.drop(columns='Route', inplace=True)"
      ]
    },
    {
      "cell_type": "markdown",
      "id": "28536e58",
      "metadata": {
        "id": "28536e58"
      },
      "source": [
        "Next column we see is the Dep_Time, which is a time format and hence we shall convert it into hour and minutes"
      ]
    },
    {
      "cell_type": "code",
      "execution_count": null,
      "id": "b3583b2b",
      "metadata": {
        "id": "b3583b2b"
      },
      "outputs": [],
      "source": [
        "#Converting train data\n",
        "train[\"Dep_hour\"] = pd.to_datetime(train[\"Dep_Time\"]).dt.hour\n",
        "train[\"Dep_min\"] = pd.to_datetime(train[\"Dep_Time\"]).dt.minute\n",
        "train.drop([\"Dep_Time\"], axis = 1, inplace = True)\n",
        "\n",
        "#Converting test data\n",
        "test[\"Dep_hour\"] = pd.to_datetime(test[\"Dep_Time\"]).dt.hour\n",
        "test[\"Dep_min\"] = pd.to_datetime(test[\"Dep_Time\"]).dt.minute\n",
        "test.drop([\"Dep_Time\"], axis = 1, inplace = True)"
      ]
    },
    {
      "cell_type": "markdown",
      "id": "e0005b67",
      "metadata": {
        "id": "e0005b67"
      },
      "source": [
        "Next column we see is the Arrival_Time, which is a time format and hence we shall convert it into hour and minutes"
      ]
    },
    {
      "cell_type": "code",
      "execution_count": null,
      "id": "a7f30b75",
      "metadata": {
        "id": "a7f30b75"
      },
      "outputs": [],
      "source": [
        "#Converting train data\n",
        "train[\"Arr_hour\"] = pd.to_datetime(train[\"Arrival_Time\"]).dt.hour\n",
        "train[\"Arr_min\"] = pd.to_datetime(train[\"Arrival_Time\"]).dt.minute\n",
        "train.drop([\"Arrival_Time\"], axis = 1, inplace = True)\n",
        "\n",
        "#Converting test data\n",
        "test[\"Arr_hour\"] = pd.to_datetime(test[\"Arrival_Time\"]).dt.hour\n",
        "test[\"Arr_min\"] = pd.to_datetime(test[\"Arrival_Time\"]).dt.minute\n",
        "test.drop([\"Arrival_Time\"], axis = 1, inplace = True)"
      ]
    },
    {
      "cell_type": "markdown",
      "id": "d5c4d9e6",
      "metadata": {
        "id": "d5c4d9e6"
      },
      "source": [
        "Next column we see is the Duration, which is a time format and hence we shall convert it into hour and minutes"
      ]
    },
    {
      "cell_type": "code",
      "execution_count": null,
      "id": "88da9d66",
      "metadata": {
        "id": "88da9d66"
      },
      "outputs": [],
      "source": [
        "#Function to split the hour and minutes\n",
        "def duration(x):\n",
        "    x = x.split(' ')\n",
        "    h = 0\n",
        "    m = 0\n",
        "    if len(x)==1:\n",
        "        x = x[0]\n",
        "        if x[-1]=='h':\n",
        "            h = int(x[:-1])\n",
        "        else:\n",
        "            m = int(x[:-1])\n",
        "    else:\n",
        "        h = int(x[0][:-1])\n",
        "        m = int(x[1][:-1])\n",
        "    return h, m\n",
        "\n",
        "#Splitting for train data\n",
        "train['Dur_hours'] = train['Duration'].apply(lambda x:duration(x)[0])\n",
        "train['Dur_mins'] = train['Duration'].apply(lambda x:duration(x)[1])\n",
        "train.drop([\"Duration\"], axis = 1, inplace = True)\n",
        "\n",
        "#Splitting for test data\n",
        "test['Dur_hours'] = test['Duration'].apply(lambda x:duration(x)[0])\n",
        "test['Dur_mins'] = test['Duration'].apply(lambda x:duration(x)[1])\n",
        "test.drop([\"Duration\"], axis = 1, inplace = True)"
      ]
    },
    {
      "cell_type": "markdown",
      "id": "7d7a9876",
      "metadata": {
        "id": "7d7a9876"
      },
      "source": [
        "Next column we see is the Total_Stops"
      ]
    },
    {
      "cell_type": "code",
      "execution_count": null,
      "id": "252fa53b",
      "metadata": {
        "id": "252fa53b",
        "outputId": "e6636041-8d09-43f9-a273-cc04337af890"
      },
      "outputs": [
        {
          "data": {
            "text/plain": [
              "array(['non-stop', '2 stops', '1 stop', '3 stops', '4 stops'],\n",
              "      dtype=object)"
            ]
          },
          "execution_count": 32,
          "metadata": {},
          "output_type": "execute_result"
        }
      ],
      "source": [
        "#Checking for unique values\n",
        "train['Total_Stops'].unique()"
      ]
    },
    {
      "cell_type": "code",
      "execution_count": null,
      "id": "e19d0165",
      "metadata": {
        "id": "e19d0165",
        "outputId": "2fe9a305-dd48-4918-d2e9-c36800f9fe99"
      },
      "outputs": [
        {
          "data": {
            "image/png": "[encoded data removed]",
            "text/plain": [
              "<Figure size 432x288 with 1 Axes>"
            ]
          },
          "metadata": {
            "needs_background": "light"
          },
          "output_type": "display_data"
        }
      ],
      "source": [
        "#Count plot for the Total_Stops\n",
        "sns.countplot(train['Total_Stops'])\n",
        "plt.xticks(rotation=90)\n",
        "plt.show()"
      ]
    },
    {
      "cell_type": "markdown",
      "id": "1fc1e78a",
      "metadata": {
        "id": "1fc1e78a"
      },
      "source": [
        "Encoding the data"
      ]
    },
    {
      "cell_type": "code",
      "execution_count": null,
      "id": "77def90a",
      "metadata": {
        "id": "77def90a"
      },
      "outputs": [],
      "source": [
        "#Encoding for both train and test data\n",
        "le = LabelEncoder()\n",
        "le.fit(train['Total_Stops'])\n",
        "train['Total_Stops'] = le.transform(train['Total_Stops'])\n",
        "test['Total_Stops'] = le.transform(test['Total_Stops'])"
      ]
    },
    {
      "cell_type": "markdown",
      "id": "601ebc7c",
      "metadata": {
        "id": "601ebc7c"
      },
      "source": [
        "Next column we see is the Additional_Info"
      ]
    },
    {
      "cell_type": "code",
      "execution_count": null,
      "id": "e99e84c1",
      "metadata": {
        "id": "e99e84c1",
        "outputId": "29e4666f-5474-4839-a1dc-51c53bd30bbc"
      },
      "outputs": [
        {
          "data": {
            "text/plain": [
              "array(['No info', 'In-flight meal not included',\n",
              "       'No check-in baggage included', '1 Short layover', 'No Info',\n",
              "       '1 Long layover', 'Change airports', 'Business class',\n",
              "       'Red-eye flight', '2 Long layover'], dtype=object)"
            ]
          },
          "execution_count": 35,
          "metadata": {},
          "output_type": "execute_result"
        }
      ],
      "source": [
        "#Checking for unique values\n",
        "train['Additional_Info'].unique()"
      ]
    },
    {
      "cell_type": "markdown",
      "id": "db991174",
      "metadata": {
        "id": "db991174"
      },
      "source": [
        "We see 'no info' is repeated and hence we shall join the both"
      ]
    },
    {
      "cell_type": "code",
      "execution_count": null,
      "id": "2738c1a2",
      "metadata": {
        "id": "2738c1a2"
      },
      "outputs": [],
      "source": [
        "train['Additional_Info'].replace({'No info':'No Info'}, inplace=True)\n",
        "test['Additional_Info'].replace({'No info':'No Info'}, inplace=True)"
      ]
    },
    {
      "cell_type": "code",
      "execution_count": null,
      "id": "7e7a98e4",
      "metadata": {
        "id": "7e7a98e4",
        "outputId": "455b1ca2-1f55-41b4-bad8-583d023a84d0"
      },
      "outputs": [
        {
          "data": {
            "image/png": "[encoded data removed]",
            "text/plain": [
              "<Figure size 432x288 with 1 Axes>"
            ]
          },
          "metadata": {
            "needs_background": "light"
          },
          "output_type": "display_data"
        }
      ],
      "source": [
        "#Count plot for the Additional_Info\n",
        "sns.countplot(train['Additional_Info'])\n",
        "plt.xticks(rotation=90)\n",
        "plt.show()"
      ]
    },
    {
      "cell_type": "markdown",
      "id": "25b97569",
      "metadata": {
        "id": "25b97569"
      },
      "source": [
        "Encoding the data"
      ]
    },
    {
      "cell_type": "code",
      "execution_count": null,
      "id": "51e52248",
      "metadata": {
        "id": "51e52248"
      },
      "outputs": [],
      "source": [
        "#Encoding for both train and test data\n",
        "le = LabelEncoder()\n",
        "le.fit(train['Additional_Info'])\n",
        "train['Additional_Info'] = le.transform(train['Additional_Info'])\n",
        "test['Additional_Info'] = le.transform(test['Additional_Info'])"
      ]
    },
    {
      "cell_type": "markdown",
      "id": "7911de7f",
      "metadata": {
        "id": "7911de7f"
      },
      "source": [
        "# Correlation"
      ]
    },
    {
      "cell_type": "markdown",
      "id": "2464a78f",
      "metadata": {
        "id": "2464a78f"
      },
      "source": [
        "Now, since all the data has been transformed into numeric values. Let us check for the correlation to the target column"
      ]
    },
    {
      "cell_type": "code",
      "execution_count": null,
      "id": "b5293e5d",
      "metadata": {
        "id": "b5293e5d",
        "outputId": "4688ea96-6b81-4f6b-e7f8-7029594ea510"
      },
      "outputs": [
        {
          "data": {
            "text/html": [
              "<div>\n",
              "<style scoped>\n",
              "    .dataframe tbody tr th:only-of-type {\n",
              "        vertical-align: middle;\n",
              "    }\n",
              "\n",
              "    .dataframe tbody tr th {\n",
              "        vertical-align: top;\n",
              "    }\n",
              "\n",
              "    .dataframe thead th {\n",
              "        text-align: right;\n",
              "    }\n",
              "</style>\n",
              "<table border=\"1\" class=\"dataframe\">\n",
              "  <thead>\n",
              "    <tr style=\"text-align: right;\">\n",
              "      <th></th>\n",
              "      <th>Airline</th>\n",
              "      <th>Source</th>\n",
              "      <th>Destination</th>\n",
              "      <th>Total_Stops</th>\n",
              "      <th>Additional_Info</th>\n",
              "      <th>Price</th>\n",
              "      <th>Day</th>\n",
              "      <th>Month</th>\n",
              "      <th>Dep_hour</th>\n",
              "      <th>Dep_min</th>\n",
              "      <th>Arr_hour</th>\n",
              "      <th>Arr_min</th>\n",
              "      <th>Dur_hours</th>\n",
              "      <th>Dur_mins</th>\n",
              "    </tr>\n",
              "  </thead>\n",
              "  <tbody>\n",
              "    <tr>\n",
              "      <th>Airline</th>\n",
              "      <td>1.000000</td>\n",
              "      <td>-0.013397</td>\n",
              "      <td>0.070532</td>\n",
              "      <td>0.035973</td>\n",
              "      <td>0.090588</td>\n",
              "      <td>-0.039565</td>\n",
              "      <td>0.031118</td>\n",
              "      <td>-0.007900</td>\n",
              "      <td>-0.035269</td>\n",
              "      <td>-0.059922</td>\n",
              "      <td>-0.007567</td>\n",
              "      <td>-0.071092</td>\n",
              "      <td>-0.158136</td>\n",
              "      <td>-0.028009</td>\n",
              "    </tr>\n",
              "    <tr>\n",
              "      <th>Source</th>\n",
              "      <td>-0.013397</td>\n",
              "      <td>1.000000</td>\n",
              "      <td>-0.434227</td>\n",
              "      <td>-0.225605</td>\n",
              "      <td>0.008036</td>\n",
              "      <td>0.015999</td>\n",
              "      <td>0.007563</td>\n",
              "      <td>0.063052</td>\n",
              "      <td>0.059047</td>\n",
              "      <td>-0.056998</td>\n",
              "      <td>0.025635</td>\n",
              "      <td>0.021040</td>\n",
              "      <td>0.166121</td>\n",
              "      <td>-0.145193</td>\n",
              "    </tr>\n",
              "    <tr>\n",
              "      <th>Destination</th>\n",
              "      <td>0.070532</td>\n",
              "      <td>-0.434227</td>\n",
              "      <td>1.000000</td>\n",
              "      <td>0.510204</td>\n",
              "      <td>0.093787</td>\n",
              "      <td>-0.262164</td>\n",
              "      <td>0.006359</td>\n",
              "      <td>-0.068900</td>\n",
              "      <td>-0.087777</td>\n",
              "      <td>0.096722</td>\n",
              "      <td>-0.058149</td>\n",
              "      <td>0.007259</td>\n",
              "      <td>-0.379670</td>\n",
              "      <td>0.022403</td>\n",
              "    </tr>\n",
              "    <tr>\n",
              "      <th>Total_Stops</th>\n",
              "      <td>0.035973</td>\n",
              "      <td>-0.225605</td>\n",
              "      <td>0.510204</td>\n",
              "      <td>1.000000</td>\n",
              "      <td>0.242029</td>\n",
              "      <td>-0.571221</td>\n",
              "      <td>0.043844</td>\n",
              "      <td>-0.056514</td>\n",
              "      <td>0.039224</td>\n",
              "      <td>0.048901</td>\n",
              "      <td>-0.095650</td>\n",
              "      <td>0.175980</td>\n",
              "      <td>-0.606137</td>\n",
              "      <td>0.182223</td>\n",
              "    </tr>\n",
              "    <tr>\n",
              "      <th>Additional_Info</th>\n",
              "      <td>0.090588</td>\n",
              "      <td>0.008036</td>\n",
              "      <td>0.093787</td>\n",
              "      <td>0.242029</td>\n",
              "      <td>1.000000</td>\n",
              "      <td>-0.191643</td>\n",
              "      <td>0.017554</td>\n",
              "      <td>-0.000164</td>\n",
              "      <td>-0.043020</td>\n",
              "      <td>0.001673</td>\n",
              "      <td>-0.019455</td>\n",
              "      <td>0.028698</td>\n",
              "      <td>-0.218023</td>\n",
              "      <td>0.054365</td>\n",
              "    </tr>\n",
              "    <tr>\n",
              "      <th>Price</th>\n",
              "      <td>-0.039565</td>\n",
              "      <td>0.015999</td>\n",
              "      <td>-0.262164</td>\n",
              "      <td>-0.571221</td>\n",
              "      <td>-0.191643</td>\n",
              "      <td>1.000000</td>\n",
              "      <td>-0.165448</td>\n",
              "      <td>0.010705</td>\n",
              "      <td>0.006799</td>\n",
              "      <td>-0.024458</td>\n",
              "      <td>0.024244</td>\n",
              "      <td>-0.086155</td>\n",
              "      <td>0.508778</td>\n",
              "      <td>-0.124855</td>\n",
              "    </tr>\n",
              "    <tr>\n",
              "      <th>Day</th>\n",
              "      <td>0.031118</td>\n",
              "      <td>0.007563</td>\n",
              "      <td>0.006359</td>\n",
              "      <td>0.043844</td>\n",
              "      <td>0.017554</td>\n",
              "      <td>-0.165448</td>\n",
              "      <td>1.000000</td>\n",
              "      <td>-0.264896</td>\n",
              "      <td>-0.002301</td>\n",
              "      <td>-0.016433</td>\n",
              "      <td>-0.002176</td>\n",
              "      <td>-0.021423</td>\n",
              "      <td>-0.037964</td>\n",
              "      <td>-0.007708</td>\n",
              "    </tr>\n",
              "    <tr>\n",
              "      <th>Month</th>\n",
              "      <td>-0.007900</td>\n",
              "      <td>0.063052</td>\n",
              "      <td>-0.068900</td>\n",
              "      <td>-0.056514</td>\n",
              "      <td>-0.000164</td>\n",
              "      <td>0.010705</td>\n",
              "      <td>-0.264896</td>\n",
              "      <td>1.000000</td>\n",
              "      <td>0.028189</td>\n",
              "      <td>0.002136</td>\n",
              "      <td>-0.004329</td>\n",
              "      <td>-0.025786</td>\n",
              "      <td>0.055552</td>\n",
              "      <td>-0.018597</td>\n",
              "    </tr>\n",
              "    <tr>\n",
              "      <th>Dep_hour</th>\n",
              "      <td>-0.035269</td>\n",
              "      <td>0.059047</td>\n",
              "      <td>-0.087777</td>\n",
              "      <td>0.039224</td>\n",
              "      <td>-0.043020</td>\n",
              "      <td>0.006799</td>\n",
              "      <td>-0.002301</td>\n",
              "      <td>0.028189</td>\n",
              "      <td>1.000000</td>\n",
              "      <td>-0.024745</td>\n",
              "      <td>0.005180</td>\n",
              "      <td>0.067911</td>\n",
              "      <td>0.002869</td>\n",
              "      <td>-0.023707</td>\n",
              "    </tr>\n",
              "    <tr>\n",
              "      <th>Dep_min</th>\n",
              "      <td>-0.059922</td>\n",
              "      <td>-0.056998</td>\n",
              "      <td>0.096722</td>\n",
              "      <td>0.048901</td>\n",
              "      <td>0.001673</td>\n",
              "      <td>-0.024458</td>\n",
              "      <td>-0.016433</td>\n",
              "      <td>0.002136</td>\n",
              "      <td>-0.024745</td>\n",
              "      <td>1.000000</td>\n",
              "      <td>0.043122</td>\n",
              "      <td>-0.017597</td>\n",
              "      <td>-0.022104</td>\n",
              "      <td>0.092485</td>\n",
              "    </tr>\n",
              "    <tr>\n",
              "      <th>Arr_hour</th>\n",
              "      <td>-0.007567</td>\n",
              "      <td>0.025635</td>\n",
              "      <td>-0.058149</td>\n",
              "      <td>-0.095650</td>\n",
              "      <td>-0.019455</td>\n",
              "      <td>0.024244</td>\n",
              "      <td>-0.002176</td>\n",
              "      <td>-0.004329</td>\n",
              "      <td>0.005180</td>\n",
              "      <td>0.043122</td>\n",
              "      <td>1.000000</td>\n",
              "      <td>-0.154363</td>\n",
              "      <td>0.055276</td>\n",
              "      <td>-0.118309</td>\n",
              "    </tr>\n",
              "    <tr>\n",
              "      <th>Arr_min</th>\n",
              "      <td>-0.071092</td>\n",
              "      <td>0.021040</td>\n",
              "      <td>0.007259</td>\n",
              "      <td>0.175980</td>\n",
              "      <td>0.028698</td>\n",
              "      <td>-0.086155</td>\n",
              "      <td>-0.021423</td>\n",
              "      <td>-0.025786</td>\n",
              "      <td>0.067911</td>\n",
              "      <td>-0.017597</td>\n",
              "      <td>-0.154363</td>\n",
              "      <td>1.000000</td>\n",
              "      <td>-0.074450</td>\n",
              "      <td>0.151628</td>\n",
              "    </tr>\n",
              "    <tr>\n",
              "      <th>Dur_hours</th>\n",
              "      <td>-0.158136</td>\n",
              "      <td>0.166121</td>\n",
              "      <td>-0.379670</td>\n",
              "      <td>-0.606137</td>\n",
              "      <td>-0.218023</td>\n",
              "      <td>0.508778</td>\n",
              "      <td>-0.037964</td>\n",
              "      <td>0.055552</td>\n",
              "      <td>0.002869</td>\n",
              "      <td>-0.022104</td>\n",
              "      <td>0.055276</td>\n",
              "      <td>-0.074450</td>\n",
              "      <td>1.000000</td>\n",
              "      <td>-0.126468</td>\n",
              "    </tr>\n",
              "    <tr>\n",
              "      <th>Dur_mins</th>\n",
              "      <td>-0.028009</td>\n",
              "      <td>-0.145193</td>\n",
              "      <td>0.022403</td>\n",
              "      <td>0.182223</td>\n",
              "      <td>0.054365</td>\n",
              "      <td>-0.124855</td>\n",
              "      <td>-0.007708</td>\n",
              "      <td>-0.018597</td>\n",
              "      <td>-0.023707</td>\n",
              "      <td>0.092485</td>\n",
              "      <td>-0.118309</td>\n",
              "      <td>0.151628</td>\n",
              "      <td>-0.126468</td>\n",
              "      <td>1.000000</td>\n",
              "    </tr>\n",
              "  </tbody>\n",
              "</table>\n",
              "</div>"
            ],
            "text/plain": [
              "                  Airline    Source  Destination  Total_Stops  \\\n",
              "Airline          1.000000 -0.013397     0.070532     0.035973   \n",
              "Source          -0.013397  1.000000    -0.434227    -0.225605   \n",
              "Destination      0.070532 -0.434227     1.000000     0.510204   \n",
              "Total_Stops      0.035973 -0.225605     0.510204     1.000000   \n",
              "Additional_Info  0.090588  0.008036     0.093787     0.242029   \n",
              "Price           -0.039565  0.015999    -0.262164    -0.571221   \n",
              "Day              0.031118  0.007563     0.006359     0.043844   \n",
              "Month           -0.007900  0.063052    -0.068900    -0.056514   \n",
              "Dep_hour        -0.035269  0.059047    -0.087777     0.039224   \n",
              "Dep_min         -0.059922 -0.056998     0.096722     0.048901   \n",
              "Arr_hour        -0.007567  0.025635    -0.058149    -0.095650   \n",
              "Arr_min         -0.071092  0.021040     0.007259     0.175980   \n",
              "Dur_hours       -0.158136  0.166121    -0.379670    -0.606137   \n",
              "Dur_mins        -0.028009 -0.145193     0.022403     0.182223   \n",
              "\n",
              "                 Additional_Info     Price       Day     Month  Dep_hour  \\\n",
              "Airline                 0.090588 -0.039565  0.031118 -0.007900 -0.035269   \n",
              "Source                  0.008036  0.015999  0.007563  0.063052  0.059047   \n",
              "Destination             0.093787 -0.262164  0.006359 -0.068900 -0.087777   \n",
              "Total_Stops             0.242029 -0.571221  0.043844 -0.056514  0.039224   \n",
              "Additional_Info         1.000000 -0.191643  0.017554 -0.000164 -0.043020   \n",
              "Price                  -0.191643  1.000000 -0.165448  0.010705  0.006799   \n",
              "Day                     0.017554 -0.165448  1.000000 -0.264896 -0.002301   \n",
              "Month                  -0.000164  0.010705 -0.264896  1.000000  0.028189   \n",
              "Dep_hour               -0.043020  0.006799 -0.002301  0.028189  1.000000   \n",
              "Dep_min                 0.001673 -0.024458 -0.016433  0.002136 -0.024745   \n",
              "Arr_hour               -0.019455  0.024244 -0.002176 -0.004329  0.005180   \n",
              "Arr_min                 0.028698 -0.086155 -0.021423 -0.025786  0.067911   \n",
              "Dur_hours              -0.218023  0.508778 -0.037964  0.055552  0.002869   \n",
              "Dur_mins                0.054365 -0.124855 -0.007708 -0.018597 -0.023707   \n",
              "\n",
              "                  Dep_min  Arr_hour   Arr_min  Dur_hours  Dur_mins  \n",
              "Airline         -0.059922 -0.007567 -0.071092  -0.158136 -0.028009  \n",
              "Source          -0.056998  0.025635  0.021040   0.166121 -0.145193  \n",
              "Destination      0.096722 -0.058149  0.007259  -0.379670  0.022403  \n",
              "Total_Stops      0.048901 -0.095650  0.175980  -0.606137  0.182223  \n",
              "Additional_Info  0.001673 -0.019455  0.028698  -0.218023  0.054365  \n",
              "Price           -0.024458  0.024244 -0.086155   0.508778 -0.124855  \n",
              "Day             -0.016433 -0.002176 -0.021423  -0.037964 -0.007708  \n",
              "Month            0.002136 -0.004329 -0.025786   0.055552 -0.018597  \n",
              "Dep_hour        -0.024745  0.005180  0.067911   0.002869 -0.023707  \n",
              "Dep_min          1.000000  0.043122 -0.017597  -0.022104  0.092485  \n",
              "Arr_hour         0.043122  1.000000 -0.154363   0.055276 -0.118309  \n",
              "Arr_min         -0.017597 -0.154363  1.000000  -0.074450  0.151628  \n",
              "Dur_hours       -0.022104  0.055276 -0.074450   1.000000 -0.126468  \n",
              "Dur_mins         0.092485 -0.118309  0.151628  -0.126468  1.000000  "
            ]
          },
          "execution_count": 39,
          "metadata": {},
          "output_type": "execute_result"
        }
      ],
      "source": [
        "train.corr() #Correlation matrix"
      ]
    },
    {
      "cell_type": "code",
      "execution_count": null,
      "id": "4984af01",
      "metadata": {
        "id": "4984af01",
        "outputId": "b8108b64-bb75-4287-97d1-7a353651a709"
      },
      "outputs": [
        {
          "data": {
            "image/png": "[encoded data removed]",
            "text/plain": [
              "<Figure size 1440x1440 with 2 Axes>"
            ]
          },
          "metadata": {
            "needs_background": "light"
          },
          "output_type": "display_data"
        }
      ],
      "source": [
        "#Visualization for correlation matrix\n",
        "plt.figure(figsize=(20,20))\n",
        "sns.heatmap(train.corr(),annot=True)\n",
        "plt.show()"
      ]
    },
    {
      "cell_type": "code",
      "execution_count": null,
      "id": "1be33448",
      "metadata": {
        "id": "1be33448",
        "outputId": "e718982a-4f0e-4c98-fc04-895829baa884"
      },
      "outputs": [
        {
          "data": {
            "text/plain": [
              "Total_Stops       -0.571221\n",
              "Destination       -0.262164\n",
              "Additional_Info   -0.191643\n",
              "Day               -0.165448\n",
              "Dur_mins          -0.124855\n",
              "Arr_min           -0.086155\n",
              "Airline           -0.039565\n",
              "Dep_min           -0.024458\n",
              "Dep_hour           0.006799\n",
              "Month              0.010705\n",
              "Source             0.015999\n",
              "Arr_hour           0.024244\n",
              "Dur_hours          0.508778\n",
              "Price              1.000000\n",
              "Name: Price, dtype: float64"
            ]
          },
          "execution_count": 41,
          "metadata": {},
          "output_type": "execute_result"
        }
      ],
      "source": [
        "#Correlation wrt target column\n",
        "train.corr()['Price'].sort_values()"
      ]
    },
    {
      "cell_type": "markdown",
      "id": "60751b8f",
      "metadata": {
        "id": "60751b8f"
      },
      "source": [
        "# Outliers"
      ]
    },
    {
      "cell_type": "markdown",
      "id": "6b272124",
      "metadata": {
        "id": "6b272124"
      },
      "source": [
        "We use the zscore method to remove the outliers with a threshold of 3"
      ]
    },
    {
      "cell_type": "code",
      "execution_count": null,
      "id": "3ee1c838",
      "metadata": {
        "id": "3ee1c838"
      },
      "outputs": [],
      "source": [
        "z = np.abs(zscore(train))\n",
        "df_new = train[(z<3).all(axis=1)]"
      ]
    },
    {
      "cell_type": "code",
      "execution_count": null,
      "id": "d896ed34",
      "metadata": {
        "id": "d896ed34",
        "outputId": "de32c168-6d83-4a24-baa8-bed543aaa301"
      },
      "outputs": [
        {
          "data": {
            "text/plain": [
              "(10505, 14)"
            ]
          },
          "execution_count": 43,
          "metadata": {},
          "output_type": "execute_result"
        }
      ],
      "source": [
        "df_new.shape"
      ]
    },
    {
      "cell_type": "code",
      "execution_count": null,
      "id": "be41f56a",
      "metadata": {
        "id": "be41f56a",
        "outputId": "230db523-3986-43eb-a787-48af1dd16f06"
      },
      "outputs": [
        {
          "name": "stdout",
          "output_type": "stream",
          "text": [
            "Percentage loss of data =\t 1.656993072458341 %\n"
          ]
        }
      ],
      "source": [
        "print('Percentage loss of data =\\t', ((train.shape[0]-df_new.shape[0])/train.shape[0])*100, '%')"
      ]
    },
    {
      "cell_type": "markdown",
      "id": "b7246538",
      "metadata": {
        "id": "b7246538"
      },
      "source": [
        "# Skewness"
      ]
    },
    {
      "cell_type": "markdown",
      "id": "99341a26",
      "metadata": {
        "id": "99341a26"
      },
      "source": [
        "Now, we split the data into feature and target columns."
      ]
    },
    {
      "cell_type": "code",
      "execution_count": null,
      "id": "44916d42",
      "metadata": {
        "id": "44916d42"
      },
      "outputs": [],
      "source": [
        "x = df_new.drop(columns='Price')\n",
        "y = df_new['Price']"
      ]
    },
    {
      "cell_type": "markdown",
      "id": "ad618e16",
      "metadata": {
        "id": "ad618e16"
      },
      "source": [
        "Checking for skewness"
      ]
    },
    {
      "cell_type": "code",
      "execution_count": null,
      "id": "fdf5b76b",
      "metadata": {
        "id": "fdf5b76b",
        "outputId": "f90e0f75-1d09-4476-81f6-18d1ac8ab7b4"
      },
      "outputs": [
        {
          "data": {
            "text/plain": [
              "Airline            0.729360\n",
              "Source            -0.439575\n",
              "Destination        0.862979\n",
              "Total_Stops        0.613819\n",
              "Additional_Info   -0.728963\n",
              "Day                0.352984\n",
              "Month              0.635419\n",
              "Dep_hour           0.103334\n",
              "Dep_min            0.171730\n",
              "Arr_hour          -0.362026\n",
              "Arr_min            0.107227\n",
              "Dur_hours          0.765817\n",
              "Dur_mins          -0.097848\n",
              "dtype: float64"
            ]
          },
          "execution_count": 46,
          "metadata": {},
          "output_type": "execute_result"
        }
      ],
      "source": [
        "x.skew()"
      ]
    },
    {
      "cell_type": "code",
      "execution_count": null,
      "id": "29f79934",
      "metadata": {
        "id": "29f79934"
      },
      "outputs": [],
      "source": [
        "#Using sqrt method to treat skewness\n",
        "for i in x.columns:\n",
        "    x[i] = np.sqrt(x[i])"
      ]
    },
    {
      "cell_type": "code",
      "execution_count": null,
      "id": "c6b15f65",
      "metadata": {
        "id": "c6b15f65",
        "outputId": "6b2f1285-f061-4ae0-a09c-b44fdf0286fd"
      },
      "outputs": [
        {
          "data": {
            "text/plain": [
              "Airline           -0.482326\n",
              "Source            -1.147730\n",
              "Destination       -0.354384\n",
              "Total_Stops        0.390434\n",
              "Additional_Info   -0.856543\n",
              "Day                0.175296\n",
              "Month             -0.064647\n",
              "Dep_hour          -0.407874\n",
              "Dep_min           -0.544943\n",
              "Arr_hour          -1.096490\n",
              "Arr_min           -0.805762\n",
              "Dur_hours          0.263097\n",
              "Dur_mins          -1.006986\n",
              "dtype: float64"
            ]
          },
          "execution_count": 48,
          "metadata": {},
          "output_type": "execute_result"
        }
      ],
      "source": [
        "x.skew()"
      ]
    },
    {
      "cell_type": "markdown",
      "id": "c4e32876",
      "metadata": {
        "id": "c4e32876"
      },
      "source": [
        "# Scaling the data for model"
      ]
    },
    {
      "cell_type": "code",
      "execution_count": null,
      "id": "0647624f",
      "metadata": {
        "id": "0647624f"
      },
      "outputs": [],
      "source": [
        "sc=StandardScaler()\n",
        "x = sc.fit_transform(x)"
      ]
    },
    {
      "cell_type": "markdown",
      "id": "73fedb6a",
      "metadata": {
        "id": "73fedb6a"
      },
      "source": [
        "# Random State"
      ]
    },
    {
      "cell_type": "code",
      "execution_count": null,
      "id": "03da11e5",
      "metadata": {
        "id": "03da11e5",
        "outputId": "20f7e77b-985f-4d65-ff71-56b190577fc4"
      },
      "outputs": [
        {
          "name": "stdout",
          "output_type": "stream",
          "text": [
            "Max accuracy: \t 0.5057529625115458\n",
            "Random State: \t 65\n"
          ]
        }
      ],
      "source": [
        "maxRS = 0\n",
        "maxAcc = 0\n",
        "for i in range(0,100):\n",
        "    x_train, x_test, y_train, y_test = train_test_split(x, y, test_size=0.20, random_state=i)\n",
        "    lr = LinearRegression()\n",
        "    lr.fit(x_train,y_train)\n",
        "    pred = lr.predict(x_test)\n",
        "    acc = r2_score(y_test, pred)\n",
        "    if acc>maxAcc:\n",
        "        maxAcc = acc\n",
        "        maxRS = i\n",
        "print(\"Max accuracy: \\t\", maxAcc)\n",
        "print(\"Random State: \\t\", maxRS)"
      ]
    },
    {
      "cell_type": "markdown",
      "id": "5aa65420",
      "metadata": {
        "id": "5aa65420"
      },
      "source": [
        "Now since we got the best random state for data modelling, we create the test train models"
      ]
    },
    {
      "cell_type": "code",
      "execution_count": null,
      "id": "67fa26b9",
      "metadata": {
        "id": "67fa26b9"
      },
      "outputs": [],
      "source": [
        "x_train, x_test, y_train, y_test = train_test_split(x, y, test_size=0.20, random_state=maxRS)"
      ]
    },
    {
      "cell_type": "markdown",
      "id": "8ba9048b",
      "metadata": {
        "id": "8ba9048b"
      },
      "source": [
        "# Model Predictions"
      ]
    },
    {
      "cell_type": "markdown",
      "id": "a963c141",
      "metadata": {
        "id": "a963c141"
      },
      "source": [
        "Linear Regression"
      ]
    },
    {
      "cell_type": "code",
      "execution_count": null,
      "id": "55f46c91",
      "metadata": {
        "id": "55f46c91",
        "outputId": "59d60a6a-5ae0-4e99-ff4c-bcd9c771a088"
      },
      "outputs": [
        {
          "name": "stdout",
          "output_type": "stream",
          "text": [
            "r2 score: \t 50.575296251154576\n",
            "Mean Square Error : \t 8213354.1602991605\n",
            "Root Mean Square Error : \t 2865.8950016180215\n"
          ]
        }
      ],
      "source": [
        "lr = LinearRegression()\n",
        "lr.fit(x_train,y_train)\n",
        "pred = lr.predict(x_test)\n",
        "print(\"r2 score: \\t\", r2_score(y_test,pred)*100)\n",
        "print(\"Mean Square Error : \\t\", mean_squared_error(y_test,pred))\n",
        "print(\"Root Mean Square Error : \\t\", np.sqrt(mean_squared_error(y_test,pred)))"
      ]
    },
    {
      "cell_type": "markdown",
      "id": "65716163",
      "metadata": {
        "id": "65716163"
      },
      "source": [
        "Ridge Regression"
      ]
    },
    {
      "cell_type": "code",
      "execution_count": null,
      "id": "9d5ef5b3",
      "metadata": {
        "id": "9d5ef5b3",
        "outputId": "b723e1e1-1aa2-48d9-82b3-51cd083da88c"
      },
      "outputs": [
        {
          "name": "stdout",
          "output_type": "stream",
          "text": [
            "r2 score: \t 50.57498077703786\n",
            "Mean Square Error : \t 8213406.585512718\n",
            "Root Mean Square Error : \t 2865.9041479981006\n"
          ]
        }
      ],
      "source": [
        "rr = Ridge()\n",
        "rr.fit(x_train,y_train)\n",
        "pred = rr.predict(x_test)\n",
        "print(\"r2 score: \\t\", r2_score(y_test,pred)*100)\n",
        "print(\"Mean Square Error : \\t\", mean_squared_error(y_test,pred))\n",
        "print(\"Root Mean Square Error : \\t\", np.sqrt(mean_squared_error(y_test,pred)))"
      ]
    },
    {
      "cell_type": "markdown",
      "id": "359e5a97",
      "metadata": {
        "id": "359e5a97"
      },
      "source": [
        "KNN Regressor"
      ]
    },
    {
      "cell_type": "code",
      "execution_count": null,
      "id": "eb2da3c9",
      "metadata": {
        "id": "eb2da3c9",
        "outputId": "4a6db067-4e34-42e8-8e99-1858c23ba7d6"
      },
      "outputs": [
        {
          "name": "stdout",
          "output_type": "stream",
          "text": [
            "r2 score: \t 78.27521048487847\n",
            "Mean Square Error : \t 3610206.5730604474\n",
            "Root Mean Square Error : \t 1900.0543605540468\n"
          ]
        }
      ],
      "source": [
        "knn = KNeighborsRegressor()\n",
        "knn.fit(x_train,y_train)\n",
        "pred = knn.predict(x_test)\n",
        "print(\"r2 score: \\t\", r2_score(y_test,pred)*100)\n",
        "print(\"Mean Square Error : \\t\", mean_squared_error(y_test,pred))\n",
        "print(\"Root Mean Square Error : \\t\", np.sqrt(mean_squared_error(y_test,pred)))"
      ]
    },
    {
      "cell_type": "markdown",
      "id": "b6b81c3b",
      "metadata": {
        "id": "b6b81c3b"
      },
      "source": [
        "SUPPORT VECTOR MACHINES"
      ]
    },
    {
      "cell_type": "code",
      "execution_count": null,
      "id": "c924913d",
      "metadata": {
        "id": "c924913d",
        "outputId": "e4723da9-b21b-4a9e-f407-ce81e736f1f7"
      },
      "outputs": [
        {
          "name": "stdout",
          "output_type": "stream",
          "text": [
            "r2 score: \t 6.299731965428823\n",
            "Mean Square Error : \t 15571028.815744182\n",
            "Root Mean Square Error : \t 3946.014294923953\n"
          ]
        }
      ],
      "source": [
        "svr = SVR()\n",
        "svr.fit(x_train,y_train)\n",
        "pred = svr.predict(x_test)\n",
        "print(\"r2 score: \\t\", r2_score(y_test,pred)*100)\n",
        "print(\"Mean Square Error : \\t\", mean_squared_error(y_test,pred))\n",
        "print(\"Root Mean Square Error : \\t\", np.sqrt(mean_squared_error(y_test,pred)))"
      ]
    },
    {
      "cell_type": "markdown",
      "id": "adc32c92",
      "metadata": {
        "id": "adc32c92"
      },
      "source": [
        "Random Forest Regressor"
      ]
    },
    {
      "cell_type": "code",
      "execution_count": null,
      "id": "1471a9e5",
      "metadata": {
        "id": "1471a9e5",
        "outputId": "22c07c87-b42e-40a4-b56e-2394406f19ad"
      },
      "outputs": [
        {
          "name": "stdout",
          "output_type": "stream",
          "text": [
            "r2 score: \t 91.92432399286952\n",
            "Mean Square Error : \t 1342008.7951855992\n",
            "Root Mean Square Error : \t 1158.4510327094536\n"
          ]
        }
      ],
      "source": [
        "rf = RandomForestRegressor()\n",
        "rf.fit(x_train,y_train)\n",
        "pred = rf.predict(x_test)\n",
        "print(\"r2 score: \\t\", r2_score(y_test,pred)*100)\n",
        "print(\"Mean Square Error : \\t\", mean_squared_error(y_test,pred))\n",
        "print(\"Root Mean Square Error : \\t\", np.sqrt(mean_squared_error(y_test,pred)))"
      ]
    },
    {
      "cell_type": "markdown",
      "id": "1682b172",
      "metadata": {
        "id": "1682b172"
      },
      "source": [
        "Decision Tree Regressor"
      ]
    },
    {
      "cell_type": "code",
      "execution_count": null,
      "id": "0be3c5bb",
      "metadata": {
        "id": "0be3c5bb",
        "outputId": "1efc6cdd-6e51-4bbe-c9f9-7d918c7975d1"
      },
      "outputs": [
        {
          "name": "stdout",
          "output_type": "stream",
          "text": [
            "r2 score: \t 85.2462067779275\n",
            "Mean Square Error : \t 2451772.489249035\n",
            "Root Mean Square Error : \t 1565.8136828017039\n"
          ]
        }
      ],
      "source": [
        "dt = DecisionTreeRegressor()\n",
        "dt.fit(x_train,y_train)\n",
        "pred = dt.predict(x_test)\n",
        "print(\"r2 score: \\t\", r2_score(y_test,pred)*100)\n",
        "print(\"Mean Square Error : \\t\", mean_squared_error(y_test,pred))\n",
        "print(\"Root Mean Square Error : \\t\", np.sqrt(mean_squared_error(y_test,pred)))"
      ]
    },
    {
      "cell_type": "markdown",
      "id": "06948473",
      "metadata": {
        "id": "06948473"
      },
      "source": [
        "Out of all the models Random Forest Regressor and the Decision Tree Regressor has the highest r2_score"
      ]
    },
    {
      "cell_type": "markdown",
      "id": "2d1a4e41",
      "metadata": {
        "id": "2d1a4e41"
      },
      "source": [
        "# Cross validation"
      ]
    },
    {
      "cell_type": "code",
      "execution_count": null,
      "id": "0d1b1c98",
      "metadata": {
        "id": "0d1b1c98",
        "outputId": "bd3b4aa3-2ae1-4297-ceb7-8957e289944d"
      },
      "outputs": [
        {
          "name": "stdout",
          "output_type": "stream",
          "text": [
            "Cross validation score of Linear Regression is: \t 0.46847722633285843\n"
          ]
        }
      ],
      "source": [
        "scr1 = cross_val_score(lr, x, y, cv=5, scoring='r2')\n",
        "print(\"Cross validation score of Linear Regression is: \\t\", scr1.mean())"
      ]
    },
    {
      "cell_type": "code",
      "execution_count": null,
      "id": "2a02af40",
      "metadata": {
        "id": "2a02af40",
        "outputId": "ff0553d3-a464-4dc2-b8c4-e52915f390ca"
      },
      "outputs": [
        {
          "name": "stdout",
          "output_type": "stream",
          "text": [
            "Cross validation score of Ridge Regression is: \t 0.4684775338492031\n"
          ]
        }
      ],
      "source": [
        "scr2 = cross_val_score(rr, x, y, cv=5, scoring='r2')\n",
        "print(\"Cross validation score of Ridge Regression is: \\t\", scr2.mean())"
      ]
    },
    {
      "cell_type": "code",
      "execution_count": null,
      "id": "09ff9aa4",
      "metadata": {
        "id": "09ff9aa4",
        "outputId": "09ddb991-f2be-4675-d855-c66996ef9fb7"
      },
      "outputs": [
        {
          "name": "stdout",
          "output_type": "stream",
          "text": [
            "Cross validation score of Decision Tree Regressor is: \t 0.8639861957876975\n"
          ]
        }
      ],
      "source": [
        "scr3 = cross_val_score(dt, x, y, cv=5)\n",
        "print(\"Cross validation score of Decision Tree Regressor is: \\t\", scr3.mean())"
      ]
    },
    {
      "cell_type": "code",
      "execution_count": null,
      "id": "9f52f309",
      "metadata": {
        "id": "9f52f309",
        "outputId": "e54a5479-cde5-441f-e8ed-9fa58a7877e6"
      },
      "outputs": [
        {
          "name": "stdout",
          "output_type": "stream",
          "text": [
            "Cross validation score of Random Forest Regressor is: \t 0.9200102312815931\n"
          ]
        }
      ],
      "source": [
        "scr4 = cross_val_score(rf, x, y, cv=5)\n",
        "print(\"Cross validation score of Random Forest Regressor is: \\t\", scr4.mean())"
      ]
    },
    {
      "cell_type": "code",
      "execution_count": null,
      "id": "db6e2d84",
      "metadata": {
        "id": "db6e2d84",
        "outputId": "94d276d9-f1fc-42e1-8939-441d87f1fc43"
      },
      "outputs": [
        {
          "name": "stdout",
          "output_type": "stream",
          "text": [
            "Cross validation score of KNeighbour Regressor is: \t 0.7690662968604609\n"
          ]
        }
      ],
      "source": [
        "scr5 = cross_val_score(knn, x, y, cv=5)\n",
        "print(\"Cross validation score of KNeighbour Regressor is: \\t\", scr5.mean())"
      ]
    },
    {
      "cell_type": "code",
      "execution_count": null,
      "id": "fbc252e4",
      "metadata": {
        "id": "fbc252e4",
        "outputId": "2144cd1f-2448-42ff-be1d-e2e2d8c490ed"
      },
      "outputs": [
        {
          "name": "stdout",
          "output_type": "stream",
          "text": [
            "Cross validation score of SVM is: \t 0.053189734800247426\n"
          ]
        }
      ],
      "source": [
        "scr6 = cross_val_score(svr, x, y, cv=5)\n",
        "print(\"Cross validation score of SVM is: \\t\", scr6.mean())"
      ]
    },
    {
      "cell_type": "markdown",
      "id": "3ec9f63c",
      "metadata": {
        "id": "3ec9f63c"
      },
      "source": [
        "We see that the Random Forest Regressor performs the best in cross validation"
      ]
    },
    {
      "cell_type": "markdown",
      "id": "5460c277",
      "metadata": {
        "id": "5460c277"
      },
      "source": [
        "# Hyper Parameter Tuning"
      ]
    },
    {
      "cell_type": "code",
      "execution_count": null,
      "id": "33f0e675",
      "metadata": {
        "id": "33f0e675",
        "outputId": "e16313a1-533a-43f0-def4-20f1eeb5e322"
      },
      "outputs": [
        {
          "data": {
            "text/plain": [
              "{'bootstrap': True,\n",
              " 'ccp_alpha': 0.0,\n",
              " 'criterion': 'mse',\n",
              " 'max_depth': None,\n",
              " 'max_features': 'auto',\n",
              " 'max_leaf_nodes': None,\n",
              " 'max_samples': None,\n",
              " 'min_impurity_decrease': 0.0,\n",
              " 'min_impurity_split': None,\n",
              " 'min_samples_leaf': 1,\n",
              " 'min_samples_split': 2,\n",
              " 'min_weight_fraction_leaf': 0.0,\n",
              " 'n_estimators': 100,\n",
              " 'n_jobs': None,\n",
              " 'oob_score': False,\n",
              " 'random_state': None,\n",
              " 'verbose': 0,\n",
              " 'warm_start': False}"
            ]
          },
          "execution_count": 64,
          "metadata": {},
          "output_type": "execute_result"
        }
      ],
      "source": [
        "GridSearchCV.get_params(rf)"
      ]
    },
    {
      "cell_type": "code",
      "execution_count": null,
      "id": "b8c62321",
      "metadata": {
        "id": "b8c62321"
      },
      "outputs": [],
      "source": [
        "parameters = {'bootstrap': [True,False],\n",
        "              'max_depth': [10, 20, None],\n",
        "              'min_samples_leaf': [1,2,4],\n",
        "              'min_samples_split': [2,5,10],\n",
        "              'n_estimators': [100,200]}"
      ]
    },
    {
      "cell_type": "code",
      "execution_count": null,
      "id": "78917f2f",
      "metadata": {
        "id": "78917f2f"
      },
      "outputs": [],
      "source": [
        "gcv = GridSearchCV(rf, parameters, cv=5, scoring='r2')"
      ]
    },
    {
      "cell_type": "code",
      "execution_count": null,
      "id": "1046f163",
      "metadata": {
        "id": "1046f163",
        "outputId": "ed695ffd-ccbe-4fe9-9fbc-7e3493ba725f"
      },
      "outputs": [
        {
          "data": {
            "text/plain": [
              "GridSearchCV(cv=5, estimator=RandomForestRegressor(),\n",
              "             param_grid={'bootstrap': [True, False],\n",
              "                         'max_depth': [10, 20, None],\n",
              "                         'min_samples_leaf': [1, 2, 4],\n",
              "                         'min_samples_split': [2, 5, 10],\n",
              "                         'n_estimators': [100, 200]},\n",
              "             scoring='r2')"
            ]
          },
          "execution_count": 67,
          "metadata": {},
          "output_type": "execute_result"
        }
      ],
      "source": [
        "gcv.fit(x_train,y_train)"
      ]
    },
    {
      "cell_type": "code",
      "execution_count": null,
      "id": "6a1e1369",
      "metadata": {
        "id": "6a1e1369",
        "outputId": "c81b83dc-f54f-44b2-f6f3-e9ce7c1f6cda"
      },
      "outputs": [
        {
          "name": "stdout",
          "output_type": "stream",
          "text": [
            "Tuned Hyperparameters : {'bootstrap': True, 'max_depth': 20, 'min_samples_leaf': 1, 'min_samples_split': 5, 'n_estimators': 200}\n",
            "Accuracy : 0.9119113891471426\n"
          ]
        }
      ],
      "source": [
        "print(\"Tuned Hyperparameters :\", gcv.best_params_)\n",
        "print(\"Accuracy :\",gcv.best_score_)"
      ]
    },
    {
      "cell_type": "code",
      "execution_count": null,
      "id": "d3af457e",
      "metadata": {
        "id": "d3af457e",
        "outputId": "a51cc153-3960-4204-8d8e-fe8a134190b5"
      },
      "outputs": [
        {
          "data": {
            "text/plain": [
              "0.9226586536939119"
            ]
          },
          "execution_count": 69,
          "metadata": {},
          "output_type": "execute_result"
        }
      ],
      "source": [
        "gcv_pred = gcv.best_estimator_.predict(x_test)\n",
        "r2_score(y_test,gcv_pred)"
      ]
    },
    {
      "cell_type": "markdown",
      "id": "c27ee2bf",
      "metadata": {
        "id": "c27ee2bf"
      },
      "source": [
        "The best estimator gives the accuracy of 92.26% and hence we shall save this model."
      ]
    },
    {
      "cell_type": "markdown",
      "id": "abed1cc1",
      "metadata": {
        "id": "abed1cc1"
      },
      "source": [
        "# Saving the best model"
      ]
    },
    {
      "cell_type": "code",
      "execution_count": null,
      "id": "89e74029",
      "metadata": {
        "id": "89e74029",
        "outputId": "5b08eea6-1c6c-4894-aa33-78eb5dd0643d"
      },
      "outputs": [
        {
          "data": {
            "text/plain": [
              "['flight_price.pkl']"
            ]
          },
          "execution_count": 70,
          "metadata": {},
          "output_type": "execute_result"
        }
      ],
      "source": [
        "joblib.dump(gcv.best_estimator_,\"flight_price.pkl\")"
      ]
    },
    {
      "cell_type": "code",
      "execution_count": null,
      "id": "2634a753",
      "metadata": {
        "id": "2634a753"
      },
      "outputs": [],
      "source": []
    }
  ],
  "metadata": {
    "kernelspec": {
      "display_name": "Python 3",
      "language": "python",
      "name": "python3"
    },
    "language_info": {
      "codemirror_mode": {
        "name": "ipython",
        "version": 3
      },
      "file_extension": ".py",
      "mimetype": "text/x-python",
      "name": "python",
      "nbconvert_exporter": "python",
      "pygments_lexer": "ipython3",
      "version": "3.8.8"
    },
    "colab": {
      "provenance": []
    }
  },
  "nbformat": 4,
  "nbformat_minor": 5
}