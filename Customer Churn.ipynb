{
  "cells": [
    {
      "cell_type": "code",
      "execution_count": null,
      "id": "1e8f89ed",
      "metadata": {
        "id": "1e8f89ed"
      },
      "outputs": [],
      "source": [
        "import pandas as pd\n",
        "import numpy as np\n",
        "import seaborn as sns\n",
        "import matplotlib.pyplot as plt\n",
        "from sklearn.preprocessing import LabelEncoder, StandardScaler\n",
        "from scipy.stats import zscore\n",
        "from sklearn.model_selection import train_test_split, cross_val_score, GridSearchCV\n",
        "from sklearn.linear_model import LogisticRegression\n",
        "from sklearn.metrics import plot_roc_curve, accuracy_score, classification_report, confusion_matrix\n",
        "from sklearn.utils import resample\n",
        "from sklearn.neighbors import KNeighborsClassifier\n",
        "from sklearn.svm import SVC\n",
        "from sklearn.tree import DecisionTreeClassifier\n",
        "from sklearn.ensemble import RandomForestClassifier\n",
        "import joblib\n",
        "\n",
        "import warnings\n",
        "warnings.filterwarnings('ignore')"
      ]
    },
    {
      "cell_type": "markdown",
      "id": "6294106e",
      "metadata": {
        "id": "6294106e"
      },
      "source": [
        "# Data Collection"
      ]
    },
    {
      "cell_type": "code",
      "execution_count": null,
      "id": "fb4ca679",
      "metadata": {
        "id": "fb4ca679"
      },
      "outputs": [],
      "source": [
        "df = pd.read_csv(r'C:\\Users\\Shubham\\Desktop\\Projects\\Evaluation\\Customer_Churn\\Telecom_customer_churn.csv')"
      ]
    },
    {
      "cell_type": "markdown",
      "id": "bf1945fb",
      "metadata": {
        "id": "bf1945fb"
      },
      "source": [
        "# Data Understanding"
      ]
    },
    {
      "cell_type": "code",
      "execution_count": null,
      "id": "5858a20b",
      "metadata": {
        "id": "5858a20b",
        "outputId": "3fe68ea9-c2a6-4daa-95ec-a8fe6a1f3654"
      },
      "outputs": [
        {
          "data": {
            "text/html": [
              "<div>\n",
              "<style scoped>\n",
              "    .dataframe tbody tr th:only-of-type {\n",
              "        vertical-align: middle;\n",
              "    }\n",
              "\n",
              "    .dataframe tbody tr th {\n",
              "        vertical-align: top;\n",
              "    }\n",
              "\n",
              "    .dataframe thead th {\n",
              "        text-align: right;\n",
              "    }\n",
              "</style>\n",
              "<table border=\"1\" class=\"dataframe\">\n",
              "  <thead>\n",
              "    <tr style=\"text-align: right;\">\n",
              "      <th></th>\n",
              "      <th>customerID</th>\n",
              "      <th>gender</th>\n",
              "      <th>SeniorCitizen</th>\n",
              "      <th>Partner</th>\n",
              "      <th>Dependents</th>\n",
              "      <th>tenure</th>\n",
              "      <th>PhoneService</th>\n",
              "      <th>MultipleLines</th>\n",
              "      <th>InternetService</th>\n",
              "      <th>OnlineSecurity</th>\n",
              "      <th>OnlineBackup</th>\n",
              "      <th>DeviceProtection</th>\n",
              "      <th>TechSupport</th>\n",
              "      <th>StreamingTV</th>\n",
              "      <th>StreamingMovies</th>\n",
              "      <th>Contract</th>\n",
              "      <th>PaperlessBilling</th>\n",
              "      <th>PaymentMethod</th>\n",
              "      <th>MonthlyCharges</th>\n",
              "      <th>TotalCharges</th>\n",
              "      <th>Churn</th>\n",
              "    </tr>\n",
              "  </thead>\n",
              "  <tbody>\n",
              "    <tr>\n",
              "      <th>0</th>\n",
              "      <td>7590-VHVEG</td>\n",
              "      <td>Female</td>\n",
              "      <td>0</td>\n",
              "      <td>Yes</td>\n",
              "      <td>No</td>\n",
              "      <td>1</td>\n",
              "      <td>No</td>\n",
              "      <td>No phone service</td>\n",
              "      <td>DSL</td>\n",
              "      <td>No</td>\n",
              "      <td>Yes</td>\n",
              "      <td>No</td>\n",
              "      <td>No</td>\n",
              "      <td>No</td>\n",
              "      <td>No</td>\n",
              "      <td>Month-to-month</td>\n",
              "      <td>Yes</td>\n",
              "      <td>Electronic check</td>\n",
              "      <td>29.85</td>\n",
              "      <td>29.85</td>\n",
              "      <td>No</td>\n",
              "    </tr>\n",
              "    <tr>\n",
              "      <th>1</th>\n",
              "      <td>5575-GNVDE</td>\n",
              "      <td>Male</td>\n",
              "      <td>0</td>\n",
              "      <td>No</td>\n",
              "      <td>No</td>\n",
              "      <td>34</td>\n",
              "      <td>Yes</td>\n",
              "      <td>No</td>\n",
              "      <td>DSL</td>\n",
              "      <td>Yes</td>\n",
              "      <td>No</td>\n",
              "      <td>Yes</td>\n",
              "      <td>No</td>\n",
              "      <td>No</td>\n",
              "      <td>No</td>\n",
              "      <td>One year</td>\n",
              "      <td>No</td>\n",
              "      <td>Mailed check</td>\n",
              "      <td>56.95</td>\n",
              "      <td>1889.5</td>\n",
              "      <td>No</td>\n",
              "    </tr>\n",
              "    <tr>\n",
              "      <th>2</th>\n",
              "      <td>3668-QPYBK</td>\n",
              "      <td>Male</td>\n",
              "      <td>0</td>\n",
              "      <td>No</td>\n",
              "      <td>No</td>\n",
              "      <td>2</td>\n",
              "      <td>Yes</td>\n",
              "      <td>No</td>\n",
              "      <td>DSL</td>\n",
              "      <td>Yes</td>\n",
              "      <td>Yes</td>\n",
              "      <td>No</td>\n",
              "      <td>No</td>\n",
              "      <td>No</td>\n",
              "      <td>No</td>\n",
              "      <td>Month-to-month</td>\n",
              "      <td>Yes</td>\n",
              "      <td>Mailed check</td>\n",
              "      <td>53.85</td>\n",
              "      <td>108.15</td>\n",
              "      <td>Yes</td>\n",
              "    </tr>\n",
              "    <tr>\n",
              "      <th>3</th>\n",
              "      <td>7795-CFOCW</td>\n",
              "      <td>Male</td>\n",
              "      <td>0</td>\n",
              "      <td>No</td>\n",
              "      <td>No</td>\n",
              "      <td>45</td>\n",
              "      <td>No</td>\n",
              "      <td>No phone service</td>\n",
              "      <td>DSL</td>\n",
              "      <td>Yes</td>\n",
              "      <td>No</td>\n",
              "      <td>Yes</td>\n",
              "      <td>Yes</td>\n",
              "      <td>No</td>\n",
              "      <td>No</td>\n",
              "      <td>One year</td>\n",
              "      <td>No</td>\n",
              "      <td>Bank transfer (automatic)</td>\n",
              "      <td>42.30</td>\n",
              "      <td>1840.75</td>\n",
              "      <td>No</td>\n",
              "    </tr>\n",
              "    <tr>\n",
              "      <th>4</th>\n",
              "      <td>9237-HQITU</td>\n",
              "      <td>Female</td>\n",
              "      <td>0</td>\n",
              "      <td>No</td>\n",
              "      <td>No</td>\n",
              "      <td>2</td>\n",
              "      <td>Yes</td>\n",
              "      <td>No</td>\n",
              "      <td>Fiber optic</td>\n",
              "      <td>No</td>\n",
              "      <td>No</td>\n",
              "      <td>No</td>\n",
              "      <td>No</td>\n",
              "      <td>No</td>\n",
              "      <td>No</td>\n",
              "      <td>Month-to-month</td>\n",
              "      <td>Yes</td>\n",
              "      <td>Electronic check</td>\n",
              "      <td>70.70</td>\n",
              "      <td>151.65</td>\n",
              "      <td>Yes</td>\n",
              "    </tr>\n",
              "  </tbody>\n",
              "</table>\n",
              "</div>"
            ],
            "text/plain": [
              "   customerID  gender  SeniorCitizen Partner Dependents  tenure PhoneService  \\\n",
              "0  7590-VHVEG  Female              0     Yes         No       1           No   \n",
              "1  5575-GNVDE    Male              0      No         No      34          Yes   \n",
              "2  3668-QPYBK    Male              0      No         No       2          Yes   \n",
              "3  7795-CFOCW    Male              0      No         No      45           No   \n",
              "4  9237-HQITU  Female              0      No         No       2          Yes   \n",
              "\n",
              "      MultipleLines InternetService OnlineSecurity OnlineBackup  \\\n",
              "0  No phone service             DSL             No          Yes   \n",
              "1                No             DSL            Yes           No   \n",
              "2                No             DSL            Yes          Yes   \n",
              "3  No phone service             DSL            Yes           No   \n",
              "4                No     Fiber optic             No           No   \n",
              "\n",
              "  DeviceProtection TechSupport StreamingTV StreamingMovies        Contract  \\\n",
              "0               No          No          No              No  Month-to-month   \n",
              "1              Yes          No          No              No        One year   \n",
              "2               No          No          No              No  Month-to-month   \n",
              "3              Yes         Yes          No              No        One year   \n",
              "4               No          No          No              No  Month-to-month   \n",
              "\n",
              "  PaperlessBilling              PaymentMethod  MonthlyCharges TotalCharges  \\\n",
              "0              Yes           Electronic check           29.85        29.85   \n",
              "1               No               Mailed check           56.95       1889.5   \n",
              "2              Yes               Mailed check           53.85       108.15   \n",
              "3               No  Bank transfer (automatic)           42.30      1840.75   \n",
              "4              Yes           Electronic check           70.70       151.65   \n",
              "\n",
              "  Churn  \n",
              "0    No  \n",
              "1    No  \n",
              "2   Yes  \n",
              "3    No  \n",
              "4   Yes  "
            ]
          },
          "execution_count": 3,
          "metadata": {},
          "output_type": "execute_result"
        }
      ],
      "source": [
        "pd.set_option(\"display.max_columns\", None)\n",
        "df.head() #Looking into the top 5 rows of the dataset"
      ]
    },
    {
      "cell_type": "code",
      "execution_count": null,
      "id": "08260c93",
      "metadata": {
        "id": "08260c93",
        "outputId": "55e80e43-febd-479f-f0dd-db703f42ec2d"
      },
      "outputs": [
        {
          "data": {
            "text/plain": [
              "(7043, 21)"
            ]
          },
          "execution_count": 4,
          "metadata": {},
          "output_type": "execute_result"
        }
      ],
      "source": [
        "df.shape #Cecking the shape of the dataset"
      ]
    },
    {
      "cell_type": "code",
      "execution_count": null,
      "id": "ccd53526",
      "metadata": {
        "id": "ccd53526",
        "outputId": "481a6510-2def-4a10-f909-d2caa8da8886"
      },
      "outputs": [
        {
          "name": "stdout",
          "output_type": "stream",
          "text": [
            "<class 'pandas.core.frame.DataFrame'>\n",
            "RangeIndex: 7043 entries, 0 to 7042\n",
            "Data columns (total 21 columns):\n",
            " #   Column            Non-Null Count  Dtype  \n",
            "---  ------            --------------  -----  \n",
            " 0   customerID        7043 non-null   object \n",
            " 1   gender            7043 non-null   object \n",
            " 2   SeniorCitizen     7043 non-null   int64  \n",
            " 3   Partner           7043 non-null   object \n",
            " 4   Dependents        7043 non-null   object \n",
            " 5   tenure            7043 non-null   int64  \n",
            " 6   PhoneService      7043 non-null   object \n",
            " 7   MultipleLines     7043 non-null   object \n",
            " 8   InternetService   7043 non-null   object \n",
            " 9   OnlineSecurity    7043 non-null   object \n",
            " 10  OnlineBackup      7043 non-null   object \n",
            " 11  DeviceProtection  7043 non-null   object \n",
            " 12  TechSupport       7043 non-null   object \n",
            " 13  StreamingTV       7043 non-null   object \n",
            " 14  StreamingMovies   7043 non-null   object \n",
            " 15  Contract          7043 non-null   object \n",
            " 16  PaperlessBilling  7043 non-null   object \n",
            " 17  PaymentMethod     7043 non-null   object \n",
            " 18  MonthlyCharges    7043 non-null   float64\n",
            " 19  TotalCharges      7043 non-null   object \n",
            " 20  Churn             7043 non-null   object \n",
            "dtypes: float64(1), int64(2), object(18)\n",
            "memory usage: 1.1+ MB\n"
          ]
        }
      ],
      "source": [
        "df.info() #Basic info of the dataset"
      ]
    },
    {
      "cell_type": "markdown",
      "id": "0a55a442",
      "metadata": {
        "id": "0a55a442"
      },
      "source": [
        "We see that most of the data here are object type, it is fine as most of them are classification type and we shall convert them in the Exploratory Data Analysis."
      ]
    },
    {
      "cell_type": "markdown",
      "id": "129216ce",
      "metadata": {
        "id": "129216ce"
      },
      "source": [
        "We also see that 'TotalCharges' column is an object type which is an abnormality as total charges are numerical type. This only means that there are null value. We shall look into it in EDA"
      ]
    },
    {
      "cell_type": "code",
      "execution_count": null,
      "id": "f7371b22",
      "metadata": {
        "id": "f7371b22",
        "outputId": "dc79e9ee-ba56-4aa7-9b1d-81dd07b9a00f"
      },
      "outputs": [
        {
          "data": {
            "text/plain": [
              "11"
            ]
          },
          "execution_count": 6,
          "metadata": {},
          "output_type": "execute_result"
        }
      ],
      "source": [
        "#Checing for number of ' ' values\n",
        "(df['TotalCharges']==' ').sum()"
      ]
    },
    {
      "cell_type": "code",
      "execution_count": null,
      "id": "79fbd27d",
      "metadata": {
        "id": "79fbd27d"
      },
      "outputs": [],
      "source": [
        "#Dropping the rows with 0 value in tenure\n",
        "df.drop(df.loc[df['TotalCharges']==' '].index, inplace=True)"
      ]
    },
    {
      "cell_type": "code",
      "execution_count": null,
      "id": "fde333c3",
      "metadata": {
        "id": "fde333c3",
        "outputId": "14875425-741c-466c-d749-07844ab4dcc3"
      },
      "outputs": [
        {
          "data": {
            "text/plain": [
              "(7032, 21)"
            ]
          },
          "execution_count": 8,
          "metadata": {},
          "output_type": "execute_result"
        }
      ],
      "source": [
        "df.shape #Cecking the shape of the dataset"
      ]
    },
    {
      "cell_type": "markdown",
      "id": "bd4d124b",
      "metadata": {
        "id": "bd4d124b"
      },
      "source": [
        "Now that we have removed all the string type data, let us convert the column into numeric type to check if there is any other missing values"
      ]
    },
    {
      "cell_type": "code",
      "execution_count": null,
      "id": "14698abd",
      "metadata": {
        "id": "14698abd"
      },
      "outputs": [],
      "source": [
        "df[\"TotalCharges\"] = pd.to_numeric(df[\"TotalCharges\"])"
      ]
    },
    {
      "cell_type": "code",
      "execution_count": null,
      "id": "56117bcd",
      "metadata": {
        "id": "56117bcd",
        "outputId": "779c10b6-8038-40e3-ba97-b3845c82ec35"
      },
      "outputs": [
        {
          "data": {
            "text/plain": [
              "customerID          0\n",
              "gender              0\n",
              "SeniorCitizen       0\n",
              "Partner             0\n",
              "Dependents          0\n",
              "tenure              0\n",
              "PhoneService        0\n",
              "MultipleLines       0\n",
              "InternetService     0\n",
              "OnlineSecurity      0\n",
              "OnlineBackup        0\n",
              "DeviceProtection    0\n",
              "TechSupport         0\n",
              "StreamingTV         0\n",
              "StreamingMovies     0\n",
              "Contract            0\n",
              "PaperlessBilling    0\n",
              "PaymentMethod       0\n",
              "MonthlyCharges      0\n",
              "TotalCharges        0\n",
              "Churn               0\n",
              "dtype: int64"
            ]
          },
          "execution_count": 10,
          "metadata": {},
          "output_type": "execute_result"
        }
      ],
      "source": [
        "df.isnull().sum() #Checking for null values"
      ]
    },
    {
      "cell_type": "markdown",
      "id": "029ec4c0",
      "metadata": {
        "id": "029ec4c0"
      },
      "source": [
        "Here we note that there are no null values present in the dataset"
      ]
    },
    {
      "cell_type": "code",
      "execution_count": null,
      "id": "0b98890a",
      "metadata": {
        "id": "0b98890a",
        "outputId": "7f31fe97-f3a7-46fd-a158-d8fbe6d1c2d7"
      },
      "outputs": [
        {
          "data": {
            "text/plain": [
              "<AxesSubplot:>"
            ]
          },
          "execution_count": 11,
          "metadata": {},
          "output_type": "execute_result"
        },
        {
          "data": {
            "image/png": "[encoded data removed]",
            "text/plain": [
              "<Figure size 432x288 with 2 Axes>"
            ]
          },
          "metadata": {
            "needs_background": "light"
          },
          "output_type": "display_data"
        }
      ],
      "source": [
        "sns.heatmap(df.isnull()) #Visualization of null values"
      ]
    },
    {
      "cell_type": "code",
      "execution_count": null,
      "id": "1d2a9657",
      "metadata": {
        "id": "1d2a9657",
        "outputId": "98eaeda9-7147-4302-b0d7-453d59b4e75e"
      },
      "outputs": [
        {
          "data": {
            "text/plain": [
              "Index(['customerID', 'gender', 'SeniorCitizen', 'Partner', 'Dependents',\n",
              "       'tenure', 'PhoneService', 'MultipleLines', 'InternetService',\n",
              "       'OnlineSecurity', 'OnlineBackup', 'DeviceProtection', 'TechSupport',\n",
              "       'StreamingTV', 'StreamingMovies', 'Contract', 'PaperlessBilling',\n",
              "       'PaymentMethod', 'MonthlyCharges', 'TotalCharges', 'Churn'],\n",
              "      dtype='object')"
            ]
          },
          "execution_count": 12,
          "metadata": {},
          "output_type": "execute_result"
        }
      ],
      "source": [
        "df.columns #Calling all the column names of the dataset"
      ]
    },
    {
      "cell_type": "markdown",
      "id": "c0fffaf6",
      "metadata": {
        "id": "c0fffaf6"
      },
      "source": [
        "# Exploratory Data Analysis"
      ]
    },
    {
      "cell_type": "markdown",
      "id": "8e03c976",
      "metadata": {
        "id": "8e03c976"
      },
      "source": [
        "Let us now look into all the columns one at a time, beginning with the target column 'Churn'"
      ]
    },
    {
      "cell_type": "code",
      "execution_count": null,
      "id": "6080ab01",
      "metadata": {
        "id": "6080ab01",
        "outputId": "25aeecbe-6f7f-44d9-fc4f-f167e3200018"
      },
      "outputs": [
        {
          "data": {
            "text/plain": [
              "No     5163\n",
              "Yes    1869\n",
              "Name: Churn, dtype: int64"
            ]
          },
          "execution_count": 13,
          "metadata": {},
          "output_type": "execute_result"
        }
      ],
      "source": [
        "#Checking for unique features in the column with the count\n",
        "df['Churn'].value_counts()"
      ]
    },
    {
      "cell_type": "markdown",
      "id": "2593089b",
      "metadata": {
        "id": "2593089b"
      },
      "source": [
        "We see that the data is slightly imbalanced. We shall apply sampling method in the later stages. For now, let us convert them into numerical values using Label Encoder and plot them for visualization"
      ]
    },
    {
      "cell_type": "code",
      "execution_count": null,
      "id": "5b11557c",
      "metadata": {
        "id": "5b11557c"
      },
      "outputs": [],
      "source": [
        "#Encoding data\n",
        "le = LabelEncoder()\n",
        "df['Churn'] = le.fit_transform(df['Churn'])"
      ]
    },
    {
      "cell_type": "code",
      "execution_count": null,
      "id": "bd326d2b",
      "metadata": {
        "id": "bd326d2b",
        "outputId": "1f0a67c7-ad81-4d9c-bc4e-e663d5c8773c"
      },
      "outputs": [
        {
          "data": {
            "text/plain": [
              "<AxesSubplot:xlabel='Churn', ylabel='count'>"
            ]
          },
          "execution_count": 15,
          "metadata": {},
          "output_type": "execute_result"
        },
        {
          "data": {
            "image/png": "[encoded data removed]",
            "text/plain": [
              "<Figure size 432x288 with 1 Axes>"
            ]
          },
          "metadata": {
            "needs_background": "light"
          },
          "output_type": "display_data"
        }
      ],
      "source": [
        "#Count plot\n",
        "sns.countplot(df['Churn'])"
      ]
    },
    {
      "cell_type": "markdown",
      "id": "b075626a",
      "metadata": {
        "id": "b075626a"
      },
      "source": [
        "The next column we look into is the 'customerID'"
      ]
    },
    {
      "cell_type": "code",
      "execution_count": null,
      "id": "118178e3",
      "metadata": {
        "id": "118178e3",
        "outputId": "e0d662c4-f1d0-4656-cf3d-069207c9ad64"
      },
      "outputs": [
        {
          "data": {
            "text/plain": [
              "7032"
            ]
          },
          "execution_count": 16,
          "metadata": {},
          "output_type": "execute_result"
        }
      ],
      "source": [
        "#Checking for number of unique features\n",
        "df['customerID'].nunique()"
      ]
    },
    {
      "cell_type": "markdown",
      "id": "e87efe94",
      "metadata": {
        "id": "e87efe94"
      },
      "source": [
        "This shows that each of the data is unique for each customer, thereby acting as an index and hence shall not be included in the model for predicting churn. We will drop this column"
      ]
    },
    {
      "cell_type": "code",
      "execution_count": null,
      "id": "1c40d574",
      "metadata": {
        "id": "1c40d574"
      },
      "outputs": [],
      "source": [
        "df.drop(columns='customerID', inplace=True)"
      ]
    },
    {
      "cell_type": "markdown",
      "id": "1d90018d",
      "metadata": {
        "id": "1d90018d"
      },
      "source": [
        "The next column we look into is the 'gender'. We know its classification type and we shall convert it into numerical value"
      ]
    },
    {
      "cell_type": "code",
      "execution_count": null,
      "id": "a21fe8f5",
      "metadata": {
        "id": "a21fe8f5",
        "outputId": "3f439bbc-831a-451e-f70e-c7d409c90c5e"
      },
      "outputs": [
        {
          "data": {
            "text/plain": [
              "Male      3549\n",
              "Female    3483\n",
              "Name: gender, dtype: int64"
            ]
          },
          "execution_count": 18,
          "metadata": {},
          "output_type": "execute_result"
        }
      ],
      "source": [
        "#Checking for unique features in the column with the count\n",
        "df['gender'].value_counts()"
      ]
    },
    {
      "cell_type": "code",
      "execution_count": null,
      "id": "f2835703",
      "metadata": {
        "id": "f2835703"
      },
      "outputs": [],
      "source": [
        "#Encoding data\n",
        "le = LabelEncoder()\n",
        "df['gender'] = le.fit_transform(df['gender'])"
      ]
    },
    {
      "cell_type": "code",
      "execution_count": null,
      "id": "06d889c4",
      "metadata": {
        "id": "06d889c4",
        "outputId": "a9f3bf5b-170b-406b-ef05-085a9d1bac95"
      },
      "outputs": [
        {
          "data": {
            "text/plain": [
              "<AxesSubplot:xlabel='gender', ylabel='count'>"
            ]
          },
          "execution_count": 20,
          "metadata": {},
          "output_type": "execute_result"
        },
        {
          "data": {
            "image/png": "[encoded data removed]",
            "text/plain": [
              "<Figure size 432x288 with 1 Axes>"
            ]
          },
          "metadata": {
            "needs_background": "light"
          },
          "output_type": "display_data"
        }
      ],
      "source": [
        "#Count plot\n",
        "sns.countplot(df['gender'])"
      ]
    },
    {
      "cell_type": "markdown",
      "id": "3bfe4043",
      "metadata": {
        "id": "3bfe4043"
      },
      "source": [
        "The next column we look into is the 'SeniorCitizen'. We know its classification type"
      ]
    },
    {
      "cell_type": "code",
      "execution_count": null,
      "id": "1ce2508e",
      "metadata": {
        "id": "1ce2508e",
        "outputId": "f05a6f3b-e5ed-4448-ff49-70d9addaa94c"
      },
      "outputs": [
        {
          "data": {
            "text/plain": [
              "0    5890\n",
              "1    1142\n",
              "Name: SeniorCitizen, dtype: int64"
            ]
          },
          "execution_count": 21,
          "metadata": {},
          "output_type": "execute_result"
        }
      ],
      "source": [
        "#Checking for unique features in the column with the count\n",
        "df['SeniorCitizen'].value_counts()"
      ]
    },
    {
      "cell_type": "markdown",
      "id": "eb132997",
      "metadata": {
        "id": "eb132997"
      },
      "source": [
        "The data here is already encoded one, 0 being no and 1 being yes"
      ]
    },
    {
      "cell_type": "code",
      "execution_count": null,
      "id": "3e4a329c",
      "metadata": {
        "id": "3e4a329c",
        "outputId": "012edcec-aec8-4816-c12c-d755cf994e8e"
      },
      "outputs": [
        {
          "data": {
            "text/plain": [
              "<AxesSubplot:xlabel='SeniorCitizen', ylabel='count'>"
            ]
          },
          "execution_count": 22,
          "metadata": {},
          "output_type": "execute_result"
        },
        {
          "data": {
            "image/png": "[encoded data removed]",
            "text/plain": [
              "<Figure size 432x288 with 1 Axes>"
            ]
          },
          "metadata": {
            "needs_background": "light"
          },
          "output_type": "display_data"
        }
      ],
      "source": [
        "#Count plot\n",
        "sns.countplot(df['SeniorCitizen'])"
      ]
    },
    {
      "cell_type": "markdown",
      "id": "7dafca72",
      "metadata": {
        "id": "7dafca72"
      },
      "source": [
        "The next column we look into is the 'Partner'. We know its classification type and we shall convert it into numerical data using encoding"
      ]
    },
    {
      "cell_type": "code",
      "execution_count": null,
      "id": "07703104",
      "metadata": {
        "id": "07703104",
        "outputId": "789c2805-88eb-41de-883a-8132f82b98fd"
      },
      "outputs": [
        {
          "data": {
            "text/plain": [
              "No     3639\n",
              "Yes    3393\n",
              "Name: Partner, dtype: int64"
            ]
          },
          "execution_count": 23,
          "metadata": {},
          "output_type": "execute_result"
        }
      ],
      "source": [
        "#Checking for unique features in the column with the count\n",
        "df['Partner'].value_counts()"
      ]
    },
    {
      "cell_type": "code",
      "execution_count": null,
      "id": "826110a5",
      "metadata": {
        "id": "826110a5"
      },
      "outputs": [],
      "source": [
        "#Encoding data\n",
        "le = LabelEncoder()\n",
        "df['Partner'] = le.fit_transform(df['Partner'])"
      ]
    },
    {
      "cell_type": "code",
      "execution_count": null,
      "id": "1f29f149",
      "metadata": {
        "id": "1f29f149",
        "outputId": "85358102-c885-43c8-a152-88eb791c0b06"
      },
      "outputs": [
        {
          "data": {
            "text/plain": [
              "<AxesSubplot:xlabel='Partner', ylabel='count'>"
            ]
          },
          "execution_count": 25,
          "metadata": {},
          "output_type": "execute_result"
        },
        {
          "data": {
            "image/png": "[encoded data removed]",
            "text/plain": [
              "<Figure size 432x288 with 1 Axes>"
            ]
          },
          "metadata": {
            "needs_background": "light"
          },
          "output_type": "display_data"
        }
      ],
      "source": [
        "#Count plot\n",
        "sns.countplot(df['Partner'])"
      ]
    },
    {
      "cell_type": "markdown",
      "id": "d506b59f",
      "metadata": {
        "id": "d506b59f"
      },
      "source": [
        "The next column we look into is the 'Dependents'. We know its classification type and we shall convert it into numerical data using encoding"
      ]
    },
    {
      "cell_type": "code",
      "execution_count": null,
      "id": "8b9174b6",
      "metadata": {
        "id": "8b9174b6",
        "outputId": "7b57075f-bffd-4230-8cf6-6c4e499a51bc"
      },
      "outputs": [
        {
          "data": {
            "text/plain": [
              "No     4933\n",
              "Yes    2099\n",
              "Name: Dependents, dtype: int64"
            ]
          },
          "execution_count": 26,
          "metadata": {},
          "output_type": "execute_result"
        }
      ],
      "source": [
        "#Checking for unique features in the column with the count\n",
        "df['Dependents'].value_counts()"
      ]
    },
    {
      "cell_type": "code",
      "execution_count": null,
      "id": "1e1982b9",
      "metadata": {
        "id": "1e1982b9"
      },
      "outputs": [],
      "source": [
        "#Encoding data\n",
        "le = LabelEncoder()\n",
        "df['Dependents'] = le.fit_transform(df['Dependents'])"
      ]
    },
    {
      "cell_type": "code",
      "execution_count": null,
      "id": "3dcb8df1",
      "metadata": {
        "id": "3dcb8df1",
        "outputId": "8f1aa4a9-9a8d-499b-8c77-f9fae23df82f"
      },
      "outputs": [
        {
          "data": {
            "text/plain": [
              "<AxesSubplot:xlabel='Dependents', ylabel='count'>"
            ]
          },
          "execution_count": 28,
          "metadata": {},
          "output_type": "execute_result"
        },
        {
          "data": {
            "image/png": "[encoded data removed]",
            "text/plain": [
              "<Figure size 432x288 with 1 Axes>"
            ]
          },
          "metadata": {
            "needs_background": "light"
          },
          "output_type": "display_data"
        }
      ],
      "source": [
        "#Count plot\n",
        "sns.countplot(df['Dependents'])"
      ]
    },
    {
      "cell_type": "markdown",
      "id": "da635713",
      "metadata": {
        "id": "da635713"
      },
      "source": [
        "The next column we look into is the 'tenure'. This data is a numerical regression column and we shall plot a density plot for the same"
      ]
    },
    {
      "cell_type": "code",
      "execution_count": null,
      "id": "736267a5",
      "metadata": {
        "id": "736267a5",
        "outputId": "1d77f7af-33fb-4e6a-9d2e-10d31a4da8fe"
      },
      "outputs": [
        {
          "data": {
            "text/plain": [
              "<AxesSubplot:xlabel='tenure', ylabel='Density'>"
            ]
          },
          "execution_count": 29,
          "metadata": {},
          "output_type": "execute_result"
        },
        {
          "data": {
            "image/png": "[encoded data removed]",
            "text/plain": [
              "<Figure size 432x288 with 1 Axes>"
            ]
          },
          "metadata": {
            "needs_background": "light"
          },
          "output_type": "display_data"
        }
      ],
      "source": [
        "#Density plot\n",
        "sns.distplot(df['tenure'])"
      ]
    },
    {
      "cell_type": "code",
      "execution_count": null,
      "id": "00d8e0a5",
      "metadata": {
        "id": "00d8e0a5",
        "outputId": "2bb3ec75-60db-4df6-d38b-0f59f6f83138"
      },
      "outputs": [
        {
          "data": {
            "text/plain": [
              "<AxesSubplot:xlabel='tenure'>"
            ]
          },
          "execution_count": 30,
          "metadata": {},
          "output_type": "execute_result"
        },
        {
          "data": {
            "image/png": "[encoded data removed]",
            "text/plain": [
              "<Figure size 432x288 with 1 Axes>"
            ]
          },
          "metadata": {
            "needs_background": "light"
          },
          "output_type": "display_data"
        }
      ],
      "source": [
        "#Box plot\n",
        "sns.boxplot(df['tenure'])"
      ]
    },
    {
      "cell_type": "markdown",
      "id": "e5f86067",
      "metadata": {
        "id": "e5f86067"
      },
      "source": [
        "The next column we look into is the 'PhoneService'. We know its classification type and we shall convert it into numerical data using encoding"
      ]
    },
    {
      "cell_type": "code",
      "execution_count": null,
      "id": "f503d1f0",
      "metadata": {
        "id": "f503d1f0",
        "outputId": "30fc3021-3e2f-497a-c489-9242fc06e147"
      },
      "outputs": [
        {
          "data": {
            "text/plain": [
              "Yes    6352\n",
              "No      680\n",
              "Name: PhoneService, dtype: int64"
            ]
          },
          "execution_count": 31,
          "metadata": {},
          "output_type": "execute_result"
        }
      ],
      "source": [
        "#Checking for unique features in the column with the count\n",
        "df['PhoneService'].value_counts()"
      ]
    },
    {
      "cell_type": "code",
      "execution_count": null,
      "id": "1844c476",
      "metadata": {
        "id": "1844c476"
      },
      "outputs": [],
      "source": [
        "#Encoding data\n",
        "le = LabelEncoder()\n",
        "df['PhoneService'] = le.fit_transform(df['PhoneService'])"
      ]
    },
    {
      "cell_type": "code",
      "execution_count": null,
      "id": "2a35db0d",
      "metadata": {
        "id": "2a35db0d",
        "outputId": "d6065c46-182b-4876-95ab-da0961a5b6ea"
      },
      "outputs": [
        {
          "data": {
            "text/plain": [
              "<AxesSubplot:xlabel='PhoneService', ylabel='count'>"
            ]
          },
          "execution_count": 33,
          "metadata": {},
          "output_type": "execute_result"
        },
        {
          "data": {
            "image/png": "[encoded data removed]",
            "text/plain": [
              "<Figure size 432x288 with 1 Axes>"
            ]
          },
          "metadata": {
            "needs_background": "light"
          },
          "output_type": "display_data"
        }
      ],
      "source": [
        "#Count plot\n",
        "sns.countplot(df['PhoneService'])"
      ]
    },
    {
      "cell_type": "markdown",
      "id": "3132a553",
      "metadata": {
        "id": "3132a553"
      },
      "source": [
        "The next column we look into is the 'MultipleLines'. We know its classification type and we shall convert it into numerical data using encoding"
      ]
    },
    {
      "cell_type": "code",
      "execution_count": null,
      "id": "ef0aa725",
      "metadata": {
        "id": "ef0aa725",
        "outputId": "1eb04ad4-9472-41f7-b882-5040c9535f7b"
      },
      "outputs": [
        {
          "data": {
            "text/plain": [
              "No                  3385\n",
              "Yes                 2967\n",
              "No phone service     680\n",
              "Name: MultipleLines, dtype: int64"
            ]
          },
          "execution_count": 34,
          "metadata": {},
          "output_type": "execute_result"
        }
      ],
      "source": [
        "#Checking for unique features in the column with the count\n",
        "df['MultipleLines'].value_counts()"
      ]
    },
    {
      "cell_type": "markdown",
      "id": "ee0afc9d",
      "metadata": {
        "id": "ee0afc9d"
      },
      "source": [
        "Here, we see that 'No phone Service' value corresponds to the column 'PhoneService' which has already been accounted and hence we shall change this data to 'No' itself and hence make the column a classification between yes or no."
      ]
    },
    {
      "cell_type": "code",
      "execution_count": null,
      "id": "5da60a33",
      "metadata": {
        "id": "5da60a33"
      },
      "outputs": [],
      "source": [
        "#Replacing the values\n",
        "df['MultipleLines'].replace({'No phone service':'No'}, inplace=True)"
      ]
    },
    {
      "cell_type": "code",
      "execution_count": null,
      "id": "e543c96a",
      "metadata": {
        "id": "e543c96a",
        "outputId": "e23e107c-9cfb-4c95-a844-3b46551af0c4"
      },
      "outputs": [
        {
          "data": {
            "text/plain": [
              "No     4065\n",
              "Yes    2967\n",
              "Name: MultipleLines, dtype: int64"
            ]
          },
          "execution_count": 36,
          "metadata": {},
          "output_type": "execute_result"
        }
      ],
      "source": [
        "#Checking unique features with count again\n",
        "df['MultipleLines'].value_counts()"
      ]
    },
    {
      "cell_type": "code",
      "execution_count": null,
      "id": "3a20eace",
      "metadata": {
        "id": "3a20eace"
      },
      "outputs": [],
      "source": [
        "#Encoding data\n",
        "le = LabelEncoder()\n",
        "df['MultipleLines'] = le.fit_transform(df['MultipleLines'])"
      ]
    },
    {
      "cell_type": "code",
      "execution_count": null,
      "id": "fc4fd23b",
      "metadata": {
        "id": "fc4fd23b",
        "outputId": "e53aba7d-1838-49a0-cbec-96daad30eb62"
      },
      "outputs": [
        {
          "data": {
            "text/plain": [
              "<AxesSubplot:xlabel='MultipleLines', ylabel='count'>"
            ]
          },
          "execution_count": 38,
          "metadata": {},
          "output_type": "execute_result"
        },
        {
          "data": {
            "image/png": "[encoded data removed]",
            "text/plain": [
              "<Figure size 432x288 with 1 Axes>"
            ]
          },
          "metadata": {
            "needs_background": "light"
          },
          "output_type": "display_data"
        }
      ],
      "source": [
        "#Count plot\n",
        "sns.countplot(df['MultipleLines'])"
      ]
    },
    {
      "cell_type": "markdown",
      "id": "5fea924e",
      "metadata": {
        "id": "5fea924e"
      },
      "source": [
        "The next column we look into is the 'InternetService'. We know its classification type and we shall convert it into numerical data using encoding"
      ]
    },
    {
      "cell_type": "code",
      "execution_count": null,
      "id": "3879ce2b",
      "metadata": {
        "id": "3879ce2b",
        "outputId": "6460fc07-c8eb-4016-ae20-bc1a74813c08"
      },
      "outputs": [
        {
          "data": {
            "text/plain": [
              "Fiber optic    3096\n",
              "DSL            2416\n",
              "No             1520\n",
              "Name: InternetService, dtype: int64"
            ]
          },
          "execution_count": 39,
          "metadata": {},
          "output_type": "execute_result"
        }
      ],
      "source": [
        "#Checking for unique features in the column with the count\n",
        "df['InternetService'].value_counts()"
      ]
    },
    {
      "cell_type": "code",
      "execution_count": null,
      "id": "1032e0bb",
      "metadata": {
        "id": "1032e0bb"
      },
      "outputs": [],
      "source": [
        "#Encoding data\n",
        "le = LabelEncoder()\n",
        "df['InternetService'] = le.fit_transform(df['InternetService'])"
      ]
    },
    {
      "cell_type": "code",
      "execution_count": null,
      "id": "d2107f27",
      "metadata": {
        "id": "d2107f27",
        "outputId": "079d12b2-30b5-4cf5-bad5-26d9ed6292b2"
      },
      "outputs": [
        {
          "data": {
            "text/plain": [
              "<AxesSubplot:xlabel='InternetService', ylabel='count'>"
            ]
          },
          "execution_count": 41,
          "metadata": {},
          "output_type": "execute_result"
        },
        {
          "data": {
            "image/png": "[encoded data removed]",
            "text/plain": [
              "<Figure size 432x288 with 1 Axes>"
            ]
          },
          "metadata": {
            "needs_background": "light"
          },
          "output_type": "display_data"
        }
      ],
      "source": [
        "#Count plot\n",
        "sns.countplot(df['InternetService'])"
      ]
    },
    {
      "cell_type": "markdown",
      "id": "7174f357",
      "metadata": {
        "id": "7174f357"
      },
      "source": [
        "The next column we look into is the 'OnlineSecurity'. We know its classification type and we shall convert it into numerical data using encoding"
      ]
    },
    {
      "cell_type": "code",
      "execution_count": null,
      "id": "0769bce8",
      "metadata": {
        "scrolled": true,
        "id": "0769bce8",
        "outputId": "cf874760-52e2-4ba7-a7e3-3dfbac5f31de"
      },
      "outputs": [
        {
          "data": {
            "text/plain": [
              "No                     3497\n",
              "Yes                    2015\n",
              "No internet service    1520\n",
              "Name: OnlineSecurity, dtype: int64"
            ]
          },
          "execution_count": 42,
          "metadata": {},
          "output_type": "execute_result"
        }
      ],
      "source": [
        "#Checking for unique features in the column with the count\n",
        "df['OnlineSecurity'].value_counts()"
      ]
    },
    {
      "cell_type": "markdown",
      "id": "6e75398f",
      "metadata": {
        "id": "6e75398f"
      },
      "source": [
        "Here, we see that 'No internet service' value corresponds to the column 'InternetService' which has already been accounted and hence we shall change this data to 'No' itself and hence make the column a classification between yes or no."
      ]
    },
    {
      "cell_type": "code",
      "execution_count": null,
      "id": "14d14576",
      "metadata": {
        "id": "14d14576"
      },
      "outputs": [],
      "source": [
        "#Replacing the values\n",
        "df['OnlineSecurity'].replace({'No internet service':'No'}, inplace=True)"
      ]
    },
    {
      "cell_type": "code",
      "execution_count": null,
      "id": "265bbcea",
      "metadata": {
        "id": "265bbcea",
        "outputId": "e572ee9f-50b2-4bff-c036-c562e63f062e"
      },
      "outputs": [
        {
          "data": {
            "text/plain": [
              "No     5017\n",
              "Yes    2015\n",
              "Name: OnlineSecurity, dtype: int64"
            ]
          },
          "execution_count": 44,
          "metadata": {},
          "output_type": "execute_result"
        }
      ],
      "source": [
        "#Checking for unique features in the column with the count\n",
        "df['OnlineSecurity'].value_counts()"
      ]
    },
    {
      "cell_type": "code",
      "execution_count": null,
      "id": "24220ac7",
      "metadata": {
        "id": "24220ac7"
      },
      "outputs": [],
      "source": [
        "#Encoding data\n",
        "le = LabelEncoder()\n",
        "df['OnlineSecurity'] = le.fit_transform(df['OnlineSecurity'])"
      ]
    },
    {
      "cell_type": "code",
      "execution_count": null,
      "id": "60c99bdd",
      "metadata": {
        "id": "60c99bdd",
        "outputId": "5e3c8671-ed59-47fa-c0e3-a8682c1a3124"
      },
      "outputs": [
        {
          "data": {
            "text/plain": [
              "<AxesSubplot:xlabel='OnlineSecurity', ylabel='count'>"
            ]
          },
          "execution_count": 46,
          "metadata": {},
          "output_type": "execute_result"
        },
        {
          "data": {
            "image/png": "[encoded data removed]",
            "text/plain": [
              "<Figure size 432x288 with 1 Axes>"
            ]
          },
          "metadata": {
            "needs_background": "light"
          },
          "output_type": "display_data"
        }
      ],
      "source": [
        "#Count plot\n",
        "sns.countplot(df['OnlineSecurity'])"
      ]
    },
    {
      "cell_type": "markdown",
      "id": "ca00a626",
      "metadata": {
        "id": "ca00a626"
      },
      "source": [
        "The next column we look into is the 'OnlineBackup'. We know its classification type and we shall convert it into numerical data using encoding"
      ]
    },
    {
      "cell_type": "code",
      "execution_count": null,
      "id": "7f550d27",
      "metadata": {
        "id": "7f550d27",
        "outputId": "4610a9dd-0ea8-4fdf-cead-1b4108cc1e3d"
      },
      "outputs": [
        {
          "data": {
            "text/plain": [
              "No                     3087\n",
              "Yes                    2425\n",
              "No internet service    1520\n",
              "Name: OnlineBackup, dtype: int64"
            ]
          },
          "execution_count": 47,
          "metadata": {},
          "output_type": "execute_result"
        }
      ],
      "source": [
        "#Checking for unique features in the column with the count\n",
        "df['OnlineBackup'].value_counts()"
      ]
    },
    {
      "cell_type": "markdown",
      "id": "415ee649",
      "metadata": {
        "id": "415ee649"
      },
      "source": [
        "Here, we see that 'No internet service' value corresponds to the column 'InternetService' which has already been accounted and hence we shall change this data to 'No' itself and hence make the column a classification between yes or no."
      ]
    },
    {
      "cell_type": "code",
      "execution_count": null,
      "id": "91074f66",
      "metadata": {
        "id": "91074f66"
      },
      "outputs": [],
      "source": [
        "#Replacing the values\n",
        "df['OnlineBackup'].replace({'No internet service':'No'}, inplace=True)"
      ]
    },
    {
      "cell_type": "code",
      "execution_count": null,
      "id": "134bcaca",
      "metadata": {
        "id": "134bcaca",
        "outputId": "dd57d7ce-4d39-4314-9e62-7ca39a2728f3"
      },
      "outputs": [
        {
          "data": {
            "text/plain": [
              "No     4607\n",
              "Yes    2425\n",
              "Name: OnlineBackup, dtype: int64"
            ]
          },
          "execution_count": 49,
          "metadata": {},
          "output_type": "execute_result"
        }
      ],
      "source": [
        "#Checking for unique features in the column with the count\n",
        "df['OnlineBackup'].value_counts()"
      ]
    },
    {
      "cell_type": "code",
      "execution_count": null,
      "id": "ff5c3e91",
      "metadata": {
        "id": "ff5c3e91"
      },
      "outputs": [],
      "source": [
        "#Encoding data\n",
        "le = LabelEncoder()\n",
        "df['OnlineBackup'] = le.fit_transform(df['OnlineBackup'])"
      ]
    },
    {
      "cell_type": "code",
      "execution_count": null,
      "id": "cd730cbf",
      "metadata": {
        "id": "cd730cbf",
        "outputId": "a3cfad32-5a5a-41b1-c2fc-128b9869916f"
      },
      "outputs": [
        {
          "data": {
            "text/plain": [
              "<AxesSubplot:xlabel='OnlineBackup', ylabel='count'>"
            ]
          },
          "execution_count": 51,
          "metadata": {},
          "output_type": "execute_result"
        },
        {
          "data": {
            "image/png": "[encoded data removed]",
            "text/plain": [
              "<Figure size 432x288 with 1 Axes>"
            ]
          },
          "metadata": {
            "needs_background": "light"
          },
          "output_type": "display_data"
        }
      ],
      "source": [
        "#Count plot\n",
        "sns.countplot(df['OnlineBackup'])"
      ]
    },
    {
      "cell_type": "markdown",
      "id": "eb2fd4ab",
      "metadata": {
        "id": "eb2fd4ab"
      },
      "source": [
        "The next column we look into is the 'DeviceProtection'. We know its classification type and we shall convert it into numerical data using encoding"
      ]
    },
    {
      "cell_type": "code",
      "execution_count": null,
      "id": "5d1f5048",
      "metadata": {
        "id": "5d1f5048",
        "outputId": "3b5775e9-66e2-4aba-dd1e-35c31c26be21"
      },
      "outputs": [
        {
          "data": {
            "text/plain": [
              "No                     3094\n",
              "Yes                    2418\n",
              "No internet service    1520\n",
              "Name: DeviceProtection, dtype: int64"
            ]
          },
          "execution_count": 52,
          "metadata": {},
          "output_type": "execute_result"
        }
      ],
      "source": [
        "#Checking for unique features in the column with the count\n",
        "df['DeviceProtection'].value_counts()"
      ]
    },
    {
      "cell_type": "markdown",
      "id": "1f69993c",
      "metadata": {
        "id": "1f69993c"
      },
      "source": [
        "Here, we see that 'No internet service' value corresponds to the column 'InternetService' which has already been accounted and hence we shall change this data to 'No' itself and hence make the column a classification between yes or no."
      ]
    },
    {
      "cell_type": "code",
      "execution_count": null,
      "id": "0a9714b4",
      "metadata": {
        "id": "0a9714b4"
      },
      "outputs": [],
      "source": [
        "#Replacing the values\n",
        "df['DeviceProtection'].replace({'No internet service':'No'}, inplace=True)"
      ]
    },
    {
      "cell_type": "code",
      "execution_count": null,
      "id": "04e517d0",
      "metadata": {
        "id": "04e517d0",
        "outputId": "6129cc31-219d-4f73-dcfa-1b453b3b8308"
      },
      "outputs": [
        {
          "data": {
            "text/plain": [
              "No     4614\n",
              "Yes    2418\n",
              "Name: DeviceProtection, dtype: int64"
            ]
          },
          "execution_count": 54,
          "metadata": {},
          "output_type": "execute_result"
        }
      ],
      "source": [
        "#Checking for unique features in the column with the count\n",
        "df['DeviceProtection'].value_counts()"
      ]
    },
    {
      "cell_type": "code",
      "execution_count": null,
      "id": "0e69c405",
      "metadata": {
        "id": "0e69c405"
      },
      "outputs": [],
      "source": [
        "#Encoding data\n",
        "le = LabelEncoder()\n",
        "df['DeviceProtection'] = le.fit_transform(df['DeviceProtection'])"
      ]
    },
    {
      "cell_type": "code",
      "execution_count": null,
      "id": "48585861",
      "metadata": {
        "id": "48585861",
        "outputId": "e313ee54-d396-41bc-c1ca-f8812b9b1daf"
      },
      "outputs": [
        {
          "data": {
            "text/plain": [
              "<AxesSubplot:xlabel='DeviceProtection', ylabel='count'>"
            ]
          },
          "execution_count": 56,
          "metadata": {},
          "output_type": "execute_result"
        },
        {
          "data": {
            "image/png": "[encoded data removed]",
            "text/plain": [
              "<Figure size 432x288 with 1 Axes>"
            ]
          },
          "metadata": {
            "needs_background": "light"
          },
          "output_type": "display_data"
        }
      ],
      "source": [
        "#Count plot\n",
        "sns.countplot(df['DeviceProtection'])"
      ]
    },
    {
      "cell_type": "markdown",
      "id": "29b1096c",
      "metadata": {
        "id": "29b1096c"
      },
      "source": [
        "The next column we look into is the 'TechSupport'. We know its classification type and we shall convert it into numerical data using encoding"
      ]
    },
    {
      "cell_type": "code",
      "execution_count": null,
      "id": "927a376a",
      "metadata": {
        "id": "927a376a",
        "outputId": "1f2552fb-354f-42c4-8fb6-13d19d18895a"
      },
      "outputs": [
        {
          "data": {
            "text/plain": [
              "No                     3472\n",
              "Yes                    2040\n",
              "No internet service    1520\n",
              "Name: TechSupport, dtype: int64"
            ]
          },
          "execution_count": 57,
          "metadata": {},
          "output_type": "execute_result"
        }
      ],
      "source": [
        "#Checking for unique features in the column with the count\n",
        "df['TechSupport'].value_counts()"
      ]
    },
    {
      "cell_type": "markdown",
      "id": "5876f70c",
      "metadata": {
        "id": "5876f70c"
      },
      "source": [
        "Here, we see that 'No internet service' value corresponds to the column 'InternetService' which has already been accounted and hence we shall change this data to 'No' itself and hence make the column a classification between yes or no."
      ]
    },
    {
      "cell_type": "code",
      "execution_count": null,
      "id": "db3649c7",
      "metadata": {
        "id": "db3649c7"
      },
      "outputs": [],
      "source": [
        "#Replacing the values\n",
        "df['TechSupport'].replace({'No internet service':'No'}, inplace=True)"
      ]
    },
    {
      "cell_type": "code",
      "execution_count": null,
      "id": "42928a9f",
      "metadata": {
        "id": "42928a9f",
        "outputId": "92c71abf-9181-4554-fa44-cf18027ba915"
      },
      "outputs": [
        {
          "data": {
            "text/plain": [
              "No     4992\n",
              "Yes    2040\n",
              "Name: TechSupport, dtype: int64"
            ]
          },
          "execution_count": 59,
          "metadata": {},
          "output_type": "execute_result"
        }
      ],
      "source": [
        "#Checking for unique features in the column with the count\n",
        "df['TechSupport'].value_counts()"
      ]
    },
    {
      "cell_type": "code",
      "execution_count": null,
      "id": "7ff930db",
      "metadata": {
        "id": "7ff930db"
      },
      "outputs": [],
      "source": [
        "#Encoding data\n",
        "le = LabelEncoder()\n",
        "df['TechSupport'] = le.fit_transform(df['TechSupport'])"
      ]
    },
    {
      "cell_type": "code",
      "execution_count": null,
      "id": "caf5fe82",
      "metadata": {
        "id": "caf5fe82",
        "outputId": "93d56c32-a58d-4197-ca2d-8209c2c48e79"
      },
      "outputs": [
        {
          "data": {
            "text/plain": [
              "<AxesSubplot:xlabel='TechSupport', ylabel='count'>"
            ]
          },
          "execution_count": 61,
          "metadata": {},
          "output_type": "execute_result"
        },
        {
          "data": {
            "image/png": "[encoded data removed]",
            "text/plain": [
              "<Figure size 432x288 with 1 Axes>"
            ]
          },
          "metadata": {
            "needs_background": "light"
          },
          "output_type": "display_data"
        }
      ],
      "source": [
        "#Count plot\n",
        "sns.countplot(df['TechSupport'])"
      ]
    },
    {
      "cell_type": "markdown",
      "id": "75391648",
      "metadata": {
        "id": "75391648"
      },
      "source": [
        "The next column we look into is the 'StreamingTV'. We know its classification type and we shall convert it into numerical data using encoding"
      ]
    },
    {
      "cell_type": "code",
      "execution_count": null,
      "id": "705c7442",
      "metadata": {
        "id": "705c7442",
        "outputId": "a35fd174-494b-40b7-d2a7-684237e60f40"
      },
      "outputs": [
        {
          "data": {
            "text/plain": [
              "No                     2809\n",
              "Yes                    2703\n",
              "No internet service    1520\n",
              "Name: StreamingTV, dtype: int64"
            ]
          },
          "execution_count": 62,
          "metadata": {},
          "output_type": "execute_result"
        }
      ],
      "source": [
        "#Checking for unique features in the column with the count\n",
        "df['StreamingTV'].value_counts()"
      ]
    },
    {
      "cell_type": "code",
      "execution_count": null,
      "id": "6903c96f",
      "metadata": {
        "id": "6903c96f"
      },
      "outputs": [],
      "source": [
        "#Replacing the values\n",
        "df['StreamingTV'].replace({'No internet service':'No'}, inplace=True)"
      ]
    },
    {
      "cell_type": "code",
      "execution_count": null,
      "id": "32a7df8c",
      "metadata": {
        "id": "32a7df8c",
        "outputId": "22b517e0-6409-4bb5-cfd7-bb3797fa5c7f"
      },
      "outputs": [
        {
          "data": {
            "text/plain": [
              "No     4329\n",
              "Yes    2703\n",
              "Name: StreamingTV, dtype: int64"
            ]
          },
          "execution_count": 64,
          "metadata": {},
          "output_type": "execute_result"
        }
      ],
      "source": [
        "#Checking for unique features in the column with the count\n",
        "df['StreamingTV'].value_counts()"
      ]
    },
    {
      "cell_type": "code",
      "execution_count": null,
      "id": "7c27f552",
      "metadata": {
        "id": "7c27f552"
      },
      "outputs": [],
      "source": [
        "#Encoding data\n",
        "le = LabelEncoder()\n",
        "df['StreamingTV'] = le.fit_transform(df['StreamingTV'])"
      ]
    },
    {
      "cell_type": "code",
      "execution_count": null,
      "id": "8130fa69",
      "metadata": {
        "id": "8130fa69",
        "outputId": "e772ceeb-6dbc-416d-b90c-14fd0ff6b034"
      },
      "outputs": [
        {
          "data": {
            "text/plain": [
              "<AxesSubplot:xlabel='StreamingTV', ylabel='count'>"
            ]
          },
          "execution_count": 66,
          "metadata": {},
          "output_type": "execute_result"
        },
        {
          "data": {
            "image/png": "[encoded data removed]",
            "text/plain": [
              "<Figure size 432x288 with 1 Axes>"
            ]
          },
          "metadata": {
            "needs_background": "light"
          },
          "output_type": "display_data"
        }
      ],
      "source": [
        "#Count plot\n",
        "sns.countplot(df['StreamingTV'])"
      ]
    },
    {
      "cell_type": "markdown",
      "id": "b39be613",
      "metadata": {
        "id": "b39be613"
      },
      "source": [
        "The next column we look into is the 'StreamingMovies'. We know its classification type and we shall convert it into numerical data using encoding"
      ]
    },
    {
      "cell_type": "code",
      "execution_count": null,
      "id": "71928e84",
      "metadata": {
        "id": "71928e84",
        "outputId": "ef69ab8e-0cd1-4e89-d6ba-bf69f53d0ea7"
      },
      "outputs": [
        {
          "data": {
            "text/plain": [
              "No                     2781\n",
              "Yes                    2731\n",
              "No internet service    1520\n",
              "Name: StreamingMovies, dtype: int64"
            ]
          },
          "execution_count": 67,
          "metadata": {},
          "output_type": "execute_result"
        }
      ],
      "source": [
        "#Checking for unique features in the column with the count\n",
        "df['StreamingMovies'].value_counts()"
      ]
    },
    {
      "cell_type": "markdown",
      "id": "e07bfb6c",
      "metadata": {
        "id": "e07bfb6c"
      },
      "source": [
        "Here, we see that 'No internet service' value corresponds to the column 'InternetService' which has already been accounted and hence we shall change this data to 'No' itself and hence make the column a classification between yes or no."
      ]
    },
    {
      "cell_type": "code",
      "execution_count": null,
      "id": "c0fddbb4",
      "metadata": {
        "id": "c0fddbb4"
      },
      "outputs": [],
      "source": [
        "#Replacing the values\n",
        "df['StreamingMovies'].replace({'No internet service':'No'}, inplace=True)"
      ]
    },
    {
      "cell_type": "code",
      "execution_count": null,
      "id": "bc89ba5b",
      "metadata": {
        "id": "bc89ba5b",
        "outputId": "e421fb08-1ad9-4348-e789-bcabadbd1704"
      },
      "outputs": [
        {
          "data": {
            "text/plain": [
              "No     4301\n",
              "Yes    2731\n",
              "Name: StreamingMovies, dtype: int64"
            ]
          },
          "execution_count": 69,
          "metadata": {},
          "output_type": "execute_result"
        }
      ],
      "source": [
        "#Checking for unique features in the column with the count\n",
        "df['StreamingMovies'].value_counts()"
      ]
    },
    {
      "cell_type": "code",
      "execution_count": null,
      "id": "46516429",
      "metadata": {
        "id": "46516429"
      },
      "outputs": [],
      "source": [
        "#Encoding data\n",
        "le = LabelEncoder()\n",
        "df['StreamingMovies'] = le.fit_transform(df['StreamingMovies'])"
      ]
    },
    {
      "cell_type": "code",
      "execution_count": null,
      "id": "879dcdff",
      "metadata": {
        "id": "879dcdff",
        "outputId": "95226866-7084-4a03-ed22-99cf2b3f8a37"
      },
      "outputs": [
        {
          "data": {
            "text/plain": [
              "<AxesSubplot:xlabel='StreamingMovies', ylabel='count'>"
            ]
          },
          "execution_count": 71,
          "metadata": {},
          "output_type": "execute_result"
        },
        {
          "data": {
            "image/png": "[encoded data removed]",
            "text/plain": [
              "<Figure size 432x288 with 1 Axes>"
            ]
          },
          "metadata": {
            "needs_background": "light"
          },
          "output_type": "display_data"
        }
      ],
      "source": [
        "#Count plot\n",
        "sns.countplot(df['StreamingMovies'])"
      ]
    },
    {
      "cell_type": "markdown",
      "id": "f529f69f",
      "metadata": {
        "id": "f529f69f"
      },
      "source": [
        "The next column we look into is the 'Contract'. We know its classification type and we shall convert it into numerical data using encoding"
      ]
    },
    {
      "cell_type": "code",
      "execution_count": null,
      "id": "4f89ce9f",
      "metadata": {
        "id": "4f89ce9f",
        "outputId": "2906742c-a88e-4934-bd03-3627f83e45a1"
      },
      "outputs": [
        {
          "data": {
            "text/plain": [
              "Month-to-month    3875\n",
              "Two year          1685\n",
              "One year          1472\n",
              "Name: Contract, dtype: int64"
            ]
          },
          "execution_count": 72,
          "metadata": {},
          "output_type": "execute_result"
        }
      ],
      "source": [
        "#Checking for unique features in the column with the count\n",
        "df['Contract'].value_counts()"
      ]
    },
    {
      "cell_type": "code",
      "execution_count": null,
      "id": "e4befc46",
      "metadata": {
        "id": "e4befc46"
      },
      "outputs": [],
      "source": [
        "#Encoding data\n",
        "le = LabelEncoder()\n",
        "df['Contract'] = le.fit_transform(df['Contract'])"
      ]
    },
    {
      "cell_type": "code",
      "execution_count": null,
      "id": "3378a84c",
      "metadata": {
        "id": "3378a84c",
        "outputId": "ca3b9142-17e6-44fe-9304-60fae4bd3846"
      },
      "outputs": [
        {
          "data": {
            "text/plain": [
              "<AxesSubplot:xlabel='Contract', ylabel='count'>"
            ]
          },
          "execution_count": 74,
          "metadata": {},
          "output_type": "execute_result"
        },
        {
          "data": {
            "image/png": "[encoded data removed]",
            "text/plain": [
              "<Figure size 432x288 with 1 Axes>"
            ]
          },
          "metadata": {
            "needs_background": "light"
          },
          "output_type": "display_data"
        }
      ],
      "source": [
        "#Count plot\n",
        "sns.countplot(df['Contract'])"
      ]
    },
    {
      "cell_type": "markdown",
      "id": "5ee58e82",
      "metadata": {
        "id": "5ee58e82"
      },
      "source": [
        "The next column we look into is the 'PaperlessBilling'. We know its classification type and we shall convert it into numerical data using encoding"
      ]
    },
    {
      "cell_type": "code",
      "execution_count": null,
      "id": "a6dccb51",
      "metadata": {
        "id": "a6dccb51",
        "outputId": "7ed2251a-ee21-4966-c5b0-43a4368fa75d"
      },
      "outputs": [
        {
          "data": {
            "text/plain": [
              "Yes    4168\n",
              "No     2864\n",
              "Name: PaperlessBilling, dtype: int64"
            ]
          },
          "execution_count": 75,
          "metadata": {},
          "output_type": "execute_result"
        }
      ],
      "source": [
        "#Checking for unique features in the column with the count\n",
        "df['PaperlessBilling'].value_counts()"
      ]
    },
    {
      "cell_type": "code",
      "execution_count": null,
      "id": "b6434197",
      "metadata": {
        "id": "b6434197"
      },
      "outputs": [],
      "source": [
        "#Encoding data\n",
        "le = LabelEncoder()\n",
        "df['PaperlessBilling'] = le.fit_transform(df['PaperlessBilling'])"
      ]
    },
    {
      "cell_type": "code",
      "execution_count": null,
      "id": "6aa2b7f6",
      "metadata": {
        "id": "6aa2b7f6",
        "outputId": "5535849e-ca61-4917-d519-b69a75d5f2e8"
      },
      "outputs": [
        {
          "data": {
            "text/plain": [
              "<AxesSubplot:xlabel='PaperlessBilling', ylabel='count'>"
            ]
          },
          "execution_count": 77,
          "metadata": {},
          "output_type": "execute_result"
        },
        {
          "data": {
            "image/png": "[encoded data removed]",
            "text/plain": [
              "<Figure size 432x288 with 1 Axes>"
            ]
          },
          "metadata": {
            "needs_background": "light"
          },
          "output_type": "display_data"
        }
      ],
      "source": [
        "#Count plot\n",
        "sns.countplot(df['PaperlessBilling'])"
      ]
    },
    {
      "cell_type": "markdown",
      "id": "baa830c9",
      "metadata": {
        "id": "baa830c9"
      },
      "source": [
        "The next column we look into is the 'PaymentMethod'. We know its classification type and we shall convert it into numerical data using encoding"
      ]
    },
    {
      "cell_type": "code",
      "execution_count": null,
      "id": "8740cd1e",
      "metadata": {
        "id": "8740cd1e",
        "outputId": "44cc4640-ef20-4def-a3fe-a510c90eb599"
      },
      "outputs": [
        {
          "data": {
            "text/plain": [
              "Electronic check             2365\n",
              "Mailed check                 1604\n",
              "Bank transfer (automatic)    1542\n",
              "Credit card (automatic)      1521\n",
              "Name: PaymentMethod, dtype: int64"
            ]
          },
          "execution_count": 78,
          "metadata": {},
          "output_type": "execute_result"
        }
      ],
      "source": [
        "#Checking for unique features in the column with the count\n",
        "df['PaymentMethod'].value_counts()"
      ]
    },
    {
      "cell_type": "code",
      "execution_count": null,
      "id": "23418963",
      "metadata": {
        "id": "23418963"
      },
      "outputs": [],
      "source": [
        "#Encoding data\n",
        "le = LabelEncoder()\n",
        "df['PaymentMethod'] = le.fit_transform(df['PaymentMethod'])"
      ]
    },
    {
      "cell_type": "code",
      "execution_count": null,
      "id": "38b2921f",
      "metadata": {
        "id": "38b2921f",
        "outputId": "2eab7a0c-6dcf-4a09-ef1e-a548c6d206e4"
      },
      "outputs": [
        {
          "data": {
            "text/plain": [
              "<AxesSubplot:xlabel='PaymentMethod', ylabel='count'>"
            ]
          },
          "execution_count": 80,
          "metadata": {},
          "output_type": "execute_result"
        },
        {
          "data": {
            "image/png": "[encoded data removed]",
            "text/plain": [
              "<Figure size 432x288 with 1 Axes>"
            ]
          },
          "metadata": {
            "needs_background": "light"
          },
          "output_type": "display_data"
        }
      ],
      "source": [
        "#Count plot\n",
        "sns.countplot(df['PaymentMethod'])"
      ]
    },
    {
      "cell_type": "markdown",
      "id": "a8ab289a",
      "metadata": {
        "id": "a8ab289a"
      },
      "source": [
        "The next column we look into is the 'MonthlyCharges'. We know its regression type and we shall plot density and box plot"
      ]
    },
    {
      "cell_type": "code",
      "execution_count": null,
      "id": "e5fe8a06",
      "metadata": {
        "id": "e5fe8a06",
        "outputId": "fcb378dc-cd8a-4dab-f600-5f9fc3d4698b"
      },
      "outputs": [
        {
          "data": {
            "text/plain": [
              "<AxesSubplot:xlabel='MonthlyCharges', ylabel='Density'>"
            ]
          },
          "execution_count": 81,
          "metadata": {},
          "output_type": "execute_result"
        },
        {
          "data": {
            "image/png": "[encoded data removed]",
            "text/plain": [
              "<Figure size 432x288 with 1 Axes>"
            ]
          },
          "metadata": {
            "needs_background": "light"
          },
          "output_type": "display_data"
        }
      ],
      "source": [
        "#Density plot\n",
        "sns.distplot(df['MonthlyCharges'])"
      ]
    },
    {
      "cell_type": "code",
      "execution_count": null,
      "id": "b88d945e",
      "metadata": {
        "id": "b88d945e",
        "outputId": "61e28cef-0eca-4ff2-daf5-60d6c25a3524"
      },
      "outputs": [
        {
          "data": {
            "text/plain": [
              "<AxesSubplot:xlabel='MonthlyCharges'>"
            ]
          },
          "execution_count": 82,
          "metadata": {},
          "output_type": "execute_result"
        },
        {
          "data": {
            "image/png": "[encoded data removed]",
            "text/plain": [
              "<Figure size 432x288 with 1 Axes>"
            ]
          },
          "metadata": {
            "needs_background": "light"
          },
          "output_type": "display_data"
        }
      ],
      "source": [
        "#Box plot\n",
        "sns.boxplot(df['MonthlyCharges'])"
      ]
    },
    {
      "cell_type": "markdown",
      "id": "5e9a3432",
      "metadata": {
        "id": "5e9a3432"
      },
      "source": [
        "The next column we look into is the 'TotalCharges'. We know its regression type and we shall plot density and box plot"
      ]
    },
    {
      "cell_type": "code",
      "execution_count": null,
      "id": "000fb527",
      "metadata": {
        "id": "000fb527",
        "outputId": "a851846d-e54e-4af3-b227-b950955bfa06"
      },
      "outputs": [
        {
          "data": {
            "text/plain": [
              "<AxesSubplot:xlabel='TotalCharges', ylabel='Density'>"
            ]
          },
          "execution_count": 83,
          "metadata": {},
          "output_type": "execute_result"
        },
        {
          "data": {
            "image/png": "[encoded data removed]",
            "text/plain": [
              "<Figure size 432x288 with 1 Axes>"
            ]
          },
          "metadata": {
            "needs_background": "light"
          },
          "output_type": "display_data"
        }
      ],
      "source": [
        "#Density plot\n",
        "sns.distplot(df['TotalCharges'])"
      ]
    },
    {
      "cell_type": "code",
      "execution_count": null,
      "id": "6abc2b1d",
      "metadata": {
        "id": "6abc2b1d",
        "outputId": "3e39462e-99bf-45a7-d0fb-9e874baf31e6"
      },
      "outputs": [
        {
          "data": {
            "text/plain": [
              "<AxesSubplot:xlabel='TotalCharges'>"
            ]
          },
          "execution_count": 84,
          "metadata": {},
          "output_type": "execute_result"
        },
        {
          "data": {
            "image/png": "[encoded data removed]",
            "text/plain": [
              "<Figure size 432x288 with 1 Axes>"
            ]
          },
          "metadata": {
            "needs_background": "light"
          },
          "output_type": "display_data"
        }
      ],
      "source": [
        "#Box plot\n",
        "sns.boxplot(df['TotalCharges'])"
      ]
    },
    {
      "cell_type": "markdown",
      "id": "794a08b2",
      "metadata": {
        "id": "794a08b2"
      },
      "source": [
        "# Correlation"
      ]
    },
    {
      "cell_type": "markdown",
      "id": "1215586c",
      "metadata": {
        "id": "1215586c"
      },
      "source": [
        "Now, since all the data has been transformed into numeric values. Let us check for the correlation to the target column"
      ]
    },
    {
      "cell_type": "code",
      "execution_count": null,
      "id": "2aaebb6a",
      "metadata": {
        "id": "2aaebb6a",
        "outputId": "b05bc9a3-782f-4d65-8018-3a02c3482b54"
      },
      "outputs": [
        {
          "data": {
            "text/html": [
              "<div>\n",
              "<style scoped>\n",
              "    .dataframe tbody tr th:only-of-type {\n",
              "        vertical-align: middle;\n",
              "    }\n",
              "\n",
              "    .dataframe tbody tr th {\n",
              "        vertical-align: top;\n",
              "    }\n",
              "\n",
              "    .dataframe thead th {\n",
              "        text-align: right;\n",
              "    }\n",
              "</style>\n",
              "<table border=\"1\" class=\"dataframe\">\n",
              "  <thead>\n",
              "    <tr style=\"text-align: right;\">\n",
              "      <th></th>\n",
              "      <th>gender</th>\n",
              "      <th>SeniorCitizen</th>\n",
              "      <th>Partner</th>\n",
              "      <th>Dependents</th>\n",
              "      <th>tenure</th>\n",
              "      <th>PhoneService</th>\n",
              "      <th>MultipleLines</th>\n",
              "      <th>InternetService</th>\n",
              "      <th>OnlineSecurity</th>\n",
              "      <th>OnlineBackup</th>\n",
              "      <th>DeviceProtection</th>\n",
              "      <th>TechSupport</th>\n",
              "      <th>StreamingTV</th>\n",
              "      <th>StreamingMovies</th>\n",
              "      <th>Contract</th>\n",
              "      <th>PaperlessBilling</th>\n",
              "      <th>PaymentMethod</th>\n",
              "      <th>MonthlyCharges</th>\n",
              "      <th>TotalCharges</th>\n",
              "      <th>Churn</th>\n",
              "    </tr>\n",
              "  </thead>\n",
              "  <tbody>\n",
              "    <tr>\n",
              "      <th>gender</th>\n",
              "      <td>1.000000</td>\n",
              "      <td>-0.001819</td>\n",
              "      <td>-0.001379</td>\n",
              "      <td>0.010349</td>\n",
              "      <td>0.005285</td>\n",
              "      <td>-0.007515</td>\n",
              "      <td>-0.008883</td>\n",
              "      <td>-0.002236</td>\n",
              "      <td>-0.016328</td>\n",
              "      <td>-0.013093</td>\n",
              "      <td>-0.000807</td>\n",
              "      <td>-0.008507</td>\n",
              "      <td>-0.007124</td>\n",
              "      <td>-0.010105</td>\n",
              "      <td>0.000095</td>\n",
              "      <td>-0.011902</td>\n",
              "      <td>0.016942</td>\n",
              "      <td>-0.013779</td>\n",
              "      <td>0.000048</td>\n",
              "      <td>-0.008545</td>\n",
              "    </tr>\n",
              "    <tr>\n",
              "      <th>SeniorCitizen</th>\n",
              "      <td>-0.001819</td>\n",
              "      <td>1.000000</td>\n",
              "      <td>0.016957</td>\n",
              "      <td>-0.210550</td>\n",
              "      <td>0.015683</td>\n",
              "      <td>0.008392</td>\n",
              "      <td>0.142996</td>\n",
              "      <td>-0.032160</td>\n",
              "      <td>-0.038576</td>\n",
              "      <td>0.066663</td>\n",
              "      <td>0.059514</td>\n",
              "      <td>-0.060577</td>\n",
              "      <td>0.105445</td>\n",
              "      <td>0.119842</td>\n",
              "      <td>-0.141820</td>\n",
              "      <td>0.156258</td>\n",
              "      <td>-0.038158</td>\n",
              "      <td>0.219874</td>\n",
              "      <td>0.102411</td>\n",
              "      <td>0.150541</td>\n",
              "    </tr>\n",
              "    <tr>\n",
              "      <th>Partner</th>\n",
              "      <td>-0.001379</td>\n",
              "      <td>0.016957</td>\n",
              "      <td>1.000000</td>\n",
              "      <td>0.452269</td>\n",
              "      <td>0.381912</td>\n",
              "      <td>0.018397</td>\n",
              "      <td>0.142561</td>\n",
              "      <td>0.000513</td>\n",
              "      <td>0.143346</td>\n",
              "      <td>0.141849</td>\n",
              "      <td>0.153556</td>\n",
              "      <td>0.120206</td>\n",
              "      <td>0.124483</td>\n",
              "      <td>0.118108</td>\n",
              "      <td>0.294094</td>\n",
              "      <td>-0.013957</td>\n",
              "      <td>-0.156232</td>\n",
              "      <td>0.097825</td>\n",
              "      <td>0.319072</td>\n",
              "      <td>-0.149982</td>\n",
              "    </tr>\n",
              "    <tr>\n",
              "      <th>Dependents</th>\n",
              "      <td>0.010349</td>\n",
              "      <td>-0.210550</td>\n",
              "      <td>0.452269</td>\n",
              "      <td>1.000000</td>\n",
              "      <td>0.163386</td>\n",
              "      <td>-0.001078</td>\n",
              "      <td>-0.024307</td>\n",
              "      <td>0.044030</td>\n",
              "      <td>0.080786</td>\n",
              "      <td>0.023639</td>\n",
              "      <td>0.013900</td>\n",
              "      <td>0.063053</td>\n",
              "      <td>-0.016499</td>\n",
              "      <td>-0.038375</td>\n",
              "      <td>0.240556</td>\n",
              "      <td>-0.110131</td>\n",
              "      <td>-0.041989</td>\n",
              "      <td>-0.112343</td>\n",
              "      <td>0.064653</td>\n",
              "      <td>-0.163128</td>\n",
              "    </tr>\n",
              "    <tr>\n",
              "      <th>tenure</th>\n",
              "      <td>0.005285</td>\n",
              "      <td>0.015683</td>\n",
              "      <td>0.381912</td>\n",
              "      <td>0.163386</td>\n",
              "      <td>1.000000</td>\n",
              "      <td>0.007877</td>\n",
              "      <td>0.332399</td>\n",
              "      <td>-0.029835</td>\n",
              "      <td>0.328297</td>\n",
              "      <td>0.361138</td>\n",
              "      <td>0.361520</td>\n",
              "      <td>0.325288</td>\n",
              "      <td>0.280264</td>\n",
              "      <td>0.285402</td>\n",
              "      <td>0.676734</td>\n",
              "      <td>0.004823</td>\n",
              "      <td>-0.370087</td>\n",
              "      <td>0.246862</td>\n",
              "      <td>0.825880</td>\n",
              "      <td>-0.354049</td>\n",
              "    </tr>\n",
              "    <tr>\n",
              "      <th>PhoneService</th>\n",
              "      <td>-0.007515</td>\n",
              "      <td>0.008392</td>\n",
              "      <td>0.018397</td>\n",
              "      <td>-0.001078</td>\n",
              "      <td>0.007877</td>\n",
              "      <td>1.000000</td>\n",
              "      <td>0.279530</td>\n",
              "      <td>0.387266</td>\n",
              "      <td>-0.091676</td>\n",
              "      <td>-0.052133</td>\n",
              "      <td>-0.070076</td>\n",
              "      <td>-0.095138</td>\n",
              "      <td>-0.021383</td>\n",
              "      <td>-0.033477</td>\n",
              "      <td>0.003019</td>\n",
              "      <td>0.016696</td>\n",
              "      <td>-0.005499</td>\n",
              "      <td>0.248033</td>\n",
              "      <td>0.113008</td>\n",
              "      <td>0.011691</td>\n",
              "    </tr>\n",
              "    <tr>\n",
              "      <th>MultipleLines</th>\n",
              "      <td>-0.008883</td>\n",
              "      <td>0.142996</td>\n",
              "      <td>0.142561</td>\n",
              "      <td>-0.024307</td>\n",
              "      <td>0.332399</td>\n",
              "      <td>0.279530</td>\n",
              "      <td>1.000000</td>\n",
              "      <td>0.011346</td>\n",
              "      <td>0.098592</td>\n",
              "      <td>0.202228</td>\n",
              "      <td>0.201733</td>\n",
              "      <td>0.100421</td>\n",
              "      <td>0.257804</td>\n",
              "      <td>0.259194</td>\n",
              "      <td>0.107529</td>\n",
              "      <td>0.163746</td>\n",
              "      <td>-0.171240</td>\n",
              "      <td>0.490912</td>\n",
              "      <td>0.469042</td>\n",
              "      <td>0.040033</td>\n",
              "    </tr>\n",
              "    <tr>\n",
              "      <th>InternetService</th>\n",
              "      <td>-0.002236</td>\n",
              "      <td>-0.032160</td>\n",
              "      <td>0.000513</td>\n",
              "      <td>0.044030</td>\n",
              "      <td>-0.029835</td>\n",
              "      <td>0.387266</td>\n",
              "      <td>0.011346</td>\n",
              "      <td>1.000000</td>\n",
              "      <td>-0.392174</td>\n",
              "      <td>-0.313708</td>\n",
              "      <td>-0.305757</td>\n",
              "      <td>-0.388535</td>\n",
              "      <td>-0.241330</td>\n",
              "      <td>-0.250144</td>\n",
              "      <td>0.099579</td>\n",
              "      <td>-0.138166</td>\n",
              "      <td>0.084504</td>\n",
              "      <td>-0.322173</td>\n",
              "      <td>-0.175691</td>\n",
              "      <td>-0.047097</td>\n",
              "    </tr>\n",
              "    <tr>\n",
              "      <th>OnlineSecurity</th>\n",
              "      <td>-0.016328</td>\n",
              "      <td>-0.038576</td>\n",
              "      <td>0.143346</td>\n",
              "      <td>0.080786</td>\n",
              "      <td>0.328297</td>\n",
              "      <td>-0.091676</td>\n",
              "      <td>0.098592</td>\n",
              "      <td>-0.392174</td>\n",
              "      <td>1.000000</td>\n",
              "      <td>0.283285</td>\n",
              "      <td>0.274875</td>\n",
              "      <td>0.354458</td>\n",
              "      <td>0.175514</td>\n",
              "      <td>0.187426</td>\n",
              "      <td>0.245660</td>\n",
              "      <td>-0.004051</td>\n",
              "      <td>-0.149112</td>\n",
              "      <td>0.296447</td>\n",
              "      <td>0.412619</td>\n",
              "      <td>-0.171270</td>\n",
              "    </tr>\n",
              "    <tr>\n",
              "      <th>OnlineBackup</th>\n",
              "      <td>-0.013093</td>\n",
              "      <td>0.066663</td>\n",
              "      <td>0.141849</td>\n",
              "      <td>0.023639</td>\n",
              "      <td>0.361138</td>\n",
              "      <td>-0.052133</td>\n",
              "      <td>0.202228</td>\n",
              "      <td>-0.313708</td>\n",
              "      <td>0.283285</td>\n",
              "      <td>1.000000</td>\n",
              "      <td>0.303058</td>\n",
              "      <td>0.293705</td>\n",
              "      <td>0.281601</td>\n",
              "      <td>0.274523</td>\n",
              "      <td>0.155262</td>\n",
              "      <td>0.127056</td>\n",
              "      <td>-0.170720</td>\n",
              "      <td>0.441529</td>\n",
              "      <td>0.510100</td>\n",
              "      <td>-0.082307</td>\n",
              "    </tr>\n",
              "    <tr>\n",
              "      <th>DeviceProtection</th>\n",
              "      <td>-0.000807</td>\n",
              "      <td>0.059514</td>\n",
              "      <td>0.153556</td>\n",
              "      <td>0.013900</td>\n",
              "      <td>0.361520</td>\n",
              "      <td>-0.070076</td>\n",
              "      <td>0.201733</td>\n",
              "      <td>-0.305757</td>\n",
              "      <td>0.274875</td>\n",
              "      <td>0.303058</td>\n",
              "      <td>1.000000</td>\n",
              "      <td>0.332850</td>\n",
              "      <td>0.389924</td>\n",
              "      <td>0.402309</td>\n",
              "      <td>0.219648</td>\n",
              "      <td>0.104079</td>\n",
              "      <td>-0.180931</td>\n",
              "      <td>0.482607</td>\n",
              "      <td>0.522881</td>\n",
              "      <td>-0.066193</td>\n",
              "    </tr>\n",
              "    <tr>\n",
              "      <th>TechSupport</th>\n",
              "      <td>-0.008507</td>\n",
              "      <td>-0.060577</td>\n",
              "      <td>0.120206</td>\n",
              "      <td>0.063053</td>\n",
              "      <td>0.325288</td>\n",
              "      <td>-0.095138</td>\n",
              "      <td>0.100421</td>\n",
              "      <td>-0.388535</td>\n",
              "      <td>0.354458</td>\n",
              "      <td>0.293705</td>\n",
              "      <td>0.332850</td>\n",
              "      <td>1.000000</td>\n",
              "      <td>0.277549</td>\n",
              "      <td>0.280155</td>\n",
              "      <td>0.293967</td>\n",
              "      <td>0.037536</td>\n",
              "      <td>-0.156296</td>\n",
              "      <td>0.338301</td>\n",
              "      <td>0.432868</td>\n",
              "      <td>-0.164716</td>\n",
              "    </tr>\n",
              "    <tr>\n",
              "      <th>StreamingTV</th>\n",
              "      <td>-0.007124</td>\n",
              "      <td>0.105445</td>\n",
              "      <td>0.124483</td>\n",
              "      <td>-0.016499</td>\n",
              "      <td>0.280264</td>\n",
              "      <td>-0.021383</td>\n",
              "      <td>0.257804</td>\n",
              "      <td>-0.241330</td>\n",
              "      <td>0.175514</td>\n",
              "      <td>0.281601</td>\n",
              "      <td>0.389924</td>\n",
              "      <td>0.277549</td>\n",
              "      <td>1.000000</td>\n",
              "      <td>0.533380</td>\n",
              "      <td>0.104178</td>\n",
              "      <td>0.224241</td>\n",
              "      <td>-0.148563</td>\n",
              "      <td>0.629668</td>\n",
              "      <td>0.515709</td>\n",
              "      <td>0.063254</td>\n",
              "    </tr>\n",
              "    <tr>\n",
              "      <th>StreamingMovies</th>\n",
              "      <td>-0.010105</td>\n",
              "      <td>0.119842</td>\n",
              "      <td>0.118108</td>\n",
              "      <td>-0.038375</td>\n",
              "      <td>0.285402</td>\n",
              "      <td>-0.033477</td>\n",
              "      <td>0.259194</td>\n",
              "      <td>-0.250144</td>\n",
              "      <td>0.187426</td>\n",
              "      <td>0.274523</td>\n",
              "      <td>0.402309</td>\n",
              "      <td>0.280155</td>\n",
              "      <td>0.533380</td>\n",
              "      <td>1.000000</td>\n",
              "      <td>0.109136</td>\n",
              "      <td>0.211583</td>\n",
              "      <td>-0.154854</td>\n",
              "      <td>0.627235</td>\n",
              "      <td>0.519867</td>\n",
              "      <td>0.060860</td>\n",
              "    </tr>\n",
              "    <tr>\n",
              "      <th>Contract</th>\n",
              "      <td>0.000095</td>\n",
              "      <td>-0.141820</td>\n",
              "      <td>0.294094</td>\n",
              "      <td>0.240556</td>\n",
              "      <td>0.676734</td>\n",
              "      <td>0.003019</td>\n",
              "      <td>0.107529</td>\n",
              "      <td>0.099579</td>\n",
              "      <td>0.245660</td>\n",
              "      <td>0.155262</td>\n",
              "      <td>0.219648</td>\n",
              "      <td>0.293967</td>\n",
              "      <td>0.104178</td>\n",
              "      <td>0.109136</td>\n",
              "      <td>1.000000</td>\n",
              "      <td>-0.175475</td>\n",
              "      <td>-0.229636</td>\n",
              "      <td>-0.072739</td>\n",
              "      <td>0.450306</td>\n",
              "      <td>-0.396150</td>\n",
              "    </tr>\n",
              "    <tr>\n",
              "      <th>PaperlessBilling</th>\n",
              "      <td>-0.011902</td>\n",
              "      <td>0.156258</td>\n",
              "      <td>-0.013957</td>\n",
              "      <td>-0.110131</td>\n",
              "      <td>0.004823</td>\n",
              "      <td>0.016696</td>\n",
              "      <td>0.163746</td>\n",
              "      <td>-0.138166</td>\n",
              "      <td>-0.004051</td>\n",
              "      <td>0.127056</td>\n",
              "      <td>0.104079</td>\n",
              "      <td>0.037536</td>\n",
              "      <td>0.224241</td>\n",
              "      <td>0.211583</td>\n",
              "      <td>-0.175475</td>\n",
              "      <td>1.000000</td>\n",
              "      <td>-0.061348</td>\n",
              "      <td>0.351930</td>\n",
              "      <td>0.157830</td>\n",
              "      <td>0.191454</td>\n",
              "    </tr>\n",
              "    <tr>\n",
              "      <th>PaymentMethod</th>\n",
              "      <td>0.016942</td>\n",
              "      <td>-0.038158</td>\n",
              "      <td>-0.156232</td>\n",
              "      <td>-0.041989</td>\n",
              "      <td>-0.370087</td>\n",
              "      <td>-0.005499</td>\n",
              "      <td>-0.171240</td>\n",
              "      <td>0.084504</td>\n",
              "      <td>-0.149112</td>\n",
              "      <td>-0.170720</td>\n",
              "      <td>-0.180931</td>\n",
              "      <td>-0.156296</td>\n",
              "      <td>-0.148563</td>\n",
              "      <td>-0.154854</td>\n",
              "      <td>-0.229636</td>\n",
              "      <td>-0.061348</td>\n",
              "      <td>1.000000</td>\n",
              "      <td>-0.192500</td>\n",
              "      <td>-0.330594</td>\n",
              "      <td>0.107852</td>\n",
              "    </tr>\n",
              "    <tr>\n",
              "      <th>MonthlyCharges</th>\n",
              "      <td>-0.013779</td>\n",
              "      <td>0.219874</td>\n",
              "      <td>0.097825</td>\n",
              "      <td>-0.112343</td>\n",
              "      <td>0.246862</td>\n",
              "      <td>0.248033</td>\n",
              "      <td>0.490912</td>\n",
              "      <td>-0.322173</td>\n",
              "      <td>0.296447</td>\n",
              "      <td>0.441529</td>\n",
              "      <td>0.482607</td>\n",
              "      <td>0.338301</td>\n",
              "      <td>0.629668</td>\n",
              "      <td>0.627235</td>\n",
              "      <td>-0.072739</td>\n",
              "      <td>0.351930</td>\n",
              "      <td>-0.192500</td>\n",
              "      <td>1.000000</td>\n",
              "      <td>0.651065</td>\n",
              "      <td>0.192858</td>\n",
              "    </tr>\n",
              "    <tr>\n",
              "      <th>TotalCharges</th>\n",
              "      <td>0.000048</td>\n",
              "      <td>0.102411</td>\n",
              "      <td>0.319072</td>\n",
              "      <td>0.064653</td>\n",
              "      <td>0.825880</td>\n",
              "      <td>0.113008</td>\n",
              "      <td>0.469042</td>\n",
              "      <td>-0.175691</td>\n",
              "      <td>0.412619</td>\n",
              "      <td>0.510100</td>\n",
              "      <td>0.522881</td>\n",
              "      <td>0.432868</td>\n",
              "      <td>0.515709</td>\n",
              "      <td>0.519867</td>\n",
              "      <td>0.450306</td>\n",
              "      <td>0.157830</td>\n",
              "      <td>-0.330594</td>\n",
              "      <td>0.651065</td>\n",
              "      <td>1.000000</td>\n",
              "      <td>-0.199484</td>\n",
              "    </tr>\n",
              "    <tr>\n",
              "      <th>Churn</th>\n",
              "      <td>-0.008545</td>\n",
              "      <td>0.150541</td>\n",
              "      <td>-0.149982</td>\n",
              "      <td>-0.163128</td>\n",
              "      <td>-0.354049</td>\n",
              "      <td>0.011691</td>\n",
              "      <td>0.040033</td>\n",
              "      <td>-0.047097</td>\n",
              "      <td>-0.171270</td>\n",
              "      <td>-0.082307</td>\n",
              "      <td>-0.066193</td>\n",
              "      <td>-0.164716</td>\n",
              "      <td>0.063254</td>\n",
              "      <td>0.060860</td>\n",
              "      <td>-0.396150</td>\n",
              "      <td>0.191454</td>\n",
              "      <td>0.107852</td>\n",
              "      <td>0.192858</td>\n",
              "      <td>-0.199484</td>\n",
              "      <td>1.000000</td>\n",
              "    </tr>\n",
              "  </tbody>\n",
              "</table>\n",
              "</div>"
            ],
            "text/plain": [
              "                    gender  SeniorCitizen   Partner  Dependents    tenure  \\\n",
              "gender            1.000000      -0.001819 -0.001379    0.010349  0.005285   \n",
              "SeniorCitizen    -0.001819       1.000000  0.016957   -0.210550  0.015683   \n",
              "Partner          -0.001379       0.016957  1.000000    0.452269  0.381912   \n",
              "Dependents        0.010349      -0.210550  0.452269    1.000000  0.163386   \n",
              "tenure            0.005285       0.015683  0.381912    0.163386  1.000000   \n",
              "PhoneService     -0.007515       0.008392  0.018397   -0.001078  0.007877   \n",
              "MultipleLines    -0.008883       0.142996  0.142561   -0.024307  0.332399   \n",
              "InternetService  -0.002236      -0.032160  0.000513    0.044030 -0.029835   \n",
              "OnlineSecurity   -0.016328      -0.038576  0.143346    0.080786  0.328297   \n",
              "OnlineBackup     -0.013093       0.066663  0.141849    0.023639  0.361138   \n",
              "DeviceProtection -0.000807       0.059514  0.153556    0.013900  0.361520   \n",
              "TechSupport      -0.008507      -0.060577  0.120206    0.063053  0.325288   \n",
              "StreamingTV      -0.007124       0.105445  0.124483   -0.016499  0.280264   \n",
              "StreamingMovies  -0.010105       0.119842  0.118108   -0.038375  0.285402   \n",
              "Contract          0.000095      -0.141820  0.294094    0.240556  0.676734   \n",
              "PaperlessBilling -0.011902       0.156258 -0.013957   -0.110131  0.004823   \n",
              "PaymentMethod     0.016942      -0.038158 -0.156232   -0.041989 -0.370087   \n",
              "MonthlyCharges   -0.013779       0.219874  0.097825   -0.112343  0.246862   \n",
              "TotalCharges      0.000048       0.102411  0.319072    0.064653  0.825880   \n",
              "Churn            -0.008545       0.150541 -0.149982   -0.163128 -0.354049   \n",
              "\n",
              "                  PhoneService  MultipleLines  InternetService  \\\n",
              "gender               -0.007515      -0.008883        -0.002236   \n",
              "SeniorCitizen         0.008392       0.142996        -0.032160   \n",
              "Partner               0.018397       0.142561         0.000513   \n",
              "Dependents           -0.001078      -0.024307         0.044030   \n",
              "tenure                0.007877       0.332399        -0.029835   \n",
              "PhoneService          1.000000       0.279530         0.387266   \n",
              "MultipleLines         0.279530       1.000000         0.011346   \n",
              "InternetService       0.387266       0.011346         1.000000   \n",
              "OnlineSecurity       -0.091676       0.098592        -0.392174   \n",
              "OnlineBackup         -0.052133       0.202228        -0.313708   \n",
              "DeviceProtection     -0.070076       0.201733        -0.305757   \n",
              "TechSupport          -0.095138       0.100421        -0.388535   \n",
              "StreamingTV          -0.021383       0.257804        -0.241330   \n",
              "StreamingMovies      -0.033477       0.259194        -0.250144   \n",
              "Contract              0.003019       0.107529         0.099579   \n",
              "PaperlessBilling      0.016696       0.163746        -0.138166   \n",
              "PaymentMethod        -0.005499      -0.171240         0.084504   \n",
              "MonthlyCharges        0.248033       0.490912        -0.322173   \n",
              "TotalCharges          0.113008       0.469042        -0.175691   \n",
              "Churn                 0.011691       0.040033        -0.047097   \n",
              "\n",
              "                  OnlineSecurity  OnlineBackup  DeviceProtection  TechSupport  \\\n",
              "gender                 -0.016328     -0.013093         -0.000807    -0.008507   \n",
              "SeniorCitizen          -0.038576      0.066663          0.059514    -0.060577   \n",
              "Partner                 0.143346      0.141849          0.153556     0.120206   \n",
              "Dependents              0.080786      0.023639          0.013900     0.063053   \n",
              "tenure                  0.328297      0.361138          0.361520     0.325288   \n",
              "PhoneService           -0.091676     -0.052133         -0.070076    -0.095138   \n",
              "MultipleLines           0.098592      0.202228          0.201733     0.100421   \n",
              "InternetService        -0.392174     -0.313708         -0.305757    -0.388535   \n",
              "OnlineSecurity          1.000000      0.283285          0.274875     0.354458   \n",
              "OnlineBackup            0.283285      1.000000          0.303058     0.293705   \n",
              "DeviceProtection        0.274875      0.303058          1.000000     0.332850   \n",
              "TechSupport             0.354458      0.293705          0.332850     1.000000   \n",
              "StreamingTV             0.175514      0.281601          0.389924     0.277549   \n",
              "StreamingMovies         0.187426      0.274523          0.402309     0.280155   \n",
              "Contract                0.245660      0.155262          0.219648     0.293967   \n",
              "PaperlessBilling       -0.004051      0.127056          0.104079     0.037536   \n",
              "PaymentMethod          -0.149112     -0.170720         -0.180931    -0.156296   \n",
              "MonthlyCharges          0.296447      0.441529          0.482607     0.338301   \n",
              "TotalCharges            0.412619      0.510100          0.522881     0.432868   \n",
              "Churn                  -0.171270     -0.082307         -0.066193    -0.164716   \n",
              "\n",
              "                  StreamingTV  StreamingMovies  Contract  PaperlessBilling  \\\n",
              "gender              -0.007124        -0.010105  0.000095         -0.011902   \n",
              "SeniorCitizen        0.105445         0.119842 -0.141820          0.156258   \n",
              "Partner              0.124483         0.118108  0.294094         -0.013957   \n",
              "Dependents          -0.016499        -0.038375  0.240556         -0.110131   \n",
              "tenure               0.280264         0.285402  0.676734          0.004823   \n",
              "PhoneService        -0.021383        -0.033477  0.003019          0.016696   \n",
              "MultipleLines        0.257804         0.259194  0.107529          0.163746   \n",
              "InternetService     -0.241330        -0.250144  0.099579         -0.138166   \n",
              "OnlineSecurity       0.175514         0.187426  0.245660         -0.004051   \n",
              "OnlineBackup         0.281601         0.274523  0.155262          0.127056   \n",
              "DeviceProtection     0.389924         0.402309  0.219648          0.104079   \n",
              "TechSupport          0.277549         0.280155  0.293967          0.037536   \n",
              "StreamingTV          1.000000         0.533380  0.104178          0.224241   \n",
              "StreamingMovies      0.533380         1.000000  0.109136          0.211583   \n",
              "Contract             0.104178         0.109136  1.000000         -0.175475   \n",
              "PaperlessBilling     0.224241         0.211583 -0.175475          1.000000   \n",
              "PaymentMethod       -0.148563        -0.154854 -0.229636         -0.061348   \n",
              "MonthlyCharges       0.629668         0.627235 -0.072739          0.351930   \n",
              "TotalCharges         0.515709         0.519867  0.450306          0.157830   \n",
              "Churn                0.063254         0.060860 -0.396150          0.191454   \n",
              "\n",
              "                  PaymentMethod  MonthlyCharges  TotalCharges     Churn  \n",
              "gender                 0.016942       -0.013779      0.000048 -0.008545  \n",
              "SeniorCitizen         -0.038158        0.219874      0.102411  0.150541  \n",
              "Partner               -0.156232        0.097825      0.319072 -0.149982  \n",
              "Dependents            -0.041989       -0.112343      0.064653 -0.163128  \n",
              "tenure                -0.370087        0.246862      0.825880 -0.354049  \n",
              "PhoneService          -0.005499        0.248033      0.113008  0.011691  \n",
              "MultipleLines         -0.171240        0.490912      0.469042  0.040033  \n",
              "InternetService        0.084504       -0.322173     -0.175691 -0.047097  \n",
              "OnlineSecurity        -0.149112        0.296447      0.412619 -0.171270  \n",
              "OnlineBackup          -0.170720        0.441529      0.510100 -0.082307  \n",
              "DeviceProtection      -0.180931        0.482607      0.522881 -0.066193  \n",
              "TechSupport           -0.156296        0.338301      0.432868 -0.164716  \n",
              "StreamingTV           -0.148563        0.629668      0.515709  0.063254  \n",
              "StreamingMovies       -0.154854        0.627235      0.519867  0.060860  \n",
              "Contract              -0.229636       -0.072739      0.450306 -0.396150  \n",
              "PaperlessBilling      -0.061348        0.351930      0.157830  0.191454  \n",
              "PaymentMethod          1.000000       -0.192500     -0.330594  0.107852  \n",
              "MonthlyCharges        -0.192500        1.000000      0.651065  0.192858  \n",
              "TotalCharges          -0.330594        0.651065      1.000000 -0.199484  \n",
              "Churn                  0.107852        0.192858     -0.199484  1.000000  "
            ]
          },
          "execution_count": 85,
          "metadata": {},
          "output_type": "execute_result"
        }
      ],
      "source": [
        "df.corr() #Correlation matrix"
      ]
    },
    {
      "cell_type": "code",
      "execution_count": null,
      "id": "7b52d38f",
      "metadata": {
        "id": "7b52d38f",
        "outputId": "3524b32c-8122-48ec-e724-13e9d51a9d46"
      },
      "outputs": [
        {
          "data": {
            "image/png": "[encoded data removed]",
            "text/plain": [
              "<Figure size 1440x1440 with 2 Axes>"
            ]
          },
          "metadata": {
            "needs_background": "light"
          },
          "output_type": "display_data"
        }
      ],
      "source": [
        "#Visualization for correlation matrix\n",
        "plt.figure(figsize=(20,20))\n",
        "sns.heatmap(df.corr(),annot=True)\n",
        "plt.show()"
      ]
    },
    {
      "cell_type": "code",
      "execution_count": null,
      "id": "19ea9ea0",
      "metadata": {
        "id": "19ea9ea0",
        "outputId": "79967c62-f948-4881-f57e-4f7a7ec3d9fc"
      },
      "outputs": [
        {
          "data": {
            "text/plain": [
              "Contract           -0.396150\n",
              "tenure             -0.354049\n",
              "TotalCharges       -0.199484\n",
              "OnlineSecurity     -0.171270\n",
              "TechSupport        -0.164716\n",
              "Dependents         -0.163128\n",
              "Partner            -0.149982\n",
              "OnlineBackup       -0.082307\n",
              "DeviceProtection   -0.066193\n",
              "InternetService    -0.047097\n",
              "gender             -0.008545\n",
              "PhoneService        0.011691\n",
              "MultipleLines       0.040033\n",
              "StreamingMovies     0.060860\n",
              "StreamingTV         0.063254\n",
              "PaymentMethod       0.107852\n",
              "SeniorCitizen       0.150541\n",
              "PaperlessBilling    0.191454\n",
              "MonthlyCharges      0.192858\n",
              "Churn               1.000000\n",
              "Name: Churn, dtype: float64"
            ]
          },
          "execution_count": 87,
          "metadata": {},
          "output_type": "execute_result"
        }
      ],
      "source": [
        "#Correlation wrt target column\n",
        "df.corr()['Churn'].sort_values()"
      ]
    },
    {
      "cell_type": "markdown",
      "id": "e90f7e1a",
      "metadata": {
        "id": "e90f7e1a"
      },
      "source": [
        "We see that contract and tenure has the highest negative correlation"
      ]
    },
    {
      "cell_type": "markdown",
      "id": "a8d030b2",
      "metadata": {
        "id": "a8d030b2"
      },
      "source": [
        "# Outliers"
      ]
    },
    {
      "cell_type": "markdown",
      "id": "d65f9f75",
      "metadata": {
        "id": "d65f9f75"
      },
      "source": [
        "From the above data visualization in the EDA, we see that most of the data are classification type and the few regression columns with their boxplots show that there are no outliers present. Hence, we shall not treat the data for outliers"
      ]
    },
    {
      "cell_type": "markdown",
      "id": "bc4cab36",
      "metadata": {
        "id": "bc4cab36"
      },
      "source": [
        "# Skewness"
      ]
    },
    {
      "cell_type": "markdown",
      "id": "52024afd",
      "metadata": {
        "id": "52024afd"
      },
      "source": [
        "Since there are no outliers present in the data, however the data being little skewed in one column. The data present in the column is precious and we shall not treat for skewness either"
      ]
    },
    {
      "cell_type": "markdown",
      "id": "984e0a9c",
      "metadata": {
        "id": "984e0a9c"
      },
      "source": [
        "# Splitting the dataset"
      ]
    },
    {
      "cell_type": "markdown",
      "id": "b44011e0",
      "metadata": {
        "id": "b44011e0"
      },
      "source": [
        "Now, we split the data into feature and target columns"
      ]
    },
    {
      "cell_type": "code",
      "execution_count": null,
      "id": "be1e0260",
      "metadata": {
        "id": "be1e0260"
      },
      "outputs": [],
      "source": [
        "x = df.drop(columns='Churn') #Indeependent variable\n",
        "y = df['Churn'] #Dependent variable"
      ]
    },
    {
      "cell_type": "markdown",
      "id": "1711a646",
      "metadata": {
        "id": "1711a646"
      },
      "source": [
        "# Best Random State"
      ]
    },
    {
      "cell_type": "code",
      "execution_count": null,
      "id": "da2f71c1",
      "metadata": {
        "id": "da2f71c1",
        "outputId": "198776cf-1bc0-4ea4-8e90-ed150f79e9c6"
      },
      "outputs": [
        {
          "name": "stdout",
          "output_type": "stream",
          "text": [
            "Max accuracy: \t 0.8208955223880597\n",
            "Random State: \t 14\n"
          ]
        }
      ],
      "source": [
        "maxRS = 0\n",
        "maxAcc = 0\n",
        "for i in range(0,100):\n",
        "    x_train, x_test, y_train, y_test = train_test_split(x, y, test_size=0.20, random_state=i)\n",
        "    lr = LogisticRegression()\n",
        "    lr.fit(x_train,y_train)\n",
        "    pred = lr.predict(x_test)\n",
        "    acc = accuracy_score(y_test, pred)\n",
        "    if acc>maxAcc:\n",
        "        maxAcc = acc\n",
        "        maxRS = i\n",
        "print(\"Max accuracy: \\t\", maxAcc)\n",
        "print(\"Random State: \\t\", maxRS)"
      ]
    },
    {
      "cell_type": "markdown",
      "id": "90c24844",
      "metadata": {
        "id": "90c24844"
      },
      "source": [
        "Now since we got the best random state for data modelling, we create the test train models"
      ]
    },
    {
      "cell_type": "code",
      "execution_count": null,
      "id": "8d0def23",
      "metadata": {
        "id": "8d0def23"
      },
      "outputs": [],
      "source": [
        "x_train, x_test, y_train, y_test = train_test_split(x, y, test_size=0.20, random_state=maxRS)"
      ]
    },
    {
      "cell_type": "markdown",
      "id": "632c0b48",
      "metadata": {
        "id": "632c0b48"
      },
      "source": [
        "# Balancing the Train Data"
      ]
    },
    {
      "cell_type": "code",
      "execution_count": null,
      "id": "e30019d7",
      "metadata": {
        "id": "e30019d7"
      },
      "outputs": [],
      "source": [
        "train = pd.concat([x_train,y_train], axis=1)"
      ]
    },
    {
      "cell_type": "code",
      "execution_count": null,
      "id": "c30dc5bf",
      "metadata": {
        "id": "c30dc5bf"
      },
      "outputs": [],
      "source": [
        "more = train[train['Churn']==0] # No  -> 0\n",
        "less = train[train['Churn']==1] # Yes -> 1"
      ]
    },
    {
      "cell_type": "code",
      "execution_count": null,
      "id": "cc705fb7",
      "metadata": {
        "id": "cc705fb7"
      },
      "outputs": [],
      "source": [
        "upsample = resample(less,\n",
        "                    replace=True, #Sample with replacement\n",
        "                    n_samples=len(more), #matching with the majority class\n",
        "                    random_state=maxRS) #Reproductible results"
      ]
    },
    {
      "cell_type": "code",
      "execution_count": null,
      "id": "43f8a74a",
      "metadata": {
        "id": "43f8a74a"
      },
      "outputs": [],
      "source": [
        "new = pd.concat([more,upsample])"
      ]
    },
    {
      "cell_type": "code",
      "execution_count": null,
      "id": "02d4028a",
      "metadata": {
        "id": "02d4028a",
        "outputId": "13d9e1da-e621-43d4-81ba-7ae261fe9fbb"
      },
      "outputs": [
        {
          "data": {
            "text/plain": [
              "0    4114\n",
              "1    4114\n",
              "Name: Churn, dtype: int64"
            ]
          },
          "execution_count": 95,
          "metadata": {},
          "output_type": "execute_result"
        }
      ],
      "source": [
        "new['Churn'].value_counts()"
      ]
    },
    {
      "cell_type": "code",
      "execution_count": null,
      "id": "c94afcf7",
      "metadata": {
        "id": "c94afcf7"
      },
      "outputs": [],
      "source": [
        "x_train = new.drop(columns='Churn')\n",
        "y_train = new['Churn']"
      ]
    },
    {
      "cell_type": "markdown",
      "id": "1e5bfb15",
      "metadata": {
        "id": "1e5bfb15"
      },
      "source": [
        "# Model Predictions"
      ]
    },
    {
      "cell_type": "markdown",
      "id": "3e974026",
      "metadata": {
        "id": "3e974026"
      },
      "source": [
        "Logistic Regression"
      ]
    },
    {
      "cell_type": "code",
      "execution_count": null,
      "id": "29ed179a",
      "metadata": {
        "id": "29ed179a",
        "outputId": "5be17068-c230-4cb9-d22b-242f926b8b35"
      },
      "outputs": [
        {
          "name": "stdout",
          "output_type": "stream",
          "text": [
            "Accuracy: \t 74.4136460554371\n",
            "[[747 302]\n",
            " [ 58 300]]\n",
            "              precision    recall  f1-score   support\n",
            "\n",
            "           0       0.93      0.71      0.81      1049\n",
            "           1       0.50      0.84      0.62       358\n",
            "\n",
            "    accuracy                           0.74      1407\n",
            "   macro avg       0.71      0.78      0.72      1407\n",
            "weighted avg       0.82      0.74      0.76      1407\n",
            "\n"
          ]
        }
      ],
      "source": [
        "lr = LogisticRegression()\n",
        "lr.fit(x_train,y_train)\n",
        "pred = lr.predict(x_test)\n",
        "print(\"Accuracy: \\t\", accuracy_score(y_test,pred)*100)\n",
        "print(confusion_matrix(y_test,pred))\n",
        "print(classification_report(y_test,pred))"
      ]
    },
    {
      "cell_type": "markdown",
      "id": "00cd631e",
      "metadata": {
        "id": "00cd631e"
      },
      "source": [
        "K-Nearest Neighbors"
      ]
    },
    {
      "cell_type": "code",
      "execution_count": null,
      "id": "f6ba30d7",
      "metadata": {
        "id": "f6ba30d7",
        "outputId": "71f6b20b-0748-435d-bb8f-0bfbf885e176"
      },
      "outputs": [
        {
          "name": "stdout",
          "output_type": "stream",
          "text": [
            "Accuracy: \t 67.590618336887\n",
            "[[695 354]\n",
            " [102 256]]\n",
            "              precision    recall  f1-score   support\n",
            "\n",
            "           0       0.87      0.66      0.75      1049\n",
            "           1       0.42      0.72      0.53       358\n",
            "\n",
            "    accuracy                           0.68      1407\n",
            "   macro avg       0.65      0.69      0.64      1407\n",
            "weighted avg       0.76      0.68      0.70      1407\n",
            "\n"
          ]
        }
      ],
      "source": [
        "knn = KNeighborsClassifier()\n",
        "knn.fit(x_train, y_train)\n",
        "pred = knn.predict(x_test)\n",
        "print(\"Accuracy: \\t\", accuracy_score(y_test,pred)*100)\n",
        "print(confusion_matrix(y_test,pred))\n",
        "print(classification_report(y_test,pred))"
      ]
    },
    {
      "cell_type": "markdown",
      "id": "e71d2bf7",
      "metadata": {
        "id": "e71d2bf7"
      },
      "source": [
        "Support Vector Classifier"
      ]
    },
    {
      "cell_type": "code",
      "execution_count": null,
      "id": "d2f3d0c9",
      "metadata": {
        "id": "d2f3d0c9",
        "outputId": "6ee81ad6-19fa-4c77-c0e4-4ec6efea14b5"
      },
      "outputs": [
        {
          "name": "stdout",
          "output_type": "stream",
          "text": [
            "Accuracy: \t 69.65174129353234\n",
            "[[764 285]\n",
            " [142 216]]\n",
            "              precision    recall  f1-score   support\n",
            "\n",
            "           0       0.84      0.73      0.78      1049\n",
            "           1       0.43      0.60      0.50       358\n",
            "\n",
            "    accuracy                           0.70      1407\n",
            "   macro avg       0.64      0.67      0.64      1407\n",
            "weighted avg       0.74      0.70      0.71      1407\n",
            "\n"
          ]
        }
      ],
      "source": [
        "svc = SVC()\n",
        "svc.fit(x_train, y_train)\n",
        "pred = svc.predict(x_test)\n",
        "print(\"Accuracy: \\t\", accuracy_score(y_test,pred)*100)\n",
        "print(confusion_matrix(y_test,pred))\n",
        "print(classification_report(y_test,pred))"
      ]
    },
    {
      "cell_type": "markdown",
      "id": "22d78bde",
      "metadata": {
        "id": "22d78bde"
      },
      "source": [
        "Decision Tree Classifier"
      ]
    },
    {
      "cell_type": "code",
      "execution_count": null,
      "id": "1ca0657f",
      "metadata": {
        "id": "1ca0657f",
        "outputId": "ba637753-7aa1-43d7-aca8-4e4cf8fc207e"
      },
      "outputs": [
        {
          "name": "stdout",
          "output_type": "stream",
          "text": [
            "Accuracy: \t 72.92110874200426\n",
            "[[865 184]\n",
            " [197 161]]\n",
            "              precision    recall  f1-score   support\n",
            "\n",
            "           0       0.81      0.82      0.82      1049\n",
            "           1       0.47      0.45      0.46       358\n",
            "\n",
            "    accuracy                           0.73      1407\n",
            "   macro avg       0.64      0.64      0.64      1407\n",
            "weighted avg       0.73      0.73      0.73      1407\n",
            "\n"
          ]
        }
      ],
      "source": [
        "dt = DecisionTreeClassifier()\n",
        "dt.fit(x_train,y_train)\n",
        "pred = dt.predict(x_test)\n",
        "print(\"Accuracy: \\t\", accuracy_score(y_test,pred)*100)\n",
        "print(confusion_matrix(y_test,pred))\n",
        "print(classification_report(y_test,pred))"
      ]
    },
    {
      "cell_type": "markdown",
      "id": "f1942222",
      "metadata": {
        "id": "f1942222"
      },
      "source": [
        "Random Forest Classifier"
      ]
    },
    {
      "cell_type": "code",
      "execution_count": null,
      "id": "48e697b5",
      "metadata": {
        "id": "48e697b5",
        "outputId": "e1ce4302-a7a5-4caf-a0dc-a084336b123a"
      },
      "outputs": [
        {
          "name": "stdout",
          "output_type": "stream",
          "text": [
            "Accuracy: \t 79.24662402274343\n",
            "[[919 130]\n",
            " [162 196]]\n",
            "              precision    recall  f1-score   support\n",
            "\n",
            "           0       0.85      0.88      0.86      1049\n",
            "           1       0.60      0.55      0.57       358\n",
            "\n",
            "    accuracy                           0.79      1407\n",
            "   macro avg       0.73      0.71      0.72      1407\n",
            "weighted avg       0.79      0.79      0.79      1407\n",
            "\n"
          ]
        }
      ],
      "source": [
        "rf = RandomForestClassifier()\n",
        "rf.fit(x_train,y_train)\n",
        "pred = rf.predict(x_test)\n",
        "print(\"Accuracy: \\t\", accuracy_score(y_test,pred)*100)\n",
        "print(confusion_matrix(y_test,pred))\n",
        "print(classification_report(y_test,pred))"
      ]
    },
    {
      "cell_type": "markdown",
      "id": "c0a763d9",
      "metadata": {
        "id": "c0a763d9"
      },
      "source": [
        "We see that the Random Forest Classifier gives the most efficiency of 79.24%"
      ]
    },
    {
      "cell_type": "markdown",
      "id": "1f9e0606",
      "metadata": {
        "id": "1f9e0606"
      },
      "source": [
        "# Cross Validation"
      ]
    },
    {
      "cell_type": "code",
      "execution_count": null,
      "id": "878014d8",
      "metadata": {
        "id": "878014d8",
        "outputId": "d0887b3d-bff8-4402-d12f-12ca08887695"
      },
      "outputs": [
        {
          "name": "stdout",
          "output_type": "stream",
          "text": [
            "Cross validation score of Logistic Regression is: \t 0.80218972198548\n"
          ]
        }
      ],
      "source": [
        "scr1 = cross_val_score(lr, x, y, cv=5)\n",
        "print(\"Cross validation score of Logistic Regression is: \\t\", scr1.mean())"
      ]
    },
    {
      "cell_type": "code",
      "execution_count": null,
      "id": "ee8003c3",
      "metadata": {
        "id": "ee8003c3",
        "outputId": "e52cad90-83a1-435f-c041-decfb35c5f76"
      },
      "outputs": [
        {
          "name": "stdout",
          "output_type": "stream",
          "text": [
            "Cross validation score of KNN is: \t 0.7609496714759872\n"
          ]
        }
      ],
      "source": [
        "scr2 = cross_val_score(knn, x, y, cv=5)\n",
        "print(\"Cross validation score of KNN is: \\t\", scr2.mean())"
      ]
    },
    {
      "cell_type": "code",
      "execution_count": null,
      "id": "1c958de0",
      "metadata": {
        "id": "1c958de0",
        "outputId": "ff94b542-77be-4dd5-a044-6e97369f4fec"
      },
      "outputs": [
        {
          "name": "stdout",
          "output_type": "stream",
          "text": [
            "Cross validation score of SVC is: \t 0.7342150252598014\n"
          ]
        }
      ],
      "source": [
        "scr3 = cross_val_score(svc, x, y, cv=5)\n",
        "print(\"Cross validation score of SVC is: \\t\", scr3.mean())"
      ]
    },
    {
      "cell_type": "code",
      "execution_count": null,
      "id": "3aaec3a7",
      "metadata": {
        "id": "3aaec3a7",
        "outputId": "1499e883-71cf-4892-ef80-2259361c17ac"
      },
      "outputs": [
        {
          "name": "stdout",
          "output_type": "stream",
          "text": [
            "Cross validation score of Decision Tree is: \t 0.7286661591453422\n"
          ]
        }
      ],
      "source": [
        "scr4 = cross_val_score(dt, x, y, cv=5)\n",
        "print(\"Cross validation score of Decision Tree is: \\t\", scr4.mean())"
      ]
    },
    {
      "cell_type": "code",
      "execution_count": null,
      "id": "7698c07a",
      "metadata": {
        "id": "7698c07a",
        "outputId": "95d30c4a-f725-4a21-bb9b-82f9d9b3b0b4"
      },
      "outputs": [
        {
          "name": "stdout",
          "output_type": "stream",
          "text": [
            "Cross validation score of Random Forest is: \t 0.7873992160716434\n"
          ]
        }
      ],
      "source": [
        "scr5 = cross_val_score(rf, x, y, cv=5)\n",
        "print(\"Cross validation score of Random Forest is: \\t\", scr5.mean())"
      ]
    },
    {
      "cell_type": "markdown",
      "id": "e9c1875c",
      "metadata": {
        "id": "e9c1875c"
      },
      "source": [
        "We can see that Logistic Regression performs the best among others, however, Random Forest is close second and hence we can use it."
      ]
    },
    {
      "cell_type": "markdown",
      "id": "4266f9ad",
      "metadata": {
        "id": "4266f9ad"
      },
      "source": [
        "# Hyper Parameter Tuning"
      ]
    },
    {
      "cell_type": "code",
      "execution_count": null,
      "id": "ff75d299",
      "metadata": {
        "id": "ff75d299",
        "outputId": "46e765d3-4eef-4fb8-b453-156e853d8026"
      },
      "outputs": [
        {
          "data": {
            "text/plain": [
              "{'bootstrap': True,\n",
              " 'ccp_alpha': 0.0,\n",
              " 'class_weight': None,\n",
              " 'criterion': 'gini',\n",
              " 'max_depth': None,\n",
              " 'max_features': 'auto',\n",
              " 'max_leaf_nodes': None,\n",
              " 'max_samples': None,\n",
              " 'min_impurity_decrease': 0.0,\n",
              " 'min_impurity_split': None,\n",
              " 'min_samples_leaf': 1,\n",
              " 'min_samples_split': 2,\n",
              " 'min_weight_fraction_leaf': 0.0,\n",
              " 'n_estimators': 100,\n",
              " 'n_jobs': None,\n",
              " 'oob_score': False,\n",
              " 'random_state': None,\n",
              " 'verbose': 0,\n",
              " 'warm_start': False}"
            ]
          },
          "execution_count": 107,
          "metadata": {},
          "output_type": "execute_result"
        }
      ],
      "source": [
        "GridSearchCV.get_params(rf) #Getting the parameters for RandonForrestClassifier"
      ]
    },
    {
      "cell_type": "code",
      "execution_count": null,
      "id": "945b2783",
      "metadata": {
        "id": "945b2783"
      },
      "outputs": [],
      "source": [
        "#Adding parameters to tune the model to best efficiency\n",
        "parameters = {'bootstrap': [True,False],\n",
        "              'max_depth': [10, 20, 30, None],\n",
        "              'min_samples_leaf': [1, 2],\n",
        "              'min_samples_split': [2, 5],\n",
        "              'n_estimators': [200, 400]}"
      ]
    },
    {
      "cell_type": "code",
      "execution_count": null,
      "id": "20176083",
      "metadata": {
        "id": "20176083"
      },
      "outputs": [],
      "source": [
        "gcv = GridSearchCV(rf, parameters, cv=5, scoring='accuracy')"
      ]
    },
    {
      "cell_type": "code",
      "execution_count": null,
      "id": "df96354c",
      "metadata": {
        "id": "df96354c",
        "outputId": "dcb193ac-9b1c-4e22-e030-1167680cf6fe"
      },
      "outputs": [
        {
          "data": {
            "text/plain": [
              "GridSearchCV(cv=5, estimator=RandomForestClassifier(),\n",
              "             param_grid={'bootstrap': [True, False],\n",
              "                         'max_depth': [10, 20, 30, None],\n",
              "                         'min_samples_leaf': [1, 2],\n",
              "                         'min_samples_split': [2, 5],\n",
              "                         'n_estimators': [200, 400]},\n",
              "             scoring='accuracy')"
            ]
          },
          "execution_count": 110,
          "metadata": {},
          "output_type": "execute_result"
        }
      ],
      "source": [
        "#Fitting the parameters\n",
        "gcv.fit(x_train,y_train)"
      ]
    },
    {
      "cell_type": "code",
      "execution_count": null,
      "id": "c5e7959f",
      "metadata": {
        "id": "c5e7959f",
        "outputId": "9cbc20fd-e342-488c-9de5-830c6b859259"
      },
      "outputs": [
        {
          "data": {
            "text/plain": [
              "0.9126149050659791"
            ]
          },
          "execution_count": 111,
          "metadata": {},
          "output_type": "execute_result"
        }
      ],
      "source": [
        "#Finding the best score\n",
        "gcv.best_score_"
      ]
    },
    {
      "cell_type": "code",
      "execution_count": null,
      "id": "69176b0a",
      "metadata": {
        "id": "69176b0a",
        "outputId": "8e11f91a-ec43-4ae0-ce08-5759e036bae2"
      },
      "outputs": [
        {
          "data": {
            "text/plain": [
              "{'bootstrap': False,\n",
              " 'max_depth': 30,\n",
              " 'min_samples_leaf': 1,\n",
              " 'min_samples_split': 2,\n",
              " 'n_estimators': 400}"
            ]
          },
          "execution_count": 112,
          "metadata": {},
          "output_type": "execute_result"
        }
      ],
      "source": [
        "#Finding the best parameters\n",
        "gcv.best_params_"
      ]
    },
    {
      "cell_type": "code",
      "execution_count": null,
      "id": "eb703ab6",
      "metadata": {
        "id": "eb703ab6",
        "outputId": "fbabed22-5e36-4734-8cb4-9ea910b1c753"
      },
      "outputs": [
        {
          "data": {
            "text/plain": [
              "0.8002842928216063"
            ]
          },
          "execution_count": 113,
          "metadata": {},
          "output_type": "execute_result"
        }
      ],
      "source": [
        "gcv_pred = gcv.best_estimator_.predict(x_test)\n",
        "accuracy_score(y_test,gcv_pred)"
      ]
    },
    {
      "cell_type": "markdown",
      "id": "3ab2b774",
      "metadata": {
        "id": "3ab2b774"
      },
      "source": [
        "We see the accuracy has increased to 80.02%"
      ]
    },
    {
      "cell_type": "markdown",
      "id": "714c3c71",
      "metadata": {
        "id": "714c3c71"
      },
      "source": [
        "# ROC AUC Plot"
      ]
    },
    {
      "cell_type": "code",
      "execution_count": null,
      "id": "f19f189b",
      "metadata": {
        "id": "f19f189b",
        "outputId": "7dfae848-ab43-4103-8a65-c969e2f5bb82"
      },
      "outputs": [
        {
          "data": {
            "image/png": "[encoded data removed]",
            "text/plain": [
              "<Figure size 432x288 with 1 Axes>"
            ]
          },
          "metadata": {
            "needs_background": "light"
          },
          "output_type": "display_data"
        }
      ],
      "source": [
        "plot_roc_curve(gcv.best_estimator_,x_test,y_test)\n",
        "plt.title(\"ROC AUC plot\")\n",
        "plt.show()"
      ]
    },
    {
      "cell_type": "markdown",
      "id": "99efd26e",
      "metadata": {
        "id": "99efd26e"
      },
      "source": [
        "The AUC score of 82% is very good"
      ]
    },
    {
      "cell_type": "markdown",
      "id": "35b2ac16",
      "metadata": {
        "id": "35b2ac16"
      },
      "source": [
        "# Saving the best model"
      ]
    },
    {
      "cell_type": "code",
      "execution_count": null,
      "id": "777f6e40",
      "metadata": {
        "id": "777f6e40",
        "outputId": "5a45994e-b409-4274-f0eb-c5226da184bb"
      },
      "outputs": [
        {
          "data": {
            "text/plain": [
              "['churn.pkl']"
            ]
          },
          "execution_count": 115,
          "metadata": {},
          "output_type": "execute_result"
        }
      ],
      "source": [
        "joblib.dump(gcv.best_estimator_,\"churn.pkl\")"
      ]
    },
    {
      "cell_type": "code",
      "execution_count": null,
      "id": "830bb475",
      "metadata": {
        "id": "830bb475"
      },
      "outputs": [],
      "source": []
    }
  ],
  "metadata": {
    "kernelspec": {
      "display_name": "Python 3",
      "language": "python",
      "name": "python3"
    },
    "language_info": {
      "codemirror_mode": {
        "name": "ipython",
        "version": 3
      },
      "file_extension": ".py",
      "mimetype": "text/x-python",
      "name": "python",
      "nbconvert_exporter": "python",
      "pygments_lexer": "ipython3",
      "version": "3.8.8"
    },
    "colab": {
      "provenance": []
    }
  },
  "nbformat": 4,
  "nbformat_minor": 5
}