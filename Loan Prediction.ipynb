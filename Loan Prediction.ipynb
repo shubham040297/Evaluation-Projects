{
  "cells": [
    {
      "cell_type": "code",
      "execution_count": null,
      "id": "d871e759",
      "metadata": {
        "id": "d871e759"
      },
      "outputs": [],
      "source": [
        "import pandas as pd\n",
        "import numpy as np\n",
        "import seaborn as sns\n",
        "import matplotlib.pyplot as plt\n",
        "from sklearn.preprocessing import LabelEncoder\n",
        "from scipy.stats import zscore\n",
        "from sklearn.model_selection import train_test_split, cross_val_score, GridSearchCV\n",
        "from sklearn.linear_model import LogisticRegression\n",
        "from sklearn.metrics import plot_roc_curve, accuracy_score, confusion_matrix, classification_report\n",
        "from sklearn.utils import resample\n",
        "from sklearn.neighbors import KNeighborsClassifier\n",
        "from sklearn.svm import SVC\n",
        "from sklearn.tree import DecisionTreeClassifier\n",
        "from sklearn.ensemble import RandomForestClassifier\n",
        "import joblib\n",
        "\n",
        "import warnings\n",
        "warnings.filterwarnings('ignore')"
      ]
    },
    {
      "cell_type": "markdown",
      "id": "722a3953",
      "metadata": {
        "id": "722a3953"
      },
      "source": [
        "# Data Collection"
      ]
    },
    {
      "cell_type": "code",
      "execution_count": null,
      "id": "8d3da773",
      "metadata": {
        "id": "8d3da773"
      },
      "outputs": [],
      "source": [
        "df = pd.read_csv(r'C:\\Users\\Shubham\\Desktop\\Projects\\Evaluation\\Loan\\loan_prediction.csv')"
      ]
    },
    {
      "cell_type": "markdown",
      "id": "20526274",
      "metadata": {
        "id": "20526274"
      },
      "source": [
        "# Data Understanding"
      ]
    },
    {
      "cell_type": "code",
      "execution_count": null,
      "id": "e2bc5810",
      "metadata": {
        "id": "e2bc5810",
        "outputId": "1f1cee18-d5d2-411a-a899-174c08019952"
      },
      "outputs": [
        {
          "data": {
            "text/plain": [
              "(614, 13)"
            ]
          },
          "execution_count": 3,
          "metadata": {},
          "output_type": "execute_result"
        }
      ],
      "source": [
        "df.shape #Shape of the Dataset"
      ]
    },
    {
      "cell_type": "code",
      "execution_count": null,
      "id": "e8423e35",
      "metadata": {
        "id": "e8423e35",
        "outputId": "e1b70cfc-ad5d-4d4f-ca3a-3dca141105bf"
      },
      "outputs": [
        {
          "data": {
            "text/html": [
              "<div>\n",
              "<style scoped>\n",
              "    .dataframe tbody tr th:only-of-type {\n",
              "        vertical-align: middle;\n",
              "    }\n",
              "\n",
              "    .dataframe tbody tr th {\n",
              "        vertical-align: top;\n",
              "    }\n",
              "\n",
              "    .dataframe thead th {\n",
              "        text-align: right;\n",
              "    }\n",
              "</style>\n",
              "<table border=\"1\" class=\"dataframe\">\n",
              "  <thead>\n",
              "    <tr style=\"text-align: right;\">\n",
              "      <th></th>\n",
              "      <th>Loan_ID</th>\n",
              "      <th>Gender</th>\n",
              "      <th>Married</th>\n",
              "      <th>Dependents</th>\n",
              "      <th>Education</th>\n",
              "      <th>Self_Employed</th>\n",
              "      <th>ApplicantIncome</th>\n",
              "      <th>CoapplicantIncome</th>\n",
              "      <th>LoanAmount</th>\n",
              "      <th>Loan_Amount_Term</th>\n",
              "      <th>Credit_History</th>\n",
              "      <th>Property_Area</th>\n",
              "      <th>Loan_Status</th>\n",
              "    </tr>\n",
              "  </thead>\n",
              "  <tbody>\n",
              "    <tr>\n",
              "      <th>0</th>\n",
              "      <td>LP001002</td>\n",
              "      <td>Male</td>\n",
              "      <td>No</td>\n",
              "      <td>0</td>\n",
              "      <td>Graduate</td>\n",
              "      <td>No</td>\n",
              "      <td>5849</td>\n",
              "      <td>0.0</td>\n",
              "      <td>NaN</td>\n",
              "      <td>360.0</td>\n",
              "      <td>1.0</td>\n",
              "      <td>Urban</td>\n",
              "      <td>Y</td>\n",
              "    </tr>\n",
              "    <tr>\n",
              "      <th>1</th>\n",
              "      <td>LP001003</td>\n",
              "      <td>Male</td>\n",
              "      <td>Yes</td>\n",
              "      <td>1</td>\n",
              "      <td>Graduate</td>\n",
              "      <td>No</td>\n",
              "      <td>4583</td>\n",
              "      <td>1508.0</td>\n",
              "      <td>128.0</td>\n",
              "      <td>360.0</td>\n",
              "      <td>1.0</td>\n",
              "      <td>Rural</td>\n",
              "      <td>N</td>\n",
              "    </tr>\n",
              "    <tr>\n",
              "      <th>2</th>\n",
              "      <td>LP001005</td>\n",
              "      <td>Male</td>\n",
              "      <td>Yes</td>\n",
              "      <td>0</td>\n",
              "      <td>Graduate</td>\n",
              "      <td>Yes</td>\n",
              "      <td>3000</td>\n",
              "      <td>0.0</td>\n",
              "      <td>66.0</td>\n",
              "      <td>360.0</td>\n",
              "      <td>1.0</td>\n",
              "      <td>Urban</td>\n",
              "      <td>Y</td>\n",
              "    </tr>\n",
              "    <tr>\n",
              "      <th>3</th>\n",
              "      <td>LP001006</td>\n",
              "      <td>Male</td>\n",
              "      <td>Yes</td>\n",
              "      <td>0</td>\n",
              "      <td>Not Graduate</td>\n",
              "      <td>No</td>\n",
              "      <td>2583</td>\n",
              "      <td>2358.0</td>\n",
              "      <td>120.0</td>\n",
              "      <td>360.0</td>\n",
              "      <td>1.0</td>\n",
              "      <td>Urban</td>\n",
              "      <td>Y</td>\n",
              "    </tr>\n",
              "    <tr>\n",
              "      <th>4</th>\n",
              "      <td>LP001008</td>\n",
              "      <td>Male</td>\n",
              "      <td>No</td>\n",
              "      <td>0</td>\n",
              "      <td>Graduate</td>\n",
              "      <td>No</td>\n",
              "      <td>6000</td>\n",
              "      <td>0.0</td>\n",
              "      <td>141.0</td>\n",
              "      <td>360.0</td>\n",
              "      <td>1.0</td>\n",
              "      <td>Urban</td>\n",
              "      <td>Y</td>\n",
              "    </tr>\n",
              "  </tbody>\n",
              "</table>\n",
              "</div>"
            ],
            "text/plain": [
              "    Loan_ID Gender Married Dependents     Education Self_Employed  \\\n",
              "0  LP001002   Male      No          0      Graduate            No   \n",
              "1  LP001003   Male     Yes          1      Graduate            No   \n",
              "2  LP001005   Male     Yes          0      Graduate           Yes   \n",
              "3  LP001006   Male     Yes          0  Not Graduate            No   \n",
              "4  LP001008   Male      No          0      Graduate            No   \n",
              "\n",
              "   ApplicantIncome  CoapplicantIncome  LoanAmount  Loan_Amount_Term  \\\n",
              "0             5849                0.0         NaN             360.0   \n",
              "1             4583             1508.0       128.0             360.0   \n",
              "2             3000                0.0        66.0             360.0   \n",
              "3             2583             2358.0       120.0             360.0   \n",
              "4             6000                0.0       141.0             360.0   \n",
              "\n",
              "   Credit_History Property_Area Loan_Status  \n",
              "0             1.0         Urban           Y  \n",
              "1             1.0         Rural           N  \n",
              "2             1.0         Urban           Y  \n",
              "3             1.0         Urban           Y  \n",
              "4             1.0         Urban           Y  "
            ]
          },
          "execution_count": 4,
          "metadata": {},
          "output_type": "execute_result"
        }
      ],
      "source": [
        "pd.set_option(\"display.max_columns\", None)\n",
        "df.head() #Looking into the top 5 rows of the dataset"
      ]
    },
    {
      "cell_type": "code",
      "execution_count": null,
      "id": "95abfb76",
      "metadata": {
        "id": "95abfb76",
        "outputId": "7bded17a-2c80-420a-c8ea-3ad72f1de0f8"
      },
      "outputs": [
        {
          "name": "stdout",
          "output_type": "stream",
          "text": [
            "<class 'pandas.core.frame.DataFrame'>\n",
            "RangeIndex: 614 entries, 0 to 613\n",
            "Data columns (total 13 columns):\n",
            " #   Column             Non-Null Count  Dtype  \n",
            "---  ------             --------------  -----  \n",
            " 0   Loan_ID            614 non-null    object \n",
            " 1   Gender             601 non-null    object \n",
            " 2   Married            611 non-null    object \n",
            " 3   Dependents         599 non-null    object \n",
            " 4   Education          614 non-null    object \n",
            " 5   Self_Employed      582 non-null    object \n",
            " 6   ApplicantIncome    614 non-null    int64  \n",
            " 7   CoapplicantIncome  614 non-null    float64\n",
            " 8   LoanAmount         592 non-null    float64\n",
            " 9   Loan_Amount_Term   600 non-null    float64\n",
            " 10  Credit_History     564 non-null    float64\n",
            " 11  Property_Area      614 non-null    object \n",
            " 12  Loan_Status        614 non-null    object \n",
            "dtypes: float64(4), int64(1), object(8)\n",
            "memory usage: 62.5+ KB\n"
          ]
        }
      ],
      "source": [
        "df.info() #Basic info of the dataset"
      ]
    },
    {
      "cell_type": "markdown",
      "id": "21be34e9",
      "metadata": {
        "id": "21be34e9"
      },
      "source": [
        "We see that the data is a mix of object and int type. We shall convert all the object type into numerical ones so we could move ahead with the model predictions"
      ]
    },
    {
      "cell_type": "code",
      "execution_count": null,
      "id": "cf252c1c",
      "metadata": {
        "id": "cf252c1c",
        "outputId": "b5d6465d-1d5c-4181-9eab-24ef728dc9ab"
      },
      "outputs": [
        {
          "data": {
            "text/plain": [
              "Loan_ID               0\n",
              "Gender               13\n",
              "Married               3\n",
              "Dependents           15\n",
              "Education             0\n",
              "Self_Employed        32\n",
              "ApplicantIncome       0\n",
              "CoapplicantIncome     0\n",
              "LoanAmount           22\n",
              "Loan_Amount_Term     14\n",
              "Credit_History       50\n",
              "Property_Area         0\n",
              "Loan_Status           0\n",
              "dtype: int64"
            ]
          },
          "execution_count": 6,
          "metadata": {},
          "output_type": "execute_result"
        }
      ],
      "source": [
        "df.isnull().sum() #Checking for null values"
      ]
    },
    {
      "cell_type": "markdown",
      "id": "58b90b8f",
      "metadata": {
        "id": "58b90b8f"
      },
      "source": [
        "We see the presence of null values in the data, we shall treat for it in the EDA while we look at each column at a time."
      ]
    },
    {
      "cell_type": "code",
      "execution_count": null,
      "id": "af848aa6",
      "metadata": {
        "id": "af848aa6",
        "outputId": "e4964ae0-adf6-42c2-fdd9-4e18d9d68e43"
      },
      "outputs": [
        {
          "data": {
            "text/html": [
              "<div>\n",
              "<style scoped>\n",
              "    .dataframe tbody tr th:only-of-type {\n",
              "        vertical-align: middle;\n",
              "    }\n",
              "\n",
              "    .dataframe tbody tr th {\n",
              "        vertical-align: top;\n",
              "    }\n",
              "\n",
              "    .dataframe thead th {\n",
              "        text-align: right;\n",
              "    }\n",
              "</style>\n",
              "<table border=\"1\" class=\"dataframe\">\n",
              "  <thead>\n",
              "    <tr style=\"text-align: right;\">\n",
              "      <th></th>\n",
              "      <th>ApplicantIncome</th>\n",
              "      <th>CoapplicantIncome</th>\n",
              "      <th>LoanAmount</th>\n",
              "      <th>Loan_Amount_Term</th>\n",
              "      <th>Credit_History</th>\n",
              "    </tr>\n",
              "  </thead>\n",
              "  <tbody>\n",
              "    <tr>\n",
              "      <th>count</th>\n",
              "      <td>614.000000</td>\n",
              "      <td>614.000000</td>\n",
              "      <td>592.000000</td>\n",
              "      <td>600.00000</td>\n",
              "      <td>564.000000</td>\n",
              "    </tr>\n",
              "    <tr>\n",
              "      <th>mean</th>\n",
              "      <td>5403.459283</td>\n",
              "      <td>1621.245798</td>\n",
              "      <td>146.412162</td>\n",
              "      <td>342.00000</td>\n",
              "      <td>0.842199</td>\n",
              "    </tr>\n",
              "    <tr>\n",
              "      <th>std</th>\n",
              "      <td>6109.041673</td>\n",
              "      <td>2926.248369</td>\n",
              "      <td>85.587325</td>\n",
              "      <td>65.12041</td>\n",
              "      <td>0.364878</td>\n",
              "    </tr>\n",
              "    <tr>\n",
              "      <th>min</th>\n",
              "      <td>150.000000</td>\n",
              "      <td>0.000000</td>\n",
              "      <td>9.000000</td>\n",
              "      <td>12.00000</td>\n",
              "      <td>0.000000</td>\n",
              "    </tr>\n",
              "    <tr>\n",
              "      <th>25%</th>\n",
              "      <td>2877.500000</td>\n",
              "      <td>0.000000</td>\n",
              "      <td>100.000000</td>\n",
              "      <td>360.00000</td>\n",
              "      <td>1.000000</td>\n",
              "    </tr>\n",
              "    <tr>\n",
              "      <th>50%</th>\n",
              "      <td>3812.500000</td>\n",
              "      <td>1188.500000</td>\n",
              "      <td>128.000000</td>\n",
              "      <td>360.00000</td>\n",
              "      <td>1.000000</td>\n",
              "    </tr>\n",
              "    <tr>\n",
              "      <th>75%</th>\n",
              "      <td>5795.000000</td>\n",
              "      <td>2297.250000</td>\n",
              "      <td>168.000000</td>\n",
              "      <td>360.00000</td>\n",
              "      <td>1.000000</td>\n",
              "    </tr>\n",
              "    <tr>\n",
              "      <th>max</th>\n",
              "      <td>81000.000000</td>\n",
              "      <td>41667.000000</td>\n",
              "      <td>700.000000</td>\n",
              "      <td>480.00000</td>\n",
              "      <td>1.000000</td>\n",
              "    </tr>\n",
              "  </tbody>\n",
              "</table>\n",
              "</div>"
            ],
            "text/plain": [
              "       ApplicantIncome  CoapplicantIncome  LoanAmount  Loan_Amount_Term  \\\n",
              "count       614.000000         614.000000  592.000000         600.00000   \n",
              "mean       5403.459283        1621.245798  146.412162         342.00000   \n",
              "std        6109.041673        2926.248369   85.587325          65.12041   \n",
              "min         150.000000           0.000000    9.000000          12.00000   \n",
              "25%        2877.500000           0.000000  100.000000         360.00000   \n",
              "50%        3812.500000        1188.500000  128.000000         360.00000   \n",
              "75%        5795.000000        2297.250000  168.000000         360.00000   \n",
              "max       81000.000000       41667.000000  700.000000         480.00000   \n",
              "\n",
              "       Credit_History  \n",
              "count      564.000000  \n",
              "mean         0.842199  \n",
              "std          0.364878  \n",
              "min          0.000000  \n",
              "25%          1.000000  \n",
              "50%          1.000000  \n",
              "75%          1.000000  \n",
              "max          1.000000  "
            ]
          },
          "execution_count": 7,
          "metadata": {},
          "output_type": "execute_result"
        }
      ],
      "source": [
        "df.describe() #Statistical evaluation of the dataset"
      ]
    },
    {
      "cell_type": "code",
      "execution_count": null,
      "id": "74623108",
      "metadata": {
        "id": "74623108",
        "outputId": "e188c808-c2cd-40ca-d95c-ab657334eacf"
      },
      "outputs": [
        {
          "data": {
            "text/plain": [
              "Index(['Loan_ID', 'Gender', 'Married', 'Dependents', 'Education',\n",
              "       'Self_Employed', 'ApplicantIncome', 'CoapplicantIncome', 'LoanAmount',\n",
              "       'Loan_Amount_Term', 'Credit_History', 'Property_Area', 'Loan_Status'],\n",
              "      dtype='object')"
            ]
          },
          "execution_count": 8,
          "metadata": {},
          "output_type": "execute_result"
        }
      ],
      "source": [
        "df.columns #Calling all the column names of the dataset"
      ]
    },
    {
      "cell_type": "markdown",
      "id": "1821e8d1",
      "metadata": {
        "id": "1821e8d1"
      },
      "source": [
        "# Exploratory Data Analysis"
      ]
    },
    {
      "cell_type": "markdown",
      "id": "ab916b07",
      "metadata": {
        "id": "ab916b07"
      },
      "source": [
        "Let us now look into all the columns one at a time, beginning with the target column 'Loan_Status'"
      ]
    },
    {
      "cell_type": "code",
      "execution_count": null,
      "id": "10df217c",
      "metadata": {
        "id": "10df217c",
        "outputId": "2ff67270-46cf-48ee-e59f-208f8a919ad8"
      },
      "outputs": [
        {
          "data": {
            "text/plain": [
              "Y    422\n",
              "N    192\n",
              "Name: Loan_Status, dtype: int64"
            ]
          },
          "execution_count": 9,
          "metadata": {},
          "output_type": "execute_result"
        }
      ],
      "source": [
        "df['Loan_Status'].value_counts()"
      ]
    },
    {
      "cell_type": "markdown",
      "id": "ca7f9c36",
      "metadata": {
        "id": "ca7f9c36"
      },
      "source": [
        "We see that the data is slightly imbalanced and we shall treat it for same at the stage of model predictions. However, let us encode the data to convert into numerical feature"
      ]
    },
    {
      "cell_type": "code",
      "execution_count": null,
      "id": "d59874a1",
      "metadata": {
        "id": "d59874a1"
      },
      "outputs": [],
      "source": [
        "#Encoding the data\n",
        "le = LabelEncoder()\n",
        "df['Loan_Status'] = le.fit_transform(df['Loan_Status'])"
      ]
    },
    {
      "cell_type": "code",
      "execution_count": null,
      "id": "3400b30e",
      "metadata": {
        "id": "3400b30e",
        "outputId": "7af71743-82d4-4799-e043-b33d1f660d53"
      },
      "outputs": [
        {
          "data": {
            "text/plain": [
              "<AxesSubplot:xlabel='Loan_Status', ylabel='count'>"
            ]
          },
          "execution_count": 11,
          "metadata": {},
          "output_type": "execute_result"
        },
        {
          "data": {
            "image/png": "[encoded data removed]",
            "text/plain": [
              "<Figure size 432x288 with 1 Axes>"
            ]
          },
          "metadata": {
            "needs_background": "light"
          },
          "output_type": "display_data"
        }
      ],
      "source": [
        "#Countplot for the target feature\n",
        "sns.countplot(df['Loan_Status'])"
      ]
    },
    {
      "cell_type": "code",
      "execution_count": null,
      "id": "80880715",
      "metadata": {
        "id": "80880715",
        "outputId": "e5abbeb8-a46f-435d-b5a0-91ec75d10381"
      },
      "outputs": [
        {
          "data": {
            "text/plain": [
              "<AxesSubplot:xlabel='Loan_Status'>"
            ]
          },
          "execution_count": 12,
          "metadata": {},
          "output_type": "execute_result"
        },
        {
          "data": {
            "image/png": "[encoded data removed]",
            "text/plain": [
              "<Figure size 432x288 with 1 Axes>"
            ]
          },
          "metadata": {
            "needs_background": "light"
          },
          "output_type": "display_data"
        }
      ],
      "source": [
        "#Boxplot for the target feature\n",
        "sns.boxplot(df['Loan_Status'])"
      ]
    },
    {
      "cell_type": "markdown",
      "id": "6d107d7f",
      "metadata": {
        "id": "6d107d7f"
      },
      "source": [
        "Now we look into the independent variables one column at a time"
      ]
    },
    {
      "cell_type": "markdown",
      "id": "4758eaf3",
      "metadata": {
        "id": "4758eaf3"
      },
      "source": [
        "The first column we have is the loan ID, which is unique for every application and can be termed as an indexing for the current database. Therefore, this column should not influence the prediction model and hence we drop this column"
      ]
    },
    {
      "cell_type": "code",
      "execution_count": null,
      "id": "c593ccd6",
      "metadata": {
        "id": "c593ccd6"
      },
      "outputs": [],
      "source": [
        "df = df.drop(columns='Loan_ID')"
      ]
    },
    {
      "cell_type": "markdown",
      "id": "c95659c5",
      "metadata": {
        "id": "c95659c5"
      },
      "source": [
        "The next column is 'gender', which is a classification type and we see from above that there are 13 null values present in the data."
      ]
    },
    {
      "cell_type": "code",
      "execution_count": null,
      "id": "3ae256e8",
      "metadata": {
        "id": "3ae256e8",
        "outputId": "075ba1cb-2042-40be-b8d7-c7080aaddffc"
      },
      "outputs": [
        {
          "data": {
            "text/plain": [
              "Male      489\n",
              "Female    112\n",
              "Name: Gender, dtype: int64"
            ]
          },
          "execution_count": 14,
          "metadata": {},
          "output_type": "execute_result"
        }
      ],
      "source": [
        "df['Gender'].value_counts()"
      ]
    },
    {
      "cell_type": "code",
      "execution_count": null,
      "id": "744a7d9f",
      "metadata": {
        "id": "744a7d9f"
      },
      "outputs": [],
      "source": [
        "#Replacing the null data with the mode of the data\n",
        "df['Gender'] = df['Gender'].fillna(df['Gender'].mode()[0])"
      ]
    },
    {
      "cell_type": "code",
      "execution_count": null,
      "id": "787b1448",
      "metadata": {
        "id": "787b1448"
      },
      "outputs": [],
      "source": [
        "#Encoding the data\n",
        "df['Gender'] = le.fit_transform(df['Gender'])"
      ]
    },
    {
      "cell_type": "code",
      "execution_count": null,
      "id": "bdc0dbb7",
      "metadata": {
        "id": "bdc0dbb7",
        "outputId": "4008881b-bc4a-4bdf-c298-c0e3901e5ef0"
      },
      "outputs": [
        {
          "data": {
            "text/plain": [
              "1    502\n",
              "0    112\n",
              "Name: Gender, dtype: int64"
            ]
          },
          "execution_count": 17,
          "metadata": {},
          "output_type": "execute_result"
        }
      ],
      "source": [
        "df['Gender'].value_counts()"
      ]
    },
    {
      "cell_type": "code",
      "execution_count": null,
      "id": "a2d14627",
      "metadata": {
        "id": "a2d14627",
        "outputId": "517fa1bf-a524-4f71-f2c8-c261532b7a44"
      },
      "outputs": [
        {
          "data": {
            "text/plain": [
              "<AxesSubplot:xlabel='Gender', ylabel='count'>"
            ]
          },
          "execution_count": 18,
          "metadata": {},
          "output_type": "execute_result"
        },
        {
          "data": {
            "image/png": "[encoded data removed]",
            "text/plain": [
              "<Figure size 432x288 with 1 Axes>"
            ]
          },
          "metadata": {
            "needs_background": "light"
          },
          "output_type": "display_data"
        }
      ],
      "source": [
        "#Countplot for the feature\n",
        "sns.countplot(df['Gender'])"
      ]
    },
    {
      "cell_type": "code",
      "execution_count": null,
      "id": "16a83c26",
      "metadata": {
        "id": "16a83c26",
        "outputId": "ac6ef7ed-c5cb-48d4-b23d-133b2ebee503"
      },
      "outputs": [
        {
          "data": {
            "text/plain": [
              "<AxesSubplot:xlabel='Gender'>"
            ]
          },
          "execution_count": 19,
          "metadata": {},
          "output_type": "execute_result"
        },
        {
          "data": {
            "image/png": "[encoded data removed]",
            "text/plain": [
              "<Figure size 432x288 with 1 Axes>"
            ]
          },
          "metadata": {
            "needs_background": "light"
          },
          "output_type": "display_data"
        }
      ],
      "source": [
        "#Violinplot for the feature\n",
        "sns.violinplot(df['Gender'])"
      ]
    },
    {
      "cell_type": "markdown",
      "id": "54043738",
      "metadata": {
        "id": "54043738"
      },
      "source": [
        "The next column is the married column, which is again a classification type with 3 null values. Let us get into it"
      ]
    },
    {
      "cell_type": "code",
      "execution_count": null,
      "id": "da97980b",
      "metadata": {
        "id": "da97980b",
        "outputId": "6606b2f3-d9a0-437b-c8ac-be68f19b46f4"
      },
      "outputs": [
        {
          "data": {
            "text/plain": [
              "Yes    398\n",
              "No     213\n",
              "Name: Married, dtype: int64"
            ]
          },
          "execution_count": 20,
          "metadata": {},
          "output_type": "execute_result"
        }
      ],
      "source": [
        "df['Married'].value_counts()"
      ]
    },
    {
      "cell_type": "code",
      "execution_count": null,
      "id": "aa5675c0",
      "metadata": {
        "id": "aa5675c0"
      },
      "outputs": [],
      "source": [
        "#Filling null values with mode data\n",
        "df['Married'] = df['Married'].fillna(df['Married'].mode()[0])"
      ]
    },
    {
      "cell_type": "code",
      "execution_count": null,
      "id": "7eb90143",
      "metadata": {
        "id": "7eb90143"
      },
      "outputs": [],
      "source": [
        "#Encoding the data\n",
        "df['Married'] = le.fit_transform(df['Married'])"
      ]
    },
    {
      "cell_type": "code",
      "execution_count": null,
      "id": "8d01604d",
      "metadata": {
        "id": "8d01604d",
        "outputId": "457aa8f0-af04-490f-84a6-387873e977f7"
      },
      "outputs": [
        {
          "data": {
            "text/plain": [
              "1    401\n",
              "0    213\n",
              "Name: Married, dtype: int64"
            ]
          },
          "execution_count": 23,
          "metadata": {},
          "output_type": "execute_result"
        }
      ],
      "source": [
        "df['Married'].value_counts()"
      ]
    },
    {
      "cell_type": "code",
      "execution_count": null,
      "id": "9b2b7148",
      "metadata": {
        "id": "9b2b7148",
        "outputId": "6e42e09a-f2dd-4a64-bdfe-f963d4b629f1"
      },
      "outputs": [
        {
          "data": {
            "text/plain": [
              "<AxesSubplot:xlabel='Married', ylabel='count'>"
            ]
          },
          "execution_count": 24,
          "metadata": {},
          "output_type": "execute_result"
        },
        {
          "data": {
            "image/png": "[encoded data removed]",
            "text/plain": [
              "<Figure size 432x288 with 1 Axes>"
            ]
          },
          "metadata": {
            "needs_background": "light"
          },
          "output_type": "display_data"
        }
      ],
      "source": [
        "#Countplot for the feature\n",
        "sns.countplot(df['Married'])"
      ]
    },
    {
      "cell_type": "code",
      "execution_count": null,
      "id": "7d43cb60",
      "metadata": {
        "id": "7d43cb60",
        "outputId": "d8aff36c-6640-4f27-eb3d-91913d6246c4"
      },
      "outputs": [
        {
          "data": {
            "text/plain": [
              "<AxesSubplot:xlabel='Married'>"
            ]
          },
          "execution_count": 25,
          "metadata": {},
          "output_type": "execute_result"
        },
        {
          "data": {
            "image/png": "[encoded data removed]",
            "text/plain": [
              "<Figure size 432x288 with 1 Axes>"
            ]
          },
          "metadata": {
            "needs_background": "light"
          },
          "output_type": "display_data"
        }
      ],
      "source": [
        "#Violinplot for the feature\n",
        "sns.violinplot(df['Married'])"
      ]
    },
    {
      "cell_type": "markdown",
      "id": "df595416",
      "metadata": {
        "id": "df595416"
      },
      "source": [
        "The next column is the Dependents column, which is a classification type with 15 null values. Let us get into it"
      ]
    },
    {
      "cell_type": "code",
      "execution_count": null,
      "id": "01ac0041",
      "metadata": {
        "id": "01ac0041",
        "outputId": "31d5b313-3841-4801-c072-83722fe8cf62"
      },
      "outputs": [
        {
          "data": {
            "text/plain": [
              "0     345\n",
              "1     102\n",
              "2     101\n",
              "3+     51\n",
              "Name: Dependents, dtype: int64"
            ]
          },
          "execution_count": 26,
          "metadata": {},
          "output_type": "execute_result"
        }
      ],
      "source": [
        "df['Dependents'].value_counts()"
      ]
    },
    {
      "cell_type": "code",
      "execution_count": null,
      "id": "ac9e3d27",
      "metadata": {
        "id": "ac9e3d27"
      },
      "outputs": [],
      "source": [
        "#Filling null values with mode data\n",
        "df['Dependents'] = df['Dependents'].fillna(df['Dependents'].mode()[0])"
      ]
    },
    {
      "cell_type": "code",
      "execution_count": null,
      "id": "7a6e26aa",
      "metadata": {
        "id": "7a6e26aa"
      },
      "outputs": [],
      "source": [
        "#Encoding the data\n",
        "df['Dependents'] = le.fit_transform(df['Dependents'])"
      ]
    },
    {
      "cell_type": "code",
      "execution_count": null,
      "id": "69daf315",
      "metadata": {
        "id": "69daf315",
        "outputId": "c7308a31-9738-478b-a36e-ac572d54f02c"
      },
      "outputs": [
        {
          "data": {
            "text/plain": [
              "<AxesSubplot:xlabel='Dependents', ylabel='count'>"
            ]
          },
          "execution_count": 29,
          "metadata": {},
          "output_type": "execute_result"
        },
        {
          "data": {
            "image/png": "[encoded data removed]",
            "text/plain": [
              "<Figure size 432x288 with 1 Axes>"
            ]
          },
          "metadata": {
            "needs_background": "light"
          },
          "output_type": "display_data"
        }
      ],
      "source": [
        "#Countplot for the feature\n",
        "sns.countplot(df['Dependents'])"
      ]
    },
    {
      "cell_type": "code",
      "execution_count": null,
      "id": "a81821dc",
      "metadata": {
        "id": "a81821dc",
        "outputId": "b1059433-a1f6-4152-efd3-1255f2f15787"
      },
      "outputs": [
        {
          "data": {
            "text/plain": [
              "<AxesSubplot:xlabel='Dependents'>"
            ]
          },
          "execution_count": 30,
          "metadata": {},
          "output_type": "execute_result"
        },
        {
          "data": {
            "image/png": "[encoded data removed]",
            "text/plain": [
              "<Figure size 432x288 with 1 Axes>"
            ]
          },
          "metadata": {
            "needs_background": "light"
          },
          "output_type": "display_data"
        }
      ],
      "source": [
        "#Violinplot for the feature\n",
        "sns.violinplot(df['Dependents'])"
      ]
    },
    {
      "cell_type": "markdown",
      "id": "60e37371",
      "metadata": {
        "id": "60e37371"
      },
      "source": [
        "The next column is the Education column, which is a classification type with no null values. Let us get into it"
      ]
    },
    {
      "cell_type": "code",
      "execution_count": null,
      "id": "eaabb861",
      "metadata": {
        "id": "eaabb861",
        "outputId": "9bd00c6d-cc21-41e3-9980-1df661b46598"
      },
      "outputs": [
        {
          "data": {
            "text/plain": [
              "Graduate        480\n",
              "Not Graduate    134\n",
              "Name: Education, dtype: int64"
            ]
          },
          "execution_count": 31,
          "metadata": {},
          "output_type": "execute_result"
        }
      ],
      "source": [
        "df['Education'].value_counts()"
      ]
    },
    {
      "cell_type": "code",
      "execution_count": null,
      "id": "7a7803f4",
      "metadata": {
        "id": "7a7803f4"
      },
      "outputs": [],
      "source": [
        "#Encoding the data\n",
        "df['Education'] = le.fit_transform(df['Education'])"
      ]
    },
    {
      "cell_type": "code",
      "execution_count": null,
      "id": "b150f1d1",
      "metadata": {
        "id": "b150f1d1",
        "outputId": "95b39264-add5-4b1e-f813-00fe3caf450c"
      },
      "outputs": [
        {
          "data": {
            "text/plain": [
              "<AxesSubplot:xlabel='Education', ylabel='count'>"
            ]
          },
          "execution_count": 33,
          "metadata": {},
          "output_type": "execute_result"
        },
        {
          "data": {
            "image/png": "[encoded data removed]",
            "text/plain": [
              "<Figure size 432x288 with 1 Axes>"
            ]
          },
          "metadata": {
            "needs_background": "light"
          },
          "output_type": "display_data"
        }
      ],
      "source": [
        "#Countplot for the feature\n",
        "sns.countplot(df['Education'])"
      ]
    },
    {
      "cell_type": "code",
      "execution_count": null,
      "id": "ae94c770",
      "metadata": {
        "id": "ae94c770",
        "outputId": "76eb4399-01fa-407d-adf9-05df30173f98"
      },
      "outputs": [
        {
          "data": {
            "text/plain": [
              "<AxesSubplot:xlabel='Education'>"
            ]
          },
          "execution_count": 34,
          "metadata": {},
          "output_type": "execute_result"
        },
        {
          "data": {
            "image/png": "[encoded data removed]",
            "text/plain": [
              "<Figure size 432x288 with 1 Axes>"
            ]
          },
          "metadata": {
            "needs_background": "light"
          },
          "output_type": "display_data"
        }
      ],
      "source": [
        "#Violinplot for the feature\n",
        "sns.violinplot(df['Education'])"
      ]
    },
    {
      "cell_type": "markdown",
      "id": "89e296c8",
      "metadata": {
        "id": "89e296c8"
      },
      "source": [
        "The next column is the Self_Employed column, which is a classification type with 32 null values. Let us get into it"
      ]
    },
    {
      "cell_type": "code",
      "execution_count": null,
      "id": "407f1b11",
      "metadata": {
        "id": "407f1b11",
        "outputId": "eb7ce6f3-73df-44c9-9459-2ee654b2b4b2"
      },
      "outputs": [
        {
          "data": {
            "text/plain": [
              "No     500\n",
              "Yes     82\n",
              "Name: Self_Employed, dtype: int64"
            ]
          },
          "execution_count": 35,
          "metadata": {},
          "output_type": "execute_result"
        }
      ],
      "source": [
        "df['Self_Employed'].value_counts()"
      ]
    },
    {
      "cell_type": "code",
      "execution_count": null,
      "id": "5be7060e",
      "metadata": {
        "id": "5be7060e"
      },
      "outputs": [],
      "source": [
        "#Filling null values with mode data\n",
        "df['Self_Employed'] = df['Self_Employed'].fillna(df['Self_Employed'].mode()[0])"
      ]
    },
    {
      "cell_type": "code",
      "execution_count": null,
      "id": "9ab1d947",
      "metadata": {
        "id": "9ab1d947"
      },
      "outputs": [],
      "source": [
        "#Encoding the data\n",
        "df['Self_Employed'] = le.fit_transform(df['Self_Employed'])"
      ]
    },
    {
      "cell_type": "code",
      "execution_count": null,
      "id": "143b3491",
      "metadata": {
        "id": "143b3491",
        "outputId": "dbaddec0-e593-4292-9393-4320279fb1bf"
      },
      "outputs": [
        {
          "data": {
            "text/plain": [
              "<AxesSubplot:xlabel='Self_Employed', ylabel='count'>"
            ]
          },
          "execution_count": 38,
          "metadata": {},
          "output_type": "execute_result"
        },
        {
          "data": {
            "image/png": "[encoded data removed]",
            "text/plain": [
              "<Figure size 432x288 with 1 Axes>"
            ]
          },
          "metadata": {
            "needs_background": "light"
          },
          "output_type": "display_data"
        }
      ],
      "source": [
        "#Countplot for the feature\n",
        "sns.countplot(df['Self_Employed'])"
      ]
    },
    {
      "cell_type": "code",
      "execution_count": null,
      "id": "6484a26f",
      "metadata": {
        "id": "6484a26f",
        "outputId": "a8d02052-c3bc-45ab-8173-7361fff1f493"
      },
      "outputs": [
        {
          "data": {
            "text/plain": [
              "<AxesSubplot:xlabel='Self_Employed'>"
            ]
          },
          "execution_count": 39,
          "metadata": {},
          "output_type": "execute_result"
        },
        {
          "data": {
            "image/png": "[encoded data removed]",
            "text/plain": [
              "<Figure size 432x288 with 1 Axes>"
            ]
          },
          "metadata": {
            "needs_background": "light"
          },
          "output_type": "display_data"
        }
      ],
      "source": [
        "#Violinplot for the feature\n",
        "sns.violinplot(df['Self_Employed'])"
      ]
    },
    {
      "cell_type": "markdown",
      "id": "c0204cd4",
      "metadata": {
        "id": "c0204cd4"
      },
      "source": [
        "The next column is the ApplicantIncome column, which is a regression type with no null values. Let us get into it"
      ]
    },
    {
      "cell_type": "code",
      "execution_count": null,
      "id": "adf0fca5",
      "metadata": {
        "id": "adf0fca5",
        "outputId": "f140d882-5a6c-45e4-cae7-4617f0966004"
      },
      "outputs": [
        {
          "data": {
            "text/plain": [
              "<AxesSubplot:xlabel='ApplicantIncome', ylabel='Density'>"
            ]
          },
          "execution_count": 40,
          "metadata": {},
          "output_type": "execute_result"
        },
        {
          "data": {
            "image/png": "[encoded data removed]",
            "text/plain": [
              "<Figure size 432x288 with 1 Axes>"
            ]
          },
          "metadata": {
            "needs_background": "light"
          },
          "output_type": "display_data"
        }
      ],
      "source": [
        "#Densityplot for the feature\n",
        "sns.distplot(df['ApplicantIncome'])"
      ]
    },
    {
      "cell_type": "code",
      "execution_count": null,
      "id": "c7266d64",
      "metadata": {
        "id": "c7266d64",
        "outputId": "3c3f2831-54c4-400a-fd03-361faa2fda5f"
      },
      "outputs": [
        {
          "data": {
            "text/plain": [
              "<AxesSubplot:xlabel='ApplicantIncome'>"
            ]
          },
          "execution_count": 41,
          "metadata": {},
          "output_type": "execute_result"
        },
        {
          "data": {
            "image/png": "[encoded data removed]",
            "text/plain": [
              "<Figure size 432x288 with 1 Axes>"
            ]
          },
          "metadata": {
            "needs_background": "light"
          },
          "output_type": "display_data"
        }
      ],
      "source": [
        "#Boxplot for the feature\n",
        "sns.boxplot(df['ApplicantIncome'])"
      ]
    },
    {
      "cell_type": "markdown",
      "id": "c705561c",
      "metadata": {
        "id": "c705561c"
      },
      "source": [
        "The next column is the CoapplicantIncome column, which is a regression type with no null values. Let us get into it"
      ]
    },
    {
      "cell_type": "code",
      "execution_count": null,
      "id": "be36d64b",
      "metadata": {
        "id": "be36d64b",
        "outputId": "18820d79-7d9c-478d-aa50-76fbff878d98"
      },
      "outputs": [
        {
          "data": {
            "text/plain": [
              "<AxesSubplot:xlabel='CoapplicantIncome', ylabel='Density'>"
            ]
          },
          "execution_count": 42,
          "metadata": {},
          "output_type": "execute_result"
        },
        {
          "data": {
            "image/png": "[encoded data removed]",
            "text/plain": [
              "<Figure size 432x288 with 1 Axes>"
            ]
          },
          "metadata": {
            "needs_background": "light"
          },
          "output_type": "display_data"
        }
      ],
      "source": [
        "#Densityplot for the feature\n",
        "sns.distplot(df['CoapplicantIncome'])"
      ]
    },
    {
      "cell_type": "code",
      "execution_count": null,
      "id": "f7cce957",
      "metadata": {
        "id": "f7cce957",
        "outputId": "e8181780-0d9b-47dd-8be8-c107b4935d7a"
      },
      "outputs": [
        {
          "data": {
            "text/plain": [
              "<AxesSubplot:xlabel='CoapplicantIncome'>"
            ]
          },
          "execution_count": 43,
          "metadata": {},
          "output_type": "execute_result"
        },
        {
          "data": {
            "image/png": "[encoded data removed]",
            "text/plain": [
              "<Figure size 432x288 with 1 Axes>"
            ]
          },
          "metadata": {
            "needs_background": "light"
          },
          "output_type": "display_data"
        }
      ],
      "source": [
        "#Boxplot for the feature\n",
        "sns.boxplot(df['CoapplicantIncome'])"
      ]
    },
    {
      "cell_type": "markdown",
      "id": "7a5f531d",
      "metadata": {
        "id": "7a5f531d"
      },
      "source": [
        "The next column is the LoanAmount column, which is a regression type with 22 null values. Let us get into it"
      ]
    },
    {
      "cell_type": "code",
      "execution_count": null,
      "id": "1c55569a",
      "metadata": {
        "id": "1c55569a"
      },
      "outputs": [],
      "source": [
        "#Filling null values with mean data\n",
        "df['LoanAmount'] = df['LoanAmount'].fillna(df['LoanAmount'].mean())"
      ]
    },
    {
      "cell_type": "code",
      "execution_count": null,
      "id": "32585cf2",
      "metadata": {
        "id": "32585cf2",
        "outputId": "a8cc234b-3d76-453b-dd21-17c80fd06e7a"
      },
      "outputs": [
        {
          "data": {
            "text/plain": [
              "<AxesSubplot:xlabel='LoanAmount', ylabel='Density'>"
            ]
          },
          "execution_count": 45,
          "metadata": {},
          "output_type": "execute_result"
        },
        {
          "data": {
            "image/png": "[encoded data removed]",
            "text/plain": [
              "<Figure size 432x288 with 1 Axes>"
            ]
          },
          "metadata": {
            "needs_background": "light"
          },
          "output_type": "display_data"
        }
      ],
      "source": [
        "#Densityplot for the feature\n",
        "sns.distplot(df['LoanAmount'])"
      ]
    },
    {
      "cell_type": "code",
      "execution_count": null,
      "id": "b0d51a9d",
      "metadata": {
        "id": "b0d51a9d",
        "outputId": "0e19cd77-b102-413a-ba06-b0e9b81cf5a3"
      },
      "outputs": [
        {
          "data": {
            "text/plain": [
              "<AxesSubplot:xlabel='LoanAmount'>"
            ]
          },
          "execution_count": 46,
          "metadata": {},
          "output_type": "execute_result"
        },
        {
          "data": {
            "image/png": "[encoded data removed]",
            "text/plain": [
              "<Figure size 432x288 with 1 Axes>"
            ]
          },
          "metadata": {
            "needs_background": "light"
          },
          "output_type": "display_data"
        }
      ],
      "source": [
        "#Boxplot for the feature\n",
        "sns.boxplot(df['LoanAmount'])"
      ]
    },
    {
      "cell_type": "markdown",
      "id": "35c26957",
      "metadata": {
        "id": "35c26957"
      },
      "source": [
        "The next column is the Loan_Amount_Term column, which is a classification type with 14 null values. Let us get into it"
      ]
    },
    {
      "cell_type": "code",
      "execution_count": null,
      "id": "c430016b",
      "metadata": {
        "id": "c430016b"
      },
      "outputs": [],
      "source": [
        "#Filling null values with mean data\n",
        "df['Loan_Amount_Term'] = df['Loan_Amount_Term'].fillna(df['Loan_Amount_Term'].mean())"
      ]
    },
    {
      "cell_type": "code",
      "execution_count": null,
      "id": "ef6aaf37",
      "metadata": {
        "id": "ef6aaf37",
        "outputId": "0cfcf180-6c1b-4cec-a155-1115d5956878"
      },
      "outputs": [
        {
          "data": {
            "text/plain": [
              "<AxesSubplot:xlabel='Loan_Amount_Term', ylabel='Density'>"
            ]
          },
          "execution_count": 48,
          "metadata": {},
          "output_type": "execute_result"
        },
        {
          "data": {
            "image/png": "[encoded data removed]",
            "text/plain": [
              "<Figure size 432x288 with 1 Axes>"
            ]
          },
          "metadata": {
            "needs_background": "light"
          },
          "output_type": "display_data"
        }
      ],
      "source": [
        "#Densityplot for the feature\n",
        "sns.distplot(df['Loan_Amount_Term'])"
      ]
    },
    {
      "cell_type": "code",
      "execution_count": null,
      "id": "620b77fe",
      "metadata": {
        "id": "620b77fe",
        "outputId": "0245f9bf-30db-4b0d-d604-200dcb07514e"
      },
      "outputs": [
        {
          "data": {
            "text/plain": [
              "<AxesSubplot:xlabel='Loan_Amount_Term'>"
            ]
          },
          "execution_count": 49,
          "metadata": {},
          "output_type": "execute_result"
        },
        {
          "data": {
            "image/png": "[encoded data removed]",
            "text/plain": [
              "<Figure size 432x288 with 1 Axes>"
            ]
          },
          "metadata": {
            "needs_background": "light"
          },
          "output_type": "display_data"
        }
      ],
      "source": [
        "#Boxplot for the feature\n",
        "sns.boxplot(df['Loan_Amount_Term'])"
      ]
    },
    {
      "cell_type": "markdown",
      "id": "3465a5a3",
      "metadata": {
        "id": "3465a5a3"
      },
      "source": [
        "The next column is the Credit_History column, which is a classification type with 50 null values. Let us get into it"
      ]
    },
    {
      "cell_type": "code",
      "execution_count": null,
      "id": "0a5569c9",
      "metadata": {
        "id": "0a5569c9",
        "outputId": "6ac0fd8e-cb59-46fb-f7a2-4bf9ef2ffbb5"
      },
      "outputs": [
        {
          "data": {
            "text/plain": [
              "1.0    475\n",
              "0.0     89\n",
              "Name: Credit_History, dtype: int64"
            ]
          },
          "execution_count": 50,
          "metadata": {},
          "output_type": "execute_result"
        }
      ],
      "source": [
        "df['Credit_History'].value_counts()"
      ]
    },
    {
      "cell_type": "code",
      "execution_count": null,
      "id": "69b43eb4",
      "metadata": {
        "id": "69b43eb4"
      },
      "outputs": [],
      "source": [
        "#Filling null values with mean data\n",
        "df['Credit_History'] = df['Credit_History'].fillna(df['Credit_History'].mode()[0])"
      ]
    },
    {
      "cell_type": "code",
      "execution_count": null,
      "id": "2b9b20d6",
      "metadata": {
        "id": "2b9b20d6",
        "outputId": "fbf5ae5a-9641-42b9-a605-546682d1419f"
      },
      "outputs": [
        {
          "data": {
            "text/plain": [
              "<AxesSubplot:xlabel='Credit_History', ylabel='count'>"
            ]
          },
          "execution_count": 52,
          "metadata": {},
          "output_type": "execute_result"
        },
        {
          "data": {
            "image/png": "[encoded data removed]",
            "text/plain": [
              "<Figure size 432x288 with 1 Axes>"
            ]
          },
          "metadata": {
            "needs_background": "light"
          },
          "output_type": "display_data"
        }
      ],
      "source": [
        "#Countplot for the feature\n",
        "sns.countplot(df['Credit_History'])"
      ]
    },
    {
      "cell_type": "code",
      "execution_count": null,
      "id": "07e6a182",
      "metadata": {
        "id": "07e6a182",
        "outputId": "e31ab35b-59b0-40f1-c20e-5215a10eb7a6"
      },
      "outputs": [
        {
          "data": {
            "text/plain": [
              "<AxesSubplot:xlabel='Credit_History'>"
            ]
          },
          "execution_count": 53,
          "metadata": {},
          "output_type": "execute_result"
        },
        {
          "data": {
            "image/png": "[encoded data removed]",
            "text/plain": [
              "<Figure size 432x288 with 1 Axes>"
            ]
          },
          "metadata": {
            "needs_background": "light"
          },
          "output_type": "display_data"
        }
      ],
      "source": [
        "#Violinplot for the feature\n",
        "sns.violinplot(df['Credit_History'])"
      ]
    },
    {
      "cell_type": "markdown",
      "id": "982dc734",
      "metadata": {
        "id": "982dc734"
      },
      "source": [
        "The next column is the Property_Area column, which is a classification type with no null values. Let us get into it"
      ]
    },
    {
      "cell_type": "code",
      "execution_count": null,
      "id": "8f7e0ac2",
      "metadata": {
        "id": "8f7e0ac2",
        "outputId": "c3ab3891-cbd6-4e80-f1f7-966a92e87729"
      },
      "outputs": [
        {
          "data": {
            "text/plain": [
              "Semiurban    233\n",
              "Urban        202\n",
              "Rural        179\n",
              "Name: Property_Area, dtype: int64"
            ]
          },
          "execution_count": 54,
          "metadata": {},
          "output_type": "execute_result"
        }
      ],
      "source": [
        "df['Property_Area'].value_counts()"
      ]
    },
    {
      "cell_type": "code",
      "execution_count": null,
      "id": "e03e91a9",
      "metadata": {
        "id": "e03e91a9"
      },
      "outputs": [],
      "source": [
        "#Encoding the data\n",
        "df['Property_Area'] = le.fit_transform(df['Property_Area'])"
      ]
    },
    {
      "cell_type": "code",
      "execution_count": null,
      "id": "5d23c599",
      "metadata": {
        "id": "5d23c599",
        "outputId": "c4c5e76b-bc34-4dc8-d298-f7d49fa672fd"
      },
      "outputs": [
        {
          "data": {
            "text/plain": [
              "<AxesSubplot:xlabel='Property_Area', ylabel='count'>"
            ]
          },
          "execution_count": 56,
          "metadata": {},
          "output_type": "execute_result"
        },
        {
          "data": {
            "image/png": "[encoded data removed]",
            "text/plain": [
              "<Figure size 432x288 with 1 Axes>"
            ]
          },
          "metadata": {
            "needs_background": "light"
          },
          "output_type": "display_data"
        }
      ],
      "source": [
        "#Countplot for the feature\n",
        "sns.countplot(df['Property_Area'])"
      ]
    },
    {
      "cell_type": "code",
      "execution_count": null,
      "id": "14d056b1",
      "metadata": {
        "id": "14d056b1",
        "outputId": "acc4c97b-1f54-4fae-c4e3-303463e74324"
      },
      "outputs": [
        {
          "data": {
            "text/plain": [
              "<AxesSubplot:xlabel='Property_Area'>"
            ]
          },
          "execution_count": 57,
          "metadata": {},
          "output_type": "execute_result"
        },
        {
          "data": {
            "image/png": "[encoded data removed]",
            "text/plain": [
              "<Figure size 432x288 with 1 Axes>"
            ]
          },
          "metadata": {
            "needs_background": "light"
          },
          "output_type": "display_data"
        }
      ],
      "source": [
        "#Violinplot for the feature\n",
        "sns.violinplot(df['Property_Area'])"
      ]
    },
    {
      "cell_type": "markdown",
      "id": "849e357f",
      "metadata": {
        "id": "849e357f"
      },
      "source": [
        "# Null Values"
      ]
    },
    {
      "cell_type": "markdown",
      "id": "25280808",
      "metadata": {
        "id": "25280808"
      },
      "source": [
        "We check if there are any null values left in the data"
      ]
    },
    {
      "cell_type": "code",
      "execution_count": null,
      "id": "0892ea4b",
      "metadata": {
        "id": "0892ea4b",
        "outputId": "cf63d9fa-3694-4edd-a5b9-cc6ea231597b"
      },
      "outputs": [
        {
          "data": {
            "text/plain": [
              "Gender               0\n",
              "Married              0\n",
              "Dependents           0\n",
              "Education            0\n",
              "Self_Employed        0\n",
              "ApplicantIncome      0\n",
              "CoapplicantIncome    0\n",
              "LoanAmount           0\n",
              "Loan_Amount_Term     0\n",
              "Credit_History       0\n",
              "Property_Area        0\n",
              "Loan_Status          0\n",
              "dtype: int64"
            ]
          },
          "execution_count": 58,
          "metadata": {},
          "output_type": "execute_result"
        }
      ],
      "source": [
        "df.isnull().sum() #Checking for null values"
      ]
    },
    {
      "cell_type": "code",
      "execution_count": null,
      "id": "0178cdfd",
      "metadata": {
        "id": "0178cdfd",
        "outputId": "faa13094-c572-4086-fb2a-537c0395cd5a"
      },
      "outputs": [
        {
          "data": {
            "text/plain": [
              "<AxesSubplot:>"
            ]
          },
          "execution_count": 59,
          "metadata": {},
          "output_type": "execute_result"
        },
        {
          "data": {
            "image/png": "[encoded data removed]",
            "text/plain": [
              "<Figure size 432x288 with 2 Axes>"
            ]
          },
          "metadata": {
            "needs_background": "light"
          },
          "output_type": "display_data"
        }
      ],
      "source": [
        "sns.heatmap(df.isnull()) #Visualization of null values"
      ]
    },
    {
      "cell_type": "markdown",
      "id": "03ca94ee",
      "metadata": {
        "id": "03ca94ee"
      },
      "source": [
        "We see that there are no null values in the dataset"
      ]
    },
    {
      "cell_type": "markdown",
      "id": "e066a31d",
      "metadata": {
        "id": "e066a31d"
      },
      "source": [
        "# Correlation"
      ]
    },
    {
      "cell_type": "markdown",
      "id": "4ddcc26a",
      "metadata": {
        "id": "4ddcc26a"
      },
      "source": [
        "Now, since all the data has been transformed into numeric values. Let us check for the correlation to the target column"
      ]
    },
    {
      "cell_type": "code",
      "execution_count": null,
      "id": "e955df61",
      "metadata": {
        "id": "e955df61",
        "outputId": "24666f39-90ad-4926-93e5-613ae992e464"
      },
      "outputs": [
        {
          "data": {
            "text/html": [
              "<div>\n",
              "<style scoped>\n",
              "    .dataframe tbody tr th:only-of-type {\n",
              "        vertical-align: middle;\n",
              "    }\n",
              "\n",
              "    .dataframe tbody tr th {\n",
              "        vertical-align: top;\n",
              "    }\n",
              "\n",
              "    .dataframe thead th {\n",
              "        text-align: right;\n",
              "    }\n",
              "</style>\n",
              "<table border=\"1\" class=\"dataframe\">\n",
              "  <thead>\n",
              "    <tr style=\"text-align: right;\">\n",
              "      <th></th>\n",
              "      <th>Gender</th>\n",
              "      <th>Married</th>\n",
              "      <th>Dependents</th>\n",
              "      <th>Education</th>\n",
              "      <th>Self_Employed</th>\n",
              "      <th>ApplicantIncome</th>\n",
              "      <th>CoapplicantIncome</th>\n",
              "      <th>LoanAmount</th>\n",
              "      <th>Loan_Amount_Term</th>\n",
              "      <th>Credit_History</th>\n",
              "      <th>Property_Area</th>\n",
              "      <th>Loan_Status</th>\n",
              "    </tr>\n",
              "  </thead>\n",
              "  <tbody>\n",
              "    <tr>\n",
              "      <th>Gender</th>\n",
              "      <td>1.000000</td>\n",
              "      <td>0.364569</td>\n",
              "      <td>0.172914</td>\n",
              "      <td>0.045364</td>\n",
              "      <td>-0.000525</td>\n",
              "      <td>0.058809</td>\n",
              "      <td>0.082912</td>\n",
              "      <td>0.107930</td>\n",
              "      <td>-0.073567</td>\n",
              "      <td>0.009170</td>\n",
              "      <td>-0.025752</td>\n",
              "      <td>0.017987</td>\n",
              "    </tr>\n",
              "    <tr>\n",
              "      <th>Married</th>\n",
              "      <td>0.364569</td>\n",
              "      <td>1.000000</td>\n",
              "      <td>0.334216</td>\n",
              "      <td>0.012304</td>\n",
              "      <td>0.004489</td>\n",
              "      <td>0.051708</td>\n",
              "      <td>0.075948</td>\n",
              "      <td>0.147141</td>\n",
              "      <td>-0.100863</td>\n",
              "      <td>0.010938</td>\n",
              "      <td>0.004257</td>\n",
              "      <td>0.091478</td>\n",
              "    </tr>\n",
              "    <tr>\n",
              "      <th>Dependents</th>\n",
              "      <td>0.172914</td>\n",
              "      <td>0.334216</td>\n",
              "      <td>1.000000</td>\n",
              "      <td>0.055752</td>\n",
              "      <td>0.056798</td>\n",
              "      <td>0.118202</td>\n",
              "      <td>0.030430</td>\n",
              "      <td>0.163106</td>\n",
              "      <td>-0.101054</td>\n",
              "      <td>-0.040160</td>\n",
              "      <td>-0.000244</td>\n",
              "      <td>0.010118</td>\n",
              "    </tr>\n",
              "    <tr>\n",
              "      <th>Education</th>\n",
              "      <td>0.045364</td>\n",
              "      <td>0.012304</td>\n",
              "      <td>0.055752</td>\n",
              "      <td>1.000000</td>\n",
              "      <td>-0.010383</td>\n",
              "      <td>-0.140760</td>\n",
              "      <td>-0.062290</td>\n",
              "      <td>-0.166998</td>\n",
              "      <td>-0.077242</td>\n",
              "      <td>-0.073658</td>\n",
              "      <td>-0.065243</td>\n",
              "      <td>-0.085884</td>\n",
              "    </tr>\n",
              "    <tr>\n",
              "      <th>Self_Employed</th>\n",
              "      <td>-0.000525</td>\n",
              "      <td>0.004489</td>\n",
              "      <td>0.056798</td>\n",
              "      <td>-0.010383</td>\n",
              "      <td>1.000000</td>\n",
              "      <td>0.127180</td>\n",
              "      <td>-0.016100</td>\n",
              "      <td>0.115260</td>\n",
              "      <td>-0.033943</td>\n",
              "      <td>-0.001550</td>\n",
              "      <td>-0.030860</td>\n",
              "      <td>-0.003700</td>\n",
              "    </tr>\n",
              "    <tr>\n",
              "      <th>ApplicantIncome</th>\n",
              "      <td>0.058809</td>\n",
              "      <td>0.051708</td>\n",
              "      <td>0.118202</td>\n",
              "      <td>-0.140760</td>\n",
              "      <td>0.127180</td>\n",
              "      <td>1.000000</td>\n",
              "      <td>-0.116605</td>\n",
              "      <td>0.565620</td>\n",
              "      <td>-0.045242</td>\n",
              "      <td>-0.018615</td>\n",
              "      <td>-0.009500</td>\n",
              "      <td>-0.004710</td>\n",
              "    </tr>\n",
              "    <tr>\n",
              "      <th>CoapplicantIncome</th>\n",
              "      <td>0.082912</td>\n",
              "      <td>0.075948</td>\n",
              "      <td>0.030430</td>\n",
              "      <td>-0.062290</td>\n",
              "      <td>-0.016100</td>\n",
              "      <td>-0.116605</td>\n",
              "      <td>1.000000</td>\n",
              "      <td>0.187828</td>\n",
              "      <td>-0.059675</td>\n",
              "      <td>0.011134</td>\n",
              "      <td>0.010522</td>\n",
              "      <td>-0.059187</td>\n",
              "    </tr>\n",
              "    <tr>\n",
              "      <th>LoanAmount</th>\n",
              "      <td>0.107930</td>\n",
              "      <td>0.147141</td>\n",
              "      <td>0.163106</td>\n",
              "      <td>-0.166998</td>\n",
              "      <td>0.115260</td>\n",
              "      <td>0.565620</td>\n",
              "      <td>0.187828</td>\n",
              "      <td>1.000000</td>\n",
              "      <td>0.038801</td>\n",
              "      <td>-0.001431</td>\n",
              "      <td>-0.044776</td>\n",
              "      <td>-0.036416</td>\n",
              "    </tr>\n",
              "    <tr>\n",
              "      <th>Loan_Amount_Term</th>\n",
              "      <td>-0.073567</td>\n",
              "      <td>-0.100863</td>\n",
              "      <td>-0.101054</td>\n",
              "      <td>-0.077242</td>\n",
              "      <td>-0.033943</td>\n",
              "      <td>-0.045242</td>\n",
              "      <td>-0.059675</td>\n",
              "      <td>0.038801</td>\n",
              "      <td>1.000000</td>\n",
              "      <td>0.000432</td>\n",
              "      <td>-0.077620</td>\n",
              "      <td>-0.020974</td>\n",
              "    </tr>\n",
              "    <tr>\n",
              "      <th>Credit_History</th>\n",
              "      <td>0.009170</td>\n",
              "      <td>0.010938</td>\n",
              "      <td>-0.040160</td>\n",
              "      <td>-0.073658</td>\n",
              "      <td>-0.001550</td>\n",
              "      <td>-0.018615</td>\n",
              "      <td>0.011134</td>\n",
              "      <td>-0.001431</td>\n",
              "      <td>0.000432</td>\n",
              "      <td>1.000000</td>\n",
              "      <td>0.001963</td>\n",
              "      <td>0.540556</td>\n",
              "    </tr>\n",
              "    <tr>\n",
              "      <th>Property_Area</th>\n",
              "      <td>-0.025752</td>\n",
              "      <td>0.004257</td>\n",
              "      <td>-0.000244</td>\n",
              "      <td>-0.065243</td>\n",
              "      <td>-0.030860</td>\n",
              "      <td>-0.009500</td>\n",
              "      <td>0.010522</td>\n",
              "      <td>-0.044776</td>\n",
              "      <td>-0.077620</td>\n",
              "      <td>0.001963</td>\n",
              "      <td>1.000000</td>\n",
              "      <td>0.032112</td>\n",
              "    </tr>\n",
              "    <tr>\n",
              "      <th>Loan_Status</th>\n",
              "      <td>0.017987</td>\n",
              "      <td>0.091478</td>\n",
              "      <td>0.010118</td>\n",
              "      <td>-0.085884</td>\n",
              "      <td>-0.003700</td>\n",
              "      <td>-0.004710</td>\n",
              "      <td>-0.059187</td>\n",
              "      <td>-0.036416</td>\n",
              "      <td>-0.020974</td>\n",
              "      <td>0.540556</td>\n",
              "      <td>0.032112</td>\n",
              "      <td>1.000000</td>\n",
              "    </tr>\n",
              "  </tbody>\n",
              "</table>\n",
              "</div>"
            ],
            "text/plain": [
              "                     Gender   Married  Dependents  Education  Self_Employed  \\\n",
              "Gender             1.000000  0.364569    0.172914   0.045364      -0.000525   \n",
              "Married            0.364569  1.000000    0.334216   0.012304       0.004489   \n",
              "Dependents         0.172914  0.334216    1.000000   0.055752       0.056798   \n",
              "Education          0.045364  0.012304    0.055752   1.000000      -0.010383   \n",
              "Self_Employed     -0.000525  0.004489    0.056798  -0.010383       1.000000   \n",
              "ApplicantIncome    0.058809  0.051708    0.118202  -0.140760       0.127180   \n",
              "CoapplicantIncome  0.082912  0.075948    0.030430  -0.062290      -0.016100   \n",
              "LoanAmount         0.107930  0.147141    0.163106  -0.166998       0.115260   \n",
              "Loan_Amount_Term  -0.073567 -0.100863   -0.101054  -0.077242      -0.033943   \n",
              "Credit_History     0.009170  0.010938   -0.040160  -0.073658      -0.001550   \n",
              "Property_Area     -0.025752  0.004257   -0.000244  -0.065243      -0.030860   \n",
              "Loan_Status        0.017987  0.091478    0.010118  -0.085884      -0.003700   \n",
              "\n",
              "                   ApplicantIncome  CoapplicantIncome  LoanAmount  \\\n",
              "Gender                    0.058809           0.082912    0.107930   \n",
              "Married                   0.051708           0.075948    0.147141   \n",
              "Dependents                0.118202           0.030430    0.163106   \n",
              "Education                -0.140760          -0.062290   -0.166998   \n",
              "Self_Employed             0.127180          -0.016100    0.115260   \n",
              "ApplicantIncome           1.000000          -0.116605    0.565620   \n",
              "CoapplicantIncome        -0.116605           1.000000    0.187828   \n",
              "LoanAmount                0.565620           0.187828    1.000000   \n",
              "Loan_Amount_Term         -0.045242          -0.059675    0.038801   \n",
              "Credit_History           -0.018615           0.011134   -0.001431   \n",
              "Property_Area            -0.009500           0.010522   -0.044776   \n",
              "Loan_Status              -0.004710          -0.059187   -0.036416   \n",
              "\n",
              "                   Loan_Amount_Term  Credit_History  Property_Area  \\\n",
              "Gender                    -0.073567        0.009170      -0.025752   \n",
              "Married                   -0.100863        0.010938       0.004257   \n",
              "Dependents                -0.101054       -0.040160      -0.000244   \n",
              "Education                 -0.077242       -0.073658      -0.065243   \n",
              "Self_Employed             -0.033943       -0.001550      -0.030860   \n",
              "ApplicantIncome           -0.045242       -0.018615      -0.009500   \n",
              "CoapplicantIncome         -0.059675        0.011134       0.010522   \n",
              "LoanAmount                 0.038801       -0.001431      -0.044776   \n",
              "Loan_Amount_Term           1.000000        0.000432      -0.077620   \n",
              "Credit_History             0.000432        1.000000       0.001963   \n",
              "Property_Area             -0.077620        0.001963       1.000000   \n",
              "Loan_Status               -0.020974        0.540556       0.032112   \n",
              "\n",
              "                   Loan_Status  \n",
              "Gender                0.017987  \n",
              "Married               0.091478  \n",
              "Dependents            0.010118  \n",
              "Education            -0.085884  \n",
              "Self_Employed        -0.003700  \n",
              "ApplicantIncome      -0.004710  \n",
              "CoapplicantIncome    -0.059187  \n",
              "LoanAmount           -0.036416  \n",
              "Loan_Amount_Term     -0.020974  \n",
              "Credit_History        0.540556  \n",
              "Property_Area         0.032112  \n",
              "Loan_Status           1.000000  "
            ]
          },
          "execution_count": 60,
          "metadata": {},
          "output_type": "execute_result"
        }
      ],
      "source": [
        "df.corr() #Correlation matrix"
      ]
    },
    {
      "cell_type": "code",
      "execution_count": null,
      "id": "b8477e6a",
      "metadata": {
        "id": "b8477e6a",
        "outputId": "647d5b39-103c-4729-d13c-8deab42dbdaa"
      },
      "outputs": [
        {
          "data": {
            "image/png": "[encoded data removed]",
            "text/plain": [
              "<Figure size 1440x1440 with 2 Axes>"
            ]
          },
          "metadata": {
            "needs_background": "light"
          },
          "output_type": "display_data"
        }
      ],
      "source": [
        "#Visualization for correlation matrix\n",
        "plt.figure(figsize=(20,20))\n",
        "sns.heatmap(df.corr(),annot=True)\n",
        "plt.show()"
      ]
    },
    {
      "cell_type": "markdown",
      "id": "85ab20e1",
      "metadata": {
        "id": "85ab20e1"
      },
      "source": [
        "We see that the column Credit_History play a high correlation to the Loan_Status."
      ]
    },
    {
      "cell_type": "code",
      "execution_count": null,
      "id": "2983229b",
      "metadata": {
        "id": "2983229b",
        "outputId": "2323878b-4f51-4074-cdb0-541f9cf78dd1"
      },
      "outputs": [
        {
          "data": {
            "text/plain": [
              "Education           -0.085884\n",
              "CoapplicantIncome   -0.059187\n",
              "LoanAmount          -0.036416\n",
              "Loan_Amount_Term    -0.020974\n",
              "ApplicantIncome     -0.004710\n",
              "Self_Employed       -0.003700\n",
              "Dependents           0.010118\n",
              "Gender               0.017987\n",
              "Property_Area        0.032112\n",
              "Married              0.091478\n",
              "Credit_History       0.540556\n",
              "Loan_Status          1.000000\n",
              "Name: Loan_Status, dtype: float64"
            ]
          },
          "execution_count": 62,
          "metadata": {},
          "output_type": "execute_result"
        }
      ],
      "source": [
        "#Correlation wrt target column\n",
        "df.corr()['Loan_Status'].sort_values()"
      ]
    },
    {
      "cell_type": "markdown",
      "id": "73ac0d66",
      "metadata": {
        "id": "73ac0d66"
      },
      "source": [
        "# Outliers"
      ]
    },
    {
      "cell_type": "markdown",
      "id": "024a7d5a",
      "metadata": {
        "id": "024a7d5a"
      },
      "source": [
        "We use the zscore method to remove the outliers with a threshold of 3"
      ]
    },
    {
      "cell_type": "code",
      "execution_count": null,
      "id": "4c05a8e3",
      "metadata": {
        "id": "4c05a8e3"
      },
      "outputs": [],
      "source": [
        "z = np.abs(zscore(df))\n",
        "df_new = df[(z<3).all(axis=1)]"
      ]
    },
    {
      "cell_type": "code",
      "execution_count": null,
      "id": "e892bae8",
      "metadata": {
        "id": "e892bae8",
        "outputId": "6ee02cf5-9ca3-4e91-acf5-5c045b9aadac"
      },
      "outputs": [
        {
          "data": {
            "text/plain": [
              "(577, 12)"
            ]
          },
          "execution_count": 64,
          "metadata": {},
          "output_type": "execute_result"
        }
      ],
      "source": [
        "df_new.shape"
      ]
    },
    {
      "cell_type": "code",
      "execution_count": null,
      "id": "dc8e43ce",
      "metadata": {
        "id": "dc8e43ce",
        "outputId": "8b430958-d47e-4dad-ee5f-11ade9fe633b"
      },
      "outputs": [
        {
          "name": "stdout",
          "output_type": "stream",
          "text": [
            "Percentage loss of data =\t 6.026058631921824 %\n"
          ]
        }
      ],
      "source": [
        "print('Percentage loss of data =\\t', ((df.shape[0]-df_new.shape[0])/df.shape[0])*100, '%')"
      ]
    },
    {
      "cell_type": "code",
      "execution_count": null,
      "id": "19b2f6c7",
      "metadata": {
        "id": "19b2f6c7"
      },
      "outputs": [],
      "source": [
        "df = df_new"
      ]
    },
    {
      "cell_type": "markdown",
      "id": "14fbbf84",
      "metadata": {
        "id": "14fbbf84"
      },
      "source": [
        "# Skewness"
      ]
    },
    {
      "cell_type": "markdown",
      "id": "0e006493",
      "metadata": {
        "id": "0e006493"
      },
      "source": [
        "Now, we split the data into feature and target columns."
      ]
    },
    {
      "cell_type": "code",
      "execution_count": null,
      "id": "88c4c03f",
      "metadata": {
        "id": "88c4c03f"
      },
      "outputs": [],
      "source": [
        "# Target = Loan_Status\n",
        "x = df.drop(columns='Loan_Status')\n",
        "y = df['Loan_Status']"
      ]
    },
    {
      "cell_type": "code",
      "execution_count": null,
      "id": "5277f192",
      "metadata": {
        "id": "5277f192",
        "outputId": "e175a923-9385-43df-edd7-52aa1b7ff95c"
      },
      "outputs": [
        {
          "data": {
            "text/plain": [
              "Gender              -1.622920\n",
              "Married             -0.630211\n",
              "Dependents           1.052106\n",
              "Education            1.306588\n",
              "Self_Employed        2.252848\n",
              "ApplicantIncome      2.148522\n",
              "CoapplicantIncome    1.350517\n",
              "LoanAmount           1.113132\n",
              "Loan_Amount_Term    -2.077031\n",
              "Credit_History      -1.976043\n",
              "Property_Area       -0.055332\n",
              "dtype: float64"
            ]
          },
          "execution_count": 68,
          "metadata": {},
          "output_type": "execute_result"
        }
      ],
      "source": [
        "x.skew()"
      ]
    },
    {
      "cell_type": "code",
      "execution_count": null,
      "id": "463fbe61",
      "metadata": {
        "id": "463fbe61"
      },
      "outputs": [],
      "source": [
        "k = []\n",
        "for i in x.columns:\n",
        "    k.append(np.abs(x[i].skew()))\n",
        "\n",
        "b=0\n",
        "for i in x.columns:\n",
        "    if k[b]>0.5:\n",
        "        x[i] = np.sqrt(x[i])\n",
        "    b+=1"
      ]
    },
    {
      "cell_type": "code",
      "execution_count": null,
      "id": "36f19100",
      "metadata": {
        "id": "36f19100",
        "outputId": "82df9a0d-6b75-4976-a0b9-2295d7ef0dcf"
      },
      "outputs": [
        {
          "data": {
            "text/plain": [
              "Gender              -1.622920\n",
              "Married             -0.630211\n",
              "Dependents           0.610338\n",
              "Education            1.306588\n",
              "Self_Employed        2.252848\n",
              "ApplicantIncome      1.208613\n",
              "CoapplicantIncome    0.207591\n",
              "LoanAmount           0.320372\n",
              "Loan_Amount_Term    -2.456414\n",
              "Credit_History      -1.976043\n",
              "Property_Area       -0.055332\n",
              "dtype: float64"
            ]
          },
          "execution_count": 70,
          "metadata": {},
          "output_type": "execute_result"
        }
      ],
      "source": [
        "x.skew()"
      ]
    },
    {
      "cell_type": "markdown",
      "id": "a6f1374d",
      "metadata": {
        "id": "a6f1374d"
      },
      "source": [
        "# Best Random State"
      ]
    },
    {
      "cell_type": "code",
      "execution_count": null,
      "id": "80edf87c",
      "metadata": {
        "id": "80edf87c",
        "outputId": "d2c3faf7-5509-4fdb-f870-f2e18de9987c"
      },
      "outputs": [
        {
          "name": "stdout",
          "output_type": "stream",
          "text": [
            "Max accuracy: \t 0.9051724137931034\n",
            "Random State: \t 12\n"
          ]
        }
      ],
      "source": [
        "maxRS = 0\n",
        "maxAcc = 0\n",
        "for i in range(0,100):\n",
        "    x_train, x_test, y_train, y_test = train_test_split(x, y, test_size=0.20, random_state=i)\n",
        "    lr = LogisticRegression()\n",
        "    lr.fit(x_train,y_train)\n",
        "    pred = lr.predict(x_test)\n",
        "    acc = accuracy_score(y_test, pred)\n",
        "    if acc>maxAcc:\n",
        "        maxAcc = acc\n",
        "        maxRS = i\n",
        "print(\"Max accuracy: \\t\", maxAcc)\n",
        "print(\"Random State: \\t\", maxRS)"
      ]
    },
    {
      "cell_type": "markdown",
      "id": "ae9efe4f",
      "metadata": {
        "id": "ae9efe4f"
      },
      "source": [
        "Now since we got the best random state for data modelling, we create the test train models"
      ]
    },
    {
      "cell_type": "code",
      "execution_count": null,
      "id": "50c178ee",
      "metadata": {
        "id": "50c178ee"
      },
      "outputs": [],
      "source": [
        "x_train, x_test, y_train, y_test = train_test_split(x, y, test_size=0.20, random_state=maxRS)"
      ]
    },
    {
      "cell_type": "markdown",
      "id": "8d0f0250",
      "metadata": {
        "id": "8d0f0250"
      },
      "source": [
        "# Upsampling the Training Dataset"
      ]
    },
    {
      "cell_type": "code",
      "execution_count": null,
      "id": "128cfb8f",
      "metadata": {
        "id": "128cfb8f"
      },
      "outputs": [],
      "source": [
        "U = pd.concat([x_train,y_train], axis=1) #Joining the train dataset"
      ]
    },
    {
      "cell_type": "code",
      "execution_count": null,
      "id": "4af0126a",
      "metadata": {
        "id": "4af0126a"
      },
      "outputs": [],
      "source": [
        "more = U[U['Loan_Status']==1]\n",
        "less = U[U['Loan_Status']==0]"
      ]
    },
    {
      "cell_type": "code",
      "execution_count": null,
      "id": "f03c1824",
      "metadata": {
        "id": "f03c1824"
      },
      "outputs": [],
      "source": [
        "upsample = resample(less,\n",
        "                    replace=True, #Sample with replacement\n",
        "                    n_samples=len(more), #matching with the majority class\n",
        "                    random_state=maxRS) #Reproductible results"
      ]
    },
    {
      "cell_type": "code",
      "execution_count": null,
      "id": "a1311f93",
      "metadata": {
        "id": "a1311f93"
      },
      "outputs": [],
      "source": [
        "new_U = pd.concat([more,upsample])"
      ]
    },
    {
      "cell_type": "code",
      "execution_count": null,
      "id": "343dfeaf",
      "metadata": {
        "id": "343dfeaf",
        "outputId": "6cd70b51-58ed-465a-d9db-88c5e00eb04d"
      },
      "outputs": [
        {
          "data": {
            "text/plain": [
              "0    309\n",
              "1    309\n",
              "Name: Loan_Status, dtype: int64"
            ]
          },
          "execution_count": 77,
          "metadata": {},
          "output_type": "execute_result"
        }
      ],
      "source": [
        "new_U['Loan_Status'].value_counts()"
      ]
    },
    {
      "cell_type": "code",
      "execution_count": null,
      "id": "e177b2e2",
      "metadata": {
        "id": "e177b2e2"
      },
      "outputs": [],
      "source": [
        "x_train = new_U.drop(columns='Loan_Status')\n",
        "y_train = new_U['Loan_Status']"
      ]
    },
    {
      "cell_type": "markdown",
      "id": "ea8e2c7f",
      "metadata": {
        "id": "ea8e2c7f"
      },
      "source": [
        "# Model Predictions"
      ]
    },
    {
      "cell_type": "markdown",
      "id": "4b047bdd",
      "metadata": {
        "id": "4b047bdd"
      },
      "source": [
        "Logistic Regression"
      ]
    },
    {
      "cell_type": "code",
      "execution_count": null,
      "id": "6ee825ba",
      "metadata": {
        "id": "6ee825ba",
        "outputId": "ba0ad188-457f-48c9-f23c-d6b7ed8f8524"
      },
      "outputs": [
        {
          "name": "stdout",
          "output_type": "stream",
          "text": [
            "Accuracy: \t 86.20689655172413\n",
            "[[19  8]\n",
            " [ 8 81]]\n",
            "              precision    recall  f1-score   support\n",
            "\n",
            "           0       0.70      0.70      0.70        27\n",
            "           1       0.91      0.91      0.91        89\n",
            "\n",
            "    accuracy                           0.86       116\n",
            "   macro avg       0.81      0.81      0.81       116\n",
            "weighted avg       0.86      0.86      0.86       116\n",
            "\n"
          ]
        }
      ],
      "source": [
        "lr = LogisticRegression()\n",
        "lr.fit(x_train,y_train)\n",
        "pred = lr.predict(x_test)\n",
        "print(\"Accuracy: \\t\", accuracy_score(y_test,pred)*100)\n",
        "print(confusion_matrix(y_test,pred))\n",
        "print(classification_report(y_test,pred))"
      ]
    },
    {
      "cell_type": "markdown",
      "id": "5974b94f",
      "metadata": {
        "id": "5974b94f"
      },
      "source": [
        "K-Nearest Neighbors"
      ]
    },
    {
      "cell_type": "code",
      "execution_count": null,
      "id": "af48eca9",
      "metadata": {
        "id": "af48eca9",
        "outputId": "906564b6-7927-4844-c34e-7e3eb54cb787"
      },
      "outputs": [
        {
          "name": "stdout",
          "output_type": "stream",
          "text": [
            "Accuracy: \t 49.137931034482754\n",
            "[[ 9 18]\n",
            " [41 48]]\n",
            "              precision    recall  f1-score   support\n",
            "\n",
            "           0       0.18      0.33      0.23        27\n",
            "           1       0.73      0.54      0.62        89\n",
            "\n",
            "    accuracy                           0.49       116\n",
            "   macro avg       0.45      0.44      0.43       116\n",
            "weighted avg       0.60      0.49      0.53       116\n",
            "\n"
          ]
        }
      ],
      "source": [
        "knn = KNeighborsClassifier()\n",
        "knn.fit(x_train, y_train)\n",
        "pred = knn.predict(x_test)\n",
        "print(\"Accuracy: \\t\", accuracy_score(y_test,pred)*100)\n",
        "print(confusion_matrix(y_test,pred))\n",
        "print(classification_report(y_test,pred))"
      ]
    },
    {
      "cell_type": "markdown",
      "id": "e53be192",
      "metadata": {
        "id": "e53be192"
      },
      "source": [
        "Support Vector Classifier"
      ]
    },
    {
      "cell_type": "code",
      "execution_count": null,
      "id": "2ddc3e61",
      "metadata": {
        "id": "2ddc3e61",
        "outputId": "36b57afa-29d0-41b2-dfa1-1fbf955a4a41"
      },
      "outputs": [
        {
          "name": "stdout",
          "output_type": "stream",
          "text": [
            "Accuracy: \t 45.689655172413794\n",
            "[[11 16]\n",
            " [47 42]]\n",
            "              precision    recall  f1-score   support\n",
            "\n",
            "           0       0.19      0.41      0.26        27\n",
            "           1       0.72      0.47      0.57        89\n",
            "\n",
            "    accuracy                           0.46       116\n",
            "   macro avg       0.46      0.44      0.42       116\n",
            "weighted avg       0.60      0.46      0.50       116\n",
            "\n"
          ]
        }
      ],
      "source": [
        "svc = SVC()\n",
        "svc.fit(x_train, y_train)\n",
        "pred = svc.predict(x_test)\n",
        "print(\"Accuracy: \\t\", accuracy_score(y_test,pred)*100)\n",
        "print(confusion_matrix(y_test,pred))\n",
        "print(classification_report(y_test,pred))"
      ]
    },
    {
      "cell_type": "markdown",
      "id": "7a333f8b",
      "metadata": {
        "id": "7a333f8b"
      },
      "source": [
        "Decision Tree Classifier"
      ]
    },
    {
      "cell_type": "code",
      "execution_count": null,
      "id": "d31fd050",
      "metadata": {
        "id": "d31fd050",
        "outputId": "8dc068a6-787a-4c11-831c-d86cb318bb24"
      },
      "outputs": [
        {
          "name": "stdout",
          "output_type": "stream",
          "text": [
            "Accuracy: \t 75.86206896551724\n",
            "[[20  7]\n",
            " [21 68]]\n",
            "              precision    recall  f1-score   support\n",
            "\n",
            "           0       0.49      0.74      0.59        27\n",
            "           1       0.91      0.76      0.83        89\n",
            "\n",
            "    accuracy                           0.76       116\n",
            "   macro avg       0.70      0.75      0.71       116\n",
            "weighted avg       0.81      0.76      0.77       116\n",
            "\n"
          ]
        }
      ],
      "source": [
        "dt = DecisionTreeClassifier()\n",
        "dt.fit(x_train,y_train)\n",
        "pred = dt.predict(x_test)\n",
        "print(\"Accuracy: \\t\", accuracy_score(y_test,pred)*100)\n",
        "print(confusion_matrix(y_test,pred))\n",
        "print(classification_report(y_test,pred))"
      ]
    },
    {
      "cell_type": "markdown",
      "id": "1785c428",
      "metadata": {
        "id": "1785c428"
      },
      "source": [
        "Random Forest Classifier"
      ]
    },
    {
      "cell_type": "code",
      "execution_count": null,
      "id": "1d072895",
      "metadata": {
        "id": "1d072895",
        "outputId": "bd250ace-ec0e-4cd0-ca4b-c5272260af0f"
      },
      "outputs": [
        {
          "name": "stdout",
          "output_type": "stream",
          "text": [
            "Accuracy: \t 82.75862068965517\n",
            "[[19  8]\n",
            " [12 77]]\n",
            "              precision    recall  f1-score   support\n",
            "\n",
            "           0       0.61      0.70      0.66        27\n",
            "           1       0.91      0.87      0.89        89\n",
            "\n",
            "    accuracy                           0.83       116\n",
            "   macro avg       0.76      0.78      0.77       116\n",
            "weighted avg       0.84      0.83      0.83       116\n",
            "\n"
          ]
        }
      ],
      "source": [
        "rf = RandomForestClassifier()\n",
        "rf.fit(x_train,y_train)\n",
        "pred = rf.predict(x_test)\n",
        "print(\"Accuracy: \\t\", accuracy_score(y_test,pred)*100)\n",
        "print(confusion_matrix(y_test,pred))\n",
        "print(classification_report(y_test,pred))"
      ]
    },
    {
      "cell_type": "markdown",
      "id": "b493309b",
      "metadata": {
        "id": "b493309b"
      },
      "source": [
        "We see that the Logistic Regression gives the most efficiency of 86.20%"
      ]
    },
    {
      "cell_type": "markdown",
      "id": "5cb88624",
      "metadata": {
        "id": "5cb88624"
      },
      "source": [
        "# Cross Validation"
      ]
    },
    {
      "cell_type": "code",
      "execution_count": null,
      "id": "8314f850",
      "metadata": {
        "id": "8314f850",
        "outputId": "864f32ed-bf5b-4002-bcf8-3c2ba1664fc6"
      },
      "outputs": [
        {
          "name": "stdout",
          "output_type": "stream",
          "text": [
            "Cross validation score of Logistic Regression is: \t 0.8180809595202397\n"
          ]
        }
      ],
      "source": [
        "scr1 = cross_val_score(lr, x, y, cv=5)\n",
        "print(\"Cross validation score of Logistic Regression is: \\t\", scr1.mean())"
      ]
    },
    {
      "cell_type": "code",
      "execution_count": null,
      "id": "b72f0bae",
      "metadata": {
        "id": "b72f0bae",
        "outputId": "ad9a1970-0b62-4dab-8c77-b6a6e83ac27f"
      },
      "outputs": [
        {
          "name": "stdout",
          "output_type": "stream",
          "text": [
            "Cross validation score of KNN is: \t 0.6428785607196403\n"
          ]
        }
      ],
      "source": [
        "scr2 = cross_val_score(knn, x, y, cv=5)\n",
        "print(\"Cross validation score of KNN is: \\t\", scr2.mean())"
      ]
    },
    {
      "cell_type": "code",
      "execution_count": null,
      "id": "4be85d6e",
      "metadata": {
        "id": "4be85d6e",
        "outputId": "b96de3bb-de26-4dcb-86c5-ab1b07033a6d"
      },
      "outputs": [
        {
          "name": "stdout",
          "output_type": "stream",
          "text": [
            "Cross validation score of SVC is: \t 0.6897751124437781\n"
          ]
        }
      ],
      "source": [
        "scr3 = cross_val_score(svc, x, y, cv=5)\n",
        "print(\"Cross validation score of SVC is: \\t\", scr3.mean())"
      ]
    },
    {
      "cell_type": "code",
      "execution_count": null,
      "id": "bade7c89",
      "metadata": {
        "id": "bade7c89",
        "outputId": "bbee0d8c-7b32-44a3-fd4a-8a54377417cf"
      },
      "outputs": [
        {
          "name": "stdout",
          "output_type": "stream",
          "text": [
            "Cross validation score of Decision Tree is: \t 0.7141529235382309\n"
          ]
        }
      ],
      "source": [
        "scr4 = cross_val_score(dt, x, y, cv=5)\n",
        "print(\"Cross validation score of Decision Tree is: \\t\", scr4.mean())"
      ]
    },
    {
      "cell_type": "code",
      "execution_count": null,
      "id": "6efbf215",
      "metadata": {
        "id": "6efbf215",
        "outputId": "a4e303b9-2301-4aaa-d6ad-fe5e14d3a374"
      },
      "outputs": [
        {
          "name": "stdout",
          "output_type": "stream",
          "text": [
            "Cross validation score of Random Forest is: \t 0.7955622188905547\n"
          ]
        }
      ],
      "source": [
        "scr5 = cross_val_score(rf, x, y, cv=5)\n",
        "print(\"Cross validation score of Random Forest is: \\t\", scr5.mean())"
      ]
    },
    {
      "cell_type": "markdown",
      "id": "bd234dee",
      "metadata": {
        "id": "bd234dee"
      },
      "source": [
        "We can see that Logistic Regression performs the best among others"
      ]
    },
    {
      "cell_type": "markdown",
      "id": "04c93b8d",
      "metadata": {
        "id": "04c93b8d"
      },
      "source": [
        "# Hyper Parameter Tuning"
      ]
    },
    {
      "cell_type": "code",
      "execution_count": null,
      "id": "c3157bcf",
      "metadata": {
        "id": "c3157bcf",
        "outputId": "bae51bf4-7707-4d64-91c7-416a682707e3"
      },
      "outputs": [
        {
          "data": {
            "text/plain": [
              "{'C': 1.0,\n",
              " 'class_weight': None,\n",
              " 'dual': False,\n",
              " 'fit_intercept': True,\n",
              " 'intercept_scaling': 1,\n",
              " 'l1_ratio': None,\n",
              " 'max_iter': 100,\n",
              " 'multi_class': 'auto',\n",
              " 'n_jobs': None,\n",
              " 'penalty': 'l2',\n",
              " 'random_state': None,\n",
              " 'solver': 'lbfgs',\n",
              " 'tol': 0.0001,\n",
              " 'verbose': 0,\n",
              " 'warm_start': False}"
            ]
          },
          "execution_count": 89,
          "metadata": {},
          "output_type": "execute_result"
        }
      ],
      "source": [
        "GridSearchCV.get_params(lr) #Getting the parameters for Logistic Regression"
      ]
    },
    {
      "cell_type": "code",
      "execution_count": null,
      "id": "6345f067",
      "metadata": {
        "id": "6345f067"
      },
      "outputs": [],
      "source": [
        "#Adding parameters to tune the model to best efficiency\n",
        "parameters = {'C': [1.0,2.0,3.0],\n",
        "              'fit_intercept': [True,False],\n",
        "              'max_iter': [100, 200,300],\n",
        "              'random_state': [10,20,None],\n",
        "              'tol': [0.0001,0.0002,0.0003]}"
      ]
    },
    {
      "cell_type": "code",
      "execution_count": null,
      "id": "815e1dbe",
      "metadata": {
        "id": "815e1dbe"
      },
      "outputs": [],
      "source": [
        "gcv = GridSearchCV(lr, parameters, cv=5, scoring='accuracy')"
      ]
    },
    {
      "cell_type": "code",
      "execution_count": null,
      "id": "56b4f6d7",
      "metadata": {
        "id": "56b4f6d7",
        "outputId": "2c6d56c0-7811-4ef9-9974-0404bd649480"
      },
      "outputs": [
        {
          "data": {
            "text/plain": [
              "GridSearchCV(cv=5, estimator=LogisticRegression(),\n",
              "             param_grid={'C': [1.0, 2.0, 3.0], 'fit_intercept': [True, False],\n",
              "                         'max_iter': [100, 200, 300],\n",
              "                         'random_state': [10, 20, None],\n",
              "                         'tol': [0.0001, 0.0002, 0.0003]},\n",
              "             scoring='accuracy')"
            ]
          },
          "execution_count": 92,
          "metadata": {},
          "output_type": "execute_result"
        }
      ],
      "source": [
        "#Fitting the parameters\n",
        "gcv.fit(x_train,y_train)"
      ]
    },
    {
      "cell_type": "code",
      "execution_count": null,
      "id": "bb97da20",
      "metadata": {
        "id": "bb97da20",
        "outputId": "1a413720-ff2c-4eef-c403-3d5619aef84d"
      },
      "outputs": [
        {
          "data": {
            "text/plain": [
              "0.6973249409913455"
            ]
          },
          "execution_count": 93,
          "metadata": {},
          "output_type": "execute_result"
        }
      ],
      "source": [
        "#Finding the best score\n",
        "gcv.best_score_"
      ]
    },
    {
      "cell_type": "code",
      "execution_count": null,
      "id": "232b06af",
      "metadata": {
        "id": "232b06af",
        "outputId": "cac2e38f-311e-4e13-902f-b0df6e7ffb8b"
      },
      "outputs": [
        {
          "data": {
            "text/plain": [
              "{'C': 2.0,\n",
              " 'fit_intercept': True,\n",
              " 'max_iter': 200,\n",
              " 'random_state': 10,\n",
              " 'tol': 0.0001}"
            ]
          },
          "execution_count": 94,
          "metadata": {},
          "output_type": "execute_result"
        }
      ],
      "source": [
        "#Finding the best parameters\n",
        "gcv.best_params_"
      ]
    },
    {
      "cell_type": "code",
      "execution_count": null,
      "id": "e156a361",
      "metadata": {
        "id": "e156a361",
        "outputId": "3fab98b2-7a54-4a1a-f57c-841f0665f9f0"
      },
      "outputs": [
        {
          "data": {
            "text/plain": [
              "0.8620689655172413"
            ]
          },
          "execution_count": 95,
          "metadata": {},
          "output_type": "execute_result"
        }
      ],
      "source": [
        "gcv_pred = gcv.best_estimator_.predict(x_test)\n",
        "accuracy_score(y_test,gcv_pred)"
      ]
    },
    {
      "cell_type": "markdown",
      "id": "5de17d23",
      "metadata": {
        "id": "5de17d23"
      },
      "source": [
        "We see the accuracy is 86.2%"
      ]
    },
    {
      "cell_type": "markdown",
      "id": "cea3bb9f",
      "metadata": {
        "id": "cea3bb9f"
      },
      "source": [
        "# ROC AUC Plot"
      ]
    },
    {
      "cell_type": "code",
      "execution_count": null,
      "id": "e3d999b9",
      "metadata": {
        "id": "e3d999b9",
        "outputId": "c7395e9f-7bc0-4de9-c588-624e6aa9f231"
      },
      "outputs": [
        {
          "data": {
            "image/png": "[encoded data removed]",
            "text/plain": [
              "<Figure size 432x288 with 1 Axes>"
            ]
          },
          "metadata": {
            "needs_background": "light"
          },
          "output_type": "display_data"
        }
      ],
      "source": [
        "plot_roc_curve(gcv.best_estimator_,x_test,y_test)\n",
        "plt.title(\"ROC AUC plot\")\n",
        "plt.show()"
      ]
    },
    {
      "cell_type": "markdown",
      "id": "3dcac86e",
      "metadata": {
        "id": "3dcac86e"
      },
      "source": [
        "The AUC score of 87% is very good"
      ]
    },
    {
      "cell_type": "markdown",
      "id": "ae3a07bf",
      "metadata": {
        "id": "ae3a07bf"
      },
      "source": [
        "# Saving the best model"
      ]
    },
    {
      "cell_type": "code",
      "execution_count": null,
      "id": "ce16b331",
      "metadata": {
        "id": "ce16b331",
        "outputId": "c07baa0c-1dbf-4371-bcf1-785816cd11f9"
      },
      "outputs": [
        {
          "data": {
            "text/plain": [
              "['loan_status.pkl']"
            ]
          },
          "execution_count": 97,
          "metadata": {},
          "output_type": "execute_result"
        }
      ],
      "source": [
        "joblib.dump(gcv.best_estimator_,\"loan_status.pkl\")"
      ]
    },
    {
      "cell_type": "code",
      "execution_count": null,
      "id": "15e91eaa",
      "metadata": {
        "id": "15e91eaa"
      },
      "outputs": [],
      "source": []
    }
  ],
  "metadata": {
    "kernelspec": {
      "display_name": "Python 3",
      "language": "python",
      "name": "python3"
    },
    "language_info": {
      "codemirror_mode": {
        "name": "ipython",
        "version": 3
      },
      "file_extension": ".py",
      "mimetype": "text/x-python",
      "name": "python",
      "nbconvert_exporter": "python",
      "pygments_lexer": "ipython3",
      "version": "3.8.8"
    },
    "colab": {
      "provenance": []
    }
  },
  "nbformat": 4,
  "nbformat_minor": 5
}