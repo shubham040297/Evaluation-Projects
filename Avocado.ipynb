{
  "cells": [
    {
      "cell_type": "code",
      "execution_count": null,
      "id": "65380400",
      "metadata": {
        "id": "65380400"
      },
      "outputs": [],
      "source": [
        "import pandas as pd\n",
        "import numpy as np\n",
        "import seaborn as sns\n",
        "import matplotlib.pyplot as plt\n",
        "from sklearn.preprocessing import LabelEncoder, OrdinalEncoder, StandardScaler\n",
        "from scipy.stats import zscore, yeojohnson\n",
        "from sklearn.model_selection import train_test_split, cross_val_score, GridSearchCV\n",
        "from sklearn.linear_model import LogisticRegression, LinearRegression, Ridge\n",
        "from sklearn.metrics import plot_roc_curve, accuracy_score, r2_score, confusion_matrix, mean_squared_error, classification_report, mean_absolute_error\n",
        "from sklearn.utils import resample\n",
        "from sklearn.neighbors import KNeighborsClassifier, KNeighborsRegressor\n",
        "from sklearn.svm import SVC, SVR\n",
        "from sklearn.tree import DecisionTreeClassifier, DecisionTreeRegressor\n",
        "from sklearn.ensemble import RandomForestClassifier, RandomForestRegressor\n",
        "import joblib\n",
        "\n",
        "import warnings\n",
        "warnings.filterwarnings('ignore')"
      ]
    },
    {
      "cell_type": "markdown",
      "id": "919dade4",
      "metadata": {
        "id": "919dade4"
      },
      "source": [
        "# Data Collection"
      ]
    },
    {
      "cell_type": "code",
      "execution_count": null,
      "id": "6ad7e49a",
      "metadata": {
        "id": "6ad7e49a"
      },
      "outputs": [],
      "source": [
        "df = pd.read_csv(r'C:\\Users\\Shubham\\Desktop\\Projects\\Evaluation\\(3)_Avocado\\avocado.csv')"
      ]
    },
    {
      "cell_type": "markdown",
      "id": "a13e9c28",
      "metadata": {
        "id": "a13e9c28"
      },
      "source": [
        "# Data Understanding"
      ]
    },
    {
      "cell_type": "code",
      "execution_count": null,
      "id": "48b0200a",
      "metadata": {
        "id": "48b0200a",
        "outputId": "a86fc721-911f-4c46-b14c-987905225827"
      },
      "outputs": [
        {
          "data": {
            "text/html": [
              "<div>\n",
              "<style scoped>\n",
              "    .dataframe tbody tr th:only-of-type {\n",
              "        vertical-align: middle;\n",
              "    }\n",
              "\n",
              "    .dataframe tbody tr th {\n",
              "        vertical-align: top;\n",
              "    }\n",
              "\n",
              "    .dataframe thead th {\n",
              "        text-align: right;\n",
              "    }\n",
              "</style>\n",
              "<table border=\"1\" class=\"dataframe\">\n",
              "  <thead>\n",
              "    <tr style=\"text-align: right;\">\n",
              "      <th></th>\n",
              "      <th>Unnamed: 0</th>\n",
              "      <th>Date</th>\n",
              "      <th>AveragePrice</th>\n",
              "      <th>Total Volume</th>\n",
              "      <th>4046</th>\n",
              "      <th>4225</th>\n",
              "      <th>4770</th>\n",
              "      <th>Total Bags</th>\n",
              "      <th>Small Bags</th>\n",
              "      <th>Large Bags</th>\n",
              "      <th>XLarge Bags</th>\n",
              "      <th>type</th>\n",
              "      <th>year</th>\n",
              "      <th>region</th>\n",
              "    </tr>\n",
              "  </thead>\n",
              "  <tbody>\n",
              "    <tr>\n",
              "      <th>0</th>\n",
              "      <td>0</td>\n",
              "      <td>2015-12-27</td>\n",
              "      <td>1.33</td>\n",
              "      <td>64236.62</td>\n",
              "      <td>1036.74</td>\n",
              "      <td>54454.85</td>\n",
              "      <td>48.16</td>\n",
              "      <td>8696.87</td>\n",
              "      <td>8603.62</td>\n",
              "      <td>93.25</td>\n",
              "      <td>0.0</td>\n",
              "      <td>conventional</td>\n",
              "      <td>2015</td>\n",
              "      <td>Albany</td>\n",
              "    </tr>\n",
              "    <tr>\n",
              "      <th>1</th>\n",
              "      <td>1</td>\n",
              "      <td>2015-12-20</td>\n",
              "      <td>1.35</td>\n",
              "      <td>54876.98</td>\n",
              "      <td>674.28</td>\n",
              "      <td>44638.81</td>\n",
              "      <td>58.33</td>\n",
              "      <td>9505.56</td>\n",
              "      <td>9408.07</td>\n",
              "      <td>97.49</td>\n",
              "      <td>0.0</td>\n",
              "      <td>conventional</td>\n",
              "      <td>2015</td>\n",
              "      <td>Albany</td>\n",
              "    </tr>\n",
              "    <tr>\n",
              "      <th>2</th>\n",
              "      <td>2</td>\n",
              "      <td>2015-12-13</td>\n",
              "      <td>0.93</td>\n",
              "      <td>118220.22</td>\n",
              "      <td>794.70</td>\n",
              "      <td>109149.67</td>\n",
              "      <td>130.50</td>\n",
              "      <td>8145.35</td>\n",
              "      <td>8042.21</td>\n",
              "      <td>103.14</td>\n",
              "      <td>0.0</td>\n",
              "      <td>conventional</td>\n",
              "      <td>2015</td>\n",
              "      <td>Albany</td>\n",
              "    </tr>\n",
              "    <tr>\n",
              "      <th>3</th>\n",
              "      <td>3</td>\n",
              "      <td>2015-12-06</td>\n",
              "      <td>1.08</td>\n",
              "      <td>78992.15</td>\n",
              "      <td>1132.00</td>\n",
              "      <td>71976.41</td>\n",
              "      <td>72.58</td>\n",
              "      <td>5811.16</td>\n",
              "      <td>5677.40</td>\n",
              "      <td>133.76</td>\n",
              "      <td>0.0</td>\n",
              "      <td>conventional</td>\n",
              "      <td>2015</td>\n",
              "      <td>Albany</td>\n",
              "    </tr>\n",
              "    <tr>\n",
              "      <th>4</th>\n",
              "      <td>4</td>\n",
              "      <td>2015-11-29</td>\n",
              "      <td>1.28</td>\n",
              "      <td>51039.60</td>\n",
              "      <td>941.48</td>\n",
              "      <td>43838.39</td>\n",
              "      <td>75.78</td>\n",
              "      <td>6183.95</td>\n",
              "      <td>5986.26</td>\n",
              "      <td>197.69</td>\n",
              "      <td>0.0</td>\n",
              "      <td>conventional</td>\n",
              "      <td>2015</td>\n",
              "      <td>Albany</td>\n",
              "    </tr>\n",
              "  </tbody>\n",
              "</table>\n",
              "</div>"
            ],
            "text/plain": [
              "   Unnamed: 0        Date  AveragePrice  Total Volume     4046       4225  \\\n",
              "0           0  2015-12-27          1.33      64236.62  1036.74   54454.85   \n",
              "1           1  2015-12-20          1.35      54876.98   674.28   44638.81   \n",
              "2           2  2015-12-13          0.93     118220.22   794.70  109149.67   \n",
              "3           3  2015-12-06          1.08      78992.15  1132.00   71976.41   \n",
              "4           4  2015-11-29          1.28      51039.60   941.48   43838.39   \n",
              "\n",
              "     4770  Total Bags  Small Bags  Large Bags  XLarge Bags          type  \\\n",
              "0   48.16     8696.87     8603.62       93.25          0.0  conventional   \n",
              "1   58.33     9505.56     9408.07       97.49          0.0  conventional   \n",
              "2  130.50     8145.35     8042.21      103.14          0.0  conventional   \n",
              "3   72.58     5811.16     5677.40      133.76          0.0  conventional   \n",
              "4   75.78     6183.95     5986.26      197.69          0.0  conventional   \n",
              "\n",
              "   year  region  \n",
              "0  2015  Albany  \n",
              "1  2015  Albany  \n",
              "2  2015  Albany  \n",
              "3  2015  Albany  \n",
              "4  2015  Albany  "
            ]
          },
          "execution_count": 3,
          "metadata": {},
          "output_type": "execute_result"
        }
      ],
      "source": [
        "df.head() #Looking into the top 5 rows of the dataset"
      ]
    },
    {
      "cell_type": "markdown",
      "id": "e2d79c72",
      "metadata": {
        "id": "e2d79c72"
      },
      "source": [
        "The columns are:\n",
        "- Date - The date of the observation\n",
        "- AveragePrice - the average price of a single avocado\n",
        "- type - conventional or organic\n",
        "- year - the year\n",
        "- Region - the city or region of the observation\n",
        "- Total Volume - Total number of avocados sold\n",
        "- 4046 - Total number of avocados with PLU 4046 sold\n",
        "- 4225 - Total number of avocados with PLU 4225 sold\n",
        "- 4770 - Total number of avocados with PLU 4770 sold"
      ]
    },
    {
      "cell_type": "code",
      "execution_count": null,
      "id": "5fa87f75",
      "metadata": {
        "id": "5fa87f75",
        "outputId": "cb13f18b-e81e-4ff6-bfce-5d2863dbd164"
      },
      "outputs": [
        {
          "data": {
            "text/plain": [
              "(18249, 14)"
            ]
          },
          "execution_count": 4,
          "metadata": {},
          "output_type": "execute_result"
        }
      ],
      "source": [
        "df.shape #Looking into the shape of the dataset"
      ]
    },
    {
      "cell_type": "code",
      "execution_count": null,
      "id": "9b93696d",
      "metadata": {
        "id": "9b93696d",
        "outputId": "7b7c2ace-fbc2-4c4e-a38d-bc0d6b137821"
      },
      "outputs": [
        {
          "data": {
            "text/plain": [
              "Index(['Unnamed: 0', 'Date', 'AveragePrice', 'Total Volume', '4046', '4225',\n",
              "       '4770', 'Total Bags', 'Small Bags', 'Large Bags', 'XLarge Bags', 'type',\n",
              "       'year', 'region'],\n",
              "      dtype='object')"
            ]
          },
          "execution_count": 5,
          "metadata": {},
          "output_type": "execute_result"
        }
      ],
      "source": [
        "df.columns #Calling all the column names of the dataset"
      ]
    },
    {
      "cell_type": "code",
      "execution_count": null,
      "id": "8e37dee1",
      "metadata": {
        "id": "8e37dee1",
        "outputId": "79ad7329-5de0-44ed-fe82-6b47ec6dbced"
      },
      "outputs": [
        {
          "name": "stdout",
          "output_type": "stream",
          "text": [
            "<class 'pandas.core.frame.DataFrame'>\n",
            "RangeIndex: 18249 entries, 0 to 18248\n",
            "Data columns (total 14 columns):\n",
            " #   Column        Non-Null Count  Dtype  \n",
            "---  ------        --------------  -----  \n",
            " 0   Unnamed: 0    18249 non-null  int64  \n",
            " 1   Date          18249 non-null  object \n",
            " 2   AveragePrice  18249 non-null  float64\n",
            " 3   Total Volume  18249 non-null  float64\n",
            " 4   4046          18249 non-null  float64\n",
            " 5   4225          18249 non-null  float64\n",
            " 6   4770          18249 non-null  float64\n",
            " 7   Total Bags    18249 non-null  float64\n",
            " 8   Small Bags    18249 non-null  float64\n",
            " 9   Large Bags    18249 non-null  float64\n",
            " 10  XLarge Bags   18249 non-null  float64\n",
            " 11  type          18249 non-null  object \n",
            " 12  year          18249 non-null  int64  \n",
            " 13  region        18249 non-null  object \n",
            "dtypes: float64(9), int64(2), object(3)\n",
            "memory usage: 1.9+ MB\n"
          ]
        }
      ],
      "source": [
        "df.info() #Basic info of the dataset"
      ]
    },
    {
      "cell_type": "markdown",
      "id": "039c2ffb",
      "metadata": {
        "id": "039c2ffb"
      },
      "source": [
        "Here we see that region, type and Date are object type. Others numerical with no null values in any."
      ]
    },
    {
      "cell_type": "code",
      "execution_count": null,
      "id": "a95455a2",
      "metadata": {
        "id": "a95455a2",
        "outputId": "1bdec170-9085-4614-9683-6f05a415b393"
      },
      "outputs": [
        {
          "data": {
            "text/plain": [
              "Unnamed: 0      0\n",
              "Date            0\n",
              "AveragePrice    0\n",
              "Total Volume    0\n",
              "4046            0\n",
              "4225            0\n",
              "4770            0\n",
              "Total Bags      0\n",
              "Small Bags      0\n",
              "Large Bags      0\n",
              "XLarge Bags     0\n",
              "type            0\n",
              "year            0\n",
              "region          0\n",
              "dtype: int64"
            ]
          },
          "execution_count": 7,
          "metadata": {},
          "output_type": "execute_result"
        }
      ],
      "source": [
        "df.isnull().sum() #Checking for null values again"
      ]
    },
    {
      "cell_type": "code",
      "execution_count": null,
      "id": "a575ad6e",
      "metadata": {
        "id": "a575ad6e",
        "outputId": "29144717-e6ff-45ef-f45a-fb981442a92f"
      },
      "outputs": [
        {
          "data": {
            "text/plain": [
              "<AxesSubplot:>"
            ]
          },
          "execution_count": 8,
          "metadata": {},
          "output_type": "execute_result"
        },
        {
          "data": {
            "image/png": "[encoded data removed]",
            "text/plain": [
              "<Figure size 432x288 with 2 Axes>"
            ]
          },
          "metadata": {
            "needs_background": "light"
          },
          "output_type": "display_data"
        }
      ],
      "source": [
        "sns.heatmap(df.isnull()) #Visualization of null values"
      ]
    },
    {
      "cell_type": "code",
      "execution_count": null,
      "id": "c06da7b8",
      "metadata": {
        "id": "c06da7b8",
        "outputId": "b1b16553-0678-4b34-abb5-586f0aae0cb9"
      },
      "outputs": [
        {
          "data": {
            "text/html": [
              "<div>\n",
              "<style scoped>\n",
              "    .dataframe tbody tr th:only-of-type {\n",
              "        vertical-align: middle;\n",
              "    }\n",
              "\n",
              "    .dataframe tbody tr th {\n",
              "        vertical-align: top;\n",
              "    }\n",
              "\n",
              "    .dataframe thead th {\n",
              "        text-align: right;\n",
              "    }\n",
              "</style>\n",
              "<table border=\"1\" class=\"dataframe\">\n",
              "  <thead>\n",
              "    <tr style=\"text-align: right;\">\n",
              "      <th></th>\n",
              "      <th>Unnamed: 0</th>\n",
              "      <th>AveragePrice</th>\n",
              "      <th>Total Volume</th>\n",
              "      <th>4046</th>\n",
              "      <th>4225</th>\n",
              "      <th>4770</th>\n",
              "      <th>Total Bags</th>\n",
              "      <th>Small Bags</th>\n",
              "      <th>Large Bags</th>\n",
              "      <th>XLarge Bags</th>\n",
              "      <th>year</th>\n",
              "    </tr>\n",
              "  </thead>\n",
              "  <tbody>\n",
              "    <tr>\n",
              "      <th>count</th>\n",
              "      <td>18249.000000</td>\n",
              "      <td>18249.000000</td>\n",
              "      <td>1.824900e+04</td>\n",
              "      <td>1.824900e+04</td>\n",
              "      <td>1.824900e+04</td>\n",
              "      <td>1.824900e+04</td>\n",
              "      <td>1.824900e+04</td>\n",
              "      <td>1.824900e+04</td>\n",
              "      <td>1.824900e+04</td>\n",
              "      <td>18249.000000</td>\n",
              "      <td>18249.000000</td>\n",
              "    </tr>\n",
              "    <tr>\n",
              "      <th>mean</th>\n",
              "      <td>24.232232</td>\n",
              "      <td>1.405978</td>\n",
              "      <td>8.506440e+05</td>\n",
              "      <td>2.930084e+05</td>\n",
              "      <td>2.951546e+05</td>\n",
              "      <td>2.283974e+04</td>\n",
              "      <td>2.396392e+05</td>\n",
              "      <td>1.821947e+05</td>\n",
              "      <td>5.433809e+04</td>\n",
              "      <td>3106.426507</td>\n",
              "      <td>2016.147899</td>\n",
              "    </tr>\n",
              "    <tr>\n",
              "      <th>std</th>\n",
              "      <td>15.481045</td>\n",
              "      <td>0.402677</td>\n",
              "      <td>3.453545e+06</td>\n",
              "      <td>1.264989e+06</td>\n",
              "      <td>1.204120e+06</td>\n",
              "      <td>1.074641e+05</td>\n",
              "      <td>9.862424e+05</td>\n",
              "      <td>7.461785e+05</td>\n",
              "      <td>2.439660e+05</td>\n",
              "      <td>17692.894652</td>\n",
              "      <td>0.939938</td>\n",
              "    </tr>\n",
              "    <tr>\n",
              "      <th>min</th>\n",
              "      <td>0.000000</td>\n",
              "      <td>0.440000</td>\n",
              "      <td>8.456000e+01</td>\n",
              "      <td>0.000000e+00</td>\n",
              "      <td>0.000000e+00</td>\n",
              "      <td>0.000000e+00</td>\n",
              "      <td>0.000000e+00</td>\n",
              "      <td>0.000000e+00</td>\n",
              "      <td>0.000000e+00</td>\n",
              "      <td>0.000000</td>\n",
              "      <td>2015.000000</td>\n",
              "    </tr>\n",
              "    <tr>\n",
              "      <th>25%</th>\n",
              "      <td>10.000000</td>\n",
              "      <td>1.100000</td>\n",
              "      <td>1.083858e+04</td>\n",
              "      <td>8.540700e+02</td>\n",
              "      <td>3.008780e+03</td>\n",
              "      <td>0.000000e+00</td>\n",
              "      <td>5.088640e+03</td>\n",
              "      <td>2.849420e+03</td>\n",
              "      <td>1.274700e+02</td>\n",
              "      <td>0.000000</td>\n",
              "      <td>2015.000000</td>\n",
              "    </tr>\n",
              "    <tr>\n",
              "      <th>50%</th>\n",
              "      <td>24.000000</td>\n",
              "      <td>1.370000</td>\n",
              "      <td>1.073768e+05</td>\n",
              "      <td>8.645300e+03</td>\n",
              "      <td>2.906102e+04</td>\n",
              "      <td>1.849900e+02</td>\n",
              "      <td>3.974383e+04</td>\n",
              "      <td>2.636282e+04</td>\n",
              "      <td>2.647710e+03</td>\n",
              "      <td>0.000000</td>\n",
              "      <td>2016.000000</td>\n",
              "    </tr>\n",
              "    <tr>\n",
              "      <th>75%</th>\n",
              "      <td>38.000000</td>\n",
              "      <td>1.660000</td>\n",
              "      <td>4.329623e+05</td>\n",
              "      <td>1.110202e+05</td>\n",
              "      <td>1.502069e+05</td>\n",
              "      <td>6.243420e+03</td>\n",
              "      <td>1.107834e+05</td>\n",
              "      <td>8.333767e+04</td>\n",
              "      <td>2.202925e+04</td>\n",
              "      <td>132.500000</td>\n",
              "      <td>2017.000000</td>\n",
              "    </tr>\n",
              "    <tr>\n",
              "      <th>max</th>\n",
              "      <td>52.000000</td>\n",
              "      <td>3.250000</td>\n",
              "      <td>6.250565e+07</td>\n",
              "      <td>2.274362e+07</td>\n",
              "      <td>2.047057e+07</td>\n",
              "      <td>2.546439e+06</td>\n",
              "      <td>1.937313e+07</td>\n",
              "      <td>1.338459e+07</td>\n",
              "      <td>5.719097e+06</td>\n",
              "      <td>551693.650000</td>\n",
              "      <td>2018.000000</td>\n",
              "    </tr>\n",
              "  </tbody>\n",
              "</table>\n",
              "</div>"
            ],
            "text/plain": [
              "         Unnamed: 0  AveragePrice  Total Volume          4046          4225  \\\n",
              "count  18249.000000  18249.000000  1.824900e+04  1.824900e+04  1.824900e+04   \n",
              "mean      24.232232      1.405978  8.506440e+05  2.930084e+05  2.951546e+05   \n",
              "std       15.481045      0.402677  3.453545e+06  1.264989e+06  1.204120e+06   \n",
              "min        0.000000      0.440000  8.456000e+01  0.000000e+00  0.000000e+00   \n",
              "25%       10.000000      1.100000  1.083858e+04  8.540700e+02  3.008780e+03   \n",
              "50%       24.000000      1.370000  1.073768e+05  8.645300e+03  2.906102e+04   \n",
              "75%       38.000000      1.660000  4.329623e+05  1.110202e+05  1.502069e+05   \n",
              "max       52.000000      3.250000  6.250565e+07  2.274362e+07  2.047057e+07   \n",
              "\n",
              "               4770    Total Bags    Small Bags    Large Bags    XLarge Bags  \\\n",
              "count  1.824900e+04  1.824900e+04  1.824900e+04  1.824900e+04   18249.000000   \n",
              "mean   2.283974e+04  2.396392e+05  1.821947e+05  5.433809e+04    3106.426507   \n",
              "std    1.074641e+05  9.862424e+05  7.461785e+05  2.439660e+05   17692.894652   \n",
              "min    0.000000e+00  0.000000e+00  0.000000e+00  0.000000e+00       0.000000   \n",
              "25%    0.000000e+00  5.088640e+03  2.849420e+03  1.274700e+02       0.000000   \n",
              "50%    1.849900e+02  3.974383e+04  2.636282e+04  2.647710e+03       0.000000   \n",
              "75%    6.243420e+03  1.107834e+05  8.333767e+04  2.202925e+04     132.500000   \n",
              "max    2.546439e+06  1.937313e+07  1.338459e+07  5.719097e+06  551693.650000   \n",
              "\n",
              "               year  \n",
              "count  18249.000000  \n",
              "mean    2016.147899  \n",
              "std        0.939938  \n",
              "min     2015.000000  \n",
              "25%     2015.000000  \n",
              "50%     2016.000000  \n",
              "75%     2017.000000  \n",
              "max     2018.000000  "
            ]
          },
          "execution_count": 9,
          "metadata": {},
          "output_type": "execute_result"
        }
      ],
      "source": [
        "df.describe() #Statistical evaluation of teh dataset"
      ]
    },
    {
      "cell_type": "markdown",
      "id": "1a2b01e7",
      "metadata": {
        "id": "1a2b01e7"
      },
      "source": [
        "Data looks good, no missing values values"
      ]
    },
    {
      "cell_type": "markdown",
      "id": "77c6b49e",
      "metadata": {
        "id": "77c6b49e"
      },
      "source": [
        "# Exploratory Data Analysis"
      ]
    },
    {
      "cell_type": "markdown",
      "id": "93fddffa",
      "metadata": {
        "id": "93fddffa"
      },
      "source": [
        "Let us now look into all the columns one at a time, beginning with the target columns AveragePrice and region"
      ]
    },
    {
      "cell_type": "code",
      "execution_count": null,
      "id": "34f4083f",
      "metadata": {
        "id": "34f4083f",
        "outputId": "cc1f1bd6-4ce7-4971-fc0a-e7fe29c5e653"
      },
      "outputs": [
        {
          "data": {
            "text/plain": [
              "<AxesSubplot:xlabel='AveragePrice', ylabel='Density'>"
            ]
          },
          "execution_count": 10,
          "metadata": {},
          "output_type": "execute_result"
        },
        {
          "data": {
            "image/png": "[encoded data removed]",
            "text/plain": [
              "<Figure size 432x288 with 1 Axes>"
            ]
          },
          "metadata": {
            "needs_background": "light"
          },
          "output_type": "display_data"
        }
      ],
      "source": [
        "sns.distplot(df['AveragePrice'])"
      ]
    },
    {
      "cell_type": "markdown",
      "id": "5d64aed4",
      "metadata": {
        "id": "5d64aed4"
      },
      "source": [
        "Data is almost normal with little skewness, we shall treat it later\n"
      ]
    },
    {
      "cell_type": "code",
      "execution_count": null,
      "id": "cf821681",
      "metadata": {
        "id": "cf821681",
        "outputId": "a773ee22-07dd-4a26-9bdb-bcc2d53a8c9a"
      },
      "outputs": [
        {
          "data": {
            "image/png": "[encoded data removed]",
            "text/plain": [
              "<Figure size 720x720 with 1 Axes>"
            ]
          },
          "metadata": {
            "needs_background": "light"
          },
          "output_type": "display_data"
        }
      ],
      "source": [
        "#Count plot for the region column\n",
        "plt.figure(figsize=(10,10))\n",
        "sns.countplot(df['region'])\n",
        "plt.xticks(rotation=90)\n",
        "plt.show()"
      ]
    },
    {
      "cell_type": "markdown",
      "id": "67b05c12",
      "metadata": {
        "id": "67b05c12"
      },
      "source": [
        "The column 'Unnamed: 0' is just indexing so we should just drop it as it should not influence the model in teh prediction"
      ]
    },
    {
      "cell_type": "code",
      "execution_count": null,
      "id": "58dc6993",
      "metadata": {
        "id": "58dc6993"
      },
      "outputs": [],
      "source": [
        "df.drop(columns='Unnamed: 0',inplace=True) #Dropping the unrequired column"
      ]
    },
    {
      "cell_type": "code",
      "execution_count": null,
      "id": "a4492589",
      "metadata": {
        "id": "a4492589",
        "outputId": "65591eee-ab50-46b0-a44e-f4ecd2465859"
      },
      "outputs": [
        {
          "data": {
            "text/plain": [
              "Index(['Date', 'AveragePrice', 'Total Volume', '4046', '4225', '4770',\n",
              "       'Total Bags', 'Small Bags', 'Large Bags', 'XLarge Bags', 'type', 'year',\n",
              "       'region'],\n",
              "      dtype='object')"
            ]
          },
          "execution_count": 13,
          "metadata": {},
          "output_type": "execute_result"
        }
      ],
      "source": [
        "df.columns"
      ]
    },
    {
      "cell_type": "code",
      "execution_count": null,
      "id": "4cf1657f",
      "metadata": {
        "id": "4cf1657f",
        "outputId": "422c6c97-5686-4cf7-c607-282e030bd69d"
      },
      "outputs": [
        {
          "data": {
            "image/png": "[encoded data removed]",
            "text/plain": [
              "<Figure size 1440x1440 with 1 Axes>"
            ]
          },
          "metadata": {
            "needs_background": "light"
          },
          "output_type": "display_data"
        }
      ],
      "source": [
        "#Count plot for the region column\n",
        "plt.figure(figsize=(20,20))\n",
        "sns.countplot(df['Date'])\n",
        "plt.xticks(rotation=90)\n",
        "plt.show()"
      ]
    },
    {
      "cell_type": "code",
      "execution_count": null,
      "id": "0c9fa537",
      "metadata": {
        "id": "0c9fa537",
        "outputId": "55f119bd-f5e0-4356-a911-a316994ff74d"
      },
      "outputs": [
        {
          "data": {
            "text/plain": [
              "2017-11-12    108\n",
              "2017-03-19    108\n",
              "2017-12-17    108\n",
              "2016-12-18    108\n",
              "2015-01-25    108\n",
              "             ... \n",
              "2016-02-21    108\n",
              "2017-05-14    108\n",
              "2015-12-06    107\n",
              "2017-06-25    107\n",
              "2017-06-18    107\n",
              "Name: Date, Length: 169, dtype: int64"
            ]
          },
          "execution_count": 15,
          "metadata": {},
          "output_type": "execute_result"
        }
      ],
      "source": [
        "df['Date'].value_counts()"
      ]
    },
    {
      "cell_type": "markdown",
      "id": "5244312c",
      "metadata": {
        "id": "5244312c"
      },
      "source": [
        "We see that data is evenly distributed. However, let us break the date into months and days"
      ]
    },
    {
      "cell_type": "code",
      "execution_count": null,
      "id": "8c9bed14",
      "metadata": {
        "id": "8c9bed14"
      },
      "outputs": [],
      "source": [
        "df['Date']=pd.to_datetime(df['Date']) #Putting into date format\n",
        "df['Month']=df['Date'].apply(lambda x:x.month) #Taking Month\n",
        "df['Day']=df['Date'].apply(lambda x:x.day) #Taking day"
      ]
    },
    {
      "cell_type": "code",
      "execution_count": null,
      "id": "badc8976",
      "metadata": {
        "id": "badc8976",
        "outputId": "a6af8a3a-51b9-4580-a0be-6f5adb5328aa"
      },
      "outputs": [
        {
          "data": {
            "text/html": [
              "<div>\n",
              "<style scoped>\n",
              "    .dataframe tbody tr th:only-of-type {\n",
              "        vertical-align: middle;\n",
              "    }\n",
              "\n",
              "    .dataframe tbody tr th {\n",
              "        vertical-align: top;\n",
              "    }\n",
              "\n",
              "    .dataframe thead th {\n",
              "        text-align: right;\n",
              "    }\n",
              "</style>\n",
              "<table border=\"1\" class=\"dataframe\">\n",
              "  <thead>\n",
              "    <tr style=\"text-align: right;\">\n",
              "      <th></th>\n",
              "      <th>Date</th>\n",
              "      <th>AveragePrice</th>\n",
              "      <th>Total Volume</th>\n",
              "      <th>4046</th>\n",
              "      <th>4225</th>\n",
              "      <th>4770</th>\n",
              "      <th>Total Bags</th>\n",
              "      <th>Small Bags</th>\n",
              "      <th>Large Bags</th>\n",
              "      <th>XLarge Bags</th>\n",
              "      <th>type</th>\n",
              "      <th>year</th>\n",
              "      <th>region</th>\n",
              "      <th>Month</th>\n",
              "      <th>Day</th>\n",
              "    </tr>\n",
              "  </thead>\n",
              "  <tbody>\n",
              "    <tr>\n",
              "      <th>0</th>\n",
              "      <td>2015-12-27</td>\n",
              "      <td>1.33</td>\n",
              "      <td>64236.62</td>\n",
              "      <td>1036.74</td>\n",
              "      <td>54454.85</td>\n",
              "      <td>48.16</td>\n",
              "      <td>8696.87</td>\n",
              "      <td>8603.62</td>\n",
              "      <td>93.25</td>\n",
              "      <td>0.0</td>\n",
              "      <td>conventional</td>\n",
              "      <td>2015</td>\n",
              "      <td>Albany</td>\n",
              "      <td>12</td>\n",
              "      <td>27</td>\n",
              "    </tr>\n",
              "    <tr>\n",
              "      <th>1</th>\n",
              "      <td>2015-12-20</td>\n",
              "      <td>1.35</td>\n",
              "      <td>54876.98</td>\n",
              "      <td>674.28</td>\n",
              "      <td>44638.81</td>\n",
              "      <td>58.33</td>\n",
              "      <td>9505.56</td>\n",
              "      <td>9408.07</td>\n",
              "      <td>97.49</td>\n",
              "      <td>0.0</td>\n",
              "      <td>conventional</td>\n",
              "      <td>2015</td>\n",
              "      <td>Albany</td>\n",
              "      <td>12</td>\n",
              "      <td>20</td>\n",
              "    </tr>\n",
              "    <tr>\n",
              "      <th>2</th>\n",
              "      <td>2015-12-13</td>\n",
              "      <td>0.93</td>\n",
              "      <td>118220.22</td>\n",
              "      <td>794.70</td>\n",
              "      <td>109149.67</td>\n",
              "      <td>130.50</td>\n",
              "      <td>8145.35</td>\n",
              "      <td>8042.21</td>\n",
              "      <td>103.14</td>\n",
              "      <td>0.0</td>\n",
              "      <td>conventional</td>\n",
              "      <td>2015</td>\n",
              "      <td>Albany</td>\n",
              "      <td>12</td>\n",
              "      <td>13</td>\n",
              "    </tr>\n",
              "    <tr>\n",
              "      <th>3</th>\n",
              "      <td>2015-12-06</td>\n",
              "      <td>1.08</td>\n",
              "      <td>78992.15</td>\n",
              "      <td>1132.00</td>\n",
              "      <td>71976.41</td>\n",
              "      <td>72.58</td>\n",
              "      <td>5811.16</td>\n",
              "      <td>5677.40</td>\n",
              "      <td>133.76</td>\n",
              "      <td>0.0</td>\n",
              "      <td>conventional</td>\n",
              "      <td>2015</td>\n",
              "      <td>Albany</td>\n",
              "      <td>12</td>\n",
              "      <td>6</td>\n",
              "    </tr>\n",
              "    <tr>\n",
              "      <th>4</th>\n",
              "      <td>2015-11-29</td>\n",
              "      <td>1.28</td>\n",
              "      <td>51039.60</td>\n",
              "      <td>941.48</td>\n",
              "      <td>43838.39</td>\n",
              "      <td>75.78</td>\n",
              "      <td>6183.95</td>\n",
              "      <td>5986.26</td>\n",
              "      <td>197.69</td>\n",
              "      <td>0.0</td>\n",
              "      <td>conventional</td>\n",
              "      <td>2015</td>\n",
              "      <td>Albany</td>\n",
              "      <td>11</td>\n",
              "      <td>29</td>\n",
              "    </tr>\n",
              "    <tr>\n",
              "      <th>...</th>\n",
              "      <td>...</td>\n",
              "      <td>...</td>\n",
              "      <td>...</td>\n",
              "      <td>...</td>\n",
              "      <td>...</td>\n",
              "      <td>...</td>\n",
              "      <td>...</td>\n",
              "      <td>...</td>\n",
              "      <td>...</td>\n",
              "      <td>...</td>\n",
              "      <td>...</td>\n",
              "      <td>...</td>\n",
              "      <td>...</td>\n",
              "      <td>...</td>\n",
              "      <td>...</td>\n",
              "    </tr>\n",
              "    <tr>\n",
              "      <th>18244</th>\n",
              "      <td>2018-02-04</td>\n",
              "      <td>1.63</td>\n",
              "      <td>17074.83</td>\n",
              "      <td>2046.96</td>\n",
              "      <td>1529.20</td>\n",
              "      <td>0.00</td>\n",
              "      <td>13498.67</td>\n",
              "      <td>13066.82</td>\n",
              "      <td>431.85</td>\n",
              "      <td>0.0</td>\n",
              "      <td>organic</td>\n",
              "      <td>2018</td>\n",
              "      <td>WestTexNewMexico</td>\n",
              "      <td>2</td>\n",
              "      <td>4</td>\n",
              "    </tr>\n",
              "    <tr>\n",
              "      <th>18245</th>\n",
              "      <td>2018-01-28</td>\n",
              "      <td>1.71</td>\n",
              "      <td>13888.04</td>\n",
              "      <td>1191.70</td>\n",
              "      <td>3431.50</td>\n",
              "      <td>0.00</td>\n",
              "      <td>9264.84</td>\n",
              "      <td>8940.04</td>\n",
              "      <td>324.80</td>\n",
              "      <td>0.0</td>\n",
              "      <td>organic</td>\n",
              "      <td>2018</td>\n",
              "      <td>WestTexNewMexico</td>\n",
              "      <td>1</td>\n",
              "      <td>28</td>\n",
              "    </tr>\n",
              "    <tr>\n",
              "      <th>18246</th>\n",
              "      <td>2018-01-21</td>\n",
              "      <td>1.87</td>\n",
              "      <td>13766.76</td>\n",
              "      <td>1191.92</td>\n",
              "      <td>2452.79</td>\n",
              "      <td>727.94</td>\n",
              "      <td>9394.11</td>\n",
              "      <td>9351.80</td>\n",
              "      <td>42.31</td>\n",
              "      <td>0.0</td>\n",
              "      <td>organic</td>\n",
              "      <td>2018</td>\n",
              "      <td>WestTexNewMexico</td>\n",
              "      <td>1</td>\n",
              "      <td>21</td>\n",
              "    </tr>\n",
              "    <tr>\n",
              "      <th>18247</th>\n",
              "      <td>2018-01-14</td>\n",
              "      <td>1.93</td>\n",
              "      <td>16205.22</td>\n",
              "      <td>1527.63</td>\n",
              "      <td>2981.04</td>\n",
              "      <td>727.01</td>\n",
              "      <td>10969.54</td>\n",
              "      <td>10919.54</td>\n",
              "      <td>50.00</td>\n",
              "      <td>0.0</td>\n",
              "      <td>organic</td>\n",
              "      <td>2018</td>\n",
              "      <td>WestTexNewMexico</td>\n",
              "      <td>1</td>\n",
              "      <td>14</td>\n",
              "    </tr>\n",
              "    <tr>\n",
              "      <th>18248</th>\n",
              "      <td>2018-01-07</td>\n",
              "      <td>1.62</td>\n",
              "      <td>17489.58</td>\n",
              "      <td>2894.77</td>\n",
              "      <td>2356.13</td>\n",
              "      <td>224.53</td>\n",
              "      <td>12014.15</td>\n",
              "      <td>11988.14</td>\n",
              "      <td>26.01</td>\n",
              "      <td>0.0</td>\n",
              "      <td>organic</td>\n",
              "      <td>2018</td>\n",
              "      <td>WestTexNewMexico</td>\n",
              "      <td>1</td>\n",
              "      <td>7</td>\n",
              "    </tr>\n",
              "  </tbody>\n",
              "</table>\n",
              "<p>18249 rows × 15 columns</p>\n",
              "</div>"
            ],
            "text/plain": [
              "            Date  AveragePrice  Total Volume     4046       4225    4770  \\\n",
              "0     2015-12-27          1.33      64236.62  1036.74   54454.85   48.16   \n",
              "1     2015-12-20          1.35      54876.98   674.28   44638.81   58.33   \n",
              "2     2015-12-13          0.93     118220.22   794.70  109149.67  130.50   \n",
              "3     2015-12-06          1.08      78992.15  1132.00   71976.41   72.58   \n",
              "4     2015-11-29          1.28      51039.60   941.48   43838.39   75.78   \n",
              "...          ...           ...           ...      ...        ...     ...   \n",
              "18244 2018-02-04          1.63      17074.83  2046.96    1529.20    0.00   \n",
              "18245 2018-01-28          1.71      13888.04  1191.70    3431.50    0.00   \n",
              "18246 2018-01-21          1.87      13766.76  1191.92    2452.79  727.94   \n",
              "18247 2018-01-14          1.93      16205.22  1527.63    2981.04  727.01   \n",
              "18248 2018-01-07          1.62      17489.58  2894.77    2356.13  224.53   \n",
              "\n",
              "       Total Bags  Small Bags  Large Bags  XLarge Bags          type  year  \\\n",
              "0         8696.87     8603.62       93.25          0.0  conventional  2015   \n",
              "1         9505.56     9408.07       97.49          0.0  conventional  2015   \n",
              "2         8145.35     8042.21      103.14          0.0  conventional  2015   \n",
              "3         5811.16     5677.40      133.76          0.0  conventional  2015   \n",
              "4         6183.95     5986.26      197.69          0.0  conventional  2015   \n",
              "...           ...         ...         ...          ...           ...   ...   \n",
              "18244    13498.67    13066.82      431.85          0.0       organic  2018   \n",
              "18245     9264.84     8940.04      324.80          0.0       organic  2018   \n",
              "18246     9394.11     9351.80       42.31          0.0       organic  2018   \n",
              "18247    10969.54    10919.54       50.00          0.0       organic  2018   \n",
              "18248    12014.15    11988.14       26.01          0.0       organic  2018   \n",
              "\n",
              "                 region  Month  Day  \n",
              "0                Albany     12   27  \n",
              "1                Albany     12   20  \n",
              "2                Albany     12   13  \n",
              "3                Albany     12    6  \n",
              "4                Albany     11   29  \n",
              "...                 ...    ...  ...  \n",
              "18244  WestTexNewMexico      2    4  \n",
              "18245  WestTexNewMexico      1   28  \n",
              "18246  WestTexNewMexico      1   21  \n",
              "18247  WestTexNewMexico      1   14  \n",
              "18248  WestTexNewMexico      1    7  \n",
              "\n",
              "[18249 rows x 15 columns]"
            ]
          },
          "execution_count": 17,
          "metadata": {},
          "output_type": "execute_result"
        }
      ],
      "source": [
        "df"
      ]
    },
    {
      "cell_type": "code",
      "execution_count": null,
      "id": "6cdfc034",
      "metadata": {
        "id": "6cdfc034",
        "outputId": "20cafc9f-b1b3-448b-d3c6-11920b0d512e"
      },
      "outputs": [
        {
          "data": {
            "text/plain": [
              "<AxesSubplot:xlabel='Month', ylabel='AveragePrice'>"
            ]
          },
          "execution_count": 18,
          "metadata": {},
          "output_type": "execute_result"
        },
        {
          "data": {
            "image/png": "[encoded data removed]",
            "text/plain": [
              "<Figure size 432x288 with 1 Axes>"
            ]
          },
          "metadata": {
            "needs_background": "light"
          },
          "output_type": "display_data"
        }
      ],
      "source": [
        "#Bar plot for Month\n",
        "sns.barplot(x='Month', y='AveragePrice', data=df)"
      ]
    },
    {
      "cell_type": "code",
      "execution_count": null,
      "id": "1d426650",
      "metadata": {
        "id": "1d426650",
        "outputId": "170bf22d-c7c5-4a08-9b75-c892f018b626"
      },
      "outputs": [
        {
          "data": {
            "text/plain": [
              "<AxesSubplot:xlabel='Month'>"
            ]
          },
          "execution_count": 19,
          "metadata": {},
          "output_type": "execute_result"
        },
        {
          "data": {
            "image/png": "[encoded data removed]",
            "text/plain": [
              "<Figure size 432x288 with 1 Axes>"
            ]
          },
          "metadata": {
            "needs_background": "light"
          },
          "output_type": "display_data"
        }
      ],
      "source": [
        "#Violin plot for Month\n",
        "sns.violinplot(df['Month'])"
      ]
    },
    {
      "cell_type": "code",
      "execution_count": null,
      "id": "b2b416ae",
      "metadata": {
        "id": "b2b416ae",
        "outputId": "ffab6929-e60c-4a66-b79d-3c6aba4107e8"
      },
      "outputs": [
        {
          "data": {
            "image/png": "[encoded data removed]",
            "text/plain": [
              "<Figure size 432x288 with 1 Axes>"
            ]
          },
          "metadata": {
            "needs_background": "light"
          },
          "output_type": "display_data"
        }
      ],
      "source": [
        "#Bar plot for Day\n",
        "plt.figure()\n",
        "sns.barplot(x='Day', y='AveragePrice', data=df)\n",
        "plt.xticks(rotation=90)\n",
        "plt.show()"
      ]
    },
    {
      "cell_type": "code",
      "execution_count": null,
      "id": "5f55d5f2",
      "metadata": {
        "id": "5f55d5f2",
        "outputId": "73990fb4-958f-4724-c233-8999521b83ed"
      },
      "outputs": [
        {
          "data": {
            "text/plain": [
              "<AxesSubplot:xlabel='Day'>"
            ]
          },
          "execution_count": 21,
          "metadata": {},
          "output_type": "execute_result"
        },
        {
          "data": {
            "image/png": "[encoded data removed]",
            "text/plain": [
              "<Figure size 432x288 with 1 Axes>"
            ]
          },
          "metadata": {
            "needs_background": "light"
          },
          "output_type": "display_data"
        }
      ],
      "source": [
        "#Violin plot for Day\n",
        "sns.violinplot(df['Day'])"
      ]
    },
    {
      "cell_type": "markdown",
      "id": "300b2191",
      "metadata": {
        "id": "300b2191"
      },
      "source": [
        "Since we have split the date column, we dont need it anymore"
      ]
    },
    {
      "cell_type": "code",
      "execution_count": null,
      "id": "d43be193",
      "metadata": {
        "id": "d43be193"
      },
      "outputs": [],
      "source": [
        "df.drop(columns='Date',inplace=True)"
      ]
    },
    {
      "cell_type": "code",
      "execution_count": null,
      "id": "f3a17fcb",
      "metadata": {
        "id": "f3a17fcb",
        "outputId": "1fe61e08-625b-4c6d-9e8c-b9bfc24378e7"
      },
      "outputs": [
        {
          "data": {
            "text/plain": [
              "(18249, 14)"
            ]
          },
          "execution_count": 23,
          "metadata": {},
          "output_type": "execute_result"
        }
      ],
      "source": [
        "df.shape"
      ]
    },
    {
      "cell_type": "code",
      "execution_count": null,
      "id": "3192e785",
      "metadata": {
        "id": "3192e785",
        "outputId": "c82e71bd-1c15-41df-e953-6b3bf82a4fa9"
      },
      "outputs": [
        {
          "data": {
            "image/png": "[encoded data removed]",
            "text/plain": [
              "<Figure size 720x720 with 1 Axes>"
            ]
          },
          "metadata": {
            "needs_background": "light"
          },
          "output_type": "display_data"
        }
      ],
      "source": [
        "#Count plot for the Total Volume\n",
        "plt.figure(figsize=(10,10))\n",
        "sns.distplot(df['Total Volume'])\n",
        "plt.xticks(rotation=90)\n",
        "plt.show()"
      ]
    },
    {
      "cell_type": "code",
      "execution_count": null,
      "id": "65594ec6",
      "metadata": {
        "id": "65594ec6",
        "outputId": "3c871ac1-4bfe-452f-8923-22ad8d000830"
      },
      "outputs": [
        {
          "data": {
            "text/plain": [
              "<AxesSubplot:xlabel='Total Volume'>"
            ]
          },
          "execution_count": 25,
          "metadata": {},
          "output_type": "execute_result"
        },
        {
          "data": {
            "image/png": "[encoded data removed]",
            "text/plain": [
              "<Figure size 432x288 with 1 Axes>"
            ]
          },
          "metadata": {
            "needs_background": "light"
          },
          "output_type": "display_data"
        }
      ],
      "source": [
        "#Violin plot for Total Volume\n",
        "sns.violinplot(df['Total Volume'])"
      ]
    },
    {
      "cell_type": "code",
      "execution_count": null,
      "id": "12fe7536",
      "metadata": {
        "id": "12fe7536",
        "outputId": "0ed03b97-5dd5-43fa-abc2-f386d1c6827c"
      },
      "outputs": [
        {
          "data": {
            "image/png": "[encoded data removed]",
            "text/plain": [
              "<Figure size 720x720 with 1 Axes>"
            ]
          },
          "metadata": {
            "needs_background": "light"
          },
          "output_type": "display_data"
        }
      ],
      "source": [
        "#Density plot for the 4046\n",
        "plt.figure(figsize=(10,10))\n",
        "sns.distplot(df['4046'])\n",
        "plt.xticks(rotation=90)\n",
        "plt.show()"
      ]
    },
    {
      "cell_type": "code",
      "execution_count": null,
      "id": "17551eb3",
      "metadata": {
        "id": "17551eb3",
        "outputId": "bf57bd36-4b98-4259-d149-19bd4f6ad548"
      },
      "outputs": [
        {
          "data": {
            "text/plain": [
              "<AxesSubplot:xlabel='4046'>"
            ]
          },
          "execution_count": 27,
          "metadata": {},
          "output_type": "execute_result"
        },
        {
          "data": {
            "image/png": "[encoded data removed]",
            "text/plain": [
              "<Figure size 432x288 with 1 Axes>"
            ]
          },
          "metadata": {
            "needs_background": "light"
          },
          "output_type": "display_data"
        }
      ],
      "source": [
        "#Violin plot for 4046\n",
        "sns.violinplot(df['4046'])"
      ]
    },
    {
      "cell_type": "code",
      "execution_count": null,
      "id": "f7ff66b5",
      "metadata": {
        "id": "f7ff66b5",
        "outputId": "4fdaee15-af64-4312-b73e-36f7cd794061"
      },
      "outputs": [
        {
          "data": {
            "image/png": "[encoded data removed]",
            "text/plain": [
              "<Figure size 720x720 with 1 Axes>"
            ]
          },
          "metadata": {
            "needs_background": "light"
          },
          "output_type": "display_data"
        }
      ],
      "source": [
        "#Density plot for the 4225\n",
        "plt.figure(figsize=(10,10))\n",
        "sns.distplot(df['4225'])\n",
        "plt.xticks(rotation=90)\n",
        "plt.show()"
      ]
    },
    {
      "cell_type": "code",
      "execution_count": null,
      "id": "f036f341",
      "metadata": {
        "id": "f036f341",
        "outputId": "9dd8b1d4-d002-496e-f480-689e8d611c1a"
      },
      "outputs": [
        {
          "data": {
            "text/plain": [
              "<AxesSubplot:xlabel='4225'>"
            ]
          },
          "execution_count": 29,
          "metadata": {},
          "output_type": "execute_result"
        },
        {
          "data": {
            "image/png": "[encoded data removed]",
            "text/plain": [
              "<Figure size 432x288 with 1 Axes>"
            ]
          },
          "metadata": {
            "needs_background": "light"
          },
          "output_type": "display_data"
        }
      ],
      "source": [
        "#Violin plot for 4225\n",
        "sns.violinplot(df['4225'])"
      ]
    },
    {
      "cell_type": "code",
      "execution_count": null,
      "id": "b1fd694f",
      "metadata": {
        "id": "b1fd694f",
        "outputId": "28045ed0-ff9d-4fb3-fe41-c4ea3214ab3a"
      },
      "outputs": [
        {
          "data": {
            "image/png": "[encoded data removed]",
            "text/plain": [
              "<Figure size 720x720 with 1 Axes>"
            ]
          },
          "metadata": {
            "needs_background": "light"
          },
          "output_type": "display_data"
        }
      ],
      "source": [
        "#Density plot for the 4770\n",
        "plt.figure(figsize=(10,10))\n",
        "sns.distplot(df['4770'])\n",
        "plt.xticks(rotation=90)\n",
        "plt.show()"
      ]
    },
    {
      "cell_type": "code",
      "execution_count": null,
      "id": "a2d64806",
      "metadata": {
        "id": "a2d64806",
        "outputId": "be8bafe7-746d-43eb-dd9a-d20e90c0904f"
      },
      "outputs": [
        {
          "data": {
            "text/plain": [
              "<AxesSubplot:xlabel='4770'>"
            ]
          },
          "execution_count": 31,
          "metadata": {},
          "output_type": "execute_result"
        },
        {
          "data": {
            "image/png": "[encoded data removed]",
            "text/plain": [
              "<Figure size 432x288 with 1 Axes>"
            ]
          },
          "metadata": {
            "needs_background": "light"
          },
          "output_type": "display_data"
        }
      ],
      "source": [
        "#Violin plot for 4770\n",
        "sns.violinplot(df['4770'])"
      ]
    },
    {
      "cell_type": "code",
      "execution_count": null,
      "id": "6a8786ed",
      "metadata": {
        "id": "6a8786ed",
        "outputId": "3152e273-1ab4-41e2-acea-191648be379c"
      },
      "outputs": [
        {
          "data": {
            "image/png": "[encoded data removed]",
            "text/plain": [
              "<Figure size 720x720 with 1 Axes>"
            ]
          },
          "metadata": {
            "needs_background": "light"
          },
          "output_type": "display_data"
        }
      ],
      "source": [
        "#Density plot for the Total Bags\n",
        "plt.figure(figsize=(10,10))\n",
        "sns.distplot(df['Total Bags'])\n",
        "plt.xticks(rotation=90)\n",
        "plt.show()"
      ]
    },
    {
      "cell_type": "code",
      "execution_count": null,
      "id": "ea092cb9",
      "metadata": {
        "id": "ea092cb9",
        "outputId": "06036685-135e-4932-f026-01240d8d96f4"
      },
      "outputs": [
        {
          "data": {
            "text/plain": [
              "<AxesSubplot:xlabel='Total Bags'>"
            ]
          },
          "execution_count": 33,
          "metadata": {},
          "output_type": "execute_result"
        },
        {
          "data": {
            "image/png": "[encoded data removed]",
            "text/plain": [
              "<Figure size 432x288 with 1 Axes>"
            ]
          },
          "metadata": {
            "needs_background": "light"
          },
          "output_type": "display_data"
        }
      ],
      "source": [
        "#Violin plot for Total Bags\n",
        "sns.violinplot(df['Total Bags'])"
      ]
    },
    {
      "cell_type": "code",
      "execution_count": null,
      "id": "adf7c3dd",
      "metadata": {
        "id": "adf7c3dd",
        "outputId": "079d3cd8-b5e0-41bf-f06a-fd09aaf9b3af"
      },
      "outputs": [
        {
          "data": {
            "image/png": "[encoded data removed]",
            "text/plain": [
              "<Figure size 720x720 with 1 Axes>"
            ]
          },
          "metadata": {
            "needs_background": "light"
          },
          "output_type": "display_data"
        }
      ],
      "source": [
        "#Density plot for the Small Bags\n",
        "plt.figure(figsize=(10,10))\n",
        "sns.distplot(df['Small Bags'])\n",
        "plt.xticks(rotation=90)\n",
        "plt.show()"
      ]
    },
    {
      "cell_type": "code",
      "execution_count": null,
      "id": "a1d700c9",
      "metadata": {
        "id": "a1d700c9",
        "outputId": "5d8aaa0d-6f1c-4d15-9d01-c856b06b10ef"
      },
      "outputs": [
        {
          "data": {
            "text/plain": [
              "<AxesSubplot:xlabel='Small Bags'>"
            ]
          },
          "execution_count": 35,
          "metadata": {},
          "output_type": "execute_result"
        },
        {
          "data": {
            "image/png": "[encoded data removed]",
            "text/plain": [
              "<Figure size 432x288 with 1 Axes>"
            ]
          },
          "metadata": {
            "needs_background": "light"
          },
          "output_type": "display_data"
        }
      ],
      "source": [
        "#Violin plot for Small Bags\n",
        "sns.violinplot(df['Small Bags'])"
      ]
    },
    {
      "cell_type": "code",
      "execution_count": null,
      "id": "e2b1a845",
      "metadata": {
        "id": "e2b1a845",
        "outputId": "4952c548-273c-4529-a56d-a7a7d2e5430a"
      },
      "outputs": [
        {
          "data": {
            "image/png": "[encoded data removed]",
            "text/plain": [
              "<Figure size 720x720 with 1 Axes>"
            ]
          },
          "metadata": {
            "needs_background": "light"
          },
          "output_type": "display_data"
        }
      ],
      "source": [
        "#Density plot for the Large Bags\n",
        "plt.figure(figsize=(10,10))\n",
        "sns.distplot(df['Large Bags'])\n",
        "plt.xticks(rotation=90)\n",
        "plt.show()"
      ]
    },
    {
      "cell_type": "code",
      "execution_count": null,
      "id": "df62ab45",
      "metadata": {
        "id": "df62ab45",
        "outputId": "f283f6c7-43fa-459d-df8a-e2d05d1dfe4e"
      },
      "outputs": [
        {
          "data": {
            "text/plain": [
              "<AxesSubplot:xlabel='Large Bags'>"
            ]
          },
          "execution_count": 37,
          "metadata": {},
          "output_type": "execute_result"
        },
        {
          "data": {
            "image/png": "[encoded data removed]",
            "text/plain": [
              "<Figure size 432x288 with 1 Axes>"
            ]
          },
          "metadata": {
            "needs_background": "light"
          },
          "output_type": "display_data"
        }
      ],
      "source": [
        "#Violin plot for Large Bags\n",
        "sns.violinplot(df['Large Bags'])"
      ]
    },
    {
      "cell_type": "code",
      "execution_count": null,
      "id": "8fe590ec",
      "metadata": {
        "id": "8fe590ec",
        "outputId": "4a23fad4-50bb-4692-8e78-ee9451ac138e"
      },
      "outputs": [
        {
          "data": {
            "image/png": "[encoded data removed]",
            "text/plain": [
              "<Figure size 720x720 with 1 Axes>"
            ]
          },
          "metadata": {
            "needs_background": "light"
          },
          "output_type": "display_data"
        }
      ],
      "source": [
        "#Density plot for the XLarge Bags\n",
        "plt.figure(figsize=(10,10))\n",
        "sns.distplot(df['XLarge Bags'])\n",
        "plt.xticks(rotation=90)\n",
        "plt.show()"
      ]
    },
    {
      "cell_type": "code",
      "execution_count": null,
      "id": "53e9fd40",
      "metadata": {
        "id": "53e9fd40",
        "outputId": "d7bb958d-b46a-444c-ef18-96ff7b35e8b8"
      },
      "outputs": [
        {
          "data": {
            "text/plain": [
              "<AxesSubplot:xlabel='XLarge Bags'>"
            ]
          },
          "execution_count": 39,
          "metadata": {},
          "output_type": "execute_result"
        },
        {
          "data": {
            "image/png": "[encoded data removed]",
            "text/plain": [
              "<Figure size 432x288 with 1 Axes>"
            ]
          },
          "metadata": {
            "needs_background": "light"
          },
          "output_type": "display_data"
        }
      ],
      "source": [
        "#Violin plot for XLarge Bags\n",
        "sns.violinplot(df['XLarge Bags'])"
      ]
    },
    {
      "cell_type": "code",
      "execution_count": null,
      "id": "1c884ce3",
      "metadata": {
        "id": "1c884ce3",
        "outputId": "9dbe3998-9eba-4982-b51d-29798ef3704b"
      },
      "outputs": [
        {
          "data": {
            "image/png": "[encoded data removed]",
            "text/plain": [
              "<Figure size 720x720 with 1 Axes>"
            ]
          },
          "metadata": {
            "needs_background": "light"
          },
          "output_type": "display_data"
        }
      ],
      "source": [
        "#Count plot for the type\n",
        "plt.figure(figsize=(10,10))\n",
        "sns.countplot(df['type'])\n",
        "plt.xticks(rotation=90)\n",
        "plt.show()"
      ]
    },
    {
      "cell_type": "code",
      "execution_count": null,
      "id": "87334b40",
      "metadata": {
        "id": "87334b40",
        "outputId": "e27b7dda-83f2-4722-f6b3-c12c419a035a"
      },
      "outputs": [
        {
          "data": {
            "text/plain": [
              "conventional    9126\n",
              "organic         9123\n",
              "Name: type, dtype: int64"
            ]
          },
          "execution_count": 41,
          "metadata": {},
          "output_type": "execute_result"
        }
      ],
      "source": [
        "df['type'].value_counts() #Checking for count of both the classification"
      ]
    },
    {
      "cell_type": "markdown",
      "id": "310bf7b0",
      "metadata": {
        "id": "310bf7b0"
      },
      "source": [
        "Let us treat the column with Label Encoder"
      ]
    },
    {
      "cell_type": "code",
      "execution_count": null,
      "id": "4d8e18b0",
      "metadata": {
        "id": "4d8e18b0"
      },
      "outputs": [],
      "source": [
        "le = LabelEncoder()\n",
        "df['type'] = le.fit_transform(df['type']) #Encoding data"
      ]
    },
    {
      "cell_type": "code",
      "execution_count": null,
      "id": "155b38f7",
      "metadata": {
        "id": "155b38f7",
        "outputId": "a34f3544-a860-43dc-9454-04b3816fda5d"
      },
      "outputs": [
        {
          "data": {
            "text/plain": [
              "0    9126\n",
              "1    9123\n",
              "Name: type, dtype: int64"
            ]
          },
          "execution_count": 43,
          "metadata": {},
          "output_type": "execute_result"
        }
      ],
      "source": [
        "df['type'].value_counts()"
      ]
    },
    {
      "cell_type": "markdown",
      "id": "ddec02b8",
      "metadata": {
        "id": "ddec02b8"
      },
      "source": [
        "We changed:\n",
        "- conventional : 0\n",
        "- organic      : 1"
      ]
    },
    {
      "cell_type": "code",
      "execution_count": null,
      "id": "5b3c50ca",
      "metadata": {
        "id": "5b3c50ca",
        "outputId": "3863b490-ac06-4c40-9e3b-a78f3c39aa20"
      },
      "outputs": [
        {
          "data": {
            "text/plain": [
              "<AxesSubplot:xlabel='type'>"
            ]
          },
          "execution_count": 44,
          "metadata": {},
          "output_type": "execute_result"
        },
        {
          "data": {
            "image/png": "[encoded data removed]",
            "text/plain": [
              "<Figure size 432x288 with 1 Axes>"
            ]
          },
          "metadata": {
            "needs_background": "light"
          },
          "output_type": "display_data"
        }
      ],
      "source": [
        "#Box plot for type\n",
        "sns.boxplot(df['type'])"
      ]
    },
    {
      "cell_type": "code",
      "execution_count": null,
      "id": "79c5ea83",
      "metadata": {
        "id": "79c5ea83",
        "outputId": "798404c7-88aa-4ca6-c54e-9a785a4813c8"
      },
      "outputs": [
        {
          "data": {
            "image/png": "[encoded data removed]",
            "text/plain": [
              "<Figure size 720x720 with 1 Axes>"
            ]
          },
          "metadata": {
            "needs_background": "light"
          },
          "output_type": "display_data"
        }
      ],
      "source": [
        "#Density plot for the year\n",
        "plt.figure(figsize=(10,10))\n",
        "sns.distplot(df['year'])\n",
        "plt.xticks(rotation=90)\n",
        "plt.show()"
      ]
    },
    {
      "cell_type": "code",
      "execution_count": null,
      "id": "28d60105",
      "metadata": {
        "id": "28d60105",
        "outputId": "894d91c5-a3e7-46b0-877a-5b5044d25a1a"
      },
      "outputs": [
        {
          "data": {
            "text/plain": [
              "<AxesSubplot:xlabel='year'>"
            ]
          },
          "execution_count": 46,
          "metadata": {},
          "output_type": "execute_result"
        },
        {
          "data": {
            "image/png": "[encoded data removed]",
            "text/plain": [
              "<Figure size 432x288 with 1 Axes>"
            ]
          },
          "metadata": {
            "needs_background": "light"
          },
          "output_type": "display_data"
        }
      ],
      "source": [
        "sns.boxplot(df['year'])"
      ]
    },
    {
      "cell_type": "code",
      "execution_count": null,
      "id": "fd8a9545",
      "metadata": {
        "id": "fd8a9545",
        "outputId": "a7477c20-14e3-4d33-9903-9ecd77c52d2d"
      },
      "outputs": [
        {
          "data": {
            "text/plain": [
              "year  type\n",
              "2015  0       2808\n",
              "      1       2807\n",
              "2016  0       2808\n",
              "      1       2808\n",
              "2017  0       2862\n",
              "      1       2860\n",
              "2018  0        648\n",
              "      1        648\n",
              "Name: type, dtype: int64"
            ]
          },
          "execution_count": 47,
          "metadata": {},
          "output_type": "execute_result"
        }
      ],
      "source": [
        "#Checking type distribution among the years\n",
        "df.groupby('year')['type'].value_counts()"
      ]
    },
    {
      "cell_type": "markdown",
      "id": "edda40fd",
      "metadata": {
        "id": "edda40fd"
      },
      "source": [
        "The data is pretty normally distributed"
      ]
    },
    {
      "cell_type": "code",
      "execution_count": null,
      "id": "b2d60dd6",
      "metadata": {
        "id": "b2d60dd6",
        "outputId": "c8de735a-0f13-4df0-8337-5c0efdc4d0b2"
      },
      "outputs": [
        {
          "data": {
            "text/plain": [
              "year\n",
              "2015    1.375590\n",
              "2016    1.338640\n",
              "2017    1.515128\n",
              "2018    1.347531\n",
              "Name: AveragePrice, dtype: float64"
            ]
          },
          "execution_count": 48,
          "metadata": {},
          "output_type": "execute_result"
        }
      ],
      "source": [
        "#Finding mean of Average Price of avocado among the years\n",
        "df.groupby('year')['AveragePrice'].mean()"
      ]
    },
    {
      "cell_type": "code",
      "execution_count": null,
      "id": "98c8efda",
      "metadata": {
        "id": "98c8efda",
        "outputId": "4dbed02c-dc07-4cd4-9935-93aa08495789"
      },
      "outputs": [
        {
          "data": {
            "text/plain": [
              "<AxesSubplot:xlabel='year', ylabel='AveragePrice'>"
            ]
          },
          "execution_count": 49,
          "metadata": {},
          "output_type": "execute_result"
        },
        {
          "data": {
            "image/png": "[encoded data removed]",
            "text/plain": [
              "<Figure size 432x288 with 1 Axes>"
            ]
          },
          "metadata": {
            "needs_background": "light"
          },
          "output_type": "display_data"
        }
      ],
      "source": [
        "#Visualization of the price distribution of avocados over the year\n",
        "sns.lineplot(x='year',y='AveragePrice',hue='type',data=df)"
      ]
    },
    {
      "cell_type": "markdown",
      "id": "2abcd718",
      "metadata": {
        "id": "2abcd718"
      },
      "source": [
        "The average price was higher for the year 2017 among others. However, the distribution is good"
      ]
    },
    {
      "cell_type": "code",
      "execution_count": null,
      "id": "c6f89faa",
      "metadata": {
        "id": "c6f89faa",
        "outputId": "fc19e182-e69e-4285-91a2-d88add8f3086"
      },
      "outputs": [
        {
          "data": {
            "image/png": "[encoded data removed]",
            "text/plain": [
              "<Figure size 720x720 with 1 Axes>"
            ]
          },
          "metadata": {
            "needs_background": "light"
          },
          "output_type": "display_data"
        }
      ],
      "source": [
        "#Count plot for the region\n",
        "plt.figure(figsize=(10,10))\n",
        "sns.countplot(df['region'])\n",
        "plt.xticks(rotation=90)\n",
        "plt.show()"
      ]
    },
    {
      "cell_type": "markdown",
      "id": "b32d152f",
      "metadata": {
        "id": "b32d152f"
      },
      "source": [
        "Data is distributed evenly, however let us encode it using Ordinal Encoder"
      ]
    },
    {
      "cell_type": "code",
      "execution_count": null,
      "id": "842e8acf",
      "metadata": {
        "id": "842e8acf",
        "outputId": "eec2f032-2e71-47d0-c596-7b6c28879f88"
      },
      "outputs": [
        {
          "data": {
            "text/plain": [
              "54"
            ]
          },
          "execution_count": 51,
          "metadata": {},
          "output_type": "execute_result"
        }
      ],
      "source": [
        "df['region'].nunique()"
      ]
    },
    {
      "cell_type": "code",
      "execution_count": null,
      "id": "1c448cf5",
      "metadata": {
        "id": "1c448cf5",
        "outputId": "9d5e7621-a1f2-4f13-f972-5068b351f5e9"
      },
      "outputs": [
        {
          "data": {
            "text/plain": [
              "array(['Albany', 'Atlanta', 'BaltimoreWashington', 'Boise', 'Boston',\n",
              "       'BuffaloRochester', 'California', 'Charlotte', 'Chicago',\n",
              "       'CincinnatiDayton', 'Columbus', 'DallasFtWorth', 'Denver',\n",
              "       'Detroit', 'GrandRapids', 'GreatLakes', 'HarrisburgScranton',\n",
              "       'HartfordSpringfield', 'Houston', 'Indianapolis', 'Jacksonville',\n",
              "       'LasVegas', 'LosAngeles', 'Louisville', 'MiamiFtLauderdale',\n",
              "       'Midsouth', 'Nashville', 'NewOrleansMobile', 'NewYork',\n",
              "       'Northeast', 'NorthernNewEngland', 'Orlando', 'Philadelphia',\n",
              "       'PhoenixTucson', 'Pittsburgh', 'Plains', 'Portland',\n",
              "       'RaleighGreensboro', 'RichmondNorfolk', 'Roanoke', 'Sacramento',\n",
              "       'SanDiego', 'SanFrancisco', 'Seattle', 'SouthCarolina',\n",
              "       'SouthCentral', 'Southeast', 'Spokane', 'StLouis', 'Syracuse',\n",
              "       'Tampa', 'TotalUS', 'West', 'WestTexNewMexico'], dtype=object)"
            ]
          },
          "execution_count": 52,
          "metadata": {},
          "output_type": "execute_result"
        }
      ],
      "source": [
        "df['region'].unique()"
      ]
    },
    {
      "cell_type": "code",
      "execution_count": null,
      "id": "6e919e2e",
      "metadata": {
        "id": "6e919e2e"
      },
      "outputs": [],
      "source": [
        "#Encoding data\n",
        "c = df['region'].unique()\n",
        "oe = OrdinalEncoder(categories=[c])\n",
        "df['region'] = oe.fit_transform(df[['region']])"
      ]
    },
    {
      "cell_type": "code",
      "execution_count": null,
      "id": "f735a2fd",
      "metadata": {
        "id": "f735a2fd",
        "outputId": "93541dde-268c-4d2a-9db7-6409e1ecde00"
      },
      "outputs": [
        {
          "data": {
            "text/plain": [
              "array([ 0.,  1.,  2.,  3.,  4.,  5.,  6.,  7.,  8.,  9., 10., 11., 12.,\n",
              "       13., 14., 15., 16., 17., 18., 19., 20., 21., 22., 23., 24., 25.,\n",
              "       26., 27., 28., 29., 30., 31., 32., 33., 34., 35., 36., 37., 38.,\n",
              "       39., 40., 41., 42., 43., 44., 45., 46., 47., 48., 49., 50., 51.,\n",
              "       52., 53.])"
            ]
          },
          "execution_count": 54,
          "metadata": {},
          "output_type": "execute_result"
        }
      ],
      "source": [
        "df['region'].unique()"
      ]
    },
    {
      "cell_type": "markdown",
      "id": "44ddc0d7",
      "metadata": {
        "id": "44ddc0d7"
      },
      "source": [
        "The data has been encoder into 54 variables, ranging from 0 to 53 in the above order"
      ]
    },
    {
      "cell_type": "code",
      "execution_count": null,
      "id": "31baeade",
      "metadata": {
        "id": "31baeade",
        "outputId": "ae6bb2c8-3866-48ae-b7d1-58eb001b968d"
      },
      "outputs": [
        {
          "data": {
            "text/plain": [
              "<AxesSubplot:xlabel='region'>"
            ]
          },
          "execution_count": 55,
          "metadata": {},
          "output_type": "execute_result"
        },
        {
          "data": {
            "image/png": "[encoded data removed]",
            "text/plain": [
              "<Figure size 432x288 with 1 Axes>"
            ]
          },
          "metadata": {
            "needs_background": "light"
          },
          "output_type": "display_data"
        }
      ],
      "source": [
        "#Box plot for region\n",
        "sns.boxplot(df['region'])"
      ]
    },
    {
      "cell_type": "markdown",
      "id": "17e32210",
      "metadata": {
        "id": "17e32210"
      },
      "source": [
        "# Correlation"
      ]
    },
    {
      "cell_type": "markdown",
      "id": "478ff4bf",
      "metadata": {
        "id": "478ff4bf"
      },
      "source": [
        "Now, since all the data has been transformed into numeric values. Let us check for the correlation to the target column"
      ]
    },
    {
      "cell_type": "code",
      "execution_count": null,
      "id": "343e7d9c",
      "metadata": {
        "id": "343e7d9c",
        "outputId": "da9187c1-6457-431e-925f-da5fd60ee45b"
      },
      "outputs": [
        {
          "data": {
            "text/html": [
              "<div>\n",
              "<style scoped>\n",
              "    .dataframe tbody tr th:only-of-type {\n",
              "        vertical-align: middle;\n",
              "    }\n",
              "\n",
              "    .dataframe tbody tr th {\n",
              "        vertical-align: top;\n",
              "    }\n",
              "\n",
              "    .dataframe thead th {\n",
              "        text-align: right;\n",
              "    }\n",
              "</style>\n",
              "<table border=\"1\" class=\"dataframe\">\n",
              "  <thead>\n",
              "    <tr style=\"text-align: right;\">\n",
              "      <th></th>\n",
              "      <th>AveragePrice</th>\n",
              "      <th>Total Volume</th>\n",
              "      <th>4046</th>\n",
              "      <th>4225</th>\n",
              "      <th>4770</th>\n",
              "      <th>Total Bags</th>\n",
              "      <th>Small Bags</th>\n",
              "      <th>Large Bags</th>\n",
              "      <th>XLarge Bags</th>\n",
              "      <th>type</th>\n",
              "      <th>year</th>\n",
              "      <th>region</th>\n",
              "      <th>Month</th>\n",
              "      <th>Day</th>\n",
              "    </tr>\n",
              "  </thead>\n",
              "  <tbody>\n",
              "    <tr>\n",
              "      <th>AveragePrice</th>\n",
              "      <td>1.000000</td>\n",
              "      <td>-0.192752</td>\n",
              "      <td>-0.208317</td>\n",
              "      <td>-0.172928</td>\n",
              "      <td>-0.179446</td>\n",
              "      <td>-0.177088</td>\n",
              "      <td>-0.174730</td>\n",
              "      <td>-0.172940</td>\n",
              "      <td>-0.117592</td>\n",
              "      <td>0.615845</td>\n",
              "      <td>0.093197</td>\n",
              "      <td>-0.011716</td>\n",
              "      <td>0.162409</td>\n",
              "      <td>0.027386</td>\n",
              "    </tr>\n",
              "    <tr>\n",
              "      <th>Total Volume</th>\n",
              "      <td>-0.192752</td>\n",
              "      <td>1.000000</td>\n",
              "      <td>0.977863</td>\n",
              "      <td>0.974181</td>\n",
              "      <td>0.872202</td>\n",
              "      <td>0.963047</td>\n",
              "      <td>0.967238</td>\n",
              "      <td>0.880640</td>\n",
              "      <td>0.747157</td>\n",
              "      <td>-0.232434</td>\n",
              "      <td>0.017193</td>\n",
              "      <td>0.174176</td>\n",
              "      <td>-0.024689</td>\n",
              "      <td>-0.009747</td>\n",
              "    </tr>\n",
              "    <tr>\n",
              "      <th>4046</th>\n",
              "      <td>-0.208317</td>\n",
              "      <td>0.977863</td>\n",
              "      <td>1.000000</td>\n",
              "      <td>0.926110</td>\n",
              "      <td>0.833389</td>\n",
              "      <td>0.920057</td>\n",
              "      <td>0.925280</td>\n",
              "      <td>0.838645</td>\n",
              "      <td>0.699377</td>\n",
              "      <td>-0.225819</td>\n",
              "      <td>0.003353</td>\n",
              "      <td>0.192073</td>\n",
              "      <td>-0.025803</td>\n",
              "      <td>-0.010159</td>\n",
              "    </tr>\n",
              "    <tr>\n",
              "      <th>4225</th>\n",
              "      <td>-0.172928</td>\n",
              "      <td>0.974181</td>\n",
              "      <td>0.926110</td>\n",
              "      <td>1.000000</td>\n",
              "      <td>0.887855</td>\n",
              "      <td>0.905787</td>\n",
              "      <td>0.916031</td>\n",
              "      <td>0.810015</td>\n",
              "      <td>0.688809</td>\n",
              "      <td>-0.232289</td>\n",
              "      <td>-0.009559</td>\n",
              "      <td>0.145726</td>\n",
              "      <td>-0.022108</td>\n",
              "      <td>-0.012393</td>\n",
              "    </tr>\n",
              "    <tr>\n",
              "      <th>4770</th>\n",
              "      <td>-0.179446</td>\n",
              "      <td>0.872202</td>\n",
              "      <td>0.833389</td>\n",
              "      <td>0.887855</td>\n",
              "      <td>1.000000</td>\n",
              "      <td>0.792314</td>\n",
              "      <td>0.802733</td>\n",
              "      <td>0.698471</td>\n",
              "      <td>0.679861</td>\n",
              "      <td>-0.210027</td>\n",
              "      <td>-0.036531</td>\n",
              "      <td>0.095252</td>\n",
              "      <td>-0.033424</td>\n",
              "      <td>-0.009009</td>\n",
              "    </tr>\n",
              "    <tr>\n",
              "      <th>Total Bags</th>\n",
              "      <td>-0.177088</td>\n",
              "      <td>0.963047</td>\n",
              "      <td>0.920057</td>\n",
              "      <td>0.905787</td>\n",
              "      <td>0.792314</td>\n",
              "      <td>1.000000</td>\n",
              "      <td>0.994335</td>\n",
              "      <td>0.943009</td>\n",
              "      <td>0.804233</td>\n",
              "      <td>-0.217788</td>\n",
              "      <td>0.071552</td>\n",
              "      <td>0.175256</td>\n",
              "      <td>-0.022724</td>\n",
              "      <td>-0.004988</td>\n",
              "    </tr>\n",
              "    <tr>\n",
              "      <th>Small Bags</th>\n",
              "      <td>-0.174730</td>\n",
              "      <td>0.967238</td>\n",
              "      <td>0.925280</td>\n",
              "      <td>0.916031</td>\n",
              "      <td>0.802733</td>\n",
              "      <td>0.994335</td>\n",
              "      <td>1.000000</td>\n",
              "      <td>0.902589</td>\n",
              "      <td>0.806845</td>\n",
              "      <td>-0.220535</td>\n",
              "      <td>0.063915</td>\n",
              "      <td>0.164702</td>\n",
              "      <td>-0.023126</td>\n",
              "      <td>-0.003870</td>\n",
              "    </tr>\n",
              "    <tr>\n",
              "      <th>Large Bags</th>\n",
              "      <td>-0.172940</td>\n",
              "      <td>0.880640</td>\n",
              "      <td>0.838645</td>\n",
              "      <td>0.810015</td>\n",
              "      <td>0.698471</td>\n",
              "      <td>0.943009</td>\n",
              "      <td>0.902589</td>\n",
              "      <td>1.000000</td>\n",
              "      <td>0.710858</td>\n",
              "      <td>-0.193177</td>\n",
              "      <td>0.087891</td>\n",
              "      <td>0.198768</td>\n",
              "      <td>-0.020187</td>\n",
              "      <td>-0.008352</td>\n",
              "    </tr>\n",
              "    <tr>\n",
              "      <th>XLarge Bags</th>\n",
              "      <td>-0.117592</td>\n",
              "      <td>0.747157</td>\n",
              "      <td>0.699377</td>\n",
              "      <td>0.688809</td>\n",
              "      <td>0.679861</td>\n",
              "      <td>0.804233</td>\n",
              "      <td>0.806845</td>\n",
              "      <td>0.710858</td>\n",
              "      <td>1.000000</td>\n",
              "      <td>-0.175483</td>\n",
              "      <td>0.081033</td>\n",
              "      <td>0.082281</td>\n",
              "      <td>-0.012969</td>\n",
              "      <td>0.000319</td>\n",
              "    </tr>\n",
              "    <tr>\n",
              "      <th>type</th>\n",
              "      <td>0.615845</td>\n",
              "      <td>-0.232434</td>\n",
              "      <td>-0.225819</td>\n",
              "      <td>-0.232289</td>\n",
              "      <td>-0.210027</td>\n",
              "      <td>-0.217788</td>\n",
              "      <td>-0.220535</td>\n",
              "      <td>-0.193177</td>\n",
              "      <td>-0.175483</td>\n",
              "      <td>1.000000</td>\n",
              "      <td>-0.000032</td>\n",
              "      <td>-0.000280</td>\n",
              "      <td>-0.000085</td>\n",
              "      <td>-0.000013</td>\n",
              "    </tr>\n",
              "    <tr>\n",
              "      <th>year</th>\n",
              "      <td>0.093197</td>\n",
              "      <td>0.017193</td>\n",
              "      <td>0.003353</td>\n",
              "      <td>-0.009559</td>\n",
              "      <td>-0.036531</td>\n",
              "      <td>0.071552</td>\n",
              "      <td>0.063915</td>\n",
              "      <td>0.087891</td>\n",
              "      <td>0.081033</td>\n",
              "      <td>-0.000032</td>\n",
              "      <td>1.000000</td>\n",
              "      <td>-0.000055</td>\n",
              "      <td>-0.177050</td>\n",
              "      <td>0.004475</td>\n",
              "    </tr>\n",
              "    <tr>\n",
              "      <th>region</th>\n",
              "      <td>-0.011716</td>\n",
              "      <td>0.174176</td>\n",
              "      <td>0.192073</td>\n",
              "      <td>0.145726</td>\n",
              "      <td>0.095252</td>\n",
              "      <td>0.175256</td>\n",
              "      <td>0.164702</td>\n",
              "      <td>0.198768</td>\n",
              "      <td>0.082281</td>\n",
              "      <td>-0.000280</td>\n",
              "      <td>-0.000055</td>\n",
              "      <td>1.000000</td>\n",
              "      <td>-0.000144</td>\n",
              "      <td>-0.000021</td>\n",
              "    </tr>\n",
              "    <tr>\n",
              "      <th>Month</th>\n",
              "      <td>0.162409</td>\n",
              "      <td>-0.024689</td>\n",
              "      <td>-0.025803</td>\n",
              "      <td>-0.022108</td>\n",
              "      <td>-0.033424</td>\n",
              "      <td>-0.022724</td>\n",
              "      <td>-0.023126</td>\n",
              "      <td>-0.020187</td>\n",
              "      <td>-0.012969</td>\n",
              "      <td>-0.000085</td>\n",
              "      <td>-0.177050</td>\n",
              "      <td>-0.000144</td>\n",
              "      <td>1.000000</td>\n",
              "      <td>0.010621</td>\n",
              "    </tr>\n",
              "    <tr>\n",
              "      <th>Day</th>\n",
              "      <td>0.027386</td>\n",
              "      <td>-0.009747</td>\n",
              "      <td>-0.010159</td>\n",
              "      <td>-0.012393</td>\n",
              "      <td>-0.009009</td>\n",
              "      <td>-0.004988</td>\n",
              "      <td>-0.003870</td>\n",
              "      <td>-0.008352</td>\n",
              "      <td>0.000319</td>\n",
              "      <td>-0.000013</td>\n",
              "      <td>0.004475</td>\n",
              "      <td>-0.000021</td>\n",
              "      <td>0.010621</td>\n",
              "      <td>1.000000</td>\n",
              "    </tr>\n",
              "  </tbody>\n",
              "</table>\n",
              "</div>"
            ],
            "text/plain": [
              "              AveragePrice  Total Volume      4046      4225      4770  \\\n",
              "AveragePrice      1.000000     -0.192752 -0.208317 -0.172928 -0.179446   \n",
              "Total Volume     -0.192752      1.000000  0.977863  0.974181  0.872202   \n",
              "4046             -0.208317      0.977863  1.000000  0.926110  0.833389   \n",
              "4225             -0.172928      0.974181  0.926110  1.000000  0.887855   \n",
              "4770             -0.179446      0.872202  0.833389  0.887855  1.000000   \n",
              "Total Bags       -0.177088      0.963047  0.920057  0.905787  0.792314   \n",
              "Small Bags       -0.174730      0.967238  0.925280  0.916031  0.802733   \n",
              "Large Bags       -0.172940      0.880640  0.838645  0.810015  0.698471   \n",
              "XLarge Bags      -0.117592      0.747157  0.699377  0.688809  0.679861   \n",
              "type              0.615845     -0.232434 -0.225819 -0.232289 -0.210027   \n",
              "year              0.093197      0.017193  0.003353 -0.009559 -0.036531   \n",
              "region           -0.011716      0.174176  0.192073  0.145726  0.095252   \n",
              "Month             0.162409     -0.024689 -0.025803 -0.022108 -0.033424   \n",
              "Day               0.027386     -0.009747 -0.010159 -0.012393 -0.009009   \n",
              "\n",
              "              Total Bags  Small Bags  Large Bags  XLarge Bags      type  \\\n",
              "AveragePrice   -0.177088   -0.174730   -0.172940    -0.117592  0.615845   \n",
              "Total Volume    0.963047    0.967238    0.880640     0.747157 -0.232434   \n",
              "4046            0.920057    0.925280    0.838645     0.699377 -0.225819   \n",
              "4225            0.905787    0.916031    0.810015     0.688809 -0.232289   \n",
              "4770            0.792314    0.802733    0.698471     0.679861 -0.210027   \n",
              "Total Bags      1.000000    0.994335    0.943009     0.804233 -0.217788   \n",
              "Small Bags      0.994335    1.000000    0.902589     0.806845 -0.220535   \n",
              "Large Bags      0.943009    0.902589    1.000000     0.710858 -0.193177   \n",
              "XLarge Bags     0.804233    0.806845    0.710858     1.000000 -0.175483   \n",
              "type           -0.217788   -0.220535   -0.193177    -0.175483  1.000000   \n",
              "year            0.071552    0.063915    0.087891     0.081033 -0.000032   \n",
              "region          0.175256    0.164702    0.198768     0.082281 -0.000280   \n",
              "Month          -0.022724   -0.023126   -0.020187    -0.012969 -0.000085   \n",
              "Day            -0.004988   -0.003870   -0.008352     0.000319 -0.000013   \n",
              "\n",
              "                  year    region     Month       Day  \n",
              "AveragePrice  0.093197 -0.011716  0.162409  0.027386  \n",
              "Total Volume  0.017193  0.174176 -0.024689 -0.009747  \n",
              "4046          0.003353  0.192073 -0.025803 -0.010159  \n",
              "4225         -0.009559  0.145726 -0.022108 -0.012393  \n",
              "4770         -0.036531  0.095252 -0.033424 -0.009009  \n",
              "Total Bags    0.071552  0.175256 -0.022724 -0.004988  \n",
              "Small Bags    0.063915  0.164702 -0.023126 -0.003870  \n",
              "Large Bags    0.087891  0.198768 -0.020187 -0.008352  \n",
              "XLarge Bags   0.081033  0.082281 -0.012969  0.000319  \n",
              "type         -0.000032 -0.000280 -0.000085 -0.000013  \n",
              "year          1.000000 -0.000055 -0.177050  0.004475  \n",
              "region       -0.000055  1.000000 -0.000144 -0.000021  \n",
              "Month        -0.177050 -0.000144  1.000000  0.010621  \n",
              "Day           0.004475 -0.000021  0.010621  1.000000  "
            ]
          },
          "execution_count": 56,
          "metadata": {},
          "output_type": "execute_result"
        }
      ],
      "source": [
        "df.corr() #Correlation matrix"
      ]
    },
    {
      "cell_type": "code",
      "execution_count": null,
      "id": "9e760d7e",
      "metadata": {
        "id": "9e760d7e",
        "outputId": "0e0db6ac-6ccb-4998-a1f7-c8ef9335d502"
      },
      "outputs": [
        {
          "data": {
            "image/png": "[encoded data removed]",
            "text/plain": [
              "<Figure size 1440x1440 with 2 Axes>"
            ]
          },
          "metadata": {
            "needs_background": "light"
          },
          "output_type": "display_data"
        }
      ],
      "source": [
        "#Visualization for correlation matrix\n",
        "plt.figure(figsize=(20,20))\n",
        "sns.heatmap(df.corr(),annot=True)\n",
        "plt.show()"
      ]
    },
    {
      "cell_type": "markdown",
      "id": "314eb163",
      "metadata": {
        "id": "314eb163"
      },
      "source": [
        "Type has the highest correlation to the AveragePrice."
      ]
    },
    {
      "cell_type": "code",
      "execution_count": null,
      "id": "e0216fc8",
      "metadata": {
        "id": "e0216fc8",
        "outputId": "6e65916a-5855-485e-b562-2f320fa14171"
      },
      "outputs": [
        {
          "data": {
            "text/plain": [
              "4046           -0.208317\n",
              "Total Volume   -0.192752\n",
              "4770           -0.179446\n",
              "Total Bags     -0.177088\n",
              "Small Bags     -0.174730\n",
              "Large Bags     -0.172940\n",
              "4225           -0.172928\n",
              "XLarge Bags    -0.117592\n",
              "region         -0.011716\n",
              "Day             0.027386\n",
              "year            0.093197\n",
              "Month           0.162409\n",
              "type            0.615845\n",
              "AveragePrice    1.000000\n",
              "Name: AveragePrice, dtype: float64"
            ]
          },
          "execution_count": 58,
          "metadata": {},
          "output_type": "execute_result"
        }
      ],
      "source": [
        "#Correlation wrt target column\n",
        "df.corr()['AveragePrice'].sort_values()"
      ]
    },
    {
      "cell_type": "code",
      "execution_count": null,
      "id": "34fb91de",
      "metadata": {
        "id": "34fb91de",
        "outputId": "e587292f-f1a2-4da1-a263-0cec714dea1d"
      },
      "outputs": [
        {
          "data": {
            "text/plain": [
              "AveragePrice   -0.011716\n",
              "type           -0.000280\n",
              "Month          -0.000144\n",
              "year           -0.000055\n",
              "Day            -0.000021\n",
              "XLarge Bags     0.082281\n",
              "4770            0.095252\n",
              "4225            0.145726\n",
              "Small Bags      0.164702\n",
              "Total Volume    0.174176\n",
              "Total Bags      0.175256\n",
              "4046            0.192073\n",
              "Large Bags      0.198768\n",
              "region          1.000000\n",
              "Name: region, dtype: float64"
            ]
          },
          "execution_count": 59,
          "metadata": {},
          "output_type": "execute_result"
        }
      ],
      "source": [
        "#Correlation wrt target column\n",
        "df.corr()['region'].sort_values()"
      ]
    },
    {
      "cell_type": "markdown",
      "id": "8b3fdf7f",
      "metadata": {
        "id": "8b3fdf7f"
      },
      "source": [
        "# Outliers"
      ]
    },
    {
      "cell_type": "markdown",
      "id": "532b85fb",
      "metadata": {
        "id": "532b85fb"
      },
      "source": [
        "We use the zscore method to remove the outliers with a threshold of 3"
      ]
    },
    {
      "cell_type": "code",
      "execution_count": null,
      "id": "e6316c50",
      "metadata": {
        "id": "e6316c50"
      },
      "outputs": [],
      "source": [
        "z = np.abs(zscore(df))\n",
        "df_new = df[(z<3).all(axis=1)]"
      ]
    },
    {
      "cell_type": "code",
      "execution_count": null,
      "id": "f214540e",
      "metadata": {
        "id": "f214540e",
        "outputId": "5f74f4d7-608f-4994-876d-0be51ac13237"
      },
      "outputs": [
        {
          "data": {
            "text/plain": [
              "(17651, 14)"
            ]
          },
          "execution_count": 61,
          "metadata": {},
          "output_type": "execute_result"
        }
      ],
      "source": [
        "df_new.shape"
      ]
    },
    {
      "cell_type": "code",
      "execution_count": null,
      "id": "aa3dc545",
      "metadata": {
        "id": "aa3dc545",
        "outputId": "af69ae3c-1e54-45e8-bccf-bb92989d0ee8"
      },
      "outputs": [
        {
          "name": "stdout",
          "output_type": "stream",
          "text": [
            "Percentage loss of data =\t 3.276891884486821 %\n"
          ]
        }
      ],
      "source": [
        "print('Percentage loss of data =\\t', ((df.shape[0]-df_new.shape[0])/df.shape[0])*100, '%')"
      ]
    },
    {
      "cell_type": "markdown",
      "id": "fcfb5f28",
      "metadata": {
        "id": "fcfb5f28"
      },
      "source": [
        "# Skewness"
      ]
    },
    {
      "cell_type": "markdown",
      "id": "6bf63e51",
      "metadata": {
        "id": "6bf63e51"
      },
      "source": [
        "Now, we split the data into feature and target columns. We do that in two parts as we produce model for 2 target columns"
      ]
    },
    {
      "cell_type": "code",
      "execution_count": null,
      "id": "f2f5fb23",
      "metadata": {
        "id": "f2f5fb23"
      },
      "outputs": [],
      "source": [
        "# Target = AveragePrice\n",
        "x1 = df.drop(columns='AveragePrice')\n",
        "y1 = df['AveragePrice']"
      ]
    },
    {
      "cell_type": "code",
      "execution_count": null,
      "id": "85b06012",
      "metadata": {
        "id": "85b06012"
      },
      "outputs": [],
      "source": [
        "# Target = region\n",
        "x2 = df.drop(columns='region')\n",
        "y2 = df['region']"
      ]
    },
    {
      "cell_type": "markdown",
      "id": "0e549e64",
      "metadata": {
        "id": "0e549e64"
      },
      "source": [
        "Treating skewness for Target 1"
      ]
    },
    {
      "cell_type": "code",
      "execution_count": null,
      "id": "2294d872",
      "metadata": {
        "id": "2294d872",
        "outputId": "0413655c-3485-47e3-ba0f-2d9d7753526b"
      },
      "outputs": [
        {
          "data": {
            "text/plain": [
              "Total Volume     9.007687\n",
              "4046             8.648220\n",
              "4225             8.942466\n",
              "4770            10.159396\n",
              "Total Bags       9.756072\n",
              "Small Bags       9.540660\n",
              "Large Bags       9.796455\n",
              "XLarge Bags     13.139751\n",
              "type             0.000329\n",
              "year             0.215339\n",
              "region           0.000030\n",
              "Month            0.106617\n",
              "Day              0.014310\n",
              "dtype: float64"
            ]
          },
          "execution_count": 65,
          "metadata": {},
          "output_type": "execute_result"
        }
      ],
      "source": [
        "x1.skew()"
      ]
    },
    {
      "cell_type": "code",
      "execution_count": null,
      "id": "e44013fd",
      "metadata": {
        "id": "e44013fd"
      },
      "outputs": [],
      "source": [
        "k = []\n",
        "for i in x1.columns:\n",
        "    k.append(np.abs(x1[i].skew()))\n",
        "\n",
        "b=0\n",
        "for i in x1.columns:\n",
        "    if k[b]>0.5:\n",
        "        x1[i] = np.log1p(x1[i])\n",
        "    b+=1"
      ]
    },
    {
      "cell_type": "code",
      "execution_count": null,
      "id": "77b07db9",
      "metadata": {
        "id": "77b07db9",
        "outputId": "5813f639-2750-4fdf-e45d-7245a21f204f"
      },
      "outputs": [
        {
          "data": {
            "text/plain": [
              "Total Volume    0.088098\n",
              "4046           -0.328195\n",
              "4225           -0.486654\n",
              "4770            0.099986\n",
              "Total Bags     -0.218874\n",
              "Small Bags     -0.622148\n",
              "Large Bags     -0.547765\n",
              "XLarge Bags     1.176494\n",
              "type            0.000329\n",
              "year            0.215339\n",
              "region          0.000030\n",
              "Month           0.106617\n",
              "Day             0.014310\n",
              "dtype: float64"
            ]
          },
          "execution_count": 67,
          "metadata": {},
          "output_type": "execute_result"
        }
      ],
      "source": [
        "x1.skew()"
      ]
    },
    {
      "cell_type": "markdown",
      "id": "536dd13d",
      "metadata": {
        "id": "536dd13d"
      },
      "source": [
        "Treating skewness for Target 2"
      ]
    },
    {
      "cell_type": "code",
      "execution_count": null,
      "id": "4b0705fd",
      "metadata": {
        "id": "4b0705fd",
        "outputId": "2a2aae12-1a11-4def-d3af-91ad19b67973"
      },
      "outputs": [
        {
          "data": {
            "text/plain": [
              "AveragePrice     0.580303\n",
              "Total Volume     9.007687\n",
              "4046             8.648220\n",
              "4225             8.942466\n",
              "4770            10.159396\n",
              "Total Bags       9.756072\n",
              "Small Bags       9.540660\n",
              "Large Bags       9.796455\n",
              "XLarge Bags     13.139751\n",
              "type             0.000329\n",
              "year             0.215339\n",
              "Month            0.106617\n",
              "Day              0.014310\n",
              "dtype: float64"
            ]
          },
          "execution_count": 68,
          "metadata": {},
          "output_type": "execute_result"
        }
      ],
      "source": [
        "x2.skew()"
      ]
    },
    {
      "cell_type": "code",
      "execution_count": null,
      "id": "c838007a",
      "metadata": {
        "id": "c838007a"
      },
      "outputs": [],
      "source": [
        "k = []\n",
        "for i in x2.columns:\n",
        "    k.append(np.abs(x2[i].skew()))\n",
        "\n",
        "b=0\n",
        "for i in x2.columns:\n",
        "    if k[b]>0.5:\n",
        "        x2[i] = np.log1p(x2[i])\n",
        "    b+=1"
      ]
    },
    {
      "cell_type": "code",
      "execution_count": null,
      "id": "560f4b7f",
      "metadata": {
        "id": "560f4b7f",
        "outputId": "a39858a5-7b09-4c95-d7bf-3165316a2dce"
      },
      "outputs": [
        {
          "data": {
            "text/plain": [
              "AveragePrice    0.138629\n",
              "Total Volume    0.088098\n",
              "4046           -0.328195\n",
              "4225           -0.486654\n",
              "4770            0.099986\n",
              "Total Bags     -0.218874\n",
              "Small Bags     -0.622148\n",
              "Large Bags     -0.547765\n",
              "XLarge Bags     1.176494\n",
              "type            0.000329\n",
              "year            0.215339\n",
              "Month           0.106617\n",
              "Day             0.014310\n",
              "dtype: float64"
            ]
          },
          "execution_count": 70,
          "metadata": {},
          "output_type": "execute_result"
        }
      ],
      "source": [
        "x2.skew()"
      ]
    },
    {
      "cell_type": "markdown",
      "id": "553c3e7a",
      "metadata": {
        "id": "553c3e7a"
      },
      "source": [
        "# Scaling the data for model"
      ]
    },
    {
      "cell_type": "code",
      "execution_count": null,
      "id": "9ce43b5a",
      "metadata": {
        "id": "9ce43b5a"
      },
      "outputs": [],
      "source": [
        "sc=StandardScaler()\n",
        "x1 = sc.fit_transform(x1)\n",
        "x2 = sc.fit_transform(x2)"
      ]
    },
    {
      "cell_type": "markdown",
      "id": "675db1c3",
      "metadata": {
        "id": "675db1c3"
      },
      "source": [
        "# Prediction for AveragePrice"
      ]
    },
    {
      "cell_type": "markdown",
      "id": "0fc1eae7",
      "metadata": {
        "id": "0fc1eae7"
      },
      "source": [
        "## Random State"
      ]
    },
    {
      "cell_type": "code",
      "execution_count": null,
      "id": "7b1171c5",
      "metadata": {
        "id": "7b1171c5",
        "outputId": "cf342a6d-6cca-44c9-aa7b-1912d78f8ced"
      },
      "outputs": [
        {
          "name": "stdout",
          "output_type": "stream",
          "text": [
            "Max accuracy: \t 0.5780244358065088\n",
            "Random State: \t 50\n"
          ]
        }
      ],
      "source": [
        "maxRS = 0\n",
        "maxAcc = 0\n",
        "for i in range(0,100):\n",
        "    x_train, x_test, y_train, y_test = train_test_split(x1, y1, test_size=0.20, random_state=i)\n",
        "    lr = LinearRegression()\n",
        "    lr.fit(x_train,y_train)\n",
        "    pred = lr.predict(x_test)\n",
        "    acc = r2_score(y_test, pred)\n",
        "    if acc>maxAcc:\n",
        "        maxAcc = acc\n",
        "        maxRS = i\n",
        "print(\"Max accuracy: \\t\", maxAcc)\n",
        "print(\"Random State: \\t\", maxRS)"
      ]
    },
    {
      "cell_type": "markdown",
      "id": "1669d283",
      "metadata": {
        "id": "1669d283"
      },
      "source": [
        "Now since we got the best random state for data modelling, we create the test train models"
      ]
    },
    {
      "cell_type": "code",
      "execution_count": null,
      "id": "6d3168cf",
      "metadata": {
        "id": "6d3168cf"
      },
      "outputs": [],
      "source": [
        "x_train, x_test, y_train, y_test = train_test_split(x1, y1, test_size=0.20, random_state=maxRS)"
      ]
    },
    {
      "cell_type": "markdown",
      "id": "fe6e3c98",
      "metadata": {
        "id": "fe6e3c98"
      },
      "source": [
        "## Model Predictions"
      ]
    },
    {
      "cell_type": "markdown",
      "id": "1cdd15f9",
      "metadata": {
        "id": "1cdd15f9"
      },
      "source": [
        "Linear Regression"
      ]
    },
    {
      "cell_type": "code",
      "execution_count": null,
      "id": "247145cb",
      "metadata": {
        "id": "247145cb",
        "outputId": "92c067c2-7aae-45ce-9725-3a45438cdd1c"
      },
      "outputs": [
        {
          "name": "stdout",
          "output_type": "stream",
          "text": [
            "r2 score: \t 57.80244358065087\n",
            "Mean Square Error : \t 0.07145908347167756\n",
            "Root Mean Square Error : \t 0.2673183186234673\n"
          ]
        }
      ],
      "source": [
        "lr = LinearRegression()\n",
        "lr.fit(x_train,y_train)\n",
        "pred = lr.predict(x_test)\n",
        "print(\"r2 score: \\t\", r2_score(y_test,pred)*100)\n",
        "print(\"Mean Square Error : \\t\", mean_squared_error(y_test,pred))\n",
        "print(\"Root Mean Square Error : \\t\", np.sqrt(mean_squared_error(y_test,pred)))"
      ]
    },
    {
      "cell_type": "markdown",
      "id": "4bc0b4ec",
      "metadata": {
        "id": "4bc0b4ec"
      },
      "source": [
        "Ridge Regression"
      ]
    },
    {
      "cell_type": "code",
      "execution_count": null,
      "id": "990ae8d8",
      "metadata": {
        "id": "990ae8d8",
        "outputId": "93b6b574-3c7a-4436-b666-0da8a74edeb0"
      },
      "outputs": [
        {
          "name": "stdout",
          "output_type": "stream",
          "text": [
            "r2 score: \t 57.80193914022181\n",
            "Mean Square Error : \t 0.07145993771191765\n",
            "Root Mean Square Error : \t 0.26731991641461667\n"
          ]
        }
      ],
      "source": [
        "rr = Ridge()\n",
        "rr.fit(x_train,y_train)\n",
        "pred = rr.predict(x_test)\n",
        "print(\"r2 score: \\t\", r2_score(y_test,pred)*100)\n",
        "print(\"Mean Square Error : \\t\", mean_squared_error(y_test,pred))\n",
        "print(\"Root Mean Square Error : \\t\", np.sqrt(mean_squared_error(y_test,pred)))"
      ]
    },
    {
      "cell_type": "markdown",
      "id": "90754cbe",
      "metadata": {
        "id": "90754cbe"
      },
      "source": [
        "KNN MODEL"
      ]
    },
    {
      "cell_type": "code",
      "execution_count": null,
      "id": "a53bdce2",
      "metadata": {
        "id": "a53bdce2",
        "outputId": "0d169374-f211-43e0-f214-e07332c8789a"
      },
      "outputs": [
        {
          "name": "stdout",
          "output_type": "stream",
          "text": [
            "r2 score: \t 82.04040590400425\n",
            "Mean Square Error : \t 0.03041351780821918\n",
            "Root Mean Square Error : \t 0.17439471840689208\n"
          ]
        }
      ],
      "source": [
        "knn = KNeighborsRegressor()\n",
        "knn.fit(x_train,y_train)\n",
        "pred = knn.predict(x_test)\n",
        "print(\"r2 score: \\t\", r2_score(y_test,pred)*100)\n",
        "print(\"Mean Square Error : \\t\", mean_squared_error(y_test,pred))\n",
        "print(\"Root Mean Square Error : \\t\", np.sqrt(mean_squared_error(y_test,pred)))"
      ]
    },
    {
      "cell_type": "markdown",
      "id": "876fa837",
      "metadata": {
        "id": "876fa837"
      },
      "source": [
        "SUPPORT VECTOR MACHINES"
      ]
    },
    {
      "cell_type": "code",
      "execution_count": null,
      "id": "502c0503",
      "metadata": {
        "id": "502c0503",
        "outputId": "95b4625d-4576-4de2-adc2-46fef2651fbe"
      },
      "outputs": [
        {
          "name": "stdout",
          "output_type": "stream",
          "text": [
            "r2 score: \t 79.9102479490455\n",
            "Mean Square Error : \t 0.03402081519763524\n",
            "Root Mean Square Error : \t 0.1844473236391226\n"
          ]
        }
      ],
      "source": [
        "svr = SVR()\n",
        "svr.fit(x_train,y_train)\n",
        "pred = svr.predict(x_test)\n",
        "print(\"r2 score: \\t\", r2_score(y_test,pred)*100)\n",
        "print(\"Mean Square Error : \\t\", mean_squared_error(y_test,pred))\n",
        "print(\"Root Mean Square Error : \\t\", np.sqrt(mean_squared_error(y_test,pred)))"
      ]
    },
    {
      "cell_type": "markdown",
      "id": "099dbdb0",
      "metadata": {
        "id": "099dbdb0"
      },
      "source": [
        "Random Forest Regressor"
      ]
    },
    {
      "cell_type": "code",
      "execution_count": null,
      "id": "2edc58bc",
      "metadata": {
        "id": "2edc58bc",
        "outputId": "0110fddd-631e-4726-cd2b-30c39cbe8e85"
      },
      "outputs": [
        {
          "name": "stdout",
          "output_type": "stream",
          "text": [
            "r2 score: \t 89.85101818219673\n",
            "Mean Square Error : \t 0.017186704643835614\n",
            "Root Mean Square Error : \t 0.13109807261678416\n"
          ]
        }
      ],
      "source": [
        "rf = RandomForestRegressor()\n",
        "rf.fit(x_train,y_train)\n",
        "pred = rf.predict(x_test)\n",
        "print(\"r2 score: \\t\", r2_score(y_test,pred)*100)\n",
        "print(\"Mean Square Error : \\t\", mean_squared_error(y_test,pred))\n",
        "print(\"Root Mean Square Error : \\t\", np.sqrt(mean_squared_error(y_test,pred)))"
      ]
    },
    {
      "cell_type": "markdown",
      "id": "c2df208e",
      "metadata": {
        "id": "c2df208e"
      },
      "source": [
        "Decision Tree Regressor"
      ]
    },
    {
      "cell_type": "code",
      "execution_count": null,
      "id": "6af45968",
      "metadata": {
        "id": "6af45968",
        "outputId": "5be17ffe-524c-4afc-cdb2-16dc4239d8ca"
      },
      "outputs": [
        {
          "name": "stdout",
          "output_type": "stream",
          "text": [
            "r2 score: \t 78.55301736506958\n",
            "Mean Square Error : \t 0.036319205479452055\n",
            "Root Mean Square Error : \t 0.1905759834802173\n"
          ]
        }
      ],
      "source": [
        "dt = DecisionTreeRegressor()\n",
        "dt.fit(x_train,y_train)\n",
        "pred = dt.predict(x_test)\n",
        "print(\"r2 score: \\t\", r2_score(y_test,pred)*100)\n",
        "print(\"Mean Square Error : \\t\", mean_squared_error(y_test,pred))\n",
        "print(\"Root Mean Square Error : \\t\", np.sqrt(mean_squared_error(y_test,pred)))"
      ]
    },
    {
      "cell_type": "markdown",
      "id": "32ee0681",
      "metadata": {
        "id": "32ee0681"
      },
      "source": [
        "Out of all the models Random Forest Regressor and the KNN model has the highest r2_score"
      ]
    },
    {
      "cell_type": "markdown",
      "id": "27794005",
      "metadata": {
        "id": "27794005"
      },
      "source": [
        "## Cross validation"
      ]
    },
    {
      "cell_type": "code",
      "execution_count": null,
      "id": "eb3fabe4",
      "metadata": {
        "id": "eb3fabe4",
        "outputId": "c27e5754-041e-41f5-dd5d-fde98e59a40f"
      },
      "outputs": [
        {
          "name": "stdout",
          "output_type": "stream",
          "text": [
            "Cross validation score of Linear Regression is: \t 0.21062791988368312\n"
          ]
        }
      ],
      "source": [
        "scr1 = cross_val_score(lr, x1, y1, cv=5, scoring='r2')\n",
        "print(\"Cross validation score of Linear Regression is: \\t\", scr1.mean())"
      ]
    },
    {
      "cell_type": "code",
      "execution_count": null,
      "id": "1085e82b",
      "metadata": {
        "id": "1085e82b",
        "outputId": "de23e7e1-993f-4c88-80d6-d6ecab75b21e"
      },
      "outputs": [
        {
          "name": "stdout",
          "output_type": "stream",
          "text": [
            "Cross validation score of Ridge Regression is: \t 0.21071472321299875\n"
          ]
        }
      ],
      "source": [
        "scr2 = cross_val_score(rr, x1, y1, cv=5, scoring='r2')\n",
        "print(\"Cross validation score of Ridge Regression is: \\t\", scr2.mean())"
      ]
    },
    {
      "cell_type": "code",
      "execution_count": null,
      "id": "d2600fa7",
      "metadata": {
        "id": "d2600fa7",
        "outputId": "c4495516-ab26-42ce-dc36-1a963ac38e02"
      },
      "outputs": [
        {
          "name": "stdout",
          "output_type": "stream",
          "text": [
            "Cross validation score of Decision Tree Regressor is: \t -0.34611036368917986\n"
          ]
        }
      ],
      "source": [
        "scr3 = cross_val_score(dt, x1, y1, cv=5)\n",
        "print(\"Cross validation score of Decision Tree Regressor is: \\t\", scr3.mean())"
      ]
    },
    {
      "cell_type": "code",
      "execution_count": null,
      "id": "c06935bd",
      "metadata": {
        "id": "c06935bd",
        "outputId": "44b64ecc-8b22-4150-eaa3-c92582953073"
      },
      "outputs": [
        {
          "name": "stdout",
          "output_type": "stream",
          "text": [
            "Cross validation score of Random Forest Regressor is: \t 0.20412409738117146\n"
          ]
        }
      ],
      "source": [
        "scr4 = cross_val_score(rf, x1, y1, cv=5)\n",
        "print(\"Cross validation score of Random Forest Regressor is: \\t\", scr4.mean())"
      ]
    },
    {
      "cell_type": "code",
      "execution_count": null,
      "id": "35b933cf",
      "metadata": {
        "id": "35b933cf",
        "outputId": "92ce47c5-348e-4d83-cd6b-767b38dfbe0b"
      },
      "outputs": [
        {
          "name": "stdout",
          "output_type": "stream",
          "text": [
            "Cross validation score of KNeighbour Regressor is: \t 0.0590705556254187\n"
          ]
        }
      ],
      "source": [
        "scr5 = cross_val_score(knn, x1, y1, cv=5)\n",
        "print(\"Cross validation score of KNeighbour Regressor is: \\t\", scr5.mean())"
      ]
    },
    {
      "cell_type": "code",
      "execution_count": null,
      "id": "b8b18750",
      "metadata": {
        "id": "b8b18750",
        "outputId": "098c49fa-59ea-4d32-9621-ed8afa17a18e"
      },
      "outputs": [
        {
          "name": "stdout",
          "output_type": "stream",
          "text": [
            "Cross validation score of SVM is: \t 0.09019415873505536\n"
          ]
        }
      ],
      "source": [
        "scr6 = cross_val_score(svr, x1, y1, cv=5)\n",
        "print(\"Cross validation score of SVM is: \\t\", scr6.mean())"
      ]
    },
    {
      "cell_type": "markdown",
      "id": "ec59524c",
      "metadata": {
        "id": "ec59524c"
      },
      "source": [
        "## Hyper Parameter Tuning"
      ]
    },
    {
      "cell_type": "code",
      "execution_count": null,
      "id": "bee6f449",
      "metadata": {
        "id": "bee6f449",
        "outputId": "423d4dd1-eca1-4499-c4f7-4c06be9f48cb"
      },
      "outputs": [
        {
          "data": {
            "text/plain": [
              "{'bootstrap': True,\n",
              " 'ccp_alpha': 0.0,\n",
              " 'criterion': 'mse',\n",
              " 'max_depth': None,\n",
              " 'max_features': 'auto',\n",
              " 'max_leaf_nodes': None,\n",
              " 'max_samples': None,\n",
              " 'min_impurity_decrease': 0.0,\n",
              " 'min_impurity_split': None,\n",
              " 'min_samples_leaf': 1,\n",
              " 'min_samples_split': 2,\n",
              " 'min_weight_fraction_leaf': 0.0,\n",
              " 'n_estimators': 100,\n",
              " 'n_jobs': None,\n",
              " 'oob_score': False,\n",
              " 'random_state': None,\n",
              " 'verbose': 0,\n",
              " 'warm_start': False}"
            ]
          },
          "execution_count": 86,
          "metadata": {},
          "output_type": "execute_result"
        }
      ],
      "source": [
        "GridSearchCV.get_params(rf)"
      ]
    },
    {
      "cell_type": "code",
      "execution_count": null,
      "id": "69b40f26",
      "metadata": {
        "id": "69b40f26"
      },
      "outputs": [],
      "source": [
        "parameters = {'bootstrap': [True,False],\n",
        "              'max_depth': [10, 20, 30, 40, None],\n",
        "              'max_features': ('auto','sqrt'),\n",
        "              'min_samples_leaf': [1,2,4,8],\n",
        "              'min_samples_split': [2,5,10],\n",
        "              'n_estimators': [100,200,300,500]}"
      ]
    },
    {
      "cell_type": "code",
      "execution_count": null,
      "id": "623cc4c3",
      "metadata": {
        "id": "623cc4c3"
      },
      "outputs": [],
      "source": [
        "gcv = GridSearchCV(rf, parameters, cv=5, scoring='r2')"
      ]
    },
    {
      "cell_type": "code",
      "execution_count": null,
      "id": "f3b4750e",
      "metadata": {
        "id": "f3b4750e",
        "outputId": "e5620401-45b6-48dd-e661-0d9559700b73"
      },
      "outputs": [
        {
          "data": {
            "text/plain": [
              "GridSearchCV(cv=5, estimator=RandomForestRegressor(),\n",
              "             param_grid={'bootstrap': [True,False], 'max_depth': [10, 20, 30, 40, None],\n",
              "                         'max_features': ('auto', 'sqrt'),\n",
              "                         'min_samples_leaf': [1,2,4,8], 'min_samples_split': [2,5,10],\n",
              "                         'n_estimators': [100,200,300,500]},\n",
              "             scoring='r2')"
            ]
          },
          "execution_count": 89,
          "metadata": {},
          "output_type": "execute_result"
        }
      ],
      "source": [
        "gcv.fit(x_train,y_train)"
      ]
    },
    {
      "cell_type": "code",
      "execution_count": null,
      "id": "d68d6f03",
      "metadata": {
        "id": "d68d6f03",
        "outputId": "dae579ff-5cf4-449d-bca6-fc62708c412e"
      },
      "outputs": [
        {
          "name": "stdout",
          "output_type": "stream",
          "text": [
            "Tuned Hyperparameters : {'bootstrap': True, 'max_depth': None, 'max_features': 'auto', 'min_samples_leaf': 1, 'min_samples_split': 2, 'n_estimators': 100}\n",
            "Accuracy : 0.8778575137359145\n"
          ]
        }
      ],
      "source": [
        "print(\"Tuned Hyperparameters :\", gcv.best_params_)\n",
        "print(\"Accuracy :\",gcv.best_score_)"
      ]
    },
    {
      "cell_type": "code",
      "execution_count": null,
      "id": "20fba39d",
      "metadata": {
        "id": "20fba39d",
        "outputId": "01d5564f-dee3-45a9-a096-f0e0a508077a"
      },
      "outputs": [
        {
          "data": {
            "text/plain": [
              "0.8986701190817927"
            ]
          },
          "execution_count": 91,
          "metadata": {},
          "output_type": "execute_result"
        }
      ],
      "source": [
        "gcv_pred = gcv.best_estimator_.predict(x_test)\n",
        "r2_score(y_test,gcv_pred)"
      ]
    },
    {
      "cell_type": "markdown",
      "id": "fadac7b5",
      "metadata": {
        "id": "fadac7b5"
      },
      "source": [
        "The best estimator gives the accuracy of 89.86% and hence we shall save this model."
      ]
    },
    {
      "cell_type": "markdown",
      "id": "dd74a900",
      "metadata": {
        "id": "dd74a900"
      },
      "source": [
        "## Saving the best model"
      ]
    },
    {
      "cell_type": "code",
      "execution_count": null,
      "id": "3e13806c",
      "metadata": {
        "id": "3e13806c",
        "outputId": "d940acc0-2010-4fd0-9281-7f461d4755b3"
      },
      "outputs": [
        {
          "data": {
            "text/plain": [
              "['avo_price.pkl']"
            ]
          },
          "execution_count": 92,
          "metadata": {},
          "output_type": "execute_result"
        }
      ],
      "source": [
        "joblib.dump(gcv.best_estimator_,\"avo_price.pkl\")"
      ]
    },
    {
      "cell_type": "markdown",
      "id": "aee0588b",
      "metadata": {
        "id": "aee0588b"
      },
      "source": [
        "# Prediction for Region"
      ]
    },
    {
      "cell_type": "markdown",
      "id": "8ecb099d",
      "metadata": {
        "id": "8ecb099d"
      },
      "source": [
        "## Best Random State"
      ]
    },
    {
      "cell_type": "code",
      "execution_count": null,
      "id": "cd788af9",
      "metadata": {
        "id": "cd788af9",
        "outputId": "a60c4df9-9b8a-431c-c23d-474cb6109796"
      },
      "outputs": [
        {
          "name": "stdout",
          "output_type": "stream",
          "text": [
            "Max accuracy: \t 0.5671232876712329\n",
            "Random State: \t 85\n"
          ]
        }
      ],
      "source": [
        "maxRS = 0\n",
        "maxAcc = 0\n",
        "for i in range(40,100):\n",
        "    x_train, x_test, y_train, y_test = train_test_split(x2, y2, test_size=0.20, random_state=i)\n",
        "    lr2 = LogisticRegression()\n",
        "    lr2.fit(x_train,y_train)\n",
        "    pred = lr2.predict(x_test)\n",
        "    acc = accuracy_score(y_test, pred)\n",
        "    if acc>maxAcc:\n",
        "        maxAcc = acc\n",
        "        maxRS = i\n",
        "print(\"Max accuracy: \\t\", maxAcc)\n",
        "print(\"Random State: \\t\", maxRS)"
      ]
    },
    {
      "cell_type": "markdown",
      "id": "73220961",
      "metadata": {
        "id": "73220961"
      },
      "source": [
        "Now since we got the best random state for data modelling, we create the test train models"
      ]
    },
    {
      "cell_type": "code",
      "execution_count": null,
      "id": "9bb43199",
      "metadata": {
        "id": "9bb43199"
      },
      "outputs": [],
      "source": [
        "x_train, x_test, y_train, y_test = train_test_split(x2, y2, test_size=0.20, random_state=maxRS)"
      ]
    },
    {
      "cell_type": "markdown",
      "id": "ef35abb0",
      "metadata": {
        "id": "ef35abb0"
      },
      "source": [
        "## Model Predictions"
      ]
    },
    {
      "cell_type": "markdown",
      "id": "be26990c",
      "metadata": {
        "id": "be26990c"
      },
      "source": [
        "Logistic Regression"
      ]
    },
    {
      "cell_type": "code",
      "execution_count": null,
      "id": "5e098e9f",
      "metadata": {
        "id": "5e098e9f",
        "outputId": "5968fd8d-76f7-41b5-a99d-88551f245831"
      },
      "outputs": [
        {
          "name": "stdout",
          "output_type": "stream",
          "text": [
            "Accuracy: \t 56.71232876712329\n",
            "[[49  0  0 ...  0  0  0]\n",
            " [ 0 29  0 ...  0  0  0]\n",
            " [ 0  0 32 ...  0  0  4]\n",
            " ...\n",
            " [ 0  0  0 ... 71  0  0]\n",
            " [ 0  0  0 ...  0 67  0]\n",
            " [ 0  2  1 ...  0  0 18]]\n",
            "              precision    recall  f1-score   support\n",
            "\n",
            "         0.0       0.71      0.67      0.69        73\n",
            "         1.0       0.31      0.38      0.34        76\n",
            "         2.0       0.74      0.54      0.63        59\n",
            "         3.0       0.48      0.43      0.46        60\n",
            "         4.0       0.66      0.56      0.60        70\n",
            "         5.0       0.53      0.46      0.49        65\n",
            "         6.0       0.89      0.93      0.91        70\n",
            "         7.0       0.64      0.68      0.66        72\n",
            "         8.0       0.79      0.81      0.80        70\n",
            "         9.0       0.48      0.78      0.59        68\n",
            "        10.0       0.59      0.70      0.64        69\n",
            "        11.0       0.56      0.75      0.64        64\n",
            "        12.0       0.43      0.51      0.47        67\n",
            "        13.0       0.37      0.38      0.38        65\n",
            "        14.0       0.58      0.76      0.66        68\n",
            "        15.0       0.62      0.83      0.71        58\n",
            "        16.0       0.61      0.42      0.50        73\n",
            "        17.0       0.60      0.75      0.67        65\n",
            "        18.0       0.41      0.38      0.40        76\n",
            "        19.0       0.71      0.73      0.72        67\n",
            "        20.0       0.54      0.61      0.57        61\n",
            "        21.0       0.42      0.43      0.43        69\n",
            "        22.0       0.77      0.73      0.75        64\n",
            "        23.0       0.57      0.74      0.64        68\n",
            "        24.0       0.12      0.08      0.10        61\n",
            "        25.0       0.63      0.72      0.67        61\n",
            "        26.0       0.32      0.13      0.19        67\n",
            "        27.0       0.42      0.52      0.47        73\n",
            "        28.0       0.62      0.58      0.60        60\n",
            "        29.0       0.76      0.73      0.75        71\n",
            "        30.0       0.72      0.61      0.66        59\n",
            "        31.0       0.39      0.35      0.37        74\n",
            "        32.0       0.53      0.59      0.56        59\n",
            "        33.0       0.35      0.46      0.40        61\n",
            "        34.0       0.28      0.25      0.26        76\n",
            "        35.0       0.60      0.56      0.58        62\n",
            "        36.0       0.56      0.46      0.50        61\n",
            "        37.0       0.61      0.55      0.58        76\n",
            "        38.0       0.50      0.47      0.48        79\n",
            "        39.0       0.40      0.51      0.45        74\n",
            "        40.0       0.61      0.82      0.70        72\n",
            "        41.0       0.47      0.33      0.39        66\n",
            "        42.0       0.80      0.81      0.81        59\n",
            "        43.0       0.72      0.53      0.61        62\n",
            "        44.0       0.38      0.46      0.42        65\n",
            "        45.0       0.82      0.89      0.85        72\n",
            "        46.0       0.73      0.64      0.68        58\n",
            "        47.0       0.67      0.59      0.62        75\n",
            "        48.0       0.29      0.14      0.19        69\n",
            "        49.0       0.62      0.69      0.65        70\n",
            "        50.0       0.16      0.10      0.12        62\n",
            "        51.0       1.00      1.00      1.00        71\n",
            "        52.0       0.91      0.91      0.91        74\n",
            "        53.0       0.33      0.21      0.26        84\n",
            "\n",
            "    accuracy                           0.57      3650\n",
            "   macro avg       0.56      0.57      0.56      3650\n",
            "weighted avg       0.56      0.57      0.56      3650\n",
            "\n"
          ]
        }
      ],
      "source": [
        "lr2 = LogisticRegression()\n",
        "lr2.fit(x_train,y_train)\n",
        "pred = lr2.predict(x_test)\n",
        "print(\"Accuracy: \\t\", accuracy_score(y_test,pred)*100)\n",
        "print(confusion_matrix(y_test,pred))\n",
        "print(classification_report(y_test,pred))"
      ]
    },
    {
      "cell_type": "markdown",
      "id": "50039ecb",
      "metadata": {
        "id": "50039ecb"
      },
      "source": [
        "K-Nearest Neighbors"
      ]
    },
    {
      "cell_type": "code",
      "execution_count": null,
      "id": "d2b6bc06",
      "metadata": {
        "id": "d2b6bc06",
        "outputId": "5c944d27-a0e1-42d6-a3d2-d69da5885c4f"
      },
      "outputs": [
        {
          "name": "stdout",
          "output_type": "stream",
          "text": [
            "Accuracy: \t 65.01369863013699\n",
            "[[67  0  0 ...  0  0  0]\n",
            " [ 0 44  0 ...  0  0  0]\n",
            " [ 0  0 51 ...  0  0  0]\n",
            " ...\n",
            " [ 0  0  0 ... 71  0  0]\n",
            " [ 0  0  0 ...  0 61  0]\n",
            " [ 0  5  1 ...  0  0 32]]\n",
            "              precision    recall  f1-score   support\n",
            "\n",
            "         0.0       0.65      0.92      0.76        73\n",
            "         1.0       0.44      0.58      0.50        76\n",
            "         2.0       0.65      0.86      0.74        59\n",
            "         3.0       0.67      0.73      0.70        60\n",
            "         4.0       0.71      0.83      0.76        70\n",
            "         5.0       0.58      0.60      0.59        65\n",
            "         6.0       0.73      0.87      0.79        70\n",
            "         7.0       0.48      0.75      0.59        72\n",
            "         8.0       0.84      0.83      0.83        70\n",
            "         9.0       0.44      0.60      0.51        68\n",
            "        10.0       0.36      0.52      0.43        69\n",
            "        11.0       0.64      0.81      0.72        64\n",
            "        12.0       0.87      0.81      0.84        67\n",
            "        13.0       0.55      0.51      0.53        65\n",
            "        14.0       0.79      0.81      0.80        68\n",
            "        15.0       0.79      0.91      0.85        58\n",
            "        16.0       0.73      0.74      0.73        73\n",
            "        17.0       0.73      0.63      0.68        65\n",
            "        18.0       0.64      0.67      0.65        76\n",
            "        19.0       0.52      0.54      0.53        67\n",
            "        20.0       0.70      0.62      0.66        61\n",
            "        21.0       0.44      0.49      0.47        69\n",
            "        22.0       0.85      0.83      0.84        64\n",
            "        23.0       0.82      0.72      0.77        68\n",
            "        24.0       0.30      0.28      0.29        61\n",
            "        25.0       0.67      0.80      0.73        61\n",
            "        26.0       0.48      0.45      0.46        67\n",
            "        27.0       0.69      0.59      0.64        73\n",
            "        28.0       0.86      0.82      0.84        60\n",
            "        29.0       0.97      0.82      0.89        71\n",
            "        30.0       0.82      0.68      0.74        59\n",
            "        31.0       0.32      0.31      0.31        74\n",
            "        32.0       0.79      0.63      0.70        59\n",
            "        33.0       0.38      0.48      0.42        61\n",
            "        34.0       0.85      0.76      0.81        76\n",
            "        35.0       0.78      0.81      0.79        62\n",
            "        36.0       0.73      0.61      0.66        61\n",
            "        37.0       0.45      0.45      0.45        76\n",
            "        38.0       0.55      0.43      0.48        79\n",
            "        39.0       0.61      0.50      0.55        74\n",
            "        40.0       0.72      0.81      0.76        72\n",
            "        41.0       0.66      0.44      0.53        66\n",
            "        42.0       0.80      0.69      0.75        59\n",
            "        43.0       0.68      0.63      0.66        62\n",
            "        44.0       0.58      0.46      0.51        65\n",
            "        45.0       0.86      0.85      0.85        72\n",
            "        46.0       0.90      0.78      0.83        58\n",
            "        47.0       0.74      0.60      0.66        75\n",
            "        48.0       0.79      0.55      0.65        69\n",
            "        49.0       0.67      0.50      0.57        70\n",
            "        50.0       0.11      0.11      0.11        62\n",
            "        51.0       1.00      1.00      1.00        71\n",
            "        52.0       0.94      0.82      0.88        74\n",
            "        53.0       0.53      0.38      0.44        84\n",
            "\n",
            "    accuracy                           0.65      3650\n",
            "   macro avg       0.66      0.65      0.65      3650\n",
            "weighted avg       0.66      0.65      0.65      3650\n",
            "\n"
          ]
        }
      ],
      "source": [
        "knn2 = KNeighborsClassifier()\n",
        "knn2.fit(x_train, y_train)\n",
        "pred = knn2.predict(x_test)\n",
        "print(\"Accuracy: \\t\", accuracy_score(y_test,pred)*100)\n",
        "print(confusion_matrix(y_test,pred))\n",
        "print(classification_report(y_test,pred))"
      ]
    },
    {
      "cell_type": "markdown",
      "id": "c210ee55",
      "metadata": {
        "id": "c210ee55"
      },
      "source": [
        "Support Vector Classifier"
      ]
    },
    {
      "cell_type": "code",
      "execution_count": null,
      "id": "175d6a6f",
      "metadata": {
        "id": "175d6a6f",
        "outputId": "3aead38f-0591-441e-f7a3-e93abb718590"
      },
      "outputs": [
        {
          "name": "stdout",
          "output_type": "stream",
          "text": [
            "Accuracy: \t 79.67123287671232\n",
            "[[66  0  0 ...  0  0  0]\n",
            " [ 0 46  0 ...  0  0  0]\n",
            " [ 0  0 59 ...  0  0  0]\n",
            " ...\n",
            " [ 0  0  0 ... 71  0  0]\n",
            " [ 0  0  0 ...  0 71  0]\n",
            " [ 0  2  1 ...  0  0 61]]\n",
            "              precision    recall  f1-score   support\n",
            "\n",
            "         0.0       0.74      0.90      0.81        73\n",
            "         1.0       0.62      0.61      0.61        76\n",
            "         2.0       0.94      1.00      0.97        59\n",
            "         3.0       0.70      0.70      0.70        60\n",
            "         4.0       0.91      0.86      0.88        70\n",
            "         5.0       0.88      0.69      0.78        65\n",
            "         6.0       0.95      0.99      0.97        70\n",
            "         7.0       0.79      0.75      0.77        72\n",
            "         8.0       0.97      1.00      0.99        70\n",
            "         9.0       0.71      0.82      0.76        68\n",
            "        10.0       0.58      0.83      0.68        69\n",
            "        11.0       0.82      0.94      0.88        64\n",
            "        12.0       0.88      0.91      0.90        67\n",
            "        13.0       0.65      0.63      0.64        65\n",
            "        14.0       0.82      0.94      0.88        68\n",
            "        15.0       0.92      0.97      0.94        58\n",
            "        16.0       1.00      0.92      0.96        73\n",
            "        17.0       0.88      0.89      0.89        65\n",
            "        18.0       0.82      0.82      0.82        76\n",
            "        19.0       0.78      0.79      0.79        67\n",
            "        20.0       0.94      0.79      0.86        61\n",
            "        21.0       0.53      0.51      0.52        69\n",
            "        22.0       0.98      0.98      0.98        64\n",
            "        23.0       0.74      0.71      0.72        68\n",
            "        24.0       0.61      0.64      0.62        61\n",
            "        25.0       0.93      0.90      0.92        61\n",
            "        26.0       0.80      0.48      0.60        67\n",
            "        27.0       0.74      0.73      0.73        73\n",
            "        28.0       0.97      0.95      0.96        60\n",
            "        29.0       0.97      0.97      0.97        71\n",
            "        30.0       0.88      0.78      0.83        59\n",
            "        31.0       0.57      0.38      0.46        74\n",
            "        32.0       0.87      0.81      0.84        59\n",
            "        33.0       0.56      0.72      0.63        61\n",
            "        34.0       0.72      0.75      0.74        76\n",
            "        35.0       0.90      0.97      0.93        62\n",
            "        36.0       0.85      0.92      0.88        61\n",
            "        37.0       0.64      0.78      0.70        76\n",
            "        38.0       0.72      0.61      0.66        79\n",
            "        39.0       0.75      0.86      0.81        74\n",
            "        40.0       0.78      0.94      0.86        72\n",
            "        41.0       0.77      0.65      0.70        66\n",
            "        42.0       0.93      0.95      0.94        59\n",
            "        43.0       0.96      0.73      0.83        62\n",
            "        44.0       0.63      0.65      0.64        65\n",
            "        45.0       0.90      0.92      0.91        72\n",
            "        46.0       0.96      0.91      0.94        58\n",
            "        47.0       0.77      0.72      0.74        75\n",
            "        48.0       0.73      0.59      0.66        69\n",
            "        49.0       0.86      0.86      0.86        70\n",
            "        50.0       0.30      0.35      0.32        62\n",
            "        51.0       1.00      1.00      1.00        71\n",
            "        52.0       0.99      0.96      0.97        74\n",
            "        53.0       0.79      0.73      0.76        84\n",
            "\n",
            "    accuracy                           0.80      3650\n",
            "   macro avg       0.80      0.80      0.80      3650\n",
            "weighted avg       0.80      0.80      0.80      3650\n",
            "\n"
          ]
        }
      ],
      "source": [
        "svc2 = SVC()\n",
        "svc2.fit(x_train, y_train)\n",
        "pred = svc2.predict(x_test)\n",
        "print(\"Accuracy: \\t\", accuracy_score(y_test,pred)*100)\n",
        "print(confusion_matrix(y_test,pred))\n",
        "print(classification_report(y_test,pred))"
      ]
    },
    {
      "cell_type": "markdown",
      "id": "891f279d",
      "metadata": {
        "id": "891f279d"
      },
      "source": [
        "Decision Tree Classifier"
      ]
    },
    {
      "cell_type": "code",
      "execution_count": null,
      "id": "7cc30b15",
      "metadata": {
        "id": "7cc30b15",
        "outputId": "fabbe967-be1f-477c-dc04-871c3cd26c51"
      },
      "outputs": [
        {
          "name": "stdout",
          "output_type": "stream",
          "text": [
            "Accuracy: \t 80.57534246575344\n",
            "[[58  0  0 ...  0  0  0]\n",
            " [ 0 61  0 ...  0  0  1]\n",
            " [ 0  0 54 ...  0  0  0]\n",
            " ...\n",
            " [ 0  0  0 ... 71  0  0]\n",
            " [ 0  0  0 ...  1 68  0]\n",
            " [ 0  0  1 ...  0  0 64]]\n",
            "              precision    recall  f1-score   support\n",
            "\n",
            "         0.0       0.77      0.79      0.78        73\n",
            "         1.0       0.71      0.80      0.75        76\n",
            "         2.0       0.93      0.92      0.92        59\n",
            "         3.0       0.72      0.80      0.76        60\n",
            "         4.0       0.84      0.87      0.85        70\n",
            "         5.0       0.75      0.74      0.74        65\n",
            "         6.0       0.93      0.96      0.94        70\n",
            "         7.0       0.73      0.76      0.75        72\n",
            "         8.0       0.97      0.93      0.95        70\n",
            "         9.0       0.76      0.85      0.81        68\n",
            "        10.0       0.70      0.78      0.74        69\n",
            "        11.0       0.85      0.89      0.87        64\n",
            "        12.0       0.81      0.84      0.82        67\n",
            "        13.0       0.75      0.68      0.71        65\n",
            "        14.0       0.88      0.78      0.83        68\n",
            "        15.0       0.95      0.97      0.96        58\n",
            "        16.0       0.85      0.88      0.86        73\n",
            "        17.0       0.80      0.80      0.80        65\n",
            "        18.0       0.87      0.80      0.84        76\n",
            "        19.0       0.84      0.84      0.84        67\n",
            "        20.0       0.87      0.85      0.86        61\n",
            "        21.0       0.64      0.64      0.64        69\n",
            "        22.0       0.94      0.94      0.94        64\n",
            "        23.0       0.74      0.81      0.77        68\n",
            "        24.0       0.60      0.64      0.62        61\n",
            "        25.0       0.92      0.92      0.92        61\n",
            "        26.0       0.71      0.66      0.68        67\n",
            "        27.0       0.78      0.84      0.81        73\n",
            "        28.0       0.93      0.85      0.89        60\n",
            "        29.0       0.87      0.97      0.92        71\n",
            "        30.0       0.84      0.86      0.85        59\n",
            "        31.0       0.73      0.66      0.70        74\n",
            "        32.0       0.80      0.63      0.70        59\n",
            "        33.0       0.66      0.70      0.68        61\n",
            "        34.0       0.81      0.76      0.78        76\n",
            "        35.0       0.86      0.89      0.87        62\n",
            "        36.0       0.76      0.72      0.74        61\n",
            "        37.0       0.75      0.78      0.76        76\n",
            "        38.0       0.82      0.76      0.79        79\n",
            "        39.0       0.83      0.81      0.82        74\n",
            "        40.0       0.90      0.85      0.87        72\n",
            "        41.0       0.77      0.80      0.79        66\n",
            "        42.0       0.98      0.90      0.94        59\n",
            "        43.0       0.71      0.81      0.76        62\n",
            "        44.0       0.79      0.77      0.78        65\n",
            "        45.0       0.88      0.83      0.86        72\n",
            "        46.0       0.88      0.91      0.90        58\n",
            "        47.0       0.76      0.75      0.75        75\n",
            "        48.0       0.71      0.65      0.68        69\n",
            "        49.0       0.81      0.79      0.80        70\n",
            "        50.0       0.49      0.44      0.46        62\n",
            "        51.0       0.99      1.00      0.99        71\n",
            "        52.0       0.94      0.92      0.93        74\n",
            "        53.0       0.72      0.76      0.74        84\n",
            "\n",
            "    accuracy                           0.81      3650\n",
            "   macro avg       0.81      0.81      0.81      3650\n",
            "weighted avg       0.81      0.81      0.81      3650\n",
            "\n"
          ]
        }
      ],
      "source": [
        "dt2 = DecisionTreeClassifier()\n",
        "dt2.fit(x_train,y_train)\n",
        "pred = dt2.predict(x_test)\n",
        "print(\"Accuracy: \\t\", accuracy_score(y_test,pred)*100)\n",
        "print(confusion_matrix(y_test,pred))\n",
        "print(classification_report(y_test,pred))"
      ]
    },
    {
      "cell_type": "markdown",
      "id": "d7660fc1",
      "metadata": {
        "id": "d7660fc1"
      },
      "source": [
        "Random Forest Classifier"
      ]
    },
    {
      "cell_type": "code",
      "execution_count": null,
      "id": "29a921f5",
      "metadata": {
        "id": "29a921f5",
        "outputId": "2d96608a-dd83-42f2-c950-c1512ec3fab9"
      },
      "outputs": [
        {
          "name": "stdout",
          "output_type": "stream",
          "text": [
            "Accuracy: \t 91.04109589041096\n",
            "[[70  0  0 ...  0  0  0]\n",
            " [ 0 68  0 ...  0  0  0]\n",
            " [ 0  0 58 ...  0  0  0]\n",
            " ...\n",
            " [ 0  0  0 ... 71  0  0]\n",
            " [ 0  0  0 ...  1 73  0]\n",
            " [ 0  0  1 ...  0  0 71]]\n",
            "              precision    recall  f1-score   support\n",
            "\n",
            "         0.0       0.88      0.96      0.92        73\n",
            "         1.0       0.83      0.89      0.86        76\n",
            "         2.0       0.95      0.98      0.97        59\n",
            "         3.0       0.88      0.85      0.86        60\n",
            "         4.0       0.97      0.96      0.96        70\n",
            "         5.0       0.93      0.78      0.85        65\n",
            "         6.0       0.96      0.99      0.97        70\n",
            "         7.0       0.89      0.93      0.91        72\n",
            "         8.0       0.99      1.00      0.99        70\n",
            "         9.0       0.89      0.94      0.91        68\n",
            "        10.0       0.82      0.88      0.85        69\n",
            "        11.0       0.89      0.98      0.93        64\n",
            "        12.0       0.96      0.97      0.96        67\n",
            "        13.0       0.88      0.78      0.83        65\n",
            "        14.0       0.96      0.96      0.96        68\n",
            "        15.0       0.95      0.97      0.96        58\n",
            "        16.0       1.00      0.97      0.99        73\n",
            "        17.0       0.91      0.92      0.92        65\n",
            "        18.0       0.92      0.89      0.91        76\n",
            "        19.0       0.91      0.93      0.92        67\n",
            "        20.0       0.97      0.95      0.96        61\n",
            "        21.0       0.82      0.78      0.80        69\n",
            "        22.0       0.97      1.00      0.98        64\n",
            "        23.0       0.90      0.90      0.90        68\n",
            "        24.0       0.72      0.79      0.75        61\n",
            "        25.0       0.97      1.00      0.98        61\n",
            "        26.0       0.88      0.78      0.83        67\n",
            "        27.0       0.92      0.93      0.93        73\n",
            "        28.0       0.92      0.97      0.94        60\n",
            "        29.0       0.99      0.97      0.98        71\n",
            "        30.0       0.97      0.95      0.96        59\n",
            "        31.0       0.79      0.72      0.75        74\n",
            "        32.0       0.85      0.86      0.86        59\n",
            "        33.0       0.87      0.87      0.87        61\n",
            "        34.0       0.96      0.95      0.95        76\n",
            "        35.0       0.97      0.95      0.96        62\n",
            "        36.0       0.85      0.87      0.86        61\n",
            "        37.0       0.90      0.91      0.90        76\n",
            "        38.0       0.96      0.85      0.90        79\n",
            "        39.0       0.91      0.96      0.93        74\n",
            "        40.0       0.88      0.92      0.90        72\n",
            "        41.0       0.94      0.92      0.93        66\n",
            "        42.0       0.98      0.98      0.98        59\n",
            "        43.0       0.90      0.89      0.89        62\n",
            "        44.0       0.88      0.94      0.91        65\n",
            "        45.0       0.99      0.99      0.99        72\n",
            "        46.0       0.98      0.97      0.97        58\n",
            "        47.0       0.85      0.92      0.88        75\n",
            "        48.0       0.88      0.77      0.82        69\n",
            "        49.0       0.89      0.90      0.89        70\n",
            "        50.0       0.68      0.66      0.67        62\n",
            "        51.0       0.99      1.00      0.99        71\n",
            "        52.0       0.99      0.99      0.99        74\n",
            "        53.0       0.92      0.85      0.88        84\n",
            "\n",
            "    accuracy                           0.91      3650\n",
            "   macro avg       0.91      0.91      0.91      3650\n",
            "weighted avg       0.91      0.91      0.91      3650\n",
            "\n"
          ]
        }
      ],
      "source": [
        "rf2 = RandomForestClassifier()\n",
        "rf2.fit(x_train,y_train)\n",
        "pred = rf2.predict(x_test)\n",
        "print(\"Accuracy: \\t\", accuracy_score(y_test,pred)*100)\n",
        "print(confusion_matrix(y_test,pred))\n",
        "print(classification_report(y_test,pred))"
      ]
    },
    {
      "cell_type": "markdown",
      "id": "d6aecbc0",
      "metadata": {
        "id": "d6aecbc0"
      },
      "source": [
        "We see that the Random Forest Classifier and the Decision Tree Classifier model gives the most efficiency"
      ]
    },
    {
      "cell_type": "markdown",
      "id": "60274c1c",
      "metadata": {
        "id": "60274c1c"
      },
      "source": [
        "## Cross Validation"
      ]
    },
    {
      "cell_type": "code",
      "execution_count": null,
      "id": "80e67929",
      "metadata": {
        "id": "80e67929",
        "outputId": "5a61f2e3-1ea5-424a-ed28-ad88ff61916c"
      },
      "outputs": [
        {
          "name": "stdout",
          "output_type": "stream",
          "text": [
            "Cross validation score of Logistic Regression is: \t 0.4133875972775428\n"
          ]
        }
      ],
      "source": [
        "scr1 = cross_val_score(lr2, x2, y2, cv=5)\n",
        "print(\"Cross validation score of Logistic Regression is: \\t\", scr1.mean())"
      ]
    },
    {
      "cell_type": "code",
      "execution_count": null,
      "id": "9bc61341",
      "metadata": {
        "id": "9bc61341",
        "outputId": "668b5191-0bb3-4184-e786-8d847912c860"
      },
      "outputs": [
        {
          "name": "stdout",
          "output_type": "stream",
          "text": [
            "Cross validation score of KNN is: \t 0.4331156368605398\n"
          ]
        }
      ],
      "source": [
        "scr2 = cross_val_score(knn2, x2, y2, cv=5)\n",
        "print(\"Cross validation score of KNN is: \\t\", scr2.mean())"
      ]
    },
    {
      "cell_type": "code",
      "execution_count": null,
      "id": "c9a9377a",
      "metadata": {
        "id": "c9a9377a",
        "outputId": "6cbea61b-7d8b-44bf-d56d-8fe4a3c45d62"
      },
      "outputs": [
        {
          "name": "stdout",
          "output_type": "stream",
          "text": [
            "Cross validation score of SVC is: \t 0.5975030576964228\n"
          ]
        }
      ],
      "source": [
        "scr3 = cross_val_score(svc2, x2, y2, cv=5)\n",
        "print(\"Cross validation score of SVC is: \\t\", scr3.mean())"
      ]
    },
    {
      "cell_type": "code",
      "execution_count": null,
      "id": "c4213ef4",
      "metadata": {
        "id": "c4213ef4",
        "outputId": "25402986-bfc7-4205-b4e9-c4685ac2bd7b"
      },
      "outputs": [
        {
          "name": "stdout",
          "output_type": "stream",
          "text": [
            "Cross validation score of Decision Tree is: \t 0.5501589701813596\n"
          ]
        }
      ],
      "source": [
        "scr4 = cross_val_score(dt2, x2, y2, cv=5)\n",
        "print(\"Cross validation score of Decision Tree is: \\t\", scr4.mean())"
      ]
    },
    {
      "cell_type": "code",
      "execution_count": null,
      "id": "30fb31e0",
      "metadata": {
        "id": "30fb31e0",
        "outputId": "7b0b7363-6f89-4907-c4be-c4c4c54999f2"
      },
      "outputs": [
        {
          "name": "stdout",
          "output_type": "stream",
          "text": [
            "Cross validation score of Random Forest is: \t 0.6787660045724668\n"
          ]
        }
      ],
      "source": [
        "scr5 = cross_val_score(rf2, x2, y2, cv=5)\n",
        "print(\"Cross validation score of Random Forest is: \\t\", scr5.mean())"
      ]
    },
    {
      "cell_type": "markdown",
      "id": "dd35f39f",
      "metadata": {
        "id": "dd35f39f"
      },
      "source": [
        "We can see that 'Random Forest' performs the best among others"
      ]
    },
    {
      "cell_type": "markdown",
      "id": "604a4205",
      "metadata": {
        "id": "604a4205"
      },
      "source": [
        "## Hyper Parameter Tuning"
      ]
    },
    {
      "cell_type": "code",
      "execution_count": null,
      "id": "9b2c7f6c",
      "metadata": {
        "id": "9b2c7f6c",
        "outputId": "63f099e7-ea0d-4cbd-c3c7-5dc869dbc32b"
      },
      "outputs": [
        {
          "data": {
            "text/plain": [
              "{'bootstrap': True,\n",
              " 'ccp_alpha': 0.0,\n",
              " 'class_weight': None,\n",
              " 'criterion': 'gini',\n",
              " 'max_depth': None,\n",
              " 'max_features': 'auto',\n",
              " 'max_leaf_nodes': None,\n",
              " 'max_samples': None,\n",
              " 'min_impurity_decrease': 0.0,\n",
              " 'min_impurity_split': None,\n",
              " 'min_samples_leaf': 1,\n",
              " 'min_samples_split': 2,\n",
              " 'min_weight_fraction_leaf': 0.0,\n",
              " 'n_estimators': 100,\n",
              " 'n_jobs': None,\n",
              " 'oob_score': False,\n",
              " 'random_state': None,\n",
              " 'verbose': 0,\n",
              " 'warm_start': False}"
            ]
          },
          "execution_count": 105,
          "metadata": {},
          "output_type": "execute_result"
        }
      ],
      "source": [
        "GridSearchCV.get_params(rf2)"
      ]
    },
    {
      "cell_type": "code",
      "execution_count": null,
      "id": "7c35751a",
      "metadata": {
        "id": "7c35751a"
      },
      "outputs": [],
      "source": [
        "parameters = {'bootstrap': [True, False],\n",
        "              'max_depth': [10, 20, 30, 40, None],\n",
        "              'max_features': ('auto','sqrt')\n",
        "              'min_samples_leaf': [1,2,4,8],\n",
        "              'min_samples_split': [2,3,5],\n",
        "              'n_estimators': [100,200,300,400,500]}"
      ]
    },
    {
      "cell_type": "code",
      "execution_count": null,
      "id": "5ee3c5de",
      "metadata": {
        "id": "5ee3c5de"
      },
      "outputs": [],
      "source": [
        "gcv2 = GridSearchCV(rf2, parameters, cv=5, scoring='accuracy')"
      ]
    },
    {
      "cell_type": "code",
      "execution_count": null,
      "id": "0a7f0650",
      "metadata": {
        "id": "0a7f0650",
        "outputId": "7e9a57c2-8642-488f-dfae-9f5b04185893"
      },
      "outputs": [
        {
          "data": {
            "text/plain": [
              "GridSearchCV(cv=5, estimator=RandomForestClassifier(),\n",
              "             param_grid={'bootstrap': [True, False], 'max_depth': [10, 20, 30, 40, None],\n",
              "                         'max_features': ('auto','sqrt'), 'min_samples_leaf': [1,2,4,8],\n",
              "                         'min_samples_split': [2,3,5],'n_estimators': [100,200,300,400,500]},\n",
              "             scoring='accuracy')"
            ]
          },
          "execution_count": 108,
          "metadata": {},
          "output_type": "execute_result"
        }
      ],
      "source": [
        "gcv2.fit(x_train,y_train)"
      ]
    },
    {
      "cell_type": "code",
      "execution_count": null,
      "id": "a286a1ae",
      "metadata": {
        "id": "a286a1ae",
        "outputId": "8758d23c-ad77-4834-c961-695cc9ad0a05"
      },
      "outputs": [
        {
          "data": {
            "text/plain": [
              "0.9032128895709264"
            ]
          },
          "execution_count": 109,
          "metadata": {},
          "output_type": "execute_result"
        }
      ],
      "source": [
        "gcv2.best_score_"
      ]
    },
    {
      "cell_type": "code",
      "execution_count": null,
      "id": "a2ee3cbd",
      "metadata": {
        "id": "a2ee3cbd",
        "outputId": "298e2a3e-3b89-4686-d328-6ea1694369f3"
      },
      "outputs": [
        {
          "data": {
            "text/plain": [
              "{'bootstrap': True,\n",
              " 'max_depth': None,\n",
              " 'min_samples_leaf': 1,\n",
              " 'min_samples_split': 2,\n",
              " 'n_estimators': 100}"
            ]
          },
          "execution_count": 110,
          "metadata": {},
          "output_type": "execute_result"
        }
      ],
      "source": [
        "gcv2.best_params_"
      ]
    },
    {
      "cell_type": "code",
      "execution_count": null,
      "id": "eed0e9a9",
      "metadata": {
        "id": "eed0e9a9"
      },
      "outputs": [],
      "source": [
        "RF2 = RandomForestClassifier(**gcv2.best_params_)"
      ]
    },
    {
      "cell_type": "code",
      "execution_count": null,
      "id": "2edcd17b",
      "metadata": {
        "id": "2edcd17b",
        "outputId": "1edc0861-3157-44b8-a135-1c6a14c53b91"
      },
      "outputs": [
        {
          "data": {
            "text/plain": [
              "RandomForestClassifier()"
            ]
          },
          "execution_count": 112,
          "metadata": {},
          "output_type": "execute_result"
        }
      ],
      "source": [
        "RF2.fit(x_train,y_train)"
      ]
    },
    {
      "cell_type": "code",
      "execution_count": null,
      "id": "744dd5e9",
      "metadata": {
        "id": "744dd5e9",
        "outputId": "f7e46404-4a7d-49b2-9e67-bf433529fed0"
      },
      "outputs": [
        {
          "data": {
            "text/plain": [
              "0.9090410958904109"
            ]
          },
          "execution_count": 113,
          "metadata": {},
          "output_type": "execute_result"
        }
      ],
      "source": [
        "pred = RF2.predict(x_test)\n",
        "accuracy_score(y_test,pred)"
      ]
    },
    {
      "cell_type": "code",
      "execution_count": null,
      "id": "4c4356ed",
      "metadata": {
        "id": "4c4356ed",
        "outputId": "94206c95-cb89-44d9-81bb-6687adc96b6c"
      },
      "outputs": [
        {
          "data": {
            "text/plain": [
              "0.9175342465753424"
            ]
          },
          "execution_count": 114,
          "metadata": {},
          "output_type": "execute_result"
        }
      ],
      "source": [
        "gcv_pred = gcv2.best_estimator_.predict(x_test)\n",
        "accuracy_score(y_test,gcv_pred)"
      ]
    },
    {
      "cell_type": "markdown",
      "id": "fb833eb0",
      "metadata": {
        "id": "fb833eb0"
      },
      "source": [
        "gcv best estimator gives the efficiency of 91.71% and we shall save this model"
      ]
    },
    {
      "cell_type": "markdown",
      "id": "4e696eb2",
      "metadata": {
        "id": "4e696eb2"
      },
      "source": [
        "## Saving the best model"
      ]
    },
    {
      "cell_type": "code",
      "execution_count": null,
      "id": "f3f36d29",
      "metadata": {
        "id": "f3f36d29",
        "outputId": "20dd6feb-b4eb-4cf3-e9f4-8741b01e0d38"
      },
      "outputs": [
        {
          "data": {
            "text/plain": [
              "['avo_range.pkl']"
            ]
          },
          "execution_count": 115,
          "metadata": {},
          "output_type": "execute_result"
        }
      ],
      "source": [
        "joblib.dump(gcv2.best_estimator_,\"avo_range.pkl\")"
      ]
    },
    {
      "cell_type": "code",
      "execution_count": null,
      "id": "8a2da669",
      "metadata": {
        "id": "8a2da669"
      },
      "outputs": [],
      "source": []
    }
  ],
  "metadata": {
    "kernelspec": {
      "display_name": "Python 3",
      "language": "python",
      "name": "python3"
    },
    "language_info": {
      "codemirror_mode": {
        "name": "ipython",
        "version": 3
      },
      "file_extension": ".py",
      "mimetype": "text/x-python",
      "name": "python",
      "nbconvert_exporter": "python",
      "pygments_lexer": "ipython3",
      "version": "3.8.8"
    },
    "colab": {
      "provenance": []
    }
  },
  "nbformat": 4,
  "nbformat_minor": 5
}