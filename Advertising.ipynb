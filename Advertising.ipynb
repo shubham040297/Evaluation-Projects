{
  "cells": [
    {
      "cell_type": "code",
      "execution_count": null,
      "id": "90ba4550",
      "metadata": {
        "id": "90ba4550"
      },
      "outputs": [],
      "source": [
        "import numpy as np\n",
        "import pandas as pd\n",
        "import seaborn as sns\n",
        "import matplotlib.pyplot as plt"
      ]
    },
    {
      "cell_type": "markdown",
      "id": "bf97b3c6",
      "metadata": {
        "id": "bf97b3c6"
      },
      "source": [
        "Importing the data file"
      ]
    },
    {
      "cell_type": "code",
      "execution_count": null,
      "id": "ebd961dd",
      "metadata": {
        "id": "ebd961dd"
      },
      "outputs": [],
      "source": [
        "df = pd.read_csv(r\"C:\\Users\\Shubham\\Desktop\\Projects\\Advertising.csv\")"
      ]
    },
    {
      "cell_type": "code",
      "execution_count": null,
      "id": "28d76f23",
      "metadata": {
        "id": "28d76f23",
        "outputId": "8cd0170f-ccd8-4e50-d21a-454358e336f2"
      },
      "outputs": [
        {
          "data": {
            "text/html": [
              "<div>\n",
              "<style scoped>\n",
              "    .dataframe tbody tr th:only-of-type {\n",
              "        vertical-align: middle;\n",
              "    }\n",
              "\n",
              "    .dataframe tbody tr th {\n",
              "        vertical-align: top;\n",
              "    }\n",
              "\n",
              "    .dataframe thead th {\n",
              "        text-align: right;\n",
              "    }\n",
              "</style>\n",
              "<table border=\"1\" class=\"dataframe\">\n",
              "  <thead>\n",
              "    <tr style=\"text-align: right;\">\n",
              "      <th></th>\n",
              "      <th>Unnamed: 0</th>\n",
              "      <th>TV</th>\n",
              "      <th>radio</th>\n",
              "      <th>newspaper</th>\n",
              "      <th>sales</th>\n",
              "    </tr>\n",
              "  </thead>\n",
              "  <tbody>\n",
              "    <tr>\n",
              "      <th>0</th>\n",
              "      <td>1</td>\n",
              "      <td>230.1</td>\n",
              "      <td>37.8</td>\n",
              "      <td>69.2</td>\n",
              "      <td>22.1</td>\n",
              "    </tr>\n",
              "    <tr>\n",
              "      <th>1</th>\n",
              "      <td>2</td>\n",
              "      <td>44.5</td>\n",
              "      <td>39.3</td>\n",
              "      <td>45.1</td>\n",
              "      <td>10.4</td>\n",
              "    </tr>\n",
              "    <tr>\n",
              "      <th>2</th>\n",
              "      <td>3</td>\n",
              "      <td>17.2</td>\n",
              "      <td>45.9</td>\n",
              "      <td>69.3</td>\n",
              "      <td>9.3</td>\n",
              "    </tr>\n",
              "    <tr>\n",
              "      <th>3</th>\n",
              "      <td>4</td>\n",
              "      <td>151.5</td>\n",
              "      <td>41.3</td>\n",
              "      <td>58.5</td>\n",
              "      <td>18.5</td>\n",
              "    </tr>\n",
              "    <tr>\n",
              "      <th>4</th>\n",
              "      <td>5</td>\n",
              "      <td>180.8</td>\n",
              "      <td>10.8</td>\n",
              "      <td>58.4</td>\n",
              "      <td>12.9</td>\n",
              "    </tr>\n",
              "    <tr>\n",
              "      <th>...</th>\n",
              "      <td>...</td>\n",
              "      <td>...</td>\n",
              "      <td>...</td>\n",
              "      <td>...</td>\n",
              "      <td>...</td>\n",
              "    </tr>\n",
              "    <tr>\n",
              "      <th>195</th>\n",
              "      <td>196</td>\n",
              "      <td>38.2</td>\n",
              "      <td>3.7</td>\n",
              "      <td>13.8</td>\n",
              "      <td>7.6</td>\n",
              "    </tr>\n",
              "    <tr>\n",
              "      <th>196</th>\n",
              "      <td>197</td>\n",
              "      <td>94.2</td>\n",
              "      <td>4.9</td>\n",
              "      <td>8.1</td>\n",
              "      <td>9.7</td>\n",
              "    </tr>\n",
              "    <tr>\n",
              "      <th>197</th>\n",
              "      <td>198</td>\n",
              "      <td>177.0</td>\n",
              "      <td>9.3</td>\n",
              "      <td>6.4</td>\n",
              "      <td>12.8</td>\n",
              "    </tr>\n",
              "    <tr>\n",
              "      <th>198</th>\n",
              "      <td>199</td>\n",
              "      <td>283.6</td>\n",
              "      <td>42.0</td>\n",
              "      <td>66.2</td>\n",
              "      <td>25.5</td>\n",
              "    </tr>\n",
              "    <tr>\n",
              "      <th>199</th>\n",
              "      <td>200</td>\n",
              "      <td>232.1</td>\n",
              "      <td>8.6</td>\n",
              "      <td>8.7</td>\n",
              "      <td>13.4</td>\n",
              "    </tr>\n",
              "  </tbody>\n",
              "</table>\n",
              "<p>200 rows × 5 columns</p>\n",
              "</div>"
            ],
            "text/plain": [
              "     Unnamed: 0     TV  radio  newspaper  sales\n",
              "0             1  230.1   37.8       69.2   22.1\n",
              "1             2   44.5   39.3       45.1   10.4\n",
              "2             3   17.2   45.9       69.3    9.3\n",
              "3             4  151.5   41.3       58.5   18.5\n",
              "4             5  180.8   10.8       58.4   12.9\n",
              "..          ...    ...    ...        ...    ...\n",
              "195         196   38.2    3.7       13.8    7.6\n",
              "196         197   94.2    4.9        8.1    9.7\n",
              "197         198  177.0    9.3        6.4   12.8\n",
              "198         199  283.6   42.0       66.2   25.5\n",
              "199         200  232.1    8.6        8.7   13.4\n",
              "\n",
              "[200 rows x 5 columns]"
            ]
          },
          "execution_count": 3,
          "metadata": {},
          "output_type": "execute_result"
        }
      ],
      "source": [
        "df"
      ]
    },
    {
      "cell_type": "markdown",
      "id": "28bcf082",
      "metadata": {
        "id": "28bcf082"
      },
      "source": [
        "Let us look into the dataset more closely"
      ]
    },
    {
      "cell_type": "code",
      "execution_count": null,
      "id": "7b567262",
      "metadata": {
        "id": "7b567262",
        "outputId": "866e5943-dd3e-4a27-fd64-27bce1db6b21"
      },
      "outputs": [
        {
          "data": {
            "text/plain": [
              "(200, 5)"
            ]
          },
          "execution_count": 4,
          "metadata": {},
          "output_type": "execute_result"
        }
      ],
      "source": [
        "df.shape #It will describe the no. of columns and rows in the dataset"
      ]
    },
    {
      "cell_type": "code",
      "execution_count": null,
      "id": "a52c1df1",
      "metadata": {
        "id": "a52c1df1",
        "outputId": "cd7888b6-2024-4bd0-ddbd-2b19541a438f"
      },
      "outputs": [
        {
          "name": "stdout",
          "output_type": "stream",
          "text": [
            "<class 'pandas.core.frame.DataFrame'>\n",
            "RangeIndex: 200 entries, 0 to 199\n",
            "Data columns (total 5 columns):\n",
            " #   Column      Non-Null Count  Dtype  \n",
            "---  ------      --------------  -----  \n",
            " 0   Unnamed: 0  200 non-null    int64  \n",
            " 1   TV          200 non-null    float64\n",
            " 2   radio       200 non-null    float64\n",
            " 3   newspaper   200 non-null    float64\n",
            " 4   sales       200 non-null    float64\n",
            "dtypes: float64(4), int64(1)\n",
            "memory usage: 7.9 KB\n"
          ]
        }
      ],
      "source": [
        "df.info() # It will tell about the datatypes of the various values in the dataset"
      ]
    },
    {
      "cell_type": "code",
      "execution_count": null,
      "id": "bdad3daa",
      "metadata": {
        "id": "bdad3daa",
        "outputId": "e851e62e-272a-4317-e2a2-4c3dae9bfa09"
      },
      "outputs": [
        {
          "data": {
            "text/html": [
              "<div>\n",
              "<style scoped>\n",
              "    .dataframe tbody tr th:only-of-type {\n",
              "        vertical-align: middle;\n",
              "    }\n",
              "\n",
              "    .dataframe tbody tr th {\n",
              "        vertical-align: top;\n",
              "    }\n",
              "\n",
              "    .dataframe thead th {\n",
              "        text-align: right;\n",
              "    }\n",
              "</style>\n",
              "<table border=\"1\" class=\"dataframe\">\n",
              "  <thead>\n",
              "    <tr style=\"text-align: right;\">\n",
              "      <th></th>\n",
              "      <th>Unnamed: 0</th>\n",
              "      <th>TV</th>\n",
              "      <th>radio</th>\n",
              "      <th>newspaper</th>\n",
              "      <th>sales</th>\n",
              "    </tr>\n",
              "  </thead>\n",
              "  <tbody>\n",
              "    <tr>\n",
              "      <th>count</th>\n",
              "      <td>200.000000</td>\n",
              "      <td>200.000000</td>\n",
              "      <td>200.000000</td>\n",
              "      <td>200.000000</td>\n",
              "      <td>200.000000</td>\n",
              "    </tr>\n",
              "    <tr>\n",
              "      <th>mean</th>\n",
              "      <td>100.500000</td>\n",
              "      <td>147.042500</td>\n",
              "      <td>23.264000</td>\n",
              "      <td>30.554000</td>\n",
              "      <td>14.022500</td>\n",
              "    </tr>\n",
              "    <tr>\n",
              "      <th>std</th>\n",
              "      <td>57.879185</td>\n",
              "      <td>85.854236</td>\n",
              "      <td>14.846809</td>\n",
              "      <td>21.778621</td>\n",
              "      <td>5.217457</td>\n",
              "    </tr>\n",
              "    <tr>\n",
              "      <th>min</th>\n",
              "      <td>1.000000</td>\n",
              "      <td>0.700000</td>\n",
              "      <td>0.000000</td>\n",
              "      <td>0.300000</td>\n",
              "      <td>1.600000</td>\n",
              "    </tr>\n",
              "    <tr>\n",
              "      <th>25%</th>\n",
              "      <td>50.750000</td>\n",
              "      <td>74.375000</td>\n",
              "      <td>9.975000</td>\n",
              "      <td>12.750000</td>\n",
              "      <td>10.375000</td>\n",
              "    </tr>\n",
              "    <tr>\n",
              "      <th>50%</th>\n",
              "      <td>100.500000</td>\n",
              "      <td>149.750000</td>\n",
              "      <td>22.900000</td>\n",
              "      <td>25.750000</td>\n",
              "      <td>12.900000</td>\n",
              "    </tr>\n",
              "    <tr>\n",
              "      <th>75%</th>\n",
              "      <td>150.250000</td>\n",
              "      <td>218.825000</td>\n",
              "      <td>36.525000</td>\n",
              "      <td>45.100000</td>\n",
              "      <td>17.400000</td>\n",
              "    </tr>\n",
              "    <tr>\n",
              "      <th>max</th>\n",
              "      <td>200.000000</td>\n",
              "      <td>296.400000</td>\n",
              "      <td>49.600000</td>\n",
              "      <td>114.000000</td>\n",
              "      <td>27.000000</td>\n",
              "    </tr>\n",
              "  </tbody>\n",
              "</table>\n",
              "</div>"
            ],
            "text/plain": [
              "       Unnamed: 0          TV       radio   newspaper       sales\n",
              "count  200.000000  200.000000  200.000000  200.000000  200.000000\n",
              "mean   100.500000  147.042500   23.264000   30.554000   14.022500\n",
              "std     57.879185   85.854236   14.846809   21.778621    5.217457\n",
              "min      1.000000    0.700000    0.000000    0.300000    1.600000\n",
              "25%     50.750000   74.375000    9.975000   12.750000   10.375000\n",
              "50%    100.500000  149.750000   22.900000   25.750000   12.900000\n",
              "75%    150.250000  218.825000   36.525000   45.100000   17.400000\n",
              "max    200.000000  296.400000   49.600000  114.000000   27.000000"
            ]
          },
          "execution_count": 6,
          "metadata": {},
          "output_type": "execute_result"
        }
      ],
      "source": [
        "df.describe() # It will give us the statistical description of the data"
      ]
    },
    {
      "cell_type": "code",
      "execution_count": null,
      "id": "96fdf3e2",
      "metadata": {
        "id": "96fdf3e2",
        "outputId": "74fb1eb9-15f1-46fa-9a0e-4b34dc5dcaf3"
      },
      "outputs": [
        {
          "data": {
            "text/html": [
              "<div>\n",
              "<style scoped>\n",
              "    .dataframe tbody tr th:only-of-type {\n",
              "        vertical-align: middle;\n",
              "    }\n",
              "\n",
              "    .dataframe tbody tr th {\n",
              "        vertical-align: top;\n",
              "    }\n",
              "\n",
              "    .dataframe thead th {\n",
              "        text-align: right;\n",
              "    }\n",
              "</style>\n",
              "<table border=\"1\" class=\"dataframe\">\n",
              "  <thead>\n",
              "    <tr style=\"text-align: right;\">\n",
              "      <th></th>\n",
              "      <th>Unnamed: 0</th>\n",
              "      <th>TV</th>\n",
              "      <th>radio</th>\n",
              "      <th>newspaper</th>\n",
              "      <th>sales</th>\n",
              "    </tr>\n",
              "  </thead>\n",
              "  <tbody>\n",
              "    <tr>\n",
              "      <th>127</th>\n",
              "      <td>128</td>\n",
              "      <td>80.2</td>\n",
              "      <td>0.0</td>\n",
              "      <td>9.2</td>\n",
              "      <td>8.8</td>\n",
              "    </tr>\n",
              "  </tbody>\n",
              "</table>\n",
              "</div>"
            ],
            "text/plain": [
              "     Unnamed: 0    TV  radio  newspaper  sales\n",
              "127         128  80.2    0.0        9.2    8.8"
            ]
          },
          "execution_count": 7,
          "metadata": {},
          "output_type": "execute_result"
        }
      ],
      "source": [
        "df.loc[df['radio']==0]"
      ]
    },
    {
      "cell_type": "code",
      "execution_count": null,
      "id": "1dbba204",
      "metadata": {
        "id": "1dbba204",
        "outputId": "a0e4a009-4cd0-404b-9b61-068c97a306d3"
      },
      "outputs": [
        {
          "data": {
            "text/plain": [
              "Unnamed: 0    0\n",
              "TV            0\n",
              "radio         0\n",
              "newspaper     0\n",
              "sales         0\n",
              "dtype: int64"
            ]
          },
          "execution_count": 8,
          "metadata": {},
          "output_type": "execute_result"
        }
      ],
      "source": [
        "df.isnull().sum() # Check for any null values in the dataset"
      ]
    },
    {
      "cell_type": "code",
      "execution_count": null,
      "id": "cca5ed94",
      "metadata": {
        "id": "cca5ed94",
        "outputId": "aa106c7a-509b-42bc-b47b-230c9ba99450"
      },
      "outputs": [
        {
          "data": {
            "image/png": "[encoded data removed]",
            "text/plain": [
              "<Figure size 720x720 with 2 Axes>"
            ]
          },
          "metadata": {
            "needs_background": "light"
          },
          "output_type": "display_data"
        }
      ],
      "source": [
        "plt.figure(figsize=(10,10))\n",
        "sns.heatmap(df.isnull())\n",
        "plt.show()"
      ]
    },
    {
      "cell_type": "code",
      "execution_count": null,
      "id": "35c39583",
      "metadata": {
        "id": "35c39583",
        "outputId": "834d6931-befd-4e61-cafe-fc410dc52ee8"
      },
      "outputs": [
        {
          "data": {
            "text/plain": [
              "Index(['Unnamed: 0', 'TV', 'radio', 'newspaper', 'sales'], dtype='object')"
            ]
          },
          "execution_count": 10,
          "metadata": {},
          "output_type": "execute_result"
        }
      ],
      "source": [
        "df.columns"
      ]
    },
    {
      "cell_type": "markdown",
      "id": "1cce2414",
      "metadata": {
        "id": "1cce2414"
      },
      "source": [
        "We can see that there are no null values in the dataset, also we understand the dataset through the description for any abnormality in the dataset. We can note that the first column of the dataset is simply an indexing and contribute nothing to the target value \"sales\" and hence we can drop the column"
      ]
    },
    {
      "cell_type": "code",
      "execution_count": null,
      "id": "63ebb04a",
      "metadata": {
        "id": "63ebb04a"
      },
      "outputs": [],
      "source": [
        "df1 = df.drop(\"Unnamed: 0\",axis=1)"
      ]
    },
    {
      "cell_type": "markdown",
      "id": "f358b77b",
      "metadata": {
        "id": "f358b77b"
      },
      "source": [
        "Now, we have the dataset with us, let us look into the correlation matrix for the dataset"
      ]
    },
    {
      "cell_type": "code",
      "execution_count": null,
      "id": "3bc300b0",
      "metadata": {
        "id": "3bc300b0",
        "outputId": "1781110e-a319-4d6e-ddb1-670cf804ff3d"
      },
      "outputs": [
        {
          "data": {
            "text/html": [
              "<div>\n",
              "<style scoped>\n",
              "    .dataframe tbody tr th:only-of-type {\n",
              "        vertical-align: middle;\n",
              "    }\n",
              "\n",
              "    .dataframe tbody tr th {\n",
              "        vertical-align: top;\n",
              "    }\n",
              "\n",
              "    .dataframe thead th {\n",
              "        text-align: right;\n",
              "    }\n",
              "</style>\n",
              "<table border=\"1\" class=\"dataframe\">\n",
              "  <thead>\n",
              "    <tr style=\"text-align: right;\">\n",
              "      <th></th>\n",
              "      <th>TV</th>\n",
              "      <th>radio</th>\n",
              "      <th>newspaper</th>\n",
              "      <th>sales</th>\n",
              "    </tr>\n",
              "  </thead>\n",
              "  <tbody>\n",
              "    <tr>\n",
              "      <th>TV</th>\n",
              "      <td>1.000000</td>\n",
              "      <td>0.054809</td>\n",
              "      <td>0.056648</td>\n",
              "      <td>0.782224</td>\n",
              "    </tr>\n",
              "    <tr>\n",
              "      <th>radio</th>\n",
              "      <td>0.054809</td>\n",
              "      <td>1.000000</td>\n",
              "      <td>0.354104</td>\n",
              "      <td>0.576223</td>\n",
              "    </tr>\n",
              "    <tr>\n",
              "      <th>newspaper</th>\n",
              "      <td>0.056648</td>\n",
              "      <td>0.354104</td>\n",
              "      <td>1.000000</td>\n",
              "      <td>0.228299</td>\n",
              "    </tr>\n",
              "    <tr>\n",
              "      <th>sales</th>\n",
              "      <td>0.782224</td>\n",
              "      <td>0.576223</td>\n",
              "      <td>0.228299</td>\n",
              "      <td>1.000000</td>\n",
              "    </tr>\n",
              "  </tbody>\n",
              "</table>\n",
              "</div>"
            ],
            "text/plain": [
              "                 TV     radio  newspaper     sales\n",
              "TV         1.000000  0.054809   0.056648  0.782224\n",
              "radio      0.054809  1.000000   0.354104  0.576223\n",
              "newspaper  0.056648  0.354104   1.000000  0.228299\n",
              "sales      0.782224  0.576223   0.228299  1.000000"
            ]
          },
          "execution_count": 12,
          "metadata": {},
          "output_type": "execute_result"
        }
      ],
      "source": [
        "df1.corr()"
      ]
    },
    {
      "cell_type": "code",
      "execution_count": null,
      "id": "272e7838",
      "metadata": {
        "id": "272e7838",
        "outputId": "5c83eced-d78c-416e-edd5-0c1f688e645e"
      },
      "outputs": [
        {
          "data": {
            "text/plain": [
              "newspaper    0.228299\n",
              "radio        0.576223\n",
              "TV           0.782224\n",
              "sales        1.000000\n",
              "Name: sales, dtype: float64"
            ]
          },
          "execution_count": 13,
          "metadata": {},
          "output_type": "execute_result"
        }
      ],
      "source": [
        "df1.corr()['sales'].sort_values() #Sorting the correlation for various columns to the target function sales"
      ]
    },
    {
      "cell_type": "code",
      "execution_count": null,
      "id": "8cc42aa4",
      "metadata": {
        "id": "8cc42aa4",
        "outputId": "67dcf0a0-ecf9-4ac9-bf6d-10480f6aa3b0"
      },
      "outputs": [
        {
          "data": {
            "image/png": "[encoded data removed]",
            "text/plain": [
              "<Figure size 720x720 with 2 Axes>"
            ]
          },
          "metadata": {
            "needs_background": "light"
          },
          "output_type": "display_data"
        }
      ],
      "source": [
        "plt.figure(figsize=(10,10))\n",
        "sns.heatmap(df1.corr(),annot=True)\n",
        "plt.show()"
      ]
    },
    {
      "cell_type": "markdown",
      "id": "fe322c03",
      "metadata": {
        "id": "fe322c03"
      },
      "source": [
        "We note that TV has the highest correlation, then radio and finally newspaper for the least correlation to the target variable Sales."
      ]
    },
    {
      "cell_type": "markdown",
      "id": "a93b9ab5",
      "metadata": {
        "id": "a93b9ab5"
      },
      "source": [
        "Let us now look into each of the column seperately to look for outliers first. We will use for the boxplot and scatter plot to assess the data"
      ]
    },
    {
      "cell_type": "code",
      "execution_count": null,
      "id": "1bb1757d",
      "metadata": {
        "id": "1bb1757d",
        "outputId": "5b06d10f-0dbe-419d-ad8b-7c83b38d1a1e"
      },
      "outputs": [
        {
          "data": {
            "image/png": "[encoded data removed]",
            "text/plain": [
              "<Figure size 432x288 with 1 Axes>"
            ]
          },
          "metadata": {
            "needs_background": "light"
          },
          "output_type": "display_data"
        },
        {
          "data": {
            "image/png": "[encoded data removed]",
            "text/plain": [
              "<Figure size 432x288 with 1 Axes>"
            ]
          },
          "metadata": {
            "needs_background": "light"
          },
          "output_type": "display_data"
        },
        {
          "data": {
            "image/png": "[encoded data removed]",
            "text/plain": [
              "<Figure size 432x288 with 1 Axes>"
            ]
          },
          "metadata": {
            "needs_background": "light"
          },
          "output_type": "display_data"
        },
        {
          "data": {
            "image/png": "[encoded data removed]",
            "text/plain": [
              "<Figure size 432x288 with 1 Axes>"
            ]
          },
          "metadata": {
            "needs_background": "light"
          },
          "output_type": "display_data"
        }
      ],
      "source": [
        "import warnings\n",
        "warnings.filterwarnings(\"ignore\")\n",
        "\n",
        "for i in df1.columns:\n",
        "    sns.boxplot(df1[i])\n",
        "    plt.show()"
      ]
    },
    {
      "cell_type": "markdown",
      "id": "a5a3b9a1",
      "metadata": {
        "id": "a5a3b9a1"
      },
      "source": [
        "From the above data we can see a little outlier present in the newspaper column only. Let us look into the data through a more descriptive scatter plot"
      ]
    },
    {
      "cell_type": "code",
      "execution_count": null,
      "id": "51bc2670",
      "metadata": {
        "id": "51bc2670",
        "outputId": "f30c0cd3-2c05-4470-fc36-142b050f0516"
      },
      "outputs": [
        {
          "data": {
            "image/png": "[encoded data removed]",
            "text/plain": [
              "<Figure size 432x288 with 1 Axes>"
            ]
          },
          "metadata": {
            "needs_background": "light"
          },
          "output_type": "display_data"
        },
        {
          "data": {
            "image/png": "[encoded data removed]",
            "text/plain": [
              "<Figure size 432x288 with 1 Axes>"
            ]
          },
          "metadata": {
            "needs_background": "light"
          },
          "output_type": "display_data"
        },
        {
          "data": {
            "image/png": "[encoded data removed]",
            "text/plain": [
              "<Figure size 432x288 with 1 Axes>"
            ]
          },
          "metadata": {
            "needs_background": "light"
          },
          "output_type": "display_data"
        },
        {
          "data": {
            "image/png": "[encoded data removed]",
            "text/plain": [
              "<Figure size 432x288 with 1 Axes>"
            ]
          },
          "metadata": {
            "needs_background": "light"
          },
          "output_type": "display_data"
        }
      ],
      "source": [
        "for i in df1.columns:\n",
        "    sns.scatterplot(df1[i], df1[\"sales\"])\n",
        "    plt.show()"
      ]
    },
    {
      "cell_type": "markdown",
      "id": "ef275c13",
      "metadata": {
        "id": "ef275c13"
      },
      "source": [
        "From the above scatter plot we can see that TV has the highest investment and the return followed by the radio. However, newspaper has the least correlation and hence the lowest investment"
      ]
    },
    {
      "cell_type": "markdown",
      "id": "1a961a12",
      "metadata": {
        "id": "1a961a12"
      },
      "source": [
        "Now, we have seen that there are very little outlier in the newspaper data. Let us still deal with the outlier using zscore method"
      ]
    },
    {
      "cell_type": "code",
      "execution_count": null,
      "id": "3ed7f04e",
      "metadata": {
        "id": "3ed7f04e"
      },
      "outputs": [],
      "source": [
        "from scipy.stats import zscore\n",
        "z = np.abs(zscore(df1))"
      ]
    },
    {
      "cell_type": "code",
      "execution_count": null,
      "id": "367ba8b5",
      "metadata": {
        "id": "367ba8b5",
        "outputId": "a4a27620-cd12-404c-f655-e87063987fb0"
      },
      "outputs": [
        {
          "data": {
            "text/plain": [
              "(200, 4)"
            ]
          },
          "execution_count": 18,
          "metadata": {},
          "output_type": "execute_result"
        }
      ],
      "source": [
        "z.shape"
      ]
    },
    {
      "cell_type": "markdown",
      "id": "a5fa72bd",
      "metadata": {
        "id": "a5fa72bd"
      },
      "source": [
        "We give the threshold value of +/-3 to remove the outliers"
      ]
    },
    {
      "cell_type": "code",
      "execution_count": null,
      "id": "309f0255",
      "metadata": {
        "id": "309f0255"
      },
      "outputs": [],
      "source": [
        "df2=df1[(z<3).all(axis=1)]"
      ]
    },
    {
      "cell_type": "markdown",
      "id": "4a125c6d",
      "metadata": {
        "id": "4a125c6d"
      },
      "source": [
        "Let us look into the new dataset formed"
      ]
    },
    {
      "cell_type": "code",
      "execution_count": null,
      "id": "68471c1e",
      "metadata": {
        "id": "68471c1e",
        "outputId": "ab39af0e-2196-48a5-a137-7501dd775146"
      },
      "outputs": [
        {
          "data": {
            "text/plain": [
              "(198, 4)"
            ]
          },
          "execution_count": 20,
          "metadata": {},
          "output_type": "execute_result"
        }
      ],
      "source": [
        "df2.shape"
      ]
    },
    {
      "cell_type": "markdown",
      "id": "3a706d45",
      "metadata": {
        "id": "3a706d45"
      },
      "source": [
        "We have removed 2 rows from the original dataset while removing the outliers. Let us take a data visualisation for the new dataset"
      ]
    },
    {
      "cell_type": "code",
      "execution_count": null,
      "id": "cdba72c1",
      "metadata": {
        "id": "cdba72c1",
        "outputId": "9ea3986f-799f-435c-c803-48cd670565b4"
      },
      "outputs": [
        {
          "data": {
            "image/png": "[encoded data removed]",
            "text/plain": [
              "<Figure size 432x288 with 1 Axes>"
            ]
          },
          "metadata": {
            "needs_background": "light"
          },
          "output_type": "display_data"
        },
        {
          "data": {
            "image/png": "[encoded data removed]",
            "text/plain": [
              "<Figure size 432x288 with 1 Axes>"
            ]
          },
          "metadata": {
            "needs_background": "light"
          },
          "output_type": "display_data"
        },
        {
          "data": {
            "image/png": "[encoded data removed]",
            "text/plain": [
              "<Figure size 432x288 with 1 Axes>"
            ]
          },
          "metadata": {
            "needs_background": "light"
          },
          "output_type": "display_data"
        },
        {
          "data": {
            "image/png": "[encoded data removed]",
            "text/plain": [
              "<Figure size 432x288 with 1 Axes>"
            ]
          },
          "metadata": {
            "needs_background": "light"
          },
          "output_type": "display_data"
        }
      ],
      "source": [
        "for i in df2.columns:\n",
        "    sns.boxplot(df2[i])\n",
        "    plt.show()"
      ]
    },
    {
      "cell_type": "markdown",
      "id": "ba69508b",
      "metadata": {
        "id": "ba69508b"
      },
      "source": [
        "We can note that we have removed all the outliers."
      ]
    },
    {
      "cell_type": "markdown",
      "id": "61ba04c8",
      "metadata": {
        "id": "61ba04c8"
      },
      "source": [
        "Now let us take a skewness check"
      ]
    },
    {
      "cell_type": "code",
      "execution_count": null,
      "id": "a4921aeb",
      "metadata": {
        "id": "a4921aeb",
        "outputId": "153471e4-c411-48ed-b68e-0b945a1407f2"
      },
      "outputs": [
        {
          "data": {
            "text/plain": [
              "TV          -0.082332\n",
              "radio        0.114842\n",
              "newspaper    0.650112\n",
              "sales        0.407130\n",
              "dtype: float64"
            ]
          },
          "execution_count": 22,
          "metadata": {},
          "output_type": "execute_result"
        }
      ],
      "source": [
        "df2.skew()"
      ]
    },
    {
      "cell_type": "markdown",
      "id": "1b7615ab",
      "metadata": {
        "id": "1b7615ab"
      },
      "source": [
        "Taking a threshold of 0.5, we see that the newspaper data has skewness that we need to treat. But, before we do that let us take a better visualization for the data using histogram/density plot"
      ]
    },
    {
      "cell_type": "code",
      "execution_count": null,
      "id": "37595e02",
      "metadata": {
        "id": "37595e02",
        "outputId": "0cf49982-de9f-4fbb-fda8-f96b09f6b969"
      },
      "outputs": [
        {
          "data": {
            "image/png": "[encoded data removed]",
            "text/plain": [
              "<Figure size 432x288 with 1 Axes>"
            ]
          },
          "metadata": {
            "needs_background": "light"
          },
          "output_type": "display_data"
        },
        {
          "data": {
            "image/png": "[encoded data removed]",
            "text/plain": [
              "<Figure size 432x288 with 1 Axes>"
            ]
          },
          "metadata": {
            "needs_background": "light"
          },
          "output_type": "display_data"
        },
        {
          "data": {
            "image/png": "[encoded data removed]",
            "text/plain": [
              "<Figure size 432x288 with 1 Axes>"
            ]
          },
          "metadata": {
            "needs_background": "light"
          },
          "output_type": "display_data"
        },
        {
          "data": {
            "image/png": "[encoded data removed]",
            "text/plain": [
              "<Figure size 432x288 with 1 Axes>"
            ]
          },
          "metadata": {
            "needs_background": "light"
          },
          "output_type": "display_data"
        }
      ],
      "source": [
        "for i in df2.columns:\n",
        "    sns.distplot(df2[i])\n",
        "    plt.show()"
      ]
    },
    {
      "cell_type": "markdown",
      "id": "4e4685fa",
      "metadata": {
        "id": "4e4685fa"
      },
      "source": [
        "We can note a right side skewness to newspaper column. Let us treat it"
      ]
    },
    {
      "cell_type": "code",
      "execution_count": null,
      "id": "6ca25128",
      "metadata": {
        "id": "6ca25128"
      },
      "outputs": [],
      "source": [
        "df2['newspaper']=np.sqrt(df['newspaper'])"
      ]
    },
    {
      "cell_type": "code",
      "execution_count": null,
      "id": "1e548797",
      "metadata": {
        "id": "1e548797",
        "outputId": "6caf12e4-51fd-4e38-dfaf-be406616fbcd"
      },
      "outputs": [
        {
          "data": {
            "text/plain": [
              "TV          -0.082332\n",
              "radio        0.114842\n",
              "newspaper   -0.040649\n",
              "sales        0.407130\n",
              "dtype: float64"
            ]
          },
          "execution_count": 25,
          "metadata": {},
          "output_type": "execute_result"
        }
      ],
      "source": [
        "df2.skew()"
      ]
    },
    {
      "cell_type": "markdown",
      "id": "bd367898",
      "metadata": {
        "id": "bd367898"
      },
      "source": [
        "Let us check for the skewness again after treatment"
      ]
    },
    {
      "cell_type": "code",
      "execution_count": null,
      "id": "9c6c6d85",
      "metadata": {
        "id": "9c6c6d85",
        "outputId": "54396bfc-a070-4a72-9e62-87cb8972a747"
      },
      "outputs": [
        {
          "data": {
            "image/png": "[encoded data removed]",
            "text/plain": [
              "<Figure size 432x288 with 1 Axes>"
            ]
          },
          "metadata": {
            "needs_background": "light"
          },
          "output_type": "display_data"
        },
        {
          "data": {
            "image/png": "[encoded data removed]",
            "text/plain": [
              "<Figure size 432x288 with 1 Axes>"
            ]
          },
          "metadata": {
            "needs_background": "light"
          },
          "output_type": "display_data"
        },
        {
          "data": {
            "image/png": "[encoded data removed]",
            "text/plain": [
              "<Figure size 432x288 with 1 Axes>"
            ]
          },
          "metadata": {
            "needs_background": "light"
          },
          "output_type": "display_data"
        },
        {
          "data": {
            "image/png": "[encoded data removed]",
            "text/plain": [
              "<Figure size 432x288 with 1 Axes>"
            ]
          },
          "metadata": {
            "needs_background": "light"
          },
          "output_type": "display_data"
        }
      ],
      "source": [
        "for i in df2.columns:\n",
        "    sns.distplot(df2[i])\n",
        "    plt.show()"
      ]
    },
    {
      "cell_type": "markdown",
      "id": "bd2e8610",
      "metadata": {
        "id": "bd2e8610"
      },
      "source": [
        "Spliting the data into target and feature values"
      ]
    },
    {
      "cell_type": "code",
      "execution_count": null,
      "id": "7bb96729",
      "metadata": {
        "id": "7bb96729"
      },
      "outputs": [],
      "source": [
        "x = np.array(df2.iloc[:,:-1])\n",
        "y = np.array(df2.iloc[:,-1])"
      ]
    },
    {
      "cell_type": "markdown",
      "id": "368018fb",
      "metadata": {
        "id": "368018fb"
      },
      "source": [
        "We will scale the data first"
      ]
    },
    {
      "cell_type": "code",
      "execution_count": null,
      "id": "336c6121",
      "metadata": {
        "id": "336c6121"
      },
      "outputs": [],
      "source": [
        "from sklearn.preprocessing import StandardScaler\n",
        "sc=StandardScaler()\n",
        "x=sc.fit_transform(x)"
      ]
    },
    {
      "cell_type": "markdown",
      "id": "e79a5dc6",
      "metadata": {
        "id": "e79a5dc6"
      },
      "source": [
        "Let us now find the best random state for model predictions"
      ]
    },
    {
      "cell_type": "markdown",
      "id": "4cc1e2aa",
      "metadata": {
        "id": "4cc1e2aa"
      },
      "source": [
        "# Best Random State"
      ]
    },
    {
      "cell_type": "code",
      "execution_count": null,
      "id": "802baa00",
      "metadata": {
        "id": "802baa00"
      },
      "outputs": [],
      "source": [
        "from sklearn.model_selection import train_test_split\n",
        "from sklearn.linear_model import LinearRegression\n",
        "from sklearn.metrics import r2_score, mean_squared_error, mean_absolute_error"
      ]
    },
    {
      "cell_type": "code",
      "execution_count": null,
      "id": "45f02a13",
      "metadata": {
        "id": "45f02a13",
        "outputId": "4e66101c-8c63-4048-dabb-586a95f8704f"
      },
      "outputs": [
        {
          "name": "stdout",
          "output_type": "stream",
          "text": [
            "Max accuracy: \t 0.9475153733776146\n",
            "Random State: \t 24\n"
          ]
        }
      ],
      "source": [
        "maxRS = 0\n",
        "maxAcc = 0\n",
        "for i in range(0,100):\n",
        "    x_train, x_test, y_train, y_test = train_test_split(x, y, test_size=0.20, random_state=i)\n",
        "    lr = LinearRegression()\n",
        "    lr.fit(x_train,y_train)\n",
        "    pred = lr.predict(x_test)\n",
        "    acc = r2_score(pred, y_test)\n",
        "    if acc>maxAcc:\n",
        "        maxAcc = acc\n",
        "        maxRS = i\n",
        "print(\"Max accuracy: \\t\", maxAcc)\n",
        "print(\"Random State: \\t\", maxRS)"
      ]
    },
    {
      "cell_type": "markdown",
      "id": "9f9bacce",
      "metadata": {
        "id": "9f9bacce"
      },
      "source": [
        "We found the value for the Random State at 24. Let us create the model for this"
      ]
    },
    {
      "cell_type": "code",
      "execution_count": null,
      "id": "7b724e27",
      "metadata": {
        "id": "7b724e27"
      },
      "outputs": [],
      "source": [
        "x_train, x_test, y_train, y_test = train_test_split(x, y, test_size=0.20, random_state=24)"
      ]
    },
    {
      "cell_type": "markdown",
      "id": "b0b39302",
      "metadata": {
        "id": "b0b39302"
      },
      "source": [
        "# Linear Regression"
      ]
    },
    {
      "cell_type": "code",
      "execution_count": null,
      "id": "cac8f92c",
      "metadata": {
        "id": "cac8f92c",
        "outputId": "95439bad-36a2-4d69-9411-dea12ef814f2"
      },
      "outputs": [
        {
          "name": "stdout",
          "output_type": "stream",
          "text": [
            "r2 score: \t 94.70588911088107\n",
            "Mean Square Error : \t 1.3622670478289258\n",
            "Root Mean Square Error : \t 1.1671619629806849\n"
          ]
        }
      ],
      "source": [
        "lr = LinearRegression()\n",
        "lr.fit(x_train,y_train)\n",
        "pred = lr.predict(x_test)\n",
        "print(\"r2 score: \\t\", r2_score(y_test,pred)*100)\n",
        "print(\"Mean Square Error : \\t\", mean_squared_error(y_test,pred))\n",
        "print(\"Root Mean Square Error : \\t\", np.sqrt(mean_squared_error(y_test,pred)))"
      ]
    },
    {
      "cell_type": "markdown",
      "id": "97d0e2e9",
      "metadata": {
        "id": "97d0e2e9"
      },
      "source": [
        "# Ridge Regression"
      ]
    },
    {
      "cell_type": "code",
      "execution_count": null,
      "id": "1f4c81e7",
      "metadata": {
        "id": "1f4c81e7",
        "outputId": "c1a28010-fcd2-4592-8508-b9a750d0871a"
      },
      "outputs": [
        {
          "name": "stdout",
          "output_type": "stream",
          "text": [
            "r2 score: \t 94.72051519606156\n",
            "Mean Square Error : \t 1.3585035010696314\n",
            "Root Mean Square Error : \t 1.1655485837448525\n"
          ]
        }
      ],
      "source": [
        "from sklearn.linear_model import Ridge\n",
        "\n",
        "rr = Ridge()\n",
        "rr.fit(x_train,y_train)\n",
        "pred = rr.predict(x_test)\n",
        "print(\"r2 score: \\t\", r2_score(y_test,pred)*100)\n",
        "print(\"Mean Square Error : \\t\", mean_squared_error(y_test,pred))\n",
        "print(\"Root Mean Square Error : \\t\", np.sqrt(mean_squared_error(y_test,pred)))"
      ]
    },
    {
      "cell_type": "markdown",
      "id": "24d8f191",
      "metadata": {
        "id": "24d8f191"
      },
      "source": [
        "# Decision Tree Regressor"
      ]
    },
    {
      "cell_type": "code",
      "execution_count": null,
      "id": "5bbe6c61",
      "metadata": {
        "id": "5bbe6c61",
        "outputId": "90079f95-aed9-4369-b901-2fa7112e8fa9"
      },
      "outputs": [
        {
          "name": "stdout",
          "output_type": "stream",
          "text": [
            "r2 score: \t 97.66533505915238\n",
            "Mean Square Error : \t 0.6007499999999999\n",
            "Root Mean Square Error : \t 0.7750806409658287\n"
          ]
        }
      ],
      "source": [
        "from sklearn.tree import DecisionTreeRegressor\n",
        "\n",
        "dt = DecisionTreeRegressor()\n",
        "dt.fit(x_train,y_train)\n",
        "pred = dt.predict(x_test)\n",
        "print(\"r2 score: \\t\", r2_score(y_test,pred)*100)\n",
        "print(\"Mean Square Error : \\t\", mean_squared_error(y_test,pred))\n",
        "print(\"Root Mean Square Error : \\t\", np.sqrt(mean_squared_error(y_test,pred)))"
      ]
    },
    {
      "cell_type": "markdown",
      "id": "798964c1",
      "metadata": {
        "id": "798964c1"
      },
      "source": [
        "# Random Forest Regressor"
      ]
    },
    {
      "cell_type": "code",
      "execution_count": null,
      "id": "b57dffe0",
      "metadata": {
        "id": "b57dffe0",
        "outputId": "00d0083e-e091-45d4-f570-5c46ee852f00"
      },
      "outputs": [
        {
          "name": "stdout",
          "output_type": "stream",
          "text": [
            "r2 score: \t 98.13022368528756\n",
            "Mean Square Error : \t 0.4811260499999969\n",
            "Root Mean Square Error : \t 0.6936325035636645\n"
          ]
        }
      ],
      "source": [
        "from sklearn.ensemble import RandomForestRegressor\n",
        "\n",
        "rf = RandomForestRegressor()\n",
        "rf.fit(x_train,y_train)\n",
        "pred = rf.predict(x_test)\n",
        "print(\"r2 score: \\t\", r2_score(y_test,pred)*100)\n",
        "print(\"Mean Square Error : \\t\", mean_squared_error(y_test,pred))\n",
        "print(\"Root Mean Square Error : \\t\", np.sqrt(mean_squared_error(y_test,pred)))"
      ]
    },
    {
      "cell_type": "markdown",
      "id": "1c47f273",
      "metadata": {
        "id": "1c47f273"
      },
      "source": [
        "# KNN MODEL"
      ]
    },
    {
      "cell_type": "code",
      "execution_count": null,
      "id": "da202db4",
      "metadata": {
        "id": "da202db4",
        "outputId": "ef16adc3-f2cc-468a-c418-760fd260e53f"
      },
      "outputs": [
        {
          "name": "stdout",
          "output_type": "stream",
          "text": [
            "r2 score: \t 96.57963327883677\n",
            "Mean Square Error : \t 0.8801200000000013\n",
            "Root Mean Square Error : \t 0.9381471099992801\n"
          ]
        }
      ],
      "source": [
        "from sklearn.neighbors import KNeighborsRegressor\n",
        "\n",
        "knn = KNeighborsRegressor()\n",
        "knn.fit(x_train,y_train)\n",
        "pred = knn.predict(x_test)\n",
        "print(\"r2 score: \\t\", r2_score(y_test,pred)*100)\n",
        "print(\"Mean Square Error : \\t\", mean_squared_error(y_test,pred))\n",
        "print(\"Root Mean Square Error : \\t\", np.sqrt(mean_squared_error(y_test,pred)))"
      ]
    },
    {
      "cell_type": "markdown",
      "id": "1007f0ce",
      "metadata": {
        "id": "1007f0ce"
      },
      "source": [
        "# SUPPORT VECTOR MACHINES"
      ]
    },
    {
      "cell_type": "code",
      "execution_count": null,
      "id": "0a99c8ed",
      "metadata": {
        "id": "0a99c8ed",
        "outputId": "a583b6f9-4f8f-453a-8910-4404ad1a05a8"
      },
      "outputs": [
        {
          "name": "stdout",
          "output_type": "stream",
          "text": [
            "r2 score: \t 95.15272495678433\n",
            "Mean Square Error : \t 1.247288392977957\n",
            "Root Mean Square Error : \t 1.1168206628541384\n"
          ]
        }
      ],
      "source": [
        "from sklearn.svm import SVR\n",
        "\n",
        "svr = SVR()\n",
        "svr.fit(x_train,y_train)\n",
        "pred = svr.predict(x_test)\n",
        "print(\"r2 score: \\t\", r2_score(y_test,pred)*100)\n",
        "print(\"Mean Square Error : \\t\", mean_squared_error(y_test,pred))\n",
        "print(\"Root Mean Square Error : \\t\", np.sqrt(mean_squared_error(y_test,pred)))"
      ]
    },
    {
      "cell_type": "markdown",
      "id": "716ae511",
      "metadata": {
        "id": "716ae511"
      },
      "source": [
        "Out of all the models 'Random Forest Regressor' has the highest r2_score"
      ]
    },
    {
      "cell_type": "markdown",
      "id": "8ca47370",
      "metadata": {
        "id": "8ca47370"
      },
      "source": [
        "# Cross validation"
      ]
    },
    {
      "cell_type": "code",
      "execution_count": null,
      "id": "962c9176",
      "metadata": {
        "id": "962c9176"
      },
      "outputs": [],
      "source": [
        "from sklearn.model_selection import cross_val_score"
      ]
    },
    {
      "cell_type": "code",
      "execution_count": null,
      "id": "0e4fcc31",
      "metadata": {
        "id": "0e4fcc31",
        "outputId": "067205b5-b3d6-41d5-8521-40cffbfddac4"
      },
      "outputs": [
        {
          "name": "stdout",
          "output_type": "stream",
          "text": [
            "Cross validation score of Linear Regression is: \t 0.8857406146589943\n"
          ]
        }
      ],
      "source": [
        "scr1 = cross_val_score(lr, x, y, cv=5)\n",
        "print(\"Cross validation score of Linear Regression is: \\t\", scr1.mean())"
      ]
    },
    {
      "cell_type": "code",
      "execution_count": null,
      "id": "16d15fb7",
      "metadata": {
        "id": "16d15fb7",
        "outputId": "6cdc4133-14cf-4424-9b81-108890623d65"
      },
      "outputs": [
        {
          "name": "stdout",
          "output_type": "stream",
          "text": [
            "Cross validation score of Ridge Regression is: \t 0.8858278340182535\n"
          ]
        }
      ],
      "source": [
        "scr2 = cross_val_score(rr, x, y, cv=5)\n",
        "print(\"Cross validation score of Ridge Regression is: \\t\", scr2.mean())"
      ]
    },
    {
      "cell_type": "code",
      "execution_count": null,
      "id": "6d14d2ed",
      "metadata": {
        "id": "6d14d2ed",
        "outputId": "0218951b-8a8d-4125-bc8b-8d7ce6c1f9f1"
      },
      "outputs": [
        {
          "name": "stdout",
          "output_type": "stream",
          "text": [
            "Cross validation score of Decision Tree Regressor is: \t 0.9547438314077035\n"
          ]
        }
      ],
      "source": [
        "scr3 = cross_val_score(dt, x, y, cv=5)\n",
        "print(\"Cross validation score of Decision Tree Regressor is: \\t\", scr3.mean())"
      ]
    },
    {
      "cell_type": "code",
      "execution_count": null,
      "id": "65f236e0",
      "metadata": {
        "id": "65f236e0",
        "outputId": "620e0a0f-5b55-4b5f-baf9-4ef10ec79163"
      },
      "outputs": [
        {
          "name": "stdout",
          "output_type": "stream",
          "text": [
            "Cross validation score of Random Forest Regressor is: \t 0.9745981855628163\n"
          ]
        }
      ],
      "source": [
        "scr4 = cross_val_score(rf, x, y, cv=5)\n",
        "print(\"Cross validation score of Random Forest Regressor is: \\t\", scr4.mean())"
      ]
    },
    {
      "cell_type": "code",
      "execution_count": null,
      "id": "3bee2a79",
      "metadata": {
        "id": "3bee2a79",
        "outputId": "7bd59667-624e-4e09-f00e-f4727033e38b"
      },
      "outputs": [
        {
          "name": "stdout",
          "output_type": "stream",
          "text": [
            "Cross validation score of KNeighbour Regressor is: \t 0.9358043941034188\n"
          ]
        }
      ],
      "source": [
        "scr5 = cross_val_score(knn, x, y, cv=5)\n",
        "print(\"Cross validation score of KNeighbour Regressor is: \\t\", scr5.mean())"
      ]
    },
    {
      "cell_type": "code",
      "execution_count": null,
      "id": "dea013e3",
      "metadata": {
        "id": "dea013e3",
        "outputId": "ad11b3fe-e17e-4018-8896-f147e3a63b04"
      },
      "outputs": [
        {
          "name": "stdout",
          "output_type": "stream",
          "text": [
            "Cross validation score of SVM is: \t 0.9041170072126675\n"
          ]
        }
      ],
      "source": [
        "scr6 = cross_val_score(svr, x, y, cv=5)\n",
        "print(\"Cross validation score of SVM is: \\t\", scr6.mean())"
      ]
    },
    {
      "cell_type": "markdown",
      "id": "7c1eafe0",
      "metadata": {
        "id": "7c1eafe0"
      },
      "source": [
        "Out of all the crossvalidations, Random Forest Regressor performs the best"
      ]
    },
    {
      "cell_type": "markdown",
      "id": "8e95f9d8",
      "metadata": {
        "id": "8e95f9d8"
      },
      "source": [
        "# Hyper Parameter Tuning"
      ]
    },
    {
      "cell_type": "code",
      "execution_count": null,
      "id": "d77ffe19",
      "metadata": {
        "id": "d77ffe19"
      },
      "outputs": [],
      "source": [
        "from sklearn.model_selection import GridSearchCV"
      ]
    },
    {
      "cell_type": "code",
      "execution_count": null,
      "id": "ab32b8bf",
      "metadata": {
        "id": "ab32b8bf"
      },
      "outputs": [],
      "source": [
        "parameters = {'bootstrap': [True, False],\n",
        "              'max_depth': [10, 20, 30, None],\n",
        "              'max_features': ['auto', 'sqrt'],\n",
        "              'min_samples_leaf': [1, 2, 4],\n",
        "              'min_samples_split': [2, 5, 10]}"
      ]
    },
    {
      "cell_type": "code",
      "execution_count": null,
      "id": "bb8fa68e",
      "metadata": {
        "id": "bb8fa68e"
      },
      "outputs": [],
      "source": [
        "gcv=GridSearchCV(rf,parameters,cv=5,scoring='r2')"
      ]
    },
    {
      "cell_type": "code",
      "execution_count": null,
      "id": "052ffe02",
      "metadata": {
        "id": "052ffe02",
        "outputId": "9928ccf0-0962-4da2-9f79-000ad990abaf"
      },
      "outputs": [
        {
          "data": {
            "text/plain": [
              "GridSearchCV(cv=5, estimator=RandomForestRegressor(),\n",
              "             param_grid={'bootstrap': [True, False],\n",
              "                         'max_depth': [10, 20, 30, None],\n",
              "                         'max_features': ['auto', 'sqrt'],\n",
              "                         'min_samples_leaf': [1, 2, 4],\n",
              "                         'min_samples_split': [2, 5, 10]},\n",
              "             scoring='r2')"
            ]
          },
          "execution_count": 55,
          "metadata": {},
          "output_type": "execute_result"
        }
      ],
      "source": [
        "gcv.fit(x_train,y_train)"
      ]
    },
    {
      "cell_type": "code",
      "execution_count": null,
      "id": "4d00b13b",
      "metadata": {
        "id": "4d00b13b",
        "outputId": "9351e98c-0057-47cf-9e93-605d2d2ae095"
      },
      "outputs": [
        {
          "name": "stdout",
          "output_type": "stream",
          "text": [
            "Tuned Hyperparameters : {'bootstrap': True, 'max_depth': 30, 'max_features': 'auto', 'min_samples_leaf': 1, 'min_samples_split': 2}\n",
            "Accuracy : 0.9718568211580634\n"
          ]
        }
      ],
      "source": [
        "print(\"Tuned Hyperparameters :\", gcv.best_params_)\n",
        "print(\"Accuracy :\",gcv.best_score_)"
      ]
    },
    {
      "cell_type": "markdown",
      "id": "281aa10f",
      "metadata": {
        "id": "281aa10f"
      },
      "source": [
        "Accuracy of 97% is good, we move on"
      ]
    },
    {
      "cell_type": "markdown",
      "id": "b44a58d5",
      "metadata": {
        "id": "b44a58d5"
      },
      "source": [
        "# Saving the best model"
      ]
    },
    {
      "cell_type": "code",
      "execution_count": null,
      "id": "75c5496f",
      "metadata": {
        "id": "75c5496f",
        "outputId": "c7ab5052-1f00-4ff2-c2f5-689d95cc3640"
      },
      "outputs": [
        {
          "data": {
            "text/plain": [
              "['advertising.pkl']"
            ]
          },
          "execution_count": 58,
          "metadata": {},
          "output_type": "execute_result"
        }
      ],
      "source": [
        "import joblib\n",
        "joblib.dump(gcv.best_estimator_,\"advertising.pkl\")"
      ]
    },
    {
      "cell_type": "code",
      "execution_count": null,
      "id": "e1227ff7",
      "metadata": {
        "id": "e1227ff7"
      },
      "outputs": [],
      "source": []
    }
  ],
  "metadata": {
    "kernelspec": {
      "display_name": "Python 3",
      "language": "python",
      "name": "python3"
    },
    "language_info": {
      "codemirror_mode": {
        "name": "ipython",
        "version": 3
      },
      "file_extension": ".py",
      "mimetype": "text/x-python",
      "name": "python",
      "nbconvert_exporter": "python",
      "pygments_lexer": "ipython3",
      "version": "3.8.8"
    },
    "colab": {
      "provenance": []
    }
  },
  "nbformat": 4,
  "nbformat_minor": 5
}