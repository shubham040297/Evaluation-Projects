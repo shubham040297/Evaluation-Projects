{
  "cells": [
    {
      "cell_type": "code",
      "execution_count": null,
      "id": "f809842c",
      "metadata": {
        "id": "f809842c"
      },
      "outputs": [],
      "source": [
        "\n",
        "import pandas as pd\n",
        "import numpy as np\n",
        "import seaborn as sns\n",
        "import matplotlib.pyplot as plt\n",
        "from sklearn.preprocessing import LabelEncoder, StandardScaler\n",
        "from scipy.stats import zscore, yeojohnson\n",
        "from sklearn.model_selection import train_test_split, cross_val_score, GridSearchCV\n",
        "from sklearn.linear_model import LinearRegression\n",
        "from sklearn.metrics import r2_score, mean_squared_error, mean_absolute_error\n",
        "from sklearn.neighbors import KNeighborsRegressor\n",
        "from sklearn.svm import SVR\n",
        "from xgboost import XGBRegressor\n",
        "from sklearn.tree import DecisionTreeRegressor\n",
        "from sklearn.ensemble import RandomForestRegressor\n",
        "import joblib\n",
        "\n",
        "import warnings\n",
        "warnings.filterwarnings('ignore')"
      ]
    },
    {
      "cell_type": "markdown",
      "id": "a85a9c9f",
      "metadata": {
        "id": "a85a9c9f"
      },
      "source": [
        "# Data Collection"
      ]
    },
    {
      "cell_type": "code",
      "execution_count": null,
      "id": "d474efc9",
      "metadata": {
        "id": "d474efc9"
      },
      "outputs": [],
      "source": [
        "df = pd.read_csv(r\"C:\\Users\\Shubham\\Desktop\\Projects\\FlipRobo\\Flight Price 01-05\\Sol\\Data_Flight.csv\")"
      ]
    },
    {
      "cell_type": "markdown",
      "id": "6db44e43",
      "metadata": {
        "id": "6db44e43"
      },
      "source": [
        "# Data Understanding"
      ]
    },
    {
      "cell_type": "code",
      "execution_count": null,
      "id": "5ad46c83",
      "metadata": {
        "id": "5ad46c83",
        "outputId": "de7dc3f1-eb63-4752-9c37-e89a5ce7f4a0"
      },
      "outputs": [
        {
          "data": {
            "text/html": [
              "<div>\n",
              "<style scoped>\n",
              "    .dataframe tbody tr th:only-of-type {\n",
              "        vertical-align: middle;\n",
              "    }\n",
              "\n",
              "    .dataframe tbody tr th {\n",
              "        vertical-align: top;\n",
              "    }\n",
              "\n",
              "    .dataframe thead th {\n",
              "        text-align: right;\n",
              "    }\n",
              "</style>\n",
              "<table border=\"1\" class=\"dataframe\">\n",
              "  <thead>\n",
              "    <tr style=\"text-align: right;\">\n",
              "      <th></th>\n",
              "      <th>Unnamed: 0</th>\n",
              "      <th>Airline</th>\n",
              "      <th>Date</th>\n",
              "      <th>Source</th>\n",
              "      <th>Destination</th>\n",
              "      <th>Departure Time</th>\n",
              "      <th>Arrival Time</th>\n",
              "      <th>Flight Duration</th>\n",
              "      <th>Price</th>\n",
              "      <th>Stops</th>\n",
              "    </tr>\n",
              "  </thead>\n",
              "  <tbody>\n",
              "    <tr>\n",
              "      <th>0</th>\n",
              "      <td>0</td>\n",
              "      <td>Air Asia</td>\n",
              "      <td>04-May</td>\n",
              "      <td>New Delhi</td>\n",
              "      <td>Mumbai</td>\n",
              "      <td>13:00</td>\n",
              "      <td>14:50</td>\n",
              "      <td>1h 50m</td>\n",
              "      <td>7,319</td>\n",
              "      <td>Non Stop</td>\n",
              "    </tr>\n",
              "    <tr>\n",
              "      <th>1</th>\n",
              "      <td>1</td>\n",
              "      <td>IndiGo</td>\n",
              "      <td>04-May</td>\n",
              "      <td>New Delhi</td>\n",
              "      <td>Mumbai</td>\n",
              "      <td>11:55</td>\n",
              "      <td>13:55</td>\n",
              "      <td>2h 00m</td>\n",
              "      <td>7,319</td>\n",
              "      <td>Non Stop</td>\n",
              "    </tr>\n",
              "    <tr>\n",
              "      <th>2</th>\n",
              "      <td>2</td>\n",
              "      <td>IndiGo</td>\n",
              "      <td>04-May</td>\n",
              "      <td>New Delhi</td>\n",
              "      <td>Mumbai</td>\n",
              "      <td>10:45</td>\n",
              "      <td>12:50</td>\n",
              "      <td>2h 05m</td>\n",
              "      <td>7,319</td>\n",
              "      <td>Non Stop</td>\n",
              "    </tr>\n",
              "    <tr>\n",
              "      <th>3</th>\n",
              "      <td>3</td>\n",
              "      <td>IndiGo</td>\n",
              "      <td>04-May</td>\n",
              "      <td>New Delhi</td>\n",
              "      <td>Mumbai</td>\n",
              "      <td>17:00</td>\n",
              "      <td>19:05</td>\n",
              "      <td>2h 05m</td>\n",
              "      <td>7,319</td>\n",
              "      <td>Non Stop</td>\n",
              "    </tr>\n",
              "    <tr>\n",
              "      <th>4</th>\n",
              "      <td>4</td>\n",
              "      <td>IndiGo</td>\n",
              "      <td>04-May</td>\n",
              "      <td>New Delhi</td>\n",
              "      <td>Mumbai</td>\n",
              "      <td>23:35</td>\n",
              "      <td>01:40\\n+ 1 day</td>\n",
              "      <td>2h 05m</td>\n",
              "      <td>7,319</td>\n",
              "      <td>Non Stop</td>\n",
              "    </tr>\n",
              "  </tbody>\n",
              "</table>\n",
              "</div>"
            ],
            "text/plain": [
              "   Unnamed: 0   Airline    Date     Source Destination Departure Time  \\\n",
              "0           0  Air Asia  04-May  New Delhi      Mumbai          13:00   \n",
              "1           1    IndiGo  04-May  New Delhi      Mumbai          11:55   \n",
              "2           2    IndiGo  04-May  New Delhi      Mumbai          10:45   \n",
              "3           3    IndiGo  04-May  New Delhi      Mumbai          17:00   \n",
              "4           4    IndiGo  04-May  New Delhi      Mumbai          23:35   \n",
              "\n",
              "     Arrival Time Flight Duration  Price     Stops  \n",
              "0           14:50          1h 50m  7,319  Non Stop  \n",
              "1           13:55          2h 00m  7,319  Non Stop  \n",
              "2           12:50          2h 05m  7,319  Non Stop  \n",
              "3           19:05          2h 05m  7,319  Non Stop  \n",
              "4  01:40\\n+ 1 day          2h 05m  7,319  Non Stop  "
            ]
          },
          "execution_count": 237,
          "metadata": {},
          "output_type": "execute_result"
        }
      ],
      "source": [
        "#Visualizing the dataset\n",
        "df.head()"
      ]
    },
    {
      "cell_type": "code",
      "execution_count": null,
      "id": "33c202cb",
      "metadata": {
        "id": "33c202cb",
        "outputId": "1a1820b7-6f44-4eea-c911-3ff270415a3a"
      },
      "outputs": [
        {
          "data": {
            "text/plain": [
              "(1715, 10)"
            ]
          },
          "execution_count": 238,
          "metadata": {},
          "output_type": "execute_result"
        }
      ],
      "source": [
        "df.shape #Looking into the shape of the dataset"
      ]
    },
    {
      "cell_type": "code",
      "execution_count": null,
      "id": "3c3e1fb9",
      "metadata": {
        "id": "3c3e1fb9",
        "outputId": "cf40ad21-e628-4cc9-8159-4f76397507f8"
      },
      "outputs": [
        {
          "name": "stdout",
          "output_type": "stream",
          "text": [
            "<class 'pandas.core.frame.DataFrame'>\n",
            "RangeIndex: 1715 entries, 0 to 1714\n",
            "Data columns (total 10 columns):\n",
            " #   Column           Non-Null Count  Dtype \n",
            "---  ------           --------------  ----- \n",
            " 0   Unnamed: 0       1715 non-null   int64 \n",
            " 1   Airline          1715 non-null   object\n",
            " 2   Date             1715 non-null   object\n",
            " 3   Source           1715 non-null   object\n",
            " 4   Destination      1715 non-null   object\n",
            " 5   Departure Time   1715 non-null   object\n",
            " 6   Arrival Time     1715 non-null   object\n",
            " 7   Flight Duration  1715 non-null   object\n",
            " 8   Price            1715 non-null   object\n",
            " 9   Stops            1715 non-null   object\n",
            "dtypes: int64(1), object(9)\n",
            "memory usage: 134.1+ KB\n"
          ]
        }
      ],
      "source": [
        "#Basic info of the dataset\n",
        "df.info()"
      ]
    },
    {
      "cell_type": "markdown",
      "id": "778f696f",
      "metadata": {
        "id": "778f696f"
      },
      "source": [
        "Here we note that, there are no null values present in the data set."
      ]
    },
    {
      "cell_type": "code",
      "execution_count": null,
      "id": "3458bb48",
      "metadata": {
        "id": "3458bb48",
        "outputId": "a19b40d5-d8bf-4d26-d694-af0fb8ce2669"
      },
      "outputs": [
        {
          "data": {
            "text/plain": [
              "Unnamed: 0         0\n",
              "Airline            0\n",
              "Date               0\n",
              "Source             0\n",
              "Destination        0\n",
              "Departure Time     0\n",
              "Arrival Time       0\n",
              "Flight Duration    0\n",
              "Price              0\n",
              "Stops              0\n",
              "dtype: int64"
            ]
          },
          "execution_count": 240,
          "metadata": {},
          "output_type": "execute_result"
        }
      ],
      "source": [
        "df.isnull().sum()"
      ]
    },
    {
      "cell_type": "code",
      "execution_count": null,
      "id": "551c96e3",
      "metadata": {
        "id": "551c96e3",
        "outputId": "9ca73312-3caf-43b5-9473-74ba8879ec35"
      },
      "outputs": [
        {
          "data": {
            "text/plain": [
              "<AxesSubplot:>"
            ]
          },
          "execution_count": 241,
          "metadata": {},
          "output_type": "execute_result"
        },
        {
          "data": {
            "image/png": "[encoded data removed]",
            "text/plain": [
              "<Figure size 432x288 with 2 Axes>"
            ]
          },
          "metadata": {
            "needs_background": "light"
          },
          "output_type": "display_data"
        }
      ],
      "source": [
        "sns.heatmap(df.isnull(), annot=False) #Visualization of null values"
      ]
    },
    {
      "cell_type": "code",
      "execution_count": null,
      "id": "8c7e87a5",
      "metadata": {
        "id": "8c7e87a5",
        "outputId": "73f8d1ec-70e5-4712-87ce-0086c73a284f"
      },
      "outputs": [
        {
          "data": {
            "text/plain": [
              "Index(['Unnamed: 0', 'Airline', 'Date', 'Source', 'Destination',\n",
              "       'Departure Time', 'Arrival Time', 'Flight Duration', 'Price', 'Stops'],\n",
              "      dtype='object')"
            ]
          },
          "execution_count": 242,
          "metadata": {},
          "output_type": "execute_result"
        }
      ],
      "source": [
        "df.columns #Calling all the column names of the dataset"
      ]
    },
    {
      "cell_type": "markdown",
      "id": "a824274f",
      "metadata": {
        "id": "a824274f"
      },
      "source": [
        "# Exploratory Data Analysis"
      ]
    },
    {
      "cell_type": "markdown",
      "id": "5d5962d1",
      "metadata": {
        "id": "5d5962d1"
      },
      "source": [
        "We drop the unnamed column as it is just present as an index"
      ]
    },
    {
      "cell_type": "code",
      "execution_count": null,
      "id": "408b3efc",
      "metadata": {
        "id": "408b3efc"
      },
      "outputs": [],
      "source": [
        "df.drop(columns='Unnamed: 0',inplace=True)"
      ]
    },
    {
      "cell_type": "markdown",
      "id": "2df4993c",
      "metadata": {
        "id": "2df4993c"
      },
      "source": [
        "Let's look into each column independently   "
      ]
    },
    {
      "cell_type": "code",
      "execution_count": null,
      "id": "e5ced16c",
      "metadata": {
        "id": "e5ced16c",
        "outputId": "fc9cd552-24dd-48e3-db81-fd656164d04f"
      },
      "outputs": [
        {
          "data": {
            "text/plain": [
              "<AxesSubplot:xlabel='Airline', ylabel='count'>"
            ]
          },
          "execution_count": 244,
          "metadata": {},
          "output_type": "execute_result"
        },
        {
          "data": {
            "image/png": "[encoded data removed]",
            "text/plain": [
              "<Figure size 432x288 with 1 Axes>"
            ]
          },
          "metadata": {
            "needs_background": "light"
          },
          "output_type": "display_data"
        }
      ],
      "source": [
        "#Column Airline\n",
        "sns.countplot(df['Airline'])"
      ]
    },
    {
      "cell_type": "code",
      "execution_count": null,
      "id": "1aaefb8d",
      "metadata": {
        "id": "1aaefb8d",
        "outputId": "de5d13b0-7999-4a57-de40-b2ed24d45e54"
      },
      "outputs": [
        {
          "data": {
            "image/png": "[encoded data removed]",
            "text/plain": [
              "<Figure size 432x288 with 1 Axes>"
            ]
          },
          "metadata": {
            "needs_background": "light"
          },
          "output_type": "display_data"
        }
      ],
      "source": [
        "#Column Date\n",
        "plt.figure()\n",
        "sns.countplot(df['Date'])\n",
        "plt.xticks(rotation=90)\n",
        "plt.show()"
      ]
    },
    {
      "cell_type": "markdown",
      "id": "271f3200",
      "metadata": {
        "id": "271f3200"
      },
      "source": [
        "We see that the flights are for dates 04 to 14 for the month of May. We shall change it into date and month columns"
      ]
    },
    {
      "cell_type": "code",
      "execution_count": null,
      "id": "a4bf5b81",
      "metadata": {
        "id": "a4bf5b81"
      },
      "outputs": [],
      "source": [
        "df['Day'] = pd.to_datetime(df['Date'], format='%d-%b').map(lambda x: x.day)\n",
        "df['Month'] = pd.to_datetime(df['Date'], format='%d-%b').map(lambda x: x.month)"
      ]
    },
    {
      "cell_type": "markdown",
      "id": "c151520f",
      "metadata": {
        "id": "c151520f"
      },
      "source": [
        "Now that we have converted the Date, we shall drop the date column"
      ]
    },
    {
      "cell_type": "code",
      "execution_count": null,
      "id": "b7a4e73c",
      "metadata": {
        "id": "b7a4e73c"
      },
      "outputs": [],
      "source": [
        "df.drop(columns='Date',inplace=True)"
      ]
    },
    {
      "cell_type": "code",
      "execution_count": null,
      "id": "67d7d6a3",
      "metadata": {
        "id": "67d7d6a3",
        "outputId": "6f111ce4-d9cc-48bd-bcd4-14b10412aa8b"
      },
      "outputs": [
        {
          "data": {
            "text/plain": [
              "New Delhi    1715\n",
              "Name: Source, dtype: int64"
            ]
          },
          "execution_count": 248,
          "metadata": {},
          "output_type": "execute_result"
        }
      ],
      "source": [
        "#Column Source\n",
        "df['Source'].value_counts()"
      ]
    },
    {
      "cell_type": "code",
      "execution_count": null,
      "id": "b73d11db",
      "metadata": {
        "id": "b73d11db",
        "outputId": "a9f98d8a-4d89-4f76-9101-864b4121de25"
      },
      "outputs": [
        {
          "data": {
            "text/plain": [
              "Mumbai    1715\n",
              "Name: Destination, dtype: int64"
            ]
          },
          "execution_count": 249,
          "metadata": {},
          "output_type": "execute_result"
        }
      ],
      "source": [
        "#Column Destination\n",
        "df['Destination'].value_counts()"
      ]
    },
    {
      "cell_type": "markdown",
      "id": "7f02ad5f",
      "metadata": {
        "id": "7f02ad5f"
      },
      "source": [
        "We see that the data is for flights from delhi to Mumbai"
      ]
    },
    {
      "cell_type": "code",
      "execution_count": null,
      "id": "05de2cc4",
      "metadata": {
        "id": "05de2cc4",
        "outputId": "4380bb52-296b-4075-e154-4b712aa004e0"
      },
      "outputs": [
        {
          "data": {
            "text/plain": [
              "14:45    52\n",
              "12:50    46\n",
              "17:35    43\n",
              "7:20     42\n",
              "20:35    40\n",
              "         ..\n",
              "16:55     1\n",
              "20:15     1\n",
              "14:50     1\n",
              "12:35     1\n",
              "17:25     1\n",
              "Name: Departure Time, Length: 128, dtype: int64"
            ]
          },
          "execution_count": 250,
          "metadata": {},
          "output_type": "execute_result"
        }
      ],
      "source": [
        "#Column Departure Time\n",
        "df['Departure Time'].value_counts()"
      ]
    },
    {
      "cell_type": "markdown",
      "id": "54b85438",
      "metadata": {
        "id": "54b85438"
      },
      "source": [
        "We see that the time is in hours and minutes, let us create columns for it"
      ]
    },
    {
      "cell_type": "code",
      "execution_count": null,
      "id": "725cdaf5",
      "metadata": {
        "id": "725cdaf5"
      },
      "outputs": [],
      "source": [
        "df['D_Hour'] = pd.to_datetime(df['Departure Time'], format='%H:%M').map(lambda x: x.hour)\n",
        "df['D_Min'] = pd.to_datetime(df['Departure Time'], format='%H:%M').map(lambda x: x.minute)"
      ]
    },
    {
      "cell_type": "markdown",
      "id": "a466ab3a",
      "metadata": {
        "id": "a466ab3a"
      },
      "source": [
        "Now that we have converted the Date, we shall drop the Departure Time column"
      ]
    },
    {
      "cell_type": "code",
      "execution_count": null,
      "id": "d73bf53a",
      "metadata": {
        "id": "d73bf53a"
      },
      "outputs": [],
      "source": [
        "df.drop(columns='Departure Time',inplace=True)"
      ]
    },
    {
      "cell_type": "code",
      "execution_count": null,
      "id": "d7103aa0",
      "metadata": {
        "id": "d7103aa0",
        "outputId": "6cdae421-d540-4f8e-af27-57f9f76203b1"
      },
      "outputs": [
        {
          "data": {
            "text/plain": [
              "10:00\\n+ 1 day    44\n",
              "08:40\\n+ 1 day    44\n",
              "19:15             28\n",
              "20:45             28\n",
              "23:00             27\n",
              "                  ..\n",
              "10:25              1\n",
              "23:50\\n+ 1 day     1\n",
              "23:10              1\n",
              "00:25\\n+ 1 day     1\n",
              "11:00\\n+ 1 day     1\n",
              "Name: Arrival Time, Length: 160, dtype: int64"
            ]
          },
          "execution_count": 253,
          "metadata": {},
          "output_type": "execute_result"
        }
      ],
      "source": [
        "#Column Arrival Time\n",
        "df['Arrival Time'].value_counts()"
      ]
    },
    {
      "cell_type": "markdown",
      "id": "ba79c18b",
      "metadata": {
        "id": "ba79c18b"
      },
      "source": [
        "Since we have +1 day in the duration column, we shall just filter it out and leave with only time"
      ]
    },
    {
      "cell_type": "code",
      "execution_count": null,
      "id": "19f58157",
      "metadata": {
        "id": "19f58157"
      },
      "outputs": [],
      "source": [
        "df['Arrival Time'] = df['Arrival Time'].map(lambda x: x.split('\\n')[0])"
      ]
    },
    {
      "cell_type": "markdown",
      "id": "9c0afe83",
      "metadata": {
        "id": "9c0afe83"
      },
      "source": [
        "We see that the time is in hours and minutes, let us create columns for it"
      ]
    },
    {
      "cell_type": "code",
      "execution_count": null,
      "id": "bd368c0a",
      "metadata": {
        "id": "bd368c0a"
      },
      "outputs": [],
      "source": [
        "df['A_Hour'] = pd.to_datetime(df['Arrival Time'], format='%H:%M').map(lambda x: x.hour)\n",
        "df['A_Min'] = pd.to_datetime(df['Arrival Time'], format='%H:%M').map(lambda x: x.minute)"
      ]
    },
    {
      "cell_type": "markdown",
      "id": "4936ee91",
      "metadata": {
        "id": "4936ee91"
      },
      "source": [
        "Now that we have converted the Date, we shall drop the Arrival Time column"
      ]
    },
    {
      "cell_type": "code",
      "execution_count": null,
      "id": "60f5ece7",
      "metadata": {
        "id": "60f5ece7"
      },
      "outputs": [],
      "source": [
        "df.drop(columns='Arrival Time',inplace=True)"
      ]
    },
    {
      "cell_type": "code",
      "execution_count": null,
      "id": "bdeec299",
      "metadata": {
        "id": "bdeec299",
        "outputId": "d696dcba-ac7b-40e1-cfef-1ed7c19d482a"
      },
      "outputs": [
        {
          "data": {
            "text/plain": [
              "2h 10m     187\n",
              "2h 15m     161\n",
              "2h 05m      74\n",
              "2h 20m      74\n",
              "7h 15m      35\n",
              "          ... \n",
              "16h 05m      1\n",
              "8h 05m       1\n",
              "15h 45m      1\n",
              "17h 20m      1\n",
              "17h 15m      1\n",
              "Name: Flight Duration, Length: 148, dtype: int64"
            ]
          },
          "execution_count": 257,
          "metadata": {},
          "output_type": "execute_result"
        }
      ],
      "source": [
        "#Column Flight Duration\n",
        "df['Flight Duration'].value_counts()"
      ]
    },
    {
      "cell_type": "markdown",
      "id": "7ad3f9f4",
      "metadata": {
        "id": "7ad3f9f4"
      },
      "source": [
        "For ease let us just convert the column into minutes"
      ]
    },
    {
      "cell_type": "code",
      "execution_count": null,
      "id": "5c3e4851",
      "metadata": {
        "id": "5c3e4851"
      },
      "outputs": [],
      "source": [
        "df['Flight Duration'] = df['Flight Duration'].map(lambda x: int(x.split('h')[0])*60 + int(x.split('h')[1][:-1]))"
      ]
    },
    {
      "cell_type": "code",
      "execution_count": null,
      "id": "d88b6c78",
      "metadata": {
        "id": "d88b6c78",
        "outputId": "819243d0-a536-4833-8eb6-6f72e5b1820a"
      },
      "outputs": [
        {
          "data": {
            "text/plain": [
              "<AxesSubplot:xlabel='Flight Duration', ylabel='Density'>"
            ]
          },
          "execution_count": 259,
          "metadata": {},
          "output_type": "execute_result"
        },
        {
          "data": {
            "image/png": "[encoded data removed]",
            "text/plain": [
              "<Figure size 432x288 with 1 Axes>"
            ]
          },
          "metadata": {
            "needs_background": "light"
          },
          "output_type": "display_data"
        }
      ],
      "source": [
        "sns.distplot(df['Flight Duration'])"
      ]
    },
    {
      "cell_type": "code",
      "execution_count": null,
      "id": "a33d0b0a",
      "metadata": {
        "id": "a33d0b0a",
        "outputId": "97714a8e-54d9-4e17-f0d0-f85187644c0e"
      },
      "outputs": [
        {
          "data": {
            "text/plain": [
              "1 Stop       1111\n",
              "Non Stop      579\n",
              "2 Stop(s)      25\n",
              "Name: Stops, dtype: int64"
            ]
          },
          "execution_count": 260,
          "metadata": {},
          "output_type": "execute_result"
        }
      ],
      "source": [
        "#Column Stops\n",
        "df['Stops'].value_counts()"
      ]
    },
    {
      "cell_type": "markdown",
      "id": "eda2ef5e",
      "metadata": {
        "id": "eda2ef5e"
      },
      "source": [
        "We shall change it into more understanding numerical type data for ease of modelling"
      ]
    },
    {
      "cell_type": "code",
      "execution_count": null,
      "id": "7b7b262a",
      "metadata": {
        "id": "7b7b262a"
      },
      "outputs": [],
      "source": [
        "df['Stops'] = df['Stops'].map(lambda x: x.split('Stop')[0])"
      ]
    },
    {
      "cell_type": "code",
      "execution_count": null,
      "id": "cce32789",
      "metadata": {
        "id": "cce32789"
      },
      "outputs": [],
      "source": [
        "df['Stops'] = df['Stops'].replace('Non ',0)"
      ]
    },
    {
      "cell_type": "code",
      "execution_count": null,
      "id": "5fa140a1",
      "metadata": {
        "id": "5fa140a1"
      },
      "outputs": [],
      "source": [
        "df['Stops'] = df['Stops'].astype(int)"
      ]
    },
    {
      "cell_type": "code",
      "execution_count": null,
      "id": "a19483f8",
      "metadata": {
        "id": "a19483f8",
        "outputId": "777298b8-3cd8-4164-a571-dc2ae4c80dc3"
      },
      "outputs": [
        {
          "data": {
            "text/plain": [
              "1    1111\n",
              "0     579\n",
              "2      25\n",
              "Name: Stops, dtype: int64"
            ]
          },
          "execution_count": 264,
          "metadata": {},
          "output_type": "execute_result"
        }
      ],
      "source": [
        "df['Stops'].value_counts()"
      ]
    },
    {
      "cell_type": "code",
      "execution_count": null,
      "id": "3d50ca7f",
      "metadata": {
        "id": "3d50ca7f",
        "outputId": "9b7839ea-5b2a-4bc1-a220-62c145ca61fe"
      },
      "outputs": [
        {
          "data": {
            "text/plain": [
              "7,319     412\n",
              "7,320     169\n",
              "12,045    101\n",
              "8,371      61\n",
              "10,889     58\n",
              "         ... \n",
              "13,042      1\n",
              "16,632      1\n",
              "16,228      1\n",
              "12,779      1\n",
              "16,415      1\n",
              "Name: Price, Length: 233, dtype: int64"
            ]
          },
          "execution_count": 265,
          "metadata": {},
          "output_type": "execute_result"
        }
      ],
      "source": [
        "#Column Price\n",
        "df['Price'].value_counts()"
      ]
    },
    {
      "cell_type": "markdown",
      "id": "d1fcc387",
      "metadata": {
        "id": "d1fcc387"
      },
      "source": [
        "The commas present in the price makes it object type, let us treat it to convert into numerical type"
      ]
    },
    {
      "cell_type": "code",
      "execution_count": null,
      "id": "8912fdb2",
      "metadata": {
        "id": "8912fdb2"
      },
      "outputs": [],
      "source": [
        "df['Price'] = df['Price'].map(lambda x: int(x.replace(',','')))"
      ]
    },
    {
      "cell_type": "code",
      "execution_count": null,
      "id": "552871e8",
      "metadata": {
        "id": "552871e8",
        "outputId": "14da1c25-4f93-40c8-ccde-8dd50b4f8b7b"
      },
      "outputs": [
        {
          "data": {
            "text/plain": [
              "<AxesSubplot:xlabel='Price', ylabel='Density'>"
            ]
          },
          "execution_count": 267,
          "metadata": {},
          "output_type": "execute_result"
        },
        {
          "data": {
            "image/png": "[encoded data removed]",
            "text/plain": [
              "<Figure size 432x288 with 1 Axes>"
            ]
          },
          "metadata": {
            "needs_background": "light"
          },
          "output_type": "display_data"
        }
      ],
      "source": [
        "sns.distplot(df['Price'])"
      ]
    },
    {
      "cell_type": "markdown",
      "id": "fd60db07",
      "metadata": {
        "id": "fd60db07"
      },
      "source": [
        "# Data Analysis"
      ]
    },
    {
      "cell_type": "code",
      "execution_count": null,
      "id": "0874e02f",
      "metadata": {
        "id": "0874e02f",
        "outputId": "67b295ac-c5b7-4236-bfa3-ce3f5a3fdf4f"
      },
      "outputs": [
        {
          "data": {
            "text/html": [
              "<div>\n",
              "<style scoped>\n",
              "    .dataframe tbody tr th:only-of-type {\n",
              "        vertical-align: middle;\n",
              "    }\n",
              "\n",
              "    .dataframe tbody tr th {\n",
              "        vertical-align: top;\n",
              "    }\n",
              "\n",
              "    .dataframe thead th {\n",
              "        text-align: right;\n",
              "    }\n",
              "</style>\n",
              "<table border=\"1\" class=\"dataframe\">\n",
              "  <thead>\n",
              "    <tr style=\"text-align: right;\">\n",
              "      <th></th>\n",
              "      <th>A_Hour</th>\n",
              "      <th>A_Min</th>\n",
              "      <th>D_Hour</th>\n",
              "      <th>D_Min</th>\n",
              "      <th>Day</th>\n",
              "      <th>Flight Duration</th>\n",
              "      <th>Month</th>\n",
              "      <th>Price</th>\n",
              "      <th>Stops</th>\n",
              "    </tr>\n",
              "    <tr>\n",
              "      <th>Airline</th>\n",
              "      <th></th>\n",
              "      <th></th>\n",
              "      <th></th>\n",
              "      <th></th>\n",
              "      <th></th>\n",
              "      <th></th>\n",
              "      <th></th>\n",
              "      <th></th>\n",
              "      <th></th>\n",
              "    </tr>\n",
              "  </thead>\n",
              "  <tbody>\n",
              "    <tr>\n",
              "      <th>Air Asia</th>\n",
              "      <td>16.778689</td>\n",
              "      <td>25.040984</td>\n",
              "      <td>14.368852</td>\n",
              "      <td>25.532787</td>\n",
              "      <td>9.196721</td>\n",
              "      <td>356.557377</td>\n",
              "      <td>5</td>\n",
              "      <td>9680.737705</td>\n",
              "      <td>0.516393</td>\n",
              "    </tr>\n",
              "    <tr>\n",
              "      <th>Air India</th>\n",
              "      <td>13.430894</td>\n",
              "      <td>25.711382</td>\n",
              "      <td>13.390244</td>\n",
              "      <td>27.215447</td>\n",
              "      <td>8.743902</td>\n",
              "      <td>527.764228</td>\n",
              "      <td>5</td>\n",
              "      <td>10610.951220</td>\n",
              "      <td>0.735772</td>\n",
              "    </tr>\n",
              "    <tr>\n",
              "      <th>Go First</th>\n",
              "      <td>13.600962</td>\n",
              "      <td>24.014423</td>\n",
              "      <td>12.403846</td>\n",
              "      <td>28.413462</td>\n",
              "      <td>8.980769</td>\n",
              "      <td>295.889423</td>\n",
              "      <td>5</td>\n",
              "      <td>9031.447115</td>\n",
              "      <td>0.326923</td>\n",
              "    </tr>\n",
              "    <tr>\n",
              "      <th>IndiGo</th>\n",
              "      <td>13.255230</td>\n",
              "      <td>27.207113</td>\n",
              "      <td>12.384937</td>\n",
              "      <td>27.876569</td>\n",
              "      <td>9.142259</td>\n",
              "      <td>455.230126</td>\n",
              "      <td>5</td>\n",
              "      <td>10529.150628</td>\n",
              "      <td>0.721757</td>\n",
              "    </tr>\n",
              "    <tr>\n",
              "      <th>SpiceJet</th>\n",
              "      <td>14.418440</td>\n",
              "      <td>23.049645</td>\n",
              "      <td>13.843972</td>\n",
              "      <td>28.226950</td>\n",
              "      <td>8.829787</td>\n",
              "      <td>335.673759</td>\n",
              "      <td>5</td>\n",
              "      <td>9114.985816</td>\n",
              "      <td>0.390071</td>\n",
              "    </tr>\n",
              "    <tr>\n",
              "      <th>Vistara</th>\n",
              "      <td>13.490385</td>\n",
              "      <td>23.480769</td>\n",
              "      <td>13.103846</td>\n",
              "      <td>27.769231</td>\n",
              "      <td>9.094231</td>\n",
              "      <td>600.442308</td>\n",
              "      <td>5</td>\n",
              "      <td>11515.855769</td>\n",
              "      <td>0.863462</td>\n",
              "    </tr>\n",
              "  </tbody>\n",
              "</table>\n",
              "</div>"
            ],
            "text/plain": [
              "              A_Hour      A_Min     D_Hour      D_Min       Day  \\\n",
              "Airline                                                           \n",
              "Air Asia   16.778689  25.040984  14.368852  25.532787  9.196721   \n",
              "Air India  13.430894  25.711382  13.390244  27.215447  8.743902   \n",
              "Go First   13.600962  24.014423  12.403846  28.413462  8.980769   \n",
              "IndiGo     13.255230  27.207113  12.384937  27.876569  9.142259   \n",
              "SpiceJet   14.418440  23.049645  13.843972  28.226950  8.829787   \n",
              "Vistara    13.490385  23.480769  13.103846  27.769231  9.094231   \n",
              "\n",
              "           Flight Duration  Month         Price     Stops  \n",
              "Airline                                                    \n",
              "Air Asia        356.557377      5   9680.737705  0.516393  \n",
              "Air India       527.764228      5  10610.951220  0.735772  \n",
              "Go First        295.889423      5   9031.447115  0.326923  \n",
              "IndiGo          455.230126      5  10529.150628  0.721757  \n",
              "SpiceJet        335.673759      5   9114.985816  0.390071  \n",
              "Vistara         600.442308      5  11515.855769  0.863462  "
            ]
          },
          "execution_count": 268,
          "metadata": {},
          "output_type": "execute_result"
        }
      ],
      "source": [
        "#General Airline basis analysis\n",
        "pd.pivot_table(data=df,index=['Airline'])"
      ]
    },
    {
      "cell_type": "markdown",
      "id": "d11ca12f",
      "metadata": {
        "id": "d11ca12f"
      },
      "source": [
        "We here see that on an average 'Go First' flights are cheaper followed by 'SpiceJet'"
      ]
    },
    {
      "cell_type": "code",
      "execution_count": null,
      "id": "b4ee6605",
      "metadata": {
        "id": "b4ee6605",
        "outputId": "78678e62-266b-4443-8db2-93cb577ef6e5"
      },
      "outputs": [
        {
          "data": {
            "text/html": [
              "<div>\n",
              "<style scoped>\n",
              "    .dataframe tbody tr th:only-of-type {\n",
              "        vertical-align: middle;\n",
              "    }\n",
              "\n",
              "    .dataframe tbody tr th {\n",
              "        vertical-align: top;\n",
              "    }\n",
              "\n",
              "    .dataframe thead th {\n",
              "        text-align: right;\n",
              "    }\n",
              "</style>\n",
              "<table border=\"1\" class=\"dataframe\">\n",
              "  <thead>\n",
              "    <tr style=\"text-align: right;\">\n",
              "      <th></th>\n",
              "      <th>A_Hour</th>\n",
              "      <th>A_Min</th>\n",
              "      <th>D_Hour</th>\n",
              "      <th>D_Min</th>\n",
              "      <th>Flight Duration</th>\n",
              "      <th>Month</th>\n",
              "      <th>Price</th>\n",
              "      <th>Stops</th>\n",
              "    </tr>\n",
              "    <tr>\n",
              "      <th>Day</th>\n",
              "      <th></th>\n",
              "      <th></th>\n",
              "      <th></th>\n",
              "      <th></th>\n",
              "      <th></th>\n",
              "      <th></th>\n",
              "      <th></th>\n",
              "      <th></th>\n",
              "    </tr>\n",
              "  </thead>\n",
              "  <tbody>\n",
              "    <tr>\n",
              "      <th>4</th>\n",
              "      <td>14.219355</td>\n",
              "      <td>24.838710</td>\n",
              "      <td>13.161290</td>\n",
              "      <td>27.096774</td>\n",
              "      <td>516.451613</td>\n",
              "      <td>5</td>\n",
              "      <td>11164.348387</td>\n",
              "      <td>0.683871</td>\n",
              "    </tr>\n",
              "    <tr>\n",
              "      <th>5</th>\n",
              "      <td>13.748387</td>\n",
              "      <td>24.322581</td>\n",
              "      <td>12.567742</td>\n",
              "      <td>27.387097</td>\n",
              "      <td>476.548387</td>\n",
              "      <td>5</td>\n",
              "      <td>10602.638710</td>\n",
              "      <td>0.690323</td>\n",
              "    </tr>\n",
              "    <tr>\n",
              "      <th>6</th>\n",
              "      <td>13.348387</td>\n",
              "      <td>24.580645</td>\n",
              "      <td>12.787097</td>\n",
              "      <td>27.354839</td>\n",
              "      <td>476.838710</td>\n",
              "      <td>5</td>\n",
              "      <td>10145.083871</td>\n",
              "      <td>0.677419</td>\n",
              "    </tr>\n",
              "    <tr>\n",
              "      <th>7</th>\n",
              "      <td>13.561290</td>\n",
              "      <td>24.129032</td>\n",
              "      <td>12.748387</td>\n",
              "      <td>27.838710</td>\n",
              "      <td>435.258065</td>\n",
              "      <td>5</td>\n",
              "      <td>10427.148387</td>\n",
              "      <td>0.651613</td>\n",
              "    </tr>\n",
              "    <tr>\n",
              "      <th>8</th>\n",
              "      <td>13.412903</td>\n",
              "      <td>25.129032</td>\n",
              "      <td>13.309677</td>\n",
              "      <td>27.709677</td>\n",
              "      <td>505.290323</td>\n",
              "      <td>5</td>\n",
              "      <td>11298.909677</td>\n",
              "      <td>0.670968</td>\n",
              "    </tr>\n",
              "    <tr>\n",
              "      <th>9</th>\n",
              "      <td>13.670968</td>\n",
              "      <td>26.225806</td>\n",
              "      <td>12.690323</td>\n",
              "      <td>28.387097</td>\n",
              "      <td>446.870968</td>\n",
              "      <td>5</td>\n",
              "      <td>10258.219355</td>\n",
              "      <td>0.677419</td>\n",
              "    </tr>\n",
              "    <tr>\n",
              "      <th>10</th>\n",
              "      <td>14.322581</td>\n",
              "      <td>25.225806</td>\n",
              "      <td>13.845161</td>\n",
              "      <td>27.580645</td>\n",
              "      <td>527.967742</td>\n",
              "      <td>5</td>\n",
              "      <td>10879.400000</td>\n",
              "      <td>0.735484</td>\n",
              "    </tr>\n",
              "    <tr>\n",
              "      <th>11</th>\n",
              "      <td>13.548387</td>\n",
              "      <td>25.290323</td>\n",
              "      <td>13.051613</td>\n",
              "      <td>28.419355</td>\n",
              "      <td>463.322581</td>\n",
              "      <td>5</td>\n",
              "      <td>9911.561290</td>\n",
              "      <td>0.651613</td>\n",
              "    </tr>\n",
              "    <tr>\n",
              "      <th>12</th>\n",
              "      <td>13.425806</td>\n",
              "      <td>24.483871</td>\n",
              "      <td>12.838710</td>\n",
              "      <td>27.774194</td>\n",
              "      <td>459.290323</td>\n",
              "      <td>5</td>\n",
              "      <td>9673.458065</td>\n",
              "      <td>0.670968</td>\n",
              "    </tr>\n",
              "    <tr>\n",
              "      <th>13</th>\n",
              "      <td>13.632258</td>\n",
              "      <td>25.354839</td>\n",
              "      <td>12.993548</td>\n",
              "      <td>27.387097</td>\n",
              "      <td>454.354839</td>\n",
              "      <td>5</td>\n",
              "      <td>9978.541935</td>\n",
              "      <td>0.670968</td>\n",
              "    </tr>\n",
              "    <tr>\n",
              "      <th>14</th>\n",
              "      <td>14.218182</td>\n",
              "      <td>25.181818</td>\n",
              "      <td>13.115152</td>\n",
              "      <td>27.515152</td>\n",
              "      <td>447.848485</td>\n",
              "      <td>5</td>\n",
              "      <td>10931.418182</td>\n",
              "      <td>0.666667</td>\n",
              "    </tr>\n",
              "  </tbody>\n",
              "</table>\n",
              "</div>"
            ],
            "text/plain": [
              "        A_Hour      A_Min     D_Hour      D_Min  Flight Duration  Month  \\\n",
              "Day                                                                       \n",
              "4    14.219355  24.838710  13.161290  27.096774       516.451613      5   \n",
              "5    13.748387  24.322581  12.567742  27.387097       476.548387      5   \n",
              "6    13.348387  24.580645  12.787097  27.354839       476.838710      5   \n",
              "7    13.561290  24.129032  12.748387  27.838710       435.258065      5   \n",
              "8    13.412903  25.129032  13.309677  27.709677       505.290323      5   \n",
              "9    13.670968  26.225806  12.690323  28.387097       446.870968      5   \n",
              "10   14.322581  25.225806  13.845161  27.580645       527.967742      5   \n",
              "11   13.548387  25.290323  13.051613  28.419355       463.322581      5   \n",
              "12   13.425806  24.483871  12.838710  27.774194       459.290323      5   \n",
              "13   13.632258  25.354839  12.993548  27.387097       454.354839      5   \n",
              "14   14.218182  25.181818  13.115152  27.515152       447.848485      5   \n",
              "\n",
              "            Price     Stops  \n",
              "Day                          \n",
              "4    11164.348387  0.683871  \n",
              "5    10602.638710  0.690323  \n",
              "6    10145.083871  0.677419  \n",
              "7    10427.148387  0.651613  \n",
              "8    11298.909677  0.670968  \n",
              "9    10258.219355  0.677419  \n",
              "10   10879.400000  0.735484  \n",
              "11    9911.561290  0.651613  \n",
              "12    9673.458065  0.670968  \n",
              "13    9978.541935  0.670968  \n",
              "14   10931.418182  0.666667  "
            ]
          },
          "execution_count": 269,
          "metadata": {},
          "output_type": "execute_result"
        }
      ],
      "source": [
        "#General Day basis analysis\n",
        "pd.pivot_table(data=df,index=['Day'])"
      ]
    },
    {
      "cell_type": "markdown",
      "id": "d50f63d5",
      "metadata": {
        "id": "d50f63d5"
      },
      "source": [
        "Since the data scraping was done on 3rd May, we can analyse that flights are cheapest if booked approximately 9 days before the departure"
      ]
    },
    {
      "cell_type": "code",
      "execution_count": null,
      "id": "921c5c4b",
      "metadata": {
        "id": "921c5c4b",
        "outputId": "a616d18f-c73a-4b2b-f39a-b94b883811e5"
      },
      "outputs": [
        {
          "data": {
            "text/html": [
              "<div>\n",
              "<style scoped>\n",
              "    .dataframe tbody tr th:only-of-type {\n",
              "        vertical-align: middle;\n",
              "    }\n",
              "\n",
              "    .dataframe tbody tr th {\n",
              "        vertical-align: top;\n",
              "    }\n",
              "\n",
              "    .dataframe thead th {\n",
              "        text-align: right;\n",
              "    }\n",
              "</style>\n",
              "<table border=\"1\" class=\"dataframe\">\n",
              "  <thead>\n",
              "    <tr style=\"text-align: right;\">\n",
              "      <th></th>\n",
              "      <th>A_Hour</th>\n",
              "      <th>A_Min</th>\n",
              "      <th>D_Min</th>\n",
              "      <th>Day</th>\n",
              "      <th>Flight Duration</th>\n",
              "      <th>Month</th>\n",
              "      <th>Price</th>\n",
              "      <th>Stops</th>\n",
              "    </tr>\n",
              "    <tr>\n",
              "      <th>D_Hour</th>\n",
              "      <th></th>\n",
              "      <th></th>\n",
              "      <th></th>\n",
              "      <th></th>\n",
              "      <th></th>\n",
              "      <th></th>\n",
              "      <th></th>\n",
              "      <th></th>\n",
              "    </tr>\n",
              "  </thead>\n",
              "  <tbody>\n",
              "    <tr>\n",
              "      <th>0</th>\n",
              "      <td>7.333333</td>\n",
              "      <td>26.666667</td>\n",
              "      <td>15.000000</td>\n",
              "      <td>9.500000</td>\n",
              "      <td>451.666667</td>\n",
              "      <td>5</td>\n",
              "      <td>11905.933333</td>\n",
              "      <td>1.000000</td>\n",
              "    </tr>\n",
              "    <tr>\n",
              "      <th>2</th>\n",
              "      <td>4.000000</td>\n",
              "      <td>28.000000</td>\n",
              "      <td>18.000000</td>\n",
              "      <td>9.450000</td>\n",
              "      <td>130.000000</td>\n",
              "      <td>5</td>\n",
              "      <td>7319.000000</td>\n",
              "      <td>0.000000</td>\n",
              "    </tr>\n",
              "    <tr>\n",
              "      <th>4</th>\n",
              "      <td>8.240000</td>\n",
              "      <td>40.800000</td>\n",
              "      <td>37.400000</td>\n",
              "      <td>9.400000</td>\n",
              "      <td>257.800000</td>\n",
              "      <td>5</td>\n",
              "      <td>10034.320000</td>\n",
              "      <td>0.560000</td>\n",
              "    </tr>\n",
              "    <tr>\n",
              "      <th>5</th>\n",
              "      <td>12.428571</td>\n",
              "      <td>25.357143</td>\n",
              "      <td>29.948980</td>\n",
              "      <td>9.000000</td>\n",
              "      <td>441.122449</td>\n",
              "      <td>5</td>\n",
              "      <td>10238.663265</td>\n",
              "      <td>1.000000</td>\n",
              "    </tr>\n",
              "    <tr>\n",
              "      <th>6</th>\n",
              "      <td>13.298701</td>\n",
              "      <td>19.415584</td>\n",
              "      <td>16.493506</td>\n",
              "      <td>8.285714</td>\n",
              "      <td>440.844156</td>\n",
              "      <td>5</td>\n",
              "      <td>11399.285714</td>\n",
              "      <td>0.597403</td>\n",
              "    </tr>\n",
              "    <tr>\n",
              "      <th>7</th>\n",
              "      <td>12.538462</td>\n",
              "      <td>29.230769</td>\n",
              "      <td>16.875000</td>\n",
              "      <td>9.076923</td>\n",
              "      <td>372.355769</td>\n",
              "      <td>5</td>\n",
              "      <td>10018.682692</td>\n",
              "      <td>0.490385</td>\n",
              "    </tr>\n",
              "    <tr>\n",
              "      <th>8</th>\n",
              "      <td>13.414286</td>\n",
              "      <td>21.785714</td>\n",
              "      <td>22.571429</td>\n",
              "      <td>8.928571</td>\n",
              "      <td>324.071429</td>\n",
              "      <td>5</td>\n",
              "      <td>9408.342857</td>\n",
              "      <td>0.385714</td>\n",
              "    </tr>\n",
              "    <tr>\n",
              "      <th>9</th>\n",
              "      <td>16.584071</td>\n",
              "      <td>28.672566</td>\n",
              "      <td>30.221239</td>\n",
              "      <td>8.911504</td>\n",
              "      <td>504.469027</td>\n",
              "      <td>5</td>\n",
              "      <td>11243.292035</td>\n",
              "      <td>0.823009</td>\n",
              "    </tr>\n",
              "    <tr>\n",
              "      <th>10</th>\n",
              "      <td>13.513889</td>\n",
              "      <td>25.312500</td>\n",
              "      <td>30.486111</td>\n",
              "      <td>8.736111</td>\n",
              "      <td>605.659722</td>\n",
              "      <td>5</td>\n",
              "      <td>10443.055556</td>\n",
              "      <td>0.847222</td>\n",
              "    </tr>\n",
              "    <tr>\n",
              "      <th>11</th>\n",
              "      <td>16.797468</td>\n",
              "      <td>33.354430</td>\n",
              "      <td>36.392405</td>\n",
              "      <td>9.075949</td>\n",
              "      <td>490.632911</td>\n",
              "      <td>5</td>\n",
              "      <td>12239.075949</td>\n",
              "      <td>0.708861</td>\n",
              "    </tr>\n",
              "    <tr>\n",
              "      <th>12</th>\n",
              "      <td>18.936508</td>\n",
              "      <td>21.666667</td>\n",
              "      <td>40.000000</td>\n",
              "      <td>8.936508</td>\n",
              "      <td>397.857143</td>\n",
              "      <td>5</td>\n",
              "      <td>10283.031746</td>\n",
              "      <td>0.825397</td>\n",
              "    </tr>\n",
              "    <tr>\n",
              "      <th>13</th>\n",
              "      <td>17.596774</td>\n",
              "      <td>30.080645</td>\n",
              "      <td>20.403226</td>\n",
              "      <td>9.435484</td>\n",
              "      <td>610.645161</td>\n",
              "      <td>5</td>\n",
              "      <td>11433.177419</td>\n",
              "      <td>0.903226</td>\n",
              "    </tr>\n",
              "    <tr>\n",
              "      <th>14</th>\n",
              "      <td>14.448276</td>\n",
              "      <td>19.741379</td>\n",
              "      <td>26.853448</td>\n",
              "      <td>9.284483</td>\n",
              "      <td>553.577586</td>\n",
              "      <td>5</td>\n",
              "      <td>10963.448276</td>\n",
              "      <td>0.655172</td>\n",
              "    </tr>\n",
              "    <tr>\n",
              "      <th>15</th>\n",
              "      <td>16.985507</td>\n",
              "      <td>25.000000</td>\n",
              "      <td>24.927536</td>\n",
              "      <td>9.014493</td>\n",
              "      <td>390.507246</td>\n",
              "      <td>5</td>\n",
              "      <td>9178.347826</td>\n",
              "      <td>0.521739</td>\n",
              "    </tr>\n",
              "    <tr>\n",
              "      <th>16</th>\n",
              "      <td>19.171429</td>\n",
              "      <td>21.428571</td>\n",
              "      <td>29.428571</td>\n",
              "      <td>9.171429</td>\n",
              "      <td>223.428571</td>\n",
              "      <td>5</td>\n",
              "      <td>9724.028571</td>\n",
              "      <td>0.371429</td>\n",
              "    </tr>\n",
              "    <tr>\n",
              "      <th>17</th>\n",
              "      <td>14.244275</td>\n",
              "      <td>18.931298</td>\n",
              "      <td>28.053435</td>\n",
              "      <td>9.190840</td>\n",
              "      <td>518.053435</td>\n",
              "      <td>5</td>\n",
              "      <td>11230.290076</td>\n",
              "      <td>0.824427</td>\n",
              "    </tr>\n",
              "    <tr>\n",
              "      <th>18</th>\n",
              "      <td>14.341772</td>\n",
              "      <td>27.151899</td>\n",
              "      <td>37.911392</td>\n",
              "      <td>9.063291</td>\n",
              "      <td>407.721519</td>\n",
              "      <td>5</td>\n",
              "      <td>9217.721519</td>\n",
              "      <td>0.443038</td>\n",
              "    </tr>\n",
              "    <tr>\n",
              "      <th>19</th>\n",
              "      <td>13.559524</td>\n",
              "      <td>28.750000</td>\n",
              "      <td>38.571429</td>\n",
              "      <td>9.202381</td>\n",
              "      <td>332.321429</td>\n",
              "      <td>5</td>\n",
              "      <td>9665.857143</td>\n",
              "      <td>0.464286</td>\n",
              "    </tr>\n",
              "    <tr>\n",
              "      <th>20</th>\n",
              "      <td>12.792857</td>\n",
              "      <td>21.535714</td>\n",
              "      <td>31.500000</td>\n",
              "      <td>8.857143</td>\n",
              "      <td>617.035714</td>\n",
              "      <td>5</td>\n",
              "      <td>10693.928571</td>\n",
              "      <td>0.735714</td>\n",
              "    </tr>\n",
              "    <tr>\n",
              "      <th>21</th>\n",
              "      <td>12.851485</td>\n",
              "      <td>28.019802</td>\n",
              "      <td>23.168317</td>\n",
              "      <td>9.128713</td>\n",
              "      <td>428.415842</td>\n",
              "      <td>5</td>\n",
              "      <td>9823.118812</td>\n",
              "      <td>0.524752</td>\n",
              "    </tr>\n",
              "    <tr>\n",
              "      <th>22</th>\n",
              "      <td>5.938462</td>\n",
              "      <td>17.153846</td>\n",
              "      <td>12.923077</td>\n",
              "      <td>9.046154</td>\n",
              "      <td>724.230769</td>\n",
              "      <td>5</td>\n",
              "      <td>11118.938462</td>\n",
              "      <td>0.815385</td>\n",
              "    </tr>\n",
              "    <tr>\n",
              "      <th>23</th>\n",
              "      <td>1.000000</td>\n",
              "      <td>40.000000</td>\n",
              "      <td>35.000000</td>\n",
              "      <td>9.400000</td>\n",
              "      <td>125.000000</td>\n",
              "      <td>5</td>\n",
              "      <td>7361.000000</td>\n",
              "      <td>0.000000</td>\n",
              "    </tr>\n",
              "  </tbody>\n",
              "</table>\n",
              "</div>"
            ],
            "text/plain": [
              "           A_Hour      A_Min      D_Min       Day  Flight Duration  Month  \\\n",
              "D_Hour                                                                      \n",
              "0        7.333333  26.666667  15.000000  9.500000       451.666667      5   \n",
              "2        4.000000  28.000000  18.000000  9.450000       130.000000      5   \n",
              "4        8.240000  40.800000  37.400000  9.400000       257.800000      5   \n",
              "5       12.428571  25.357143  29.948980  9.000000       441.122449      5   \n",
              "6       13.298701  19.415584  16.493506  8.285714       440.844156      5   \n",
              "7       12.538462  29.230769  16.875000  9.076923       372.355769      5   \n",
              "8       13.414286  21.785714  22.571429  8.928571       324.071429      5   \n",
              "9       16.584071  28.672566  30.221239  8.911504       504.469027      5   \n",
              "10      13.513889  25.312500  30.486111  8.736111       605.659722      5   \n",
              "11      16.797468  33.354430  36.392405  9.075949       490.632911      5   \n",
              "12      18.936508  21.666667  40.000000  8.936508       397.857143      5   \n",
              "13      17.596774  30.080645  20.403226  9.435484       610.645161      5   \n",
              "14      14.448276  19.741379  26.853448  9.284483       553.577586      5   \n",
              "15      16.985507  25.000000  24.927536  9.014493       390.507246      5   \n",
              "16      19.171429  21.428571  29.428571  9.171429       223.428571      5   \n",
              "17      14.244275  18.931298  28.053435  9.190840       518.053435      5   \n",
              "18      14.341772  27.151899  37.911392  9.063291       407.721519      5   \n",
              "19      13.559524  28.750000  38.571429  9.202381       332.321429      5   \n",
              "20      12.792857  21.535714  31.500000  8.857143       617.035714      5   \n",
              "21      12.851485  28.019802  23.168317  9.128713       428.415842      5   \n",
              "22       5.938462  17.153846  12.923077  9.046154       724.230769      5   \n",
              "23       1.000000  40.000000  35.000000  9.400000       125.000000      5   \n",
              "\n",
              "               Price     Stops  \n",
              "D_Hour                          \n",
              "0       11905.933333  1.000000  \n",
              "2        7319.000000  0.000000  \n",
              "4       10034.320000  0.560000  \n",
              "5       10238.663265  1.000000  \n",
              "6       11399.285714  0.597403  \n",
              "7       10018.682692  0.490385  \n",
              "8        9408.342857  0.385714  \n",
              "9       11243.292035  0.823009  \n",
              "10      10443.055556  0.847222  \n",
              "11      12239.075949  0.708861  \n",
              "12      10283.031746  0.825397  \n",
              "13      11433.177419  0.903226  \n",
              "14      10963.448276  0.655172  \n",
              "15       9178.347826  0.521739  \n",
              "16       9724.028571  0.371429  \n",
              "17      11230.290076  0.824427  \n",
              "18       9217.721519  0.443038  \n",
              "19       9665.857143  0.464286  \n",
              "20      10693.928571  0.735714  \n",
              "21       9823.118812  0.524752  \n",
              "22      11118.938462  0.815385  \n",
              "23       7361.000000  0.000000  "
            ]
          },
          "execution_count": 270,
          "metadata": {},
          "output_type": "execute_result"
        }
      ],
      "source": [
        "#General Time basis analysis\n",
        "pd.pivot_table(data=df,index=['D_Hour'])"
      ]
    },
    {
      "cell_type": "markdown",
      "id": "d8d1c9a8",
      "metadata": {
        "id": "d8d1c9a8"
      },
      "source": [
        "From this data we see that flight with departure around midnight is the cheapest"
      ]
    },
    {
      "cell_type": "code",
      "execution_count": null,
      "id": "38d73be9",
      "metadata": {
        "id": "38d73be9",
        "outputId": "e96248f9-7482-4938-8c83-84aed2c376f9"
      },
      "outputs": [
        {
          "data": {
            "text/html": [
              "<div>\n",
              "<style scoped>\n",
              "    .dataframe tbody tr th:only-of-type {\n",
              "        vertical-align: middle;\n",
              "    }\n",
              "\n",
              "    .dataframe tbody tr th {\n",
              "        vertical-align: top;\n",
              "    }\n",
              "\n",
              "    .dataframe thead th {\n",
              "        text-align: right;\n",
              "    }\n",
              "</style>\n",
              "<table border=\"1\" class=\"dataframe\">\n",
              "  <thead>\n",
              "    <tr style=\"text-align: right;\">\n",
              "      <th></th>\n",
              "      <th>A_Hour</th>\n",
              "      <th>A_Min</th>\n",
              "      <th>D_Hour</th>\n",
              "      <th>D_Min</th>\n",
              "      <th>Day</th>\n",
              "      <th>Flight Duration</th>\n",
              "      <th>Month</th>\n",
              "      <th>Price</th>\n",
              "    </tr>\n",
              "    <tr>\n",
              "      <th>Stops</th>\n",
              "      <th></th>\n",
              "      <th></th>\n",
              "      <th></th>\n",
              "      <th></th>\n",
              "      <th></th>\n",
              "      <th></th>\n",
              "      <th></th>\n",
              "      <th></th>\n",
              "    </tr>\n",
              "  </thead>\n",
              "  <tbody>\n",
              "    <tr>\n",
              "      <th>0</th>\n",
              "      <td>14.297064</td>\n",
              "      <td>23.886010</td>\n",
              "      <td>13.405872</td>\n",
              "      <td>26.994819</td>\n",
              "      <td>9.043178</td>\n",
              "      <td>132.435233</td>\n",
              "      <td>5</td>\n",
              "      <td>7578.918826</td>\n",
              "    </tr>\n",
              "    <tr>\n",
              "      <th>1</th>\n",
              "      <td>13.363636</td>\n",
              "      <td>25.729073</td>\n",
              "      <td>12.892889</td>\n",
              "      <td>28.001800</td>\n",
              "      <td>9.031503</td>\n",
              "      <td>650.706571</td>\n",
              "      <td>5</td>\n",
              "      <td>12032.686769</td>\n",
              "    </tr>\n",
              "    <tr>\n",
              "      <th>2</th>\n",
              "      <td>17.560000</td>\n",
              "      <td>17.000000</td>\n",
              "      <td>9.080000</td>\n",
              "      <td>29.000000</td>\n",
              "      <td>8.600000</td>\n",
              "      <td>496.800000</td>\n",
              "      <td>5</td>\n",
              "      <td>8790.720000</td>\n",
              "    </tr>\n",
              "  </tbody>\n",
              "</table>\n",
              "</div>"
            ],
            "text/plain": [
              "          A_Hour      A_Min     D_Hour      D_Min       Day  Flight Duration  \\\n",
              "Stops                                                                          \n",
              "0      14.297064  23.886010  13.405872  26.994819  9.043178       132.435233   \n",
              "1      13.363636  25.729073  12.892889  28.001800  9.031503       650.706571   \n",
              "2      17.560000  17.000000   9.080000  29.000000  8.600000       496.800000   \n",
              "\n",
              "       Month         Price  \n",
              "Stops                       \n",
              "0          5   7578.918826  \n",
              "1          5  12032.686769  \n",
              "2          5   8790.720000  "
            ]
          },
          "execution_count": 271,
          "metadata": {},
          "output_type": "execute_result"
        }
      ],
      "source": [
        "#General Stops basis analysis\n",
        "pd.pivot_table(data=df,index=['Stops'])"
      ]
    },
    {
      "cell_type": "markdown",
      "id": "bc2141bf",
      "metadata": {
        "id": "bc2141bf"
      },
      "source": [
        "For Delhi-Mumbai flight, non-stop flights are comparitively cheaper. Let us look for patter in the flight duration to confirm"
      ]
    },
    {
      "cell_type": "code",
      "execution_count": null,
      "id": "dfba8e13",
      "metadata": {
        "id": "dfba8e13",
        "outputId": "f266f6a5-ec7b-44ef-b084-91239a2b5222"
      },
      "outputs": [
        {
          "data": {
            "text/html": [
              "<div>\n",
              "<style scoped>\n",
              "    .dataframe tbody tr th:only-of-type {\n",
              "        vertical-align: middle;\n",
              "    }\n",
              "\n",
              "    .dataframe tbody tr th {\n",
              "        vertical-align: top;\n",
              "    }\n",
              "\n",
              "    .dataframe thead th {\n",
              "        text-align: right;\n",
              "    }\n",
              "</style>\n",
              "<table border=\"1\" class=\"dataframe\">\n",
              "  <thead>\n",
              "    <tr style=\"text-align: right;\">\n",
              "      <th></th>\n",
              "      <th>A_Hour</th>\n",
              "      <th>A_Min</th>\n",
              "      <th>D_Hour</th>\n",
              "      <th>D_Min</th>\n",
              "      <th>Day</th>\n",
              "      <th>Month</th>\n",
              "      <th>Price</th>\n",
              "      <th>Stops</th>\n",
              "    </tr>\n",
              "    <tr>\n",
              "      <th>Flight Duration</th>\n",
              "      <th></th>\n",
              "      <th></th>\n",
              "      <th></th>\n",
              "      <th></th>\n",
              "      <th></th>\n",
              "      <th></th>\n",
              "      <th></th>\n",
              "      <th></th>\n",
              "    </tr>\n",
              "  </thead>\n",
              "  <tbody>\n",
              "    <tr>\n",
              "      <th>110</th>\n",
              "      <td>14.000000</td>\n",
              "      <td>50.000000</td>\n",
              "      <td>13.000000</td>\n",
              "      <td>0.000000</td>\n",
              "      <td>8.900000</td>\n",
              "      <td>5</td>\n",
              "      <td>7350.600000</td>\n",
              "      <td>0.0</td>\n",
              "    </tr>\n",
              "    <tr>\n",
              "      <th>120</th>\n",
              "      <td>14.750000</td>\n",
              "      <td>28.125000</td>\n",
              "      <td>12.750000</td>\n",
              "      <td>28.125000</td>\n",
              "      <td>9.093750</td>\n",
              "      <td>5</td>\n",
              "      <td>7890.593750</td>\n",
              "      <td>0.0</td>\n",
              "    </tr>\n",
              "    <tr>\n",
              "      <th>125</th>\n",
              "      <td>10.108108</td>\n",
              "      <td>27.972973</td>\n",
              "      <td>11.351351</td>\n",
              "      <td>22.972973</td>\n",
              "      <td>9.108108</td>\n",
              "      <td>5</td>\n",
              "      <td>7424.270270</td>\n",
              "      <td>0.0</td>\n",
              "    </tr>\n",
              "    <tr>\n",
              "      <th>130</th>\n",
              "      <td>14.802139</td>\n",
              "      <td>28.315508</td>\n",
              "      <td>12.732620</td>\n",
              "      <td>22.486631</td>\n",
              "      <td>9.096257</td>\n",
              "      <td>5</td>\n",
              "      <td>7513.684492</td>\n",
              "      <td>0.0</td>\n",
              "    </tr>\n",
              "    <tr>\n",
              "      <th>135</th>\n",
              "      <td>15.012422</td>\n",
              "      <td>21.397516</td>\n",
              "      <td>14.409938</td>\n",
              "      <td>29.875776</td>\n",
              "      <td>9.006211</td>\n",
              "      <td>5</td>\n",
              "      <td>7670.155280</td>\n",
              "      <td>0.0</td>\n",
              "    </tr>\n",
              "    <tr>\n",
              "      <th>...</th>\n",
              "      <td>...</td>\n",
              "      <td>...</td>\n",
              "      <td>...</td>\n",
              "      <td>...</td>\n",
              "      <td>...</td>\n",
              "      <td>...</td>\n",
              "      <td>...</td>\n",
              "      <td>...</td>\n",
              "    </tr>\n",
              "    <tr>\n",
              "      <th>1585</th>\n",
              "      <td>23.000000</td>\n",
              "      <td>0.000000</td>\n",
              "      <td>20.000000</td>\n",
              "      <td>35.000000</td>\n",
              "      <td>9.625000</td>\n",
              "      <td>5</td>\n",
              "      <td>12333.750000</td>\n",
              "      <td>1.0</td>\n",
              "    </tr>\n",
              "    <tr>\n",
              "      <th>1595</th>\n",
              "      <td>0.000000</td>\n",
              "      <td>35.000000</td>\n",
              "      <td>22.000000</td>\n",
              "      <td>0.000000</td>\n",
              "      <td>9.000000</td>\n",
              "      <td>5</td>\n",
              "      <td>12226.363636</td>\n",
              "      <td>1.0</td>\n",
              "    </tr>\n",
              "    <tr>\n",
              "      <th>1600</th>\n",
              "      <td>16.000000</td>\n",
              "      <td>0.000000</td>\n",
              "      <td>13.000000</td>\n",
              "      <td>20.000000</td>\n",
              "      <td>9.000000</td>\n",
              "      <td>5</td>\n",
              "      <td>11820.000000</td>\n",
              "      <td>1.0</td>\n",
              "    </tr>\n",
              "    <tr>\n",
              "      <th>1615</th>\n",
              "      <td>10.000000</td>\n",
              "      <td>0.000000</td>\n",
              "      <td>7.000000</td>\n",
              "      <td>5.000000</td>\n",
              "      <td>4.000000</td>\n",
              "      <td>5</td>\n",
              "      <td>12045.000000</td>\n",
              "      <td>1.0</td>\n",
              "    </tr>\n",
              "    <tr>\n",
              "      <th>1655</th>\n",
              "      <td>14.000000</td>\n",
              "      <td>45.000000</td>\n",
              "      <td>11.000000</td>\n",
              "      <td>10.000000</td>\n",
              "      <td>8.333333</td>\n",
              "      <td>5</td>\n",
              "      <td>13357.500000</td>\n",
              "      <td>1.0</td>\n",
              "    </tr>\n",
              "  </tbody>\n",
              "</table>\n",
              "<p>148 rows × 8 columns</p>\n",
              "</div>"
            ],
            "text/plain": [
              "                    A_Hour      A_Min     D_Hour      D_Min       Day  Month  \\\n",
              "Flight Duration                                                                \n",
              "110              14.000000  50.000000  13.000000   0.000000  8.900000      5   \n",
              "120              14.750000  28.125000  12.750000  28.125000  9.093750      5   \n",
              "125              10.108108  27.972973  11.351351  22.972973  9.108108      5   \n",
              "130              14.802139  28.315508  12.732620  22.486631  9.096257      5   \n",
              "135              15.012422  21.397516  14.409938  29.875776  9.006211      5   \n",
              "...                    ...        ...        ...        ...       ...    ...   \n",
              "1585             23.000000   0.000000  20.000000  35.000000  9.625000      5   \n",
              "1595              0.000000  35.000000  22.000000   0.000000  9.000000      5   \n",
              "1600             16.000000   0.000000  13.000000  20.000000  9.000000      5   \n",
              "1615             10.000000   0.000000   7.000000   5.000000  4.000000      5   \n",
              "1655             14.000000  45.000000  11.000000  10.000000  8.333333      5   \n",
              "\n",
              "                        Price  Stops  \n",
              "Flight Duration                       \n",
              "110               7350.600000    0.0  \n",
              "120               7890.593750    0.0  \n",
              "125               7424.270270    0.0  \n",
              "130               7513.684492    0.0  \n",
              "135               7670.155280    0.0  \n",
              "...                       ...    ...  \n",
              "1585             12333.750000    1.0  \n",
              "1595             12226.363636    1.0  \n",
              "1600             11820.000000    1.0  \n",
              "1615             12045.000000    1.0  \n",
              "1655             13357.500000    1.0  \n",
              "\n",
              "[148 rows x 8 columns]"
            ]
          },
          "execution_count": 272,
          "metadata": {},
          "output_type": "execute_result"
        }
      ],
      "source": [
        "#General Duration basis analysis\n",
        "pd.pivot_table(data=df,index=['Flight Duration'])"
      ]
    },
    {
      "cell_type": "markdown",
      "id": "9530879d",
      "metadata": {
        "id": "9530879d"
      },
      "source": [
        "This above data confirms that non stop flights are comparitively cheaper"
      ]
    },
    {
      "cell_type": "markdown",
      "id": "384055e7",
      "metadata": {
        "id": "384055e7"
      },
      "source": [
        "# Correlation"
      ]
    },
    {
      "cell_type": "markdown",
      "id": "0e000baa",
      "metadata": {
        "id": "0e000baa"
      },
      "source": [
        "Before we move to correlation matrix, let us encode the object data types"
      ]
    },
    {
      "cell_type": "code",
      "execution_count": null,
      "id": "75e2b5a7",
      "metadata": {
        "id": "75e2b5a7"
      },
      "outputs": [],
      "source": [
        "le = LabelEncoder()\n",
        "df['Airline'] = le.fit_transform(df['Airline'])\n",
        "df['Source'] = le.fit_transform(df['Source'])\n",
        "df['Destination'] = le.fit_transform(df['Destination'])"
      ]
    },
    {
      "cell_type": "code",
      "execution_count": null,
      "id": "1e5c724e",
      "metadata": {
        "id": "1e5c724e",
        "outputId": "bfdd2c61-fd1a-4e89-a176-0b1f6b305bb9"
      },
      "outputs": [
        {
          "name": "stdout",
          "output_type": "stream",
          "text": [
            "<class 'pandas.core.frame.DataFrame'>\n",
            "RangeIndex: 1715 entries, 0 to 1714\n",
            "Data columns (total 12 columns):\n",
            " #   Column           Non-Null Count  Dtype\n",
            "---  ------           --------------  -----\n",
            " 0   Airline          1715 non-null   int32\n",
            " 1   Source           1715 non-null   int32\n",
            " 2   Destination      1715 non-null   int32\n",
            " 3   Flight Duration  1715 non-null   int64\n",
            " 4   Price            1715 non-null   int64\n",
            " 5   Stops            1715 non-null   int32\n",
            " 6   Day              1715 non-null   int64\n",
            " 7   Month            1715 non-null   int64\n",
            " 8   D_Hour           1715 non-null   int64\n",
            " 9   D_Min            1715 non-null   int64\n",
            " 10  A_Hour           1715 non-null   int64\n",
            " 11  A_Min            1715 non-null   int64\n",
            "dtypes: int32(4), int64(8)\n",
            "memory usage: 134.1 KB\n"
          ]
        }
      ],
      "source": [
        "#Checking the info of the dataframe\n",
        "df.info()"
      ]
    },
    {
      "cell_type": "code",
      "execution_count": null,
      "id": "a1421471",
      "metadata": {
        "id": "a1421471",
        "outputId": "40c7a80c-55d8-475d-a1af-e51b54a7aed7"
      },
      "outputs": [
        {
          "data": {
            "text/html": [
              "<div>\n",
              "<style scoped>\n",
              "    .dataframe tbody tr th:only-of-type {\n",
              "        vertical-align: middle;\n",
              "    }\n",
              "\n",
              "    .dataframe tbody tr th {\n",
              "        vertical-align: top;\n",
              "    }\n",
              "\n",
              "    .dataframe thead th {\n",
              "        text-align: right;\n",
              "    }\n",
              "</style>\n",
              "<table border=\"1\" class=\"dataframe\">\n",
              "  <thead>\n",
              "    <tr style=\"text-align: right;\">\n",
              "      <th></th>\n",
              "      <th>Airline</th>\n",
              "      <th>Source</th>\n",
              "      <th>Destination</th>\n",
              "      <th>Flight Duration</th>\n",
              "      <th>Price</th>\n",
              "      <th>Stops</th>\n",
              "      <th>Day</th>\n",
              "      <th>Month</th>\n",
              "      <th>D_Hour</th>\n",
              "      <th>D_Min</th>\n",
              "      <th>A_Hour</th>\n",
              "      <th>A_Min</th>\n",
              "    </tr>\n",
              "  </thead>\n",
              "  <tbody>\n",
              "    <tr>\n",
              "      <th>count</th>\n",
              "      <td>1715.000000</td>\n",
              "      <td>1715.0</td>\n",
              "      <td>1715.0</td>\n",
              "      <td>1715.000000</td>\n",
              "      <td>1715.000000</td>\n",
              "      <td>1715.000000</td>\n",
              "      <td>1715.000000</td>\n",
              "      <td>1715.0</td>\n",
              "      <td>1715.000000</td>\n",
              "      <td>1715.000000</td>\n",
              "      <td>1715.000000</td>\n",
              "      <td>1715.000000</td>\n",
              "    </tr>\n",
              "    <tr>\n",
              "      <th>mean</th>\n",
              "      <td>3.067055</td>\n",
              "      <td>0.0</td>\n",
              "      <td>0.0</td>\n",
              "      <td>473.489796</td>\n",
              "      <td>10481.794169</td>\n",
              "      <td>0.676968</td>\n",
              "      <td>9.029155</td>\n",
              "      <td>5.0</td>\n",
              "      <td>13.010496</td>\n",
              "      <td>27.676385</td>\n",
              "      <td>13.739942</td>\n",
              "      <td>24.979592</td>\n",
              "    </tr>\n",
              "    <tr>\n",
              "      <th>std</th>\n",
              "      <td>1.620912</td>\n",
              "      <td>0.0</td>\n",
              "      <td>0.0</td>\n",
              "      <td>365.008343</td>\n",
              "      <td>3143.484340</td>\n",
              "      <td>0.497977</td>\n",
              "      <td>3.176869</td>\n",
              "      <td>0.0</td>\n",
              "      <td>5.712267</td>\n",
              "      <td>17.723657</td>\n",
              "      <td>6.593817</td>\n",
              "      <td>17.545977</td>\n",
              "    </tr>\n",
              "    <tr>\n",
              "      <th>min</th>\n",
              "      <td>0.000000</td>\n",
              "      <td>0.0</td>\n",
              "      <td>0.0</td>\n",
              "      <td>110.000000</td>\n",
              "      <td>7319.000000</td>\n",
              "      <td>0.000000</td>\n",
              "      <td>4.000000</td>\n",
              "      <td>5.0</td>\n",
              "      <td>0.000000</td>\n",
              "      <td>0.000000</td>\n",
              "      <td>0.000000</td>\n",
              "      <td>0.000000</td>\n",
              "    </tr>\n",
              "    <tr>\n",
              "      <th>25%</th>\n",
              "      <td>2.000000</td>\n",
              "      <td>0.0</td>\n",
              "      <td>0.0</td>\n",
              "      <td>135.000000</td>\n",
              "      <td>7320.000000</td>\n",
              "      <td>0.000000</td>\n",
              "      <td>6.000000</td>\n",
              "      <td>5.0</td>\n",
              "      <td>9.000000</td>\n",
              "      <td>15.000000</td>\n",
              "      <td>9.000000</td>\n",
              "      <td>10.000000</td>\n",
              "    </tr>\n",
              "    <tr>\n",
              "      <th>50%</th>\n",
              "      <td>3.000000</td>\n",
              "      <td>0.0</td>\n",
              "      <td>0.0</td>\n",
              "      <td>405.000000</td>\n",
              "      <td>10364.000000</td>\n",
              "      <td>1.000000</td>\n",
              "      <td>9.000000</td>\n",
              "      <td>5.0</td>\n",
              "      <td>13.000000</td>\n",
              "      <td>30.000000</td>\n",
              "      <td>14.000000</td>\n",
              "      <td>25.000000</td>\n",
              "    </tr>\n",
              "    <tr>\n",
              "      <th>75%</th>\n",
              "      <td>5.000000</td>\n",
              "      <td>0.0</td>\n",
              "      <td>0.0</td>\n",
              "      <td>635.000000</td>\n",
              "      <td>12570.000000</td>\n",
              "      <td>1.000000</td>\n",
              "      <td>12.000000</td>\n",
              "      <td>5.0</td>\n",
              "      <td>18.000000</td>\n",
              "      <td>45.000000</td>\n",
              "      <td>20.000000</td>\n",
              "      <td>40.000000</td>\n",
              "    </tr>\n",
              "    <tr>\n",
              "      <th>max</th>\n",
              "      <td>5.000000</td>\n",
              "      <td>0.0</td>\n",
              "      <td>0.0</td>\n",
              "      <td>1655.000000</td>\n",
              "      <td>20760.000000</td>\n",
              "      <td>2.000000</td>\n",
              "      <td>14.000000</td>\n",
              "      <td>5.0</td>\n",
              "      <td>23.000000</td>\n",
              "      <td>55.000000</td>\n",
              "      <td>23.000000</td>\n",
              "      <td>55.000000</td>\n",
              "    </tr>\n",
              "  </tbody>\n",
              "</table>\n",
              "</div>"
            ],
            "text/plain": [
              "           Airline  Source  Destination  Flight Duration         Price  \\\n",
              "count  1715.000000  1715.0       1715.0      1715.000000   1715.000000   \n",
              "mean      3.067055     0.0          0.0       473.489796  10481.794169   \n",
              "std       1.620912     0.0          0.0       365.008343   3143.484340   \n",
              "min       0.000000     0.0          0.0       110.000000   7319.000000   \n",
              "25%       2.000000     0.0          0.0       135.000000   7320.000000   \n",
              "50%       3.000000     0.0          0.0       405.000000  10364.000000   \n",
              "75%       5.000000     0.0          0.0       635.000000  12570.000000   \n",
              "max       5.000000     0.0          0.0      1655.000000  20760.000000   \n",
              "\n",
              "             Stops          Day   Month       D_Hour        D_Min  \\\n",
              "count  1715.000000  1715.000000  1715.0  1715.000000  1715.000000   \n",
              "mean      0.676968     9.029155     5.0    13.010496    27.676385   \n",
              "std       0.497977     3.176869     0.0     5.712267    17.723657   \n",
              "min       0.000000     4.000000     5.0     0.000000     0.000000   \n",
              "25%       0.000000     6.000000     5.0     9.000000    15.000000   \n",
              "50%       1.000000     9.000000     5.0    13.000000    30.000000   \n",
              "75%       1.000000    12.000000     5.0    18.000000    45.000000   \n",
              "max       2.000000    14.000000     5.0    23.000000    55.000000   \n",
              "\n",
              "            A_Hour        A_Min  \n",
              "count  1715.000000  1715.000000  \n",
              "mean     13.739942    24.979592  \n",
              "std       6.593817    17.545977  \n",
              "min       0.000000     0.000000  \n",
              "25%       9.000000    10.000000  \n",
              "50%      14.000000    25.000000  \n",
              "75%      20.000000    40.000000  \n",
              "max      23.000000    55.000000  "
            ]
          },
          "execution_count": 275,
          "metadata": {},
          "output_type": "execute_result"
        }
      ],
      "source": [
        "#Statistical description of the data\n",
        "df.describe()"
      ]
    },
    {
      "cell_type": "markdown",
      "id": "bd49f14f",
      "metadata": {
        "id": "bd49f14f"
      },
      "source": [
        "From the above data we note that there are few outliers present in the data"
      ]
    },
    {
      "cell_type": "code",
      "execution_count": null,
      "id": "a8b49e30",
      "metadata": {
        "id": "a8b49e30",
        "outputId": "ad2d819a-626b-4aeb-99b9-cc66c2959332"
      },
      "outputs": [
        {
          "data": {
            "image/png": "[encoded data removed]",
            "text/plain": [
              "<Figure size 1440x1440 with 2 Axes>"
            ]
          },
          "metadata": {
            "needs_background": "light"
          },
          "output_type": "display_data"
        }
      ],
      "source": [
        "#Correlation Matrix\n",
        "plt.figure(figsize=(20,20))\n",
        "sns.heatmap(df.corr(),annot=False)\n",
        "plt.show()"
      ]
    },
    {
      "cell_type": "code",
      "execution_count": null,
      "id": "22a8a2f7",
      "metadata": {
        "id": "22a8a2f7",
        "outputId": "65ca9bfd-1482-414e-a647-4726dae68147"
      },
      "outputs": [
        {
          "data": {
            "text/plain": [
              "Airline            0.161910\n",
              "Source                  NaN\n",
              "Destination             NaN\n",
              "Flight Duration    0.536377\n",
              "Price              1.000000\n",
              "Stops              0.610677\n",
              "Day               -0.057788\n",
              "Month                   NaN\n",
              "D_Hour            -0.031721\n",
              "D_Min             -0.008052\n",
              "A_Hour             0.093231\n",
              "A_Min              0.055315\n",
              "Name: Price, dtype: float64"
            ]
          },
          "execution_count": 277,
          "metadata": {},
          "output_type": "execute_result"
        }
      ],
      "source": [
        "#Data correlation wrt target variable\n",
        "df.corr()['Price']"
      ]
    },
    {
      "cell_type": "markdown",
      "id": "b367e768",
      "metadata": {
        "id": "b367e768"
      },
      "source": [
        "We see that the Stops, Airline and the Duration gives maximum positive correlation to the target column"
      ]
    },
    {
      "cell_type": "markdown",
      "id": "b7f519af",
      "metadata": {
        "id": "b7f519af"
      },
      "source": [
        "We also note that columns Source, Destination, Month does not produce any correlation as the values are same for all the rows and hence we shall drop them for model purpose"
      ]
    },
    {
      "cell_type": "code",
      "execution_count": null,
      "id": "e73dd6ad",
      "metadata": {
        "id": "e73dd6ad"
      },
      "outputs": [],
      "source": [
        "df.drop(columns=['Source','Destination','Month'],inplace=True)"
      ]
    },
    {
      "cell_type": "markdown",
      "id": "8d8c2502",
      "metadata": {
        "id": "8d8c2502"
      },
      "source": [
        "# Outliers"
      ]
    },
    {
      "cell_type": "markdown",
      "id": "42faf9b0",
      "metadata": {
        "id": "42faf9b0"
      },
      "source": [
        "We treat for outliers using zscore method"
      ]
    },
    {
      "cell_type": "code",
      "execution_count": null,
      "id": "dc448b1e",
      "metadata": {
        "id": "dc448b1e"
      },
      "outputs": [],
      "source": [
        "z = np.abs(zscore(df))"
      ]
    },
    {
      "cell_type": "markdown",
      "id": "e6dc49e5",
      "metadata": {
        "id": "e6dc49e5"
      },
      "source": [
        "We take a zscore threshold of range(-3,3)"
      ]
    },
    {
      "cell_type": "code",
      "execution_count": null,
      "id": "57f4c634",
      "metadata": {
        "id": "57f4c634"
      },
      "outputs": [],
      "source": [
        "df2 = df[(z<3).all(axis=1)]"
      ]
    },
    {
      "cell_type": "code",
      "execution_count": null,
      "id": "8e980a92",
      "metadata": {
        "id": "8e980a92",
        "outputId": "9c5570a9-aa74-412f-ff0c-af278cceafe2"
      },
      "outputs": [
        {
          "name": "stdout",
          "output_type": "stream",
          "text": [
            "Percentage loss of data:\t 2.565597667638484 %\n"
          ]
        }
      ],
      "source": [
        "print(\"Percentage loss of data:\\t\", ((df.shape[0]-df2.shape[0])*100)/df.shape[0], \"%\")"
      ]
    },
    {
      "cell_type": "markdown",
      "id": "4c68cff6",
      "metadata": {
        "id": "4c68cff6"
      },
      "source": [
        "# Skewness"
      ]
    },
    {
      "cell_type": "markdown",
      "id": "9b74960a",
      "metadata": {
        "id": "9b74960a"
      },
      "source": [
        "Before we move forward, let us first split the dataset into target and feature variables"
      ]
    },
    {
      "cell_type": "code",
      "execution_count": null,
      "id": "e6966574",
      "metadata": {
        "id": "e6966574"
      },
      "outputs": [],
      "source": [
        "x = df2.drop(columns='Price')\n",
        "y = df2['Price']"
      ]
    },
    {
      "cell_type": "code",
      "execution_count": null,
      "id": "6eec2c65",
      "metadata": {
        "id": "6eec2c65",
        "outputId": "e130f170-9385-48fd-c8f9-db1b41378a2b"
      },
      "outputs": [
        {
          "data": {
            "text/plain": [
              "Airline           -0.274946\n",
              "Flight Duration    1.069062\n",
              "Stops             -0.356286\n",
              "Day               -0.004581\n",
              "D_Hour            -0.115926\n",
              "D_Min             -0.196102\n",
              "A_Hour            -0.357772\n",
              "A_Min              0.108873\n",
              "dtype: float64"
            ]
          },
          "execution_count": 283,
          "metadata": {},
          "output_type": "execute_result"
        }
      ],
      "source": [
        "#Checking for skewness\n",
        "x.skew()"
      ]
    },
    {
      "cell_type": "markdown",
      "id": "304cc0b1",
      "metadata": {
        "id": "304cc0b1"
      },
      "source": [
        "We treat for skewness only those columns which have more than 0.4"
      ]
    },
    {
      "cell_type": "code",
      "execution_count": null,
      "id": "3c6c79f0",
      "metadata": {
        "id": "3c6c79f0"
      },
      "outputs": [],
      "source": [
        "#Treating for skewness using log method\n",
        "for i in x.columns:\n",
        "    if(np.abs(x[i].skew())>0.4):\n",
        "        x[i] = np.log1p(x[i])"
      ]
    },
    {
      "cell_type": "code",
      "execution_count": null,
      "id": "269861fc",
      "metadata": {
        "id": "269861fc",
        "outputId": "71485fe6-ed88-40b9-be82-06faefe536ed"
      },
      "outputs": [
        {
          "data": {
            "text/plain": [
              "Airline           -0.274946\n",
              "Flight Duration   -0.000536\n",
              "Stops             -0.356286\n",
              "Day               -0.004581\n",
              "D_Hour            -0.115926\n",
              "D_Min             -0.196102\n",
              "A_Hour            -0.357772\n",
              "A_Min              0.108873\n",
              "dtype: float64"
            ]
          },
          "execution_count": 285,
          "metadata": {},
          "output_type": "execute_result"
        }
      ],
      "source": [
        "#Checking for skewness after treating data\n",
        "x.skew()"
      ]
    },
    {
      "cell_type": "markdown",
      "id": "3c4dff2c",
      "metadata": {
        "id": "3c4dff2c"
      },
      "source": [
        "# Scaling"
      ]
    },
    {
      "cell_type": "markdown",
      "id": "149bfca1",
      "metadata": {
        "id": "149bfca1"
      },
      "source": [
        "We use standard scaler for scaling data"
      ]
    },
    {
      "cell_type": "code",
      "execution_count": null,
      "id": "3519a425",
      "metadata": {
        "id": "3519a425"
      },
      "outputs": [],
      "source": [
        "sc = StandardScaler()\n",
        "x = sc.fit_transform(x)"
      ]
    },
    {
      "cell_type": "markdown",
      "id": "b3fb4ad0",
      "metadata": {
        "id": "b3fb4ad0"
      },
      "source": [
        "# Best Random State"
      ]
    },
    {
      "cell_type": "code",
      "execution_count": null,
      "id": "f7c065be",
      "metadata": {
        "id": "f7c065be",
        "outputId": "55fc8500-de8c-4934-9ecb-e6489f826648"
      },
      "outputs": [
        {
          "name": "stdout",
          "output_type": "stream",
          "text": [
            "Max accuracy: \t 0.5621300155717905\n",
            "Random State: \t 55\n"
          ]
        }
      ],
      "source": [
        "maxRS = 0\n",
        "maxAcc = 0\n",
        "for i in range(0,100):\n",
        "    x_train, x_test, y_train, y_test = train_test_split(x, y, test_size=0.20, random_state=i)\n",
        "    lr = LinearRegression()\n",
        "    lr.fit(x_train,y_train)\n",
        "    pred = lr.predict(x_test)\n",
        "    acc = r2_score(y_test, pred)\n",
        "    if acc>maxAcc:\n",
        "        maxAcc = acc\n",
        "        maxRS = i\n",
        "print(\"Max accuracy: \\t\", maxAcc)\n",
        "print(\"Random State: \\t\", maxRS)"
      ]
    },
    {
      "cell_type": "markdown",
      "id": "6e37e5b9",
      "metadata": {
        "id": "6e37e5b9"
      },
      "source": [
        "Now since we got the best random state for data modelling, we create the test train models"
      ]
    },
    {
      "cell_type": "code",
      "execution_count": null,
      "id": "89bee4fd",
      "metadata": {
        "id": "89bee4fd"
      },
      "outputs": [],
      "source": [
        "x_train, x_test, y_train, y_test = train_test_split(x, y, test_size=0.20, random_state=maxRS)"
      ]
    },
    {
      "cell_type": "markdown",
      "id": "394687bc",
      "metadata": {
        "id": "394687bc"
      },
      "source": [
        "# Model Predictions"
      ]
    },
    {
      "cell_type": "markdown",
      "id": "4eb2bc0f",
      "metadata": {
        "id": "4eb2bc0f"
      },
      "source": [
        "Linear Regression"
      ]
    },
    {
      "cell_type": "code",
      "execution_count": null,
      "id": "879a5392",
      "metadata": {
        "id": "879a5392",
        "outputId": "c972a743-7221-4d41-efcb-9beb5a0c83da"
      },
      "outputs": [
        {
          "name": "stdout",
          "output_type": "stream",
          "text": [
            "r2 score: \t 56.213001557179055\n",
            "Mean Square Error : \t 4131211.693320779\n",
            "Root Mean Square Error : \t 2032.5382390795946\n"
          ]
        }
      ],
      "source": [
        "lr = LinearRegression()\n",
        "lr.fit(x_train,y_train)\n",
        "pred = lr.predict(x_test)\n",
        "print(\"r2 score: \\t\", r2_score(y_test,pred)*100)\n",
        "print(\"Mean Square Error : \\t\", mean_squared_error(y_test,pred))\n",
        "print(\"Root Mean Square Error : \\t\", np.sqrt(mean_squared_error(y_test,pred)))"
      ]
    },
    {
      "cell_type": "markdown",
      "id": "3000d515",
      "metadata": {
        "id": "3000d515"
      },
      "source": [
        "KNN Regressor"
      ]
    },
    {
      "cell_type": "code",
      "execution_count": null,
      "id": "4b274d78",
      "metadata": {
        "id": "4b274d78",
        "outputId": "e0d73266-e30c-46ae-e34d-ad3570794519"
      },
      "outputs": [
        {
          "name": "stdout",
          "output_type": "stream",
          "text": [
            "r2 score: \t 59.69360721747765\n",
            "Mean Square Error : \t 3802823.8312835824\n",
            "Root Mean Square Error : \t 1950.083031894689\n"
          ]
        }
      ],
      "source": [
        "knn = KNeighborsRegressor()\n",
        "knn.fit(x_train,y_train)\n",
        "pred = knn.predict(x_test)\n",
        "print(\"r2 score: \\t\", r2_score(y_test,pred)*100)\n",
        "print(\"Mean Square Error : \\t\", mean_squared_error(y_test,pred))\n",
        "print(\"Root Mean Square Error : \\t\", np.sqrt(mean_squared_error(y_test,pred)))"
      ]
    },
    {
      "cell_type": "markdown",
      "id": "8e2acf41",
      "metadata": {
        "id": "8e2acf41"
      },
      "source": [
        "SUPPORT VECTOR MACHINES"
      ]
    },
    {
      "cell_type": "code",
      "execution_count": null,
      "id": "1571d6b5",
      "metadata": {
        "id": "1571d6b5",
        "outputId": "e306e7f2-a6f4-4987-d5c3-bb94e32cd902"
      },
      "outputs": [
        {
          "name": "stdout",
          "output_type": "stream",
          "text": [
            "r2 score: \t -0.9670391374581033\n",
            "Mean Square Error : \t 9526028.902605254\n",
            "Root Mean Square Error : \t 3086.426558757758\n"
          ]
        }
      ],
      "source": [
        "svr = SVR()\n",
        "svr.fit(x_train,y_train)\n",
        "pred = svr.predict(x_test)\n",
        "print(\"r2 score: \\t\", r2_score(y_test,pred)*100)\n",
        "print(\"Mean Square Error : \\t\", mean_squared_error(y_test,pred))\n",
        "print(\"Root Mean Square Error : \\t\", np.sqrt(mean_squared_error(y_test,pred)))"
      ]
    },
    {
      "cell_type": "markdown",
      "id": "cb1fc779",
      "metadata": {
        "id": "cb1fc779"
      },
      "source": [
        "Random Forest Regressor"
      ]
    },
    {
      "cell_type": "code",
      "execution_count": null,
      "id": "dde17323",
      "metadata": {
        "id": "dde17323",
        "outputId": "9151f5a1-13c6-4316-882f-6f33ee0db7ff"
      },
      "outputs": [
        {
          "name": "stdout",
          "output_type": "stream",
          "text": [
            "r2 score: \t 78.72458355055069\n",
            "Mean Square Error : \t 2007291.0302588851\n",
            "Root Mean Square Error : \t 1416.7889857910686\n"
          ]
        }
      ],
      "source": [
        "rf = RandomForestRegressor()\n",
        "rf.fit(x_train,y_train)\n",
        "pred = rf.predict(x_test)\n",
        "print(\"r2 score: \\t\", r2_score(y_test,pred)*100)\n",
        "print(\"Mean Square Error : \\t\", mean_squared_error(y_test,pred))\n",
        "print(\"Root Mean Square Error : \\t\", np.sqrt(mean_squared_error(y_test,pred)))"
      ]
    },
    {
      "cell_type": "markdown",
      "id": "832a99cb",
      "metadata": {
        "id": "832a99cb"
      },
      "source": [
        "Decision Tree Regressor"
      ]
    },
    {
      "cell_type": "code",
      "execution_count": null,
      "id": "c3808741",
      "metadata": {
        "id": "c3808741",
        "outputId": "818619f9-5995-435b-91a8-0aad9ae1f058"
      },
      "outputs": [
        {
          "name": "stdout",
          "output_type": "stream",
          "text": [
            "r2 score: \t 58.117655202752715\n",
            "Mean Square Error : \t 3951511.6067164177\n",
            "Root Mean Square Error : \t 1987.840941000164\n"
          ]
        }
      ],
      "source": [
        "dt = DecisionTreeRegressor()\n",
        "dt.fit(x_train,y_train)\n",
        "pred = dt.predict(x_test)\n",
        "print(\"r2 score: \\t\", r2_score(y_test,pred)*100)\n",
        "print(\"Mean Square Error : \\t\", mean_squared_error(y_test,pred))\n",
        "print(\"Root Mean Square Error : \\t\", np.sqrt(mean_squared_error(y_test,pred)))"
      ]
    },
    {
      "cell_type": "markdown",
      "id": "7c1f60d2",
      "metadata": {
        "id": "7c1f60d2"
      },
      "source": [
        "XGB Regressor"
      ]
    },
    {
      "cell_type": "code",
      "execution_count": null,
      "id": "52e6e864",
      "metadata": {
        "id": "52e6e864",
        "outputId": "a2cc7c36-fa6d-4f05-d8ac-4d0be2379d82"
      },
      "outputs": [
        {
          "name": "stdout",
          "output_type": "stream",
          "text": [
            "r2 score: \t 79.75484161549666\n",
            "Mean Square Error : \t 1910088.3373042454\n",
            "Root Mean Square Error : \t 1382.059455054031\n"
          ]
        }
      ],
      "source": [
        "xgb = XGBRegressor()\n",
        "xgb.fit(x_train,y_train)\n",
        "pred = xgb.predict(x_test)\n",
        "print(\"r2 score: \\t\", r2_score(y_test,pred)*100)\n",
        "print(\"Mean Square Error : \\t\", mean_squared_error(y_test,pred))\n",
        "print(\"Root Mean Square Error : \\t\", np.sqrt(mean_squared_error(y_test,pred)))"
      ]
    },
    {
      "cell_type": "markdown",
      "id": "5912234c",
      "metadata": {
        "id": "5912234c"
      },
      "source": [
        "Out of all the models Random Forest Regressor and XGB Regressor has the highest r2_score"
      ]
    },
    {
      "cell_type": "markdown",
      "id": "14a6e491",
      "metadata": {
        "id": "14a6e491"
      },
      "source": [
        "# Cross validation"
      ]
    },
    {
      "cell_type": "code",
      "execution_count": null,
      "id": "67e64e39",
      "metadata": {
        "id": "67e64e39",
        "outputId": "5195dd3f-d1c5-4a0f-de7d-686b45f951d4"
      },
      "outputs": [
        {
          "name": "stdout",
          "output_type": "stream",
          "text": [
            "Cross validation score of Linear Regression is: \t 0.438010077534529\n"
          ]
        }
      ],
      "source": [
        "scr1 = cross_val_score(lr, x, y, cv=5, scoring='r2')\n",
        "print(\"Cross validation score of Linear Regression is: \\t\", scr1.mean())"
      ]
    },
    {
      "cell_type": "code",
      "execution_count": null,
      "id": "8f0f43c5",
      "metadata": {
        "id": "8f0f43c5",
        "outputId": "b4f5d3d4-e58b-4b5b-8bf5-4a5099dee090"
      },
      "outputs": [
        {
          "name": "stdout",
          "output_type": "stream",
          "text": [
            "Cross validation score of Decision Tree Regressor is: \t 0.43022740441871055\n"
          ]
        }
      ],
      "source": [
        "scr2 = cross_val_score(dt, x, y, cv=5)\n",
        "print(\"Cross validation score of Decision Tree Regressor is: \\t\", scr2.mean())"
      ]
    },
    {
      "cell_type": "code",
      "execution_count": null,
      "id": "94d88761",
      "metadata": {
        "id": "94d88761",
        "outputId": "f5c5e502-8389-4e38-a235-c97f0248506c"
      },
      "outputs": [
        {
          "name": "stdout",
          "output_type": "stream",
          "text": [
            "Cross validation score of Random Forest Regressor is: \t 0.6941343208424116\n"
          ]
        }
      ],
      "source": [
        "scr3 = cross_val_score(rf, x, y, cv=5)\n",
        "print(\"Cross validation score of Random Forest Regressor is: \\t\", scr3.mean())"
      ]
    },
    {
      "cell_type": "code",
      "execution_count": null,
      "id": "9e7bf805",
      "metadata": {
        "id": "9e7bf805",
        "outputId": "d16247cb-ce40-41da-91e6-096a2f7530af"
      },
      "outputs": [
        {
          "name": "stdout",
          "output_type": "stream",
          "text": [
            "Cross validation score of KNeighbour Regressor is: \t 0.5046699406830102\n"
          ]
        }
      ],
      "source": [
        "scr4 = cross_val_score(knn, x, y, cv=5)\n",
        "print(\"Cross validation score of KNeighbour Regressor is: \\t\", scr4.mean())"
      ]
    },
    {
      "cell_type": "code",
      "execution_count": null,
      "id": "d87e71ab",
      "metadata": {
        "id": "d87e71ab",
        "outputId": "d440afa1-946f-40cc-d70f-af2c09382b66"
      },
      "outputs": [
        {
          "name": "stdout",
          "output_type": "stream",
          "text": [
            "Cross validation score of SVM is: \t 0.01104988909700928\n"
          ]
        }
      ],
      "source": [
        "scr5 = cross_val_score(svr, x, y, cv=5)\n",
        "print(\"Cross validation score of SVM is: \\t\", scr5.mean())"
      ]
    },
    {
      "cell_type": "code",
      "execution_count": null,
      "id": "9c40326e",
      "metadata": {
        "id": "9c40326e",
        "outputId": "2eab5b79-08c6-46cb-b5a0-febbcea08eb0"
      },
      "outputs": [
        {
          "name": "stdout",
          "output_type": "stream",
          "text": [
            "Cross validation score of XGB is: \t 0.6527216003906042\n"
          ]
        }
      ],
      "source": [
        "scr6 = cross_val_score(xgb, x, y, cv=5)\n",
        "print(\"Cross validation score of XGB is: \\t\", scr6.mean())"
      ]
    },
    {
      "cell_type": "markdown",
      "id": "58ff225a",
      "metadata": {
        "id": "58ff225a"
      },
      "source": [
        "We see that the Random Forest Regressor performs the best in cross validation"
      ]
    },
    {
      "cell_type": "markdown",
      "id": "3f96e786",
      "metadata": {
        "id": "3f96e786"
      },
      "source": [
        "# Hyper Parameter Tuning"
      ]
    },
    {
      "cell_type": "code",
      "execution_count": null,
      "id": "0e6b315e",
      "metadata": {
        "id": "0e6b315e",
        "outputId": "5275ef48-4ec7-429a-e5ac-ca96e5806ec8"
      },
      "outputs": [
        {
          "data": {
            "text/plain": [
              "{'bootstrap': True,\n",
              " 'ccp_alpha': 0.0,\n",
              " 'criterion': 'squared_error',\n",
              " 'max_depth': None,\n",
              " 'max_features': 'auto',\n",
              " 'max_leaf_nodes': None,\n",
              " 'max_samples': None,\n",
              " 'min_impurity_decrease': 0.0,\n",
              " 'min_samples_leaf': 1,\n",
              " 'min_samples_split': 2,\n",
              " 'min_weight_fraction_leaf': 0.0,\n",
              " 'n_estimators': 100,\n",
              " 'n_jobs': None,\n",
              " 'oob_score': False,\n",
              " 'random_state': None,\n",
              " 'verbose': 0,\n",
              " 'warm_start': False}"
            ]
          },
          "execution_count": 313,
          "metadata": {},
          "output_type": "execute_result"
        }
      ],
      "source": [
        "GridSearchCV.get_params(rf)"
      ]
    },
    {
      "cell_type": "code",
      "execution_count": null,
      "id": "980972ec",
      "metadata": {
        "id": "980972ec"
      },
      "outputs": [],
      "source": [
        "parameters = {'bootstrap': [True,False],\n",
        "              'max_depth': [10, 20, None],\n",
        "              'min_samples_leaf': [1,2,4],\n",
        "              'min_samples_split': [2,5,10],\n",
        "              'n_estimators': [100,200]}"
      ]
    },
    {
      "cell_type": "code",
      "execution_count": null,
      "id": "85fabd0e",
      "metadata": {
        "id": "85fabd0e"
      },
      "outputs": [],
      "source": [
        "gcv = GridSearchCV(rf, parameters, cv=5, scoring='r2')"
      ]
    },
    {
      "cell_type": "code",
      "execution_count": null,
      "id": "cde58d1a",
      "metadata": {
        "id": "cde58d1a",
        "outputId": "cf5acf76-fe3d-4d92-c57c-13a90963a523"
      },
      "outputs": [
        {
          "data": {
            "text/plain": [
              "GridSearchCV(cv=5, estimator=RandomForestRegressor(),\n",
              "             param_grid={'bootstrap': [True, False],\n",
              "                         'max_depth': [10, 20, None],\n",
              "                         'min_samples_leaf': [1, 2, 4],\n",
              "                         'min_samples_split': [2, 5, 10],\n",
              "                         'n_estimators': [100, 200]},\n",
              "             scoring='r2')"
            ]
          },
          "execution_count": 316,
          "metadata": {},
          "output_type": "execute_result"
        }
      ],
      "source": [
        "gcv.fit(x_train,y_train)"
      ]
    },
    {
      "cell_type": "code",
      "execution_count": null,
      "id": "072576cf",
      "metadata": {
        "id": "072576cf",
        "outputId": "0f192cab-3eb9-414c-fc7b-62c018fb3d33"
      },
      "outputs": [
        {
          "name": "stdout",
          "output_type": "stream",
          "text": [
            "Tuned Hyperparameters : {'bootstrap': True, 'max_depth': None, 'min_samples_leaf': 1, 'min_samples_split': 5, 'n_estimators': 100}\n",
            "Accuracy : 0.7299605271182121\n"
          ]
        }
      ],
      "source": [
        "print(\"Tuned Hyperparameters :\", gcv.best_params_)\n",
        "print(\"Accuracy :\",gcv.best_score_)"
      ]
    },
    {
      "cell_type": "code",
      "execution_count": null,
      "id": "35f44cdc",
      "metadata": {
        "id": "35f44cdc",
        "outputId": "9eb8624f-4666-4cd7-b1e5-12fc27d15fb5"
      },
      "outputs": [
        {
          "data": {
            "text/plain": [
              "0.7829653041916005"
            ]
          },
          "execution_count": 318,
          "metadata": {},
          "output_type": "execute_result"
        }
      ],
      "source": [
        "gcv_pred = gcv.best_estimator_.predict(x_test)\n",
        "r2_score(y_test,gcv_pred)"
      ]
    },
    {
      "cell_type": "markdown",
      "id": "75a28381",
      "metadata": {
        "id": "75a28381"
      },
      "source": [
        "The best estimator gives the accuracy of 78.29% and hence we shall save previous model."
      ]
    },
    {
      "cell_type": "markdown",
      "id": "03921e3d",
      "metadata": {
        "id": "03921e3d"
      },
      "source": [
        "# Saving the best model"
      ]
    },
    {
      "cell_type": "code",
      "execution_count": null,
      "id": "aef10337",
      "metadata": {
        "id": "aef10337",
        "outputId": "8b1a48a2-81e0-4f18-c4a2-2d3c91bc0631"
      },
      "outputs": [
        {
          "data": {
            "text/plain": [
              "['Flight_Price.pkl']"
            ]
          },
          "execution_count": 319,
          "metadata": {},
          "output_type": "execute_result"
        }
      ],
      "source": [
        "joblib.dump(rf,\"Flight_Price.pkl\")"
      ]
    },
    {
      "cell_type": "code",
      "execution_count": null,
      "id": "6347b13d",
      "metadata": {
        "id": "6347b13d"
      },
      "outputs": [],
      "source": []
    }
  ],
  "metadata": {
    "kernelspec": {
      "display_name": "Python 3",
      "language": "python",
      "name": "python3"
    },
    "language_info": {
      "codemirror_mode": {
        "name": "ipython",
        "version": 3
      },
      "file_extension": ".py",
      "mimetype": "text/x-python",
      "name": "python",
      "nbconvert_exporter": "python",
      "pygments_lexer": "ipython3",
      "version": "3.8.8"
    },
    "colab": {
      "provenance": []
    }
  },
  "nbformat": 4,
  "nbformat_minor": 5
}