{
  "cells": [
    {
      "cell_type": "code",
      "execution_count": null,
      "id": "70c5b82e",
      "metadata": {
        "id": "70c5b82e"
      },
      "outputs": [],
      "source": [
        "import pandas as pd\n",
        "import numpy as np\n",
        "import seaborn as sns\n",
        "import matplotlib.pyplot as plt\n",
        "from sklearn.preprocessing import LabelEncoder\n",
        "from scipy.stats import zscore\n",
        "from sklearn.model_selection import train_test_split, cross_val_score, GridSearchCV\n",
        "from sklearn.linear_model import LogisticRegression\n",
        "from sklearn.metrics import plot_roc_curve, accuracy_score, confusion_matrix, classification_report\n",
        "from sklearn.utils import resample\n",
        "from sklearn.neighbors import KNeighborsClassifier\n",
        "from sklearn.svm import SVC\n",
        "from sklearn.tree import DecisionTreeClassifier\n",
        "from sklearn.ensemble import RandomForestClassifier\n",
        "import joblib\n",
        "\n",
        "import warnings\n",
        "warnings.filterwarnings('ignore')"
      ]
    },
    {
      "cell_type": "markdown",
      "id": "9b677708",
      "metadata": {
        "id": "9b677708"
      },
      "source": [
        "# Data Collection"
      ]
    },
    {
      "cell_type": "code",
      "execution_count": null,
      "id": "ebc74766",
      "metadata": {
        "id": "ebc74766"
      },
      "outputs": [],
      "source": [
        "df = pd.read_csv(r'C:\\Users\\Shubham\\Desktop\\Projects\\Evaluation\\(5)_Census\\census_income.csv')"
      ]
    },
    {
      "cell_type": "markdown",
      "id": "c460498d",
      "metadata": {
        "id": "c460498d"
      },
      "source": [
        "# Data Understanding"
      ]
    },
    {
      "cell_type": "code",
      "execution_count": null,
      "id": "598dc35d",
      "metadata": {
        "id": "598dc35d",
        "outputId": "324b9915-8378-4938-a7df-4f7724c44410"
      },
      "outputs": [
        {
          "data": {
            "text/plain": [
              "(32560, 15)"
            ]
          },
          "execution_count": 3,
          "metadata": {},
          "output_type": "execute_result"
        }
      ],
      "source": [
        "df.shape"
      ]
    },
    {
      "cell_type": "code",
      "execution_count": null,
      "id": "5c0a416b",
      "metadata": {
        "id": "5c0a416b",
        "outputId": "01c1c9ae-6c7f-4b57-8982-8a1d2eee9891"
      },
      "outputs": [
        {
          "data": {
            "text/html": [
              "<div>\n",
              "<style scoped>\n",
              "    .dataframe tbody tr th:only-of-type {\n",
              "        vertical-align: middle;\n",
              "    }\n",
              "\n",
              "    .dataframe tbody tr th {\n",
              "        vertical-align: top;\n",
              "    }\n",
              "\n",
              "    .dataframe thead th {\n",
              "        text-align: right;\n",
              "    }\n",
              "</style>\n",
              "<table border=\"1\" class=\"dataframe\">\n",
              "  <thead>\n",
              "    <tr style=\"text-align: right;\">\n",
              "      <th></th>\n",
              "      <th>Age</th>\n",
              "      <th>Workclass</th>\n",
              "      <th>Fnlwgt</th>\n",
              "      <th>Education</th>\n",
              "      <th>Education_num</th>\n",
              "      <th>Marital_status</th>\n",
              "      <th>Occupation</th>\n",
              "      <th>Relationship</th>\n",
              "      <th>Race</th>\n",
              "      <th>Sex</th>\n",
              "      <th>Capital_gain</th>\n",
              "      <th>Capital_loss</th>\n",
              "      <th>Hours_per_week</th>\n",
              "      <th>Native_country</th>\n",
              "      <th>Income</th>\n",
              "    </tr>\n",
              "  </thead>\n",
              "  <tbody>\n",
              "    <tr>\n",
              "      <th>0</th>\n",
              "      <td>50</td>\n",
              "      <td>Self-emp-not-inc</td>\n",
              "      <td>83311</td>\n",
              "      <td>Bachelors</td>\n",
              "      <td>13</td>\n",
              "      <td>Married-civ-spouse</td>\n",
              "      <td>Exec-managerial</td>\n",
              "      <td>Husband</td>\n",
              "      <td>White</td>\n",
              "      <td>Male</td>\n",
              "      <td>0</td>\n",
              "      <td>0</td>\n",
              "      <td>13</td>\n",
              "      <td>United-States</td>\n",
              "      <td>&lt;=50K</td>\n",
              "    </tr>\n",
              "    <tr>\n",
              "      <th>1</th>\n",
              "      <td>38</td>\n",
              "      <td>Private</td>\n",
              "      <td>215646</td>\n",
              "      <td>HS-grad</td>\n",
              "      <td>9</td>\n",
              "      <td>Divorced</td>\n",
              "      <td>Handlers-cleaners</td>\n",
              "      <td>Not-in-family</td>\n",
              "      <td>White</td>\n",
              "      <td>Male</td>\n",
              "      <td>0</td>\n",
              "      <td>0</td>\n",
              "      <td>40</td>\n",
              "      <td>United-States</td>\n",
              "      <td>&lt;=50K</td>\n",
              "    </tr>\n",
              "    <tr>\n",
              "      <th>2</th>\n",
              "      <td>53</td>\n",
              "      <td>Private</td>\n",
              "      <td>234721</td>\n",
              "      <td>11th</td>\n",
              "      <td>7</td>\n",
              "      <td>Married-civ-spouse</td>\n",
              "      <td>Handlers-cleaners</td>\n",
              "      <td>Husband</td>\n",
              "      <td>Black</td>\n",
              "      <td>Male</td>\n",
              "      <td>0</td>\n",
              "      <td>0</td>\n",
              "      <td>40</td>\n",
              "      <td>United-States</td>\n",
              "      <td>&lt;=50K</td>\n",
              "    </tr>\n",
              "    <tr>\n",
              "      <th>3</th>\n",
              "      <td>28</td>\n",
              "      <td>Private</td>\n",
              "      <td>338409</td>\n",
              "      <td>Bachelors</td>\n",
              "      <td>13</td>\n",
              "      <td>Married-civ-spouse</td>\n",
              "      <td>Prof-specialty</td>\n",
              "      <td>Wife</td>\n",
              "      <td>Black</td>\n",
              "      <td>Female</td>\n",
              "      <td>0</td>\n",
              "      <td>0</td>\n",
              "      <td>40</td>\n",
              "      <td>Cuba</td>\n",
              "      <td>&lt;=50K</td>\n",
              "    </tr>\n",
              "    <tr>\n",
              "      <th>4</th>\n",
              "      <td>37</td>\n",
              "      <td>Private</td>\n",
              "      <td>284582</td>\n",
              "      <td>Masters</td>\n",
              "      <td>14</td>\n",
              "      <td>Married-civ-spouse</td>\n",
              "      <td>Exec-managerial</td>\n",
              "      <td>Wife</td>\n",
              "      <td>White</td>\n",
              "      <td>Female</td>\n",
              "      <td>0</td>\n",
              "      <td>0</td>\n",
              "      <td>40</td>\n",
              "      <td>United-States</td>\n",
              "      <td>&lt;=50K</td>\n",
              "    </tr>\n",
              "  </tbody>\n",
              "</table>\n",
              "</div>"
            ],
            "text/plain": [
              "   Age          Workclass  Fnlwgt   Education  Education_num  \\\n",
              "0   50   Self-emp-not-inc   83311   Bachelors             13   \n",
              "1   38            Private  215646     HS-grad              9   \n",
              "2   53            Private  234721        11th              7   \n",
              "3   28            Private  338409   Bachelors             13   \n",
              "4   37            Private  284582     Masters             14   \n",
              "\n",
              "        Marital_status          Occupation    Relationship    Race      Sex  \\\n",
              "0   Married-civ-spouse     Exec-managerial         Husband   White     Male   \n",
              "1             Divorced   Handlers-cleaners   Not-in-family   White     Male   \n",
              "2   Married-civ-spouse   Handlers-cleaners         Husband   Black     Male   \n",
              "3   Married-civ-spouse      Prof-specialty            Wife   Black   Female   \n",
              "4   Married-civ-spouse     Exec-managerial            Wife   White   Female   \n",
              "\n",
              "   Capital_gain  Capital_loss  Hours_per_week  Native_country  Income  \n",
              "0             0             0              13   United-States   <=50K  \n",
              "1             0             0              40   United-States   <=50K  \n",
              "2             0             0              40   United-States   <=50K  \n",
              "3             0             0              40            Cuba   <=50K  \n",
              "4             0             0              40   United-States   <=50K  "
            ]
          },
          "execution_count": 4,
          "metadata": {},
          "output_type": "execute_result"
        }
      ],
      "source": [
        "pd.set_option(\"display.max_columns\", None)\n",
        "df.head() #Looking into the top 5 rows of the dataset"
      ]
    },
    {
      "cell_type": "code",
      "execution_count": null,
      "id": "91a2703d",
      "metadata": {
        "id": "91a2703d",
        "outputId": "2c2f9071-6f78-421e-c5d4-7f86d3e9101b"
      },
      "outputs": [
        {
          "name": "stdout",
          "output_type": "stream",
          "text": [
            "<class 'pandas.core.frame.DataFrame'>\n",
            "RangeIndex: 32560 entries, 0 to 32559\n",
            "Data columns (total 15 columns):\n",
            " #   Column          Non-Null Count  Dtype \n",
            "---  ------          --------------  ----- \n",
            " 0   Age             32560 non-null  int64 \n",
            " 1   Workclass       32560 non-null  object\n",
            " 2   Fnlwgt          32560 non-null  int64 \n",
            " 3   Education       32560 non-null  object\n",
            " 4   Education_num   32560 non-null  int64 \n",
            " 5   Marital_status  32560 non-null  object\n",
            " 6   Occupation      32560 non-null  object\n",
            " 7   Relationship    32560 non-null  object\n",
            " 8   Race            32560 non-null  object\n",
            " 9   Sex             32560 non-null  object\n",
            " 10  Capital_gain    32560 non-null  int64 \n",
            " 11  Capital_loss    32560 non-null  int64 \n",
            " 12  Hours_per_week  32560 non-null  int64 \n",
            " 13  Native_country  32560 non-null  object\n",
            " 14  Income          32560 non-null  object\n",
            "dtypes: int64(6), object(9)\n",
            "memory usage: 3.7+ MB\n"
          ]
        }
      ],
      "source": [
        "df.info() #Basic info of the dataset"
      ]
    },
    {
      "cell_type": "markdown",
      "id": "06d8680f",
      "metadata": {
        "id": "06d8680f"
      },
      "source": [
        "We see that the data is a mix of object and int type. We shall convert all the object type into numerical ones so we could move ahead with the model predictions"
      ]
    },
    {
      "cell_type": "code",
      "execution_count": null,
      "id": "21186c0c",
      "metadata": {
        "id": "21186c0c",
        "outputId": "6b8f5a37-5c7b-478d-fd60-1d96cf453587"
      },
      "outputs": [
        {
          "data": {
            "text/plain": [
              "Age               0\n",
              "Workclass         0\n",
              "Fnlwgt            0\n",
              "Education         0\n",
              "Education_num     0\n",
              "Marital_status    0\n",
              "Occupation        0\n",
              "Relationship      0\n",
              "Race              0\n",
              "Sex               0\n",
              "Capital_gain      0\n",
              "Capital_loss      0\n",
              "Hours_per_week    0\n",
              "Native_country    0\n",
              "Income            0\n",
              "dtype: int64"
            ]
          },
          "execution_count": 6,
          "metadata": {},
          "output_type": "execute_result"
        }
      ],
      "source": [
        "df.isnull().sum() #Checking for null values"
      ]
    },
    {
      "cell_type": "markdown",
      "id": "03e7b558",
      "metadata": {
        "id": "03e7b558"
      },
      "source": [
        "We see here that there are no null values, however in this datacase the null values are represented in the form of '?' and so we shall treat it for the same."
      ]
    },
    {
      "cell_type": "code",
      "execution_count": null,
      "id": "a0ed7995",
      "metadata": {
        "id": "a0ed7995"
      },
      "outputs": [],
      "source": [
        "# Replacing with null values\n",
        "df = df.replace(' ?',np.NaN)"
      ]
    },
    {
      "cell_type": "code",
      "execution_count": null,
      "id": "222869ba",
      "metadata": {
        "id": "222869ba",
        "outputId": "d14b30a0-b7f4-4dd4-aee1-ccdb90bb10f9"
      },
      "outputs": [
        {
          "data": {
            "text/plain": [
              "Age                  0\n",
              "Workclass         1836\n",
              "Fnlwgt               0\n",
              "Education            0\n",
              "Education_num        0\n",
              "Marital_status       0\n",
              "Occupation        1843\n",
              "Relationship         0\n",
              "Race                 0\n",
              "Sex                  0\n",
              "Capital_gain         0\n",
              "Capital_loss         0\n",
              "Hours_per_week       0\n",
              "Native_country     583\n",
              "Income               0\n",
              "dtype: int64"
            ]
          },
          "execution_count": 8,
          "metadata": {},
          "output_type": "execute_result"
        }
      ],
      "source": [
        "df.isnull().sum() #Checking for null values"
      ]
    },
    {
      "cell_type": "markdown",
      "id": "54f0dd14",
      "metadata": {
        "id": "54f0dd14"
      },
      "source": [
        "Since, we have more than 30,000 rows of data, let us remove all the rows containing null values"
      ]
    },
    {
      "cell_type": "code",
      "execution_count": null,
      "id": "c5f2b680",
      "metadata": {
        "id": "c5f2b680"
      },
      "outputs": [],
      "source": [
        "# Dropping all rows with null values\n",
        "df_new = df.dropna()"
      ]
    },
    {
      "cell_type": "code",
      "execution_count": null,
      "id": "d2ae1ab5",
      "metadata": {
        "id": "d2ae1ab5",
        "outputId": "451e86ad-002a-4687-e393-aaa0e5bc2656"
      },
      "outputs": [
        {
          "data": {
            "text/plain": [
              "(30161, 15)"
            ]
          },
          "execution_count": 10,
          "metadata": {},
          "output_type": "execute_result"
        }
      ],
      "source": [
        "# Shape of the new dataframe\n",
        "df_new.shape"
      ]
    },
    {
      "cell_type": "code",
      "execution_count": null,
      "id": "626eb460",
      "metadata": {
        "id": "626eb460",
        "outputId": "b9329982-1750-4400-cc73-2fc9e9cd5a3d"
      },
      "outputs": [
        {
          "name": "stdout",
          "output_type": "stream",
          "text": [
            "Percentage loss of data:  7.367936117936118 %\n"
          ]
        }
      ],
      "source": [
        "print('Percentage loss of data: ', ((df.shape[0]-df_new.shape[0])/df.shape[0])*100, '%')"
      ]
    },
    {
      "cell_type": "code",
      "execution_count": null,
      "id": "c9bec367",
      "metadata": {
        "id": "c9bec367",
        "outputId": "04b87ee5-1521-412a-f663-574d4baed9ff"
      },
      "outputs": [
        {
          "data": {
            "text/plain": [
              "Age               0\n",
              "Workclass         0\n",
              "Fnlwgt            0\n",
              "Education         0\n",
              "Education_num     0\n",
              "Marital_status    0\n",
              "Occupation        0\n",
              "Relationship      0\n",
              "Race              0\n",
              "Sex               0\n",
              "Capital_gain      0\n",
              "Capital_loss      0\n",
              "Hours_per_week    0\n",
              "Native_country    0\n",
              "Income            0\n",
              "dtype: int64"
            ]
          },
          "execution_count": 12,
          "metadata": {},
          "output_type": "execute_result"
        }
      ],
      "source": [
        "df_new.isnull().sum() #Checking for null values"
      ]
    },
    {
      "cell_type": "code",
      "execution_count": null,
      "id": "43122532",
      "metadata": {
        "id": "43122532",
        "outputId": "4de15d06-e3fc-453c-f47b-f2d5146e376e"
      },
      "outputs": [
        {
          "data": {
            "text/plain": [
              "<AxesSubplot:>"
            ]
          },
          "execution_count": 13,
          "metadata": {},
          "output_type": "execute_result"
        },
        {
          "data": {
            "image/png": "[encoded data removed]",
            "text/plain": [
              "<Figure size 432x288 with 2 Axes>"
            ]
          },
          "metadata": {
            "needs_background": "light"
          },
          "output_type": "display_data"
        }
      ],
      "source": [
        "sns.heatmap(df_new.isnull()) #Visualization of null values"
      ]
    },
    {
      "cell_type": "markdown",
      "id": "d7221005",
      "metadata": {
        "id": "d7221005"
      },
      "source": [
        "We see that there are no null values in the dataframe"
      ]
    },
    {
      "cell_type": "code",
      "execution_count": null,
      "id": "c57a8241",
      "metadata": {
        "id": "c57a8241",
        "outputId": "1b02fc95-7a81-4eb4-de81-faea2e49ddb8"
      },
      "outputs": [
        {
          "data": {
            "text/html": [
              "<div>\n",
              "<style scoped>\n",
              "    .dataframe tbody tr th:only-of-type {\n",
              "        vertical-align: middle;\n",
              "    }\n",
              "\n",
              "    .dataframe tbody tr th {\n",
              "        vertical-align: top;\n",
              "    }\n",
              "\n",
              "    .dataframe thead th {\n",
              "        text-align: right;\n",
              "    }\n",
              "</style>\n",
              "<table border=\"1\" class=\"dataframe\">\n",
              "  <thead>\n",
              "    <tr style=\"text-align: right;\">\n",
              "      <th></th>\n",
              "      <th>Age</th>\n",
              "      <th>Fnlwgt</th>\n",
              "      <th>Education_num</th>\n",
              "      <th>Capital_gain</th>\n",
              "      <th>Capital_loss</th>\n",
              "      <th>Hours_per_week</th>\n",
              "    </tr>\n",
              "  </thead>\n",
              "  <tbody>\n",
              "    <tr>\n",
              "      <th>count</th>\n",
              "      <td>30161.000000</td>\n",
              "      <td>3.016100e+04</td>\n",
              "      <td>30161.000000</td>\n",
              "      <td>30161.000000</td>\n",
              "      <td>30161.000000</td>\n",
              "      <td>30161.000000</td>\n",
              "    </tr>\n",
              "    <tr>\n",
              "      <th>mean</th>\n",
              "      <td>38.437883</td>\n",
              "      <td>1.897976e+05</td>\n",
              "      <td>10.121216</td>\n",
              "      <td>1091.971984</td>\n",
              "      <td>88.375419</td>\n",
              "      <td>40.931269</td>\n",
              "    </tr>\n",
              "    <tr>\n",
              "      <th>std</th>\n",
              "      <td>13.134882</td>\n",
              "      <td>1.056527e+05</td>\n",
              "      <td>2.549983</td>\n",
              "      <td>7406.466659</td>\n",
              "      <td>404.304753</td>\n",
              "      <td>11.980182</td>\n",
              "    </tr>\n",
              "    <tr>\n",
              "      <th>min</th>\n",
              "      <td>17.000000</td>\n",
              "      <td>1.376900e+04</td>\n",
              "      <td>1.000000</td>\n",
              "      <td>0.000000</td>\n",
              "      <td>0.000000</td>\n",
              "      <td>1.000000</td>\n",
              "    </tr>\n",
              "    <tr>\n",
              "      <th>25%</th>\n",
              "      <td>28.000000</td>\n",
              "      <td>1.176280e+05</td>\n",
              "      <td>9.000000</td>\n",
              "      <td>0.000000</td>\n",
              "      <td>0.000000</td>\n",
              "      <td>40.000000</td>\n",
              "    </tr>\n",
              "    <tr>\n",
              "      <th>50%</th>\n",
              "      <td>37.000000</td>\n",
              "      <td>1.784290e+05</td>\n",
              "      <td>10.000000</td>\n",
              "      <td>0.000000</td>\n",
              "      <td>0.000000</td>\n",
              "      <td>40.000000</td>\n",
              "    </tr>\n",
              "    <tr>\n",
              "      <th>75%</th>\n",
              "      <td>47.000000</td>\n",
              "      <td>2.376300e+05</td>\n",
              "      <td>13.000000</td>\n",
              "      <td>0.000000</td>\n",
              "      <td>0.000000</td>\n",
              "      <td>45.000000</td>\n",
              "    </tr>\n",
              "    <tr>\n",
              "      <th>max</th>\n",
              "      <td>90.000000</td>\n",
              "      <td>1.484705e+06</td>\n",
              "      <td>16.000000</td>\n",
              "      <td>99999.000000</td>\n",
              "      <td>4356.000000</td>\n",
              "      <td>99.000000</td>\n",
              "    </tr>\n",
              "  </tbody>\n",
              "</table>\n",
              "</div>"
            ],
            "text/plain": [
              "                Age        Fnlwgt  Education_num  Capital_gain  Capital_loss  \\\n",
              "count  30161.000000  3.016100e+04   30161.000000  30161.000000  30161.000000   \n",
              "mean      38.437883  1.897976e+05      10.121216   1091.971984     88.375419   \n",
              "std       13.134882  1.056527e+05       2.549983   7406.466659    404.304753   \n",
              "min       17.000000  1.376900e+04       1.000000      0.000000      0.000000   \n",
              "25%       28.000000  1.176280e+05       9.000000      0.000000      0.000000   \n",
              "50%       37.000000  1.784290e+05      10.000000      0.000000      0.000000   \n",
              "75%       47.000000  2.376300e+05      13.000000      0.000000      0.000000   \n",
              "max       90.000000  1.484705e+06      16.000000  99999.000000   4356.000000   \n",
              "\n",
              "       Hours_per_week  \n",
              "count    30161.000000  \n",
              "mean        40.931269  \n",
              "std         11.980182  \n",
              "min          1.000000  \n",
              "25%         40.000000  \n",
              "50%         40.000000  \n",
              "75%         45.000000  \n",
              "max         99.000000  "
            ]
          },
          "execution_count": 14,
          "metadata": {},
          "output_type": "execute_result"
        }
      ],
      "source": [
        "df_new.describe() #Statistical evaluation of the dataset"
      ]
    },
    {
      "cell_type": "code",
      "execution_count": null,
      "id": "7e9d42ba",
      "metadata": {
        "id": "7e9d42ba",
        "outputId": "4f640692-0bcc-484c-fc5f-58ec81e594ef"
      },
      "outputs": [
        {
          "data": {
            "text/plain": [
              "Index(['Age', 'Workclass', 'Fnlwgt', 'Education', 'Education_num',\n",
              "       'Marital_status', 'Occupation', 'Relationship', 'Race', 'Sex',\n",
              "       'Capital_gain', 'Capital_loss', 'Hours_per_week', 'Native_country',\n",
              "       'Income'],\n",
              "      dtype='object')"
            ]
          },
          "execution_count": 15,
          "metadata": {},
          "output_type": "execute_result"
        }
      ],
      "source": [
        "df_new.columns #Calling all the column names of the dataset"
      ]
    },
    {
      "cell_type": "markdown",
      "id": "e145338f",
      "metadata": {
        "id": "e145338f"
      },
      "source": [
        "# Exploratory Data Analysis"
      ]
    },
    {
      "cell_type": "markdown",
      "id": "9d2f37c8",
      "metadata": {
        "id": "9d2f37c8"
      },
      "source": [
        "Let us now look into all the columns one at a time, beginning with the target column 'Income'"
      ]
    },
    {
      "cell_type": "code",
      "execution_count": null,
      "id": "f956d72e",
      "metadata": {
        "id": "f956d72e",
        "outputId": "35adeee0-b9f3-4b6f-8942-a45cda1a5507"
      },
      "outputs": [
        {
          "data": {
            "text/plain": [
              " <=50K    22653\n",
              " >50K      7508\n",
              "Name: Income, dtype: int64"
            ]
          },
          "execution_count": 16,
          "metadata": {},
          "output_type": "execute_result"
        }
      ],
      "source": [
        "df_new['Income'].value_counts()"
      ]
    },
    {
      "cell_type": "markdown",
      "id": "0b56cfcb",
      "metadata": {
        "id": "0b56cfcb"
      },
      "source": [
        "We see that the class in imbalanced, we shall treat for it later.We will encode the data for use for now"
      ]
    },
    {
      "cell_type": "code",
      "execution_count": null,
      "id": "4b12c9b4",
      "metadata": {
        "id": "4b12c9b4"
      },
      "outputs": [],
      "source": [
        "le = LabelEncoder()\n",
        "df_new['Income'] = le.fit_transform(df_new['Income'])"
      ]
    },
    {
      "cell_type": "code",
      "execution_count": null,
      "id": "0f27eecb",
      "metadata": {
        "scrolled": true,
        "id": "0f27eecb",
        "outputId": "fef7409c-5461-42eb-956a-433a24c55792"
      },
      "outputs": [
        {
          "data": {
            "text/plain": [
              "0    22653\n",
              "1     7508\n",
              "Name: Income, dtype: int64"
            ]
          },
          "execution_count": 18,
          "metadata": {},
          "output_type": "execute_result"
        }
      ],
      "source": [
        "df_new['Income'].value_counts()"
      ]
    },
    {
      "cell_type": "markdown",
      "id": "6d2ba67d",
      "metadata": {
        "id": "6d2ba67d"
      },
      "source": [
        "We have encoded\n",
        "- 0 :  <=50K\n",
        "- 1 :  >50K"
      ]
    },
    {
      "cell_type": "code",
      "execution_count": null,
      "id": "33e38ca1",
      "metadata": {
        "id": "33e38ca1",
        "outputId": "8a16d21c-8e7c-4e2e-d3dc-b007399df129"
      },
      "outputs": [
        {
          "data": {
            "text/plain": [
              "<AxesSubplot:xlabel='Income', ylabel='count'>"
            ]
          },
          "execution_count": 19,
          "metadata": {},
          "output_type": "execute_result"
        },
        {
          "data": {
            "image/png": "[encoded data removed]",
            "text/plain": [
              "<Figure size 432x288 with 1 Axes>"
            ]
          },
          "metadata": {
            "needs_background": "light"
          },
          "output_type": "display_data"
        }
      ],
      "source": [
        "# Count plot for the column\n",
        "sns.countplot(df_new['Income'])"
      ]
    },
    {
      "cell_type": "code",
      "execution_count": null,
      "id": "1c332ea4",
      "metadata": {
        "id": "1c332ea4",
        "outputId": "fcc67e4b-a9f5-4d72-a90b-8af2af58b628"
      },
      "outputs": [
        {
          "data": {
            "image/png": "[encoded data removed]",
            "text/plain": [
              "<Figure size 720x720 with 1 Axes>"
            ]
          },
          "metadata": {
            "needs_background": "light"
          },
          "output_type": "display_data"
        }
      ],
      "source": [
        "#Count plot for the column\n",
        "plt.figure(figsize=(10,10))\n",
        "sns.countplot(df_new['Age'])\n",
        "plt.xticks(rotation=90)\n",
        "plt.show()"
      ]
    },
    {
      "cell_type": "code",
      "execution_count": null,
      "id": "dba7ab94",
      "metadata": {
        "id": "dba7ab94",
        "outputId": "02079684-1235-47b5-baaa-041fafcf26af"
      },
      "outputs": [
        {
          "data": {
            "text/plain": [
              "<AxesSubplot:xlabel='Age'>"
            ]
          },
          "execution_count": 21,
          "metadata": {},
          "output_type": "execute_result"
        },
        {
          "data": {
            "image/png": "[encoded data removed]",
            "text/plain": [
              "<Figure size 432x288 with 1 Axes>"
            ]
          },
          "metadata": {
            "needs_background": "light"
          },
          "output_type": "display_data"
        }
      ],
      "source": [
        "# Boxplot for the column\n",
        "sns.boxplot(df_new['Age'])"
      ]
    },
    {
      "cell_type": "code",
      "execution_count": null,
      "id": "6628bf75",
      "metadata": {
        "id": "6628bf75",
        "outputId": "0276d46b-93c4-4351-b865-a21811d6e428"
      },
      "outputs": [
        {
          "data": {
            "image/png": "[encoded data removed]",
            "text/plain": [
              "<Figure size 720x720 with 1 Axes>"
            ]
          },
          "metadata": {
            "needs_background": "light"
          },
          "output_type": "display_data"
        }
      ],
      "source": [
        "#Count plot for the column\n",
        "plt.figure(figsize=(10,10))\n",
        "sns.countplot(df_new['Workclass'])\n",
        "plt.xticks(rotation=90)\n",
        "plt.show()"
      ]
    },
    {
      "cell_type": "code",
      "execution_count": null,
      "id": "dee5c0d6",
      "metadata": {
        "id": "dee5c0d6",
        "outputId": "07ce1ae2-2b2b-4b40-85bc-0e9488b8e06f"
      },
      "outputs": [
        {
          "data": {
            "text/plain": [
              " Private             22286\n",
              " Self-emp-not-inc     2499\n",
              " Local-gov            2067\n",
              " State-gov            1278\n",
              " Self-emp-inc         1074\n",
              " Federal-gov           943\n",
              " Without-pay            14\n",
              "Name: Workclass, dtype: int64"
            ]
          },
          "execution_count": 23,
          "metadata": {},
          "output_type": "execute_result"
        }
      ],
      "source": [
        "df_new['Workclass'].value_counts()"
      ]
    },
    {
      "cell_type": "code",
      "execution_count": null,
      "id": "cdd13d56",
      "metadata": {
        "id": "cdd13d56"
      },
      "outputs": [],
      "source": [
        "#Encoding the data to numerical\n",
        "df_new['Workclass'] = le.fit_transform(df_new['Workclass'])"
      ]
    },
    {
      "cell_type": "code",
      "execution_count": null,
      "id": "3593fccf",
      "metadata": {
        "id": "3593fccf",
        "outputId": "cf24cfaf-e3b8-4c24-8a8a-afeaedba4b81"
      },
      "outputs": [
        {
          "data": {
            "text/plain": [
              "<AxesSubplot:xlabel='Workclass'>"
            ]
          },
          "execution_count": 25,
          "metadata": {},
          "output_type": "execute_result"
        },
        {
          "data": {
            "image/png": "[encoded data removed]",
            "text/plain": [
              "<Figure size 432x288 with 1 Axes>"
            ]
          },
          "metadata": {
            "needs_background": "light"
          },
          "output_type": "display_data"
        }
      ],
      "source": [
        "# Violinplot for the column\n",
        "sns.violinplot(df_new['Workclass'])"
      ]
    },
    {
      "cell_type": "code",
      "execution_count": null,
      "id": "7ef81151",
      "metadata": {
        "id": "7ef81151",
        "outputId": "c5ea313f-ee3c-4db4-a296-89219746c355"
      },
      "outputs": [
        {
          "data": {
            "text/plain": [
              "<AxesSubplot:xlabel='Fnlwgt', ylabel='Density'>"
            ]
          },
          "execution_count": 26,
          "metadata": {},
          "output_type": "execute_result"
        },
        {
          "data": {
            "image/png": "[encoded data removed]",
            "text/plain": [
              "<Figure size 432x288 with 1 Axes>"
            ]
          },
          "metadata": {
            "needs_background": "light"
          },
          "output_type": "display_data"
        }
      ],
      "source": [
        "#Density plot for the column\n",
        "sns.distplot(df_new['Fnlwgt'])"
      ]
    },
    {
      "cell_type": "code",
      "execution_count": null,
      "id": "32e34969",
      "metadata": {
        "id": "32e34969",
        "outputId": "5815baa5-bf7c-4cb0-c949-90a1102202a0"
      },
      "outputs": [
        {
          "data": {
            "text/plain": [
              "<AxesSubplot:xlabel='Fnlwgt'>"
            ]
          },
          "execution_count": 27,
          "metadata": {},
          "output_type": "execute_result"
        },
        {
          "data": {
            "image/png": "[encoded data removed]",
            "text/plain": [
              "<Figure size 432x288 with 1 Axes>"
            ]
          },
          "metadata": {
            "needs_background": "light"
          },
          "output_type": "display_data"
        }
      ],
      "source": [
        "# Boxplot for the column\n",
        "sns.boxplot(df_new['Fnlwgt'])"
      ]
    },
    {
      "cell_type": "code",
      "execution_count": null,
      "id": "ab39c152",
      "metadata": {
        "id": "ab39c152",
        "outputId": "11cd8103-db52-4de8-bff0-7473de179eba"
      },
      "outputs": [
        {
          "data": {
            "image/png": "[encoded data removed]",
            "text/plain": [
              "<Figure size 720x720 with 1 Axes>"
            ]
          },
          "metadata": {
            "needs_background": "light"
          },
          "output_type": "display_data"
        }
      ],
      "source": [
        "#Count plot for the column\n",
        "plt.figure(figsize=(10,10))\n",
        "sns.countplot(df_new['Education'])\n",
        "plt.xticks(rotation=90)\n",
        "plt.show()"
      ]
    },
    {
      "cell_type": "code",
      "execution_count": null,
      "id": "63b276db",
      "metadata": {
        "id": "63b276db",
        "outputId": "1edda3d1-5657-4031-f501-8377bb02f77f"
      },
      "outputs": [
        {
          "data": {
            "text/plain": [
              " HS-grad         9840\n",
              " Some-college    6678\n",
              " Bachelors       5043\n",
              " Masters         1627\n",
              " Assoc-voc       1307\n",
              " 11th            1048\n",
              " Assoc-acdm      1008\n",
              " 10th             820\n",
              " 7th-8th          557\n",
              " Prof-school      542\n",
              " 9th              455\n",
              " 12th             377\n",
              " Doctorate        375\n",
              " 5th-6th          288\n",
              " 1st-4th          151\n",
              " Preschool         45\n",
              "Name: Education, dtype: int64"
            ]
          },
          "execution_count": 29,
          "metadata": {},
          "output_type": "execute_result"
        }
      ],
      "source": [
        "df_new['Education'].value_counts()"
      ]
    },
    {
      "cell_type": "code",
      "execution_count": null,
      "id": "a6f2d776",
      "metadata": {
        "id": "a6f2d776",
        "outputId": "4f2d1495-f058-4227-8363-1b0363f82905"
      },
      "outputs": [
        {
          "data": {
            "text/plain": [
              "9     9840\n",
              "10    6678\n",
              "13    5043\n",
              "14    1627\n",
              "11    1307\n",
              "7     1048\n",
              "12    1008\n",
              "6      820\n",
              "4      557\n",
              "15     542\n",
              "5      455\n",
              "8      377\n",
              "16     375\n",
              "3      288\n",
              "2      151\n",
              "1       45\n",
              "Name: Education_num, dtype: int64"
            ]
          },
          "execution_count": 30,
          "metadata": {},
          "output_type": "execute_result"
        }
      ],
      "source": [
        "\n",
        "df_new['Education_num'].value_counts()"
      ]
    },
    {
      "cell_type": "markdown",
      "id": "055fb6cf",
      "metadata": {
        "id": "055fb6cf"
      },
      "source": [
        "Since education_num column is just an encoded version of the education column, we shall drop the education column"
      ]
    },
    {
      "cell_type": "code",
      "execution_count": null,
      "id": "002a5778",
      "metadata": {
        "id": "002a5778"
      },
      "outputs": [],
      "source": [
        "#Dropping the column\n",
        "df_new = df_new.drop(columns='Education')"
      ]
    },
    {
      "cell_type": "code",
      "execution_count": null,
      "id": "215d6fee",
      "metadata": {
        "id": "215d6fee",
        "outputId": "4628e331-9a94-4f20-8b29-f30d9ec854e4"
      },
      "outputs": [
        {
          "data": {
            "image/png": "[encoded data removed]",
            "text/plain": [
              "<Figure size 720x720 with 1 Axes>"
            ]
          },
          "metadata": {
            "needs_background": "light"
          },
          "output_type": "display_data"
        }
      ],
      "source": [
        "#Count plot for the column\n",
        "plt.figure(figsize=(10,10))\n",
        "sns.countplot(df_new['Education_num'])\n",
        "plt.xticks(rotation=90)\n",
        "plt.show()"
      ]
    },
    {
      "cell_type": "code",
      "execution_count": null,
      "id": "6d230363",
      "metadata": {
        "id": "6d230363",
        "outputId": "360f7c89-1216-47f3-f369-af2d80d37a23"
      },
      "outputs": [
        {
          "data": {
            "text/plain": [
              "<AxesSubplot:xlabel='Education_num'>"
            ]
          },
          "execution_count": 33,
          "metadata": {},
          "output_type": "execute_result"
        },
        {
          "data": {
            "image/png": "[encoded data removed]",
            "text/plain": [
              "<Figure size 432x288 with 1 Axes>"
            ]
          },
          "metadata": {
            "needs_background": "light"
          },
          "output_type": "display_data"
        }
      ],
      "source": [
        "#Violin plot of the column\n",
        "sns.violinplot(df_new['Education_num'])"
      ]
    },
    {
      "cell_type": "code",
      "execution_count": null,
      "id": "5bab1352",
      "metadata": {
        "id": "5bab1352",
        "outputId": "071e45c2-f512-4cda-eafd-f73150da8cf2"
      },
      "outputs": [
        {
          "data": {
            "image/png": "[encoded data removed]",
            "text/plain": [
              "<Figure size 720x720 with 1 Axes>"
            ]
          },
          "metadata": {
            "needs_background": "light"
          },
          "output_type": "display_data"
        }
      ],
      "source": [
        "#Count plot for the column\n",
        "plt.figure(figsize=(10,10))\n",
        "sns.countplot(df_new['Marital_status'])\n",
        "plt.xticks(rotation=90)\n",
        "plt.show()"
      ]
    },
    {
      "cell_type": "markdown",
      "id": "1505d707",
      "metadata": {
        "id": "1505d707"
      },
      "source": [
        "We shall encode the data to numerical"
      ]
    },
    {
      "cell_type": "code",
      "execution_count": null,
      "id": "34a3baba",
      "metadata": {
        "id": "34a3baba"
      },
      "outputs": [],
      "source": [
        "df_new['Marital_status'] = le.fit_transform(df_new['Marital_status'])"
      ]
    },
    {
      "cell_type": "code",
      "execution_count": null,
      "id": "fac22c43",
      "metadata": {
        "id": "fac22c43",
        "outputId": "33c2e69f-ad30-4632-d46d-9afda1813b83"
      },
      "outputs": [
        {
          "data": {
            "text/plain": [
              "<AxesSubplot:xlabel='Marital_status'>"
            ]
          },
          "execution_count": 36,
          "metadata": {},
          "output_type": "execute_result"
        },
        {
          "data": {
            "image/png": "[encoded data removed]",
            "text/plain": [
              "<Figure size 432x288 with 1 Axes>"
            ]
          },
          "metadata": {
            "needs_background": "light"
          },
          "output_type": "display_data"
        }
      ],
      "source": [
        "#Violin plot of the column\n",
        "sns.violinplot(df_new['Marital_status'])"
      ]
    },
    {
      "cell_type": "code",
      "execution_count": null,
      "id": "043bc120",
      "metadata": {
        "id": "043bc120",
        "outputId": "8c65fca8-d8e2-49e7-f766-264072ed4435"
      },
      "outputs": [
        {
          "data": {
            "image/png": "[encoded data removed]",
            "text/plain": [
              "<Figure size 720x720 with 1 Axes>"
            ]
          },
          "metadata": {
            "needs_background": "light"
          },
          "output_type": "display_data"
        }
      ],
      "source": [
        "#Count plot for the column\n",
        "plt.figure(figsize=(10,10))\n",
        "sns.countplot(df_new['Occupation'])\n",
        "plt.xticks(rotation=90)\n",
        "plt.show()"
      ]
    },
    {
      "cell_type": "markdown",
      "id": "7459ea0a",
      "metadata": {
        "id": "7459ea0a"
      },
      "source": [
        "Encoding the data to numerical features"
      ]
    },
    {
      "cell_type": "code",
      "execution_count": null,
      "id": "47a479f0",
      "metadata": {
        "id": "47a479f0"
      },
      "outputs": [],
      "source": [
        "df_new['Occupation'] = le.fit_transform(df_new['Occupation'])"
      ]
    },
    {
      "cell_type": "code",
      "execution_count": null,
      "id": "47ef8d15",
      "metadata": {
        "id": "47ef8d15",
        "outputId": "e63b1a19-0db6-4034-cd62-b8210c3706c4"
      },
      "outputs": [
        {
          "data": {
            "text/plain": [
              "<AxesSubplot:xlabel='Marital_status'>"
            ]
          },
          "execution_count": 39,
          "metadata": {},
          "output_type": "execute_result"
        },
        {
          "data": {
            "image/png": "[encoded data removed]",
            "text/plain": [
              "<Figure size 432x288 with 1 Axes>"
            ]
          },
          "metadata": {
            "needs_background": "light"
          },
          "output_type": "display_data"
        }
      ],
      "source": [
        "#Violin plot of the column\n",
        "sns.violinplot(df_new['Marital_status'])"
      ]
    },
    {
      "cell_type": "code",
      "execution_count": null,
      "id": "07c17667",
      "metadata": {
        "id": "07c17667",
        "outputId": "e954fcdd-2a9f-4784-e3fd-47b92ca30e7d"
      },
      "outputs": [
        {
          "data": {
            "image/png": "[encoded data removed]",
            "text/plain": [
              "<Figure size 720x720 with 1 Axes>"
            ]
          },
          "metadata": {
            "needs_background": "light"
          },
          "output_type": "display_data"
        }
      ],
      "source": [
        "#Count plot for the column\n",
        "plt.figure(figsize=(10,10))\n",
        "sns.countplot(df_new['Relationship'])\n",
        "plt.xticks(rotation=90)\n",
        "plt.show()"
      ]
    },
    {
      "cell_type": "markdown",
      "id": "6261ac1e",
      "metadata": {
        "id": "6261ac1e"
      },
      "source": [
        "Encoding the data to numerical features"
      ]
    },
    {
      "cell_type": "code",
      "execution_count": null,
      "id": "049de9fe",
      "metadata": {
        "id": "049de9fe"
      },
      "outputs": [],
      "source": [
        "df_new['Relationship'] = le.fit_transform(df_new['Relationship'])"
      ]
    },
    {
      "cell_type": "code",
      "execution_count": null,
      "id": "e35e7e4e",
      "metadata": {
        "id": "e35e7e4e",
        "outputId": "5b9a4bba-7f31-49da-9d22-3c3227473897"
      },
      "outputs": [
        {
          "data": {
            "text/plain": [
              "<AxesSubplot:xlabel='Relationship'>"
            ]
          },
          "execution_count": 42,
          "metadata": {},
          "output_type": "execute_result"
        },
        {
          "data": {
            "image/png": "[encoded data removed]",
            "text/plain": [
              "<Figure size 432x288 with 1 Axes>"
            ]
          },
          "metadata": {
            "needs_background": "light"
          },
          "output_type": "display_data"
        }
      ],
      "source": [
        "#Violin plot of the column\n",
        "sns.violinplot(df_new['Relationship'])"
      ]
    },
    {
      "cell_type": "code",
      "execution_count": null,
      "id": "d9add11e",
      "metadata": {
        "id": "d9add11e",
        "outputId": "4f3fdfba-d161-4b1a-85c3-f919a8750b69"
      },
      "outputs": [
        {
          "data": {
            "image/png": "[encoded data removed]",
            "text/plain": [
              "<Figure size 720x720 with 1 Axes>"
            ]
          },
          "metadata": {
            "needs_background": "light"
          },
          "output_type": "display_data"
        }
      ],
      "source": [
        "#Count plot for the column\n",
        "plt.figure(figsize=(10,10))\n",
        "sns.countplot(df_new['Race'])\n",
        "plt.xticks(rotation=90)\n",
        "plt.show()"
      ]
    },
    {
      "cell_type": "markdown",
      "id": "dd8f7292",
      "metadata": {
        "id": "dd8f7292"
      },
      "source": [
        "Encoding the data to numerical features"
      ]
    },
    {
      "cell_type": "code",
      "execution_count": null,
      "id": "7b8eaeb4",
      "metadata": {
        "id": "7b8eaeb4"
      },
      "outputs": [],
      "source": [
        "df_new['Race'] = le.fit_transform(df_new['Race'])"
      ]
    },
    {
      "cell_type": "code",
      "execution_count": null,
      "id": "02c8af24",
      "metadata": {
        "id": "02c8af24",
        "outputId": "05babe51-1cea-4761-d0e7-c804f7dc21a0"
      },
      "outputs": [
        {
          "data": {
            "text/plain": [
              "<AxesSubplot:xlabel='Race'>"
            ]
          },
          "execution_count": 45,
          "metadata": {},
          "output_type": "execute_result"
        },
        {
          "data": {
            "image/png": "[encoded data removed]",
            "text/plain": [
              "<Figure size 432x288 with 1 Axes>"
            ]
          },
          "metadata": {
            "needs_background": "light"
          },
          "output_type": "display_data"
        }
      ],
      "source": [
        "#Violin plot of the column\n",
        "sns.violinplot(df_new['Race'])"
      ]
    },
    {
      "cell_type": "code",
      "execution_count": null,
      "id": "e9436453",
      "metadata": {
        "id": "e9436453",
        "outputId": "c623a9a4-3a98-4439-a90a-67d8c2793d21"
      },
      "outputs": [
        {
          "data": {
            "image/png": "[encoded data removed]",
            "text/plain": [
              "<Figure size 720x720 with 1 Axes>"
            ]
          },
          "metadata": {
            "needs_background": "light"
          },
          "output_type": "display_data"
        }
      ],
      "source": [
        "#Count plot for the column\n",
        "plt.figure(figsize=(10,10))\n",
        "sns.countplot(df_new['Sex'])\n",
        "plt.xticks(rotation=90)\n",
        "plt.show()"
      ]
    },
    {
      "cell_type": "markdown",
      "id": "4fb28121",
      "metadata": {
        "id": "4fb28121"
      },
      "source": [
        "Encoding to numerical features"
      ]
    },
    {
      "cell_type": "code",
      "execution_count": null,
      "id": "e8cbde29",
      "metadata": {
        "id": "e8cbde29"
      },
      "outputs": [],
      "source": [
        "df_new['Sex'] = le.fit_transform(df_new['Sex'])"
      ]
    },
    {
      "cell_type": "code",
      "execution_count": null,
      "id": "377a3dd9",
      "metadata": {
        "id": "377a3dd9",
        "outputId": "b3ca0d36-f5c9-4cfb-9317-9fef71bf5370"
      },
      "outputs": [
        {
          "data": {
            "text/plain": [
              "<AxesSubplot:xlabel='Sex'>"
            ]
          },
          "execution_count": 48,
          "metadata": {},
          "output_type": "execute_result"
        },
        {
          "data": {
            "image/png": "[encoded data removed]",
            "text/plain": [
              "<Figure size 432x288 with 1 Axes>"
            ]
          },
          "metadata": {
            "needs_background": "light"
          },
          "output_type": "display_data"
        }
      ],
      "source": [
        "#Violin plot of the column\n",
        "sns.violinplot(df_new['Sex'])"
      ]
    },
    {
      "cell_type": "code",
      "execution_count": null,
      "id": "e4f889f1",
      "metadata": {
        "id": "e4f889f1",
        "outputId": "bdfe0456-5d6d-4726-c20e-6d793ffe7a54"
      },
      "outputs": [
        {
          "data": {
            "text/plain": [
              "<AxesSubplot:xlabel='Capital_gain', ylabel='Density'>"
            ]
          },
          "execution_count": 49,
          "metadata": {},
          "output_type": "execute_result"
        },
        {
          "data": {
            "image/png": "[encoded data removed]",
            "text/plain": [
              "<Figure size 432x288 with 1 Axes>"
            ]
          },
          "metadata": {
            "needs_background": "light"
          },
          "output_type": "display_data"
        }
      ],
      "source": [
        "#Density plot for the column\n",
        "sns.distplot(df_new['Capital_gain'])"
      ]
    },
    {
      "cell_type": "code",
      "execution_count": null,
      "id": "c523e128",
      "metadata": {
        "id": "c523e128",
        "outputId": "df399827-53c6-492f-e322-0a168ed97f29"
      },
      "outputs": [
        {
          "data": {
            "text/plain": [
              "<AxesSubplot:xlabel='Capital_gain'>"
            ]
          },
          "execution_count": 50,
          "metadata": {},
          "output_type": "execute_result"
        },
        {
          "data": {
            "image/png": "[encoded data removed]",
            "text/plain": [
              "<Figure size 432x288 with 1 Axes>"
            ]
          },
          "metadata": {
            "needs_background": "light"
          },
          "output_type": "display_data"
        }
      ],
      "source": [
        "#Box plot for the column\n",
        "sns.boxplot(df_new['Capital_gain'])"
      ]
    },
    {
      "cell_type": "code",
      "execution_count": null,
      "id": "32c6411b",
      "metadata": {
        "id": "32c6411b",
        "outputId": "830ae792-a1f1-4de1-ddbe-88c581e72199"
      },
      "outputs": [
        {
          "data": {
            "text/plain": [
              "<AxesSubplot:xlabel='Capital_loss', ylabel='Density'>"
            ]
          },
          "execution_count": 51,
          "metadata": {},
          "output_type": "execute_result"
        },
        {
          "data": {
            "image/png": "[encoded data removed]",
            "text/plain": [
              "<Figure size 432x288 with 1 Axes>"
            ]
          },
          "metadata": {
            "needs_background": "light"
          },
          "output_type": "display_data"
        }
      ],
      "source": [
        "#Density plot for the column\n",
        "sns.distplot(df_new['Capital_loss'])"
      ]
    },
    {
      "cell_type": "code",
      "execution_count": null,
      "id": "51c2e1b7",
      "metadata": {
        "id": "51c2e1b7",
        "outputId": "40f3e3dc-a64d-438b-ce48-9153a756502a"
      },
      "outputs": [
        {
          "data": {
            "text/plain": [
              "<AxesSubplot:xlabel='Capital_loss'>"
            ]
          },
          "execution_count": 52,
          "metadata": {},
          "output_type": "execute_result"
        },
        {
          "data": {
            "image/png": "[encoded data removed]",
            "text/plain": [
              "<Figure size 432x288 with 1 Axes>"
            ]
          },
          "metadata": {
            "needs_background": "light"
          },
          "output_type": "display_data"
        }
      ],
      "source": [
        "#Box plot for the column\n",
        "sns.boxplot(df_new['Capital_loss'])"
      ]
    },
    {
      "cell_type": "code",
      "execution_count": null,
      "id": "f6697af4",
      "metadata": {
        "id": "f6697af4",
        "outputId": "6eea5ddc-8e5b-422b-91df-db8ebe2feedb"
      },
      "outputs": [
        {
          "data": {
            "text/plain": [
              "<AxesSubplot:xlabel='Hours_per_week', ylabel='Density'>"
            ]
          },
          "execution_count": 53,
          "metadata": {},
          "output_type": "execute_result"
        },
        {
          "data": {
            "image/png": "[encoded data removed]",
            "text/plain": [
              "<Figure size 432x288 with 1 Axes>"
            ]
          },
          "metadata": {
            "needs_background": "light"
          },
          "output_type": "display_data"
        }
      ],
      "source": [
        "#Density plot for the column\n",
        "sns.distplot(df_new['Hours_per_week'])"
      ]
    },
    {
      "cell_type": "code",
      "execution_count": null,
      "id": "8d6ac034",
      "metadata": {
        "id": "8d6ac034",
        "outputId": "2b1b9b50-ffc6-42d0-c9cc-1270b43b7bc6"
      },
      "outputs": [
        {
          "data": {
            "text/plain": [
              "<AxesSubplot:xlabel='Hours_per_week'>"
            ]
          },
          "execution_count": 54,
          "metadata": {},
          "output_type": "execute_result"
        },
        {
          "data": {
            "image/png": "[encoded data removed]",
            "text/plain": [
              "<Figure size 432x288 with 1 Axes>"
            ]
          },
          "metadata": {
            "needs_background": "light"
          },
          "output_type": "display_data"
        }
      ],
      "source": [
        "#Box plot for the column\n",
        "sns.boxplot(df_new['Hours_per_week'])"
      ]
    },
    {
      "cell_type": "code",
      "execution_count": null,
      "id": "4c3bcc60",
      "metadata": {
        "id": "4c3bcc60",
        "outputId": "ff88cc55-5b93-4996-e124-878c71a65b2e"
      },
      "outputs": [
        {
          "data": {
            "image/png": "[encoded data removed]",
            "text/plain": [
              "<Figure size 720x720 with 1 Axes>"
            ]
          },
          "metadata": {
            "needs_background": "light"
          },
          "output_type": "display_data"
        }
      ],
      "source": [
        "#Count plot for the column\n",
        "plt.figure(figsize=(10,10))\n",
        "sns.countplot(df_new['Native_country'])\n",
        "plt.xticks(rotation=90)\n",
        "plt.show()"
      ]
    },
    {
      "cell_type": "markdown",
      "id": "540c3e63",
      "metadata": {
        "id": "540c3e63"
      },
      "source": [
        "Encoding the data to numerical features"
      ]
    },
    {
      "cell_type": "code",
      "execution_count": null,
      "id": "daebd81d",
      "metadata": {
        "id": "daebd81d"
      },
      "outputs": [],
      "source": [
        "df_new['Native_country'] = le.fit_transform(df_new['Native_country'])"
      ]
    },
    {
      "cell_type": "code",
      "execution_count": null,
      "id": "0cfa0e5f",
      "metadata": {
        "id": "0cfa0e5f",
        "outputId": "7cba6245-aaa8-4ecd-dd9d-4dfacd4eab43"
      },
      "outputs": [
        {
          "data": {
            "text/plain": [
              "<AxesSubplot:xlabel='Native_country'>"
            ]
          },
          "execution_count": 57,
          "metadata": {},
          "output_type": "execute_result"
        },
        {
          "data": {
            "image/png": "[encoded data removed]",
            "text/plain": [
              "<Figure size 432x288 with 1 Axes>"
            ]
          },
          "metadata": {
            "needs_background": "light"
          },
          "output_type": "display_data"
        }
      ],
      "source": [
        "#Box plot for the column\n",
        "sns.boxplot(df_new['Native_country'])"
      ]
    },
    {
      "cell_type": "markdown",
      "id": "d1fd801c",
      "metadata": {
        "id": "d1fd801c"
      },
      "source": [
        "# Correlation"
      ]
    },
    {
      "cell_type": "markdown",
      "id": "e180d0bd",
      "metadata": {
        "id": "e180d0bd"
      },
      "source": [
        "Now, since all the data has been transformed into numeric values. Let us check for the correlation to the target column"
      ]
    },
    {
      "cell_type": "code",
      "execution_count": null,
      "id": "7d5dad97",
      "metadata": {
        "id": "7d5dad97",
        "outputId": "8477e62b-52f0-4c86-b7ce-75b3798a45af"
      },
      "outputs": [
        {
          "data": {
            "text/html": [
              "<div>\n",
              "<style scoped>\n",
              "    .dataframe tbody tr th:only-of-type {\n",
              "        vertical-align: middle;\n",
              "    }\n",
              "\n",
              "    .dataframe tbody tr th {\n",
              "        vertical-align: top;\n",
              "    }\n",
              "\n",
              "    .dataframe thead th {\n",
              "        text-align: right;\n",
              "    }\n",
              "</style>\n",
              "<table border=\"1\" class=\"dataframe\">\n",
              "  <thead>\n",
              "    <tr style=\"text-align: right;\">\n",
              "      <th></th>\n",
              "      <th>Age</th>\n",
              "      <th>Workclass</th>\n",
              "      <th>Fnlwgt</th>\n",
              "      <th>Education_num</th>\n",
              "      <th>Marital_status</th>\n",
              "      <th>Occupation</th>\n",
              "      <th>Relationship</th>\n",
              "      <th>Race</th>\n",
              "      <th>Sex</th>\n",
              "      <th>Capital_gain</th>\n",
              "      <th>Capital_loss</th>\n",
              "      <th>Hours_per_week</th>\n",
              "      <th>Native_country</th>\n",
              "      <th>Income</th>\n",
              "    </tr>\n",
              "  </thead>\n",
              "  <tbody>\n",
              "    <tr>\n",
              "      <th>Age</th>\n",
              "      <td>1.000000</td>\n",
              "      <td>0.080548</td>\n",
              "      <td>-0.076511</td>\n",
              "      <td>0.043525</td>\n",
              "      <td>-0.276378</td>\n",
              "      <td>-0.005680</td>\n",
              "      <td>-0.246456</td>\n",
              "      <td>0.023373</td>\n",
              "      <td>0.081992</td>\n",
              "      <td>0.080154</td>\n",
              "      <td>0.060166</td>\n",
              "      <td>0.101599</td>\n",
              "      <td>-0.001905</td>\n",
              "      <td>0.242000</td>\n",
              "    </tr>\n",
              "    <tr>\n",
              "      <th>Workclass</th>\n",
              "      <td>0.080548</td>\n",
              "      <td>1.000000</td>\n",
              "      <td>-0.032395</td>\n",
              "      <td>0.037729</td>\n",
              "      <td>-0.034338</td>\n",
              "      <td>0.015719</td>\n",
              "      <td>-0.067401</td>\n",
              "      <td>0.044700</td>\n",
              "      <td>0.074917</td>\n",
              "      <td>0.035340</td>\n",
              "      <td>0.007226</td>\n",
              "      <td>0.050738</td>\n",
              "      <td>0.007644</td>\n",
              "      <td>0.018103</td>\n",
              "    </tr>\n",
              "    <tr>\n",
              "      <th>Fnlwgt</th>\n",
              "      <td>-0.076511</td>\n",
              "      <td>-0.032395</td>\n",
              "      <td>1.000000</td>\n",
              "      <td>-0.044954</td>\n",
              "      <td>0.032197</td>\n",
              "      <td>0.000152</td>\n",
              "      <td>0.009289</td>\n",
              "      <td>-0.023882</td>\n",
              "      <td>0.025387</td>\n",
              "      <td>0.000427</td>\n",
              "      <td>-0.009757</td>\n",
              "      <td>-0.022889</td>\n",
              "      <td>-0.066709</td>\n",
              "      <td>-0.008978</td>\n",
              "    </tr>\n",
              "    <tr>\n",
              "      <th>Education_num</th>\n",
              "      <td>0.043525</td>\n",
              "      <td>0.037729</td>\n",
              "      <td>-0.044954</td>\n",
              "      <td>1.000000</td>\n",
              "      <td>-0.063457</td>\n",
              "      <td>0.087778</td>\n",
              "      <td>-0.091928</td>\n",
              "      <td>0.032791</td>\n",
              "      <td>0.006131</td>\n",
              "      <td>0.124413</td>\n",
              "      <td>0.079656</td>\n",
              "      <td>0.152528</td>\n",
              "      <td>0.091547</td>\n",
              "      <td>0.335317</td>\n",
              "    </tr>\n",
              "    <tr>\n",
              "      <th>Marital_status</th>\n",
              "      <td>-0.276378</td>\n",
              "      <td>-0.034338</td>\n",
              "      <td>0.032197</td>\n",
              "      <td>-0.063457</td>\n",
              "      <td>1.000000</td>\n",
              "      <td>0.022702</td>\n",
              "      <td>0.177975</td>\n",
              "      <td>-0.068641</td>\n",
              "      <td>-0.119837</td>\n",
              "      <td>-0.042424</td>\n",
              "      <td>-0.035197</td>\n",
              "      <td>-0.189004</td>\n",
              "      <td>-0.025911</td>\n",
              "      <td>-0.193504</td>\n",
              "    </tr>\n",
              "    <tr>\n",
              "      <th>Occupation</th>\n",
              "      <td>-0.005680</td>\n",
              "      <td>0.015719</td>\n",
              "      <td>0.000152</td>\n",
              "      <td>0.087778</td>\n",
              "      <td>0.022702</td>\n",
              "      <td>1.000000</td>\n",
              "      <td>-0.053742</td>\n",
              "      <td>0.000736</td>\n",
              "      <td>0.062350</td>\n",
              "      <td>0.022170</td>\n",
              "      <td>0.014597</td>\n",
              "      <td>0.018362</td>\n",
              "      <td>-0.003470</td>\n",
              "      <td>0.051551</td>\n",
              "    </tr>\n",
              "    <tr>\n",
              "      <th>Relationship</th>\n",
              "      <td>-0.246456</td>\n",
              "      <td>-0.067401</td>\n",
              "      <td>0.009289</td>\n",
              "      <td>-0.091928</td>\n",
              "      <td>0.177975</td>\n",
              "      <td>-0.053742</td>\n",
              "      <td>1.000000</td>\n",
              "      <td>-0.117140</td>\n",
              "      <td>-0.584876</td>\n",
              "      <td>-0.058258</td>\n",
              "      <td>-0.063569</td>\n",
              "      <td>-0.257851</td>\n",
              "      <td>-0.010806</td>\n",
              "      <td>-0.251009</td>\n",
              "    </tr>\n",
              "    <tr>\n",
              "      <th>Race</th>\n",
              "      <td>0.023373</td>\n",
              "      <td>0.044700</td>\n",
              "      <td>-0.023882</td>\n",
              "      <td>0.032791</td>\n",
              "      <td>-0.068641</td>\n",
              "      <td>0.000736</td>\n",
              "      <td>-0.117140</td>\n",
              "      <td>1.000000</td>\n",
              "      <td>0.089178</td>\n",
              "      <td>0.014351</td>\n",
              "      <td>0.023520</td>\n",
              "      <td>0.048533</td>\n",
              "      <td>0.124511</td>\n",
              "      <td>0.071666</td>\n",
              "    </tr>\n",
              "    <tr>\n",
              "      <th>Sex</th>\n",
              "      <td>0.081992</td>\n",
              "      <td>0.074917</td>\n",
              "      <td>0.025387</td>\n",
              "      <td>0.006131</td>\n",
              "      <td>-0.119837</td>\n",
              "      <td>0.062350</td>\n",
              "      <td>-0.584876</td>\n",
              "      <td>0.089178</td>\n",
              "      <td>1.000000</td>\n",
              "      <td>0.048811</td>\n",
              "      <td>0.047017</td>\n",
              "      <td>0.231272</td>\n",
              "      <td>0.000612</td>\n",
              "      <td>0.216715</td>\n",
              "    </tr>\n",
              "    <tr>\n",
              "      <th>Capital_gain</th>\n",
              "      <td>0.080154</td>\n",
              "      <td>0.035340</td>\n",
              "      <td>0.000427</td>\n",
              "      <td>0.124413</td>\n",
              "      <td>-0.042424</td>\n",
              "      <td>0.022170</td>\n",
              "      <td>-0.058258</td>\n",
              "      <td>0.014351</td>\n",
              "      <td>0.048811</td>\n",
              "      <td>1.000000</td>\n",
              "      <td>-0.032228</td>\n",
              "      <td>0.080432</td>\n",
              "      <td>0.008529</td>\n",
              "      <td>0.221200</td>\n",
              "    </tr>\n",
              "    <tr>\n",
              "      <th>Capital_loss</th>\n",
              "      <td>0.060166</td>\n",
              "      <td>0.007226</td>\n",
              "      <td>-0.009757</td>\n",
              "      <td>0.079656</td>\n",
              "      <td>-0.035197</td>\n",
              "      <td>0.014597</td>\n",
              "      <td>-0.063569</td>\n",
              "      <td>0.023520</td>\n",
              "      <td>0.047017</td>\n",
              "      <td>-0.032228</td>\n",
              "      <td>1.000000</td>\n",
              "      <td>0.052417</td>\n",
              "      <td>0.009388</td>\n",
              "      <td>0.150050</td>\n",
              "    </tr>\n",
              "    <tr>\n",
              "      <th>Hours_per_week</th>\n",
              "      <td>0.101599</td>\n",
              "      <td>0.050738</td>\n",
              "      <td>-0.022889</td>\n",
              "      <td>0.152528</td>\n",
              "      <td>-0.189004</td>\n",
              "      <td>0.018362</td>\n",
              "      <td>-0.257851</td>\n",
              "      <td>0.048533</td>\n",
              "      <td>0.231272</td>\n",
              "      <td>0.080432</td>\n",
              "      <td>0.052417</td>\n",
              "      <td>1.000000</td>\n",
              "      <td>0.008408</td>\n",
              "      <td>0.229480</td>\n",
              "    </tr>\n",
              "    <tr>\n",
              "      <th>Native_country</th>\n",
              "      <td>-0.001905</td>\n",
              "      <td>0.007644</td>\n",
              "      <td>-0.066709</td>\n",
              "      <td>0.091547</td>\n",
              "      <td>-0.025911</td>\n",
              "      <td>-0.003470</td>\n",
              "      <td>-0.010806</td>\n",
              "      <td>0.124511</td>\n",
              "      <td>0.000612</td>\n",
              "      <td>0.008529</td>\n",
              "      <td>0.009388</td>\n",
              "      <td>0.008408</td>\n",
              "      <td>1.000000</td>\n",
              "      <td>0.023273</td>\n",
              "    </tr>\n",
              "    <tr>\n",
              "      <th>Income</th>\n",
              "      <td>0.242000</td>\n",
              "      <td>0.018103</td>\n",
              "      <td>-0.008978</td>\n",
              "      <td>0.335317</td>\n",
              "      <td>-0.193504</td>\n",
              "      <td>0.051551</td>\n",
              "      <td>-0.251009</td>\n",
              "      <td>0.071666</td>\n",
              "      <td>0.216715</td>\n",
              "      <td>0.221200</td>\n",
              "      <td>0.150050</td>\n",
              "      <td>0.229480</td>\n",
              "      <td>0.023273</td>\n",
              "      <td>1.000000</td>\n",
              "    </tr>\n",
              "  </tbody>\n",
              "</table>\n",
              "</div>"
            ],
            "text/plain": [
              "                     Age  Workclass    Fnlwgt  Education_num  Marital_status  \\\n",
              "Age             1.000000   0.080548 -0.076511       0.043525       -0.276378   \n",
              "Workclass       0.080548   1.000000 -0.032395       0.037729       -0.034338   \n",
              "Fnlwgt         -0.076511  -0.032395  1.000000      -0.044954        0.032197   \n",
              "Education_num   0.043525   0.037729 -0.044954       1.000000       -0.063457   \n",
              "Marital_status -0.276378  -0.034338  0.032197      -0.063457        1.000000   \n",
              "Occupation     -0.005680   0.015719  0.000152       0.087778        0.022702   \n",
              "Relationship   -0.246456  -0.067401  0.009289      -0.091928        0.177975   \n",
              "Race            0.023373   0.044700 -0.023882       0.032791       -0.068641   \n",
              "Sex             0.081992   0.074917  0.025387       0.006131       -0.119837   \n",
              "Capital_gain    0.080154   0.035340  0.000427       0.124413       -0.042424   \n",
              "Capital_loss    0.060166   0.007226 -0.009757       0.079656       -0.035197   \n",
              "Hours_per_week  0.101599   0.050738 -0.022889       0.152528       -0.189004   \n",
              "Native_country -0.001905   0.007644 -0.066709       0.091547       -0.025911   \n",
              "Income          0.242000   0.018103 -0.008978       0.335317       -0.193504   \n",
              "\n",
              "                Occupation  Relationship      Race       Sex  Capital_gain  \\\n",
              "Age              -0.005680     -0.246456  0.023373  0.081992      0.080154   \n",
              "Workclass         0.015719     -0.067401  0.044700  0.074917      0.035340   \n",
              "Fnlwgt            0.000152      0.009289 -0.023882  0.025387      0.000427   \n",
              "Education_num     0.087778     -0.091928  0.032791  0.006131      0.124413   \n",
              "Marital_status    0.022702      0.177975 -0.068641 -0.119837     -0.042424   \n",
              "Occupation        1.000000     -0.053742  0.000736  0.062350      0.022170   \n",
              "Relationship     -0.053742      1.000000 -0.117140 -0.584876     -0.058258   \n",
              "Race              0.000736     -0.117140  1.000000  0.089178      0.014351   \n",
              "Sex               0.062350     -0.584876  0.089178  1.000000      0.048811   \n",
              "Capital_gain      0.022170     -0.058258  0.014351  0.048811      1.000000   \n",
              "Capital_loss      0.014597     -0.063569  0.023520  0.047017     -0.032228   \n",
              "Hours_per_week    0.018362     -0.257851  0.048533  0.231272      0.080432   \n",
              "Native_country   -0.003470     -0.010806  0.124511  0.000612      0.008529   \n",
              "Income            0.051551     -0.251009  0.071666  0.216715      0.221200   \n",
              "\n",
              "                Capital_loss  Hours_per_week  Native_country    Income  \n",
              "Age                 0.060166        0.101599       -0.001905  0.242000  \n",
              "Workclass           0.007226        0.050738        0.007644  0.018103  \n",
              "Fnlwgt             -0.009757       -0.022889       -0.066709 -0.008978  \n",
              "Education_num       0.079656        0.152528        0.091547  0.335317  \n",
              "Marital_status     -0.035197       -0.189004       -0.025911 -0.193504  \n",
              "Occupation          0.014597        0.018362       -0.003470  0.051551  \n",
              "Relationship       -0.063569       -0.257851       -0.010806 -0.251009  \n",
              "Race                0.023520        0.048533        0.124511  0.071666  \n",
              "Sex                 0.047017        0.231272        0.000612  0.216715  \n",
              "Capital_gain       -0.032228        0.080432        0.008529  0.221200  \n",
              "Capital_loss        1.000000        0.052417        0.009388  0.150050  \n",
              "Hours_per_week      0.052417        1.000000        0.008408  0.229480  \n",
              "Native_country      0.009388        0.008408        1.000000  0.023273  \n",
              "Income              0.150050        0.229480        0.023273  1.000000  "
            ]
          },
          "execution_count": 58,
          "metadata": {},
          "output_type": "execute_result"
        }
      ],
      "source": [
        "df_new.corr() #Correlation matrix"
      ]
    },
    {
      "cell_type": "code",
      "execution_count": null,
      "id": "9344add3",
      "metadata": {
        "id": "9344add3",
        "outputId": "8cceab77-7126-4ffa-86bc-6e59f28b9e35"
      },
      "outputs": [
        {
          "data": {
            "image/png": "[encoded data removed]",
            "text/plain": [
              "<Figure size 1440x1440 with 2 Axes>"
            ]
          },
          "metadata": {
            "needs_background": "light"
          },
          "output_type": "display_data"
        }
      ],
      "source": [
        "#Visualization for correlation matrix\n",
        "plt.figure(figsize=(20,20))\n",
        "sns.heatmap(df_new.corr(),annot=True)\n",
        "plt.show()"
      ]
    },
    {
      "cell_type": "code",
      "execution_count": null,
      "id": "506a23e5",
      "metadata": {
        "id": "506a23e5",
        "outputId": "ad5ce77c-9020-402c-e117-6e6e7f39db4a"
      },
      "outputs": [
        {
          "data": {
            "text/plain": [
              "Relationship     -0.251009\n",
              "Marital_status   -0.193504\n",
              "Fnlwgt           -0.008978\n",
              "Workclass         0.018103\n",
              "Native_country    0.023273\n",
              "Occupation        0.051551\n",
              "Race              0.071666\n",
              "Capital_loss      0.150050\n",
              "Sex               0.216715\n",
              "Capital_gain      0.221200\n",
              "Hours_per_week    0.229480\n",
              "Age               0.242000\n",
              "Education_num     0.335317\n",
              "Income            1.000000\n",
              "Name: Income, dtype: float64"
            ]
          },
          "execution_count": 60,
          "metadata": {},
          "output_type": "execute_result"
        }
      ],
      "source": [
        "#Correlation wrt target column\n",
        "df_new.corr()['Income'].sort_values()"
      ]
    },
    {
      "cell_type": "markdown",
      "id": "37634814",
      "metadata": {
        "id": "37634814"
      },
      "source": [
        "The correlation to the target variable is balanced with Education_num having the highest correlation"
      ]
    },
    {
      "cell_type": "markdown",
      "id": "63f58af7",
      "metadata": {
        "id": "63f58af7"
      },
      "source": [
        "# Outliers"
      ]
    },
    {
      "cell_type": "code",
      "execution_count": null,
      "id": "6e4a27e5",
      "metadata": {
        "id": "6e4a27e5"
      },
      "outputs": [],
      "source": [
        "z = np.abs(zscore(df_new))"
      ]
    },
    {
      "cell_type": "markdown",
      "id": "1215f059",
      "metadata": {
        "id": "1215f059"
      },
      "source": [
        "We take a zscore threshold of range(-3,3)"
      ]
    },
    {
      "cell_type": "code",
      "execution_count": null,
      "id": "c6a4153b",
      "metadata": {
        "id": "c6a4153b"
      },
      "outputs": [],
      "source": [
        "df_new = df_new[(z<3).all(axis=1)]"
      ]
    },
    {
      "cell_type": "code",
      "execution_count": null,
      "id": "26754a8c",
      "metadata": {
        "id": "26754a8c",
        "outputId": "bd94ea25-cc87-4a00-89bd-16879a1e8153"
      },
      "outputs": [
        {
          "name": "stdout",
          "output_type": "stream",
          "text": [
            "Percentage loss of data:\t 14.595006796856868 %\n"
          ]
        }
      ],
      "source": [
        "print(\"Percentage loss of data:\\t\", ((z.shape[0]-df_new.shape[0])*100)/z.shape[0], \"%\")"
      ]
    },
    {
      "cell_type": "markdown",
      "id": "baa9cd10",
      "metadata": {
        "id": "baa9cd10"
      },
      "source": [
        "# Skewness"
      ]
    },
    {
      "cell_type": "markdown",
      "id": "45630e12",
      "metadata": {
        "id": "45630e12"
      },
      "source": [
        "Now, we split the data into feature and target columns"
      ]
    },
    {
      "cell_type": "code",
      "execution_count": null,
      "id": "254b8760",
      "metadata": {
        "id": "254b8760"
      },
      "outputs": [],
      "source": [
        "x = df_new.drop(columns='Income')\n",
        "y = df_new['Income']"
      ]
    },
    {
      "cell_type": "markdown",
      "id": "d1a67a82",
      "metadata": {
        "id": "d1a67a82"
      },
      "source": [
        "We treat for skewness to the feature variables"
      ]
    },
    {
      "cell_type": "code",
      "execution_count": null,
      "id": "c3feae03",
      "metadata": {
        "id": "c3feae03",
        "outputId": "e8524995-4363-4fd3-fdfb-c9057541430e"
      },
      "outputs": [
        {
          "data": {
            "text/plain": [
              "Age                0.443409\n",
              "Workclass          1.183942\n",
              "Fnlwgt             0.627870\n",
              "Education_num     -0.135184\n",
              "Marital_status    -0.039587\n",
              "Occupation         0.122604\n",
              "Relationship       0.788039\n",
              "Race              -2.641835\n",
              "Sex               -0.719849\n",
              "Capital_gain       4.844071\n",
              "Capital_loss      28.905177\n",
              "Hours_per_week    -0.285632\n",
              "Native_country    -5.337123\n",
              "dtype: float64"
            ]
          },
          "execution_count": 65,
          "metadata": {},
          "output_type": "execute_result"
        }
      ],
      "source": [
        "x.skew()"
      ]
    },
    {
      "cell_type": "code",
      "execution_count": null,
      "id": "8e409486",
      "metadata": {
        "id": "8e409486"
      },
      "outputs": [],
      "source": [
        "k = []\n",
        "for i in x.columns:\n",
        "    k.append(np.abs(x[i].skew()))\n",
        "\n",
        "b=0\n",
        "for i in x.columns:\n",
        "    if k[b]>0.5:\n",
        "        x[i] = np.sqrt(x[i])\n",
        "    b+=1"
      ]
    },
    {
      "cell_type": "code",
      "execution_count": null,
      "id": "7942569f",
      "metadata": {
        "id": "7942569f",
        "outputId": "f4a69b46-a8ce-4dd9-8c91-746b89842424"
      },
      "outputs": [
        {
          "data": {
            "text/plain": [
              "Age                0.443409\n",
              "Workclass         -1.224362\n",
              "Fnlwgt            -0.110798\n",
              "Education_num     -0.135184\n",
              "Marital_status    -0.039587\n",
              "Occupation         0.122604\n",
              "Relationship       0.153242\n",
              "Race              -2.649532\n",
              "Sex               -0.719849\n",
              "Capital_gain       3.640231\n",
              "Capital_loss      26.003379\n",
              "Hours_per_week    -0.285632\n",
              "Native_country    -5.433095\n",
              "dtype: float64"
            ]
          },
          "execution_count": 67,
          "metadata": {},
          "output_type": "execute_result"
        }
      ],
      "source": [
        "x.skew()"
      ]
    },
    {
      "cell_type": "markdown",
      "id": "187e648b",
      "metadata": {
        "id": "187e648b"
      },
      "source": [
        "# Best Random State"
      ]
    },
    {
      "cell_type": "code",
      "execution_count": null,
      "id": "26bbab30",
      "metadata": {
        "id": "26bbab30",
        "outputId": "009f45e8-09c6-4f5d-f21a-088e93b65e3f"
      },
      "outputs": [
        {
          "name": "stdout",
          "output_type": "stream",
          "text": [
            "Max accuracy: \t 0.8371506211180124\n",
            "Random State: \t 59\n"
          ]
        }
      ],
      "source": [
        "maxRS = 0\n",
        "maxAcc = 0\n",
        "for i in range(0,100):\n",
        "    x_train, x_test, y_train, y_test = train_test_split(x, y, test_size=0.20, random_state=i)\n",
        "    lr = LogisticRegression()\n",
        "    lr.fit(x_train,y_train)\n",
        "    pred = lr.predict(x_test)\n",
        "    acc = accuracy_score(y_test, pred)\n",
        "    if acc>maxAcc:\n",
        "        maxAcc = acc\n",
        "        maxRS = i\n",
        "print(\"Max accuracy: \\t\", maxAcc)\n",
        "print(\"Random State: \\t\", maxRS)"
      ]
    },
    {
      "cell_type": "markdown",
      "id": "83de9bf5",
      "metadata": {
        "id": "83de9bf5"
      },
      "source": [
        "Now since we got the best random state for data modelling, we create the test train models"
      ]
    },
    {
      "cell_type": "code",
      "execution_count": null,
      "id": "a75df051",
      "metadata": {
        "id": "a75df051"
      },
      "outputs": [],
      "source": [
        "x_train, x_test, y_train, y_test = train_test_split(x, y, test_size=0.20, random_state=maxRS)"
      ]
    },
    {
      "cell_type": "markdown",
      "id": "711b08e1",
      "metadata": {
        "id": "711b08e1"
      },
      "source": [
        "# Upsampling the Training Dataset"
      ]
    },
    {
      "cell_type": "code",
      "execution_count": null,
      "id": "6f8a1e1a",
      "metadata": {
        "id": "6f8a1e1a"
      },
      "outputs": [],
      "source": [
        "U = pd.concat([x_train,y_train], axis=1) #Joining the train dataset"
      ]
    },
    {
      "cell_type": "code",
      "execution_count": null,
      "id": "6bdb536d",
      "metadata": {
        "id": "6bdb536d"
      },
      "outputs": [],
      "source": [
        "more = U[U['Income']==0]\n",
        "less = U[U['Income']==1]"
      ]
    },
    {
      "cell_type": "code",
      "execution_count": null,
      "id": "a1d48e90",
      "metadata": {
        "id": "a1d48e90"
      },
      "outputs": [],
      "source": [
        "upsample = resample(less,\n",
        "                    replace=True, #Sample with replacement\n",
        "                    n_samples=len(more), #matching with the majority class\n",
        "                    random_state=maxRS) #Reproductible results"
      ]
    },
    {
      "cell_type": "code",
      "execution_count": null,
      "id": "f0cb0551",
      "metadata": {
        "id": "f0cb0551"
      },
      "outputs": [],
      "source": [
        "new_U = pd.concat([more,upsample])"
      ]
    },
    {
      "cell_type": "code",
      "execution_count": null,
      "id": "f5bb47a5",
      "metadata": {
        "id": "f5bb47a5",
        "outputId": "9944af7c-2787-4830-9289-c906dd44310d"
      },
      "outputs": [
        {
          "data": {
            "text/plain": [
              "0    15820\n",
              "1    15820\n",
              "Name: Income, dtype: int64"
            ]
          },
          "execution_count": 74,
          "metadata": {},
          "output_type": "execute_result"
        }
      ],
      "source": [
        "new_U['Income'].value_counts()"
      ]
    },
    {
      "cell_type": "code",
      "execution_count": null,
      "id": "20b64eb8",
      "metadata": {
        "id": "20b64eb8"
      },
      "outputs": [],
      "source": [
        "x_train = new_U.drop(columns='Income')\n",
        "y_train = new_U['Income']"
      ]
    },
    {
      "cell_type": "markdown",
      "id": "29324e9c",
      "metadata": {
        "id": "29324e9c"
      },
      "source": [
        "# Model Predictions"
      ]
    },
    {
      "cell_type": "markdown",
      "id": "03163422",
      "metadata": {
        "id": "03163422"
      },
      "source": [
        "Logistic Regression"
      ]
    },
    {
      "cell_type": "code",
      "execution_count": null,
      "id": "38524501",
      "metadata": {
        "id": "38524501",
        "outputId": "f1b37b16-35c9-4d0b-a214-838e01198483"
      },
      "outputs": [
        {
          "name": "stdout",
          "output_type": "stream",
          "text": [
            "Accuracy: \t 77.44565217391305\n",
            "[[3045  917]\n",
            " [ 245  945]]\n",
            "              precision    recall  f1-score   support\n",
            "\n",
            "           0       0.93      0.77      0.84      3962\n",
            "           1       0.51      0.79      0.62      1190\n",
            "\n",
            "    accuracy                           0.77      5152\n",
            "   macro avg       0.72      0.78      0.73      5152\n",
            "weighted avg       0.83      0.77      0.79      5152\n",
            "\n"
          ]
        }
      ],
      "source": [
        "lr = LogisticRegression()\n",
        "lr.fit(x_train,y_train)\n",
        "pred = lr.predict(x_test)\n",
        "print(\"Accuracy: \\t\", accuracy_score(y_test,pred)*100)\n",
        "print(confusion_matrix(y_test,pred))\n",
        "print(classification_report(y_test,pred))"
      ]
    },
    {
      "cell_type": "markdown",
      "id": "6c0a3ab9",
      "metadata": {
        "id": "6c0a3ab9"
      },
      "source": [
        "K-Nearest Neighbors"
      ]
    },
    {
      "cell_type": "code",
      "execution_count": null,
      "id": "ca6ff5c6",
      "metadata": {
        "id": "ca6ff5c6",
        "outputId": "6478b901-5a51-4a12-9810-05727d2fbfeb"
      },
      "outputs": [
        {
          "name": "stdout",
          "output_type": "stream",
          "text": [
            "Accuracy: \t 70.3222049689441\n",
            "[[2792 1170]\n",
            " [ 359  831]]\n",
            "              precision    recall  f1-score   support\n",
            "\n",
            "           0       0.89      0.70      0.79      3962\n",
            "           1       0.42      0.70      0.52      1190\n",
            "\n",
            "    accuracy                           0.70      5152\n",
            "   macro avg       0.65      0.70      0.65      5152\n",
            "weighted avg       0.78      0.70      0.72      5152\n",
            "\n"
          ]
        }
      ],
      "source": [
        "knn = KNeighborsClassifier()\n",
        "knn.fit(x_train, y_train)\n",
        "pred = knn.predict(x_test)\n",
        "print(\"Accuracy: \\t\", accuracy_score(y_test,pred)*100)\n",
        "print(confusion_matrix(y_test,pred))\n",
        "print(classification_report(y_test,pred))"
      ]
    },
    {
      "cell_type": "markdown",
      "id": "55ff14f5",
      "metadata": {
        "id": "55ff14f5"
      },
      "source": [
        "Support Vector Classifier"
      ]
    },
    {
      "cell_type": "code",
      "execution_count": null,
      "id": "31873d07",
      "metadata": {
        "id": "31873d07",
        "outputId": "a733ad20-7ebe-4c43-ca0e-033d87266d3c"
      },
      "outputs": [
        {
          "name": "stdout",
          "output_type": "stream",
          "text": [
            "Accuracy: \t 73.91304347826086\n",
            "[[2931 1031]\n",
            " [ 313  877]]\n",
            "              precision    recall  f1-score   support\n",
            "\n",
            "           0       0.90      0.74      0.81      3962\n",
            "           1       0.46      0.74      0.57      1190\n",
            "\n",
            "    accuracy                           0.74      5152\n",
            "   macro avg       0.68      0.74      0.69      5152\n",
            "weighted avg       0.80      0.74      0.76      5152\n",
            "\n"
          ]
        }
      ],
      "source": [
        "svc = SVC()\n",
        "svc.fit(x_train, y_train)\n",
        "pred = svc.predict(x_test)\n",
        "print(\"Accuracy: \\t\", accuracy_score(y_test,pred)*100)\n",
        "print(confusion_matrix(y_test,pred))\n",
        "print(classification_report(y_test,pred))"
      ]
    },
    {
      "cell_type": "markdown",
      "id": "c524c594",
      "metadata": {
        "id": "c524c594"
      },
      "source": [
        "Decision Tree Classifier"
      ]
    },
    {
      "cell_type": "code",
      "execution_count": null,
      "id": "a61a56ea",
      "metadata": {
        "id": "a61a56ea",
        "outputId": "9546f13b-fcc4-4d68-dbbd-385523736afe"
      },
      "outputs": [
        {
          "name": "stdout",
          "output_type": "stream",
          "text": [
            "Accuracy: \t 80.39596273291926\n",
            "[[3459  503]\n",
            " [ 507  683]]\n",
            "              precision    recall  f1-score   support\n",
            "\n",
            "           0       0.87      0.87      0.87      3962\n",
            "           1       0.58      0.57      0.57      1190\n",
            "\n",
            "    accuracy                           0.80      5152\n",
            "   macro avg       0.72      0.72      0.72      5152\n",
            "weighted avg       0.80      0.80      0.80      5152\n",
            "\n"
          ]
        }
      ],
      "source": [
        "dt = DecisionTreeClassifier()\n",
        "dt.fit(x_train,y_train)\n",
        "pred = dt.predict(x_test)\n",
        "print(\"Accuracy: \\t\", accuracy_score(y_test,pred)*100)\n",
        "print(confusion_matrix(y_test,pred))\n",
        "print(classification_report(y_test,pred))"
      ]
    },
    {
      "cell_type": "markdown",
      "id": "4e7659c0",
      "metadata": {
        "id": "4e7659c0"
      },
      "source": [
        "Random Forest Classifier"
      ]
    },
    {
      "cell_type": "code",
      "execution_count": null,
      "id": "8de75090",
      "metadata": {
        "id": "8de75090",
        "outputId": "edc713ce-3be7-495c-d760-e5cc6a8c6bd6"
      },
      "outputs": [
        {
          "name": "stdout",
          "output_type": "stream",
          "text": [
            "Accuracy: \t 84.49145962732919\n",
            "[[3596  366]\n",
            " [ 433  757]]\n",
            "              precision    recall  f1-score   support\n",
            "\n",
            "           0       0.89      0.91      0.90      3962\n",
            "           1       0.67      0.64      0.65      1190\n",
            "\n",
            "    accuracy                           0.84      5152\n",
            "   macro avg       0.78      0.77      0.78      5152\n",
            "weighted avg       0.84      0.84      0.84      5152\n",
            "\n"
          ]
        }
      ],
      "source": [
        "rf = RandomForestClassifier()\n",
        "rf.fit(x_train,y_train)\n",
        "pred = rf.predict(x_test)\n",
        "print(\"Accuracy: \\t\", accuracy_score(y_test,pred)*100)\n",
        "print(confusion_matrix(y_test,pred))\n",
        "print(classification_report(y_test,pred))"
      ]
    },
    {
      "cell_type": "markdown",
      "id": "68a2ecc2",
      "metadata": {
        "id": "68a2ecc2"
      },
      "source": [
        "We see that the Random Forest Classifier gives the most efficiency"
      ]
    },
    {
      "cell_type": "markdown",
      "id": "b9fdec65",
      "metadata": {
        "id": "b9fdec65"
      },
      "source": [
        "# Cross Validation"
      ]
    },
    {
      "cell_type": "code",
      "execution_count": null,
      "id": "02de3bc6",
      "metadata": {
        "id": "02de3bc6",
        "outputId": "7a438526-e461-4a6a-9479-dafda8f92a06"
      },
      "outputs": [
        {
          "name": "stdout",
          "output_type": "stream",
          "text": [
            "Cross validation score of Logistic Regression is: \t 0.8286035259992935\n"
          ]
        }
      ],
      "source": [
        "scr1 = cross_val_score(lr, x, y, cv=5)\n",
        "print(\"Cross validation score of Logistic Regression is: \\t\", scr1.mean())"
      ]
    },
    {
      "cell_type": "code",
      "execution_count": null,
      "id": "feb88875",
      "metadata": {
        "id": "feb88875",
        "outputId": "ae184ed0-ef39-4818-a1ca-8e47e8fc6fec"
      },
      "outputs": [
        {
          "name": "stdout",
          "output_type": "stream",
          "text": [
            "Cross validation score of KNN is: \t 0.7954113791448563\n"
          ]
        }
      ],
      "source": [
        "scr2 = cross_val_score(knn, x, y, cv=5)\n",
        "print(\"Cross validation score of KNN is: \\t\", scr2.mean())"
      ]
    },
    {
      "cell_type": "code",
      "execution_count": null,
      "id": "fb5d71e9",
      "metadata": {
        "id": "fb5d71e9",
        "outputId": "7c441e84-53f5-4c57-8b3d-e6f2809b82f6"
      },
      "outputs": [
        {
          "name": "stdout",
          "output_type": "stream",
          "text": [
            "Cross validation score of SVC is: \t 0.795333822293446\n"
          ]
        }
      ],
      "source": [
        "scr3 = cross_val_score(svc, x, y, cv=5)\n",
        "print(\"Cross validation score of SVC is: \\t\", scr3.mean())"
      ]
    },
    {
      "cell_type": "code",
      "execution_count": null,
      "id": "ca8572cc",
      "metadata": {
        "id": "ca8572cc",
        "outputId": "09351d0d-72d8-4ba0-e8da-450ca58fcb83"
      },
      "outputs": [
        {
          "name": "stdout",
          "output_type": "stream",
          "text": [
            "Cross validation score of Decision Tree is: \t 0.7995264593138159\n"
          ]
        }
      ],
      "source": [
        "scr4 = cross_val_score(dt, x, y, cv=5)\n",
        "print(\"Cross validation score of Decision Tree is: \\t\", scr4.mean())"
      ]
    },
    {
      "cell_type": "code",
      "execution_count": null,
      "id": "ddfd6b21",
      "metadata": {
        "id": "ddfd6b21",
        "outputId": "9a4220c6-f4d9-43f5-f46e-387f52fd82ad"
      },
      "outputs": [
        {
          "name": "stdout",
          "output_type": "stream",
          "text": [
            "Cross validation score of Random Forest is: \t 0.8503436210902786\n"
          ]
        }
      ],
      "source": [
        "scr5 = cross_val_score(rf, x, y, cv=5)\n",
        "print(\"Cross validation score of Random Forest is: \\t\", scr5.mean())"
      ]
    },
    {
      "cell_type": "markdown",
      "id": "7c39cca4",
      "metadata": {
        "id": "7c39cca4"
      },
      "source": [
        "We can see that 'Random Forest' performs the best among others"
      ]
    },
    {
      "cell_type": "markdown",
      "id": "5c199840",
      "metadata": {
        "id": "5c199840"
      },
      "source": [
        "# Hyper Parameter Tuning"
      ]
    },
    {
      "cell_type": "code",
      "execution_count": null,
      "id": "4fcec79d",
      "metadata": {
        "id": "4fcec79d",
        "outputId": "f5b5d071-a0c5-49a0-e009-8c2cb2c59cdf"
      },
      "outputs": [
        {
          "data": {
            "text/plain": [
              "{'bootstrap': True,\n",
              " 'ccp_alpha': 0.0,\n",
              " 'class_weight': None,\n",
              " 'criterion': 'gini',\n",
              " 'max_depth': None,\n",
              " 'max_features': 'auto',\n",
              " 'max_leaf_nodes': None,\n",
              " 'max_samples': None,\n",
              " 'min_impurity_decrease': 0.0,\n",
              " 'min_impurity_split': None,\n",
              " 'min_samples_leaf': 1,\n",
              " 'min_samples_split': 2,\n",
              " 'min_weight_fraction_leaf': 0.0,\n",
              " 'n_estimators': 100,\n",
              " 'n_jobs': None,\n",
              " 'oob_score': False,\n",
              " 'random_state': None,\n",
              " 'verbose': 0,\n",
              " 'warm_start': False}"
            ]
          },
          "execution_count": 86,
          "metadata": {},
          "output_type": "execute_result"
        }
      ],
      "source": [
        "GridSearchCV.get_params(rf) #Getting the parameters for RandonForrestClassifier"
      ]
    },
    {
      "cell_type": "code",
      "execution_count": null,
      "id": "9dfdb04c",
      "metadata": {
        "id": "9dfdb04c"
      },
      "outputs": [],
      "source": [
        "#Adding parameters to tune the model to best efficiency\n",
        "parameters = {'bootstrap': [True,False],\n",
        "              'max_depth': [10, 20, 30, None],\n",
        "              'min_samples_leaf': [1, 2],\n",
        "              'min_samples_split': [2, 5],\n",
        "              'n_estimators': [200, 400]}"
      ]
    },
    {
      "cell_type": "code",
      "execution_count": null,
      "id": "a1082403",
      "metadata": {
        "id": "a1082403"
      },
      "outputs": [],
      "source": [
        "gcv = GridSearchCV(rf, parameters, cv=5, scoring='accuracy')"
      ]
    },
    {
      "cell_type": "code",
      "execution_count": null,
      "id": "f2933495",
      "metadata": {
        "id": "f2933495",
        "outputId": "25055a0e-d371-44c4-8b6d-fb49a1f8af3e"
      },
      "outputs": [
        {
          "data": {
            "text/plain": [
              "GridSearchCV(cv=5, estimator=RandomForestClassifier(),\n",
              "             param_grid={'bootstrap': [True, False],\n",
              "                         'max_depth': [10, 20, 30, None],\n",
              "                         'min_samples_leaf': [1, 2],\n",
              "                         'min_samples_split': [2, 5],\n",
              "                         'n_estimators': [200, 400]},\n",
              "             scoring='accuracy')"
            ]
          },
          "execution_count": 89,
          "metadata": {},
          "output_type": "execute_result"
        }
      ],
      "source": [
        "#Fitting the parameters\n",
        "gcv.fit(x_train,y_train)"
      ]
    },
    {
      "cell_type": "code",
      "execution_count": null,
      "id": "fae87f9d",
      "metadata": {
        "id": "fae87f9d",
        "outputId": "57660602-badd-4221-fcb3-31eddf282855"
      },
      "outputs": [
        {
          "data": {
            "text/plain": [
              "0.9423198482932996"
            ]
          },
          "execution_count": 90,
          "metadata": {},
          "output_type": "execute_result"
        }
      ],
      "source": [
        "#Finding the best score\n",
        "gcv.best_score_"
      ]
    },
    {
      "cell_type": "code",
      "execution_count": null,
      "id": "eab26e76",
      "metadata": {
        "id": "eab26e76",
        "outputId": "e796cddc-dc6f-4e28-ec43-0822672b4c49"
      },
      "outputs": [
        {
          "data": {
            "text/plain": [
              "{'bootstrap': False,\n",
              " 'max_depth': None,\n",
              " 'min_samples_leaf': 1,\n",
              " 'min_samples_split': 2,\n",
              " 'n_estimators': 200}"
            ]
          },
          "execution_count": 91,
          "metadata": {},
          "output_type": "execute_result"
        }
      ],
      "source": [
        "#Finding the best parameters\n",
        "gcv.best_params_"
      ]
    },
    {
      "cell_type": "code",
      "execution_count": null,
      "id": "c2f3fa77",
      "metadata": {
        "id": "c2f3fa77",
        "outputId": "ae7bfaea-dc54-43dc-f4f8-55faae2c0dda"
      },
      "outputs": [
        {
          "data": {
            "text/plain": [
              "0.8445263975155279"
            ]
          },
          "execution_count": 92,
          "metadata": {},
          "output_type": "execute_result"
        }
      ],
      "source": [
        "gcv_pred = gcv.best_estimator_.predict(x_test)\n",
        "accuracy_score(y_test,gcv_pred)"
      ]
    },
    {
      "cell_type": "markdown",
      "id": "3f17768e",
      "metadata": {
        "id": "3f17768e"
      },
      "source": [
        "We see the accuracy IS 84%"
      ]
    },
    {
      "cell_type": "markdown",
      "id": "34f91054",
      "metadata": {
        "id": "34f91054"
      },
      "source": [
        "# ROC AUC Plot"
      ]
    },
    {
      "cell_type": "code",
      "execution_count": null,
      "id": "9a85e8a2",
      "metadata": {
        "id": "9a85e8a2",
        "outputId": "b7b059f7-8526-4f21-b0f1-f0d799284f09"
      },
      "outputs": [
        {
          "data": {
            "image/png": "[encoded data removed]",
            "text/plain": [
              "<Figure size 432x288 with 1 Axes>"
            ]
          },
          "metadata": {
            "needs_background": "light"
          },
          "output_type": "display_data"
        }
      ],
      "source": [
        "plot_roc_curve(gcv.best_estimator_,x_test,y_test)\n",
        "plt.title(\"ROC AUC plot\")\n",
        "plt.show()"
      ]
    },
    {
      "cell_type": "markdown",
      "id": "f5e1e286",
      "metadata": {
        "id": "f5e1e286"
      },
      "source": [
        "The AUC score of 88% is very good"
      ]
    },
    {
      "cell_type": "markdown",
      "id": "60abc688",
      "metadata": {
        "id": "60abc688"
      },
      "source": [
        "# Saving the best model"
      ]
    },
    {
      "cell_type": "code",
      "execution_count": null,
      "id": "7907de96",
      "metadata": {
        "id": "7907de96",
        "outputId": "b62aff01-c054-4391-b89f-0486a6c969c0"
      },
      "outputs": [
        {
          "data": {
            "text/plain": [
              "['census_income.pkl']"
            ]
          },
          "execution_count": 94,
          "metadata": {},
          "output_type": "execute_result"
        }
      ],
      "source": [
        "joblib.dump(gcv.best_estimator_,\"census_income.pkl\")"
      ]
    }
  ],
  "metadata": {
    "kernelspec": {
      "display_name": "Python 3",
      "language": "python",
      "name": "python3"
    },
    "language_info": {
      "codemirror_mode": {
        "name": "ipython",
        "version": 3
      },
      "file_extension": ".py",
      "mimetype": "text/x-python",
      "name": "python",
      "nbconvert_exporter": "python",
      "pygments_lexer": "ipython3",
      "version": "3.8.8"
    },
    "colab": {
      "provenance": []
    }
  },
  "nbformat": 4,
  "nbformat_minor": 5
}