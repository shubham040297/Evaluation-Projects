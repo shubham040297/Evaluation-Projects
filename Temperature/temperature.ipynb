{
  "cells": [
    {
      "cell_type": "code",
      "execution_count": null,
      "id": "c9e250ee",
      "metadata": {
        "id": "c9e250ee"
      },
      "outputs": [],
      "source": [
        "import pandas as pd\n",
        "import numpy as np\n",
        "import seaborn as sns\n",
        "import matplotlib.pyplot as plt\n",
        "from sklearn.preprocessing import StandardScaler, power_transform\n",
        "from scipy.stats import zscore\n",
        "from sklearn.model_selection import train_test_split, cross_val_score, GridSearchCV\n",
        "from sklearn.linear_model import LinearRegression\n",
        "from xgboost import XGBRegressor\n",
        "from sklearn.metrics import r2_score, mean_absolute_error, mean_squared_error\n",
        "from sklearn.neighbors import KNeighborsRegressor\n",
        "from sklearn.svm import SVR\n",
        "from sklearn.tree import DecisionTreeRegressor\n",
        "from sklearn.ensemble import RandomForestRegressor\n",
        "import joblib\n",
        "\n",
        "import warnings\n",
        "warnings.filterwarnings('ignore')"
      ]
    },
    {
      "cell_type": "markdown",
      "id": "74d74887",
      "metadata": {
        "id": "74d74887"
      },
      "source": [
        "# Data Collection"
      ]
    },
    {
      "cell_type": "code",
      "execution_count": null,
      "id": "0e8e7b7e",
      "metadata": {
        "id": "0e8e7b7e"
      },
      "outputs": [],
      "source": [
        "df = pd.read_csv(r'C:\\Users\\Shubham\\Desktop\\Projects\\Evaluation\\(9)_Temperature\\temperature.csv')"
      ]
    },
    {
      "cell_type": "markdown",
      "id": "a9eee944",
      "metadata": {
        "id": "a9eee944"
      },
      "source": [
        "# Data Understanding"
      ]
    },
    {
      "cell_type": "code",
      "execution_count": null,
      "id": "0d6184cf",
      "metadata": {
        "id": "0d6184cf",
        "outputId": "47c9016c-fa8f-49ea-dce7-b15e8b13935e"
      },
      "outputs": [
        {
          "data": {
            "text/html": [
              "<div>\n",
              "<style scoped>\n",
              "    .dataframe tbody tr th:only-of-type {\n",
              "        vertical-align: middle;\n",
              "    }\n",
              "\n",
              "    .dataframe tbody tr th {\n",
              "        vertical-align: top;\n",
              "    }\n",
              "\n",
              "    .dataframe thead th {\n",
              "        text-align: right;\n",
              "    }\n",
              "</style>\n",
              "<table border=\"1\" class=\"dataframe\">\n",
              "  <thead>\n",
              "    <tr style=\"text-align: right;\">\n",
              "      <th></th>\n",
              "      <th>station</th>\n",
              "      <th>Date</th>\n",
              "      <th>Present_Tmax</th>\n",
              "      <th>Present_Tmin</th>\n",
              "      <th>LDAPS_RHmin</th>\n",
              "      <th>LDAPS_RHmax</th>\n",
              "      <th>LDAPS_Tmax_lapse</th>\n",
              "      <th>LDAPS_Tmin_lapse</th>\n",
              "      <th>LDAPS_WS</th>\n",
              "      <th>LDAPS_LH</th>\n",
              "      <th>LDAPS_CC1</th>\n",
              "      <th>LDAPS_CC2</th>\n",
              "      <th>LDAPS_CC3</th>\n",
              "      <th>LDAPS_CC4</th>\n",
              "      <th>LDAPS_PPT1</th>\n",
              "      <th>LDAPS_PPT2</th>\n",
              "      <th>LDAPS_PPT3</th>\n",
              "      <th>LDAPS_PPT4</th>\n",
              "      <th>lat</th>\n",
              "      <th>lon</th>\n",
              "      <th>DEM</th>\n",
              "      <th>Slope</th>\n",
              "      <th>Solar radiation</th>\n",
              "      <th>Next_Tmax</th>\n",
              "      <th>Next_Tmin</th>\n",
              "    </tr>\n",
              "  </thead>\n",
              "  <tbody>\n",
              "    <tr>\n",
              "      <th>0</th>\n",
              "      <td>1.0</td>\n",
              "      <td>30-06-2013</td>\n",
              "      <td>28.7</td>\n",
              "      <td>21.4</td>\n",
              "      <td>58.255688</td>\n",
              "      <td>91.116364</td>\n",
              "      <td>28.074101</td>\n",
              "      <td>23.006936</td>\n",
              "      <td>6.818887</td>\n",
              "      <td>69.451805</td>\n",
              "      <td>0.233947</td>\n",
              "      <td>0.203896</td>\n",
              "      <td>0.161697</td>\n",
              "      <td>0.130928</td>\n",
              "      <td>0.0</td>\n",
              "      <td>0.0</td>\n",
              "      <td>0.0</td>\n",
              "      <td>0.0</td>\n",
              "      <td>37.6046</td>\n",
              "      <td>126.991</td>\n",
              "      <td>212.3350</td>\n",
              "      <td>2.7850</td>\n",
              "      <td>5992.895996</td>\n",
              "      <td>29.1</td>\n",
              "      <td>21.2</td>\n",
              "    </tr>\n",
              "    <tr>\n",
              "      <th>1</th>\n",
              "      <td>2.0</td>\n",
              "      <td>30-06-2013</td>\n",
              "      <td>31.9</td>\n",
              "      <td>21.6</td>\n",
              "      <td>52.263397</td>\n",
              "      <td>90.604721</td>\n",
              "      <td>29.850689</td>\n",
              "      <td>24.035009</td>\n",
              "      <td>5.691890</td>\n",
              "      <td>51.937448</td>\n",
              "      <td>0.225508</td>\n",
              "      <td>0.251771</td>\n",
              "      <td>0.159444</td>\n",
              "      <td>0.127727</td>\n",
              "      <td>0.0</td>\n",
              "      <td>0.0</td>\n",
              "      <td>0.0</td>\n",
              "      <td>0.0</td>\n",
              "      <td>37.6046</td>\n",
              "      <td>127.032</td>\n",
              "      <td>44.7624</td>\n",
              "      <td>0.5141</td>\n",
              "      <td>5869.312500</td>\n",
              "      <td>30.5</td>\n",
              "      <td>22.5</td>\n",
              "    </tr>\n",
              "    <tr>\n",
              "      <th>2</th>\n",
              "      <td>3.0</td>\n",
              "      <td>30-06-2013</td>\n",
              "      <td>31.6</td>\n",
              "      <td>23.3</td>\n",
              "      <td>48.690479</td>\n",
              "      <td>83.973587</td>\n",
              "      <td>30.091292</td>\n",
              "      <td>24.565633</td>\n",
              "      <td>6.138224</td>\n",
              "      <td>20.573050</td>\n",
              "      <td>0.209344</td>\n",
              "      <td>0.257469</td>\n",
              "      <td>0.204091</td>\n",
              "      <td>0.142125</td>\n",
              "      <td>0.0</td>\n",
              "      <td>0.0</td>\n",
              "      <td>0.0</td>\n",
              "      <td>0.0</td>\n",
              "      <td>37.5776</td>\n",
              "      <td>127.058</td>\n",
              "      <td>33.3068</td>\n",
              "      <td>0.2661</td>\n",
              "      <td>5863.555664</td>\n",
              "      <td>31.1</td>\n",
              "      <td>23.9</td>\n",
              "    </tr>\n",
              "    <tr>\n",
              "      <th>3</th>\n",
              "      <td>4.0</td>\n",
              "      <td>30-06-2013</td>\n",
              "      <td>32.0</td>\n",
              "      <td>23.4</td>\n",
              "      <td>58.239788</td>\n",
              "      <td>96.483688</td>\n",
              "      <td>29.704629</td>\n",
              "      <td>23.326177</td>\n",
              "      <td>5.650050</td>\n",
              "      <td>65.727144</td>\n",
              "      <td>0.216372</td>\n",
              "      <td>0.226002</td>\n",
              "      <td>0.161157</td>\n",
              "      <td>0.134249</td>\n",
              "      <td>0.0</td>\n",
              "      <td>0.0</td>\n",
              "      <td>0.0</td>\n",
              "      <td>0.0</td>\n",
              "      <td>37.6450</td>\n",
              "      <td>127.022</td>\n",
              "      <td>45.7160</td>\n",
              "      <td>2.5348</td>\n",
              "      <td>5856.964844</td>\n",
              "      <td>31.7</td>\n",
              "      <td>24.3</td>\n",
              "    </tr>\n",
              "    <tr>\n",
              "      <th>4</th>\n",
              "      <td>5.0</td>\n",
              "      <td>30-06-2013</td>\n",
              "      <td>31.4</td>\n",
              "      <td>21.9</td>\n",
              "      <td>56.174095</td>\n",
              "      <td>90.155128</td>\n",
              "      <td>29.113934</td>\n",
              "      <td>23.486480</td>\n",
              "      <td>5.735004</td>\n",
              "      <td>107.965535</td>\n",
              "      <td>0.151407</td>\n",
              "      <td>0.249995</td>\n",
              "      <td>0.178892</td>\n",
              "      <td>0.170021</td>\n",
              "      <td>0.0</td>\n",
              "      <td>0.0</td>\n",
              "      <td>0.0</td>\n",
              "      <td>0.0</td>\n",
              "      <td>37.5507</td>\n",
              "      <td>127.135</td>\n",
              "      <td>35.0380</td>\n",
              "      <td>0.5055</td>\n",
              "      <td>5859.552246</td>\n",
              "      <td>31.2</td>\n",
              "      <td>22.5</td>\n",
              "    </tr>\n",
              "  </tbody>\n",
              "</table>\n",
              "</div>"
            ],
            "text/plain": [
              "   station        Date  Present_Tmax  Present_Tmin  LDAPS_RHmin  LDAPS_RHmax  \\\n",
              "0      1.0  30-06-2013          28.7          21.4    58.255688    91.116364   \n",
              "1      2.0  30-06-2013          31.9          21.6    52.263397    90.604721   \n",
              "2      3.0  30-06-2013          31.6          23.3    48.690479    83.973587   \n",
              "3      4.0  30-06-2013          32.0          23.4    58.239788    96.483688   \n",
              "4      5.0  30-06-2013          31.4          21.9    56.174095    90.155128   \n",
              "\n",
              "   LDAPS_Tmax_lapse  LDAPS_Tmin_lapse  LDAPS_WS    LDAPS_LH  LDAPS_CC1  \\\n",
              "0         28.074101         23.006936  6.818887   69.451805   0.233947   \n",
              "1         29.850689         24.035009  5.691890   51.937448   0.225508   \n",
              "2         30.091292         24.565633  6.138224   20.573050   0.209344   \n",
              "3         29.704629         23.326177  5.650050   65.727144   0.216372   \n",
              "4         29.113934         23.486480  5.735004  107.965535   0.151407   \n",
              "\n",
              "   LDAPS_CC2  LDAPS_CC3  LDAPS_CC4  LDAPS_PPT1  LDAPS_PPT2  LDAPS_PPT3  \\\n",
              "0   0.203896   0.161697   0.130928         0.0         0.0         0.0   \n",
              "1   0.251771   0.159444   0.127727         0.0         0.0         0.0   \n",
              "2   0.257469   0.204091   0.142125         0.0         0.0         0.0   \n",
              "3   0.226002   0.161157   0.134249         0.0         0.0         0.0   \n",
              "4   0.249995   0.178892   0.170021         0.0         0.0         0.0   \n",
              "\n",
              "   LDAPS_PPT4      lat      lon       DEM   Slope  Solar radiation  Next_Tmax  \\\n",
              "0         0.0  37.6046  126.991  212.3350  2.7850      5992.895996       29.1   \n",
              "1         0.0  37.6046  127.032   44.7624  0.5141      5869.312500       30.5   \n",
              "2         0.0  37.5776  127.058   33.3068  0.2661      5863.555664       31.1   \n",
              "3         0.0  37.6450  127.022   45.7160  2.5348      5856.964844       31.7   \n",
              "4         0.0  37.5507  127.135   35.0380  0.5055      5859.552246       31.2   \n",
              "\n",
              "   Next_Tmin  \n",
              "0       21.2  \n",
              "1       22.5  \n",
              "2       23.9  \n",
              "3       24.3  \n",
              "4       22.5  "
            ]
          },
          "execution_count": 3,
          "metadata": {},
          "output_type": "execute_result"
        }
      ],
      "source": [
        "pd.set_option(\"display.max_columns\", None)\n",
        "df.head() #Looking into the top 5 rows of the dataset"
      ]
    },
    {
      "cell_type": "markdown",
      "id": "a2c9e74c",
      "metadata": {
        "id": "a2c9e74c"
      },
      "source": [
        "Column Information:\n",
        "1. station - used weather station number: 1 to 25\n",
        "2. Date - Present day: yyyy-mm-dd ('2013-06-30' to '2017-08-30')\n",
        "3. Present_Tmax - Maximum air temperature between 0 and 21 h on the present day (Â°C): 20 to 37.6\n",
        "4. Present_Tmin - Minimum air temperature between 0 and 21 h on the present day (Â°C): 11.3 to 29.9\n",
        "5. LDAPS_RHmin - LDAPS model forecast of next-day minimum relative humidity (%): 19.8 to 98.5\n",
        "6. LDAPS_RHmax - LDAPS model forecast of next-day maximum relative humidity (%): 58.9 to 100\n",
        "7. LDAPS_Tmax_lapse - LDAPS model forecast of next-day maximum air temperature applied lapse rate (Â°C): 17.6 to 38.5\n",
        "8. LDAPS_Tmin_lapse - LDAPS model forecast of next-day minimum air temperature applied lapse rate (Â°C): 14.3 to 29.6\n",
        "9. LDAPS_WS - LDAPS model forecast of next-day average wind speed (m/s): 2.9 to 21.9\n",
        "10. LDAPS_LH - LDAPS model forecast of next-day average latent heat flux (W/m2): -13.6 to 213.4\n",
        "11. LDAPS_CC1 - LDAPS model forecast of next-day 1st 6-hour split average cloud cover (0-5 h) (%): 0 to 0.97\n",
        "12. LDAPS_CC2 - LDAPS model forecast of next-day 2nd 6-hour split average cloud cover (6-11 h) (%): 0 to 0.97\n",
        "13. LDAPS_CC3 - LDAPS model forecast of next-day 3rd 6-hour split average cloud cover (12-17 h) (%): 0 to 0.98\n",
        "14. LDAPS_CC4 - LDAPS model forecast of next-day 4th 6-hour split average cloud cover (18-23 h) (%): 0 to 0.97\n",
        "15. LDAPS_PPT1 - LDAPS model forecast of next-day 1st 6-hour split average precipitation (0-5 h) (%): 0 to 23.7\n",
        "16. LDAPS_PPT2 - LDAPS model forecast of next-day 2nd 6-hour split average precipitation (6-11 h) (%): 0 to 21.6\n",
        "17. LDAPS_PPT3 - LDAPS model forecast of next-day 3rd 6-hour split average precipitation (12-17 h) (%): 0 to 15.8\n",
        "18. LDAPS_PPT4 - LDAPS model forecast of next-day 4th 6-hour split average precipitation (18-23 h) (%): 0 to 16.7\n",
        "19. lat - Latitude (Â°): 37.456 to 37.645\n",
        "20. lon - Longitude (Â°): 126.826 to 127.135\n",
        "21. DEM - Elevation (m): 12.4 to 212.3\n",
        "22. Slope - Slope (Â°): 0.1 to 5.2\n",
        "23. Solar radiation - Daily incoming solar radiation (wh/m2): 4329.5 to 5992.9\n",
        "24. Next_Tmax - The next-day maximum air temperature (Â°C): 17.4 to 38.9\n",
        "25. Next_Tmin - The next-day minimum air temperature (Â°C): 11.3 to 29.8T"
      ]
    },
    {
      "cell_type": "code",
      "execution_count": null,
      "id": "a2c32f4b",
      "metadata": {
        "id": "a2c32f4b",
        "outputId": "6169ef7b-a81d-4fff-bc32-a5c167a3f57a"
      },
      "outputs": [
        {
          "data": {
            "text/plain": [
              "(7752, 25)"
            ]
          },
          "execution_count": 4,
          "metadata": {},
          "output_type": "execute_result"
        }
      ],
      "source": [
        "df.shape #Cecking the shape of the dataset"
      ]
    },
    {
      "cell_type": "code",
      "execution_count": null,
      "id": "c651912f",
      "metadata": {
        "id": "c651912f",
        "outputId": "9401ac94-fc6e-4da7-b87f-b4638ebce057"
      },
      "outputs": [
        {
          "name": "stdout",
          "output_type": "stream",
          "text": [
            "<class 'pandas.core.frame.DataFrame'>\n",
            "RangeIndex: 7752 entries, 0 to 7751\n",
            "Data columns (total 25 columns):\n",
            " #   Column            Non-Null Count  Dtype  \n",
            "---  ------            --------------  -----  \n",
            " 0   station           7750 non-null   float64\n",
            " 1   Date              7750 non-null   object \n",
            " 2   Present_Tmax      7682 non-null   float64\n",
            " 3   Present_Tmin      7682 non-null   float64\n",
            " 4   LDAPS_RHmin       7677 non-null   float64\n",
            " 5   LDAPS_RHmax       7677 non-null   float64\n",
            " 6   LDAPS_Tmax_lapse  7677 non-null   float64\n",
            " 7   LDAPS_Tmin_lapse  7677 non-null   float64\n",
            " 8   LDAPS_WS          7677 non-null   float64\n",
            " 9   LDAPS_LH          7677 non-null   float64\n",
            " 10  LDAPS_CC1         7677 non-null   float64\n",
            " 11  LDAPS_CC2         7677 non-null   float64\n",
            " 12  LDAPS_CC3         7677 non-null   float64\n",
            " 13  LDAPS_CC4         7677 non-null   float64\n",
            " 14  LDAPS_PPT1        7677 non-null   float64\n",
            " 15  LDAPS_PPT2        7677 non-null   float64\n",
            " 16  LDAPS_PPT3        7677 non-null   float64\n",
            " 17  LDAPS_PPT4        7677 non-null   float64\n",
            " 18  lat               7752 non-null   float64\n",
            " 19  lon               7752 non-null   float64\n",
            " 20  DEM               7752 non-null   float64\n",
            " 21  Slope             7752 non-null   float64\n",
            " 22  Solar radiation   7752 non-null   float64\n",
            " 23  Next_Tmax         7725 non-null   float64\n",
            " 24  Next_Tmin         7725 non-null   float64\n",
            "dtypes: float64(24), object(1)\n",
            "memory usage: 1.5+ MB\n"
          ]
        }
      ],
      "source": [
        "df.info() #Basic info of the dataset"
      ]
    },
    {
      "cell_type": "markdown",
      "id": "83c44093",
      "metadata": {
        "id": "83c44093"
      },
      "source": [
        "We see that most data are float type with only one object type, that too being date. We shall treat it in the EDA"
      ]
    },
    {
      "cell_type": "code",
      "execution_count": null,
      "id": "805d9951",
      "metadata": {
        "id": "805d9951",
        "outputId": "74f089bd-bcbd-4965-8457-6d0bf7d9cdf8"
      },
      "outputs": [
        {
          "data": {
            "text/html": [
              "<div>\n",
              "<style scoped>\n",
              "    .dataframe tbody tr th:only-of-type {\n",
              "        vertical-align: middle;\n",
              "    }\n",
              "\n",
              "    .dataframe tbody tr th {\n",
              "        vertical-align: top;\n",
              "    }\n",
              "\n",
              "    .dataframe thead th {\n",
              "        text-align: right;\n",
              "    }\n",
              "</style>\n",
              "<table border=\"1\" class=\"dataframe\">\n",
              "  <thead>\n",
              "    <tr style=\"text-align: right;\">\n",
              "      <th></th>\n",
              "      <th>station</th>\n",
              "      <th>Present_Tmax</th>\n",
              "      <th>Present_Tmin</th>\n",
              "      <th>LDAPS_RHmin</th>\n",
              "      <th>LDAPS_RHmax</th>\n",
              "      <th>LDAPS_Tmax_lapse</th>\n",
              "      <th>LDAPS_Tmin_lapse</th>\n",
              "      <th>LDAPS_WS</th>\n",
              "      <th>LDAPS_LH</th>\n",
              "      <th>LDAPS_CC1</th>\n",
              "      <th>LDAPS_CC2</th>\n",
              "      <th>LDAPS_CC3</th>\n",
              "      <th>LDAPS_CC4</th>\n",
              "      <th>LDAPS_PPT1</th>\n",
              "      <th>LDAPS_PPT2</th>\n",
              "      <th>LDAPS_PPT3</th>\n",
              "      <th>LDAPS_PPT4</th>\n",
              "      <th>lat</th>\n",
              "      <th>lon</th>\n",
              "      <th>DEM</th>\n",
              "      <th>Slope</th>\n",
              "      <th>Solar radiation</th>\n",
              "      <th>Next_Tmax</th>\n",
              "      <th>Next_Tmin</th>\n",
              "    </tr>\n",
              "  </thead>\n",
              "  <tbody>\n",
              "    <tr>\n",
              "      <th>count</th>\n",
              "      <td>7750.000000</td>\n",
              "      <td>7682.000000</td>\n",
              "      <td>7682.000000</td>\n",
              "      <td>7677.000000</td>\n",
              "      <td>7677.000000</td>\n",
              "      <td>7677.000000</td>\n",
              "      <td>7677.000000</td>\n",
              "      <td>7677.000000</td>\n",
              "      <td>7677.000000</td>\n",
              "      <td>7677.000000</td>\n",
              "      <td>7677.000000</td>\n",
              "      <td>7677.000000</td>\n",
              "      <td>7677.000000</td>\n",
              "      <td>7677.000000</td>\n",
              "      <td>7677.000000</td>\n",
              "      <td>7677.000000</td>\n",
              "      <td>7677.000000</td>\n",
              "      <td>7752.000000</td>\n",
              "      <td>7752.000000</td>\n",
              "      <td>7752.000000</td>\n",
              "      <td>7752.000000</td>\n",
              "      <td>7752.000000</td>\n",
              "      <td>7725.000000</td>\n",
              "      <td>7725.000000</td>\n",
              "    </tr>\n",
              "    <tr>\n",
              "      <th>mean</th>\n",
              "      <td>13.000000</td>\n",
              "      <td>29.768211</td>\n",
              "      <td>23.225059</td>\n",
              "      <td>56.759372</td>\n",
              "      <td>88.374804</td>\n",
              "      <td>29.613447</td>\n",
              "      <td>23.512589</td>\n",
              "      <td>7.097875</td>\n",
              "      <td>62.505019</td>\n",
              "      <td>0.368774</td>\n",
              "      <td>0.356080</td>\n",
              "      <td>0.318404</td>\n",
              "      <td>0.299191</td>\n",
              "      <td>0.591995</td>\n",
              "      <td>0.485003</td>\n",
              "      <td>0.278200</td>\n",
              "      <td>0.269407</td>\n",
              "      <td>37.544722</td>\n",
              "      <td>126.991397</td>\n",
              "      <td>61.867972</td>\n",
              "      <td>1.257048</td>\n",
              "      <td>5341.502803</td>\n",
              "      <td>30.274887</td>\n",
              "      <td>22.932220</td>\n",
              "    </tr>\n",
              "    <tr>\n",
              "      <th>std</th>\n",
              "      <td>7.211568</td>\n",
              "      <td>2.969999</td>\n",
              "      <td>2.413961</td>\n",
              "      <td>14.668111</td>\n",
              "      <td>7.192004</td>\n",
              "      <td>2.947191</td>\n",
              "      <td>2.345347</td>\n",
              "      <td>2.183836</td>\n",
              "      <td>33.730589</td>\n",
              "      <td>0.262458</td>\n",
              "      <td>0.258061</td>\n",
              "      <td>0.250362</td>\n",
              "      <td>0.254348</td>\n",
              "      <td>1.945768</td>\n",
              "      <td>1.762807</td>\n",
              "      <td>1.161809</td>\n",
              "      <td>1.206214</td>\n",
              "      <td>0.050352</td>\n",
              "      <td>0.079435</td>\n",
              "      <td>54.279780</td>\n",
              "      <td>1.370444</td>\n",
              "      <td>429.158867</td>\n",
              "      <td>3.128010</td>\n",
              "      <td>2.487613</td>\n",
              "    </tr>\n",
              "    <tr>\n",
              "      <th>min</th>\n",
              "      <td>1.000000</td>\n",
              "      <td>20.000000</td>\n",
              "      <td>11.300000</td>\n",
              "      <td>19.794666</td>\n",
              "      <td>58.936283</td>\n",
              "      <td>17.624954</td>\n",
              "      <td>14.272646</td>\n",
              "      <td>2.882580</td>\n",
              "      <td>-13.603212</td>\n",
              "      <td>0.000000</td>\n",
              "      <td>0.000000</td>\n",
              "      <td>0.000000</td>\n",
              "      <td>0.000000</td>\n",
              "      <td>0.000000</td>\n",
              "      <td>0.000000</td>\n",
              "      <td>0.000000</td>\n",
              "      <td>0.000000</td>\n",
              "      <td>37.456200</td>\n",
              "      <td>126.826000</td>\n",
              "      <td>12.370000</td>\n",
              "      <td>0.098475</td>\n",
              "      <td>4329.520508</td>\n",
              "      <td>17.400000</td>\n",
              "      <td>11.300000</td>\n",
              "    </tr>\n",
              "    <tr>\n",
              "      <th>25%</th>\n",
              "      <td>7.000000</td>\n",
              "      <td>27.800000</td>\n",
              "      <td>21.700000</td>\n",
              "      <td>45.963543</td>\n",
              "      <td>84.222862</td>\n",
              "      <td>27.673499</td>\n",
              "      <td>22.089739</td>\n",
              "      <td>5.678705</td>\n",
              "      <td>37.266753</td>\n",
              "      <td>0.146654</td>\n",
              "      <td>0.140615</td>\n",
              "      <td>0.101388</td>\n",
              "      <td>0.081532</td>\n",
              "      <td>0.000000</td>\n",
              "      <td>0.000000</td>\n",
              "      <td>0.000000</td>\n",
              "      <td>0.000000</td>\n",
              "      <td>37.510200</td>\n",
              "      <td>126.937000</td>\n",
              "      <td>28.700000</td>\n",
              "      <td>0.271300</td>\n",
              "      <td>4999.018555</td>\n",
              "      <td>28.200000</td>\n",
              "      <td>21.300000</td>\n",
              "    </tr>\n",
              "    <tr>\n",
              "      <th>50%</th>\n",
              "      <td>13.000000</td>\n",
              "      <td>29.900000</td>\n",
              "      <td>23.400000</td>\n",
              "      <td>55.039024</td>\n",
              "      <td>89.793480</td>\n",
              "      <td>29.703426</td>\n",
              "      <td>23.760199</td>\n",
              "      <td>6.547470</td>\n",
              "      <td>56.865482</td>\n",
              "      <td>0.315697</td>\n",
              "      <td>0.312421</td>\n",
              "      <td>0.262555</td>\n",
              "      <td>0.227664</td>\n",
              "      <td>0.000000</td>\n",
              "      <td>0.000000</td>\n",
              "      <td>0.000000</td>\n",
              "      <td>0.000000</td>\n",
              "      <td>37.550700</td>\n",
              "      <td>126.995000</td>\n",
              "      <td>45.716000</td>\n",
              "      <td>0.618000</td>\n",
              "      <td>5436.345215</td>\n",
              "      <td>30.500000</td>\n",
              "      <td>23.100000</td>\n",
              "    </tr>\n",
              "    <tr>\n",
              "      <th>75%</th>\n",
              "      <td>19.000000</td>\n",
              "      <td>32.000000</td>\n",
              "      <td>24.900000</td>\n",
              "      <td>67.190056</td>\n",
              "      <td>93.743629</td>\n",
              "      <td>31.710450</td>\n",
              "      <td>25.152909</td>\n",
              "      <td>8.032276</td>\n",
              "      <td>84.223616</td>\n",
              "      <td>0.575489</td>\n",
              "      <td>0.558694</td>\n",
              "      <td>0.496703</td>\n",
              "      <td>0.499489</td>\n",
              "      <td>0.052525</td>\n",
              "      <td>0.018364</td>\n",
              "      <td>0.007896</td>\n",
              "      <td>0.000041</td>\n",
              "      <td>37.577600</td>\n",
              "      <td>127.042000</td>\n",
              "      <td>59.832400</td>\n",
              "      <td>1.767800</td>\n",
              "      <td>5728.316406</td>\n",
              "      <td>32.600000</td>\n",
              "      <td>24.600000</td>\n",
              "    </tr>\n",
              "    <tr>\n",
              "      <th>max</th>\n",
              "      <td>25.000000</td>\n",
              "      <td>37.600000</td>\n",
              "      <td>29.900000</td>\n",
              "      <td>98.524734</td>\n",
              "      <td>100.000153</td>\n",
              "      <td>38.542255</td>\n",
              "      <td>29.619342</td>\n",
              "      <td>21.857621</td>\n",
              "      <td>213.414006</td>\n",
              "      <td>0.967277</td>\n",
              "      <td>0.968353</td>\n",
              "      <td>0.983789</td>\n",
              "      <td>0.974710</td>\n",
              "      <td>23.701544</td>\n",
              "      <td>21.621661</td>\n",
              "      <td>15.841235</td>\n",
              "      <td>16.655469</td>\n",
              "      <td>37.645000</td>\n",
              "      <td>127.135000</td>\n",
              "      <td>212.335000</td>\n",
              "      <td>5.178230</td>\n",
              "      <td>5992.895996</td>\n",
              "      <td>38.900000</td>\n",
              "      <td>29.800000</td>\n",
              "    </tr>\n",
              "  </tbody>\n",
              "</table>\n",
              "</div>"
            ],
            "text/plain": [
              "           station  Present_Tmax  Present_Tmin  LDAPS_RHmin  LDAPS_RHmax  \\\n",
              "count  7750.000000   7682.000000   7682.000000  7677.000000  7677.000000   \n",
              "mean     13.000000     29.768211     23.225059    56.759372    88.374804   \n",
              "std       7.211568      2.969999      2.413961    14.668111     7.192004   \n",
              "min       1.000000     20.000000     11.300000    19.794666    58.936283   \n",
              "25%       7.000000     27.800000     21.700000    45.963543    84.222862   \n",
              "50%      13.000000     29.900000     23.400000    55.039024    89.793480   \n",
              "75%      19.000000     32.000000     24.900000    67.190056    93.743629   \n",
              "max      25.000000     37.600000     29.900000    98.524734   100.000153   \n",
              "\n",
              "       LDAPS_Tmax_lapse  LDAPS_Tmin_lapse     LDAPS_WS     LDAPS_LH  \\\n",
              "count       7677.000000       7677.000000  7677.000000  7677.000000   \n",
              "mean          29.613447         23.512589     7.097875    62.505019   \n",
              "std            2.947191          2.345347     2.183836    33.730589   \n",
              "min           17.624954         14.272646     2.882580   -13.603212   \n",
              "25%           27.673499         22.089739     5.678705    37.266753   \n",
              "50%           29.703426         23.760199     6.547470    56.865482   \n",
              "75%           31.710450         25.152909     8.032276    84.223616   \n",
              "max           38.542255         29.619342    21.857621   213.414006   \n",
              "\n",
              "         LDAPS_CC1    LDAPS_CC2    LDAPS_CC3    LDAPS_CC4   LDAPS_PPT1  \\\n",
              "count  7677.000000  7677.000000  7677.000000  7677.000000  7677.000000   \n",
              "mean      0.368774     0.356080     0.318404     0.299191     0.591995   \n",
              "std       0.262458     0.258061     0.250362     0.254348     1.945768   \n",
              "min       0.000000     0.000000     0.000000     0.000000     0.000000   \n",
              "25%       0.146654     0.140615     0.101388     0.081532     0.000000   \n",
              "50%       0.315697     0.312421     0.262555     0.227664     0.000000   \n",
              "75%       0.575489     0.558694     0.496703     0.499489     0.052525   \n",
              "max       0.967277     0.968353     0.983789     0.974710    23.701544   \n",
              "\n",
              "        LDAPS_PPT2   LDAPS_PPT3   LDAPS_PPT4          lat          lon  \\\n",
              "count  7677.000000  7677.000000  7677.000000  7752.000000  7752.000000   \n",
              "mean      0.485003     0.278200     0.269407    37.544722   126.991397   \n",
              "std       1.762807     1.161809     1.206214     0.050352     0.079435   \n",
              "min       0.000000     0.000000     0.000000    37.456200   126.826000   \n",
              "25%       0.000000     0.000000     0.000000    37.510200   126.937000   \n",
              "50%       0.000000     0.000000     0.000000    37.550700   126.995000   \n",
              "75%       0.018364     0.007896     0.000041    37.577600   127.042000   \n",
              "max      21.621661    15.841235    16.655469    37.645000   127.135000   \n",
              "\n",
              "               DEM        Slope  Solar radiation    Next_Tmax    Next_Tmin  \n",
              "count  7752.000000  7752.000000      7752.000000  7725.000000  7725.000000  \n",
              "mean     61.867972     1.257048      5341.502803    30.274887    22.932220  \n",
              "std      54.279780     1.370444       429.158867     3.128010     2.487613  \n",
              "min      12.370000     0.098475      4329.520508    17.400000    11.300000  \n",
              "25%      28.700000     0.271300      4999.018555    28.200000    21.300000  \n",
              "50%      45.716000     0.618000      5436.345215    30.500000    23.100000  \n",
              "75%      59.832400     1.767800      5728.316406    32.600000    24.600000  \n",
              "max     212.335000     5.178230      5992.895996    38.900000    29.800000  "
            ]
          },
          "execution_count": 6,
          "metadata": {},
          "output_type": "execute_result"
        }
      ],
      "source": [
        "df.describe() #Statistical information of the dataset"
      ]
    },
    {
      "cell_type": "markdown",
      "id": "ac8469e0",
      "metadata": {
        "id": "ac8469e0"
      },
      "source": [
        "Except for the null values, the data seems proper"
      ]
    },
    {
      "cell_type": "code",
      "execution_count": null,
      "id": "ea999a2b",
      "metadata": {
        "id": "ea999a2b",
        "outputId": "9a2e0d0d-5ebf-4bde-9855-cc3f2d8a1c83"
      },
      "outputs": [
        {
          "data": {
            "text/plain": [
              "Index(['station', 'Date', 'Present_Tmax', 'Present_Tmin', 'LDAPS_RHmin',\n",
              "       'LDAPS_RHmax', 'LDAPS_Tmax_lapse', 'LDAPS_Tmin_lapse', 'LDAPS_WS',\n",
              "       'LDAPS_LH', 'LDAPS_CC1', 'LDAPS_CC2', 'LDAPS_CC3', 'LDAPS_CC4',\n",
              "       'LDAPS_PPT1', 'LDAPS_PPT2', 'LDAPS_PPT3', 'LDAPS_PPT4', 'lat', 'lon',\n",
              "       'DEM', 'Slope', 'Solar radiation', 'Next_Tmax', 'Next_Tmin'],\n",
              "      dtype='object')"
            ]
          },
          "execution_count": 7,
          "metadata": {},
          "output_type": "execute_result"
        }
      ],
      "source": [
        "df.columns #Calling all the column names of the dataset"
      ]
    },
    {
      "cell_type": "markdown",
      "id": "63281319",
      "metadata": {
        "id": "63281319"
      },
      "source": [
        "# Treating Null Values"
      ]
    },
    {
      "cell_type": "code",
      "execution_count": null,
      "id": "7a08eed8",
      "metadata": {
        "id": "7a08eed8",
        "outputId": "296b46c3-3801-4252-b6a2-ad5feabc289c"
      },
      "outputs": [
        {
          "data": {
            "text/plain": [
              "station              2\n",
              "Date                 2\n",
              "Present_Tmax        70\n",
              "Present_Tmin        70\n",
              "LDAPS_RHmin         75\n",
              "LDAPS_RHmax         75\n",
              "LDAPS_Tmax_lapse    75\n",
              "LDAPS_Tmin_lapse    75\n",
              "LDAPS_WS            75\n",
              "LDAPS_LH            75\n",
              "LDAPS_CC1           75\n",
              "LDAPS_CC2           75\n",
              "LDAPS_CC3           75\n",
              "LDAPS_CC4           75\n",
              "LDAPS_PPT1          75\n",
              "LDAPS_PPT2          75\n",
              "LDAPS_PPT3          75\n",
              "LDAPS_PPT4          75\n",
              "lat                  0\n",
              "lon                  0\n",
              "DEM                  0\n",
              "Slope                0\n",
              "Solar radiation      0\n",
              "Next_Tmax           27\n",
              "Next_Tmin           27\n",
              "dtype: int64"
            ]
          },
          "execution_count": 8,
          "metadata": {},
          "output_type": "execute_result"
        }
      ],
      "source": [
        "df.isnull().sum() #Checking for null values"
      ]
    },
    {
      "cell_type": "markdown",
      "id": "bd2c3273",
      "metadata": {
        "id": "bd2c3273"
      },
      "source": [
        "Since we have more than 7000 rows of data, let us just drop the rows with null values and check the percentage loss of data"
      ]
    },
    {
      "cell_type": "code",
      "execution_count": null,
      "id": "aa1454c8",
      "metadata": {
        "id": "aa1454c8"
      },
      "outputs": [],
      "source": [
        "df_new = df.dropna()"
      ]
    },
    {
      "cell_type": "code",
      "execution_count": null,
      "id": "17916f89",
      "metadata": {
        "id": "17916f89",
        "outputId": "6db5affb-44e9-459d-f819-5f1ca18ed196"
      },
      "outputs": [
        {
          "name": "stdout",
          "output_type": "stream",
          "text": [
            "Percentage loss of data:\t 2.1155830753353975 %\n"
          ]
        }
      ],
      "source": [
        "print('Percentage loss of data:\\t', (((df.shape[0]-df_new.shape[0])/df.shape[0])*100), '%')"
      ]
    },
    {
      "cell_type": "markdown",
      "id": "574a0619",
      "metadata": {
        "id": "574a0619"
      },
      "source": [
        "There has been only 2% loss of data while treating null values. Let us use visualization to check for any null values"
      ]
    },
    {
      "cell_type": "code",
      "execution_count": null,
      "id": "08c2b92d",
      "metadata": {
        "id": "08c2b92d",
        "outputId": "baa51bf7-409c-4be5-c3cd-53a7bb6334e4"
      },
      "outputs": [
        {
          "data": {
            "text/plain": [
              "<AxesSubplot:>"
            ]
          },
          "execution_count": 11,
          "metadata": {},
          "output_type": "execute_result"
        },
        {
          "data": {
            "image/png": "[encoded data removed]",
            "text/plain": [
              "<Figure size 432x288 with 2 Axes>"
            ]
          },
          "metadata": {
            "needs_background": "light"
          },
          "output_type": "display_data"
        }
      ],
      "source": [
        "df = df_new #Overwriting the new dataframe over the old one\n",
        "sns.heatmap(df.isnull()) #Visualization of null values"
      ]
    },
    {
      "cell_type": "markdown",
      "id": "2fe8f44f",
      "metadata": {
        "id": "2fe8f44f"
      },
      "source": [
        "We see that there are no null values"
      ]
    },
    {
      "cell_type": "markdown",
      "id": "4dfd6869",
      "metadata": {
        "id": "4dfd6869"
      },
      "source": [
        "# Exploratory Data Analysis"
      ]
    },
    {
      "cell_type": "markdown",
      "id": "fe5a410a",
      "metadata": {
        "id": "fe5a410a"
      },
      "source": [
        "Let us now look into all the columns one at a time, beginning with the target column 'Next_Tmax' and 'Next_Tmin'"
      ]
    },
    {
      "cell_type": "code",
      "execution_count": null,
      "id": "151d2d41",
      "metadata": {
        "id": "151d2d41",
        "outputId": "fc1e2f2c-dce7-4e38-f92c-98d2b9fd59b8"
      },
      "outputs": [
        {
          "data": {
            "text/plain": [
              "<AxesSubplot:xlabel='Next_Tmax', ylabel='Density'>"
            ]
          },
          "execution_count": 12,
          "metadata": {},
          "output_type": "execute_result"
        },
        {
          "data": {
            "image/png": "[encoded data removed]",
            "text/plain": [
              "<Figure size 432x288 with 1 Axes>"
            ]
          },
          "metadata": {
            "needs_background": "light"
          },
          "output_type": "display_data"
        }
      ],
      "source": [
        "#Density plot\n",
        "sns.distplot(df['Next_Tmax'])"
      ]
    },
    {
      "cell_type": "code",
      "execution_count": null,
      "id": "782ae3de",
      "metadata": {
        "id": "782ae3de",
        "outputId": "41f80d53-5bdc-41c8-f190-405162bd5f02"
      },
      "outputs": [
        {
          "data": {
            "text/plain": [
              "<AxesSubplot:xlabel='Next_Tmax'>"
            ]
          },
          "execution_count": 13,
          "metadata": {},
          "output_type": "execute_result"
        },
        {
          "data": {
            "image/png": "[encoded data removed]",
            "text/plain": [
              "<Figure size 432x288 with 1 Axes>"
            ]
          },
          "metadata": {
            "needs_background": "light"
          },
          "output_type": "display_data"
        }
      ],
      "source": [
        "#Box plot\n",
        "sns.boxplot(df['Next_Tmax'])"
      ]
    },
    {
      "cell_type": "code",
      "execution_count": null,
      "id": "d4706a8f",
      "metadata": {
        "id": "d4706a8f",
        "outputId": "d6067213-71c8-4070-bd3f-2fdb2b812053"
      },
      "outputs": [
        {
          "data": {
            "text/plain": [
              "<AxesSubplot:xlabel='Next_Tmin', ylabel='Density'>"
            ]
          },
          "execution_count": 14,
          "metadata": {},
          "output_type": "execute_result"
        },
        {
          "data": {
            "image/png": "[encoded data removed]",
            "text/plain": [
              "<Figure size 432x288 with 1 Axes>"
            ]
          },
          "metadata": {
            "needs_background": "light"
          },
          "output_type": "display_data"
        }
      ],
      "source": [
        "#Density plot\n",
        "sns.distplot(df['Next_Tmin'])"
      ]
    },
    {
      "cell_type": "code",
      "execution_count": null,
      "id": "263d86aa",
      "metadata": {
        "id": "263d86aa",
        "outputId": "65325887-4e4e-443d-c107-114edb5c5d6c"
      },
      "outputs": [
        {
          "data": {
            "text/plain": [
              "<AxesSubplot:xlabel='Next_Tmin'>"
            ]
          },
          "execution_count": 15,
          "metadata": {},
          "output_type": "execute_result"
        },
        {
          "data": {
            "image/png": "[encoded data removed]",
            "text/plain": [
              "<Figure size 432x288 with 1 Axes>"
            ]
          },
          "metadata": {
            "needs_background": "light"
          },
          "output_type": "display_data"
        }
      ],
      "source": [
        "#Box plot\n",
        "sns.boxplot(df['Next_Tmin'])"
      ]
    },
    {
      "cell_type": "markdown",
      "id": "669c7f1e",
      "metadata": {
        "id": "669c7f1e"
      },
      "source": [
        "The next column we look into is the 'station'."
      ]
    },
    {
      "cell_type": "code",
      "execution_count": null,
      "id": "a7315bf1",
      "metadata": {
        "id": "a7315bf1",
        "outputId": "755e2687-e5b7-4cc2-f646-4ae9e6f697a7"
      },
      "outputs": [
        {
          "data": {
            "text/plain": [
              "<AxesSubplot:xlabel='station'>"
            ]
          },
          "execution_count": 16,
          "metadata": {},
          "output_type": "execute_result"
        },
        {
          "data": {
            "image/png": "[encoded data removed]",
            "text/plain": [
              "<Figure size 432x288 with 1 Axes>"
            ]
          },
          "metadata": {
            "needs_background": "light"
          },
          "output_type": "display_data"
        }
      ],
      "source": [
        "#Violin plot\n",
        "sns.violinplot(df['station'])"
      ]
    },
    {
      "cell_type": "markdown",
      "id": "3531bfd5",
      "metadata": {
        "id": "3531bfd5"
      },
      "source": [
        "The next column we look into is the 'Date'. It is object type, so we create three different columns for Day, Month and Year"
      ]
    },
    {
      "cell_type": "code",
      "execution_count": null,
      "id": "1dbd92ee",
      "metadata": {
        "id": "1dbd92ee"
      },
      "outputs": [],
      "source": [
        "df['Day'] = pd.to_datetime(df['Date']).dt.day #Taking the day\n",
        "df['Month'] = pd.to_datetime(df['Date']).dt.month #Taking month\n",
        "df['Year'] = pd.to_datetime(df['Date']).dt.year #Taking year"
      ]
    },
    {
      "cell_type": "markdown",
      "id": "be9a8922",
      "metadata": {
        "id": "be9a8922"
      },
      "source": [
        "Now that we have split, let us drop the column 'Date' itself"
      ]
    },
    {
      "cell_type": "code",
      "execution_count": null,
      "id": "81a2eaec",
      "metadata": {
        "id": "81a2eaec"
      },
      "outputs": [],
      "source": [
        "df.drop(columns='Date', inplace=True) #Dropping the column"
      ]
    },
    {
      "cell_type": "markdown",
      "id": "62196bb0",
      "metadata": {
        "id": "62196bb0"
      },
      "source": [
        "The next column we look into is the 'Present_Tmax'."
      ]
    },
    {
      "cell_type": "code",
      "execution_count": null,
      "id": "b0cd8b25",
      "metadata": {
        "id": "b0cd8b25",
        "outputId": "0d794743-34ab-42ff-ac9e-a158d3426d90"
      },
      "outputs": [
        {
          "data": {
            "text/plain": [
              "<AxesSubplot:xlabel='Present_Tmax'>"
            ]
          },
          "execution_count": 19,
          "metadata": {},
          "output_type": "execute_result"
        },
        {
          "data": {
            "image/png": "[encoded data removed]",
            "text/plain": [
              "<Figure size 432x288 with 1 Axes>"
            ]
          },
          "metadata": {
            "needs_background": "light"
          },
          "output_type": "display_data"
        }
      ],
      "source": [
        "#Violin plot\n",
        "sns.violinplot(df['Present_Tmax'])"
      ]
    },
    {
      "cell_type": "markdown",
      "id": "ab1b5fb3",
      "metadata": {
        "id": "ab1b5fb3"
      },
      "source": [
        "The next column we look into is the 'Present_Tmin'."
      ]
    },
    {
      "cell_type": "code",
      "execution_count": null,
      "id": "eed98d27",
      "metadata": {
        "id": "eed98d27",
        "outputId": "0a92d28b-c15e-44aa-d347-4ba6109c5ed9"
      },
      "outputs": [
        {
          "data": {
            "text/plain": [
              "<AxesSubplot:xlabel='Present_Tmin'>"
            ]
          },
          "execution_count": 20,
          "metadata": {},
          "output_type": "execute_result"
        },
        {
          "data": {
            "image/png": "[encoded data removed]",
            "text/plain": [
              "<Figure size 432x288 with 1 Axes>"
            ]
          },
          "metadata": {
            "needs_background": "light"
          },
          "output_type": "display_data"
        }
      ],
      "source": [
        "#Violin plot\n",
        "sns.violinplot(df['Present_Tmin'])"
      ]
    },
    {
      "cell_type": "markdown",
      "id": "a167d081",
      "metadata": {
        "id": "a167d081"
      },
      "source": [
        "The next column we look into is the 'LDAPS_RHmin'."
      ]
    },
    {
      "cell_type": "code",
      "execution_count": null,
      "id": "71d3265a",
      "metadata": {
        "id": "71d3265a",
        "outputId": "ef6bcff8-c7e0-47f6-9f19-4a9a83302d55"
      },
      "outputs": [
        {
          "data": {
            "text/plain": [
              "<AxesSubplot:xlabel='LDAPS_RHmin'>"
            ]
          },
          "execution_count": 21,
          "metadata": {},
          "output_type": "execute_result"
        },
        {
          "data": {
            "image/png": "[encoded data removed]",
            "text/plain": [
              "<Figure size 432x288 with 1 Axes>"
            ]
          },
          "metadata": {
            "needs_background": "light"
          },
          "output_type": "display_data"
        }
      ],
      "source": [
        "#Violin plot\n",
        "sns.violinplot(df['LDAPS_RHmin'])"
      ]
    },
    {
      "cell_type": "markdown",
      "id": "bd32cd2c",
      "metadata": {
        "id": "bd32cd2c"
      },
      "source": [
        "The next column we look into is the 'LDAPS_RHmax'."
      ]
    },
    {
      "cell_type": "code",
      "execution_count": null,
      "id": "9650e23f",
      "metadata": {
        "id": "9650e23f",
        "outputId": "ad683a2d-7739-421e-f994-21287dd23944"
      },
      "outputs": [
        {
          "data": {
            "text/plain": [
              "<AxesSubplot:xlabel='LDAPS_RHmax'>"
            ]
          },
          "execution_count": 22,
          "metadata": {},
          "output_type": "execute_result"
        },
        {
          "data": {
            "image/png": "[encoded data removed]",
            "text/plain": [
              "<Figure size 432x288 with 1 Axes>"
            ]
          },
          "metadata": {
            "needs_background": "light"
          },
          "output_type": "display_data"
        }
      ],
      "source": [
        "#Violin plot\n",
        "sns.violinplot(df['LDAPS_RHmax'])"
      ]
    },
    {
      "cell_type": "markdown",
      "id": "085acbb8",
      "metadata": {
        "id": "085acbb8"
      },
      "source": [
        "The next column we look into is the 'LDAPS_Tmax_lapse'."
      ]
    },
    {
      "cell_type": "code",
      "execution_count": null,
      "id": "fd196db1",
      "metadata": {
        "id": "fd196db1",
        "outputId": "810424fe-7357-4022-edda-d3452e8fda86"
      },
      "outputs": [
        {
          "data": {
            "text/plain": [
              "<AxesSubplot:xlabel='LDAPS_Tmax_lapse'>"
            ]
          },
          "execution_count": 23,
          "metadata": {},
          "output_type": "execute_result"
        },
        {
          "data": {
            "image/png": "[encoded data removed]",
            "text/plain": [
              "<Figure size 432x288 with 1 Axes>"
            ]
          },
          "metadata": {
            "needs_background": "light"
          },
          "output_type": "display_data"
        }
      ],
      "source": [
        "#Violin plot\n",
        "sns.violinplot(df['LDAPS_Tmax_lapse'])"
      ]
    },
    {
      "cell_type": "markdown",
      "id": "fef417d1",
      "metadata": {
        "id": "fef417d1"
      },
      "source": [
        "The next column we look into is the 'LDAPS_Tmin_lapse'."
      ]
    },
    {
      "cell_type": "code",
      "execution_count": null,
      "id": "1f868203",
      "metadata": {
        "id": "1f868203",
        "outputId": "3467b273-e15e-4662-b0c0-aaad92a55896"
      },
      "outputs": [
        {
          "data": {
            "text/plain": [
              "<AxesSubplot:xlabel='LDAPS_Tmin_lapse'>"
            ]
          },
          "execution_count": 24,
          "metadata": {},
          "output_type": "execute_result"
        },
        {
          "data": {
            "image/png": "[encoded data removed]",
            "text/plain": [
              "<Figure size 432x288 with 1 Axes>"
            ]
          },
          "metadata": {
            "needs_background": "light"
          },
          "output_type": "display_data"
        }
      ],
      "source": [
        "#Violin plot\n",
        "sns.violinplot(df['LDAPS_Tmin_lapse'])"
      ]
    },
    {
      "cell_type": "markdown",
      "id": "60b87b87",
      "metadata": {
        "id": "60b87b87"
      },
      "source": [
        "The next column we look into is the 'LDAPS_WS'."
      ]
    },
    {
      "cell_type": "code",
      "execution_count": null,
      "id": "aaaf4928",
      "metadata": {
        "id": "aaaf4928",
        "outputId": "6265dcbe-2cbf-4971-afdf-e551003c615d"
      },
      "outputs": [
        {
          "data": {
            "text/plain": [
              "<AxesSubplot:xlabel='LDAPS_WS'>"
            ]
          },
          "execution_count": 25,
          "metadata": {},
          "output_type": "execute_result"
        },
        {
          "data": {
            "image/png": "[encoded data removed]",
            "text/plain": [
              "<Figure size 432x288 with 1 Axes>"
            ]
          },
          "metadata": {
            "needs_background": "light"
          },
          "output_type": "display_data"
        }
      ],
      "source": [
        "#Violin plot\n",
        "sns.violinplot(df['LDAPS_WS'])"
      ]
    },
    {
      "cell_type": "markdown",
      "id": "64351bef",
      "metadata": {
        "id": "64351bef"
      },
      "source": [
        "The next column we look into is the 'LDAPS_LH'."
      ]
    },
    {
      "cell_type": "code",
      "execution_count": null,
      "id": "bbc37eb0",
      "metadata": {
        "id": "bbc37eb0",
        "outputId": "60ba6e46-52e3-4702-e1aa-8f3165e10534"
      },
      "outputs": [
        {
          "data": {
            "text/plain": [
              "<AxesSubplot:xlabel='LDAPS_LH'>"
            ]
          },
          "execution_count": 26,
          "metadata": {},
          "output_type": "execute_result"
        },
        {
          "data": {
            "image/png": "[encoded data removed]",
            "text/plain": [
              "<Figure size 432x288 with 1 Axes>"
            ]
          },
          "metadata": {
            "needs_background": "light"
          },
          "output_type": "display_data"
        }
      ],
      "source": [
        "#Violin plot\n",
        "sns.violinplot(df['LDAPS_LH'])"
      ]
    },
    {
      "cell_type": "markdown",
      "id": "53063257",
      "metadata": {
        "id": "53063257"
      },
      "source": [
        "The next column we look into is the 'LDAPS_CC1'."
      ]
    },
    {
      "cell_type": "code",
      "execution_count": null,
      "id": "b3c37b35",
      "metadata": {
        "id": "b3c37b35",
        "outputId": "b3b24118-3dac-4798-8fc9-4a20666acce8"
      },
      "outputs": [
        {
          "data": {
            "text/plain": [
              "<AxesSubplot:xlabel='LDAPS_CC1'>"
            ]
          },
          "execution_count": 27,
          "metadata": {},
          "output_type": "execute_result"
        },
        {
          "data": {
            "image/png": "[encoded data removed]",
            "text/plain": [
              "<Figure size 432x288 with 1 Axes>"
            ]
          },
          "metadata": {
            "needs_background": "light"
          },
          "output_type": "display_data"
        }
      ],
      "source": [
        "#Violin plot\n",
        "sns.violinplot(df['LDAPS_CC1'])"
      ]
    },
    {
      "cell_type": "markdown",
      "id": "157cb9cd",
      "metadata": {
        "id": "157cb9cd"
      },
      "source": [
        "The next column we look into is the 'LDAPS_CC2'."
      ]
    },
    {
      "cell_type": "code",
      "execution_count": null,
      "id": "c8c7f743",
      "metadata": {
        "id": "c8c7f743",
        "outputId": "9953e829-a4fa-4a6b-a100-1cea16c2d6f8"
      },
      "outputs": [
        {
          "data": {
            "text/plain": [
              "<AxesSubplot:xlabel='LDAPS_CC2'>"
            ]
          },
          "execution_count": 28,
          "metadata": {},
          "output_type": "execute_result"
        },
        {
          "data": {
            "image/png": "[encoded data removed]",
            "text/plain": [
              "<Figure size 432x288 with 1 Axes>"
            ]
          },
          "metadata": {
            "needs_background": "light"
          },
          "output_type": "display_data"
        }
      ],
      "source": [
        "#Violin plot\n",
        "sns.violinplot(df['LDAPS_CC2'])"
      ]
    },
    {
      "cell_type": "markdown",
      "id": "f51068b8",
      "metadata": {
        "id": "f51068b8"
      },
      "source": [
        "The next column we look into is the 'LDAPS_CC3'."
      ]
    },
    {
      "cell_type": "code",
      "execution_count": null,
      "id": "a20fa3e7",
      "metadata": {
        "id": "a20fa3e7",
        "outputId": "45b96537-1cbb-45e4-a5a5-2247414b2ef6"
      },
      "outputs": [
        {
          "data": {
            "text/plain": [
              "<AxesSubplot:xlabel='LDAPS_CC3'>"
            ]
          },
          "execution_count": 29,
          "metadata": {},
          "output_type": "execute_result"
        },
        {
          "data": {
            "image/png": "[encoded data removed]",
            "text/plain": [
              "<Figure size 432x288 with 1 Axes>"
            ]
          },
          "metadata": {
            "needs_background": "light"
          },
          "output_type": "display_data"
        }
      ],
      "source": [
        "#Violin plot\n",
        "sns.violinplot(df['LDAPS_CC3'])"
      ]
    },
    {
      "cell_type": "markdown",
      "id": "f5e929c5",
      "metadata": {
        "id": "f5e929c5"
      },
      "source": [
        "The next column we look into is the 'LDAPS_CC4'."
      ]
    },
    {
      "cell_type": "code",
      "execution_count": null,
      "id": "ad6e8840",
      "metadata": {
        "id": "ad6e8840",
        "outputId": "532dfbcc-fb44-4457-9655-713ff716a235"
      },
      "outputs": [
        {
          "data": {
            "text/plain": [
              "<AxesSubplot:xlabel='LDAPS_CC4'>"
            ]
          },
          "execution_count": 30,
          "metadata": {},
          "output_type": "execute_result"
        },
        {
          "data": {
            "image/png": "[encoded data removed]",
            "text/plain": [
              "<Figure size 432x288 with 1 Axes>"
            ]
          },
          "metadata": {
            "needs_background": "light"
          },
          "output_type": "display_data"
        }
      ],
      "source": [
        "#Violin plot\n",
        "sns.violinplot(df['LDAPS_CC4'])"
      ]
    },
    {
      "cell_type": "markdown",
      "id": "5dd3bd42",
      "metadata": {
        "id": "5dd3bd42"
      },
      "source": [
        "The next column we look into is the 'LDAPS_PPT1'."
      ]
    },
    {
      "cell_type": "code",
      "execution_count": null,
      "id": "3e556a08",
      "metadata": {
        "id": "3e556a08",
        "outputId": "edcbaf89-fd42-45d5-a17a-2c9cea819b91"
      },
      "outputs": [
        {
          "data": {
            "text/plain": [
              "<AxesSubplot:xlabel='LDAPS_PPT1'>"
            ]
          },
          "execution_count": 31,
          "metadata": {},
          "output_type": "execute_result"
        },
        {
          "data": {
            "image/png": "[encoded data removed]",
            "text/plain": [
              "<Figure size 432x288 with 1 Axes>"
            ]
          },
          "metadata": {
            "needs_background": "light"
          },
          "output_type": "display_data"
        }
      ],
      "source": [
        "#Violin plot\n",
        "sns.violinplot(df['LDAPS_PPT1'])"
      ]
    },
    {
      "cell_type": "markdown",
      "id": "2d41ba07",
      "metadata": {
        "id": "2d41ba07"
      },
      "source": [
        "The next column we look into is the 'LDAPS_PPT2'."
      ]
    },
    {
      "cell_type": "code",
      "execution_count": null,
      "id": "2b358d2a",
      "metadata": {
        "id": "2b358d2a",
        "outputId": "1cffd4ba-ecea-40ba-cc8b-3af4d150d577"
      },
      "outputs": [
        {
          "data": {
            "text/plain": [
              "<AxesSubplot:xlabel='LDAPS_PPT2'>"
            ]
          },
          "execution_count": 32,
          "metadata": {},
          "output_type": "execute_result"
        },
        {
          "data": {
            "image/png": "[encoded data removed]",
            "text/plain": [
              "<Figure size 432x288 with 1 Axes>"
            ]
          },
          "metadata": {
            "needs_background": "light"
          },
          "output_type": "display_data"
        }
      ],
      "source": [
        "#Violin plot\n",
        "sns.violinplot(df['LDAPS_PPT2'])"
      ]
    },
    {
      "cell_type": "markdown",
      "id": "c52f5918",
      "metadata": {
        "id": "c52f5918"
      },
      "source": [
        "The next column we look into is the 'LDAPS_PPT3'."
      ]
    },
    {
      "cell_type": "code",
      "execution_count": null,
      "id": "faf05027",
      "metadata": {
        "id": "faf05027",
        "outputId": "7885f1f6-4840-485f-9955-f3d8a6a3ba53"
      },
      "outputs": [
        {
          "data": {
            "text/plain": [
              "<AxesSubplot:xlabel='LDAPS_PPT3'>"
            ]
          },
          "execution_count": 33,
          "metadata": {},
          "output_type": "execute_result"
        },
        {
          "data": {
            "image/png": "[encoded data removed]",
            "text/plain": [
              "<Figure size 432x288 with 1 Axes>"
            ]
          },
          "metadata": {
            "needs_background": "light"
          },
          "output_type": "display_data"
        }
      ],
      "source": [
        "#Violin plot\n",
        "sns.violinplot(df['LDAPS_PPT3'])"
      ]
    },
    {
      "cell_type": "markdown",
      "id": "92fb5587",
      "metadata": {
        "id": "92fb5587"
      },
      "source": [
        "The next column we look into is the 'LDAPS_PPT4'."
      ]
    },
    {
      "cell_type": "code",
      "execution_count": null,
      "id": "db741657",
      "metadata": {
        "id": "db741657",
        "outputId": "7e6ef8e0-0a75-44de-af83-d7fe306b8352"
      },
      "outputs": [
        {
          "data": {
            "text/plain": [
              "<AxesSubplot:xlabel='LDAPS_PPT4'>"
            ]
          },
          "execution_count": 34,
          "metadata": {},
          "output_type": "execute_result"
        },
        {
          "data": {
            "image/png": "[encoded data removed]",
            "text/plain": [
              "<Figure size 432x288 with 1 Axes>"
            ]
          },
          "metadata": {
            "needs_background": "light"
          },
          "output_type": "display_data"
        }
      ],
      "source": [
        "#Violin plot\n",
        "sns.violinplot(df['LDAPS_PPT4'])"
      ]
    },
    {
      "cell_type": "markdown",
      "id": "9df5a47c",
      "metadata": {
        "id": "9df5a47c"
      },
      "source": [
        "The next column we look into is the 'lat'."
      ]
    },
    {
      "cell_type": "code",
      "execution_count": null,
      "id": "afa599cd",
      "metadata": {
        "id": "afa599cd",
        "outputId": "dd3ce973-5944-470a-9a51-5a449d4a9dfc"
      },
      "outputs": [
        {
          "data": {
            "text/plain": [
              "<AxesSubplot:xlabel='lat'>"
            ]
          },
          "execution_count": 35,
          "metadata": {},
          "output_type": "execute_result"
        },
        {
          "data": {
            "image/png": "[encoded data removed]",
            "text/plain": [
              "<Figure size 432x288 with 1 Axes>"
            ]
          },
          "metadata": {
            "needs_background": "light"
          },
          "output_type": "display_data"
        }
      ],
      "source": [
        "#Violin plot\n",
        "sns.violinplot(df['lat'])"
      ]
    },
    {
      "cell_type": "markdown",
      "id": "93d198f9",
      "metadata": {
        "id": "93d198f9"
      },
      "source": [
        "The next column we look into is the 'lon'."
      ]
    },
    {
      "cell_type": "code",
      "execution_count": null,
      "id": "91695899",
      "metadata": {
        "id": "91695899",
        "outputId": "f2fc49e0-ab84-4d58-80f5-d091202479dc"
      },
      "outputs": [
        {
          "data": {
            "text/plain": [
              "<AxesSubplot:xlabel='lon'>"
            ]
          },
          "execution_count": 36,
          "metadata": {},
          "output_type": "execute_result"
        },
        {
          "data": {
            "image/png": "[encoded data removed]",
            "text/plain": [
              "<Figure size 432x288 with 1 Axes>"
            ]
          },
          "metadata": {
            "needs_background": "light"
          },
          "output_type": "display_data"
        }
      ],
      "source": [
        "#Violin plot\n",
        "sns.violinplot(df['lon'])"
      ]
    },
    {
      "cell_type": "markdown",
      "id": "e7323a6e",
      "metadata": {
        "id": "e7323a6e"
      },
      "source": [
        "The next column we look into is the 'DEM'."
      ]
    },
    {
      "cell_type": "code",
      "execution_count": null,
      "id": "a73051c3",
      "metadata": {
        "id": "a73051c3",
        "outputId": "b91bd7aa-4253-48ab-fb41-076f1c3ceffb"
      },
      "outputs": [
        {
          "data": {
            "text/plain": [
              "<AxesSubplot:xlabel='DEM'>"
            ]
          },
          "execution_count": 37,
          "metadata": {},
          "output_type": "execute_result"
        },
        {
          "data": {
            "image/png": "[encoded data removed]",
            "text/plain": [
              "<Figure size 432x288 with 1 Axes>"
            ]
          },
          "metadata": {
            "needs_background": "light"
          },
          "output_type": "display_data"
        }
      ],
      "source": [
        "#Violin plot\n",
        "sns.violinplot(df['DEM'])"
      ]
    },
    {
      "cell_type": "markdown",
      "id": "ae8f4153",
      "metadata": {
        "id": "ae8f4153"
      },
      "source": [
        "The next column we look into is the 'Slope'."
      ]
    },
    {
      "cell_type": "code",
      "execution_count": null,
      "id": "5085872e",
      "metadata": {
        "id": "5085872e",
        "outputId": "bc5909f1-f02d-4ed3-e3c7-1ae98eca6ce0"
      },
      "outputs": [
        {
          "data": {
            "text/plain": [
              "<AxesSubplot:xlabel='Slope'>"
            ]
          },
          "execution_count": 38,
          "metadata": {},
          "output_type": "execute_result"
        },
        {
          "data": {
            "image/png": "[encoded data removed]",
            "text/plain": [
              "<Figure size 432x288 with 1 Axes>"
            ]
          },
          "metadata": {
            "needs_background": "light"
          },
          "output_type": "display_data"
        }
      ],
      "source": [
        "#Violin plot\n",
        "sns.violinplot(df['Slope'])"
      ]
    },
    {
      "cell_type": "markdown",
      "id": "ae152bfd",
      "metadata": {
        "id": "ae152bfd"
      },
      "source": [
        "The next column we look into is the 'Solar radiation'."
      ]
    },
    {
      "cell_type": "code",
      "execution_count": null,
      "id": "7bbd7f40",
      "metadata": {
        "id": "7bbd7f40",
        "outputId": "71a35d7c-2227-4dbb-a59f-74a825ec30a8"
      },
      "outputs": [
        {
          "data": {
            "text/plain": [
              "<AxesSubplot:xlabel='Solar radiation'>"
            ]
          },
          "execution_count": 39,
          "metadata": {},
          "output_type": "execute_result"
        },
        {
          "data": {
            "image/png": "[encoded data removed]",
            "text/plain": [
              "<Figure size 432x288 with 1 Axes>"
            ]
          },
          "metadata": {
            "needs_background": "light"
          },
          "output_type": "display_data"
        }
      ],
      "source": [
        "#Violin plot\n",
        "sns.violinplot(df['Solar radiation'])"
      ]
    },
    {
      "cell_type": "markdown",
      "id": "54eeda0d",
      "metadata": {
        "id": "54eeda0d"
      },
      "source": [
        "From the above visualization we note that the data is coplete and all numerical with a lot of skewness and outliers present. Hence, we shall treat for the same."
      ]
    },
    {
      "cell_type": "markdown",
      "id": "149fd740",
      "metadata": {
        "id": "149fd740"
      },
      "source": [
        "# Correlation"
      ]
    },
    {
      "cell_type": "markdown",
      "id": "16fd5eff",
      "metadata": {
        "id": "16fd5eff"
      },
      "source": [
        "Now, since all the data has been transformed into numeric values. Let us check for the correlation to the target column"
      ]
    },
    {
      "cell_type": "code",
      "execution_count": null,
      "id": "e7513b7c",
      "metadata": {
        "id": "e7513b7c",
        "outputId": "b775cb1c-fba3-4001-de29-77f1ec4e0d9d"
      },
      "outputs": [
        {
          "data": {
            "text/html": [
              "<div>\n",
              "<style scoped>\n",
              "    .dataframe tbody tr th:only-of-type {\n",
              "        vertical-align: middle;\n",
              "    }\n",
              "\n",
              "    .dataframe tbody tr th {\n",
              "        vertical-align: top;\n",
              "    }\n",
              "\n",
              "    .dataframe thead th {\n",
              "        text-align: right;\n",
              "    }\n",
              "</style>\n",
              "<table border=\"1\" class=\"dataframe\">\n",
              "  <thead>\n",
              "    <tr style=\"text-align: right;\">\n",
              "      <th></th>\n",
              "      <th>station</th>\n",
              "      <th>Present_Tmax</th>\n",
              "      <th>Present_Tmin</th>\n",
              "      <th>LDAPS_RHmin</th>\n",
              "      <th>LDAPS_RHmax</th>\n",
              "      <th>LDAPS_Tmax_lapse</th>\n",
              "      <th>LDAPS_Tmin_lapse</th>\n",
              "      <th>LDAPS_WS</th>\n",
              "      <th>LDAPS_LH</th>\n",
              "      <th>LDAPS_CC1</th>\n",
              "      <th>LDAPS_CC2</th>\n",
              "      <th>LDAPS_CC3</th>\n",
              "      <th>LDAPS_CC4</th>\n",
              "      <th>LDAPS_PPT1</th>\n",
              "      <th>LDAPS_PPT2</th>\n",
              "      <th>LDAPS_PPT3</th>\n",
              "      <th>LDAPS_PPT4</th>\n",
              "      <th>lat</th>\n",
              "      <th>lon</th>\n",
              "      <th>DEM</th>\n",
              "      <th>Slope</th>\n",
              "      <th>Solar radiation</th>\n",
              "      <th>Next_Tmax</th>\n",
              "      <th>Next_Tmin</th>\n",
              "      <th>Day</th>\n",
              "      <th>Month</th>\n",
              "      <th>Year</th>\n",
              "    </tr>\n",
              "  </thead>\n",
              "  <tbody>\n",
              "    <tr>\n",
              "      <th>station</th>\n",
              "      <td>1.000000</td>\n",
              "      <td>0.113301</td>\n",
              "      <td>0.133282</td>\n",
              "      <td>-0.067846</td>\n",
              "      <td>-0.169351</td>\n",
              "      <td>0.069856</td>\n",
              "      <td>0.105277</td>\n",
              "      <td>0.005822</td>\n",
              "      <td>-0.132129</td>\n",
              "      <td>0.006539</td>\n",
              "      <td>0.003526</td>\n",
              "      <td>-0.000161</td>\n",
              "      <td>0.005005</td>\n",
              "      <td>-0.001954</td>\n",
              "      <td>-0.007635</td>\n",
              "      <td>-0.013865</td>\n",
              "      <td>-0.011085</td>\n",
              "      <td>-0.239118</td>\n",
              "      <td>-0.118845</td>\n",
              "      <td>-0.256706</td>\n",
              "      <td>-0.091721</td>\n",
              "      <td>-0.021194</td>\n",
              "      <td>0.107747</td>\n",
              "      <td>0.128184</td>\n",
              "      <td>-0.000996</td>\n",
              "      <td>0.001211</td>\n",
              "      <td>0.001474</td>\n",
              "    </tr>\n",
              "    <tr>\n",
              "      <th>Present_Tmax</th>\n",
              "      <td>0.113301</td>\n",
              "      <td>1.000000</td>\n",
              "      <td>0.615208</td>\n",
              "      <td>-0.209059</td>\n",
              "      <td>-0.306943</td>\n",
              "      <td>0.573777</td>\n",
              "      <td>0.628705</td>\n",
              "      <td>-0.125952</td>\n",
              "      <td>0.134246</td>\n",
              "      <td>-0.316333</td>\n",
              "      <td>-0.216976</td>\n",
              "      <td>-0.146391</td>\n",
              "      <td>-0.143069</td>\n",
              "      <td>-0.114917</td>\n",
              "      <td>-0.104779</td>\n",
              "      <td>-0.127248</td>\n",
              "      <td>-0.107295</td>\n",
              "      <td>-0.054134</td>\n",
              "      <td>0.007695</td>\n",
              "      <td>-0.189439</td>\n",
              "      <td>-0.107079</td>\n",
              "      <td>-0.022114</td>\n",
              "      <td>0.610357</td>\n",
              "      <td>0.621048</td>\n",
              "      <td>-0.154366</td>\n",
              "      <td>-0.003266</td>\n",
              "      <td>0.056002</td>\n",
              "    </tr>\n",
              "    <tr>\n",
              "      <th>Present_Tmin</th>\n",
              "      <td>0.133282</td>\n",
              "      <td>0.615208</td>\n",
              "      <td>1.000000</td>\n",
              "      <td>0.122200</td>\n",
              "      <td>-0.018576</td>\n",
              "      <td>0.467904</td>\n",
              "      <td>0.772061</td>\n",
              "      <td>-0.038779</td>\n",
              "      <td>-0.012817</td>\n",
              "      <td>0.084348</td>\n",
              "      <td>0.090038</td>\n",
              "      <td>-0.004719</td>\n",
              "      <td>-0.046694</td>\n",
              "      <td>0.111577</td>\n",
              "      <td>0.066207</td>\n",
              "      <td>-0.052428</td>\n",
              "      <td>-0.070391</td>\n",
              "      <td>-0.081417</td>\n",
              "      <td>-0.045174</td>\n",
              "      <td>-0.254084</td>\n",
              "      <td>-0.148423</td>\n",
              "      <td>0.059765</td>\n",
              "      <td>0.463523</td>\n",
              "      <td>0.796975</td>\n",
              "      <td>-0.115693</td>\n",
              "      <td>-0.010210</td>\n",
              "      <td>0.037457</td>\n",
              "    </tr>\n",
              "    <tr>\n",
              "      <th>LDAPS_RHmin</th>\n",
              "      <td>-0.067846</td>\n",
              "      <td>-0.209059</td>\n",
              "      <td>0.122200</td>\n",
              "      <td>1.000000</td>\n",
              "      <td>0.578358</td>\n",
              "      <td>-0.569580</td>\n",
              "      <td>0.085237</td>\n",
              "      <td>0.289422</td>\n",
              "      <td>-0.072195</td>\n",
              "      <td>0.612831</td>\n",
              "      <td>0.744774</td>\n",
              "      <td>0.688069</td>\n",
              "      <td>0.513937</td>\n",
              "      <td>0.259039</td>\n",
              "      <td>0.389572</td>\n",
              "      <td>0.237512</td>\n",
              "      <td>0.167311</td>\n",
              "      <td>0.085027</td>\n",
              "      <td>-0.077590</td>\n",
              "      <td>0.100684</td>\n",
              "      <td>0.122454</td>\n",
              "      <td>0.242168</td>\n",
              "      <td>-0.446824</td>\n",
              "      <td>0.093249</td>\n",
              "      <td>-0.063464</td>\n",
              "      <td>-0.053499</td>\n",
              "      <td>-0.002147</td>\n",
              "    </tr>\n",
              "    <tr>\n",
              "      <th>LDAPS_RHmax</th>\n",
              "      <td>-0.169351</td>\n",
              "      <td>-0.306943</td>\n",
              "      <td>-0.018576</td>\n",
              "      <td>0.578358</td>\n",
              "      <td>1.000000</td>\n",
              "      <td>-0.377293</td>\n",
              "      <td>-0.118965</td>\n",
              "      <td>0.131269</td>\n",
              "      <td>0.238986</td>\n",
              "      <td>0.435937</td>\n",
              "      <td>0.390620</td>\n",
              "      <td>0.224734</td>\n",
              "      <td>0.127242</td>\n",
              "      <td>0.268019</td>\n",
              "      <td>0.227581</td>\n",
              "      <td>0.132436</td>\n",
              "      <td>0.118101</td>\n",
              "      <td>0.194820</td>\n",
              "      <td>0.025563</td>\n",
              "      <td>0.176557</td>\n",
              "      <td>0.219436</td>\n",
              "      <td>0.146622</td>\n",
              "      <td>-0.289788</td>\n",
              "      <td>-0.076415</td>\n",
              "      <td>-0.012226</td>\n",
              "      <td>-0.039424</td>\n",
              "      <td>-0.144286</td>\n",
              "    </tr>\n",
              "    <tr>\n",
              "      <th>LDAPS_Tmax_lapse</th>\n",
              "      <td>0.069856</td>\n",
              "      <td>0.573777</td>\n",
              "      <td>0.467904</td>\n",
              "      <td>-0.569580</td>\n",
              "      <td>-0.377293</td>\n",
              "      <td>1.000000</td>\n",
              "      <td>0.653425</td>\n",
              "      <td>-0.316011</td>\n",
              "      <td>0.043663</td>\n",
              "      <td>-0.440878</td>\n",
              "      <td>-0.525380</td>\n",
              "      <td>-0.542728</td>\n",
              "      <td>-0.429739</td>\n",
              "      <td>-0.115659</td>\n",
              "      <td>-0.248369</td>\n",
              "      <td>-0.193749</td>\n",
              "      <td>-0.170415</td>\n",
              "      <td>-0.044052</td>\n",
              "      <td>0.091568</td>\n",
              "      <td>-0.181433</td>\n",
              "      <td>-0.163891</td>\n",
              "      <td>0.047414</td>\n",
              "      <td>0.835729</td>\n",
              "      <td>0.589963</td>\n",
              "      <td>-0.161320</td>\n",
              "      <td>-0.022279</td>\n",
              "      <td>0.020308</td>\n",
              "    </tr>\n",
              "    <tr>\n",
              "      <th>LDAPS_Tmin_lapse</th>\n",
              "      <td>0.105277</td>\n",
              "      <td>0.628705</td>\n",
              "      <td>0.772061</td>\n",
              "      <td>0.085237</td>\n",
              "      <td>-0.118965</td>\n",
              "      <td>0.653425</td>\n",
              "      <td>1.000000</td>\n",
              "      <td>-0.134652</td>\n",
              "      <td>-0.139675</td>\n",
              "      <td>0.008714</td>\n",
              "      <td>0.046537</td>\n",
              "      <td>-0.044998</td>\n",
              "      <td>-0.079536</td>\n",
              "      <td>0.034956</td>\n",
              "      <td>-0.002743</td>\n",
              "      <td>-0.093116</td>\n",
              "      <td>-0.103541</td>\n",
              "      <td>-0.099452</td>\n",
              "      <td>-0.024703</td>\n",
              "      <td>-0.198396</td>\n",
              "      <td>-0.187864</td>\n",
              "      <td>0.157763</td>\n",
              "      <td>0.592119</td>\n",
              "      <td>0.886513</td>\n",
              "      <td>-0.176772</td>\n",
              "      <td>-0.027050</td>\n",
              "      <td>-0.000564</td>\n",
              "    </tr>\n",
              "    <tr>\n",
              "      <th>LDAPS_WS</th>\n",
              "      <td>0.005822</td>\n",
              "      <td>-0.125952</td>\n",
              "      <td>-0.038779</td>\n",
              "      <td>0.289422</td>\n",
              "      <td>0.131269</td>\n",
              "      <td>-0.316011</td>\n",
              "      <td>-0.134652</td>\n",
              "      <td>1.000000</td>\n",
              "      <td>0.004427</td>\n",
              "      <td>0.285349</td>\n",
              "      <td>0.257226</td>\n",
              "      <td>0.238155</td>\n",
              "      <td>0.218870</td>\n",
              "      <td>0.141503</td>\n",
              "      <td>0.181634</td>\n",
              "      <td>0.147199</td>\n",
              "      <td>0.134428</td>\n",
              "      <td>0.033025</td>\n",
              "      <td>-0.063009</td>\n",
              "      <td>0.188540</td>\n",
              "      <td>0.169223</td>\n",
              "      <td>0.120630</td>\n",
              "      <td>-0.351107</td>\n",
              "      <td>-0.102021</td>\n",
              "      <td>-0.028312</td>\n",
              "      <td>-0.082267</td>\n",
              "      <td>-0.114114</td>\n",
              "    </tr>\n",
              "    <tr>\n",
              "      <th>LDAPS_LH</th>\n",
              "      <td>-0.132129</td>\n",
              "      <td>0.134246</td>\n",
              "      <td>-0.012817</td>\n",
              "      <td>-0.072195</td>\n",
              "      <td>0.238986</td>\n",
              "      <td>0.043663</td>\n",
              "      <td>-0.139675</td>\n",
              "      <td>0.004427</td>\n",
              "      <td>1.000000</td>\n",
              "      <td>-0.148314</td>\n",
              "      <td>-0.265382</td>\n",
              "      <td>-0.246709</td>\n",
              "      <td>-0.173156</td>\n",
              "      <td>-0.018708</td>\n",
              "      <td>-0.084375</td>\n",
              "      <td>0.009495</td>\n",
              "      <td>0.012372</td>\n",
              "      <td>0.133309</td>\n",
              "      <td>0.024476</td>\n",
              "      <td>0.056362</td>\n",
              "      <td>0.087517</td>\n",
              "      <td>-0.044956</td>\n",
              "      <td>0.156779</td>\n",
              "      <td>-0.060392</td>\n",
              "      <td>-0.010504</td>\n",
              "      <td>-0.024944</td>\n",
              "      <td>0.055898</td>\n",
              "    </tr>\n",
              "    <tr>\n",
              "      <th>LDAPS_CC1</th>\n",
              "      <td>0.006539</td>\n",
              "      <td>-0.316333</td>\n",
              "      <td>0.084348</td>\n",
              "      <td>0.612831</td>\n",
              "      <td>0.435937</td>\n",
              "      <td>-0.440878</td>\n",
              "      <td>0.008714</td>\n",
              "      <td>0.285349</td>\n",
              "      <td>-0.148314</td>\n",
              "      <td>1.000000</td>\n",
              "      <td>0.779510</td>\n",
              "      <td>0.516698</td>\n",
              "      <td>0.362670</td>\n",
              "      <td>0.446930</td>\n",
              "      <td>0.389368</td>\n",
              "      <td>0.166763</td>\n",
              "      <td>0.088897</td>\n",
              "      <td>-0.010268</td>\n",
              "      <td>-0.007962</td>\n",
              "      <td>-0.017378</td>\n",
              "      <td>-0.023893</td>\n",
              "      <td>0.218285</td>\n",
              "      <td>-0.459705</td>\n",
              "      <td>-0.012877</td>\n",
              "      <td>-0.018974</td>\n",
              "      <td>-0.076819</td>\n",
              "      <td>-0.066233</td>\n",
              "    </tr>\n",
              "    <tr>\n",
              "      <th>LDAPS_CC2</th>\n",
              "      <td>0.003526</td>\n",
              "      <td>-0.216976</td>\n",
              "      <td>0.090038</td>\n",
              "      <td>0.744774</td>\n",
              "      <td>0.390620</td>\n",
              "      <td>-0.525380</td>\n",
              "      <td>0.046537</td>\n",
              "      <td>0.257226</td>\n",
              "      <td>-0.265382</td>\n",
              "      <td>0.779510</td>\n",
              "      <td>1.000000</td>\n",
              "      <td>0.724546</td>\n",
              "      <td>0.527333</td>\n",
              "      <td>0.304442</td>\n",
              "      <td>0.479511</td>\n",
              "      <td>0.238179</td>\n",
              "      <td>0.157194</td>\n",
              "      <td>-0.002642</td>\n",
              "      <td>-0.004757</td>\n",
              "      <td>-0.016249</td>\n",
              "      <td>-0.021173</td>\n",
              "      <td>0.169346</td>\n",
              "      <td>-0.498295</td>\n",
              "      <td>0.030358</td>\n",
              "      <td>0.004819</td>\n",
              "      <td>-0.091161</td>\n",
              "      <td>-0.045027</td>\n",
              "    </tr>\n",
              "    <tr>\n",
              "      <th>LDAPS_CC3</th>\n",
              "      <td>-0.000161</td>\n",
              "      <td>-0.146391</td>\n",
              "      <td>-0.004719</td>\n",
              "      <td>0.688069</td>\n",
              "      <td>0.224734</td>\n",
              "      <td>-0.542728</td>\n",
              "      <td>-0.044998</td>\n",
              "      <td>0.238155</td>\n",
              "      <td>-0.246709</td>\n",
              "      <td>0.516698</td>\n",
              "      <td>0.724546</td>\n",
              "      <td>1.000000</td>\n",
              "      <td>0.794463</td>\n",
              "      <td>0.154952</td>\n",
              "      <td>0.336254</td>\n",
              "      <td>0.337346</td>\n",
              "      <td>0.303787</td>\n",
              "      <td>0.003827</td>\n",
              "      <td>0.013948</td>\n",
              "      <td>-0.001249</td>\n",
              "      <td>-0.005903</td>\n",
              "      <td>0.116691</td>\n",
              "      <td>-0.523061</td>\n",
              "      <td>-0.056490</td>\n",
              "      <td>-0.053885</td>\n",
              "      <td>-0.035796</td>\n",
              "      <td>0.108500</td>\n",
              "    </tr>\n",
              "    <tr>\n",
              "      <th>LDAPS_CC4</th>\n",
              "      <td>0.005005</td>\n",
              "      <td>-0.143069</td>\n",
              "      <td>-0.046694</td>\n",
              "      <td>0.513937</td>\n",
              "      <td>0.127242</td>\n",
              "      <td>-0.429739</td>\n",
              "      <td>-0.079536</td>\n",
              "      <td>0.218870</td>\n",
              "      <td>-0.173156</td>\n",
              "      <td>0.362670</td>\n",
              "      <td>0.527333</td>\n",
              "      <td>0.794463</td>\n",
              "      <td>1.000000</td>\n",
              "      <td>0.115968</td>\n",
              "      <td>0.286266</td>\n",
              "      <td>0.265709</td>\n",
              "      <td>0.380597</td>\n",
              "      <td>-0.010612</td>\n",
              "      <td>-0.004456</td>\n",
              "      <td>-0.010240</td>\n",
              "      <td>-0.017891</td>\n",
              "      <td>0.114268</td>\n",
              "      <td>-0.454039</td>\n",
              "      <td>-0.086197</td>\n",
              "      <td>-0.045979</td>\n",
              "      <td>-0.015400</td>\n",
              "      <td>0.100955</td>\n",
              "    </tr>\n",
              "    <tr>\n",
              "      <th>LDAPS_PPT1</th>\n",
              "      <td>-0.001954</td>\n",
              "      <td>-0.114917</td>\n",
              "      <td>0.111577</td>\n",
              "      <td>0.259039</td>\n",
              "      <td>0.268019</td>\n",
              "      <td>-0.115659</td>\n",
              "      <td>0.034956</td>\n",
              "      <td>0.141503</td>\n",
              "      <td>-0.018708</td>\n",
              "      <td>0.446930</td>\n",
              "      <td>0.304442</td>\n",
              "      <td>0.154952</td>\n",
              "      <td>0.115968</td>\n",
              "      <td>1.000000</td>\n",
              "      <td>0.367922</td>\n",
              "      <td>0.012847</td>\n",
              "      <td>0.004377</td>\n",
              "      <td>-0.005841</td>\n",
              "      <td>-0.004375</td>\n",
              "      <td>0.005412</td>\n",
              "      <td>0.010340</td>\n",
              "      <td>0.084804</td>\n",
              "      <td>-0.125954</td>\n",
              "      <td>0.018031</td>\n",
              "      <td>-0.017848</td>\n",
              "      <td>-0.027250</td>\n",
              "      <td>-0.092286</td>\n",
              "    </tr>\n",
              "    <tr>\n",
              "      <th>LDAPS_PPT2</th>\n",
              "      <td>-0.007635</td>\n",
              "      <td>-0.104779</td>\n",
              "      <td>0.066207</td>\n",
              "      <td>0.389572</td>\n",
              "      <td>0.227581</td>\n",
              "      <td>-0.248369</td>\n",
              "      <td>-0.002743</td>\n",
              "      <td>0.181634</td>\n",
              "      <td>-0.084375</td>\n",
              "      <td>0.389368</td>\n",
              "      <td>0.479511</td>\n",
              "      <td>0.336254</td>\n",
              "      <td>0.286266</td>\n",
              "      <td>0.367922</td>\n",
              "      <td>1.000000</td>\n",
              "      <td>0.205285</td>\n",
              "      <td>0.121937</td>\n",
              "      <td>0.015198</td>\n",
              "      <td>0.016958</td>\n",
              "      <td>0.002411</td>\n",
              "      <td>0.003703</td>\n",
              "      <td>0.107620</td>\n",
              "      <td>-0.186722</td>\n",
              "      <td>-0.012462</td>\n",
              "      <td>0.001721</td>\n",
              "      <td>-0.042465</td>\n",
              "      <td>-0.045969</td>\n",
              "    </tr>\n",
              "    <tr>\n",
              "      <th>LDAPS_PPT3</th>\n",
              "      <td>-0.013865</td>\n",
              "      <td>-0.127248</td>\n",
              "      <td>-0.052428</td>\n",
              "      <td>0.237512</td>\n",
              "      <td>0.132436</td>\n",
              "      <td>-0.193749</td>\n",
              "      <td>-0.093116</td>\n",
              "      <td>0.147199</td>\n",
              "      <td>0.009495</td>\n",
              "      <td>0.166763</td>\n",
              "      <td>0.238179</td>\n",
              "      <td>0.337346</td>\n",
              "      <td>0.265709</td>\n",
              "      <td>0.012847</td>\n",
              "      <td>0.205285</td>\n",
              "      <td>1.000000</td>\n",
              "      <td>0.288093</td>\n",
              "      <td>0.031822</td>\n",
              "      <td>0.018094</td>\n",
              "      <td>0.011345</td>\n",
              "      <td>0.018372</td>\n",
              "      <td>-0.057430</td>\n",
              "      <td>-0.203554</td>\n",
              "      <td>-0.068664</td>\n",
              "      <td>-0.004777</td>\n",
              "      <td>0.036346</td>\n",
              "      <td>0.046074</td>\n",
              "    </tr>\n",
              "    <tr>\n",
              "      <th>LDAPS_PPT4</th>\n",
              "      <td>-0.011085</td>\n",
              "      <td>-0.107295</td>\n",
              "      <td>-0.070391</td>\n",
              "      <td>0.167311</td>\n",
              "      <td>0.118101</td>\n",
              "      <td>-0.170415</td>\n",
              "      <td>-0.103541</td>\n",
              "      <td>0.134428</td>\n",
              "      <td>0.012372</td>\n",
              "      <td>0.088897</td>\n",
              "      <td>0.157194</td>\n",
              "      <td>0.303787</td>\n",
              "      <td>0.380597</td>\n",
              "      <td>0.004377</td>\n",
              "      <td>0.121937</td>\n",
              "      <td>0.288093</td>\n",
              "      <td>1.000000</td>\n",
              "      <td>0.008178</td>\n",
              "      <td>0.041095</td>\n",
              "      <td>-0.009830</td>\n",
              "      <td>-0.008689</td>\n",
              "      <td>0.033249</td>\n",
              "      <td>-0.190720</td>\n",
              "      <td>-0.114900</td>\n",
              "      <td>-0.020047</td>\n",
              "      <td>-0.071611</td>\n",
              "      <td>0.036118</td>\n",
              "    </tr>\n",
              "    <tr>\n",
              "      <th>lat</th>\n",
              "      <td>-0.239118</td>\n",
              "      <td>-0.054134</td>\n",
              "      <td>-0.081417</td>\n",
              "      <td>0.085027</td>\n",
              "      <td>0.194820</td>\n",
              "      <td>-0.044052</td>\n",
              "      <td>-0.099452</td>\n",
              "      <td>0.033025</td>\n",
              "      <td>0.133309</td>\n",
              "      <td>-0.010268</td>\n",
              "      <td>-0.002642</td>\n",
              "      <td>0.003827</td>\n",
              "      <td>-0.010612</td>\n",
              "      <td>-0.005841</td>\n",
              "      <td>0.015198</td>\n",
              "      <td>0.031822</td>\n",
              "      <td>0.008178</td>\n",
              "      <td>1.000000</td>\n",
              "      <td>0.289999</td>\n",
              "      <td>0.029344</td>\n",
              "      <td>0.071446</td>\n",
              "      <td>0.036514</td>\n",
              "      <td>-0.055367</td>\n",
              "      <td>-0.085136</td>\n",
              "      <td>0.000872</td>\n",
              "      <td>0.000119</td>\n",
              "      <td>0.002063</td>\n",
              "    </tr>\n",
              "    <tr>\n",
              "      <th>lon</th>\n",
              "      <td>-0.118845</td>\n",
              "      <td>0.007695</td>\n",
              "      <td>-0.045174</td>\n",
              "      <td>-0.077590</td>\n",
              "      <td>0.025563</td>\n",
              "      <td>0.091568</td>\n",
              "      <td>-0.024703</td>\n",
              "      <td>-0.063009</td>\n",
              "      <td>0.024476</td>\n",
              "      <td>-0.007962</td>\n",
              "      <td>-0.004757</td>\n",
              "      <td>0.013948</td>\n",
              "      <td>-0.004456</td>\n",
              "      <td>-0.004375</td>\n",
              "      <td>0.016958</td>\n",
              "      <td>0.018094</td>\n",
              "      <td>0.041095</td>\n",
              "      <td>0.289999</td>\n",
              "      <td>1.000000</td>\n",
              "      <td>0.006685</td>\n",
              "      <td>0.037616</td>\n",
              "      <td>0.005178</td>\n",
              "      <td>0.003502</td>\n",
              "      <td>-0.045758</td>\n",
              "      <td>-0.002000</td>\n",
              "      <td>-0.002992</td>\n",
              "      <td>-0.003665</td>\n",
              "    </tr>\n",
              "    <tr>\n",
              "      <th>DEM</th>\n",
              "      <td>-0.256706</td>\n",
              "      <td>-0.189439</td>\n",
              "      <td>-0.254084</td>\n",
              "      <td>0.100684</td>\n",
              "      <td>0.176557</td>\n",
              "      <td>-0.181433</td>\n",
              "      <td>-0.198396</td>\n",
              "      <td>0.188540</td>\n",
              "      <td>0.056362</td>\n",
              "      <td>-0.017378</td>\n",
              "      <td>-0.016249</td>\n",
              "      <td>-0.001249</td>\n",
              "      <td>-0.010240</td>\n",
              "      <td>0.005412</td>\n",
              "      <td>0.002411</td>\n",
              "      <td>0.011345</td>\n",
              "      <td>-0.009830</td>\n",
              "      <td>0.029344</td>\n",
              "      <td>0.006685</td>\n",
              "      <td>1.000000</td>\n",
              "      <td>0.784179</td>\n",
              "      <td>0.053241</td>\n",
              "      <td>-0.174578</td>\n",
              "      <td>-0.249303</td>\n",
              "      <td>0.000971</td>\n",
              "      <td>0.000389</td>\n",
              "      <td>0.002375</td>\n",
              "    </tr>\n",
              "    <tr>\n",
              "      <th>Slope</th>\n",
              "      <td>-0.091721</td>\n",
              "      <td>-0.107079</td>\n",
              "      <td>-0.148423</td>\n",
              "      <td>0.122454</td>\n",
              "      <td>0.219436</td>\n",
              "      <td>-0.163891</td>\n",
              "      <td>-0.187864</td>\n",
              "      <td>0.169223</td>\n",
              "      <td>0.087517</td>\n",
              "      <td>-0.023893</td>\n",
              "      <td>-0.021173</td>\n",
              "      <td>-0.005903</td>\n",
              "      <td>-0.017891</td>\n",
              "      <td>0.010340</td>\n",
              "      <td>0.003703</td>\n",
              "      <td>0.018372</td>\n",
              "      <td>-0.008689</td>\n",
              "      <td>0.071446</td>\n",
              "      <td>0.037616</td>\n",
              "      <td>0.784179</td>\n",
              "      <td>1.000000</td>\n",
              "      <td>0.025517</td>\n",
              "      <td>-0.104279</td>\n",
              "      <td>-0.148379</td>\n",
              "      <td>0.000438</td>\n",
              "      <td>0.001180</td>\n",
              "      <td>0.000287</td>\n",
              "    </tr>\n",
              "    <tr>\n",
              "      <th>Solar radiation</th>\n",
              "      <td>-0.021194</td>\n",
              "      <td>-0.022114</td>\n",
              "      <td>0.059765</td>\n",
              "      <td>0.242168</td>\n",
              "      <td>0.146622</td>\n",
              "      <td>0.047414</td>\n",
              "      <td>0.157763</td>\n",
              "      <td>0.120630</td>\n",
              "      <td>-0.044956</td>\n",
              "      <td>0.218285</td>\n",
              "      <td>0.169346</td>\n",
              "      <td>0.116691</td>\n",
              "      <td>0.114268</td>\n",
              "      <td>0.084804</td>\n",
              "      <td>0.107620</td>\n",
              "      <td>-0.057430</td>\n",
              "      <td>0.033249</td>\n",
              "      <td>0.036514</td>\n",
              "      <td>0.005178</td>\n",
              "      <td>0.053241</td>\n",
              "      <td>0.025517</td>\n",
              "      <td>1.000000</td>\n",
              "      <td>0.016145</td>\n",
              "      <td>0.125517</td>\n",
              "      <td>-0.421078</td>\n",
              "      <td>-0.307728</td>\n",
              "      <td>-0.006625</td>\n",
              "    </tr>\n",
              "    <tr>\n",
              "      <th>Next_Tmax</th>\n",
              "      <td>0.107747</td>\n",
              "      <td>0.610357</td>\n",
              "      <td>0.463523</td>\n",
              "      <td>-0.446824</td>\n",
              "      <td>-0.289788</td>\n",
              "      <td>0.835729</td>\n",
              "      <td>0.592119</td>\n",
              "      <td>-0.351107</td>\n",
              "      <td>0.156779</td>\n",
              "      <td>-0.459705</td>\n",
              "      <td>-0.498295</td>\n",
              "      <td>-0.523061</td>\n",
              "      <td>-0.454039</td>\n",
              "      <td>-0.125954</td>\n",
              "      <td>-0.186722</td>\n",
              "      <td>-0.203554</td>\n",
              "      <td>-0.190720</td>\n",
              "      <td>-0.055367</td>\n",
              "      <td>0.003502</td>\n",
              "      <td>-0.174578</td>\n",
              "      <td>-0.104279</td>\n",
              "      <td>0.016145</td>\n",
              "      <td>1.000000</td>\n",
              "      <td>0.616629</td>\n",
              "      <td>-0.122303</td>\n",
              "      <td>-0.033684</td>\n",
              "      <td>0.061211</td>\n",
              "    </tr>\n",
              "    <tr>\n",
              "      <th>Next_Tmin</th>\n",
              "      <td>0.128184</td>\n",
              "      <td>0.621048</td>\n",
              "      <td>0.796975</td>\n",
              "      <td>0.093249</td>\n",
              "      <td>-0.076415</td>\n",
              "      <td>0.589963</td>\n",
              "      <td>0.886513</td>\n",
              "      <td>-0.102021</td>\n",
              "      <td>-0.060392</td>\n",
              "      <td>-0.012877</td>\n",
              "      <td>0.030358</td>\n",
              "      <td>-0.056490</td>\n",
              "      <td>-0.086197</td>\n",
              "      <td>0.018031</td>\n",
              "      <td>-0.012462</td>\n",
              "      <td>-0.068664</td>\n",
              "      <td>-0.114900</td>\n",
              "      <td>-0.085136</td>\n",
              "      <td>-0.045758</td>\n",
              "      <td>-0.249303</td>\n",
              "      <td>-0.148379</td>\n",
              "      <td>0.125517</td>\n",
              "      <td>0.616629</td>\n",
              "      <td>1.000000</td>\n",
              "      <td>-0.135865</td>\n",
              "      <td>-0.028344</td>\n",
              "      <td>0.021617</td>\n",
              "    </tr>\n",
              "    <tr>\n",
              "      <th>Day</th>\n",
              "      <td>-0.000996</td>\n",
              "      <td>-0.154366</td>\n",
              "      <td>-0.115693</td>\n",
              "      <td>-0.063464</td>\n",
              "      <td>-0.012226</td>\n",
              "      <td>-0.161320</td>\n",
              "      <td>-0.176772</td>\n",
              "      <td>-0.028312</td>\n",
              "      <td>-0.010504</td>\n",
              "      <td>-0.018974</td>\n",
              "      <td>0.004819</td>\n",
              "      <td>-0.053885</td>\n",
              "      <td>-0.045979</td>\n",
              "      <td>-0.017848</td>\n",
              "      <td>0.001721</td>\n",
              "      <td>-0.004777</td>\n",
              "      <td>-0.020047</td>\n",
              "      <td>0.000872</td>\n",
              "      <td>-0.002000</td>\n",
              "      <td>0.000971</td>\n",
              "      <td>0.000438</td>\n",
              "      <td>-0.421078</td>\n",
              "      <td>-0.122303</td>\n",
              "      <td>-0.135865</td>\n",
              "      <td>1.000000</td>\n",
              "      <td>0.168996</td>\n",
              "      <td>-0.014129</td>\n",
              "    </tr>\n",
              "    <tr>\n",
              "      <th>Month</th>\n",
              "      <td>0.001211</td>\n",
              "      <td>-0.003266</td>\n",
              "      <td>-0.010210</td>\n",
              "      <td>-0.053499</td>\n",
              "      <td>-0.039424</td>\n",
              "      <td>-0.022279</td>\n",
              "      <td>-0.027050</td>\n",
              "      <td>-0.082267</td>\n",
              "      <td>-0.024944</td>\n",
              "      <td>-0.076819</td>\n",
              "      <td>-0.091161</td>\n",
              "      <td>-0.035796</td>\n",
              "      <td>-0.015400</td>\n",
              "      <td>-0.027250</td>\n",
              "      <td>-0.042465</td>\n",
              "      <td>0.036346</td>\n",
              "      <td>-0.071611</td>\n",
              "      <td>0.000119</td>\n",
              "      <td>-0.002992</td>\n",
              "      <td>0.000389</td>\n",
              "      <td>0.001180</td>\n",
              "      <td>-0.307728</td>\n",
              "      <td>-0.033684</td>\n",
              "      <td>-0.028344</td>\n",
              "      <td>0.168996</td>\n",
              "      <td>1.000000</td>\n",
              "      <td>0.006136</td>\n",
              "    </tr>\n",
              "    <tr>\n",
              "      <th>Year</th>\n",
              "      <td>0.001474</td>\n",
              "      <td>0.056002</td>\n",
              "      <td>0.037457</td>\n",
              "      <td>-0.002147</td>\n",
              "      <td>-0.144286</td>\n",
              "      <td>0.020308</td>\n",
              "      <td>-0.000564</td>\n",
              "      <td>-0.114114</td>\n",
              "      <td>0.055898</td>\n",
              "      <td>-0.066233</td>\n",
              "      <td>-0.045027</td>\n",
              "      <td>0.108500</td>\n",
              "      <td>0.100955</td>\n",
              "      <td>-0.092286</td>\n",
              "      <td>-0.045969</td>\n",
              "      <td>0.046074</td>\n",
              "      <td>0.036118</td>\n",
              "      <td>0.002063</td>\n",
              "      <td>-0.003665</td>\n",
              "      <td>0.002375</td>\n",
              "      <td>0.000287</td>\n",
              "      <td>-0.006625</td>\n",
              "      <td>0.061211</td>\n",
              "      <td>0.021617</td>\n",
              "      <td>-0.014129</td>\n",
              "      <td>0.006136</td>\n",
              "      <td>1.000000</td>\n",
              "    </tr>\n",
              "  </tbody>\n",
              "</table>\n",
              "</div>"
            ],
            "text/plain": [
              "                   station  Present_Tmax  Present_Tmin  LDAPS_RHmin  \\\n",
              "station           1.000000      0.113301      0.133282    -0.067846   \n",
              "Present_Tmax      0.113301      1.000000      0.615208    -0.209059   \n",
              "Present_Tmin      0.133282      0.615208      1.000000     0.122200   \n",
              "LDAPS_RHmin      -0.067846     -0.209059      0.122200     1.000000   \n",
              "LDAPS_RHmax      -0.169351     -0.306943     -0.018576     0.578358   \n",
              "LDAPS_Tmax_lapse  0.069856      0.573777      0.467904    -0.569580   \n",
              "LDAPS_Tmin_lapse  0.105277      0.628705      0.772061     0.085237   \n",
              "LDAPS_WS          0.005822     -0.125952     -0.038779     0.289422   \n",
              "LDAPS_LH         -0.132129      0.134246     -0.012817    -0.072195   \n",
              "LDAPS_CC1         0.006539     -0.316333      0.084348     0.612831   \n",
              "LDAPS_CC2         0.003526     -0.216976      0.090038     0.744774   \n",
              "LDAPS_CC3        -0.000161     -0.146391     -0.004719     0.688069   \n",
              "LDAPS_CC4         0.005005     -0.143069     -0.046694     0.513937   \n",
              "LDAPS_PPT1       -0.001954     -0.114917      0.111577     0.259039   \n",
              "LDAPS_PPT2       -0.007635     -0.104779      0.066207     0.389572   \n",
              "LDAPS_PPT3       -0.013865     -0.127248     -0.052428     0.237512   \n",
              "LDAPS_PPT4       -0.011085     -0.107295     -0.070391     0.167311   \n",
              "lat              -0.239118     -0.054134     -0.081417     0.085027   \n",
              "lon              -0.118845      0.007695     -0.045174    -0.077590   \n",
              "DEM              -0.256706     -0.189439     -0.254084     0.100684   \n",
              "Slope            -0.091721     -0.107079     -0.148423     0.122454   \n",
              "Solar radiation  -0.021194     -0.022114      0.059765     0.242168   \n",
              "Next_Tmax         0.107747      0.610357      0.463523    -0.446824   \n",
              "Next_Tmin         0.128184      0.621048      0.796975     0.093249   \n",
              "Day              -0.000996     -0.154366     -0.115693    -0.063464   \n",
              "Month             0.001211     -0.003266     -0.010210    -0.053499   \n",
              "Year              0.001474      0.056002      0.037457    -0.002147   \n",
              "\n",
              "                  LDAPS_RHmax  LDAPS_Tmax_lapse  LDAPS_Tmin_lapse  LDAPS_WS  \\\n",
              "station             -0.169351          0.069856          0.105277  0.005822   \n",
              "Present_Tmax        -0.306943          0.573777          0.628705 -0.125952   \n",
              "Present_Tmin        -0.018576          0.467904          0.772061 -0.038779   \n",
              "LDAPS_RHmin          0.578358         -0.569580          0.085237  0.289422   \n",
              "LDAPS_RHmax          1.000000         -0.377293         -0.118965  0.131269   \n",
              "LDAPS_Tmax_lapse    -0.377293          1.000000          0.653425 -0.316011   \n",
              "LDAPS_Tmin_lapse    -0.118965          0.653425          1.000000 -0.134652   \n",
              "LDAPS_WS             0.131269         -0.316011         -0.134652  1.000000   \n",
              "LDAPS_LH             0.238986          0.043663         -0.139675  0.004427   \n",
              "LDAPS_CC1            0.435937         -0.440878          0.008714  0.285349   \n",
              "LDAPS_CC2            0.390620         -0.525380          0.046537  0.257226   \n",
              "LDAPS_CC3            0.224734         -0.542728         -0.044998  0.238155   \n",
              "LDAPS_CC4            0.127242         -0.429739         -0.079536  0.218870   \n",
              "LDAPS_PPT1           0.268019         -0.115659          0.034956  0.141503   \n",
              "LDAPS_PPT2           0.227581         -0.248369         -0.002743  0.181634   \n",
              "LDAPS_PPT3           0.132436         -0.193749         -0.093116  0.147199   \n",
              "LDAPS_PPT4           0.118101         -0.170415         -0.103541  0.134428   \n",
              "lat                  0.194820         -0.044052         -0.099452  0.033025   \n",
              "lon                  0.025563          0.091568         -0.024703 -0.063009   \n",
              "DEM                  0.176557         -0.181433         -0.198396  0.188540   \n",
              "Slope                0.219436         -0.163891         -0.187864  0.169223   \n",
              "Solar radiation      0.146622          0.047414          0.157763  0.120630   \n",
              "Next_Tmax           -0.289788          0.835729          0.592119 -0.351107   \n",
              "Next_Tmin           -0.076415          0.589963          0.886513 -0.102021   \n",
              "Day                 -0.012226         -0.161320         -0.176772 -0.028312   \n",
              "Month               -0.039424         -0.022279         -0.027050 -0.082267   \n",
              "Year                -0.144286          0.020308         -0.000564 -0.114114   \n",
              "\n",
              "                  LDAPS_LH  LDAPS_CC1  LDAPS_CC2  LDAPS_CC3  LDAPS_CC4  \\\n",
              "station          -0.132129   0.006539   0.003526  -0.000161   0.005005   \n",
              "Present_Tmax      0.134246  -0.316333  -0.216976  -0.146391  -0.143069   \n",
              "Present_Tmin     -0.012817   0.084348   0.090038  -0.004719  -0.046694   \n",
              "LDAPS_RHmin      -0.072195   0.612831   0.744774   0.688069   0.513937   \n",
              "LDAPS_RHmax       0.238986   0.435937   0.390620   0.224734   0.127242   \n",
              "LDAPS_Tmax_lapse  0.043663  -0.440878  -0.525380  -0.542728  -0.429739   \n",
              "LDAPS_Tmin_lapse -0.139675   0.008714   0.046537  -0.044998  -0.079536   \n",
              "LDAPS_WS          0.004427   0.285349   0.257226   0.238155   0.218870   \n",
              "LDAPS_LH          1.000000  -0.148314  -0.265382  -0.246709  -0.173156   \n",
              "LDAPS_CC1        -0.148314   1.000000   0.779510   0.516698   0.362670   \n",
              "LDAPS_CC2        -0.265382   0.779510   1.000000   0.724546   0.527333   \n",
              "LDAPS_CC3        -0.246709   0.516698   0.724546   1.000000   0.794463   \n",
              "LDAPS_CC4        -0.173156   0.362670   0.527333   0.794463   1.000000   \n",
              "LDAPS_PPT1       -0.018708   0.446930   0.304442   0.154952   0.115968   \n",
              "LDAPS_PPT2       -0.084375   0.389368   0.479511   0.336254   0.286266   \n",
              "LDAPS_PPT3        0.009495   0.166763   0.238179   0.337346   0.265709   \n",
              "LDAPS_PPT4        0.012372   0.088897   0.157194   0.303787   0.380597   \n",
              "lat               0.133309  -0.010268  -0.002642   0.003827  -0.010612   \n",
              "lon               0.024476  -0.007962  -0.004757   0.013948  -0.004456   \n",
              "DEM               0.056362  -0.017378  -0.016249  -0.001249  -0.010240   \n",
              "Slope             0.087517  -0.023893  -0.021173  -0.005903  -0.017891   \n",
              "Solar radiation  -0.044956   0.218285   0.169346   0.116691   0.114268   \n",
              "Next_Tmax         0.156779  -0.459705  -0.498295  -0.523061  -0.454039   \n",
              "Next_Tmin        -0.060392  -0.012877   0.030358  -0.056490  -0.086197   \n",
              "Day              -0.010504  -0.018974   0.004819  -0.053885  -0.045979   \n",
              "Month            -0.024944  -0.076819  -0.091161  -0.035796  -0.015400   \n",
              "Year              0.055898  -0.066233  -0.045027   0.108500   0.100955   \n",
              "\n",
              "                  LDAPS_PPT1  LDAPS_PPT2  LDAPS_PPT3  LDAPS_PPT4       lat  \\\n",
              "station            -0.001954   -0.007635   -0.013865   -0.011085 -0.239118   \n",
              "Present_Tmax       -0.114917   -0.104779   -0.127248   -0.107295 -0.054134   \n",
              "Present_Tmin        0.111577    0.066207   -0.052428   -0.070391 -0.081417   \n",
              "LDAPS_RHmin         0.259039    0.389572    0.237512    0.167311  0.085027   \n",
              "LDAPS_RHmax         0.268019    0.227581    0.132436    0.118101  0.194820   \n",
              "LDAPS_Tmax_lapse   -0.115659   -0.248369   -0.193749   -0.170415 -0.044052   \n",
              "LDAPS_Tmin_lapse    0.034956   -0.002743   -0.093116   -0.103541 -0.099452   \n",
              "LDAPS_WS            0.141503    0.181634    0.147199    0.134428  0.033025   \n",
              "LDAPS_LH           -0.018708   -0.084375    0.009495    0.012372  0.133309   \n",
              "LDAPS_CC1           0.446930    0.389368    0.166763    0.088897 -0.010268   \n",
              "LDAPS_CC2           0.304442    0.479511    0.238179    0.157194 -0.002642   \n",
              "LDAPS_CC3           0.154952    0.336254    0.337346    0.303787  0.003827   \n",
              "LDAPS_CC4           0.115968    0.286266    0.265709    0.380597 -0.010612   \n",
              "LDAPS_PPT1          1.000000    0.367922    0.012847    0.004377 -0.005841   \n",
              "LDAPS_PPT2          0.367922    1.000000    0.205285    0.121937  0.015198   \n",
              "LDAPS_PPT3          0.012847    0.205285    1.000000    0.288093  0.031822   \n",
              "LDAPS_PPT4          0.004377    0.121937    0.288093    1.000000  0.008178   \n",
              "lat                -0.005841    0.015198    0.031822    0.008178  1.000000   \n",
              "lon                -0.004375    0.016958    0.018094    0.041095  0.289999   \n",
              "DEM                 0.005412    0.002411    0.011345   -0.009830  0.029344   \n",
              "Slope               0.010340    0.003703    0.018372   -0.008689  0.071446   \n",
              "Solar radiation     0.084804    0.107620   -0.057430    0.033249  0.036514   \n",
              "Next_Tmax          -0.125954   -0.186722   -0.203554   -0.190720 -0.055367   \n",
              "Next_Tmin           0.018031   -0.012462   -0.068664   -0.114900 -0.085136   \n",
              "Day                -0.017848    0.001721   -0.004777   -0.020047  0.000872   \n",
              "Month              -0.027250   -0.042465    0.036346   -0.071611  0.000119   \n",
              "Year               -0.092286   -0.045969    0.046074    0.036118  0.002063   \n",
              "\n",
              "                       lon       DEM     Slope  Solar radiation  Next_Tmax  \\\n",
              "station          -0.118845 -0.256706 -0.091721        -0.021194   0.107747   \n",
              "Present_Tmax      0.007695 -0.189439 -0.107079        -0.022114   0.610357   \n",
              "Present_Tmin     -0.045174 -0.254084 -0.148423         0.059765   0.463523   \n",
              "LDAPS_RHmin      -0.077590  0.100684  0.122454         0.242168  -0.446824   \n",
              "LDAPS_RHmax       0.025563  0.176557  0.219436         0.146622  -0.289788   \n",
              "LDAPS_Tmax_lapse  0.091568 -0.181433 -0.163891         0.047414   0.835729   \n",
              "LDAPS_Tmin_lapse -0.024703 -0.198396 -0.187864         0.157763   0.592119   \n",
              "LDAPS_WS         -0.063009  0.188540  0.169223         0.120630  -0.351107   \n",
              "LDAPS_LH          0.024476  0.056362  0.087517        -0.044956   0.156779   \n",
              "LDAPS_CC1        -0.007962 -0.017378 -0.023893         0.218285  -0.459705   \n",
              "LDAPS_CC2        -0.004757 -0.016249 -0.021173         0.169346  -0.498295   \n",
              "LDAPS_CC3         0.013948 -0.001249 -0.005903         0.116691  -0.523061   \n",
              "LDAPS_CC4        -0.004456 -0.010240 -0.017891         0.114268  -0.454039   \n",
              "LDAPS_PPT1       -0.004375  0.005412  0.010340         0.084804  -0.125954   \n",
              "LDAPS_PPT2        0.016958  0.002411  0.003703         0.107620  -0.186722   \n",
              "LDAPS_PPT3        0.018094  0.011345  0.018372        -0.057430  -0.203554   \n",
              "LDAPS_PPT4        0.041095 -0.009830 -0.008689         0.033249  -0.190720   \n",
              "lat               0.289999  0.029344  0.071446         0.036514  -0.055367   \n",
              "lon               1.000000  0.006685  0.037616         0.005178   0.003502   \n",
              "DEM               0.006685  1.000000  0.784179         0.053241  -0.174578   \n",
              "Slope             0.037616  0.784179  1.000000         0.025517  -0.104279   \n",
              "Solar radiation   0.005178  0.053241  0.025517         1.000000   0.016145   \n",
              "Next_Tmax         0.003502 -0.174578 -0.104279         0.016145   1.000000   \n",
              "Next_Tmin        -0.045758 -0.249303 -0.148379         0.125517   0.616629   \n",
              "Day              -0.002000  0.000971  0.000438        -0.421078  -0.122303   \n",
              "Month            -0.002992  0.000389  0.001180        -0.307728  -0.033684   \n",
              "Year             -0.003665  0.002375  0.000287        -0.006625   0.061211   \n",
              "\n",
              "                  Next_Tmin       Day     Month      Year  \n",
              "station            0.128184 -0.000996  0.001211  0.001474  \n",
              "Present_Tmax       0.621048 -0.154366 -0.003266  0.056002  \n",
              "Present_Tmin       0.796975 -0.115693 -0.010210  0.037457  \n",
              "LDAPS_RHmin        0.093249 -0.063464 -0.053499 -0.002147  \n",
              "LDAPS_RHmax       -0.076415 -0.012226 -0.039424 -0.144286  \n",
              "LDAPS_Tmax_lapse   0.589963 -0.161320 -0.022279  0.020308  \n",
              "LDAPS_Tmin_lapse   0.886513 -0.176772 -0.027050 -0.000564  \n",
              "LDAPS_WS          -0.102021 -0.028312 -0.082267 -0.114114  \n",
              "LDAPS_LH          -0.060392 -0.010504 -0.024944  0.055898  \n",
              "LDAPS_CC1         -0.012877 -0.018974 -0.076819 -0.066233  \n",
              "LDAPS_CC2          0.030358  0.004819 -0.091161 -0.045027  \n",
              "LDAPS_CC3         -0.056490 -0.053885 -0.035796  0.108500  \n",
              "LDAPS_CC4         -0.086197 -0.045979 -0.015400  0.100955  \n",
              "LDAPS_PPT1         0.018031 -0.017848 -0.027250 -0.092286  \n",
              "LDAPS_PPT2        -0.012462  0.001721 -0.042465 -0.045969  \n",
              "LDAPS_PPT3        -0.068664 -0.004777  0.036346  0.046074  \n",
              "LDAPS_PPT4        -0.114900 -0.020047 -0.071611  0.036118  \n",
              "lat               -0.085136  0.000872  0.000119  0.002063  \n",
              "lon               -0.045758 -0.002000 -0.002992 -0.003665  \n",
              "DEM               -0.249303  0.000971  0.000389  0.002375  \n",
              "Slope             -0.148379  0.000438  0.001180  0.000287  \n",
              "Solar radiation    0.125517 -0.421078 -0.307728 -0.006625  \n",
              "Next_Tmax          0.616629 -0.122303 -0.033684  0.061211  \n",
              "Next_Tmin          1.000000 -0.135865 -0.028344  0.021617  \n",
              "Day               -0.135865  1.000000  0.168996 -0.014129  \n",
              "Month             -0.028344  0.168996  1.000000  0.006136  \n",
              "Year               0.021617 -0.014129  0.006136  1.000000  "
            ]
          },
          "execution_count": 40,
          "metadata": {},
          "output_type": "execute_result"
        }
      ],
      "source": [
        "df.corr() #Correlation matrix"
      ]
    },
    {
      "cell_type": "code",
      "execution_count": null,
      "id": "08ac4387",
      "metadata": {
        "id": "08ac4387",
        "outputId": "4a193349-8604-4e81-d627-3b7ac204e083"
      },
      "outputs": [
        {
          "data": {
            "image/png": "[encoded data removed]",
            "text/plain": [
              "<Figure size 1440x1440 with 2 Axes>"
            ]
          },
          "metadata": {
            "needs_background": "light"
          },
          "output_type": "display_data"
        }
      ],
      "source": [
        "#Visualization for correlation matrix\n",
        "plt.figure(figsize=(20,20))\n",
        "sns.heatmap(df.corr(),annot=True)\n",
        "plt.show()"
      ]
    },
    {
      "cell_type": "code",
      "execution_count": null,
      "id": "2702f8d6",
      "metadata": {
        "id": "2702f8d6",
        "outputId": "9a0ca84b-9190-4ca3-e306-ad40dc03f118"
      },
      "outputs": [
        {
          "data": {
            "text/plain": [
              "LDAPS_CC3          -0.523061\n",
              "LDAPS_CC2          -0.498295\n",
              "LDAPS_CC1          -0.459705\n",
              "LDAPS_CC4          -0.454039\n",
              "LDAPS_RHmin        -0.446824\n",
              "LDAPS_WS           -0.351107\n",
              "LDAPS_RHmax        -0.289788\n",
              "LDAPS_PPT3         -0.203554\n",
              "LDAPS_PPT4         -0.190720\n",
              "LDAPS_PPT2         -0.186722\n",
              "DEM                -0.174578\n",
              "LDAPS_PPT1         -0.125954\n",
              "Day                -0.122303\n",
              "Slope              -0.104279\n",
              "lat                -0.055367\n",
              "Month              -0.033684\n",
              "lon                 0.003502\n",
              "Solar radiation     0.016145\n",
              "Year                0.061211\n",
              "station             0.107747\n",
              "LDAPS_LH            0.156779\n",
              "Present_Tmin        0.463523\n",
              "LDAPS_Tmin_lapse    0.592119\n",
              "Present_Tmax        0.610357\n",
              "Next_Tmin           0.616629\n",
              "LDAPS_Tmax_lapse    0.835729\n",
              "Next_Tmax           1.000000\n",
              "Name: Next_Tmax, dtype: float64"
            ]
          },
          "execution_count": 42,
          "metadata": {},
          "output_type": "execute_result"
        }
      ],
      "source": [
        "#Correlation wrt target column 'Next_Tmax'\n",
        "df.corr()['Next_Tmax'].sort_values()"
      ]
    },
    {
      "cell_type": "markdown",
      "id": "7590d531",
      "metadata": {
        "id": "7590d531"
      },
      "source": [
        "The correlation looks proper with 'LDAPS_Tmax_lapse' having the maximum correlation"
      ]
    },
    {
      "cell_type": "code",
      "execution_count": null,
      "id": "a481b2dc",
      "metadata": {
        "id": "a481b2dc",
        "outputId": "aeee9ece-e40c-43bb-870b-1d70efce8a8d"
      },
      "outputs": [
        {
          "data": {
            "text/plain": [
              "DEM                -0.249303\n",
              "Slope              -0.148379\n",
              "Day                -0.135865\n",
              "LDAPS_PPT4         -0.114900\n",
              "LDAPS_WS           -0.102021\n",
              "LDAPS_CC4          -0.086197\n",
              "lat                -0.085136\n",
              "LDAPS_RHmax        -0.076415\n",
              "LDAPS_PPT3         -0.068664\n",
              "LDAPS_LH           -0.060392\n",
              "LDAPS_CC3          -0.056490\n",
              "lon                -0.045758\n",
              "Month              -0.028344\n",
              "LDAPS_CC1          -0.012877\n",
              "LDAPS_PPT2         -0.012462\n",
              "LDAPS_PPT1          0.018031\n",
              "Year                0.021617\n",
              "LDAPS_CC2           0.030358\n",
              "LDAPS_RHmin         0.093249\n",
              "Solar radiation     0.125517\n",
              "station             0.128184\n",
              "LDAPS_Tmax_lapse    0.589963\n",
              "Next_Tmax           0.616629\n",
              "Present_Tmax        0.621048\n",
              "Present_Tmin        0.796975\n",
              "LDAPS_Tmin_lapse    0.886513\n",
              "Next_Tmin           1.000000\n",
              "Name: Next_Tmin, dtype: float64"
            ]
          },
          "execution_count": 43,
          "metadata": {},
          "output_type": "execute_result"
        }
      ],
      "source": [
        "#Correlation wrt target column 'Next_Tmin'\n",
        "df.corr()['Next_Tmin'].sort_values()"
      ]
    },
    {
      "cell_type": "markdown",
      "id": "9eb6fa67",
      "metadata": {
        "id": "9eb6fa67"
      },
      "source": [
        "The correlation looks proper with 'LDAPS_Tmin_lapse' having the maximum correlation"
      ]
    },
    {
      "cell_type": "markdown",
      "id": "cec24d62",
      "metadata": {
        "id": "cec24d62"
      },
      "source": [
        "# Outliers"
      ]
    },
    {
      "cell_type": "markdown",
      "id": "c7f5389a",
      "metadata": {
        "id": "c7f5389a"
      },
      "source": [
        "We use the zscore method to remove the outliers with a threshold of 3"
      ]
    },
    {
      "cell_type": "code",
      "execution_count": null,
      "id": "ff6e206b",
      "metadata": {
        "id": "ff6e206b"
      },
      "outputs": [],
      "source": [
        "z = np.abs(zscore(df)) #Calculation zscore\n",
        "df_new = df[(z<3).all(axis=1)] #Removing outliers based on zscore threshold"
      ]
    },
    {
      "cell_type": "code",
      "execution_count": null,
      "id": "480d3a75",
      "metadata": {
        "id": "480d3a75",
        "outputId": "718623f4-b039-4a35-e032-88b94b10c38d"
      },
      "outputs": [
        {
          "data": {
            "text/plain": [
              "(6739, 27)"
            ]
          },
          "execution_count": 45,
          "metadata": {},
          "output_type": "execute_result"
        }
      ],
      "source": [
        "df_new.shape"
      ]
    },
    {
      "cell_type": "code",
      "execution_count": null,
      "id": "fd2bc956",
      "metadata": {
        "id": "fd2bc956",
        "outputId": "82c4f6b9-7701-40e4-85d8-7c49dbe366ee"
      },
      "outputs": [
        {
          "name": "stdout",
          "output_type": "stream",
          "text": [
            "Percentage loss of data =\t 11.188719030047443 %\n"
          ]
        }
      ],
      "source": [
        "print('Percentage loss of data =\\t', ((df.shape[0]-df_new.shape[0])/df.shape[0])*100, '%')"
      ]
    },
    {
      "cell_type": "markdown",
      "id": "3114f21a",
      "metadata": {
        "id": "3114f21a"
      },
      "source": [
        "# Skewness"
      ]
    },
    {
      "cell_type": "markdown",
      "id": "16b5e7bc",
      "metadata": {
        "id": "16b5e7bc"
      },
      "source": [
        "Now, we split the data into feature and target columns."
      ]
    },
    {
      "cell_type": "code",
      "execution_count": null,
      "id": "01db7abf",
      "metadata": {
        "id": "01db7abf"
      },
      "outputs": [],
      "source": [
        "x = df_new.drop(columns={'Next_Tmax','Next_Tmin'}) #Independent variables\n",
        "y_big = df_new[{'Next_Tmax','Next_Tmin'}] #Target variables"
      ]
    },
    {
      "cell_type": "markdown",
      "id": "b212f760",
      "metadata": {
        "id": "b212f760"
      },
      "source": [
        "Checking for skewness"
      ]
    },
    {
      "cell_type": "code",
      "execution_count": null,
      "id": "38ee95cb",
      "metadata": {
        "id": "38ee95cb",
        "outputId": "1bd4a590-f00a-410d-ee54-92ae9631c94b"
      },
      "outputs": [
        {
          "data": {
            "text/plain": [
              "station            -0.001594\n",
              "Present_Tmax       -0.269936\n",
              "Present_Tmin       -0.221250\n",
              "LDAPS_RHmin         0.309567\n",
              "LDAPS_RHmax        -0.686083\n",
              "LDAPS_Tmax_lapse   -0.110563\n",
              "LDAPS_Tmin_lapse   -0.379269\n",
              "LDAPS_WS            1.085685\n",
              "LDAPS_LH            0.567050\n",
              "LDAPS_CC1           0.594835\n",
              "LDAPS_CC2           0.505774\n",
              "LDAPS_CC3           0.701288\n",
              "LDAPS_CC4           0.708754\n",
              "LDAPS_PPT1          3.724580\n",
              "LDAPS_PPT2          4.854967\n",
              "LDAPS_PPT3          5.516862\n",
              "LDAPS_PPT4          5.924324\n",
              "lat                 0.106983\n",
              "lon                -0.277547\n",
              "DEM                 1.764698\n",
              "Slope               1.590130\n",
              "Solar radiation    -0.520157\n",
              "Day                 0.256528\n",
              "Month              -0.680725\n",
              "Year                0.025066\n",
              "dtype: float64"
            ]
          },
          "execution_count": 48,
          "metadata": {},
          "output_type": "execute_result"
        }
      ],
      "source": [
        "#Checking skewness value for each column\n",
        "x.skew()"
      ]
    },
    {
      "cell_type": "code",
      "execution_count": null,
      "id": "3867f7b5",
      "metadata": {
        "id": "3867f7b5"
      },
      "outputs": [],
      "source": [
        "#Using power transform to treat skewness\n",
        "x = power_transform(x)"
      ]
    },
    {
      "cell_type": "markdown",
      "id": "d2475976",
      "metadata": {
        "id": "d2475976"
      },
      "source": [
        "# Scaling the data for model"
      ]
    },
    {
      "cell_type": "code",
      "execution_count": null,
      "id": "5704a14f",
      "metadata": {
        "id": "5704a14f"
      },
      "outputs": [],
      "source": [
        "sc=StandardScaler()\n",
        "x = sc.fit_transform(x)"
      ]
    },
    {
      "cell_type": "markdown",
      "id": "23d3b752",
      "metadata": {
        "id": "23d3b752"
      },
      "source": [
        "# 1. 'Next_Tmax' Prediction Model"
      ]
    },
    {
      "cell_type": "code",
      "execution_count": null,
      "id": "9c85886c",
      "metadata": {
        "id": "9c85886c"
      },
      "outputs": [],
      "source": [
        "y = y_big['Next_Tmax']"
      ]
    },
    {
      "cell_type": "markdown",
      "id": "cd5f4b1e",
      "metadata": {
        "id": "cd5f4b1e"
      },
      "source": [
        "## Random State"
      ]
    },
    {
      "cell_type": "code",
      "execution_count": null,
      "id": "33664e93",
      "metadata": {
        "id": "33664e93",
        "outputId": "12f7aec8-f301-48c6-906b-006ca216fe88"
      },
      "outputs": [
        {
          "name": "stdout",
          "output_type": "stream",
          "text": [
            "Max accuracy: \t 0.7910808522157373\n",
            "Random State: \t 84\n"
          ]
        }
      ],
      "source": [
        "maxRS = 0\n",
        "maxAcc = 0\n",
        "for i in range(0,100):\n",
        "    x_train, x_test, y_train, y_test = train_test_split(x, y, test_size=0.20, random_state=i)\n",
        "    lr = LinearRegression()\n",
        "    lr.fit(x_train,y_train)\n",
        "    pred = lr.predict(x_test)\n",
        "    acc = r2_score(y_test, pred)\n",
        "    if acc>maxAcc:\n",
        "        maxAcc = acc\n",
        "        maxRS = i\n",
        "print(\"Max accuracy: \\t\", maxAcc)\n",
        "print(\"Random State: \\t\", maxRS)"
      ]
    },
    {
      "cell_type": "markdown",
      "id": "968e209a",
      "metadata": {
        "id": "968e209a"
      },
      "source": [
        "Now since we got the best random state for data modelling, we create the test train models"
      ]
    },
    {
      "cell_type": "code",
      "execution_count": null,
      "id": "74ab78ee",
      "metadata": {
        "id": "74ab78ee"
      },
      "outputs": [],
      "source": [
        "x_train, x_test, y_train, y_test = train_test_split(x, y, test_size=0.20, random_state=maxRS)"
      ]
    },
    {
      "cell_type": "markdown",
      "id": "994ae343",
      "metadata": {
        "id": "994ae343"
      },
      "source": [
        "## Model Predictions"
      ]
    },
    {
      "cell_type": "markdown",
      "id": "a9475664",
      "metadata": {
        "id": "a9475664"
      },
      "source": [
        "Linear Regression"
      ]
    },
    {
      "cell_type": "code",
      "execution_count": null,
      "id": "dcf95fd5",
      "metadata": {
        "id": "dcf95fd5",
        "outputId": "b0344252-d9b6-4dbc-9f88-8ebfac31cbf3"
      },
      "outputs": [
        {
          "name": "stdout",
          "output_type": "stream",
          "text": [
            "r2 score: \t 79.10808522157373\n",
            "Mean Square Error : \t 1.8656107934260264\n",
            "Root Mean Square Error : \t 1.3658736374299147\n"
          ]
        }
      ],
      "source": [
        "lr = LinearRegression()\n",
        "lr.fit(x_train,y_train)\n",
        "pred = lr.predict(x_test)\n",
        "print(\"r2 score: \\t\", r2_score(y_test,pred)*100)\n",
        "print(\"Mean Square Error : \\t\", mean_squared_error(y_test,pred))\n",
        "print(\"Root Mean Square Error : \\t\", np.sqrt(mean_squared_error(y_test,pred)))"
      ]
    },
    {
      "cell_type": "markdown",
      "id": "dbeb0d6b",
      "metadata": {
        "id": "dbeb0d6b"
      },
      "source": [
        "XGB Regression"
      ]
    },
    {
      "cell_type": "code",
      "execution_count": null,
      "id": "81226c23",
      "metadata": {
        "id": "81226c23",
        "outputId": "8567502c-3d83-4285-e3bf-da7257ab8435"
      },
      "outputs": [
        {
          "name": "stdout",
          "output_type": "stream",
          "text": [
            "r2 score: \t 93.22747124650567\n",
            "Mean Square Error : \t 0.6047747597723483\n",
            "Root Mean Square Error : \t 0.7776726559242959\n"
          ]
        }
      ],
      "source": [
        "xgb = XGBRegressor()\n",
        "xgb.fit(x_train,y_train)\n",
        "pred = xgb.predict(x_test)\n",
        "print(\"r2 score: \\t\", r2_score(y_test,pred)*100)\n",
        "print(\"Mean Square Error : \\t\", mean_squared_error(y_test,pred))\n",
        "print(\"Root Mean Square Error : \\t\", np.sqrt(mean_squared_error(y_test,pred)))"
      ]
    },
    {
      "cell_type": "markdown",
      "id": "89039d4d",
      "metadata": {
        "id": "89039d4d"
      },
      "source": [
        "KNN Regressor"
      ]
    },
    {
      "cell_type": "code",
      "execution_count": null,
      "id": "a939d719",
      "metadata": {
        "id": "a939d719",
        "outputId": "c346a570-783e-473a-c41c-56d65aaf0ba9"
      },
      "outputs": [
        {
          "name": "stdout",
          "output_type": "stream",
          "text": [
            "r2 score: \t 88.6834432684799\n",
            "Mean Square Error : \t 1.0105483679525222\n",
            "Root Mean Square Error : \t 1.0052603483439115\n"
          ]
        }
      ],
      "source": [
        "knn = KNeighborsRegressor()\n",
        "knn.fit(x_train,y_train)\n",
        "pred = knn.predict(x_test)\n",
        "print(\"r2 score: \\t\", r2_score(y_test,pred)*100)\n",
        "print(\"Mean Square Error : \\t\", mean_squared_error(y_test,pred))\n",
        "print(\"Root Mean Square Error : \\t\", np.sqrt(mean_squared_error(y_test,pred)))"
      ]
    },
    {
      "cell_type": "markdown",
      "id": "d3293215",
      "metadata": {
        "id": "d3293215"
      },
      "source": [
        "SUPPORT VECTOR MACHINES"
      ]
    },
    {
      "cell_type": "code",
      "execution_count": null,
      "id": "d75de339",
      "metadata": {
        "id": "d75de339",
        "outputId": "39eadaeb-3682-43a9-962e-72b4d9fee27f"
      },
      "outputs": [
        {
          "name": "stdout",
          "output_type": "stream",
          "text": [
            "r2 score: \t 89.91477315465663\n",
            "Mean Square Error : \t 0.9005928013956708\n",
            "Root Mean Square Error : \t 0.9489956803883096\n"
          ]
        }
      ],
      "source": [
        "svr = SVR()\n",
        "svr.fit(x_train,y_train)\n",
        "pred = svr.predict(x_test)\n",
        "print(\"r2 score: \\t\", r2_score(y_test,pred)*100)\n",
        "print(\"Mean Square Error : \\t\", mean_squared_error(y_test,pred))\n",
        "print(\"Root Mean Square Error : \\t\", np.sqrt(mean_squared_error(y_test,pred)))"
      ]
    },
    {
      "cell_type": "markdown",
      "id": "a3530b74",
      "metadata": {
        "id": "a3530b74"
      },
      "source": [
        "Random Forest Regressor"
      ]
    },
    {
      "cell_type": "code",
      "execution_count": null,
      "id": "3b2bf4aa",
      "metadata": {
        "id": "3b2bf4aa",
        "outputId": "451fd8e7-1813-4c1c-8ef7-7ecc5ec9ee9b"
      },
      "outputs": [
        {
          "name": "stdout",
          "output_type": "stream",
          "text": [
            "r2 score: \t 91.15352415804078\n",
            "Mean Square Error : \t 0.7899745422848661\n",
            "Root Mean Square Error : \t 0.8888051205325418\n"
          ]
        }
      ],
      "source": [
        "rf = RandomForestRegressor()\n",
        "rf.fit(x_train,y_train)\n",
        "pred = rf.predict(x_test)\n",
        "print(\"r2 score: \\t\", r2_score(y_test,pred)*100)\n",
        "print(\"Mean Square Error : \\t\", mean_squared_error(y_test,pred))\n",
        "print(\"Root Mean Square Error : \\t\", np.sqrt(mean_squared_error(y_test,pred)))"
      ]
    },
    {
      "cell_type": "markdown",
      "id": "745355e2",
      "metadata": {
        "id": "745355e2"
      },
      "source": [
        "Decision Tree Regressor"
      ]
    },
    {
      "cell_type": "code",
      "execution_count": null,
      "id": "544e9715",
      "metadata": {
        "id": "544e9715",
        "outputId": "4595b7c5-6291-4476-b663-4b2640d8e21c"
      },
      "outputs": [
        {
          "name": "stdout",
          "output_type": "stream",
          "text": [
            "r2 score: \t 79.23662917241265\n",
            "Mean Square Error : \t 1.8541320474777447\n",
            "Root Mean Square Error : \t 1.3616651745116142\n"
          ]
        }
      ],
      "source": [
        "dt = DecisionTreeRegressor()\n",
        "dt.fit(x_train,y_train)\n",
        "pred = dt.predict(x_test)\n",
        "print(\"r2 score: \\t\", r2_score(y_test,pred)*100)\n",
        "print(\"Mean Square Error : \\t\", mean_squared_error(y_test,pred))\n",
        "print(\"Root Mean Square Error : \\t\", np.sqrt(mean_squared_error(y_test,pred)))"
      ]
    },
    {
      "cell_type": "markdown",
      "id": "ed50a17a",
      "metadata": {
        "id": "ed50a17a"
      },
      "source": [
        "Out of all the models XGB Regressor and the Random Forest Regressor has the highest r2_score"
      ]
    },
    {
      "cell_type": "markdown",
      "id": "4d1b367b",
      "metadata": {
        "id": "4d1b367b"
      },
      "source": [
        "## Cross validation"
      ]
    },
    {
      "cell_type": "code",
      "execution_count": null,
      "id": "e2bd0ed0",
      "metadata": {
        "id": "e2bd0ed0",
        "outputId": "5cbcc0a0-8398-46c1-8edf-52add2080df1"
      },
      "outputs": [
        {
          "name": "stdout",
          "output_type": "stream",
          "text": [
            "Cross validation score of Linear Regression is: \t 0.6592543235522357\n"
          ]
        }
      ],
      "source": [
        "scr1 = cross_val_score(lr, x, y, cv=5, scoring='r2')\n",
        "print(\"Cross validation score of Linear Regression is: \\t\", scr1.mean())"
      ]
    },
    {
      "cell_type": "code",
      "execution_count": null,
      "id": "8d24daee",
      "metadata": {
        "id": "8d24daee",
        "outputId": "a09be965-bdfe-467c-ac1d-6e99dbb6bde9"
      },
      "outputs": [
        {
          "name": "stdout",
          "output_type": "stream",
          "text": [
            "Cross validation score of XGB Regression is: \t 0.6747408542987838\n"
          ]
        }
      ],
      "source": [
        "scr2 = cross_val_score(xgb, x, y, cv=5, scoring='r2')\n",
        "print(\"Cross validation score of XGB Regression is: \\t\", scr2.mean())"
      ]
    },
    {
      "cell_type": "code",
      "execution_count": null,
      "id": "b2d5b5a6",
      "metadata": {
        "id": "b2d5b5a6",
        "outputId": "d84f50f7-a7a5-4fcf-e268-15bf22753861"
      },
      "outputs": [
        {
          "name": "stdout",
          "output_type": "stream",
          "text": [
            "Cross validation score of Decision Tree Regressor is: \t 0.38635996491193875\n"
          ]
        }
      ],
      "source": [
        "scr3 = cross_val_score(dt, x, y, cv=5)\n",
        "print(\"Cross validation score of Decision Tree Regressor is: \\t\", scr3.mean())"
      ]
    },
    {
      "cell_type": "code",
      "execution_count": null,
      "id": "ebf388e2",
      "metadata": {
        "id": "ebf388e2",
        "outputId": "8a101f1a-aa6f-44bc-e96a-1691edcac969"
      },
      "outputs": [
        {
          "name": "stdout",
          "output_type": "stream",
          "text": [
            "Cross validation score of Random Forest Regressor is: \t 0.662477107657532\n"
          ]
        }
      ],
      "source": [
        "scr4 = cross_val_score(rf, x, y, cv=5)\n",
        "print(\"Cross validation score of Random Forest Regressor is: \\t\", scr4.mean())"
      ]
    },
    {
      "cell_type": "code",
      "execution_count": null,
      "id": "e9beef6a",
      "metadata": {
        "id": "e9beef6a",
        "outputId": "8d02a846-2cfc-418c-f29b-cb186a7264ce"
      },
      "outputs": [
        {
          "name": "stdout",
          "output_type": "stream",
          "text": [
            "Cross validation score of KNeighbour Regressor is: \t 0.4825017216742077\n"
          ]
        }
      ],
      "source": [
        "scr5 = cross_val_score(knn, x, y, cv=5)\n",
        "print(\"Cross validation score of KNeighbour Regressor is: \\t\", scr5.mean())"
      ]
    },
    {
      "cell_type": "code",
      "execution_count": null,
      "id": "d7d51fe2",
      "metadata": {
        "id": "d7d51fe2",
        "outputId": "299b8227-5eb9-4727-be8a-39dc75f9ee11"
      },
      "outputs": [
        {
          "name": "stdout",
          "output_type": "stream",
          "text": [
            "Cross validation score of SVM is: \t 0.645972417031562\n"
          ]
        }
      ],
      "source": [
        "scr6 = cross_val_score(svr, x, y, cv=5)\n",
        "print(\"Cross validation score of SVM is: \\t\", scr6.mean())"
      ]
    },
    {
      "cell_type": "markdown",
      "id": "80196c7f",
      "metadata": {
        "id": "80196c7f"
      },
      "source": [
        "We see that the XGB Regressor performs the best in cross validation"
      ]
    },
    {
      "cell_type": "markdown",
      "id": "37e1f9af",
      "metadata": {
        "id": "37e1f9af"
      },
      "source": [
        "## Hyper Parameter Tuning"
      ]
    },
    {
      "cell_type": "code",
      "execution_count": null,
      "id": "ca08536d",
      "metadata": {
        "id": "ca08536d",
        "outputId": "ba8c094f-5d9c-437c-dc57-8c044cdf05f2"
      },
      "outputs": [
        {
          "data": {
            "text/plain": [
              "{'objective': 'reg:squarederror'}"
            ]
          },
          "execution_count": 66,
          "metadata": {},
          "output_type": "execute_result"
        }
      ],
      "source": [
        "GridSearchCV.get_params(xgb)"
      ]
    },
    {
      "cell_type": "code",
      "execution_count": null,
      "id": "b9c3904c",
      "metadata": {
        "id": "b9c3904c"
      },
      "outputs": [],
      "source": [
        "params = {\n",
        "    'max_depth':[6,12,18],\n",
        "    'min_child_weight': [1,2,3],\n",
        "    'eta':[.3,.6,.9],\n",
        "    'subsample': [1,2,3],\n",
        "    'colsample_bytree': [1,2,3]\n",
        "}"
      ]
    },
    {
      "cell_type": "code",
      "execution_count": null,
      "id": "818ba59f",
      "metadata": {
        "id": "818ba59f"
      },
      "outputs": [],
      "source": [
        "gcv = GridSearchCV(xgb, params, cv=5, scoring='r2')"
      ]
    },
    {
      "cell_type": "code",
      "execution_count": null,
      "id": "6e6a8137",
      "metadata": {
        "id": "6e6a8137",
        "outputId": "5d87280d-47bc-43a9-9b78-e10f90c7e129"
      },
      "outputs": [
        {
          "data": {
            "text/plain": [
              "GridSearchCV(cv=5,\n",
              "             estimator=XGBRegressor(base_score=0.5, booster='gbtree',\n",
              "                                    colsample_bylevel=1, colsample_bynode=1,\n",
              "                                    colsample_bytree=1,\n",
              "                                    enable_categorical=False, gamma=0,\n",
              "                                    gpu_id=-1, importance_type=None,\n",
              "                                    interaction_constraints='',\n",
              "                                    learning_rate=0.300000012, max_delta_step=0,\n",
              "                                    max_depth=6, min_child_weight=1,\n",
              "                                    missing=nan, monotone_constraints='()',\n",
              "                                    n_estimators=100, n_jobs=8,\n",
              "                                    num_parallel_tree=1, predictor='auto',\n",
              "                                    random_state=0, reg_alpha=0, reg_lambda=1,\n",
              "                                    scale_pos_weight=1, subsample=1,\n",
              "                                    tree_method='exact', validate_parameters=1,\n",
              "                                    verbosity=None),\n",
              "             param_grid={'colsample_bytree': [1, 2, 3], 'eta': [0.3, 0.6, 0.9],\n",
              "                         'max_depth': [6, 12, 18],\n",
              "                         'min_child_weight': [1, 2, 3],\n",
              "                         'subsample': [1, 2, 3]},\n",
              "             scoring='r2')"
            ]
          },
          "execution_count": 69,
          "metadata": {},
          "output_type": "execute_result"
        }
      ],
      "source": [
        "gcv.fit(x_train,y_train)"
      ]
    },
    {
      "cell_type": "code",
      "execution_count": null,
      "id": "f4db3947",
      "metadata": {
        "id": "f4db3947",
        "outputId": "4d621498-a9e0-4ef8-fcdc-db9dc99401d4"
      },
      "outputs": [
        {
          "name": "stdout",
          "output_type": "stream",
          "text": [
            "Tuned Hyperparameters : {'colsample_bytree': 1, 'eta': 0.3, 'max_depth': 6, 'min_child_weight': 3, 'subsample': 1}\n",
            "Accuracy : 0.9140601649111121\n"
          ]
        }
      ],
      "source": [
        "print(\"Tuned Hyperparameters :\", gcv.best_params_)\n",
        "print(\"Accuracy :\",gcv.best_score_)"
      ]
    },
    {
      "cell_type": "code",
      "execution_count": null,
      "id": "0e304d2a",
      "metadata": {
        "id": "0e304d2a",
        "outputId": "6b15d566-55fb-4f55-f1a9-5fce79211a4e"
      },
      "outputs": [
        {
          "data": {
            "text/plain": [
              "0.9309213988337601"
            ]
          },
          "execution_count": 71,
          "metadata": {},
          "output_type": "execute_result"
        }
      ],
      "source": [
        "gcv_pred = gcv.best_estimator_.predict(x_test)\n",
        "r2_score(y_test,gcv_pred)"
      ]
    },
    {
      "cell_type": "markdown",
      "id": "0937f42f",
      "metadata": {
        "id": "0937f42f"
      },
      "source": [
        "The best estimator gives the accuracy of 93.09% which is not better than the original 93.22% and hence we shall save the default"
      ]
    },
    {
      "cell_type": "markdown",
      "id": "d0518c1c",
      "metadata": {
        "id": "d0518c1c"
      },
      "source": [
        "## Saving the best model"
      ]
    },
    {
      "cell_type": "code",
      "execution_count": null,
      "id": "9608abec",
      "metadata": {
        "id": "9608abec",
        "outputId": "3aee0ef8-319b-4003-ed25-6f91e5b74da7"
      },
      "outputs": [
        {
          "data": {
            "text/plain": [
              "['tmax.pkl']"
            ]
          },
          "execution_count": 72,
          "metadata": {},
          "output_type": "execute_result"
        }
      ],
      "source": [
        "joblib.dump(xgb,\"tmax.pkl\")"
      ]
    },
    {
      "cell_type": "markdown",
      "id": "53a70912",
      "metadata": {
        "id": "53a70912"
      },
      "source": [
        "# 2. 'Next_Tmin' Prediction Model"
      ]
    },
    {
      "cell_type": "code",
      "execution_count": null,
      "id": "0f1cc7c4",
      "metadata": {
        "id": "0f1cc7c4"
      },
      "outputs": [],
      "source": [
        "y = y_big['Next_Tmin']"
      ]
    },
    {
      "cell_type": "markdown",
      "id": "29ecbda9",
      "metadata": {
        "id": "29ecbda9"
      },
      "source": [
        "## Random State"
      ]
    },
    {
      "cell_type": "code",
      "execution_count": null,
      "id": "5c8343b2",
      "metadata": {
        "id": "5c8343b2",
        "outputId": "aa5e2a6a-b254-45a0-a5c1-eb4475b7e5de"
      },
      "outputs": [
        {
          "name": "stdout",
          "output_type": "stream",
          "text": [
            "Max accuracy: \t 0.839441852000992\n",
            "Random State: \t 70\n"
          ]
        }
      ],
      "source": [
        "maxRS = 0\n",
        "maxAcc = 0\n",
        "for i in range(0,100):\n",
        "    x_train, x_test, y_train, y_test = train_test_split(x, y, test_size=0.20, random_state=i)\n",
        "    lr = LinearRegression()\n",
        "    lr.fit(x_train,y_train)\n",
        "    pred = lr.predict(x_test)\n",
        "    acc = r2_score(y_test, pred)\n",
        "    if acc>maxAcc:\n",
        "        maxAcc = acc\n",
        "        maxRS = i\n",
        "print(\"Max accuracy: \\t\", maxAcc)\n",
        "print(\"Random State: \\t\", maxRS)"
      ]
    },
    {
      "cell_type": "markdown",
      "id": "680e15d1",
      "metadata": {
        "id": "680e15d1"
      },
      "source": [
        "Now since we got the best random state for data modelling, we create the test train models"
      ]
    },
    {
      "cell_type": "code",
      "execution_count": null,
      "id": "c08abd88",
      "metadata": {
        "id": "c08abd88"
      },
      "outputs": [],
      "source": [
        "x_train, x_test, y_train, y_test = train_test_split(x, y, test_size=0.20, random_state=maxRS)"
      ]
    },
    {
      "cell_type": "markdown",
      "id": "086a592f",
      "metadata": {
        "id": "086a592f"
      },
      "source": [
        "## Model Predictions"
      ]
    },
    {
      "cell_type": "markdown",
      "id": "a5400804",
      "metadata": {
        "id": "a5400804"
      },
      "source": [
        "Linear Regression"
      ]
    },
    {
      "cell_type": "code",
      "execution_count": null,
      "id": "1c599d6c",
      "metadata": {
        "id": "1c599d6c",
        "outputId": "f25b338a-dc1c-4455-c82a-1adaca3a14bd"
      },
      "outputs": [
        {
          "name": "stdout",
          "output_type": "stream",
          "text": [
            "r2 score: \t 83.9441852000992\n",
            "Mean Square Error : \t 0.9226368388861179\n",
            "Root Mean Square Error : \t 0.9605398684521731\n"
          ]
        }
      ],
      "source": [
        "lr = LinearRegression()\n",
        "lr.fit(x_train,y_train)\n",
        "pred = lr.predict(x_test)\n",
        "print(\"r2 score: \\t\", r2_score(y_test,pred)*100)\n",
        "print(\"Mean Square Error : \\t\", mean_squared_error(y_test,pred))\n",
        "print(\"Root Mean Square Error : \\t\", np.sqrt(mean_squared_error(y_test,pred)))"
      ]
    },
    {
      "cell_type": "markdown",
      "id": "8681407d",
      "metadata": {
        "id": "8681407d"
      },
      "source": [
        "XGB Regressor"
      ]
    },
    {
      "cell_type": "code",
      "execution_count": null,
      "id": "914b6953",
      "metadata": {
        "id": "914b6953",
        "outputId": "4283acc1-c129-421a-8213-8f54fe25d570"
      },
      "outputs": [
        {
          "name": "stdout",
          "output_type": "stream",
          "text": [
            "r2 score: \t 93.2532011261184\n",
            "Mean Square Error : \t 0.38770036047233153\n",
            "Root Mean Square Error : \t 0.6226558925059101\n"
          ]
        }
      ],
      "source": [
        "xgb = XGBRegressor()\n",
        "xgb.fit(x_train,y_train)\n",
        "pred = xgb.predict(x_test)\n",
        "print(\"r2 score: \\t\", r2_score(y_test,pred)*100)\n",
        "print(\"Mean Square Error : \\t\", mean_squared_error(y_test,pred))\n",
        "print(\"Root Mean Square Error : \\t\", np.sqrt(mean_squared_error(y_test,pred)))"
      ]
    },
    {
      "cell_type": "markdown",
      "id": "998454df",
      "metadata": {
        "id": "998454df"
      },
      "source": [
        "KNN Regressor"
      ]
    },
    {
      "cell_type": "code",
      "execution_count": null,
      "id": "8718723b",
      "metadata": {
        "id": "8718723b",
        "outputId": "32a431be-7e02-4e46-fa14-aeeeb09c8741"
      },
      "outputs": [
        {
          "name": "stdout",
          "output_type": "stream",
          "text": [
            "r2 score: \t 86.68349790694168\n",
            "Mean Square Error : \t 0.7652240356083085\n",
            "Root Mean Square Error : \t 0.8747708474842475\n"
          ]
        }
      ],
      "source": [
        "knn = KNeighborsRegressor()\n",
        "knn.fit(x_train,y_train)\n",
        "pred = knn.predict(x_test)\n",
        "print(\"r2 score: \\t\", r2_score(y_test,pred)*100)\n",
        "print(\"Mean Square Error : \\t\", mean_squared_error(y_test,pred))\n",
        "print(\"Root Mean Square Error : \\t\", np.sqrt(mean_squared_error(y_test,pred)))"
      ]
    },
    {
      "cell_type": "markdown",
      "id": "b7025252",
      "metadata": {
        "id": "b7025252"
      },
      "source": [
        "SUPPORT VECTOR MACHINES"
      ]
    },
    {
      "cell_type": "code",
      "execution_count": null,
      "id": "52b3c178",
      "metadata": {
        "id": "52b3c178",
        "outputId": "c0a2917b-a601-44de-dd6b-1bee3d5c70aa"
      },
      "outputs": [
        {
          "name": "stdout",
          "output_type": "stream",
          "text": [
            "r2 score: \t 91.65943902006936\n",
            "Mean Square Error : \t 0.4792848518100533\n",
            "Root Mean Square Error : \t 0.6923040168957951\n"
          ]
        }
      ],
      "source": [
        "svr = SVR()\n",
        "svr.fit(x_train,y_train)\n",
        "pred = svr.predict(x_test)\n",
        "print(\"r2 score: \\t\", r2_score(y_test,pred)*100)\n",
        "print(\"Mean Square Error : \\t\", mean_squared_error(y_test,pred))\n",
        "print(\"Root Mean Square Error : \\t\", np.sqrt(mean_squared_error(y_test,pred)))"
      ]
    },
    {
      "cell_type": "markdown",
      "id": "bb7f5e38",
      "metadata": {
        "id": "bb7f5e38"
      },
      "source": [
        "Random Forest Regressor"
      ]
    },
    {
      "cell_type": "code",
      "execution_count": null,
      "id": "bc2bf502",
      "metadata": {
        "id": "bc2bf502",
        "outputId": "324f0e63-0723-4102-fa5a-d8260bbcc11e"
      },
      "outputs": [
        {
          "name": "stdout",
          "output_type": "stream",
          "text": [
            "r2 score: \t 90.69401482587507\n",
            "Mean Square Error : \t 0.5347623182492582\n",
            "Root Mean Square Error : \t 0.7312744479668754\n"
          ]
        }
      ],
      "source": [
        "rf = RandomForestRegressor()\n",
        "rf.fit(x_train,y_train)\n",
        "pred = rf.predict(x_test)\n",
        "print(\"r2 score: \\t\", r2_score(y_test,pred)*100)\n",
        "print(\"Mean Square Error : \\t\", mean_squared_error(y_test,pred))\n",
        "print(\"Root Mean Square Error : \\t\", np.sqrt(mean_squared_error(y_test,pred)))"
      ]
    },
    {
      "cell_type": "markdown",
      "id": "016ec9ca",
      "metadata": {
        "id": "016ec9ca"
      },
      "source": [
        "Decision Tree Regressor"
      ]
    },
    {
      "cell_type": "code",
      "execution_count": null,
      "id": "b2c17cf5",
      "metadata": {
        "id": "b2c17cf5",
        "outputId": "42221922-662d-4ca0-dbbf-1239208d88a5"
      },
      "outputs": [
        {
          "name": "stdout",
          "output_type": "stream",
          "text": [
            "r2 score: \t 79.73714405968624\n",
            "Mean Square Error : \t 1.1643916913946588\n",
            "Root Mean Square Error : \t 1.0790698269318157\n"
          ]
        }
      ],
      "source": [
        "dt = DecisionTreeRegressor()\n",
        "dt.fit(x_train,y_train)\n",
        "pred = dt.predict(x_test)\n",
        "print(\"r2 score: \\t\", r2_score(y_test,pred)*100)\n",
        "print(\"Mean Square Error : \\t\", mean_squared_error(y_test,pred))\n",
        "print(\"Root Mean Square Error : \\t\", np.sqrt(mean_squared_error(y_test,pred)))"
      ]
    },
    {
      "cell_type": "markdown",
      "id": "2f373860",
      "metadata": {
        "id": "2f373860"
      },
      "source": [
        "Out of all the models XGB Regressor and the Random Forest Regressor has the highest r2_score"
      ]
    },
    {
      "cell_type": "markdown",
      "id": "03c2a3da",
      "metadata": {
        "id": "03c2a3da"
      },
      "source": [
        "## Cross validation"
      ]
    },
    {
      "cell_type": "code",
      "execution_count": null,
      "id": "e6d7f1f1",
      "metadata": {
        "id": "e6d7f1f1",
        "outputId": "1049f7a2-a43b-4105-8a2e-75ae9a2009f0"
      },
      "outputs": [
        {
          "name": "stdout",
          "output_type": "stream",
          "text": [
            "Cross validation score of Linear Regression is: \t 0.7675750569988399\n"
          ]
        }
      ],
      "source": [
        "scr1 = cross_val_score(lr, x, y, cv=5, scoring='r2')\n",
        "print(\"Cross validation score of Linear Regression is: \\t\", scr1.mean())"
      ]
    },
    {
      "cell_type": "code",
      "execution_count": null,
      "id": "5ec34eb6",
      "metadata": {
        "id": "5ec34eb6",
        "outputId": "a18dc749-0288-4cbe-97c5-7c072d2864ca"
      },
      "outputs": [
        {
          "name": "stdout",
          "output_type": "stream",
          "text": [
            "Cross validation score of XGB Regression is: \t 0.7561819777676101\n"
          ]
        }
      ],
      "source": [
        "scr2 = cross_val_score(xgb, x, y, cv=5, scoring='r2')\n",
        "print(\"Cross validation score of XGB Regression is: \\t\", scr2.mean())"
      ]
    },
    {
      "cell_type": "code",
      "execution_count": null,
      "id": "852c6e45",
      "metadata": {
        "id": "852c6e45",
        "outputId": "f5192e68-0568-46ec-97bf-21198ecb91dd"
      },
      "outputs": [
        {
          "name": "stdout",
          "output_type": "stream",
          "text": [
            "Cross validation score of Decision Tree Regressor is: \t 0.586366955151307\n"
          ]
        }
      ],
      "source": [
        "scr3 = cross_val_score(dt, x, y, cv=5)\n",
        "print(\"Cross validation score of Decision Tree Regressor is: \\t\", scr3.mean())"
      ]
    },
    {
      "cell_type": "code",
      "execution_count": null,
      "id": "4315c210",
      "metadata": {
        "id": "4315c210",
        "outputId": "41863d96-f00e-4fd8-ad30-95aebe3821a3"
      },
      "outputs": [
        {
          "name": "stdout",
          "output_type": "stream",
          "text": [
            "Cross validation score of Random Forest Regressor is: \t 0.7796725484403534\n"
          ]
        }
      ],
      "source": [
        "scr4 = cross_val_score(rf, x, y, cv=5)\n",
        "print(\"Cross validation score of Random Forest Regressor is: \\t\", scr4.mean())"
      ]
    },
    {
      "cell_type": "code",
      "execution_count": null,
      "id": "1c5b372a",
      "metadata": {
        "id": "1c5b372a",
        "outputId": "8a78d085-16cc-4e8c-9231-c76524dd3572"
      },
      "outputs": [
        {
          "name": "stdout",
          "output_type": "stream",
          "text": [
            "Cross validation score of KNeighbour Regressor is: \t 0.5392054135252321\n"
          ]
        }
      ],
      "source": [
        "scr5 = cross_val_score(knn, x, y, cv=5)\n",
        "print(\"Cross validation score of KNeighbour Regressor is: \\t\", scr5.mean())"
      ]
    },
    {
      "cell_type": "code",
      "execution_count": null,
      "id": "04da92f2",
      "metadata": {
        "id": "04da92f2",
        "outputId": "f8f03c10-b9d9-4161-f437-e94d4854828f"
      },
      "outputs": [
        {
          "name": "stdout",
          "output_type": "stream",
          "text": [
            "Cross validation score of SVM is: \t 0.7118852343612596\n"
          ]
        }
      ],
      "source": [
        "scr6 = cross_val_score(svr, x, y, cv=5)\n",
        "print(\"Cross validation score of SVM is: \\t\", scr6.mean())"
      ]
    },
    {
      "cell_type": "markdown",
      "id": "6b4388bf",
      "metadata": {
        "id": "6b4388bf"
      },
      "source": [
        "We see that the XGB Regressor performs the best in cross validation"
      ]
    },
    {
      "cell_type": "markdown",
      "id": "dfafe0ff",
      "metadata": {
        "id": "dfafe0ff"
      },
      "source": [
        "## Hyper Parameter Tuning"
      ]
    },
    {
      "cell_type": "code",
      "execution_count": null,
      "id": "7f3547d3",
      "metadata": {
        "id": "7f3547d3",
        "outputId": "9caffa24-07cc-4813-b5fb-88b35210fff3"
      },
      "outputs": [
        {
          "data": {
            "text/plain": [
              "{'objective': 'reg:squarederror'}"
            ]
          },
          "execution_count": 88,
          "metadata": {},
          "output_type": "execute_result"
        }
      ],
      "source": [
        "GridSearchCV.get_params(xgb)"
      ]
    },
    {
      "cell_type": "code",
      "execution_count": null,
      "id": "d3aa06f0",
      "metadata": {
        "id": "d3aa06f0"
      },
      "outputs": [],
      "source": [
        "params = {\n",
        "    'max_depth':[6,12,18],\n",
        "    'min_child_weight': [1,2,3],\n",
        "    'eta':[.3,.6,.9],\n",
        "    'subsample': [1,2,3],\n",
        "    'colsample_bytree': [1,2,3]\n",
        "}"
      ]
    },
    {
      "cell_type": "code",
      "execution_count": null,
      "id": "b74c2829",
      "metadata": {
        "id": "b74c2829"
      },
      "outputs": [],
      "source": [
        "gcv = GridSearchCV(xgb, params, cv=5, scoring='r2')"
      ]
    },
    {
      "cell_type": "code",
      "execution_count": null,
      "id": "c210ec75",
      "metadata": {
        "id": "c210ec75",
        "outputId": "8d40e6cb-c050-4ed6-dfc9-3f208ade05ef"
      },
      "outputs": [
        {
          "data": {
            "text/plain": [
              "GridSearchCV(cv=5,\n",
              "             estimator=XGBRegressor(base_score=0.5, booster='gbtree',\n",
              "                                    colsample_bylevel=1, colsample_bynode=1,\n",
              "                                    colsample_bytree=1,\n",
              "                                    enable_categorical=False, gamma=0,\n",
              "                                    gpu_id=-1, importance_type=None,\n",
              "                                    interaction_constraints='',\n",
              "                                    learning_rate=0.300000012, max_delta_step=0,\n",
              "                                    max_depth=6, min_child_weight=1,\n",
              "                                    missing=nan, monotone_constraints='()',\n",
              "                                    n_estimators=100, n_jobs=8,\n",
              "                                    num_parallel_tree=1, predictor='auto',\n",
              "                                    random_state=0, reg_alpha=0, reg_lambda=1,\n",
              "                                    scale_pos_weight=1, subsample=1,\n",
              "                                    tree_method='exact', validate_parameters=1,\n",
              "                                    verbosity=None),\n",
              "             param_grid={'colsample_bytree': [1, 2, 3], 'eta': [0.3, 0.6, 0.9],\n",
              "                         'max_depth': [6, 12, 18],\n",
              "                         'min_child_weight': [1, 2, 3],\n",
              "                         'subsample': [1, 2, 3]},\n",
              "             scoring='r2')"
            ]
          },
          "execution_count": 91,
          "metadata": {},
          "output_type": "execute_result"
        }
      ],
      "source": [
        "gcv.fit(x_train,y_train)"
      ]
    },
    {
      "cell_type": "code",
      "execution_count": null,
      "id": "4ada398c",
      "metadata": {
        "id": "4ada398c",
        "outputId": "41404db0-6bdf-4a52-9f92-4b916e08b42b"
      },
      "outputs": [
        {
          "name": "stdout",
          "output_type": "stream",
          "text": [
            "Tuned Hyperparameters : {'colsample_bytree': 1, 'eta': 0.3, 'max_depth': 6, 'min_child_weight': 3, 'subsample': 1}\n",
            "Accuracy : 0.9284694484183069\n"
          ]
        }
      ],
      "source": [
        "print(\"Tuned Hyperparameters :\", gcv.best_params_)\n",
        "print(\"Accuracy :\",gcv.best_score_)"
      ]
    },
    {
      "cell_type": "code",
      "execution_count": null,
      "id": "6a894313",
      "metadata": {
        "id": "6a894313",
        "outputId": "b8394057-8ee5-4cf5-d327-d123af5dda11"
      },
      "outputs": [
        {
          "data": {
            "text/plain": [
              "0.9322036402378043"
            ]
          },
          "execution_count": 93,
          "metadata": {},
          "output_type": "execute_result"
        }
      ],
      "source": [
        "gcv_pred = gcv.best_estimator_.predict(x_test)\n",
        "r2_score(y_test,gcv_pred)"
      ]
    },
    {
      "cell_type": "markdown",
      "id": "1c941759",
      "metadata": {
        "id": "1c941759"
      },
      "source": [
        "The best estimator gives the accuracy of 93.22% which is not better than the original 93.25% and hence we shall save the default"
      ]
    },
    {
      "cell_type": "markdown",
      "id": "e0ba1bc2",
      "metadata": {
        "id": "e0ba1bc2"
      },
      "source": [
        "## Saving the best model"
      ]
    },
    {
      "cell_type": "code",
      "execution_count": null,
      "id": "597a6387",
      "metadata": {
        "id": "597a6387",
        "outputId": "535dd1c6-2916-4b90-99b1-88308c4df246"
      },
      "outputs": [
        {
          "data": {
            "text/plain": [
              "['tmin.pkl']"
            ]
          },
          "execution_count": 94,
          "metadata": {},
          "output_type": "execute_result"
        }
      ],
      "source": [
        "joblib.dump(xgb,\"tmin.pkl\")"
      ]
    },
    {
      "cell_type": "code",
      "execution_count": null,
      "id": "593f3eaa",
      "metadata": {
        "id": "593f3eaa"
      },
      "outputs": [],
      "source": []
    }
  ],
  "metadata": {
    "kernelspec": {
      "display_name": "Python 3",
      "language": "python",
      "name": "python3"
    },
    "language_info": {
      "codemirror_mode": {
        "name": "ipython",
        "version": 3
      },
      "file_extension": ".py",
      "mimetype": "text/x-python",
      "name": "python",
      "nbconvert_exporter": "python",
      "pygments_lexer": "ipython3",
      "version": "3.8.8"
    },
    "colab": {
      "provenance": []
    }
  },
  "nbformat": 4,
  "nbformat_minor": 5
}