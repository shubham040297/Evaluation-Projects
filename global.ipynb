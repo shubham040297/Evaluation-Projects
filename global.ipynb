{
  "cells": [
    {
      "cell_type": "code",
      "execution_count": null,
      "id": "ded033b1",
      "metadata": {
        "id": "ded033b1"
      },
      "outputs": [],
      "source": [
        "import pandas as pd\n",
        "import numpy as np\n",
        "import seaborn as sns\n",
        "import matplotlib.pyplot as plt\n",
        "from sklearn.impute import KNNImputer\n",
        "from sklearn.preprocessing import LabelEncoder, OrdinalEncoder, StandardScaler\n",
        "from scipy.stats import zscore, yeojohnson\n",
        "from sklearn.model_selection import train_test_split, cross_val_score, GridSearchCV\n",
        "from sklearn.linear_model import LogisticRegression, LinearRegression, Ridge\n",
        "from sklearn.metrics import plot_roc_curve, accuracy_score, r2_score, confusion_matrix, mean_squared_error, classification_report, mean_absolute_error\n",
        "from sklearn.utils import resample\n",
        "from sklearn.neighbors import KNeighborsClassifier, KNeighborsRegressor\n",
        "from sklearn.svm import SVC, SVR\n",
        "from sklearn.tree import DecisionTreeClassifier, DecisionTreeRegressor\n",
        "from sklearn.ensemble import RandomForestClassifier, RandomForestRegressor\n",
        "import joblib\n",
        "\n",
        "import warnings\n",
        "warnings.filterwarnings('ignore')"
      ]
    },
    {
      "cell_type": "markdown",
      "id": "87c9ebe7",
      "metadata": {
        "id": "87c9ebe7"
      },
      "source": [
        "# Data Collection"
      ]
    },
    {
      "cell_type": "code",
      "execution_count": null,
      "id": "fe225293",
      "metadata": {
        "id": "fe225293"
      },
      "outputs": [],
      "source": [
        "df = pd.read_csv(r'C:\\Users\\Shubham\\Desktop\\Projects\\Evaluation\\(4)_Global\\database_IND.csv')"
      ]
    },
    {
      "cell_type": "markdown",
      "id": "4277a64c",
      "metadata": {
        "id": "4277a64c"
      },
      "source": [
        "# Data Understanding"
      ]
    },
    {
      "cell_type": "code",
      "execution_count": null,
      "id": "8bd1dce5",
      "metadata": {
        "id": "8bd1dce5",
        "outputId": "cbc8b413-8987-4671-d621-a18873dfcafc"
      },
      "outputs": [
        {
          "data": {
            "text/html": [
              "<div>\n",
              "<style scoped>\n",
              "    .dataframe tbody tr th:only-of-type {\n",
              "        vertical-align: middle;\n",
              "    }\n",
              "\n",
              "    .dataframe tbody tr th {\n",
              "        vertical-align: top;\n",
              "    }\n",
              "\n",
              "    .dataframe thead th {\n",
              "        text-align: right;\n",
              "    }\n",
              "</style>\n",
              "<table border=\"1\" class=\"dataframe\">\n",
              "  <thead>\n",
              "    <tr style=\"text-align: right;\">\n",
              "      <th></th>\n",
              "      <th>country</th>\n",
              "      <th>country_long</th>\n",
              "      <th>name</th>\n",
              "      <th>gppd_idnr</th>\n",
              "      <th>capacity_mw</th>\n",
              "      <th>latitude</th>\n",
              "      <th>longitude</th>\n",
              "      <th>primary_fuel</th>\n",
              "      <th>other_fuel1</th>\n",
              "      <th>other_fuel2</th>\n",
              "      <th>other_fuel3</th>\n",
              "      <th>commissioning_year</th>\n",
              "      <th>owner</th>\n",
              "      <th>source</th>\n",
              "      <th>url</th>\n",
              "      <th>geolocation_source</th>\n",
              "      <th>wepp_id</th>\n",
              "      <th>year_of_capacity_data</th>\n",
              "      <th>generation_gwh_2013</th>\n",
              "      <th>generation_gwh_2014</th>\n",
              "      <th>generation_gwh_2015</th>\n",
              "      <th>generation_gwh_2016</th>\n",
              "      <th>generation_gwh_2017</th>\n",
              "      <th>generation_gwh_2018</th>\n",
              "      <th>generation_gwh_2019</th>\n",
              "      <th>generation_data_source</th>\n",
              "      <th>estimated_generation_gwh</th>\n",
              "    </tr>\n",
              "  </thead>\n",
              "  <tbody>\n",
              "    <tr>\n",
              "      <th>0</th>\n",
              "      <td>IND</td>\n",
              "      <td>India</td>\n",
              "      <td>ACME Solar Tower</td>\n",
              "      <td>WRI1020239</td>\n",
              "      <td>2.5</td>\n",
              "      <td>28.1839</td>\n",
              "      <td>73.2407</td>\n",
              "      <td>Solar</td>\n",
              "      <td>NaN</td>\n",
              "      <td>NaN</td>\n",
              "      <td>NaN</td>\n",
              "      <td>2011.0</td>\n",
              "      <td>Solar Paces</td>\n",
              "      <td>National Renewable Energy Laboratory</td>\n",
              "      <td>http://www.nrel.gov/csp/solarpaces/project_det...</td>\n",
              "      <td>National Renewable Energy Laboratory</td>\n",
              "      <td>NaN</td>\n",
              "      <td>NaN</td>\n",
              "      <td>NaN</td>\n",
              "      <td>NaN</td>\n",
              "      <td>NaN</td>\n",
              "      <td>NaN</td>\n",
              "      <td>NaN</td>\n",
              "      <td>NaN</td>\n",
              "      <td>NaN</td>\n",
              "      <td>NaN</td>\n",
              "      <td>NaN</td>\n",
              "    </tr>\n",
              "    <tr>\n",
              "      <th>1</th>\n",
              "      <td>IND</td>\n",
              "      <td>India</td>\n",
              "      <td>ADITYA CEMENT WORKS</td>\n",
              "      <td>WRI1019881</td>\n",
              "      <td>98.0</td>\n",
              "      <td>24.7663</td>\n",
              "      <td>74.6090</td>\n",
              "      <td>Coal</td>\n",
              "      <td>NaN</td>\n",
              "      <td>NaN</td>\n",
              "      <td>NaN</td>\n",
              "      <td>NaN</td>\n",
              "      <td>Ultratech Cement ltd</td>\n",
              "      <td>Ultratech Cement ltd</td>\n",
              "      <td>http://www.ultratechcement.com/</td>\n",
              "      <td>WRI</td>\n",
              "      <td>NaN</td>\n",
              "      <td>NaN</td>\n",
              "      <td>NaN</td>\n",
              "      <td>NaN</td>\n",
              "      <td>NaN</td>\n",
              "      <td>NaN</td>\n",
              "      <td>NaN</td>\n",
              "      <td>NaN</td>\n",
              "      <td>NaN</td>\n",
              "      <td>NaN</td>\n",
              "      <td>NaN</td>\n",
              "    </tr>\n",
              "    <tr>\n",
              "      <th>2</th>\n",
              "      <td>IND</td>\n",
              "      <td>India</td>\n",
              "      <td>AES Saurashtra Windfarms</td>\n",
              "      <td>WRI1026669</td>\n",
              "      <td>39.2</td>\n",
              "      <td>21.9038</td>\n",
              "      <td>69.3732</td>\n",
              "      <td>Wind</td>\n",
              "      <td>NaN</td>\n",
              "      <td>NaN</td>\n",
              "      <td>NaN</td>\n",
              "      <td>NaN</td>\n",
              "      <td>AES</td>\n",
              "      <td>CDM</td>\n",
              "      <td>https://cdm.unfccc.int/Projects/DB/DNV-CUK1328...</td>\n",
              "      <td>WRI</td>\n",
              "      <td>NaN</td>\n",
              "      <td>NaN</td>\n",
              "      <td>NaN</td>\n",
              "      <td>NaN</td>\n",
              "      <td>NaN</td>\n",
              "      <td>NaN</td>\n",
              "      <td>NaN</td>\n",
              "      <td>NaN</td>\n",
              "      <td>NaN</td>\n",
              "      <td>NaN</td>\n",
              "      <td>NaN</td>\n",
              "    </tr>\n",
              "    <tr>\n",
              "      <th>3</th>\n",
              "      <td>IND</td>\n",
              "      <td>India</td>\n",
              "      <td>AGARTALA GT</td>\n",
              "      <td>IND0000001</td>\n",
              "      <td>135.0</td>\n",
              "      <td>23.8712</td>\n",
              "      <td>91.3602</td>\n",
              "      <td>Gas</td>\n",
              "      <td>NaN</td>\n",
              "      <td>NaN</td>\n",
              "      <td>NaN</td>\n",
              "      <td>2004.0</td>\n",
              "      <td>NaN</td>\n",
              "      <td>Central Electricity Authority</td>\n",
              "      <td>http://www.cea.nic.in/</td>\n",
              "      <td>WRI</td>\n",
              "      <td>NaN</td>\n",
              "      <td>2019.0</td>\n",
              "      <td>NaN</td>\n",
              "      <td>617.789264</td>\n",
              "      <td>843.747</td>\n",
              "      <td>886.004428</td>\n",
              "      <td>663.774500</td>\n",
              "      <td>626.239128</td>\n",
              "      <td>NaN</td>\n",
              "      <td>Central Electricity Authority</td>\n",
              "      <td>NaN</td>\n",
              "    </tr>\n",
              "    <tr>\n",
              "      <th>4</th>\n",
              "      <td>IND</td>\n",
              "      <td>India</td>\n",
              "      <td>AKALTARA TPP</td>\n",
              "      <td>IND0000002</td>\n",
              "      <td>1800.0</td>\n",
              "      <td>21.9603</td>\n",
              "      <td>82.4091</td>\n",
              "      <td>Coal</td>\n",
              "      <td>Oil</td>\n",
              "      <td>NaN</td>\n",
              "      <td>NaN</td>\n",
              "      <td>2015.0</td>\n",
              "      <td>NaN</td>\n",
              "      <td>Central Electricity Authority</td>\n",
              "      <td>http://www.cea.nic.in/</td>\n",
              "      <td>WRI</td>\n",
              "      <td>NaN</td>\n",
              "      <td>2019.0</td>\n",
              "      <td>NaN</td>\n",
              "      <td>3035.550000</td>\n",
              "      <td>5916.370</td>\n",
              "      <td>6243.000000</td>\n",
              "      <td>5385.579736</td>\n",
              "      <td>7279.000000</td>\n",
              "      <td>NaN</td>\n",
              "      <td>Central Electricity Authority</td>\n",
              "      <td>NaN</td>\n",
              "    </tr>\n",
              "  </tbody>\n",
              "</table>\n",
              "</div>"
            ],
            "text/plain": [
              "  country country_long                      name   gppd_idnr  capacity_mw  \\\n",
              "0     IND        India          ACME Solar Tower  WRI1020239          2.5   \n",
              "1     IND        India       ADITYA CEMENT WORKS  WRI1019881         98.0   \n",
              "2     IND        India  AES Saurashtra Windfarms  WRI1026669         39.2   \n",
              "3     IND        India               AGARTALA GT  IND0000001        135.0   \n",
              "4     IND        India              AKALTARA TPP  IND0000002       1800.0   \n",
              "\n",
              "   latitude  longitude primary_fuel other_fuel1 other_fuel2  other_fuel3  \\\n",
              "0   28.1839    73.2407        Solar         NaN         NaN          NaN   \n",
              "1   24.7663    74.6090         Coal         NaN         NaN          NaN   \n",
              "2   21.9038    69.3732         Wind         NaN         NaN          NaN   \n",
              "3   23.8712    91.3602          Gas         NaN         NaN          NaN   \n",
              "4   21.9603    82.4091         Coal         Oil         NaN          NaN   \n",
              "\n",
              "   commissioning_year                 owner  \\\n",
              "0              2011.0           Solar Paces   \n",
              "1                 NaN  Ultratech Cement ltd   \n",
              "2                 NaN                   AES   \n",
              "3              2004.0                   NaN   \n",
              "4              2015.0                   NaN   \n",
              "\n",
              "                                 source  \\\n",
              "0  National Renewable Energy Laboratory   \n",
              "1                  Ultratech Cement ltd   \n",
              "2                                   CDM   \n",
              "3         Central Electricity Authority   \n",
              "4         Central Electricity Authority   \n",
              "\n",
              "                                                 url  \\\n",
              "0  http://www.nrel.gov/csp/solarpaces/project_det...   \n",
              "1                    http://www.ultratechcement.com/   \n",
              "2  https://cdm.unfccc.int/Projects/DB/DNV-CUK1328...   \n",
              "3                             http://www.cea.nic.in/   \n",
              "4                             http://www.cea.nic.in/   \n",
              "\n",
              "                     geolocation_source  wepp_id  year_of_capacity_data  \\\n",
              "0  National Renewable Energy Laboratory      NaN                    NaN   \n",
              "1                                   WRI      NaN                    NaN   \n",
              "2                                   WRI      NaN                    NaN   \n",
              "3                                   WRI      NaN                 2019.0   \n",
              "4                                   WRI      NaN                 2019.0   \n",
              "\n",
              "   generation_gwh_2013  generation_gwh_2014  generation_gwh_2015  \\\n",
              "0                  NaN                  NaN                  NaN   \n",
              "1                  NaN                  NaN                  NaN   \n",
              "2                  NaN                  NaN                  NaN   \n",
              "3                  NaN           617.789264              843.747   \n",
              "4                  NaN          3035.550000             5916.370   \n",
              "\n",
              "   generation_gwh_2016  generation_gwh_2017  generation_gwh_2018  \\\n",
              "0                  NaN                  NaN                  NaN   \n",
              "1                  NaN                  NaN                  NaN   \n",
              "2                  NaN                  NaN                  NaN   \n",
              "3           886.004428           663.774500           626.239128   \n",
              "4          6243.000000          5385.579736          7279.000000   \n",
              "\n",
              "   generation_gwh_2019         generation_data_source  \\\n",
              "0                  NaN                            NaN   \n",
              "1                  NaN                            NaN   \n",
              "2                  NaN                            NaN   \n",
              "3                  NaN  Central Electricity Authority   \n",
              "4                  NaN  Central Electricity Authority   \n",
              "\n",
              "   estimated_generation_gwh  \n",
              "0                       NaN  \n",
              "1                       NaN  \n",
              "2                       NaN  \n",
              "3                       NaN  \n",
              "4                       NaN  "
            ]
          },
          "execution_count": 77,
          "metadata": {},
          "output_type": "execute_result"
        }
      ],
      "source": [
        "pd.set_option(\"display.max_columns\", None)\n",
        "df.head() #Looking into the top 5 rows of the dataset"
      ]
    },
    {
      "cell_type": "code",
      "execution_count": null,
      "id": "13983b8b",
      "metadata": {
        "id": "13983b8b",
        "outputId": "1af2399b-0bc3-46bd-ff65-b6eb89a57b6f"
      },
      "outputs": [
        {
          "data": {
            "text/plain": [
              "Index(['country', 'country_long', 'name', 'gppd_idnr', 'capacity_mw',\n",
              "       'latitude', 'longitude', 'primary_fuel', 'other_fuel1', 'other_fuel2',\n",
              "       'other_fuel3', 'commissioning_year', 'owner', 'source', 'url',\n",
              "       'geolocation_source', 'wepp_id', 'year_of_capacity_data',\n",
              "       'generation_gwh_2013', 'generation_gwh_2014', 'generation_gwh_2015',\n",
              "       'generation_gwh_2016', 'generation_gwh_2017', 'generation_gwh_2018',\n",
              "       'generation_gwh_2019', 'generation_data_source',\n",
              "       'estimated_generation_gwh'],\n",
              "      dtype='object')"
            ]
          },
          "execution_count": 78,
          "metadata": {},
          "output_type": "execute_result"
        }
      ],
      "source": [
        "df.columns #Calling all the column names of the dataset"
      ]
    },
    {
      "cell_type": "markdown",
      "id": "c857b520",
      "metadata": {
        "id": "c857b520"
      },
      "source": [
        "- `country` (text): 3 character country code corresponding to the ISO 3166-1 alpha-3 specification [5]\n",
        "- `country_long` (text): longer form of the country designation\n",
        "- `name` (text): name or title of the power plant, generally in Romanized form\n",
        "- `gppd_idnr` (text): 10 or 12 character identifier for the power plant\n",
        "- `capacity_mw` (number): electrical generating capacity in megawatts\n",
        "- `latitude` (number): geolocation in decimal degrees; WGS84 (EPSG:4326)\n",
        "- `longitude` (number): geolocation in decimal degrees; WGS84 (EPSG:4326)\n",
        "- `primary_fuel` (text): energy source used in primary electricity generation or export\n",
        "- `other_fuel1` (text): energy source used in electricity generation or export\n",
        "- `other_fuel2` (text): energy source used in electricity generation or export\n",
        "- `other_fuel3` (text): energy source used in electricity generation or export\n",
        "- `commissioning_year` (number): year of plant operation, weighted by unit-capacity when data is available\n",
        "- `owner` (text): majority shareholder of the power plant, generally in Romanized form\n",
        "- `source` (text): entity reporting the data; could be an organization, report, or document, generally in Romanized form\n",
        "- `url` (text): web document corresponding to the `source` field\n",
        "- `geolocation_source` (text): attribution for geolocation information\n",
        "- `wepp_id` (text): a reference to a unique plant identifier in the widely-used PLATTS-WEPP database.\n",
        "- `year_of_capacity_data` (number): year the capacity information was reported\n",
        "- `generation_gwh_2013` (number): electricity generation in gigawatt-hours reported for the year 2013\n",
        "- `generation_gwh_2014` (number): electricity generation in gigawatt-hours reported for the year 2014\n",
        "- `generation_gwh_2015` (number): electricity generation in gigawatt-hours reported for the year 2015\n",
        "- `generation_gwh_2016` (number): electricity generation in gigawatt-hours reported for the year 2016\n",
        "- `generation_gwh_2017` (number): electricity generation in gigawatt-hours reported for the year 2017\n",
        "- `generation_gwh_2018` (number): electricity generation in gigawatt-hours reported for the year 2018\n",
        "- `generation_gwh_2019` (number): electricity generation in gigawatt-hours reported for the year 2019\n",
        "- `generation_data_source` (text): attribution for the reported generation information\n",
        "- `estimated_generation_gwh_2013` (number): estimated electricity generation in gigawatt-hours for the year 2013\n",
        "- `estimated_generation_gwh_2014` (number): estimated electricity generation in gigawatt-hours for the year 2014\n",
        "- `estimated_generation_gwh_2015` (number): estimated electricity generation in gigawatt-hours for the year 2015\n",
        "- `estimated_generation_gwh_2016` (number): estimated electricity - generation in gigawatt-hours for the year 2016\n",
        "- `estimated_generation_gwh_2017` (number): estimated electricity generation in gigawatt-hours for the year 2017\n",
        "- 'estimated_generation_note_2013` (text): label of the model/method used to estimate generation for the year 2013\n",
        "- `estimated_generation_note_2014` (text): label of the model/method used to estimate generation for the year 2014\n",
        "- `estimated_generation_note_2015` (text): label of the model/method used to estimate generation for the year 2015\n",
        "- `estimated_generation_note_2016` (text): label of the model/method used to estimate generation for the year 2016\n",
        "- `estimated_generation_note_2017` (text): label of the model/method used to estimate generation for the year 2017"
      ]
    },
    {
      "cell_type": "code",
      "execution_count": null,
      "id": "5caccb3b",
      "metadata": {
        "id": "5caccb3b",
        "outputId": "82ad107d-76d7-43f6-ac31-3b552de088f4"
      },
      "outputs": [
        {
          "data": {
            "text/plain": [
              "(907, 27)"
            ]
          },
          "execution_count": 79,
          "metadata": {},
          "output_type": "execute_result"
        }
      ],
      "source": [
        "df.shape #Looking into the shape of the dataset"
      ]
    },
    {
      "cell_type": "code",
      "execution_count": null,
      "id": "4096b9f5",
      "metadata": {
        "id": "4096b9f5",
        "outputId": "f49bd880-d1bd-47c6-f666-6bdd372642ca"
      },
      "outputs": [
        {
          "name": "stdout",
          "output_type": "stream",
          "text": [
            "<class 'pandas.core.frame.DataFrame'>\n",
            "RangeIndex: 907 entries, 0 to 906\n",
            "Data columns (total 27 columns):\n",
            " #   Column                    Non-Null Count  Dtype  \n",
            "---  ------                    --------------  -----  \n",
            " 0   country                   907 non-null    object \n",
            " 1   country_long              907 non-null    object \n",
            " 2   name                      907 non-null    object \n",
            " 3   gppd_idnr                 907 non-null    object \n",
            " 4   capacity_mw               907 non-null    float64\n",
            " 5   latitude                  861 non-null    float64\n",
            " 6   longitude                 861 non-null    float64\n",
            " 7   primary_fuel              907 non-null    object \n",
            " 8   other_fuel1               198 non-null    object \n",
            " 9   other_fuel2               1 non-null      object \n",
            " 10  other_fuel3               0 non-null      float64\n",
            " 11  commissioning_year        527 non-null    float64\n",
            " 12  owner                     342 non-null    object \n",
            " 13  source                    907 non-null    object \n",
            " 14  url                       907 non-null    object \n",
            " 15  geolocation_source        888 non-null    object \n",
            " 16  wepp_id                   0 non-null      float64\n",
            " 17  year_of_capacity_data     519 non-null    float64\n",
            " 18  generation_gwh_2013       0 non-null      float64\n",
            " 19  generation_gwh_2014       398 non-null    float64\n",
            " 20  generation_gwh_2015       422 non-null    float64\n",
            " 21  generation_gwh_2016       434 non-null    float64\n",
            " 22  generation_gwh_2017       440 non-null    float64\n",
            " 23  generation_gwh_2018       448 non-null    float64\n",
            " 24  generation_gwh_2019       0 non-null      float64\n",
            " 25  generation_data_source    449 non-null    object \n",
            " 26  estimated_generation_gwh  0 non-null      float64\n",
            "dtypes: float64(15), object(12)\n",
            "memory usage: 191.4+ KB\n"
          ]
        }
      ],
      "source": [
        "df.info() #Basic info of the dataset"
      ]
    },
    {
      "cell_type": "code",
      "execution_count": null,
      "id": "cbefc480",
      "metadata": {
        "id": "cbefc480",
        "outputId": "27122644-aae1-440c-805f-211bb34bc377"
      },
      "outputs": [
        {
          "data": {
            "text/plain": [
              "country                       0\n",
              "country_long                  0\n",
              "name                          0\n",
              "gppd_idnr                     0\n",
              "capacity_mw                   0\n",
              "latitude                     46\n",
              "longitude                    46\n",
              "primary_fuel                  0\n",
              "other_fuel1                 709\n",
              "other_fuel2                 906\n",
              "other_fuel3                 907\n",
              "commissioning_year          380\n",
              "owner                       565\n",
              "source                        0\n",
              "url                           0\n",
              "geolocation_source           19\n",
              "wepp_id                     907\n",
              "year_of_capacity_data       388\n",
              "generation_gwh_2013         907\n",
              "generation_gwh_2014         509\n",
              "generation_gwh_2015         485\n",
              "generation_gwh_2016         473\n",
              "generation_gwh_2017         467\n",
              "generation_gwh_2018         459\n",
              "generation_gwh_2019         907\n",
              "generation_data_source      458\n",
              "estimated_generation_gwh    907\n",
              "dtype: int64"
            ]
          },
          "execution_count": 81,
          "metadata": {},
          "output_type": "execute_result"
        }
      ],
      "source": [
        "df.isnull().sum() #Checking for null values again"
      ]
    },
    {
      "cell_type": "code",
      "execution_count": null,
      "id": "c004441b",
      "metadata": {
        "id": "c004441b",
        "outputId": "7474297b-b382-42b5-f675-f89d15fb96d6"
      },
      "outputs": [
        {
          "data": {
            "text/plain": [
              "<AxesSubplot:>"
            ]
          },
          "execution_count": 82,
          "metadata": {},
          "output_type": "execute_result"
        },
        {
          "data": {
            "image/png": "[encoded data removed]",
            "text/plain": [
              "<Figure size 432x288 with 2 Axes>"
            ]
          },
          "metadata": {
            "needs_background": "light"
          },
          "output_type": "display_data"
        }
      ],
      "source": [
        "sns.heatmap(df.isnull()) #Visualization of null values"
      ]
    },
    {
      "cell_type": "code",
      "execution_count": null,
      "id": "0175b3f6",
      "metadata": {
        "id": "0175b3f6",
        "outputId": "97231a61-c1dc-49f3-ae1a-d72a3bba54d8"
      },
      "outputs": [
        {
          "data": {
            "text/html": [
              "<div>\n",
              "<style scoped>\n",
              "    .dataframe tbody tr th:only-of-type {\n",
              "        vertical-align: middle;\n",
              "    }\n",
              "\n",
              "    .dataframe tbody tr th {\n",
              "        vertical-align: top;\n",
              "    }\n",
              "\n",
              "    .dataframe thead th {\n",
              "        text-align: right;\n",
              "    }\n",
              "</style>\n",
              "<table border=\"1\" class=\"dataframe\">\n",
              "  <thead>\n",
              "    <tr style=\"text-align: right;\">\n",
              "      <th></th>\n",
              "      <th>capacity_mw</th>\n",
              "      <th>latitude</th>\n",
              "      <th>longitude</th>\n",
              "      <th>other_fuel3</th>\n",
              "      <th>commissioning_year</th>\n",
              "      <th>wepp_id</th>\n",
              "      <th>year_of_capacity_data</th>\n",
              "      <th>generation_gwh_2013</th>\n",
              "      <th>generation_gwh_2014</th>\n",
              "      <th>generation_gwh_2015</th>\n",
              "      <th>generation_gwh_2016</th>\n",
              "      <th>generation_gwh_2017</th>\n",
              "      <th>generation_gwh_2018</th>\n",
              "      <th>generation_gwh_2019</th>\n",
              "      <th>estimated_generation_gwh</th>\n",
              "    </tr>\n",
              "  </thead>\n",
              "  <tbody>\n",
              "    <tr>\n",
              "      <th>count</th>\n",
              "      <td>907.000000</td>\n",
              "      <td>861.000000</td>\n",
              "      <td>861.000000</td>\n",
              "      <td>0.0</td>\n",
              "      <td>527.000000</td>\n",
              "      <td>0.0</td>\n",
              "      <td>519.0</td>\n",
              "      <td>0.0</td>\n",
              "      <td>398.000000</td>\n",
              "      <td>422.000000</td>\n",
              "      <td>434.000000</td>\n",
              "      <td>440.000000</td>\n",
              "      <td>448.000000</td>\n",
              "      <td>0.0</td>\n",
              "      <td>0.0</td>\n",
              "    </tr>\n",
              "    <tr>\n",
              "      <th>mean</th>\n",
              "      <td>326.223755</td>\n",
              "      <td>21.197918</td>\n",
              "      <td>77.464907</td>\n",
              "      <td>NaN</td>\n",
              "      <td>1997.091082</td>\n",
              "      <td>NaN</td>\n",
              "      <td>2019.0</td>\n",
              "      <td>NaN</td>\n",
              "      <td>2431.823590</td>\n",
              "      <td>2428.226946</td>\n",
              "      <td>2467.936859</td>\n",
              "      <td>2547.759305</td>\n",
              "      <td>2600.804099</td>\n",
              "      <td>NaN</td>\n",
              "      <td>NaN</td>\n",
              "    </tr>\n",
              "    <tr>\n",
              "      <th>std</th>\n",
              "      <td>590.085456</td>\n",
              "      <td>6.239612</td>\n",
              "      <td>4.939316</td>\n",
              "      <td>NaN</td>\n",
              "      <td>17.082868</td>\n",
              "      <td>NaN</td>\n",
              "      <td>0.0</td>\n",
              "      <td>NaN</td>\n",
              "      <td>4026.440035</td>\n",
              "      <td>4194.596959</td>\n",
              "      <td>4162.884308</td>\n",
              "      <td>4196.991169</td>\n",
              "      <td>4314.880456</td>\n",
              "      <td>NaN</td>\n",
              "      <td>NaN</td>\n",
              "    </tr>\n",
              "    <tr>\n",
              "      <th>min</th>\n",
              "      <td>0.000000</td>\n",
              "      <td>8.168900</td>\n",
              "      <td>68.644700</td>\n",
              "      <td>NaN</td>\n",
              "      <td>1927.000000</td>\n",
              "      <td>NaN</td>\n",
              "      <td>2019.0</td>\n",
              "      <td>NaN</td>\n",
              "      <td>0.000000</td>\n",
              "      <td>0.000000</td>\n",
              "      <td>0.000000</td>\n",
              "      <td>0.000000</td>\n",
              "      <td>0.000000</td>\n",
              "      <td>NaN</td>\n",
              "      <td>NaN</td>\n",
              "    </tr>\n",
              "    <tr>\n",
              "      <th>25%</th>\n",
              "      <td>16.725000</td>\n",
              "      <td>16.773900</td>\n",
              "      <td>74.256200</td>\n",
              "      <td>NaN</td>\n",
              "      <td>1988.000000</td>\n",
              "      <td>NaN</td>\n",
              "      <td>2019.0</td>\n",
              "      <td>NaN</td>\n",
              "      <td>223.557672</td>\n",
              "      <td>176.381063</td>\n",
              "      <td>188.285252</td>\n",
              "      <td>177.874930</td>\n",
              "      <td>193.378250</td>\n",
              "      <td>NaN</td>\n",
              "      <td>NaN</td>\n",
              "    </tr>\n",
              "    <tr>\n",
              "      <th>50%</th>\n",
              "      <td>59.200000</td>\n",
              "      <td>21.780000</td>\n",
              "      <td>76.719500</td>\n",
              "      <td>NaN</td>\n",
              "      <td>2001.000000</td>\n",
              "      <td>NaN</td>\n",
              "      <td>2019.0</td>\n",
              "      <td>NaN</td>\n",
              "      <td>801.123775</td>\n",
              "      <td>711.181225</td>\n",
              "      <td>737.205450</td>\n",
              "      <td>817.977250</td>\n",
              "      <td>751.644375</td>\n",
              "      <td>NaN</td>\n",
              "      <td>NaN</td>\n",
              "    </tr>\n",
              "    <tr>\n",
              "      <th>75%</th>\n",
              "      <td>385.250000</td>\n",
              "      <td>25.512400</td>\n",
              "      <td>79.440800</td>\n",
              "      <td>NaN</td>\n",
              "      <td>2012.000000</td>\n",
              "      <td>NaN</td>\n",
              "      <td>2019.0</td>\n",
              "      <td>NaN</td>\n",
              "      <td>3035.306250</td>\n",
              "      <td>3084.121250</td>\n",
              "      <td>3282.861313</td>\n",
              "      <td>3275.690475</td>\n",
              "      <td>3143.535900</td>\n",
              "      <td>NaN</td>\n",
              "      <td>NaN</td>\n",
              "    </tr>\n",
              "    <tr>\n",
              "      <th>max</th>\n",
              "      <td>4760.000000</td>\n",
              "      <td>34.649000</td>\n",
              "      <td>95.408000</td>\n",
              "      <td>NaN</td>\n",
              "      <td>2018.000000</td>\n",
              "      <td>NaN</td>\n",
              "      <td>2019.0</td>\n",
              "      <td>NaN</td>\n",
              "      <td>28127.000000</td>\n",
              "      <td>30539.000000</td>\n",
              "      <td>30015.000000</td>\n",
              "      <td>35116.000000</td>\n",
              "      <td>35136.000000</td>\n",
              "      <td>NaN</td>\n",
              "      <td>NaN</td>\n",
              "    </tr>\n",
              "  </tbody>\n",
              "</table>\n",
              "</div>"
            ],
            "text/plain": [
              "       capacity_mw    latitude   longitude  other_fuel3  commissioning_year  \\\n",
              "count   907.000000  861.000000  861.000000          0.0          527.000000   \n",
              "mean    326.223755   21.197918   77.464907          NaN         1997.091082   \n",
              "std     590.085456    6.239612    4.939316          NaN           17.082868   \n",
              "min       0.000000    8.168900   68.644700          NaN         1927.000000   \n",
              "25%      16.725000   16.773900   74.256200          NaN         1988.000000   \n",
              "50%      59.200000   21.780000   76.719500          NaN         2001.000000   \n",
              "75%     385.250000   25.512400   79.440800          NaN         2012.000000   \n",
              "max    4760.000000   34.649000   95.408000          NaN         2018.000000   \n",
              "\n",
              "       wepp_id  year_of_capacity_data  generation_gwh_2013  \\\n",
              "count      0.0                  519.0                  0.0   \n",
              "mean       NaN                 2019.0                  NaN   \n",
              "std        NaN                    0.0                  NaN   \n",
              "min        NaN                 2019.0                  NaN   \n",
              "25%        NaN                 2019.0                  NaN   \n",
              "50%        NaN                 2019.0                  NaN   \n",
              "75%        NaN                 2019.0                  NaN   \n",
              "max        NaN                 2019.0                  NaN   \n",
              "\n",
              "       generation_gwh_2014  generation_gwh_2015  generation_gwh_2016  \\\n",
              "count           398.000000           422.000000           434.000000   \n",
              "mean           2431.823590          2428.226946          2467.936859   \n",
              "std            4026.440035          4194.596959          4162.884308   \n",
              "min               0.000000             0.000000             0.000000   \n",
              "25%             223.557672           176.381063           188.285252   \n",
              "50%             801.123775           711.181225           737.205450   \n",
              "75%            3035.306250          3084.121250          3282.861313   \n",
              "max           28127.000000         30539.000000         30015.000000   \n",
              "\n",
              "       generation_gwh_2017  generation_gwh_2018  generation_gwh_2019  \\\n",
              "count           440.000000           448.000000                  0.0   \n",
              "mean           2547.759305          2600.804099                  NaN   \n",
              "std            4196.991169          4314.880456                  NaN   \n",
              "min               0.000000             0.000000                  NaN   \n",
              "25%             177.874930           193.378250                  NaN   \n",
              "50%             817.977250           751.644375                  NaN   \n",
              "75%            3275.690475          3143.535900                  NaN   \n",
              "max           35116.000000         35136.000000                  NaN   \n",
              "\n",
              "       estimated_generation_gwh  \n",
              "count                       0.0  \n",
              "mean                        NaN  \n",
              "std                         NaN  \n",
              "min                         NaN  \n",
              "25%                         NaN  \n",
              "50%                         NaN  \n",
              "75%                         NaN  \n",
              "max                         NaN  "
            ]
          },
          "execution_count": 83,
          "metadata": {},
          "output_type": "execute_result"
        }
      ],
      "source": [
        "df.describe() #Statistical evaluation of teh dataset"
      ]
    },
    {
      "cell_type": "markdown",
      "id": "d249a47c",
      "metadata": {
        "id": "d249a47c"
      },
      "source": [
        "# Exploratory Data Analysis"
      ]
    },
    {
      "cell_type": "markdown",
      "id": "fd4db7e9",
      "metadata": {
        "id": "fd4db7e9"
      },
      "source": [
        "Let us now look into all the columns one at a time, beginning with the target columns primary_fuel and capacity_mw"
      ]
    },
    {
      "cell_type": "code",
      "execution_count": null,
      "id": "38919c92",
      "metadata": {
        "id": "38919c92",
        "outputId": "a28978e7-e7b7-4362-82c7-68bf34495d83"
      },
      "outputs": [
        {
          "data": {
            "text/plain": [
              "0"
            ]
          },
          "execution_count": 84,
          "metadata": {},
          "output_type": "execute_result"
        }
      ],
      "source": [
        "#Counting for any null values\n",
        "df['primary_fuel'].isnull().sum()"
      ]
    },
    {
      "cell_type": "code",
      "execution_count": null,
      "id": "dcf5ebf4",
      "metadata": {
        "id": "dcf5ebf4",
        "outputId": "f8bc4618-9366-4d21-da47-bc74e5eb1caa"
      },
      "outputs": [
        {
          "data": {
            "text/plain": [
              "<AxesSubplot:xlabel='primary_fuel', ylabel='count'>"
            ]
          },
          "execution_count": 85,
          "metadata": {},
          "output_type": "execute_result"
        },
        {
          "data": {
            "image/png": "[encoded data removed]",
            "text/plain": [
              "<Figure size 432x288 with 1 Axes>"
            ]
          },
          "metadata": {
            "needs_background": "light"
          },
          "output_type": "display_data"
        }
      ],
      "source": [
        "#Countplot for the Primary_fuel\n",
        "sns.countplot(df['primary_fuel'])"
      ]
    },
    {
      "cell_type": "markdown",
      "id": "4ec48d2f",
      "metadata": {
        "id": "4ec48d2f"
      },
      "source": [
        "Encoding the data, converting it to numerical value"
      ]
    },
    {
      "cell_type": "code",
      "execution_count": null,
      "id": "4502f47f",
      "metadata": {
        "id": "4502f47f"
      },
      "outputs": [],
      "source": [
        "#Encoding the data\n",
        "le = LabelEncoder()\n",
        "df['primary_fuel'] = le.fit_transform(df['primary_fuel']) #Encoding data"
      ]
    },
    {
      "cell_type": "code",
      "execution_count": null,
      "id": "20613e6e",
      "metadata": {
        "id": "20613e6e",
        "outputId": "018dfe41-fea8-4fc8-a2ff-ef2ff38cd352"
      },
      "outputs": [
        {
          "data": {
            "text/plain": [
              "<AxesSubplot:xlabel='primary_fuel'>"
            ]
          },
          "execution_count": 87,
          "metadata": {},
          "output_type": "execute_result"
        },
        {
          "data": {
            "image/png": "[encoded data removed]",
            "text/plain": [
              "<Figure size 432x288 with 1 Axes>"
            ]
          },
          "metadata": {
            "needs_background": "light"
          },
          "output_type": "display_data"
        }
      ],
      "source": [
        "#Boxplot for the Primary_fuel\n",
        "sns.boxplot(df['primary_fuel'])"
      ]
    },
    {
      "cell_type": "code",
      "execution_count": null,
      "id": "cd488b3f",
      "metadata": {
        "id": "cd488b3f",
        "outputId": "4cc6e6cf-d115-4ef6-b878-8e23065da2fe"
      },
      "outputs": [
        {
          "data": {
            "text/plain": [
              "0"
            ]
          },
          "execution_count": 88,
          "metadata": {},
          "output_type": "execute_result"
        }
      ],
      "source": [
        "#Counting for any null values\n",
        "df['capacity_mw'].isnull().sum()"
      ]
    },
    {
      "cell_type": "code",
      "execution_count": null,
      "id": "73ebeb18",
      "metadata": {
        "id": "73ebeb18",
        "outputId": "6b0a57e0-c7fc-4fc5-ce87-fa5c57b07f47"
      },
      "outputs": [
        {
          "data": {
            "text/plain": [
              "<AxesSubplot:xlabel='capacity_mw', ylabel='Density'>"
            ]
          },
          "execution_count": 89,
          "metadata": {},
          "output_type": "execute_result"
        },
        {
          "data": {
            "image/png": "[encoded data removed]",
            "text/plain": [
              "<Figure size 432x288 with 1 Axes>"
            ]
          },
          "metadata": {
            "needs_background": "light"
          },
          "output_type": "display_data"
        }
      ],
      "source": [
        "#Density plot for the capacity_mw\n",
        "sns.distplot(df['capacity_mw'])"
      ]
    },
    {
      "cell_type": "code",
      "execution_count": null,
      "id": "8f12c27d",
      "metadata": {
        "id": "8f12c27d",
        "outputId": "10fae28a-147b-4987-d91c-34145f536890"
      },
      "outputs": [
        {
          "data": {
            "text/plain": [
              "<AxesSubplot:xlabel='capacity_mw'>"
            ]
          },
          "execution_count": 90,
          "metadata": {},
          "output_type": "execute_result"
        },
        {
          "data": {
            "image/png": "[encoded data removed]",
            "text/plain": [
              "<Figure size 432x288 with 1 Axes>"
            ]
          },
          "metadata": {
            "needs_background": "light"
          },
          "output_type": "display_data"
        }
      ],
      "source": [
        "#Boxplot for the capacity_mw\n",
        "sns.boxplot(df['capacity_mw'])"
      ]
    },
    {
      "cell_type": "code",
      "execution_count": null,
      "id": "97adc93b",
      "metadata": {
        "id": "97adc93b",
        "outputId": "056036e0-5285-4960-9110-13a142804cf7"
      },
      "outputs": [
        {
          "data": {
            "text/plain": [
              "<AxesSubplot:xlabel='country', ylabel='count'>"
            ]
          },
          "execution_count": 91,
          "metadata": {},
          "output_type": "execute_result"
        },
        {
          "data": {
            "image/png": "[encoded data removed]",
            "text/plain": [
              "<Figure size 432x288 with 1 Axes>"
            ]
          },
          "metadata": {
            "needs_background": "light"
          },
          "output_type": "display_data"
        }
      ],
      "source": [
        "#Countplot for the country\n",
        "sns.countplot(df['country'])"
      ]
    },
    {
      "cell_type": "code",
      "execution_count": null,
      "id": "c857f7ec",
      "metadata": {
        "id": "c857f7ec",
        "outputId": "676120d4-3d13-43f8-bbef-318e3dcf329e"
      },
      "outputs": [
        {
          "data": {
            "text/plain": [
              "IND    907\n",
              "Name: country, dtype: int64"
            ]
          },
          "execution_count": 92,
          "metadata": {},
          "output_type": "execute_result"
        }
      ],
      "source": [
        "df['country'].value_counts()"
      ]
    },
    {
      "cell_type": "markdown",
      "id": "407e6a20",
      "metadata": {
        "id": "407e6a20"
      },
      "source": [
        "Since, all the data is from IND, it doesnt play much role in the model. Hence we can drop this table"
      ]
    },
    {
      "cell_type": "code",
      "execution_count": null,
      "id": "d7a3ff57",
      "metadata": {
        "id": "d7a3ff57"
      },
      "outputs": [],
      "source": [
        "#Dropping the column country\n",
        "df = df.drop(columns='country')"
      ]
    },
    {
      "cell_type": "code",
      "execution_count": null,
      "id": "e72f7265",
      "metadata": {
        "id": "e72f7265",
        "outputId": "bae066c7-40e4-4dc8-a2b4-b77fca2f1072"
      },
      "outputs": [
        {
          "data": {
            "text/plain": [
              "<AxesSubplot:xlabel='country_long', ylabel='count'>"
            ]
          },
          "execution_count": 94,
          "metadata": {},
          "output_type": "execute_result"
        },
        {
          "data": {
            "image/png": "[encoded data removed]",
            "text/plain": [
              "<Figure size 432x288 with 1 Axes>"
            ]
          },
          "metadata": {
            "needs_background": "light"
          },
          "output_type": "display_data"
        }
      ],
      "source": [
        "#Countplot for the country_long\n",
        "sns.countplot(df['country_long'])"
      ]
    },
    {
      "cell_type": "code",
      "execution_count": null,
      "id": "792e484e",
      "metadata": {
        "id": "792e484e",
        "outputId": "091a9363-fcb7-43ea-bfe9-d2aa8e8d7bb3"
      },
      "outputs": [
        {
          "data": {
            "text/plain": [
              "India    907\n",
              "Name: country_long, dtype: int64"
            ]
          },
          "execution_count": 95,
          "metadata": {},
          "output_type": "execute_result"
        }
      ],
      "source": [
        "df['country_long'].value_counts()"
      ]
    },
    {
      "cell_type": "markdown",
      "id": "d8fb7f44",
      "metadata": {
        "id": "d8fb7f44"
      },
      "source": [
        "Since, all the data is from India, it doesnt play much role in the model. Hence we can drop this table"
      ]
    },
    {
      "cell_type": "code",
      "execution_count": null,
      "id": "a5c07ef8",
      "metadata": {
        "id": "a5c07ef8"
      },
      "outputs": [],
      "source": [
        "#Dropping the column country_long\n",
        "df = df.drop(columns = 'country_long')"
      ]
    },
    {
      "cell_type": "code",
      "execution_count": null,
      "id": "951f157f",
      "metadata": {
        "id": "951f157f"
      },
      "outputs": [],
      "source": [
        "#Encoding data for column 'name'\n",
        "df['name'] = le.fit_transform(df['name'])"
      ]
    },
    {
      "cell_type": "code",
      "execution_count": null,
      "id": "717f244b",
      "metadata": {
        "id": "717f244b",
        "outputId": "ed462610-335e-4c26-baa6-1e44c108d684"
      },
      "outputs": [
        {
          "data": {
            "text/plain": [
              "<AxesSubplot:xlabel='name', ylabel='Density'>"
            ]
          },
          "execution_count": 99,
          "metadata": {},
          "output_type": "execute_result"
        },
        {
          "data": {
            "image/png": "[encoded data removed]",
            "text/plain": [
              "<Figure size 432x288 with 1 Axes>"
            ]
          },
          "metadata": {
            "needs_background": "light"
          },
          "output_type": "display_data"
        }
      ],
      "source": [
        "#Density plot for column 'name'\n",
        "sns.distplot(df['name'])"
      ]
    },
    {
      "cell_type": "code",
      "execution_count": null,
      "id": "a2811a40",
      "metadata": {
        "id": "a2811a40",
        "outputId": "3fb38ea3-9777-428d-e870-ddcf22d31f16"
      },
      "outputs": [
        {
          "data": {
            "text/plain": [
              "<AxesSubplot:xlabel='name'>"
            ]
          },
          "execution_count": 100,
          "metadata": {},
          "output_type": "execute_result"
        },
        {
          "data": {
            "image/png": "[encoded data removed]",
            "text/plain": [
              "<Figure size 432x288 with 1 Axes>"
            ]
          },
          "metadata": {
            "needs_background": "light"
          },
          "output_type": "display_data"
        }
      ],
      "source": [
        "#Box plot for column 'name'\n",
        "sns.boxplot(df['name'])"
      ]
    },
    {
      "cell_type": "code",
      "execution_count": null,
      "id": "5983751c",
      "metadata": {
        "id": "5983751c",
        "outputId": "096dde28-8a4f-4b15-9e61-ea0988ddadcc"
      },
      "outputs": [
        {
          "data": {
            "text/plain": [
              "907"
            ]
          },
          "execution_count": 41,
          "metadata": {},
          "output_type": "execute_result"
        }
      ],
      "source": [
        "#Checking for the unique values gppd_idnr\n",
        "df['gppd_idnr'].nunique()"
      ]
    },
    {
      "cell_type": "code",
      "execution_count": null,
      "id": "63414083",
      "metadata": {
        "id": "63414083"
      },
      "outputs": [],
      "source": [
        "#Encoding the data for gppd_idnr\n",
        "df['gppd_idnr'] = le.fit_transform(df['gppd_idnr'])"
      ]
    },
    {
      "cell_type": "code",
      "execution_count": null,
      "id": "a6751564",
      "metadata": {
        "id": "a6751564",
        "outputId": "78444c3b-11ef-4a47-d860-6647a6d2a914"
      },
      "outputs": [
        {
          "data": {
            "text/plain": [
              "<AxesSubplot:xlabel='gppd_idnr', ylabel='Density'>"
            ]
          },
          "execution_count": 102,
          "metadata": {},
          "output_type": "execute_result"
        },
        {
          "data": {
            "image/png": "[encoded data removed]",
            "text/plain": [
              "<Figure size 432x288 with 1 Axes>"
            ]
          },
          "metadata": {
            "needs_background": "light"
          },
          "output_type": "display_data"
        }
      ],
      "source": [
        "#Density plot for column 'gppd_idnr'\n",
        "sns.distplot(df['gppd_idnr'])"
      ]
    },
    {
      "cell_type": "code",
      "execution_count": null,
      "id": "6acee0fc",
      "metadata": {
        "id": "6acee0fc",
        "outputId": "64d26580-df1c-42d1-dcc8-90cfc36722b5"
      },
      "outputs": [
        {
          "data": {
            "text/plain": [
              "<AxesSubplot:xlabel='gppd_idnr'>"
            ]
          },
          "execution_count": 103,
          "metadata": {},
          "output_type": "execute_result"
        },
        {
          "data": {
            "image/png": "[encoded data removed]",
            "text/plain": [
              "<Figure size 432x288 with 1 Axes>"
            ]
          },
          "metadata": {
            "needs_background": "light"
          },
          "output_type": "display_data"
        }
      ],
      "source": [
        "#Box plot for column 'gppd_idnr'\n",
        "sns.boxplot(df['gppd_idnr'])"
      ]
    },
    {
      "cell_type": "code",
      "execution_count": null,
      "id": "25b07b64",
      "metadata": {
        "id": "25b07b64",
        "outputId": "8b49a15a-5fb3-4c45-e63e-37343ee13bd4"
      },
      "outputs": [
        {
          "data": {
            "text/plain": [
              "46"
            ]
          },
          "execution_count": 46,
          "metadata": {},
          "output_type": "execute_result"
        }
      ],
      "source": [
        "#Checking for null values\n",
        "df['latitude'].isnull().sum()"
      ]
    },
    {
      "cell_type": "markdown",
      "id": "46c10fc6",
      "metadata": {
        "id": "46c10fc6"
      },
      "source": [
        "Let us fill the null values with the mean values to complete the data"
      ]
    },
    {
      "cell_type": "code",
      "execution_count": null,
      "id": "c87903ed",
      "metadata": {
        "id": "c87903ed"
      },
      "outputs": [],
      "source": [
        "#Replacing null values with mean\n",
        "df['latitude'].fillna(df['latitude'].mean(), inplace=True)"
      ]
    },
    {
      "cell_type": "code",
      "execution_count": null,
      "id": "7fd6d5f2",
      "metadata": {
        "id": "7fd6d5f2",
        "outputId": "2af623e9-514d-4016-b43b-4ea99946108f"
      },
      "outputs": [
        {
          "data": {
            "text/plain": [
              "0"
            ]
          },
          "execution_count": 50,
          "metadata": {},
          "output_type": "execute_result"
        }
      ],
      "source": [
        "#Checking for null values\n",
        "df['latitude'].isnull().sum()"
      ]
    },
    {
      "cell_type": "code",
      "execution_count": null,
      "id": "24a0d495",
      "metadata": {
        "id": "24a0d495",
        "outputId": "a68db9b8-4f1c-4b3d-873b-fed4b28b830f"
      },
      "outputs": [
        {
          "data": {
            "text/plain": [
              "<AxesSubplot:xlabel='latitude', ylabel='Density'>"
            ]
          },
          "execution_count": 51,
          "metadata": {},
          "output_type": "execute_result"
        },
        {
          "data": {
            "image/png": "[encoded data removed]",
            "text/plain": [
              "<Figure size 432x288 with 1 Axes>"
            ]
          },
          "metadata": {
            "needs_background": "light"
          },
          "output_type": "display_data"
        }
      ],
      "source": [
        "#Density plot for the latitude\n",
        "sns.distplot(df['latitude'])"
      ]
    },
    {
      "cell_type": "code",
      "execution_count": null,
      "id": "d5538ce3",
      "metadata": {
        "id": "d5538ce3",
        "outputId": "ae065d17-d55e-4033-f8db-b123626113cc"
      },
      "outputs": [
        {
          "data": {
            "text/plain": [
              "<AxesSubplot:xlabel='latitude'>"
            ]
          },
          "execution_count": 52,
          "metadata": {},
          "output_type": "execute_result"
        },
        {
          "data": {
            "image/png": "[encoded data removed]",
            "text/plain": [
              "<Figure size 432x288 with 1 Axes>"
            ]
          },
          "metadata": {
            "needs_background": "light"
          },
          "output_type": "display_data"
        }
      ],
      "source": [
        "#Box plot for the latitude\n",
        "sns.boxplot(df['latitude'])"
      ]
    },
    {
      "cell_type": "code",
      "execution_count": null,
      "id": "a6990805",
      "metadata": {
        "id": "a6990805",
        "outputId": "c6b020dc-0cf5-4a58-f36d-8c3c293bb1b0"
      },
      "outputs": [
        {
          "data": {
            "text/plain": [
              "46"
            ]
          },
          "execution_count": 104,
          "metadata": {},
          "output_type": "execute_result"
        }
      ],
      "source": [
        "#Checking for null values\n",
        "df['longitude'].isnull().sum()"
      ]
    },
    {
      "cell_type": "markdown",
      "id": "901391da",
      "metadata": {
        "id": "901391da"
      },
      "source": [
        "Let us fill the null values with the mean values to complete the data"
      ]
    },
    {
      "cell_type": "code",
      "execution_count": null,
      "id": "1be145ee",
      "metadata": {
        "id": "1be145ee"
      },
      "outputs": [],
      "source": [
        "#Replacing null values with mean\n",
        "df['longitude'].fillna(df['longitude'].mean(), inplace=True)"
      ]
    },
    {
      "cell_type": "code",
      "execution_count": null,
      "id": "cda088ae",
      "metadata": {
        "id": "cda088ae",
        "outputId": "9fcc4067-462c-49b5-9ed7-aaf83174558a"
      },
      "outputs": [
        {
          "data": {
            "text/plain": [
              "0"
            ]
          },
          "execution_count": 106,
          "metadata": {},
          "output_type": "execute_result"
        }
      ],
      "source": [
        "#Checking for null values\n",
        "df['longitude'].isnull().sum()"
      ]
    },
    {
      "cell_type": "code",
      "execution_count": null,
      "id": "b02634fd",
      "metadata": {
        "id": "b02634fd",
        "outputId": "f38853bc-537f-41f2-dff5-c594be7a23b5"
      },
      "outputs": [
        {
          "data": {
            "text/plain": [
              "<AxesSubplot:xlabel='longitude', ylabel='Density'>"
            ]
          },
          "execution_count": 107,
          "metadata": {},
          "output_type": "execute_result"
        },
        {
          "data": {
            "image/png": "[encoded data removed]",
            "text/plain": [
              "<Figure size 432x288 with 1 Axes>"
            ]
          },
          "metadata": {
            "needs_background": "light"
          },
          "output_type": "display_data"
        }
      ],
      "source": [
        "#Density plot for the longitude\n",
        "sns.distplot(df['longitude'])"
      ]
    },
    {
      "cell_type": "code",
      "execution_count": null,
      "id": "4fe11e86",
      "metadata": {
        "id": "4fe11e86",
        "outputId": "57f3c254-f102-48e0-c7cf-eb8d16be7883"
      },
      "outputs": [
        {
          "data": {
            "text/plain": [
              "<AxesSubplot:xlabel='longitude'>"
            ]
          },
          "execution_count": 108,
          "metadata": {},
          "output_type": "execute_result"
        },
        {
          "data": {
            "image/png": "[encoded data removed]",
            "text/plain": [
              "<Figure size 432x288 with 1 Axes>"
            ]
          },
          "metadata": {
            "needs_background": "light"
          },
          "output_type": "display_data"
        }
      ],
      "source": [
        "#Box plot for the latitude\n",
        "sns.boxplot(df['longitude'])"
      ]
    },
    {
      "cell_type": "code",
      "execution_count": null,
      "id": "4bfdc432",
      "metadata": {
        "id": "4bfdc432",
        "outputId": "b9a96b0b-8996-44ad-bec1-a332cc3201a3"
      },
      "outputs": [
        {
          "data": {
            "text/plain": [
              "709"
            ]
          },
          "execution_count": 109,
          "metadata": {},
          "output_type": "execute_result"
        }
      ],
      "source": [
        "#Checking for null values\n",
        "df['other_fuel1'].isnull().sum()"
      ]
    },
    {
      "cell_type": "code",
      "execution_count": null,
      "id": "12862f2a",
      "metadata": {
        "id": "12862f2a",
        "outputId": "a959ad8a-7088-4561-8dc1-c9bcd2ae817e"
      },
      "outputs": [
        {
          "data": {
            "text/plain": [
              "Oil             195\n",
              "Gas               2\n",
              "Cogeneration      1\n",
              "Name: other_fuel1, dtype: int64"
            ]
          },
          "execution_count": 110,
          "metadata": {},
          "output_type": "execute_result"
        }
      ],
      "source": [
        "df['other_fuel1'].value_counts()"
      ]
    },
    {
      "cell_type": "markdown",
      "id": "a6b3d746",
      "metadata": {
        "id": "a6b3d746"
      },
      "source": [
        "We see that data is highly imbalanced and mostly null values. Filling this data can manipulate the model in a negative way and so we shall drop this column."
      ]
    },
    {
      "cell_type": "code",
      "execution_count": null,
      "id": "cc329d0a",
      "metadata": {
        "id": "cc329d0a"
      },
      "outputs": [],
      "source": [
        "#Dropping the column other_fuel1\n",
        "df = df.drop(columns = 'other_fuel1')"
      ]
    },
    {
      "cell_type": "code",
      "execution_count": null,
      "id": "264dff93",
      "metadata": {
        "id": "264dff93",
        "outputId": "5f4b52b4-46f8-4512-9aeb-4e1e55fa0ff2"
      },
      "outputs": [
        {
          "data": {
            "text/plain": [
              "906"
            ]
          },
          "execution_count": 112,
          "metadata": {},
          "output_type": "execute_result"
        }
      ],
      "source": [
        "#Checking for null values\n",
        "df['other_fuel2'].isnull().sum()"
      ]
    },
    {
      "cell_type": "markdown",
      "id": "728d9c5b",
      "metadata": {
        "id": "728d9c5b"
      },
      "source": [
        "We see that data is highly imbalanced and mostly null values. Filling this data can manipulate the model in a negative way and so we shall drop this column."
      ]
    },
    {
      "cell_type": "code",
      "execution_count": null,
      "id": "edf8ee75",
      "metadata": {
        "id": "edf8ee75"
      },
      "outputs": [],
      "source": [
        "#Dropping the column other_fuel2\n",
        "df = df.drop(columns = 'other_fuel2')"
      ]
    },
    {
      "cell_type": "code",
      "execution_count": null,
      "id": "8fecad4b",
      "metadata": {
        "id": "8fecad4b",
        "outputId": "9e54f3bd-01f3-4fff-86be-0efb0d3f48b5"
      },
      "outputs": [
        {
          "data": {
            "text/plain": [
              "907"
            ]
          },
          "execution_count": 114,
          "metadata": {},
          "output_type": "execute_result"
        }
      ],
      "source": [
        "#Checking for null values\n",
        "df['other_fuel3'].isnull().sum()"
      ]
    },
    {
      "cell_type": "markdown",
      "id": "dabb96c4",
      "metadata": {
        "id": "dabb96c4"
      },
      "source": [
        "This column is completely null and so we can drop this column too"
      ]
    },
    {
      "cell_type": "code",
      "execution_count": null,
      "id": "a6648cf2",
      "metadata": {
        "id": "a6648cf2"
      },
      "outputs": [],
      "source": [
        "#Dropping the column other_fuel3\n",
        "df = df.drop(columns = 'other_fuel3')"
      ]
    },
    {
      "cell_type": "code",
      "execution_count": null,
      "id": "00b86fc4",
      "metadata": {
        "id": "00b86fc4",
        "outputId": "15d612ab-a737-4af2-ba68-8ee7dbcc4211"
      },
      "outputs": [
        {
          "data": {
            "text/plain": [
              "380"
            ]
          },
          "execution_count": 116,
          "metadata": {},
          "output_type": "execute_result"
        }
      ],
      "source": [
        "#Checking for null values\n",
        "df['commissioning_year'].isnull().sum()"
      ]
    },
    {
      "cell_type": "code",
      "execution_count": null,
      "id": "08828e63",
      "metadata": {
        "id": "08828e63",
        "outputId": "a803c5cf-0be7-4288-ad20-82562c28a9ff"
      },
      "outputs": [
        {
          "data": {
            "text/plain": [
              "<AxesSubplot:xlabel='commissioning_year', ylabel='Density'>"
            ]
          },
          "execution_count": 117,
          "metadata": {},
          "output_type": "execute_result"
        },
        {
          "data": {
            "image/png": "[encoded data removed]",
            "text/plain": [
              "<Figure size 432x288 with 1 Axes>"
            ]
          },
          "metadata": {
            "needs_background": "light"
          },
          "output_type": "display_data"
        }
      ],
      "source": [
        "#Density plot\n",
        "sns.distplot(df['commissioning_year'])"
      ]
    },
    {
      "cell_type": "code",
      "execution_count": null,
      "id": "7aaa5eb5",
      "metadata": {
        "id": "7aaa5eb5",
        "outputId": "db6c0163-a46b-4c77-cbfb-a632cc7b7552"
      },
      "outputs": [
        {
          "data": {
            "text/plain": [
              "73"
            ]
          },
          "execution_count": 118,
          "metadata": {},
          "output_type": "execute_result"
        }
      ],
      "source": [
        "#Checking unique values\n",
        "df['commissioning_year'].nunique()"
      ]
    },
    {
      "cell_type": "markdown",
      "id": "b2747a91",
      "metadata": {
        "id": "b2747a91"
      },
      "source": [
        "We shall replace all the null values in the data with the mean to complete the dataset"
      ]
    },
    {
      "cell_type": "code",
      "execution_count": null,
      "id": "37a4368e",
      "metadata": {
        "id": "37a4368e"
      },
      "outputs": [],
      "source": [
        "#Replacing the null values\n",
        "df['commissioning_year'].fillna(df['commissioning_year'].mean(), inplace=True)"
      ]
    },
    {
      "cell_type": "code",
      "execution_count": null,
      "id": "456931d9",
      "metadata": {
        "id": "456931d9",
        "outputId": "bbc04c7d-c071-4a79-b1d8-6f188b2963be"
      },
      "outputs": [
        {
          "data": {
            "text/plain": [
              "<AxesSubplot:xlabel='commissioning_year', ylabel='Density'>"
            ]
          },
          "execution_count": 120,
          "metadata": {},
          "output_type": "execute_result"
        },
        {
          "data": {
            "image/png": "[encoded data removed]",
            "text/plain": [
              "<Figure size 432x288 with 1 Axes>"
            ]
          },
          "metadata": {
            "needs_background": "light"
          },
          "output_type": "display_data"
        }
      ],
      "source": [
        "#Density plot\n",
        "sns.distplot(df['commissioning_year'])"
      ]
    },
    {
      "cell_type": "code",
      "execution_count": null,
      "id": "16e3011a",
      "metadata": {
        "id": "16e3011a",
        "outputId": "6fb8f6d3-e25c-4203-b545-a00f6a53f55c"
      },
      "outputs": [
        {
          "data": {
            "text/plain": [
              "<AxesSubplot:xlabel='commissioning_year'>"
            ]
          },
          "execution_count": 121,
          "metadata": {},
          "output_type": "execute_result"
        },
        {
          "data": {
            "image/png": "[encoded data removed]",
            "text/plain": [
              "<Figure size 432x288 with 1 Axes>"
            ]
          },
          "metadata": {
            "needs_background": "light"
          },
          "output_type": "display_data"
        }
      ],
      "source": [
        "#Box plot\n",
        "sns.boxplot(df['commissioning_year'])"
      ]
    },
    {
      "cell_type": "code",
      "execution_count": null,
      "id": "05270587",
      "metadata": {
        "id": "05270587",
        "outputId": "17211378-f1b0-4e9a-b7cb-74eac2ecb082"
      },
      "outputs": [
        {
          "data": {
            "text/plain": [
              "565"
            ]
          },
          "execution_count": 133,
          "metadata": {},
          "output_type": "execute_result"
        }
      ],
      "source": [
        "#Checking for null values\n",
        "df['owner'].isnull().sum()"
      ]
    },
    {
      "cell_type": "markdown",
      "id": "58d03df0",
      "metadata": {
        "id": "58d03df0"
      },
      "source": [
        "Since more than 60% values are null, we shall drop this column"
      ]
    },
    {
      "cell_type": "code",
      "execution_count": null,
      "id": "e035ab3f",
      "metadata": {
        "id": "e035ab3f"
      },
      "outputs": [],
      "source": [
        "#Dropping the column\n",
        "df.drop(columns='owner', inplace=True)"
      ]
    },
    {
      "cell_type": "markdown",
      "id": "5adf7fb6",
      "metadata": {
        "id": "5adf7fb6"
      },
      "source": [
        "The column 'source' is just an identity from where the data has been collected. It adds no value to the model prediction and we shall drop the column. Same goes with the columns 'url' and 'geolocation_source', we shall drop these too"
      ]
    },
    {
      "cell_type": "code",
      "execution_count": null,
      "id": "9cf1427d",
      "metadata": {
        "id": "9cf1427d"
      },
      "outputs": [],
      "source": [
        "#Dropping the column\n",
        "df.drop(columns=['source','url','geolocation_source'], inplace=True)"
      ]
    },
    {
      "cell_type": "code",
      "execution_count": null,
      "id": "083035b5",
      "metadata": {
        "id": "083035b5",
        "outputId": "5006d427-4b7f-480b-df14-71f60ea36179"
      },
      "outputs": [
        {
          "data": {
            "text/plain": [
              "907"
            ]
          },
          "execution_count": 147,
          "metadata": {},
          "output_type": "execute_result"
        }
      ],
      "source": [
        "#Checking for null values\n",
        "df['wepp_id'].isnull().sum()"
      ]
    },
    {
      "cell_type": "markdown",
      "id": "5189dddc",
      "metadata": {
        "id": "5189dddc"
      },
      "source": [
        "Since all the values are null, we shall drop this column"
      ]
    },
    {
      "cell_type": "code",
      "execution_count": null,
      "id": "28582b9f",
      "metadata": {
        "id": "28582b9f"
      },
      "outputs": [],
      "source": [
        "#Dropping the column\n",
        "df.drop(columns=['wepp_id'], inplace=True)"
      ]
    },
    {
      "cell_type": "code",
      "execution_count": null,
      "id": "7b5eefd3",
      "metadata": {
        "id": "7b5eefd3",
        "outputId": "b55de2da-e068-4109-817a-5030e343a8d0"
      },
      "outputs": [
        {
          "data": {
            "text/plain": [
              "388"
            ]
          },
          "execution_count": 150,
          "metadata": {},
          "output_type": "execute_result"
        }
      ],
      "source": [
        "#Checking for null values\n",
        "df['year_of_capacity_data'].isnull().sum()"
      ]
    },
    {
      "cell_type": "code",
      "execution_count": null,
      "id": "54b2985a",
      "metadata": {
        "id": "54b2985a",
        "outputId": "499903cc-d91b-4d69-e31c-c4546748b978"
      },
      "outputs": [
        {
          "data": {
            "text/plain": [
              "2019.0    519\n",
              "Name: year_of_capacity_data, dtype: int64"
            ]
          },
          "execution_count": 151,
          "metadata": {},
          "output_type": "execute_result"
        }
      ],
      "source": [
        "df['year_of_capacity_data'].value_counts()"
      ]
    },
    {
      "cell_type": "markdown",
      "id": "72d041c6",
      "metadata": {
        "id": "72d041c6"
      },
      "source": [
        "Since all the data are for 2019, and we treat the missing values for mode of the data, all the values will be same and therefore it won't manipulate the data in any way and hence we shall drop the column"
      ]
    },
    {
      "cell_type": "code",
      "execution_count": null,
      "id": "a296d725",
      "metadata": {
        "id": "a296d725"
      },
      "outputs": [],
      "source": [
        "#Dropping the column\n",
        "df.drop(columns=['year_of_capacity_data'], inplace=True)"
      ]
    },
    {
      "cell_type": "code",
      "execution_count": null,
      "id": "c3724b19",
      "metadata": {
        "id": "c3724b19",
        "outputId": "1834bb5a-5ee5-4aed-c49e-f952427038ab"
      },
      "outputs": [
        {
          "data": {
            "text/plain": [
              "907"
            ]
          },
          "execution_count": 153,
          "metadata": {},
          "output_type": "execute_result"
        }
      ],
      "source": [
        "#Checking for null values\n",
        "df['generation_gwh_2013'].isnull().sum()"
      ]
    },
    {
      "cell_type": "markdown",
      "id": "dd453bfe",
      "metadata": {
        "id": "dd453bfe"
      },
      "source": [
        "Since all the data is missing we shall drop this column"
      ]
    },
    {
      "cell_type": "code",
      "execution_count": null,
      "id": "fde3564e",
      "metadata": {
        "id": "fde3564e"
      },
      "outputs": [],
      "source": [
        "#Dropping the column\n",
        "df.drop(columns=['generation_gwh_2013'], inplace=True)"
      ]
    },
    {
      "cell_type": "code",
      "execution_count": null,
      "id": "3e0e29b0",
      "metadata": {
        "id": "3e0e29b0"
      },
      "outputs": [],
      "source": [
        "#Checking for unique values\n",
        "df['generation_data_source'].nunique()"
      ]
    },
    {
      "cell_type": "markdown",
      "id": "329ab29b",
      "metadata": {
        "id": "329ab29b"
      },
      "source": [
        "We also see that 'generation_gwh_2019','estimated_generation_gwh' are also complete null values and column 'generation_data_source' has only one unique value for the source with max null values. So we deop all the three columns"
      ]
    },
    {
      "cell_type": "code",
      "execution_count": null,
      "id": "321d3f07",
      "metadata": {
        "id": "321d3f07"
      },
      "outputs": [],
      "source": [
        "#Dropping the columns\n",
        "df.drop(columns=['generation_gwh_2019','generation_data_source','estimated_generation_gwh'],inplace=True)"
      ]
    },
    {
      "cell_type": "markdown",
      "id": "3342c8b4",
      "metadata": {
        "id": "3342c8b4"
      },
      "source": [
        "We are left with the generation_gwh columns from year 2014 to 2018. We use KNN imputation method to replace the null values"
      ]
    },
    {
      "cell_type": "code",
      "execution_count": null,
      "id": "895365e4",
      "metadata": {
        "id": "895365e4"
      },
      "outputs": [],
      "source": [
        "imputer = KNNImputer(n_neighbors=2, weights=\"uniform\")\n",
        "df = imputer.fit_transform(df)"
      ]
    },
    {
      "cell_type": "code",
      "execution_count": null,
      "id": "26a37577",
      "metadata": {
        "id": "26a37577"
      },
      "outputs": [],
      "source": [
        "df_new = pd.DataFrame({'name':df[:,0], 'gppd_idnr':df[:,1], 'capacity_mw':df[:,2], 'latitude':df[:,3], 'longitude':df[:,4], 'primary_fuel':df[:,5], 'commissioning_year':df[:,6], 'generation_gwh_2014':df[:,7], 'generation_gwh_2015':df[:,8], 'generation_gwh_2016':df[:,9], 'generation_gwh_2017':df[:,10], 'generation_gwh_2018':df[:,11]})"
      ]
    },
    {
      "cell_type": "code",
      "execution_count": null,
      "id": "b6cf1616",
      "metadata": {
        "id": "b6cf1616",
        "outputId": "524ab2b5-c908-416d-a1c0-95189b74ddd1"
      },
      "outputs": [
        {
          "data": {
            "text/html": [
              "<div>\n",
              "<style scoped>\n",
              "    .dataframe tbody tr th:only-of-type {\n",
              "        vertical-align: middle;\n",
              "    }\n",
              "\n",
              "    .dataframe tbody tr th {\n",
              "        vertical-align: top;\n",
              "    }\n",
              "\n",
              "    .dataframe thead th {\n",
              "        text-align: right;\n",
              "    }\n",
              "</style>\n",
              "<table border=\"1\" class=\"dataframe\">\n",
              "  <thead>\n",
              "    <tr style=\"text-align: right;\">\n",
              "      <th></th>\n",
              "      <th>name</th>\n",
              "      <th>gppd_idnr</th>\n",
              "      <th>capacity_mw</th>\n",
              "      <th>latitude</th>\n",
              "      <th>longitude</th>\n",
              "      <th>primary_fuel</th>\n",
              "      <th>commissioning_year</th>\n",
              "      <th>generation_gwh_2014</th>\n",
              "      <th>generation_gwh_2015</th>\n",
              "      <th>generation_gwh_2016</th>\n",
              "      <th>generation_gwh_2017</th>\n",
              "      <th>generation_gwh_2018</th>\n",
              "    </tr>\n",
              "  </thead>\n",
              "  <tbody>\n",
              "    <tr>\n",
              "      <th>0</th>\n",
              "      <td>0.0</td>\n",
              "      <td>657.0</td>\n",
              "      <td>2.5</td>\n",
              "      <td>28.1839</td>\n",
              "      <td>73.2407</td>\n",
              "      <td>6.0</td>\n",
              "      <td>2011.000000</td>\n",
              "      <td>132.265350</td>\n",
              "      <td>109.947500</td>\n",
              "      <td>266.733325</td>\n",
              "      <td>223.636200</td>\n",
              "      <td>298.345775</td>\n",
              "    </tr>\n",
              "    <tr>\n",
              "      <th>1</th>\n",
              "      <td>1.0</td>\n",
              "      <td>519.0</td>\n",
              "      <td>98.0</td>\n",
              "      <td>24.7663</td>\n",
              "      <td>74.6090</td>\n",
              "      <td>1.0</td>\n",
              "      <td>1997.091082</td>\n",
              "      <td>82.162125</td>\n",
              "      <td>81.162150</td>\n",
              "      <td>266.733325</td>\n",
              "      <td>223.636200</td>\n",
              "      <td>298.345775</td>\n",
              "    </tr>\n",
              "    <tr>\n",
              "      <th>2</th>\n",
              "      <td>2.0</td>\n",
              "      <td>853.0</td>\n",
              "      <td>39.2</td>\n",
              "      <td>21.9038</td>\n",
              "      <td>69.3732</td>\n",
              "      <td>7.0</td>\n",
              "      <td>1997.091082</td>\n",
              "      <td>56.267250</td>\n",
              "      <td>67.819200</td>\n",
              "      <td>266.733325</td>\n",
              "      <td>223.636200</td>\n",
              "      <td>298.345775</td>\n",
              "    </tr>\n",
              "    <tr>\n",
              "      <th>3</th>\n",
              "      <td>3.0</td>\n",
              "      <td>0.0</td>\n",
              "      <td>135.0</td>\n",
              "      <td>23.8712</td>\n",
              "      <td>91.3602</td>\n",
              "      <td>2.0</td>\n",
              "      <td>2004.000000</td>\n",
              "      <td>617.789264</td>\n",
              "      <td>843.747000</td>\n",
              "      <td>886.004428</td>\n",
              "      <td>663.774500</td>\n",
              "      <td>626.239128</td>\n",
              "    </tr>\n",
              "    <tr>\n",
              "      <th>4</th>\n",
              "      <td>4.0</td>\n",
              "      <td>1.0</td>\n",
              "      <td>1800.0</td>\n",
              "      <td>21.9603</td>\n",
              "      <td>82.4091</td>\n",
              "      <td>1.0</td>\n",
              "      <td>2015.000000</td>\n",
              "      <td>3035.550000</td>\n",
              "      <td>5916.370000</td>\n",
              "      <td>6243.000000</td>\n",
              "      <td>5385.579736</td>\n",
              "      <td>7279.000000</td>\n",
              "    </tr>\n",
              "    <tr>\n",
              "      <th>...</th>\n",
              "      <td>...</td>\n",
              "      <td>...</td>\n",
              "      <td>...</td>\n",
              "      <td>...</td>\n",
              "      <td>...</td>\n",
              "      <td>...</td>\n",
              "      <td>...</td>\n",
              "      <td>...</td>\n",
              "      <td>...</td>\n",
              "      <td>...</td>\n",
              "      <td>...</td>\n",
              "      <td>...</td>\n",
              "    </tr>\n",
              "    <tr>\n",
              "      <th>902</th>\n",
              "      <td>902.0</td>\n",
              "      <td>491.0</td>\n",
              "      <td>1600.0</td>\n",
              "      <td>16.2949</td>\n",
              "      <td>77.3568</td>\n",
              "      <td>1.0</td>\n",
              "      <td>2016.000000</td>\n",
              "      <td>1469.774200</td>\n",
              "      <td>0.994875</td>\n",
              "      <td>233.596650</td>\n",
              "      <td>865.400000</td>\n",
              "      <td>686.500000</td>\n",
              "    </tr>\n",
              "    <tr>\n",
              "      <th>903</th>\n",
              "      <td>903.0</td>\n",
              "      <td>822.0</td>\n",
              "      <td>3.0</td>\n",
              "      <td>12.8932</td>\n",
              "      <td>78.1654</td>\n",
              "      <td>6.0</td>\n",
              "      <td>1997.091082</td>\n",
              "      <td>92.226550</td>\n",
              "      <td>91.500000</td>\n",
              "      <td>102.126800</td>\n",
              "      <td>126.922200</td>\n",
              "      <td>202.044700</td>\n",
              "    </tr>\n",
              "    <tr>\n",
              "      <th>904</th>\n",
              "      <td>904.0</td>\n",
              "      <td>891.0</td>\n",
              "      <td>25.5</td>\n",
              "      <td>15.2758</td>\n",
              "      <td>75.5811</td>\n",
              "      <td>7.0</td>\n",
              "      <td>1997.091082</td>\n",
              "      <td>92.226550</td>\n",
              "      <td>91.500000</td>\n",
              "      <td>102.126800</td>\n",
              "      <td>75.341400</td>\n",
              "      <td>294.604575</td>\n",
              "    </tr>\n",
              "    <tr>\n",
              "      <th>905</th>\n",
              "      <td>905.0</td>\n",
              "      <td>539.0</td>\n",
              "      <td>80.0</td>\n",
              "      <td>24.3500</td>\n",
              "      <td>73.7477</td>\n",
              "      <td>1.0</td>\n",
              "      <td>1997.091082</td>\n",
              "      <td>92.226550</td>\n",
              "      <td>91.500000</td>\n",
              "      <td>102.126800</td>\n",
              "      <td>273.245625</td>\n",
              "      <td>118.245800</td>\n",
              "    </tr>\n",
              "    <tr>\n",
              "      <th>906</th>\n",
              "      <td>906.0</td>\n",
              "      <td>876.0</td>\n",
              "      <td>16.5</td>\n",
              "      <td>9.9344</td>\n",
              "      <td>77.4768</td>\n",
              "      <td>7.0</td>\n",
              "      <td>1997.091082</td>\n",
              "      <td>92.226550</td>\n",
              "      <td>91.500000</td>\n",
              "      <td>102.126800</td>\n",
              "      <td>75.341400</td>\n",
              "      <td>294.604575</td>\n",
              "    </tr>\n",
              "  </tbody>\n",
              "</table>\n",
              "<p>907 rows × 12 columns</p>\n",
              "</div>"
            ],
            "text/plain": [
              "      name  gppd_idnr  capacity_mw  latitude  longitude  primary_fuel  \\\n",
              "0      0.0      657.0          2.5   28.1839    73.2407           6.0   \n",
              "1      1.0      519.0         98.0   24.7663    74.6090           1.0   \n",
              "2      2.0      853.0         39.2   21.9038    69.3732           7.0   \n",
              "3      3.0        0.0        135.0   23.8712    91.3602           2.0   \n",
              "4      4.0        1.0       1800.0   21.9603    82.4091           1.0   \n",
              "..     ...        ...          ...       ...        ...           ...   \n",
              "902  902.0      491.0       1600.0   16.2949    77.3568           1.0   \n",
              "903  903.0      822.0          3.0   12.8932    78.1654           6.0   \n",
              "904  904.0      891.0         25.5   15.2758    75.5811           7.0   \n",
              "905  905.0      539.0         80.0   24.3500    73.7477           1.0   \n",
              "906  906.0      876.0         16.5    9.9344    77.4768           7.0   \n",
              "\n",
              "     commissioning_year  generation_gwh_2014  generation_gwh_2015  \\\n",
              "0           2011.000000           132.265350           109.947500   \n",
              "1           1997.091082            82.162125            81.162150   \n",
              "2           1997.091082            56.267250            67.819200   \n",
              "3           2004.000000           617.789264           843.747000   \n",
              "4           2015.000000          3035.550000          5916.370000   \n",
              "..                  ...                  ...                  ...   \n",
              "902         2016.000000          1469.774200             0.994875   \n",
              "903         1997.091082            92.226550            91.500000   \n",
              "904         1997.091082            92.226550            91.500000   \n",
              "905         1997.091082            92.226550            91.500000   \n",
              "906         1997.091082            92.226550            91.500000   \n",
              "\n",
              "     generation_gwh_2016  generation_gwh_2017  generation_gwh_2018  \n",
              "0             266.733325           223.636200           298.345775  \n",
              "1             266.733325           223.636200           298.345775  \n",
              "2             266.733325           223.636200           298.345775  \n",
              "3             886.004428           663.774500           626.239128  \n",
              "4            6243.000000          5385.579736          7279.000000  \n",
              "..                   ...                  ...                  ...  \n",
              "902           233.596650           865.400000           686.500000  \n",
              "903           102.126800           126.922200           202.044700  \n",
              "904           102.126800            75.341400           294.604575  \n",
              "905           102.126800           273.245625           118.245800  \n",
              "906           102.126800            75.341400           294.604575  \n",
              "\n",
              "[907 rows x 12 columns]"
            ]
          },
          "execution_count": 179,
          "metadata": {},
          "output_type": "execute_result"
        }
      ],
      "source": [
        "df = df_new\n",
        "df"
      ]
    },
    {
      "cell_type": "markdown",
      "id": "0b514667",
      "metadata": {
        "id": "0b514667"
      },
      "source": [
        "Now we have treated for null values and the data is complete, we move forward treating the data for outliers and skewness before making the prediction model"
      ]
    },
    {
      "cell_type": "markdown",
      "id": "64b5013e",
      "metadata": {
        "id": "64b5013e"
      },
      "source": [
        "# Correlation"
      ]
    },
    {
      "cell_type": "markdown",
      "id": "e24f3e2b",
      "metadata": {
        "id": "e24f3e2b"
      },
      "source": [
        "Now, since all the data has been transformed into numeric values. Let us check for the correlation to the target column"
      ]
    },
    {
      "cell_type": "code",
      "execution_count": null,
      "id": "3a18aee5",
      "metadata": {
        "id": "3a18aee5",
        "outputId": "2aff58e7-8e4c-4300-cdf6-61d2706417e8"
      },
      "outputs": [
        {
          "data": {
            "text/html": [
              "<div>\n",
              "<style scoped>\n",
              "    .dataframe tbody tr th:only-of-type {\n",
              "        vertical-align: middle;\n",
              "    }\n",
              "\n",
              "    .dataframe tbody tr th {\n",
              "        vertical-align: top;\n",
              "    }\n",
              "\n",
              "    .dataframe thead th {\n",
              "        text-align: right;\n",
              "    }\n",
              "</style>\n",
              "<table border=\"1\" class=\"dataframe\">\n",
              "  <thead>\n",
              "    <tr style=\"text-align: right;\">\n",
              "      <th></th>\n",
              "      <th>name</th>\n",
              "      <th>gppd_idnr</th>\n",
              "      <th>capacity_mw</th>\n",
              "      <th>latitude</th>\n",
              "      <th>longitude</th>\n",
              "      <th>primary_fuel</th>\n",
              "      <th>commissioning_year</th>\n",
              "      <th>generation_gwh_2014</th>\n",
              "      <th>generation_gwh_2015</th>\n",
              "      <th>generation_gwh_2016</th>\n",
              "      <th>generation_gwh_2017</th>\n",
              "      <th>generation_gwh_2018</th>\n",
              "    </tr>\n",
              "  </thead>\n",
              "  <tbody>\n",
              "    <tr>\n",
              "      <th>name</th>\n",
              "      <td>1.000000</td>\n",
              "      <td>0.332205</td>\n",
              "      <td>0.060240</td>\n",
              "      <td>-0.129817</td>\n",
              "      <td>0.020279</td>\n",
              "      <td>0.040753</td>\n",
              "      <td>-0.043569</td>\n",
              "      <td>0.084265</td>\n",
              "      <td>0.069765</td>\n",
              "      <td>0.059067</td>\n",
              "      <td>0.059064</td>\n",
              "      <td>0.062562</td>\n",
              "    </tr>\n",
              "    <tr>\n",
              "      <th>gppd_idnr</th>\n",
              "      <td>0.332205</td>\n",
              "      <td>1.000000</td>\n",
              "      <td>-0.335742</td>\n",
              "      <td>-0.105131</td>\n",
              "      <td>-0.377812</td>\n",
              "      <td>0.609180</td>\n",
              "      <td>0.044059</td>\n",
              "      <td>-0.222379</td>\n",
              "      <td>-0.226065</td>\n",
              "      <td>-0.244045</td>\n",
              "      <td>-0.249130</td>\n",
              "      <td>-0.235962</td>\n",
              "    </tr>\n",
              "    <tr>\n",
              "      <th>capacity_mw</th>\n",
              "      <td>0.060240</td>\n",
              "      <td>-0.335742</td>\n",
              "      <td>1.000000</td>\n",
              "      <td>0.054675</td>\n",
              "      <td>0.195882</td>\n",
              "      <td>-0.380395</td>\n",
              "      <td>0.274292</td>\n",
              "      <td>0.836845</td>\n",
              "      <td>0.854250</td>\n",
              "      <td>0.879806</td>\n",
              "      <td>0.896898</td>\n",
              "      <td>0.907807</td>\n",
              "    </tr>\n",
              "    <tr>\n",
              "      <th>latitude</th>\n",
              "      <td>-0.129817</td>\n",
              "      <td>-0.105131</td>\n",
              "      <td>0.054675</td>\n",
              "      <td>1.000000</td>\n",
              "      <td>0.035634</td>\n",
              "      <td>-0.016565</td>\n",
              "      <td>0.104661</td>\n",
              "      <td>0.052339</td>\n",
              "      <td>0.048398</td>\n",
              "      <td>0.049805</td>\n",
              "      <td>0.064092</td>\n",
              "      <td>0.056008</td>\n",
              "    </tr>\n",
              "    <tr>\n",
              "      <th>longitude</th>\n",
              "      <td>0.020279</td>\n",
              "      <td>-0.377812</td>\n",
              "      <td>0.195882</td>\n",
              "      <td>0.035634</td>\n",
              "      <td>1.000000</td>\n",
              "      <td>-0.347948</td>\n",
              "      <td>0.092331</td>\n",
              "      <td>0.143251</td>\n",
              "      <td>0.155205</td>\n",
              "      <td>0.174084</td>\n",
              "      <td>0.188255</td>\n",
              "      <td>0.181699</td>\n",
              "    </tr>\n",
              "    <tr>\n",
              "      <th>primary_fuel</th>\n",
              "      <td>0.040753</td>\n",
              "      <td>0.609180</td>\n",
              "      <td>-0.380395</td>\n",
              "      <td>-0.016565</td>\n",
              "      <td>-0.347948</td>\n",
              "      <td>1.000000</td>\n",
              "      <td>-0.126650</td>\n",
              "      <td>-0.283522</td>\n",
              "      <td>-0.284917</td>\n",
              "      <td>-0.294764</td>\n",
              "      <td>-0.305925</td>\n",
              "      <td>-0.298053</td>\n",
              "    </tr>\n",
              "    <tr>\n",
              "      <th>commissioning_year</th>\n",
              "      <td>-0.043569</td>\n",
              "      <td>0.044059</td>\n",
              "      <td>0.274292</td>\n",
              "      <td>0.104661</td>\n",
              "      <td>0.092331</td>\n",
              "      <td>-0.126650</td>\n",
              "      <td>1.000000</td>\n",
              "      <td>0.118378</td>\n",
              "      <td>0.148634</td>\n",
              "      <td>0.178671</td>\n",
              "      <td>0.192944</td>\n",
              "      <td>0.198383</td>\n",
              "    </tr>\n",
              "    <tr>\n",
              "      <th>generation_gwh_2014</th>\n",
              "      <td>0.084265</td>\n",
              "      <td>-0.222379</td>\n",
              "      <td>0.836845</td>\n",
              "      <td>0.052339</td>\n",
              "      <td>0.143251</td>\n",
              "      <td>-0.283522</td>\n",
              "      <td>0.118378</td>\n",
              "      <td>1.000000</td>\n",
              "      <td>0.965985</td>\n",
              "      <td>0.941593</td>\n",
              "      <td>0.916955</td>\n",
              "      <td>0.908012</td>\n",
              "    </tr>\n",
              "    <tr>\n",
              "      <th>generation_gwh_2015</th>\n",
              "      <td>0.069765</td>\n",
              "      <td>-0.226065</td>\n",
              "      <td>0.854250</td>\n",
              "      <td>0.048398</td>\n",
              "      <td>0.155205</td>\n",
              "      <td>-0.284917</td>\n",
              "      <td>0.148634</td>\n",
              "      <td>0.965985</td>\n",
              "      <td>1.000000</td>\n",
              "      <td>0.974331</td>\n",
              "      <td>0.946590</td>\n",
              "      <td>0.941187</td>\n",
              "    </tr>\n",
              "    <tr>\n",
              "      <th>generation_gwh_2016</th>\n",
              "      <td>0.059067</td>\n",
              "      <td>-0.244045</td>\n",
              "      <td>0.879806</td>\n",
              "      <td>0.049805</td>\n",
              "      <td>0.174084</td>\n",
              "      <td>-0.294764</td>\n",
              "      <td>0.178671</td>\n",
              "      <td>0.941593</td>\n",
              "      <td>0.974331</td>\n",
              "      <td>1.000000</td>\n",
              "      <td>0.975817</td>\n",
              "      <td>0.966881</td>\n",
              "    </tr>\n",
              "    <tr>\n",
              "      <th>generation_gwh_2017</th>\n",
              "      <td>0.059064</td>\n",
              "      <td>-0.249130</td>\n",
              "      <td>0.896898</td>\n",
              "      <td>0.064092</td>\n",
              "      <td>0.188255</td>\n",
              "      <td>-0.305925</td>\n",
              "      <td>0.192944</td>\n",
              "      <td>0.916955</td>\n",
              "      <td>0.946590</td>\n",
              "      <td>0.975817</td>\n",
              "      <td>1.000000</td>\n",
              "      <td>0.987592</td>\n",
              "    </tr>\n",
              "    <tr>\n",
              "      <th>generation_gwh_2018</th>\n",
              "      <td>0.062562</td>\n",
              "      <td>-0.235962</td>\n",
              "      <td>0.907807</td>\n",
              "      <td>0.056008</td>\n",
              "      <td>0.181699</td>\n",
              "      <td>-0.298053</td>\n",
              "      <td>0.198383</td>\n",
              "      <td>0.908012</td>\n",
              "      <td>0.941187</td>\n",
              "      <td>0.966881</td>\n",
              "      <td>0.987592</td>\n",
              "      <td>1.000000</td>\n",
              "    </tr>\n",
              "  </tbody>\n",
              "</table>\n",
              "</div>"
            ],
            "text/plain": [
              "                         name  gppd_idnr  capacity_mw  latitude  longitude  \\\n",
              "name                 1.000000   0.332205     0.060240 -0.129817   0.020279   \n",
              "gppd_idnr            0.332205   1.000000    -0.335742 -0.105131  -0.377812   \n",
              "capacity_mw          0.060240  -0.335742     1.000000  0.054675   0.195882   \n",
              "latitude            -0.129817  -0.105131     0.054675  1.000000   0.035634   \n",
              "longitude            0.020279  -0.377812     0.195882  0.035634   1.000000   \n",
              "primary_fuel         0.040753   0.609180    -0.380395 -0.016565  -0.347948   \n",
              "commissioning_year  -0.043569   0.044059     0.274292  0.104661   0.092331   \n",
              "generation_gwh_2014  0.084265  -0.222379     0.836845  0.052339   0.143251   \n",
              "generation_gwh_2015  0.069765  -0.226065     0.854250  0.048398   0.155205   \n",
              "generation_gwh_2016  0.059067  -0.244045     0.879806  0.049805   0.174084   \n",
              "generation_gwh_2017  0.059064  -0.249130     0.896898  0.064092   0.188255   \n",
              "generation_gwh_2018  0.062562  -0.235962     0.907807  0.056008   0.181699   \n",
              "\n",
              "                     primary_fuel  commissioning_year  generation_gwh_2014  \\\n",
              "name                     0.040753           -0.043569             0.084265   \n",
              "gppd_idnr                0.609180            0.044059            -0.222379   \n",
              "capacity_mw             -0.380395            0.274292             0.836845   \n",
              "latitude                -0.016565            0.104661             0.052339   \n",
              "longitude               -0.347948            0.092331             0.143251   \n",
              "primary_fuel             1.000000           -0.126650            -0.283522   \n",
              "commissioning_year      -0.126650            1.000000             0.118378   \n",
              "generation_gwh_2014     -0.283522            0.118378             1.000000   \n",
              "generation_gwh_2015     -0.284917            0.148634             0.965985   \n",
              "generation_gwh_2016     -0.294764            0.178671             0.941593   \n",
              "generation_gwh_2017     -0.305925            0.192944             0.916955   \n",
              "generation_gwh_2018     -0.298053            0.198383             0.908012   \n",
              "\n",
              "                     generation_gwh_2015  generation_gwh_2016  \\\n",
              "name                            0.069765             0.059067   \n",
              "gppd_idnr                      -0.226065            -0.244045   \n",
              "capacity_mw                     0.854250             0.879806   \n",
              "latitude                        0.048398             0.049805   \n",
              "longitude                       0.155205             0.174084   \n",
              "primary_fuel                   -0.284917            -0.294764   \n",
              "commissioning_year              0.148634             0.178671   \n",
              "generation_gwh_2014             0.965985             0.941593   \n",
              "generation_gwh_2015             1.000000             0.974331   \n",
              "generation_gwh_2016             0.974331             1.000000   \n",
              "generation_gwh_2017             0.946590             0.975817   \n",
              "generation_gwh_2018             0.941187             0.966881   \n",
              "\n",
              "                     generation_gwh_2017  generation_gwh_2018  \n",
              "name                            0.059064             0.062562  \n",
              "gppd_idnr                      -0.249130            -0.235962  \n",
              "capacity_mw                     0.896898             0.907807  \n",
              "latitude                        0.064092             0.056008  \n",
              "longitude                       0.188255             0.181699  \n",
              "primary_fuel                   -0.305925            -0.298053  \n",
              "commissioning_year              0.192944             0.198383  \n",
              "generation_gwh_2014             0.916955             0.908012  \n",
              "generation_gwh_2015             0.946590             0.941187  \n",
              "generation_gwh_2016             0.975817             0.966881  \n",
              "generation_gwh_2017             1.000000             0.987592  \n",
              "generation_gwh_2018             0.987592             1.000000  "
            ]
          },
          "execution_count": 180,
          "metadata": {},
          "output_type": "execute_result"
        }
      ],
      "source": [
        "df.corr() #Correlation matrix"
      ]
    },
    {
      "cell_type": "code",
      "execution_count": null,
      "id": "e7df5cad",
      "metadata": {
        "id": "e7df5cad",
        "outputId": "3c6e4415-b445-46c0-e38a-59a868b01483"
      },
      "outputs": [
        {
          "data": {
            "image/png": "[encoded data removed]",
            "text/plain": [
              "<Figure size 1440x1440 with 2 Axes>"
            ]
          },
          "metadata": {
            "needs_background": "light"
          },
          "output_type": "display_data"
        }
      ],
      "source": [
        "#Visualization for correlation matrix\n",
        "plt.figure(figsize=(20,20))\n",
        "sns.heatmap(df.corr(),annot=True)\n",
        "plt.show()"
      ]
    },
    {
      "cell_type": "markdown",
      "id": "337e6de2",
      "metadata": {
        "id": "337e6de2"
      },
      "source": [
        "We see that the columns generation_gwh 2014 to 2018 play a high correlation to the capacity_mw. Whereas for primary_fuel correlation is highest for gppd_idnr"
      ]
    },
    {
      "cell_type": "code",
      "execution_count": null,
      "id": "df2892c6",
      "metadata": {
        "id": "df2892c6",
        "outputId": "0219eeef-062c-412d-b6d9-fcbe894f8df0"
      },
      "outputs": [
        {
          "data": {
            "text/plain": [
              "primary_fuel          -0.380395\n",
              "gppd_idnr             -0.335742\n",
              "latitude               0.054675\n",
              "name                   0.060240\n",
              "longitude              0.195882\n",
              "commissioning_year     0.274292\n",
              "generation_gwh_2014    0.836845\n",
              "generation_gwh_2015    0.854250\n",
              "generation_gwh_2016    0.879806\n",
              "generation_gwh_2017    0.896898\n",
              "generation_gwh_2018    0.907807\n",
              "capacity_mw            1.000000\n",
              "Name: capacity_mw, dtype: float64"
            ]
          },
          "execution_count": 182,
          "metadata": {},
          "output_type": "execute_result"
        }
      ],
      "source": [
        "#Correlation wrt target column\n",
        "df.corr()['capacity_mw'].sort_values()"
      ]
    },
    {
      "cell_type": "code",
      "execution_count": null,
      "id": "c961e399",
      "metadata": {
        "id": "c961e399",
        "outputId": "ef799a31-e1ec-473b-f491-5abd9ec81ab2"
      },
      "outputs": [
        {
          "data": {
            "text/plain": [
              "capacity_mw           -0.380395\n",
              "longitude             -0.347948\n",
              "generation_gwh_2017   -0.305925\n",
              "generation_gwh_2018   -0.298053\n",
              "generation_gwh_2016   -0.294764\n",
              "generation_gwh_2015   -0.284917\n",
              "generation_gwh_2014   -0.283522\n",
              "commissioning_year    -0.126650\n",
              "latitude              -0.016565\n",
              "name                   0.040753\n",
              "gppd_idnr              0.609180\n",
              "primary_fuel           1.000000\n",
              "Name: primary_fuel, dtype: float64"
            ]
          },
          "execution_count": 183,
          "metadata": {},
          "output_type": "execute_result"
        }
      ],
      "source": [
        "#Correlation wrt target column\n",
        "df.corr()['primary_fuel'].sort_values()"
      ]
    },
    {
      "cell_type": "markdown",
      "id": "4709f1b2",
      "metadata": {
        "id": "4709f1b2"
      },
      "source": [
        "# Outliers"
      ]
    },
    {
      "cell_type": "markdown",
      "id": "1cf11010",
      "metadata": {
        "id": "1cf11010"
      },
      "source": [
        "We use the zscore method to remove the outliers with a threshold of 3"
      ]
    },
    {
      "cell_type": "code",
      "execution_count": null,
      "id": "7e1d353c",
      "metadata": {
        "id": "7e1d353c"
      },
      "outputs": [],
      "source": [
        "z = np.abs(zscore(df))\n",
        "df_new = df[(z<3).all(axis=1)]"
      ]
    },
    {
      "cell_type": "code",
      "execution_count": null,
      "id": "35657aea",
      "metadata": {
        "id": "35657aea",
        "outputId": "fbc482b0-69e7-4fef-d358-80a40dfe3922"
      },
      "outputs": [
        {
          "data": {
            "text/plain": [
              "(847, 12)"
            ]
          },
          "execution_count": 185,
          "metadata": {},
          "output_type": "execute_result"
        }
      ],
      "source": [
        "df_new.shape"
      ]
    },
    {
      "cell_type": "code",
      "execution_count": null,
      "id": "18c41613",
      "metadata": {
        "id": "18c41613",
        "outputId": "40c081e1-358f-44fa-e88e-436a84fd9dd8"
      },
      "outputs": [
        {
          "name": "stdout",
          "output_type": "stream",
          "text": [
            "Percentage loss of data =\t 6.615214994487322 %\n"
          ]
        }
      ],
      "source": [
        "print('Percentage loss of data =\\t', ((df.shape[0]-df_new.shape[0])/df.shape[0])*100, '%')"
      ]
    },
    {
      "cell_type": "code",
      "execution_count": null,
      "id": "a9a0560d",
      "metadata": {
        "id": "a9a0560d"
      },
      "outputs": [],
      "source": [
        "df = df_new"
      ]
    },
    {
      "cell_type": "markdown",
      "id": "4b2ddf75",
      "metadata": {
        "id": "4b2ddf75"
      },
      "source": [
        "# Skewness"
      ]
    },
    {
      "cell_type": "markdown",
      "id": "08a46652",
      "metadata": {
        "id": "08a46652"
      },
      "source": [
        "Now, we split the data into feature and target columns. We do that in two parts as we produce model for 2 target columns"
      ]
    },
    {
      "cell_type": "code",
      "execution_count": null,
      "id": "ca1e26ec",
      "metadata": {
        "id": "ca1e26ec"
      },
      "outputs": [],
      "source": [
        "# Target = primary_fuel\n",
        "x2 = df.drop(columns='primary_fuel')\n",
        "y2 = df['primary_fuel']"
      ]
    },
    {
      "cell_type": "code",
      "execution_count": null,
      "id": "aa8a3205",
      "metadata": {
        "id": "aa8a3205"
      },
      "outputs": [],
      "source": [
        "# Target = capacity_mw\n",
        "x1 = df.drop(columns='capacity_mw')\n",
        "y1 = df['capacity_mw']"
      ]
    },
    {
      "cell_type": "markdown",
      "id": "34f3947d",
      "metadata": {
        "id": "34f3947d"
      },
      "source": [
        "Treating skewness for Target 1"
      ]
    },
    {
      "cell_type": "code",
      "execution_count": null,
      "id": "70b9f42c",
      "metadata": {
        "id": "70b9f42c",
        "outputId": "6b782647-82d6-42ac-8c7b-a8f0bf87411b"
      },
      "outputs": [
        {
          "data": {
            "text/plain": [
              "name                   0.023001\n",
              "gppd_idnr             -0.081120\n",
              "latitude              -0.106853\n",
              "longitude              0.923751\n",
              "primary_fuel           0.407684\n",
              "commissioning_year    -0.848106\n",
              "generation_gwh_2014    2.777018\n",
              "generation_gwh_2015    2.665042\n",
              "generation_gwh_2016    2.635547\n",
              "generation_gwh_2017    2.530046\n",
              "generation_gwh_2018    2.574791\n",
              "dtype: float64"
            ]
          },
          "execution_count": 205,
          "metadata": {},
          "output_type": "execute_result"
        }
      ],
      "source": [
        "x1.skew()"
      ]
    },
    {
      "cell_type": "code",
      "execution_count": null,
      "id": "a7a56e80",
      "metadata": {
        "id": "a7a56e80"
      },
      "outputs": [],
      "source": [
        "k = []\n",
        "for i in x1.columns:\n",
        "    k.append(np.abs(x1[i].skew()))\n",
        "\n",
        "b=0\n",
        "for i in x1.columns:\n",
        "    if k[b]>0.5:\n",
        "        x1[i] = np.log1p(x1[i])\n",
        "    b+=1"
      ]
    },
    {
      "cell_type": "code",
      "execution_count": null,
      "id": "71794f35",
      "metadata": {
        "id": "71794f35",
        "outputId": "f720760b-6081-486d-cb1b-92c8a1e84078"
      },
      "outputs": [
        {
          "data": {
            "text/plain": [
              "name                   0.023001\n",
              "gppd_idnr             -0.081120\n",
              "latitude              -0.106853\n",
              "longitude              0.742244\n",
              "primary_fuel           0.407684\n",
              "commissioning_year    -0.873216\n",
              "generation_gwh_2014   -0.718155\n",
              "generation_gwh_2015   -0.419767\n",
              "generation_gwh_2016   -0.441966\n",
              "generation_gwh_2017   -0.585945\n",
              "generation_gwh_2018   -1.047610\n",
              "dtype: float64"
            ]
          },
          "execution_count": 207,
          "metadata": {},
          "output_type": "execute_result"
        }
      ],
      "source": [
        "x1.skew()"
      ]
    },
    {
      "cell_type": "markdown",
      "id": "29e151f8",
      "metadata": {
        "id": "29e151f8"
      },
      "source": [
        "Treating skewness for Target 2"
      ]
    },
    {
      "cell_type": "code",
      "execution_count": null,
      "id": "585ab48c",
      "metadata": {
        "id": "585ab48c",
        "outputId": "1bc1923b-c275-4cf1-97f1-e71568e77a25"
      },
      "outputs": [
        {
          "data": {
            "text/plain": [
              "name                   0.023001\n",
              "gppd_idnr             -0.081120\n",
              "capacity_mw            1.980146\n",
              "latitude              -0.106853\n",
              "longitude              0.923751\n",
              "commissioning_year    -0.848106\n",
              "generation_gwh_2014    2.777018\n",
              "generation_gwh_2015    2.665042\n",
              "generation_gwh_2016    2.635547\n",
              "generation_gwh_2017    2.530046\n",
              "generation_gwh_2018    2.574791\n",
              "dtype: float64"
            ]
          },
          "execution_count": 208,
          "metadata": {},
          "output_type": "execute_result"
        }
      ],
      "source": [
        "x2.skew()"
      ]
    },
    {
      "cell_type": "code",
      "execution_count": null,
      "id": "355c47b1",
      "metadata": {
        "id": "355c47b1"
      },
      "outputs": [],
      "source": [
        "k = []\n",
        "for i in x2.columns:\n",
        "    k.append(np.abs(x2[i].skew()))\n",
        "\n",
        "b=0\n",
        "for i in x2.columns:\n",
        "    if k[b]>0.5:\n",
        "        x2[i] = np.log1p(x2[i])\n",
        "    b+=1"
      ]
    },
    {
      "cell_type": "code",
      "execution_count": null,
      "id": "e15d6f35",
      "metadata": {
        "id": "e15d6f35",
        "outputId": "c7a8c7b8-4209-4322-974f-6937be404db6"
      },
      "outputs": [
        {
          "data": {
            "text/plain": [
              "name                   0.023001\n",
              "gppd_idnr             -0.081120\n",
              "capacity_mw            0.088018\n",
              "latitude              -0.106853\n",
              "longitude              0.742244\n",
              "commissioning_year    -0.873216\n",
              "generation_gwh_2014   -0.718155\n",
              "generation_gwh_2015   -0.419767\n",
              "generation_gwh_2016   -0.441966\n",
              "generation_gwh_2017   -0.585945\n",
              "generation_gwh_2018   -1.047610\n",
              "dtype: float64"
            ]
          },
          "execution_count": 210,
          "metadata": {},
          "output_type": "execute_result"
        }
      ],
      "source": [
        "x2.skew()"
      ]
    },
    {
      "cell_type": "markdown",
      "id": "8d6b4142",
      "metadata": {
        "id": "8d6b4142"
      },
      "source": [
        "# Scaling the data for model"
      ]
    },
    {
      "cell_type": "code",
      "execution_count": null,
      "id": "e849018b",
      "metadata": {
        "id": "e849018b"
      },
      "outputs": [],
      "source": [
        "sc=StandardScaler()\n",
        "x1 = sc.fit_transform(x1)\n",
        "x2 = sc.fit_transform(x2)"
      ]
    },
    {
      "cell_type": "markdown",
      "id": "018145b5",
      "metadata": {
        "id": "018145b5"
      },
      "source": [
        "# Prediction for capacity_mw"
      ]
    },
    {
      "cell_type": "markdown",
      "id": "0d04de7d",
      "metadata": {
        "id": "0d04de7d"
      },
      "source": [
        "## Random State"
      ]
    },
    {
      "cell_type": "code",
      "execution_count": null,
      "id": "1e0634b8",
      "metadata": {
        "id": "1e0634b8",
        "outputId": "28eb1dd9-9547-4e3f-ba67-0dd83ba1ae4e"
      },
      "outputs": [
        {
          "name": "stdout",
          "output_type": "stream",
          "text": [
            "Max accuracy: \t 0.656550096901843\n",
            "Random State: \t 32\n"
          ]
        }
      ],
      "source": [
        "maxRS = 0\n",
        "maxAcc = 0\n",
        "for i in range(0,100):\n",
        "    x_train, x_test, y_train, y_test = train_test_split(x1, y1, test_size=0.20, random_state=i)\n",
        "    lr = LinearRegression()\n",
        "    lr.fit(x_train,y_train)\n",
        "    pred = lr.predict(x_test)\n",
        "    acc = r2_score(y_test, pred)\n",
        "    if acc>maxAcc:\n",
        "        maxAcc = acc\n",
        "        maxRS = i\n",
        "print(\"Max accuracy: \\t\", maxAcc)\n",
        "print(\"Random State: \\t\", maxRS)"
      ]
    },
    {
      "cell_type": "markdown",
      "id": "4ada0bc8",
      "metadata": {
        "id": "4ada0bc8"
      },
      "source": [
        "Now since we got the best random state for data modelling, we create the test train models"
      ]
    },
    {
      "cell_type": "code",
      "execution_count": null,
      "id": "1f6136c4",
      "metadata": {
        "id": "1f6136c4"
      },
      "outputs": [],
      "source": [
        "x_train, x_test, y_train, y_test = train_test_split(x1, y1, test_size=0.20, random_state=maxRS)"
      ]
    },
    {
      "cell_type": "markdown",
      "id": "a8e77311",
      "metadata": {
        "id": "a8e77311"
      },
      "source": [
        "## Model Predictions"
      ]
    },
    {
      "cell_type": "markdown",
      "id": "8e9c629f",
      "metadata": {
        "id": "8e9c629f"
      },
      "source": [
        "Linear Regression"
      ]
    },
    {
      "cell_type": "code",
      "execution_count": null,
      "id": "97ea168f",
      "metadata": {
        "id": "97ea168f",
        "outputId": "e410b651-fcb0-4aa2-8d14-032c28860dbd"
      },
      "outputs": [
        {
          "name": "stdout",
          "output_type": "stream",
          "text": [
            "r2 score: \t 65.6550096901843\n",
            "Mean Square Error : \t 60341.737119147314\n",
            "Root Mean Square Error : \t 245.6455518000424\n"
          ]
        }
      ],
      "source": [
        "lr = LinearRegression()\n",
        "lr.fit(x_train,y_train)\n",
        "pred = lr.predict(x_test)\n",
        "print(\"r2 score: \\t\", r2_score(y_test,pred)*100)\n",
        "print(\"Mean Square Error : \\t\", mean_squared_error(y_test,pred))\n",
        "print(\"Root Mean Square Error : \\t\", np.sqrt(mean_squared_error(y_test,pred)))"
      ]
    },
    {
      "cell_type": "markdown",
      "id": "719686f9",
      "metadata": {
        "id": "719686f9"
      },
      "source": [
        "Ridge Regression"
      ]
    },
    {
      "cell_type": "code",
      "execution_count": null,
      "id": "a4b49b7a",
      "metadata": {
        "id": "a4b49b7a",
        "outputId": "f229e836-b46a-45d6-88ce-fca69a8c0f44"
      },
      "outputs": [
        {
          "name": "stdout",
          "output_type": "stream",
          "text": [
            "r2 score: \t 65.64485625741834\n",
            "Mean Square Error : \t 60359.57598779436\n",
            "Root Mean Square Error : \t 245.68185929733264\n"
          ]
        }
      ],
      "source": [
        "rr = Ridge()\n",
        "rr.fit(x_train,y_train)\n",
        "pred = rr.predict(x_test)\n",
        "print(\"r2 score: \\t\", r2_score(y_test,pred)*100)\n",
        "print(\"Mean Square Error : \\t\", mean_squared_error(y_test,pred))\n",
        "print(\"Root Mean Square Error : \\t\", np.sqrt(mean_squared_error(y_test,pred)))"
      ]
    },
    {
      "cell_type": "markdown",
      "id": "929ac3d7",
      "metadata": {
        "id": "929ac3d7"
      },
      "source": [
        "KNN MODEL"
      ]
    },
    {
      "cell_type": "code",
      "execution_count": null,
      "id": "cc01910e",
      "metadata": {
        "id": "cc01910e",
        "outputId": "c5def352-b49f-4a89-860a-0332d97dadfc"
      },
      "outputs": [
        {
          "name": "stdout",
          "output_type": "stream",
          "text": [
            "r2 score: \t 84.0439423960076\n",
            "Mean Square Error : \t 28033.673170753875\n",
            "Root Mean Square Error : \t 167.43259291653425\n"
          ]
        }
      ],
      "source": [
        "knn = KNeighborsRegressor()\n",
        "knn.fit(x_train,y_train)\n",
        "pred = knn.predict(x_test)\n",
        "print(\"r2 score: \\t\", r2_score(y_test,pred)*100)\n",
        "print(\"Mean Square Error : \\t\", mean_squared_error(y_test,pred))\n",
        "print(\"Root Mean Square Error : \\t\", np.sqrt(mean_squared_error(y_test,pred)))"
      ]
    },
    {
      "cell_type": "markdown",
      "id": "fd43b903",
      "metadata": {
        "id": "fd43b903"
      },
      "source": [
        "SUPPORT VECTOR MACHINES"
      ]
    },
    {
      "cell_type": "code",
      "execution_count": null,
      "id": "b44e8574",
      "metadata": {
        "id": "b44e8574",
        "outputId": "f036c944-9019-4824-aa1e-c8bc579791ba"
      },
      "outputs": [
        {
          "name": "stdout",
          "output_type": "stream",
          "text": [
            "r2 score: \t -7.0091150341266895\n",
            "Mean Square Error : \t 188007.50358332298\n",
            "Root Mean Square Error : \t 433.59832054947236\n"
          ]
        }
      ],
      "source": [
        "svr = SVR()\n",
        "svr.fit(x_train,y_train)\n",
        "pred = svr.predict(x_test)\n",
        "print(\"r2 score: \\t\", r2_score(y_test,pred)*100)\n",
        "print(\"Mean Square Error : \\t\", mean_squared_error(y_test,pred))\n",
        "print(\"Root Mean Square Error : \\t\", np.sqrt(mean_squared_error(y_test,pred)))"
      ]
    },
    {
      "cell_type": "markdown",
      "id": "4e692b48",
      "metadata": {
        "id": "4e692b48"
      },
      "source": [
        "Random Forest Regressor"
      ]
    },
    {
      "cell_type": "code",
      "execution_count": null,
      "id": "4d983c39",
      "metadata": {
        "id": "4d983c39",
        "outputId": "c2791f2c-5927-488a-d1ea-701a22182e41"
      },
      "outputs": [
        {
          "name": "stdout",
          "output_type": "stream",
          "text": [
            "r2 score: \t 88.55426347968603\n",
            "Mean Square Error : \t 20109.355629849233\n",
            "Root Mean Square Error : \t 141.80745971157242\n"
          ]
        }
      ],
      "source": [
        "rf = RandomForestRegressor()\n",
        "rf.fit(x_train,y_train)\n",
        "pred = rf.predict(x_test)\n",
        "print(\"r2 score: \\t\", r2_score(y_test,pred)*100)\n",
        "print(\"Mean Square Error : \\t\", mean_squared_error(y_test,pred))\n",
        "print(\"Root Mean Square Error : \\t\", np.sqrt(mean_squared_error(y_test,pred)))"
      ]
    },
    {
      "cell_type": "markdown",
      "id": "34245754",
      "metadata": {
        "id": "34245754"
      },
      "source": [
        "Decision Tree Regressor"
      ]
    },
    {
      "cell_type": "code",
      "execution_count": null,
      "id": "f41dd9e9",
      "metadata": {
        "id": "f41dd9e9",
        "outputId": "fe3020fa-2302-4ff8-fd37-aad4c59856b7"
      },
      "outputs": [
        {
          "name": "stdout",
          "output_type": "stream",
          "text": [
            "r2 score: \t 73.62596460665011\n",
            "Mean Square Error : \t 46337.328854094114\n",
            "Root Mean Square Error : \t 215.2610713856412\n"
          ]
        }
      ],
      "source": [
        "dt = DecisionTreeRegressor()\n",
        "dt.fit(x_train,y_train)\n",
        "pred = dt.predict(x_test)\n",
        "print(\"r2 score: \\t\", r2_score(y_test,pred)*100)\n",
        "print(\"Mean Square Error : \\t\", mean_squared_error(y_test,pred))\n",
        "print(\"Root Mean Square Error : \\t\", np.sqrt(mean_squared_error(y_test,pred)))"
      ]
    },
    {
      "cell_type": "markdown",
      "id": "99a15e05",
      "metadata": {
        "id": "99a15e05"
      },
      "source": [
        "Out of all the models Random Forest Regressor and the KNN model has the highest r2_score"
      ]
    },
    {
      "cell_type": "markdown",
      "id": "d5ce5854",
      "metadata": {
        "id": "d5ce5854"
      },
      "source": [
        "## Cross validation"
      ]
    },
    {
      "cell_type": "code",
      "execution_count": null,
      "id": "17a0edb6",
      "metadata": {
        "id": "17a0edb6",
        "outputId": "a2e8c23a-cbad-47d0-bc27-c36c0613363d"
      },
      "outputs": [
        {
          "name": "stdout",
          "output_type": "stream",
          "text": [
            "Cross validation score of Linear Regression is: \t 0.5240540512479015\n"
          ]
        }
      ],
      "source": [
        "scr1 = cross_val_score(lr, x1, y1, cv=5, scoring='r2')\n",
        "print(\"Cross validation score of Linear Regression is: \\t\", scr1.mean())"
      ]
    },
    {
      "cell_type": "code",
      "execution_count": null,
      "id": "3635dd61",
      "metadata": {
        "id": "3635dd61",
        "outputId": "b594e1a6-6147-489d-d614-e94899d00374"
      },
      "outputs": [
        {
          "name": "stdout",
          "output_type": "stream",
          "text": [
            "Cross validation score of Ridge Regression is: \t 0.524414618887123\n"
          ]
        }
      ],
      "source": [
        "scr2 = cross_val_score(rr, x1, y1, cv=5, scoring='r2')\n",
        "print(\"Cross validation score of Ridge Regression is: \\t\", scr2.mean())"
      ]
    },
    {
      "cell_type": "code",
      "execution_count": null,
      "id": "c92fdbec",
      "metadata": {
        "id": "c92fdbec",
        "outputId": "3f62cd13-d4f7-4e15-91a0-c7e2ca281bcd"
      },
      "outputs": [
        {
          "name": "stdout",
          "output_type": "stream",
          "text": [
            "Cross validation score of Decision Tree Regressor is: \t 0.6375924778151253\n"
          ]
        }
      ],
      "source": [
        "scr3 = cross_val_score(dt, x1, y1, cv=5)\n",
        "print(\"Cross validation score of Decision Tree Regressor is: \\t\", scr3.mean())"
      ]
    },
    {
      "cell_type": "code",
      "execution_count": null,
      "id": "9f984017",
      "metadata": {
        "id": "9f984017",
        "outputId": "30a3d107-38cf-42f7-93c6-9c886b595be8"
      },
      "outputs": [
        {
          "name": "stdout",
          "output_type": "stream",
          "text": [
            "Cross validation score of Random Forest Regressor is: \t 0.8148375552235556\n"
          ]
        }
      ],
      "source": [
        "scr4 = cross_val_score(rf, x1, y1, cv=5)\n",
        "print(\"Cross validation score of Random Forest Regressor is: \\t\", scr4.mean())"
      ]
    },
    {
      "cell_type": "code",
      "execution_count": null,
      "id": "ea5ba08d",
      "metadata": {
        "id": "ea5ba08d",
        "outputId": "64900ebf-88b0-42af-e5f2-492a9cee1382"
      },
      "outputs": [
        {
          "name": "stdout",
          "output_type": "stream",
          "text": [
            "Cross validation score of KNeighbour Regressor is: \t 0.734262344198404\n"
          ]
        }
      ],
      "source": [
        "scr5 = cross_val_score(knn, x1, y1, cv=5)\n",
        "print(\"Cross validation score of KNeighbour Regressor is: \\t\", scr5.mean())"
      ]
    },
    {
      "cell_type": "code",
      "execution_count": null,
      "id": "80528caa",
      "metadata": {
        "id": "80528caa",
        "outputId": "25779068-bf95-4f62-d228-a33a6deba105"
      },
      "outputs": [
        {
          "name": "stdout",
          "output_type": "stream",
          "text": [
            "Cross validation score of SVM is: \t -0.0519460169702878\n"
          ]
        }
      ],
      "source": [
        "scr6 = cross_val_score(svr, x1, y1, cv=5)\n",
        "print(\"Cross validation score of SVM is: \\t\", scr6.mean())"
      ]
    },
    {
      "cell_type": "markdown",
      "id": "2f5f4f59",
      "metadata": {
        "id": "2f5f4f59"
      },
      "source": [
        "Random Forest gives the highest cross validation score"
      ]
    },
    {
      "cell_type": "markdown",
      "id": "d9a20097",
      "metadata": {
        "id": "d9a20097"
      },
      "source": [
        "## Hyper Parameter Tuning"
      ]
    },
    {
      "cell_type": "code",
      "execution_count": null,
      "id": "2950b427",
      "metadata": {
        "id": "2950b427",
        "outputId": "0f4a19bf-3056-47a8-c507-2de6b3e67348"
      },
      "outputs": [
        {
          "data": {
            "text/plain": [
              "{'bootstrap': True,\n",
              " 'ccp_alpha': 0.0,\n",
              " 'criterion': 'mse',\n",
              " 'max_depth': None,\n",
              " 'max_features': 'auto',\n",
              " 'max_leaf_nodes': None,\n",
              " 'max_samples': None,\n",
              " 'min_impurity_decrease': 0.0,\n",
              " 'min_impurity_split': None,\n",
              " 'min_samples_leaf': 1,\n",
              " 'min_samples_split': 2,\n",
              " 'min_weight_fraction_leaf': 0.0,\n",
              " 'n_estimators': 100,\n",
              " 'n_jobs': None,\n",
              " 'oob_score': False,\n",
              " 'random_state': None,\n",
              " 'verbose': 0,\n",
              " 'warm_start': False}"
            ]
          },
          "execution_count": 226,
          "metadata": {},
          "output_type": "execute_result"
        }
      ],
      "source": [
        "GridSearchCV.get_params(rf)"
      ]
    },
    {
      "cell_type": "code",
      "execution_count": null,
      "id": "fd3cc306",
      "metadata": {
        "id": "fd3cc306"
      },
      "outputs": [],
      "source": [
        "parameters = {'bootstrap': [True,False],\n",
        "              'max_depth': [10, 20,None],\n",
        "              'max_features': ('auto','sqrt'),\n",
        "              'min_samples_leaf': [1,2],\n",
        "              'min_samples_split': [2,5],\n",
        "              'n_estimators': [100,200]}"
      ]
    },
    {
      "cell_type": "code",
      "execution_count": null,
      "id": "431cfdb0",
      "metadata": {
        "id": "431cfdb0"
      },
      "outputs": [],
      "source": [
        "gcv = GridSearchCV(rf, parameters, cv=5, scoring='r2')"
      ]
    },
    {
      "cell_type": "code",
      "execution_count": null,
      "id": "c2dd5301",
      "metadata": {
        "id": "c2dd5301",
        "outputId": "195df7b3-241f-4c36-8f21-afc8d9431000"
      },
      "outputs": [
        {
          "data": {
            "text/plain": [
              "GridSearchCV(cv=5, estimator=RandomForestRegressor(),\n",
              "             param_grid={'bootstrap': [True, False],\n",
              "                         'max_depth': [10, 20, None],\n",
              "                         'max_features': ('auto', 'sqrt'),\n",
              "                         'min_samples_leaf': [1, 2],\n",
              "                         'min_samples_split': [2, 5],\n",
              "                         'n_estimators': [100, 200]},\n",
              "             scoring='r2')"
            ]
          },
          "execution_count": 230,
          "metadata": {},
          "output_type": "execute_result"
        }
      ],
      "source": [
        "gcv.fit(x_train,y_train)"
      ]
    },
    {
      "cell_type": "code",
      "execution_count": null,
      "id": "ab0e1ff0",
      "metadata": {
        "id": "ab0e1ff0",
        "outputId": "f36bc79f-f722-4d4f-cc16-0492081b5efd"
      },
      "outputs": [
        {
          "name": "stdout",
          "output_type": "stream",
          "text": [
            "Tuned Hyperparameters : {'bootstrap': False, 'max_depth': None, 'max_features': 'sqrt', 'min_samples_leaf': 2, 'min_samples_split': 5, 'n_estimators': 200}\n",
            "Accuracy : 0.8274409166371024\n"
          ]
        }
      ],
      "source": [
        "print(\"Tuned Hyperparameters :\", gcv.best_params_)\n",
        "print(\"Accuracy :\",gcv.best_score_)"
      ]
    },
    {
      "cell_type": "code",
      "execution_count": null,
      "id": "89e9c01e",
      "metadata": {
        "id": "89e9c01e",
        "outputId": "e4a6ad54-7bdb-4f8f-c9bd-edca49f7a8cc"
      },
      "outputs": [
        {
          "data": {
            "text/plain": [
              "0.8883385542788012"
            ]
          },
          "execution_count": 232,
          "metadata": {},
          "output_type": "execute_result"
        }
      ],
      "source": [
        "gcv_pred = gcv.best_estimator_.predict(x_test)\n",
        "r2_score(y_test,gcv_pred)"
      ]
    },
    {
      "cell_type": "markdown",
      "id": "27167c4c",
      "metadata": {
        "id": "27167c4c"
      },
      "source": [
        "We see that the efficiency has increased and hence we will save this model"
      ]
    },
    {
      "cell_type": "markdown",
      "id": "8fe1cfe2",
      "metadata": {
        "id": "8fe1cfe2"
      },
      "source": [
        "## Saving the best model"
      ]
    },
    {
      "cell_type": "code",
      "execution_count": null,
      "id": "3232ada0",
      "metadata": {
        "id": "3232ada0",
        "outputId": "4125bce1-26cb-4a7b-d192-4d23c39e2872"
      },
      "outputs": [
        {
          "data": {
            "text/plain": [
              "['global_capacity.pkl']"
            ]
          },
          "execution_count": 233,
          "metadata": {},
          "output_type": "execute_result"
        }
      ],
      "source": [
        "joblib.dump(gcv.best_estimator_,\"global_capacity.pkl\")"
      ]
    },
    {
      "cell_type": "markdown",
      "id": "3ce93fb1",
      "metadata": {
        "id": "3ce93fb1"
      },
      "source": [
        "# Prediction for primary_fuel"
      ]
    },
    {
      "cell_type": "markdown",
      "id": "ca52c72c",
      "metadata": {
        "id": "ca52c72c"
      },
      "source": [
        "## Best Random State"
      ]
    },
    {
      "cell_type": "code",
      "execution_count": null,
      "id": "b00c0bde",
      "metadata": {
        "id": "b00c0bde",
        "outputId": "3324861d-ee3f-4349-d306-3ab5e75f5971"
      },
      "outputs": [
        {
          "name": "stdout",
          "output_type": "stream",
          "text": [
            "Max accuracy: \t 0.7529411764705882\n",
            "Random State: \t 70\n"
          ]
        }
      ],
      "source": [
        "maxRS = 0\n",
        "maxAcc = 0\n",
        "for i in range(40,100):\n",
        "    x_train, x_test, y_train, y_test = train_test_split(x2, y2, test_size=0.20, random_state=i)\n",
        "    lr2 = LogisticRegression()\n",
        "    lr2.fit(x_train,y_train)\n",
        "    pred = lr2.predict(x_test)\n",
        "    acc = accuracy_score(y_test, pred)\n",
        "    if acc>maxAcc:\n",
        "        maxAcc = acc\n",
        "        maxRS = i\n",
        "print(\"Max accuracy: \\t\", maxAcc)\n",
        "print(\"Random State: \\t\", maxRS)"
      ]
    },
    {
      "cell_type": "markdown",
      "id": "e13231c4",
      "metadata": {
        "id": "e13231c4"
      },
      "source": [
        "Now since we got the best random state for data modelling, we create the test train models"
      ]
    },
    {
      "cell_type": "code",
      "execution_count": null,
      "id": "1b3f6540",
      "metadata": {
        "id": "1b3f6540"
      },
      "outputs": [],
      "source": [
        "x_train, x_test, y_train, y_test = train_test_split(x2, y2, test_size=0.20, random_state=maxRS)"
      ]
    },
    {
      "cell_type": "markdown",
      "id": "406e479a",
      "metadata": {
        "id": "406e479a"
      },
      "source": [
        "## Model Predictions"
      ]
    },
    {
      "cell_type": "markdown",
      "id": "f1aaf065",
      "metadata": {
        "id": "f1aaf065"
      },
      "source": [
        "Logistic Regression"
      ]
    },
    {
      "cell_type": "code",
      "execution_count": null,
      "id": "f088103f",
      "metadata": {
        "id": "f088103f",
        "outputId": "fe8df8df-761c-4570-ae9c-12e325daeaba"
      },
      "outputs": [
        {
          "name": "stdout",
          "output_type": "stream",
          "text": [
            "Accuracy: \t 75.29411764705883\n",
            "[[ 7  4  0  2  0  0  0  0]\n",
            " [ 2 36  0  6  0  0  0  0]\n",
            " [ 0  3  4  1  0  1  0  1]\n",
            " [ 0  8  0 36  0  1  0  0]\n",
            " [ 0  1  0  0  0  0  0  0]\n",
            " [ 0  1  0  0  0  1  0  0]\n",
            " [ 0  0  0  0  0  0 20  5]\n",
            " [ 1  0  0  0  0  0  5 24]]\n",
            "              precision    recall  f1-score   support\n",
            "\n",
            "         0.0       0.70      0.54      0.61        13\n",
            "         1.0       0.68      0.82      0.74        44\n",
            "         2.0       1.00      0.40      0.57        10\n",
            "         3.0       0.80      0.80      0.80        45\n",
            "         4.0       0.00      0.00      0.00         1\n",
            "         5.0       0.33      0.50      0.40         2\n",
            "         6.0       0.80      0.80      0.80        25\n",
            "         7.0       0.80      0.80      0.80        30\n",
            "\n",
            "    accuracy                           0.75       170\n",
            "   macro avg       0.64      0.58      0.59       170\n",
            "weighted avg       0.76      0.75      0.75       170\n",
            "\n"
          ]
        }
      ],
      "source": [
        "lr2 = LogisticRegression()\n",
        "lr2.fit(x_train,y_train)\n",
        "pred = lr2.predict(x_test)\n",
        "print(\"Accuracy: \\t\", accuracy_score(y_test,pred)*100)\n",
        "print(confusion_matrix(y_test,pred))\n",
        "print(classification_report(y_test,pred))"
      ]
    },
    {
      "cell_type": "markdown",
      "id": "a4182135",
      "metadata": {
        "id": "a4182135"
      },
      "source": [
        "K-Nearest Neighbors"
      ]
    },
    {
      "cell_type": "code",
      "execution_count": null,
      "id": "376f0cfa",
      "metadata": {
        "id": "376f0cfa",
        "outputId": "4180fc65-3ff2-44cf-e537-8011644635ca"
      },
      "outputs": [
        {
          "name": "stdout",
          "output_type": "stream",
          "text": [
            "Accuracy: \t 71.17647058823529\n",
            "[[ 9  2  2  0  0  0  0  0]\n",
            " [ 3 35  1  4  0  1  0  0]\n",
            " [ 0  4  2  2  0  2  0  0]\n",
            " [ 0  5  2 38  0  0  0  0]\n",
            " [ 0  1  0  0  0  0  0  0]\n",
            " [ 1  0  0  1  0  0  0  0]\n",
            " [ 1  2  0  0  0  0 17  5]\n",
            " [ 0  2  2  0  0  0  6 20]]\n",
            "              precision    recall  f1-score   support\n",
            "\n",
            "         0.0       0.64      0.69      0.67        13\n",
            "         1.0       0.69      0.80      0.74        44\n",
            "         2.0       0.22      0.20      0.21        10\n",
            "         3.0       0.84      0.84      0.84        45\n",
            "         4.0       0.00      0.00      0.00         1\n",
            "         5.0       0.00      0.00      0.00         2\n",
            "         6.0       0.74      0.68      0.71        25\n",
            "         7.0       0.80      0.67      0.73        30\n",
            "\n",
            "    accuracy                           0.71       170\n",
            "   macro avg       0.49      0.48      0.49       170\n",
            "weighted avg       0.71      0.71      0.71       170\n",
            "\n"
          ]
        }
      ],
      "source": [
        "knn2 = KNeighborsClassifier()\n",
        "knn2.fit(x_train, y_train)\n",
        "pred = knn2.predict(x_test)\n",
        "print(\"Accuracy: \\t\", accuracy_score(y_test,pred)*100)\n",
        "print(confusion_matrix(y_test,pred))\n",
        "print(classification_report(y_test,pred))"
      ]
    },
    {
      "cell_type": "markdown",
      "id": "34201c05",
      "metadata": {
        "id": "34201c05"
      },
      "source": [
        "Support Vector Classifier"
      ]
    },
    {
      "cell_type": "code",
      "execution_count": null,
      "id": "6a457bf3",
      "metadata": {
        "id": "6a457bf3",
        "outputId": "a4d6a551-5e9a-44cd-a983-1d991c73dfc2"
      },
      "outputs": [
        {
          "name": "stdout",
          "output_type": "stream",
          "text": [
            "Accuracy: \t 76.47058823529412\n",
            "[[10  2  0  0  0  0  0  1]\n",
            " [ 2 37  0  5  0  0  0  0]\n",
            " [ 1  5  2  1  0  1  0  0]\n",
            " [ 0  4  0 40  0  1  0  0]\n",
            " [ 0  1  0  0  0  0  0  0]\n",
            " [ 1  0  0  0  0  1  0  0]\n",
            " [ 0  1  0  0  0  0 17  7]\n",
            " [ 2  1  0  0  0  0  4 23]]\n",
            "              precision    recall  f1-score   support\n",
            "\n",
            "         0.0       0.62      0.77      0.69        13\n",
            "         1.0       0.73      0.84      0.78        44\n",
            "         2.0       1.00      0.20      0.33        10\n",
            "         3.0       0.87      0.89      0.88        45\n",
            "         4.0       0.00      0.00      0.00         1\n",
            "         5.0       0.33      0.50      0.40         2\n",
            "         6.0       0.81      0.68      0.74        25\n",
            "         7.0       0.74      0.77      0.75        30\n",
            "\n",
            "    accuracy                           0.76       170\n",
            "   macro avg       0.64      0.58      0.57       170\n",
            "weighted avg       0.78      0.76      0.75       170\n",
            "\n"
          ]
        }
      ],
      "source": [
        "svc2 = SVC()\n",
        "svc2.fit(x_train, y_train)\n",
        "pred = svc2.predict(x_test)\n",
        "print(\"Accuracy: \\t\", accuracy_score(y_test,pred)*100)\n",
        "print(confusion_matrix(y_test,pred))\n",
        "print(classification_report(y_test,pred))"
      ]
    },
    {
      "cell_type": "markdown",
      "id": "8f14b304",
      "metadata": {
        "id": "8f14b304"
      },
      "source": [
        "Decision Tree Classifier"
      ]
    },
    {
      "cell_type": "code",
      "execution_count": null,
      "id": "de98f695",
      "metadata": {
        "id": "de98f695",
        "outputId": "33619635-4556-417e-820e-77140cb55448"
      },
      "outputs": [
        {
          "name": "stdout",
          "output_type": "stream",
          "text": [
            "Accuracy: \t 83.52941176470588\n",
            "[[11  2  0  0  0  0  0  0]\n",
            " [ 3 31  6  4  0  0  0  0]\n",
            " [ 0  1  6  2  0  1  0  0]\n",
            " [ 0  3  2 37  0  3  0  0]\n",
            " [ 0  1  0  0  0  0  0  0]\n",
            " [ 0  0  0  0  0  2  0  0]\n",
            " [ 0  0  0  0  0  0 25  0]\n",
            " [ 0  0  0  0  0  0  0 30]]\n",
            "              precision    recall  f1-score   support\n",
            "\n",
            "         0.0       0.79      0.85      0.81        13\n",
            "         1.0       0.82      0.70      0.76        44\n",
            "         2.0       0.43      0.60      0.50        10\n",
            "         3.0       0.86      0.82      0.84        45\n",
            "         4.0       0.00      0.00      0.00         1\n",
            "         5.0       0.33      1.00      0.50         2\n",
            "         6.0       1.00      1.00      1.00        25\n",
            "         7.0       1.00      1.00      1.00        30\n",
            "\n",
            "    accuracy                           0.84       170\n",
            "   macro avg       0.65      0.75      0.68       170\n",
            "weighted avg       0.85      0.84      0.84       170\n",
            "\n"
          ]
        }
      ],
      "source": [
        "dt2 = DecisionTreeClassifier()\n",
        "dt2.fit(x_train,y_train)\n",
        "pred = dt2.predict(x_test)\n",
        "print(\"Accuracy: \\t\", accuracy_score(y_test,pred)*100)\n",
        "print(confusion_matrix(y_test,pred))\n",
        "print(classification_report(y_test,pred))"
      ]
    },
    {
      "cell_type": "markdown",
      "id": "7d8d5cbc",
      "metadata": {
        "id": "7d8d5cbc"
      },
      "source": [
        "Random Forest Classifier"
      ]
    },
    {
      "cell_type": "code",
      "execution_count": null,
      "id": "a90f2712",
      "metadata": {
        "id": "a90f2712",
        "outputId": "173e84b2-94eb-4d4d-e198-de483573bb16"
      },
      "outputs": [
        {
          "name": "stdout",
          "output_type": "stream",
          "text": [
            "Accuracy: \t 89.41176470588236\n",
            "[[11  2  0  0  0  0  0  0]\n",
            " [ 2 39  0  3  0  0  0  0]\n",
            " [ 0  4  5  0  0  1  0  0]\n",
            " [ 0  2  1 41  0  1  0  0]\n",
            " [ 0  1  0  0  0  0  0  0]\n",
            " [ 0  1  0  0  0  1  0  0]\n",
            " [ 0  0  0  0  0  0 25  0]\n",
            " [ 0  0  0  0  0  0  0 30]]\n",
            "              precision    recall  f1-score   support\n",
            "\n",
            "         0.0       0.85      0.85      0.85        13\n",
            "         1.0       0.80      0.89      0.84        44\n",
            "         2.0       0.83      0.50      0.62        10\n",
            "         3.0       0.93      0.91      0.92        45\n",
            "         4.0       0.00      0.00      0.00         1\n",
            "         5.0       0.33      0.50      0.40         2\n",
            "         6.0       1.00      1.00      1.00        25\n",
            "         7.0       1.00      1.00      1.00        30\n",
            "\n",
            "    accuracy                           0.89       170\n",
            "   macro avg       0.72      0.71      0.70       170\n",
            "weighted avg       0.89      0.89      0.89       170\n",
            "\n"
          ]
        }
      ],
      "source": [
        "rf2 = RandomForestClassifier()\n",
        "rf2.fit(x_train,y_train)\n",
        "pred = rf2.predict(x_test)\n",
        "print(\"Accuracy: \\t\", accuracy_score(y_test,pred)*100)\n",
        "print(confusion_matrix(y_test,pred))\n",
        "print(classification_report(y_test,pred))"
      ]
    },
    {
      "cell_type": "markdown",
      "id": "eec1c869",
      "metadata": {
        "id": "eec1c869"
      },
      "source": [
        "We see that the Random Forest Classifier and the Decision Tree Classifier model gives the most efficiency"
      ]
    },
    {
      "cell_type": "markdown",
      "id": "c2338aed",
      "metadata": {
        "id": "c2338aed"
      },
      "source": [
        "## Cross Validation"
      ]
    },
    {
      "cell_type": "code",
      "execution_count": null,
      "id": "90115a1b",
      "metadata": {
        "id": "90115a1b",
        "outputId": "7750c88f-0d2d-4f4e-a0fd-0e01117836c7"
      },
      "outputs": [
        {
          "name": "stdout",
          "output_type": "stream",
          "text": [
            "Cross validation score of Logistic Regression is: \t 0.6633623390184477\n"
          ]
        }
      ],
      "source": [
        "scr1 = cross_val_score(lr2, x2, y2, cv=5)\n",
        "print(\"Cross validation score of Logistic Regression is: \\t\", scr1.mean())"
      ]
    },
    {
      "cell_type": "code",
      "execution_count": null,
      "id": "60cabcee",
      "metadata": {
        "id": "60cabcee",
        "outputId": "f2542ded-1313-4006-904b-a867c3cd3196"
      },
      "outputs": [
        {
          "name": "stdout",
          "output_type": "stream",
          "text": [
            "Cross validation score of KNN is: \t 0.6185172293769579\n"
          ]
        }
      ],
      "source": [
        "scr2 = cross_val_score(knn2, x2, y2, cv=5)\n",
        "print(\"Cross validation score of KNN is: \\t\", scr2.mean())"
      ]
    },
    {
      "cell_type": "code",
      "execution_count": null,
      "id": "8a8bba42",
      "metadata": {
        "id": "8a8bba42",
        "outputId": "a7dc36fa-ba6d-4c2b-81a4-55f7a6f471d6"
      },
      "outputs": [
        {
          "name": "stdout",
          "output_type": "stream",
          "text": [
            "Cross validation score of SVC is: \t 0.6858684302123217\n"
          ]
        }
      ],
      "source": [
        "scr3 = cross_val_score(svc2, x2, y2, cv=5)\n",
        "print(\"Cross validation score of SVC is: \\t\", scr3.mean())"
      ]
    },
    {
      "cell_type": "code",
      "execution_count": null,
      "id": "e1376fc4",
      "metadata": {
        "id": "e1376fc4",
        "outputId": "515b874e-cdb6-4449-e741-7eef615aa42e"
      },
      "outputs": [
        {
          "name": "stdout",
          "output_type": "stream",
          "text": [
            "Cross validation score of Decision Tree is: \t 0.7556282631395754\n"
          ]
        }
      ],
      "source": [
        "scr4 = cross_val_score(dt2, x2, y2, cv=5)\n",
        "print(\"Cross validation score of Decision Tree is: \\t\", scr4.mean())"
      ]
    },
    {
      "cell_type": "code",
      "execution_count": null,
      "id": "7bfc9abe",
      "metadata": {
        "id": "7bfc9abe",
        "outputId": "1ad758c9-196b-442e-c229-4353cc75a04a"
      },
      "outputs": [
        {
          "name": "stdout",
          "output_type": "stream",
          "text": [
            "Cross validation score of Random Forest is: \t 0.8027775844065437\n"
          ]
        }
      ],
      "source": [
        "scr5 = cross_val_score(rf2, x2, y2, cv=5)\n",
        "print(\"Cross validation score of Random Forest is: \\t\", scr5.mean())"
      ]
    },
    {
      "cell_type": "markdown",
      "id": "be733287",
      "metadata": {
        "id": "be733287"
      },
      "source": [
        "We can see that 'Random Forest' performs the best among other"
      ]
    },
    {
      "cell_type": "markdown",
      "id": "f2ab2c31",
      "metadata": {
        "id": "f2ab2c31"
      },
      "source": [
        "## Hyper Parameter Tuning"
      ]
    },
    {
      "cell_type": "code",
      "execution_count": null,
      "id": "ee1c6a3f",
      "metadata": {
        "id": "ee1c6a3f",
        "outputId": "7106c549-475d-4f62-aae7-d3b933783601"
      },
      "outputs": [
        {
          "data": {
            "text/plain": [
              "{'bootstrap': True,\n",
              " 'ccp_alpha': 0.0,\n",
              " 'class_weight': None,\n",
              " 'criterion': 'gini',\n",
              " 'max_depth': None,\n",
              " 'max_features': 'auto',\n",
              " 'max_leaf_nodes': None,\n",
              " 'max_samples': None,\n",
              " 'min_impurity_decrease': 0.0,\n",
              " 'min_impurity_split': None,\n",
              " 'min_samples_leaf': 1,\n",
              " 'min_samples_split': 2,\n",
              " 'min_weight_fraction_leaf': 0.0,\n",
              " 'n_estimators': 100,\n",
              " 'n_jobs': None,\n",
              " 'oob_score': False,\n",
              " 'random_state': None,\n",
              " 'verbose': 0,\n",
              " 'warm_start': False}"
            ]
          },
          "execution_count": 246,
          "metadata": {},
          "output_type": "execute_result"
        }
      ],
      "source": [
        "GridSearchCV.get_params(rf2)"
      ]
    },
    {
      "cell_type": "code",
      "execution_count": null,
      "id": "73296d9e",
      "metadata": {
        "id": "73296d9e"
      },
      "outputs": [],
      "source": [
        "parameters = {'bootstrap': [True, False],\n",
        "              'max_depth': [10, 20, None],\n",
        "              'max_features': ('auto','sqrt'),\n",
        "              'min_samples_leaf': [1,2],\n",
        "              'min_samples_split': [2,3],\n",
        "              'n_estimators': [100,200]}"
      ]
    },
    {
      "cell_type": "code",
      "execution_count": null,
      "id": "9c3991a5",
      "metadata": {
        "id": "9c3991a5"
      },
      "outputs": [],
      "source": [
        "gcv2 = GridSearchCV(rf2, parameters, cv=5, scoring='accuracy')"
      ]
    },
    {
      "cell_type": "code",
      "execution_count": null,
      "id": "80926e40",
      "metadata": {
        "id": "80926e40",
        "outputId": "4fafaf22-d9c2-43f7-b703-3e994ce95d9e"
      },
      "outputs": [
        {
          "data": {
            "text/plain": [
              "GridSearchCV(cv=5, estimator=RandomForestClassifier(),\n",
              "             param_grid={'bootstrap': [True, False],\n",
              "                         'max_depth': [10, 20, None],\n",
              "                         'max_features': ('auto', 'sqrt'),\n",
              "                         'min_samples_leaf': [1, 2],\n",
              "                         'min_samples_split': [2, 3],\n",
              "                         'n_estimators': [100, 200]},\n",
              "             scoring='accuracy')"
            ]
          },
          "execution_count": 250,
          "metadata": {},
          "output_type": "execute_result"
        }
      ],
      "source": [
        "gcv2.fit(x_train,y_train)"
      ]
    },
    {
      "cell_type": "code",
      "execution_count": null,
      "id": "303f3ecf",
      "metadata": {
        "id": "303f3ecf",
        "outputId": "cb57ef01-1327-4fa8-b792-69d528e3a469"
      },
      "outputs": [
        {
          "data": {
            "text/plain": [
              "0.8138997821350763"
            ]
          },
          "execution_count": 251,
          "metadata": {},
          "output_type": "execute_result"
        }
      ],
      "source": [
        "gcv2.best_score_"
      ]
    },
    {
      "cell_type": "code",
      "execution_count": null,
      "id": "752212d9",
      "metadata": {
        "id": "752212d9",
        "outputId": "1bf9df82-7f79-4967-93cd-081e9d14577f"
      },
      "outputs": [
        {
          "data": {
            "text/plain": [
              "{'bootstrap': False,\n",
              " 'max_depth': 10,\n",
              " 'max_features': 'auto',\n",
              " 'min_samples_leaf': 1,\n",
              " 'min_samples_split': 2,\n",
              " 'n_estimators': 100}"
            ]
          },
          "execution_count": 252,
          "metadata": {},
          "output_type": "execute_result"
        }
      ],
      "source": [
        "gcv2.best_params_"
      ]
    },
    {
      "cell_type": "code",
      "execution_count": null,
      "id": "0b8b9f3b",
      "metadata": {
        "id": "0b8b9f3b",
        "outputId": "47e38aeb-1489-4fa2-ce14-e86e39b2bdf4"
      },
      "outputs": [
        {
          "data": {
            "text/plain": [
              "0.8941176470588236"
            ]
          },
          "execution_count": 253,
          "metadata": {},
          "output_type": "execute_result"
        }
      ],
      "source": [
        "gcv_pred = gcv2.best_estimator_.predict(x_test)\n",
        "accuracy_score(y_test,gcv_pred)"
      ]
    },
    {
      "cell_type": "markdown",
      "id": "465d5604",
      "metadata": {
        "id": "465d5604"
      },
      "source": [
        "gcv best estimator gives the efficiency of 89.41% and we shall save this model"
      ]
    },
    {
      "cell_type": "markdown",
      "id": "15125b8a",
      "metadata": {
        "id": "15125b8a"
      },
      "source": [
        "## Saving the best model"
      ]
    },
    {
      "cell_type": "code",
      "execution_count": null,
      "id": "8f9c1ba1",
      "metadata": {
        "id": "8f9c1ba1",
        "outputId": "8bdb48c1-afba-4a48-8575-5887803afc32"
      },
      "outputs": [
        {
          "data": {
            "text/plain": [
              "['global_fuel.pkl']"
            ]
          },
          "execution_count": 254,
          "metadata": {},
          "output_type": "execute_result"
        }
      ],
      "source": [
        "joblib.dump(gcv2.best_estimator_,\"global_fuel.pkl\")"
      ]
    },
    {
      "cell_type": "code",
      "execution_count": null,
      "id": "7b472ee8",
      "metadata": {
        "id": "7b472ee8"
      },
      "outputs": [],
      "source": []
    }
  ],
  "metadata": {
    "kernelspec": {
      "display_name": "Python 3",
      "language": "python",
      "name": "python3"
    },
    "language_info": {
      "codemirror_mode": {
        "name": "ipython",
        "version": 3
      },
      "file_extension": ".py",
      "mimetype": "text/x-python",
      "name": "python",
      "nbconvert_exporter": "python",
      "pygments_lexer": "ipython3",
      "version": "3.8.8"
    },
    "colab": {
      "provenance": []
    }
  },
  "nbformat": 4,
  "nbformat_minor": 5
}